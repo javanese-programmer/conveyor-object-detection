{
  "nbformat": 4,
  "nbformat_minor": 0,
  "metadata": {
    "colab": {
      "provenance": [],
      "gpuType": "T4"
    },
    "kernelspec": {
      "name": "python3",
      "display_name": "Python 3"
    },
    "language_info": {
      "name": "python"
    },
    "accelerator": "GPU"
  },
  "cells": [
    {
      "cell_type": "markdown",
      "source": [
        "**NOTE!** <br>\n",
        "Once, there were two ways to develop a computer vision model using TFLite Model Maker. But now, the second way can cause *an error*. So, I recommend using *the first way* instead."
      ],
      "metadata": {
        "id": "ygMb0S0j-3aK"
      }
    },
    {
      "cell_type": "markdown",
      "source": [
        "# First Way"
      ],
      "metadata": {
        "id": "CKyCl3fAFwBU"
      }
    },
    {
      "cell_type": "markdown",
      "source": [
        "## Prequisites"
      ],
      "metadata": {
        "id": "C8YY6O9dYaPe"
      }
    },
    {
      "cell_type": "markdown",
      "source": [
        "### Prepare Environment"
      ],
      "metadata": {
        "id": "CEJal9D0Gz01"
      }
    },
    {
      "cell_type": "code",
      "source": [
        "%env PYTHONPATH = # /env/python"
      ],
      "metadata": {
        "colab": {
          "base_uri": "https://localhost:8080/"
        },
        "id": "3WPGKKczCCGS",
        "outputId": "c700b84e-01e9-4215-9579-6f08c52492be"
      },
      "execution_count": 1,
      "outputs": [
        {
          "output_type": "stream",
          "name": "stdout",
          "text": [
            "env: PYTHONPATH=# /env/python\n"
          ]
        }
      ]
    },
    {
      "cell_type": "code",
      "source": [
        "!wget https://repo.anaconda.com/miniconda/Miniconda3-py39_23.3.1-0-Linux-x86_64.sh\n",
        "!chmod +x Miniconda3-py39_23.3.1-0-Linux-x86_64.sh\n",
        "!./Miniconda3-py39_23.3.1-0-Linux-x86_64.sh -b -f -p /usr/local\n",
        "!conda update conda"
      ],
      "metadata": {
        "colab": {
          "base_uri": "https://localhost:8080/"
        },
        "id": "7qRfsrdZCEMK",
        "outputId": "d3343860-6996-4e39-a7d8-d5d4afec6819"
      },
      "execution_count": 2,
      "outputs": [
        {
          "output_type": "stream",
          "name": "stdout",
          "text": [
            "--2024-01-24 08:03:50--  https://repo.anaconda.com/miniconda/Miniconda3-py39_23.3.1-0-Linux-x86_64.sh\n",
            "Resolving repo.anaconda.com (repo.anaconda.com)... 104.16.130.3, 104.16.131.3, 2606:4700::6810:8203, ...\n",
            "Connecting to repo.anaconda.com (repo.anaconda.com)|104.16.130.3|:443... connected.\n",
            "HTTP request sent, awaiting response... 200 OK\n",
            "Length: 70605094 (67M) [application/x-sh]\n",
            "Saving to: ‘Miniconda3-py39_23.3.1-0-Linux-x86_64.sh’\n",
            "\n",
            "Miniconda3-py39_23. 100%[===================>]  67.33M   166MB/s    in 0.4s    \n",
            "\n",
            "2024-01-24 08:03:50 (166 MB/s) - ‘Miniconda3-py39_23.3.1-0-Linux-x86_64.sh’ saved [70605094/70605094]\n",
            "\n",
            "PREFIX=/usr/local\n",
            "Unpacking payload ...\n",
            "                                                                               \n",
            "Installing base environment...\n",
            "\n",
            "\n",
            "Downloading and Extracting Packages\n",
            "\n",
            "\n",
            "Downloading and Extracting Packages\n",
            "\n",
            "Preparing transaction: - \b\b\\ \b\b| \b\b/ \b\bdone\n",
            "Executing transaction: \\ \b\b| \b\b/ \b\b- \b\b\\ \b\b| \b\b/ \b\b- \b\b\\ \b\b| \b\b/ \b\b- \b\b\\ \b\b| \b\b/ \b\b- \b\b\\ \b\b| \b\b/ \b\b- \b\b\\ \b\b| \b\bdone\n",
            "installation finished.\n",
            "WARNING:\n",
            "    You currently have a PYTHONPATH environment variable set. This may cause\n",
            "    unexpected behavior when running the Python interpreter in Miniconda3.\n",
            "    For best results, please verify that your PYTHONPATH only points to\n",
            "    directories of packages that are compatible with the Python interpreter\n",
            "    in Miniconda3: /usr/local\n",
            "Collecting package metadata (current_repodata.json): - \b\b\\ \b\b| \b\b/ \b\b- \b\b\\ \b\b| \b\b/ \b\b- \b\b\\ \b\b| \b\b/ \b\b- \b\b\\ \b\b| \b\b/ \b\b- \b\b\\ \b\b| \b\b/ \b\b- \b\b\\ \b\b| \b\b/ \b\b- \b\b\\ \b\b| \b\b/ \b\b- \b\b\\ \b\b| \b\b/ \b\b- \b\b\\ \b\b| \b\b/ \b\b- \b\b\\ \b\bdone\n",
            "Solving environment: / \b\b- \b\b\\ \b\b| \b\b/ \b\b- \b\b\\ \b\b| \b\b/ \b\b- \b\b\\ \b\b| \b\b/ \b\b- \b\b\\ \b\b| \b\b/ \b\b- \b\b\\ \b\b| \b\b/ \b\b- \b\b\\ \b\b| \b\b/ \b\b- \b\b\\ \b\b| \b\b/ \b\b- \b\b\\ \b\b| \b\bdone\n",
            "\n",
            "## Package Plan ##\n",
            "\n",
            "  environment location: /usr/local\n",
            "\n",
            "  added / updated specs:\n",
            "    - conda\n",
            "\n",
            "\n",
            "The following packages will be downloaded:\n",
            "\n",
            "    package                    |            build\n",
            "    ---------------------------|-----------------\n",
            "    archspec-0.2.1             |     pyhd3eb1b0_0          39 KB\n",
            "    brotli-python-1.0.9        |   py39h6a678d5_7         330 KB\n",
            "    bzip2-1.0.8                |       h7b6447c_0          78 KB\n",
            "    c-ares-1.19.1              |       h5eee18b_0         118 KB\n",
            "    ca-certificates-2023.12.12 |       h06a4308_0         126 KB\n",
            "    certifi-2023.11.17         |   py39h06a4308_0         158 KB\n",
            "    cffi-1.16.0                |   py39h5eee18b_0         251 KB\n",
            "    conda-23.11.0              |   py39h06a4308_0         986 KB\n",
            "    conda-libmamba-solver-23.12.0|     pyhd3eb1b0_1          46 KB\n",
            "    conda-package-handling-2.2.0|   py39h06a4308_0         267 KB\n",
            "    conda-package-streaming-0.9.0|   py39h06a4308_0          27 KB\n",
            "    cryptography-41.0.7        |   py39hdda0065_0         2.0 MB\n",
            "    distro-1.8.0               |   py39h06a4308_0          31 KB\n",
            "    fmt-9.1.0                  |       hdb19cb5_0         194 KB\n",
            "    icu-73.1                   |       h6a678d5_0        25.9 MB\n",
            "    krb5-1.20.1                |       h143b758_1         1.3 MB\n",
            "    libarchive-3.6.2           |       h6ac8c49_2         900 KB\n",
            "    libcurl-8.5.0              |       h251f7ec_0         416 KB\n",
            "    libedit-3.1.20230828       |       h5eee18b_0         179 KB\n",
            "    libev-4.33                 |       h7f8727e_1         111 KB\n",
            "    libffi-3.4.4               |       h6a678d5_0         142 KB\n",
            "    libmamba-1.5.6             |       haf1ee3a_0         1.8 MB\n",
            "    libmambapy-1.5.6           |   py39h2dafd23_0         315 KB\n",
            "    libnghttp2-1.57.0          |       h2d74bed_0         674 KB\n",
            "    libsolv-0.7.24             |       he621ea3_0         492 KB\n",
            "    libssh2-1.10.0             |       hdbd6064_2         292 KB\n",
            "    libxml2-2.10.4             |       hf1b16e4_1         753 KB\n",
            "    lz4-c-1.9.4                |       h6a678d5_0         154 KB\n",
            "    menuinst-2.0.1             |   py39h06a4308_1         136 KB\n",
            "    openssl-3.0.12             |       h7f8727e_0         5.2 MB\n",
            "    packaging-23.1             |   py39h06a4308_0          77 KB\n",
            "    pcre2-10.42                |       hebb0a14_0         1.5 MB\n",
            "    platformdirs-3.10.0        |   py39h06a4308_0          33 KB\n",
            "    pybind11-abi-4             |       hd3eb1b0_1          14 KB\n",
            "    pycosat-0.6.6              |   py39h5eee18b_0          94 KB\n",
            "    pyopenssl-23.2.0           |   py39h06a4308_0          96 KB\n",
            "    python-3.9.18              |       h955ad1f_0        25.1 MB\n",
            "    reproc-14.2.4              |       h295c915_1          30 KB\n",
            "    reproc-cpp-14.2.4          |       h295c915_1          22 KB\n",
            "    requests-2.31.0            |   py39h06a4308_0          96 KB\n",
            "    sqlite-3.41.2              |       h5eee18b_0         1.2 MB\n",
            "    tzdata-2023d               |       h04d1e81_0         117 KB\n",
            "    urllib3-1.26.18            |   py39h06a4308_0         198 KB\n",
            "    xz-5.4.5                   |       h5eee18b_0         646 KB\n",
            "    yaml-cpp-0.8.0             |       h6a678d5_0         607 KB\n",
            "    zstd-1.5.5                 |       hc292b87_0         647 KB\n",
            "    ------------------------------------------------------------\n",
            "                                           Total:        73.7 MB\n",
            "\n",
            "The following NEW packages will be INSTALLED:\n",
            "\n",
            "  archspec           pkgs/main/noarch::archspec-0.2.1-pyhd3eb1b0_0 \n",
            "  brotli-python      pkgs/main/linux-64::brotli-python-1.0.9-py39h6a678d5_7 \n",
            "  bzip2              pkgs/main/linux-64::bzip2-1.0.8-h7b6447c_0 \n",
            "  c-ares             pkgs/main/linux-64::c-ares-1.19.1-h5eee18b_0 \n",
            "  conda-libmamba-so~ pkgs/main/noarch::conda-libmamba-solver-23.12.0-pyhd3eb1b0_1 \n",
            "  distro             pkgs/main/linux-64::distro-1.8.0-py39h06a4308_0 \n",
            "  fmt                pkgs/main/linux-64::fmt-9.1.0-hdb19cb5_0 \n",
            "  icu                pkgs/main/linux-64::icu-73.1-h6a678d5_0 \n",
            "  krb5               pkgs/main/linux-64::krb5-1.20.1-h143b758_1 \n",
            "  libarchive         pkgs/main/linux-64::libarchive-3.6.2-h6ac8c49_2 \n",
            "  libcurl            pkgs/main/linux-64::libcurl-8.5.0-h251f7ec_0 \n",
            "  libedit            pkgs/main/linux-64::libedit-3.1.20230828-h5eee18b_0 \n",
            "  libev              pkgs/main/linux-64::libev-4.33-h7f8727e_1 \n",
            "  libmamba           pkgs/main/linux-64::libmamba-1.5.6-haf1ee3a_0 \n",
            "  libmambapy         pkgs/main/linux-64::libmambapy-1.5.6-py39h2dafd23_0 \n",
            "  libnghttp2         pkgs/main/linux-64::libnghttp2-1.57.0-h2d74bed_0 \n",
            "  libsolv            pkgs/main/linux-64::libsolv-0.7.24-he621ea3_0 \n",
            "  libssh2            pkgs/main/linux-64::libssh2-1.10.0-hdbd6064_2 \n",
            "  libxml2            pkgs/main/linux-64::libxml2-2.10.4-hf1b16e4_1 \n",
            "  lz4-c              pkgs/main/linux-64::lz4-c-1.9.4-h6a678d5_0 \n",
            "  menuinst           pkgs/main/linux-64::menuinst-2.0.1-py39h06a4308_1 \n",
            "  pcre2              pkgs/main/linux-64::pcre2-10.42-hebb0a14_0 \n",
            "  platformdirs       pkgs/main/linux-64::platformdirs-3.10.0-py39h06a4308_0 \n",
            "  pybind11-abi       pkgs/main/noarch::pybind11-abi-4-hd3eb1b0_1 \n",
            "  reproc             pkgs/main/linux-64::reproc-14.2.4-h295c915_1 \n",
            "  reproc-cpp         pkgs/main/linux-64::reproc-cpp-14.2.4-h295c915_1 \n",
            "  yaml-cpp           pkgs/main/linux-64::yaml-cpp-0.8.0-h6a678d5_0 \n",
            "  zstd               pkgs/main/linux-64::zstd-1.5.5-hc292b87_0 \n",
            "\n",
            "The following packages will be REMOVED:\n",
            "\n",
            "  brotlipy-0.7.0-py39h27cfd23_1003\n",
            "  toolz-0.12.0-py39h06a4308_0\n",
            "\n",
            "The following packages will be UPDATED:\n",
            "\n",
            "  ca-certificates                     2023.01.10-h06a4308_0 --> 2023.12.12-h06a4308_0 \n",
            "  certifi                          2022.12.7-py39h06a4308_0 --> 2023.11.17-py39h06a4308_0 \n",
            "  cffi                                1.15.1-py39h5eee18b_3 --> 1.16.0-py39h5eee18b_0 \n",
            "  conda                               23.3.1-py39h06a4308_0 --> 23.11.0-py39h06a4308_0 \n",
            "  conda-package-han~                   2.0.2-py39h06a4308_0 --> 2.2.0-py39h06a4308_0 \n",
            "  conda-package-str~                   0.7.0-py39h06a4308_0 --> 0.9.0-py39h06a4308_0 \n",
            "  cryptography                        39.0.1-py39h9ce1e76_0 --> 41.0.7-py39hdda0065_0 \n",
            "  libffi                                   3.4.2-h6a678d5_6 --> 3.4.4-h6a678d5_0 \n",
            "  openssl                                 1.1.1t-h7f8727e_0 --> 3.0.12-h7f8727e_0 \n",
            "  packaging                             23.0-py39h06a4308_0 --> 23.1-py39h06a4308_0 \n",
            "  pycosat                              0.6.4-py39h5eee18b_0 --> 0.6.6-py39h5eee18b_0 \n",
            "  pyopenssl                           23.0.0-py39h06a4308_0 --> 23.2.0-py39h06a4308_0 \n",
            "  python                                  3.9.16-h7a1cb2a_2 --> 3.9.18-h955ad1f_0 \n",
            "  requests                            2.28.1-py39h06a4308_1 --> 2.31.0-py39h06a4308_0 \n",
            "  sqlite                                  3.41.1-h5eee18b_0 --> 3.41.2-h5eee18b_0 \n",
            "  tzdata                                   2023c-h04d1e81_0 --> 2023d-h04d1e81_0 \n",
            "  urllib3                            1.26.15-py39h06a4308_0 --> 1.26.18-py39h06a4308_0 \n",
            "  xz                                      5.2.10-h5eee18b_1 --> 5.4.5-h5eee18b_0 \n",
            "\n",
            "\n",
            "Proceed ([y]/n)? y\n",
            "\n",
            "\n",
            "Downloading and Extracting Packages\n",
            "archspec-0.2.1       | 39 KB     | :   0% 0/1 [00:00<?, ?it/s]\n",
            "lz4-c-1.9.4          | 154 KB    | :   0% 0/1 [00:00<?, ?it/s]\u001b[A\n",
            "\n",
            "zstd-1.5.5           | 647 KB    | :   0% 0/1 [00:00<?, ?it/s]\u001b[A\u001b[A\n",
            "\n",
            "\n",
            "platformdirs-3.10.0  | 33 KB     | :   0% 0/1 [00:00<?, ?it/s]\u001b[A\u001b[A\u001b[A\n",
            "\n",
            "\n",
            "\n",
            "tzdata-2023d         | 117 KB    | :   0% 0/1 [00:00<?, ?it/s]\u001b[A\u001b[A\u001b[A\u001b[A\n",
            "\n",
            "\n",
            "\n",
            "\n",
            "libcurl-8.5.0        | 416 KB    | :   0% 0/1 [00:00<?, ?it/s]\u001b[A\u001b[A\u001b[A\u001b[A\u001b[A\n",
            "\n",
            "\n",
            "\n",
            "\n",
            "\n",
            "conda-23.11.0        | 986 KB    | :   0% 0/1 [00:00<?, ?it/s]\u001b[A\u001b[A\u001b[A\u001b[A\u001b[A\u001b[A\n",
            "\n",
            "\n",
            "\n",
            "\n",
            "\n",
            "\n",
            "pybind11-abi-4       | 14 KB     | :   0% 0/1 [00:00<?, ?it/s]\u001b[A\u001b[A\u001b[A\u001b[A\u001b[A\u001b[A\u001b[A\n",
            "\n",
            "\n",
            "\n",
            "\n",
            "\n",
            "\n",
            "\n",
            "certifi-2023.11.17   | 158 KB    | :   0% 0/1 [00:00<?, ?it/s]\u001b[A\u001b[A\u001b[A\u001b[A\u001b[A\u001b[A\u001b[A\u001b[A\n",
            "\n",
            "\n",
            "\n",
            "\n",
            "\n",
            "\n",
            "\n",
            "\n",
            "krb5-1.20.1          | 1.3 MB    | :   0% 0/1 [00:00<?, ?it/s]\u001b[A\u001b[A\u001b[A\u001b[A\u001b[A\u001b[A\u001b[A\u001b[A\u001b[A\n",
            "\n",
            "\n",
            "\n",
            "\n",
            "\n",
            "\n",
            "\n",
            "\n",
            "\n",
            "yaml-cpp-0.8.0       | 607 KB    | :   0% 0/1 [00:00<?, ?it/s]\u001b[A\u001b[A\u001b[A\u001b[A\u001b[A\u001b[A\u001b[A\u001b[A\u001b[A\u001b[A\n",
            "\n",
            "\n",
            "\n",
            "\n",
            "\n",
            "\n",
            "\n",
            "\n",
            "\n",
            "\n",
            "libnghttp2-1.57.0    | 674 KB    | :   0% 0/1 [00:00<?, ?it/s]\u001b[A\u001b[A\u001b[A\u001b[A\u001b[A\u001b[A\u001b[A\u001b[A\u001b[A\u001b[A\u001b[A\n",
            "\n",
            "\n",
            "\n",
            "\n",
            "\n",
            "\n",
            "\n",
            "\n",
            "\n",
            "\n",
            "\n",
            "libmamba-1.5.6       | 1.8 MB    | :   0% 0/1 [00:00<?, ?it/s]\u001b[A\u001b[A\u001b[A\u001b[A\u001b[A\u001b[A\u001b[A\u001b[A\u001b[A\u001b[A\u001b[A\u001b[A\n",
            "\n",
            "\n",
            "\n",
            "\n",
            "\n",
            "\n",
            "\n",
            "\n",
            "\n",
            "\n",
            "\n",
            "\n",
            "reproc-14.2.4        | 30 KB     | :   0% 0/1 [00:00<?, ?it/s]\u001b[A\u001b[A\u001b[A\u001b[A\u001b[A\u001b[A\u001b[A\u001b[A\u001b[A\u001b[A\u001b[A\u001b[A\u001b[A\n",
            "\n",
            "\n",
            "\n",
            "\n",
            "\n",
            "\n",
            "\n",
            "\n",
            "\n",
            "\n",
            "\n",
            "\n",
            "\n",
            "menuinst-2.0.1       | 136 KB    | :   0% 0/1 [00:00<?, ?it/s]\u001b[A\u001b[A\u001b[A\u001b[A\u001b[A\u001b[A\u001b[A\u001b[A\u001b[A\u001b[A\u001b[A\u001b[A\u001b[A\u001b[A\n",
            "\n",
            "\n",
            "\n",
            "\n",
            "\n",
            "\n",
            "\n",
            "\n",
            "\n",
            "\n",
            "\n",
            "\n",
            "\n",
            "\n",
            "cffi-1.16.0          | 251 KB    | :   0% 0/1 [00:00<?, ?it/s]\u001b[A\u001b[A\u001b[A\u001b[A\u001b[A\u001b[A\u001b[A\u001b[A\u001b[A\u001b[A\u001b[A\u001b[A\u001b[A\u001b[A\u001b[A\n",
            "\n",
            "\n",
            "\n",
            "\n",
            "\n",
            "\n",
            "\n",
            "\n",
            "\n",
            "\n",
            "\n",
            "\n",
            "\n",
            "\n",
            "\n",
            "urllib3-1.26.18      | 198 KB    | :   0% 0/1 [00:00<?, ?it/s]\u001b[A\u001b[A\u001b[A\u001b[A\u001b[A\u001b[A\u001b[A\u001b[A\u001b[A\u001b[A\u001b[A\u001b[A\u001b[A\u001b[A\u001b[A\u001b[A\n",
            "\n",
            "\n",
            "\n",
            "\n",
            "\n",
            "\n",
            "\n",
            "\n",
            "\n",
            "\n",
            "\n",
            "\n",
            "\n",
            "\n",
            "\n",
            "\n",
            "cryptography-41.0.7  | 2.0 MB    | :   0% 0/1 [00:00<?, ?it/s]\u001b[A\u001b[A\u001b[A\u001b[A\u001b[A\u001b[A\u001b[A\u001b[A\u001b[A\u001b[A\u001b[A\u001b[A\u001b[A\u001b[A\u001b[A\u001b[A\u001b[A\n",
            "\n",
            "\n",
            "\n",
            "\n",
            "\n",
            "\n",
            "\n",
            "\n",
            "\n",
            "\n",
            "\n",
            "\n",
            "\n",
            "\n",
            "\n",
            "\n",
            "\n",
            "brotli-python-1.0.9  | 330 KB    | :   0% 0/1 [00:00<?, ?it/s]\u001b[A\u001b[A\u001b[A\u001b[A\u001b[A\u001b[A\u001b[A\u001b[A\u001b[A\u001b[A\u001b[A\u001b[A\u001b[A\u001b[A\u001b[A\u001b[A\u001b[A\u001b[A\n",
            "\n",
            "\n",
            "\n",
            "\n",
            "\n",
            "\n",
            "\n",
            "\n",
            "\n",
            "\n",
            "\n",
            "\n",
            "\n",
            "\n",
            "\n",
            "\n",
            "\n",
            "\n",
            " ... (more hidden) ...\u001b[A\u001b[A\u001b[A\u001b[A\u001b[A\u001b[A\u001b[A\u001b[A\u001b[A\u001b[A\u001b[A\u001b[A\u001b[A\u001b[A\u001b[A\u001b[A\u001b[A\u001b[A\u001b[A\n",
            "\n",
            "zstd-1.5.5           | 647 KB    | :  37% 0.37090026622235905/1 [00:00<00:00,  3.63it/s]\u001b[A\u001b[A\n",
            "\n",
            "\n",
            "\n",
            "\n",
            "\n",
            "\n",
            "\n",
            "\n",
            "krb5-1.20.1          | 1.3 MB    | :   1% 0.011704077710961287/1 [00:00<00:09,  9.17s/it]\u001b[A\u001b[A\u001b[A\u001b[A\u001b[A\u001b[A\u001b[A\u001b[A\u001b[A\n",
            "\n",
            "\n",
            "\n",
            "\n",
            "\n",
            "conda-23.11.0        | 986 KB    | :  37% 0.3732428963090918/1 [00:00<00:00,  3.39it/s]\u001b[A\u001b[A\u001b[A\u001b[A\u001b[A\u001b[A\n",
            "\n",
            "\n",
            "\n",
            "\n",
            "\n",
            "\n",
            "\n",
            "\n",
            "\n",
            "yaml-cpp-0.8.0       | 607 KB    | :   3% 0.026356175137298557/1 [00:00<00:04,  4.55s/it]\u001b[A\u001b[A\u001b[A\u001b[A\u001b[A\u001b[A\u001b[A\u001b[A\u001b[A\u001b[A\n",
            "\n",
            "\n",
            "\n",
            "\n",
            "\n",
            "\n",
            "\n",
            "\n",
            "\n",
            "\n",
            "libnghttp2-1.57.0    | 674 KB    | :   2% 0.02373257971577107/1 [00:00<00:05,  5.36s/it]\u001b[A\u001b[A\u001b[A\u001b[A\u001b[A\u001b[A\u001b[A\u001b[A\u001b[A\u001b[A\u001b[A\n",
            "\n",
            "\n",
            "\n",
            "\n",
            "\n",
            "\n",
            "\n",
            "\n",
            "\n",
            "\n",
            "\n",
            "libmamba-1.5.6       | 1.8 MB    | :   1% 0.008534177861350863/1 [00:00<00:15, 15.67s/it]\u001b[A\u001b[A\u001b[A\u001b[A\u001b[A\u001b[A\u001b[A\u001b[A\u001b[A\u001b[A\u001b[A\u001b[A\n",
            "\n",
            "\n",
            "\n",
            "\n",
            "\n",
            "\n",
            "\n",
            "\n",
            "\n",
            "\n",
            "\n",
            "\n",
            "\n",
            "menuinst-2.0.1       | 136 KB    | :  12% 0.11765128286143085/1 [00:00<00:01,  1.47s/it]\u001b[A\u001b[A\u001b[A\u001b[A\u001b[A\u001b[A\u001b[A\u001b[A\u001b[A\u001b[A\u001b[A\u001b[A\u001b[A\u001b[A\n",
            "\n",
            "\n",
            "\n",
            "\n",
            "\n",
            "\n",
            "\n",
            "\n",
            "\n",
            "\n",
            "\n",
            "\n",
            "reproc-14.2.4        | 30 KB     | :  53% 0.5264950673222147/1 [00:00<00:00,  3.04it/s]\u001b[A\u001b[A\u001b[A\u001b[A\u001b[A\u001b[A\u001b[A\u001b[A\u001b[A\u001b[A\u001b[A\u001b[A\u001b[A\n",
            "\n",
            "\n",
            "\n",
            "\n",
            "\n",
            "\n",
            "\n",
            "\n",
            "\n",
            "\n",
            "\n",
            "\n",
            "\n",
            "\n",
            "cffi-1.16.0          | 251 KB    | :   6% 0.06371106038629497/1 [00:00<00:02,  2.78s/it]\u001b[A\u001b[A\u001b[A\u001b[A\u001b[A\u001b[A\u001b[A\u001b[A\u001b[A\u001b[A\u001b[A\u001b[A\u001b[A\u001b[A\u001b[A\n",
            "\n",
            "\n",
            "platformdirs-3.10.0  | 33 KB     | : 100% 1.0/1 [00:00<00:00,  5.19it/s]\u001b[A\u001b[A\u001b[A\n",
            "\n",
            "\n",
            "platformdirs-3.10.0  | 33 KB     | : 100% 1.0/1 [00:00<00:00,  5.19it/s]\u001b[A\u001b[A\u001b[A\n",
            "\n",
            "\n",
            "\n",
            "\n",
            "\n",
            "\n",
            "\n",
            "\n",
            "\n",
            "\n",
            "\n",
            "\n",
            "\n",
            "\n",
            "\n",
            "urllib3-1.26.18      | 198 KB    | :   8% 0.08073361946200583/1 [00:00<00:02,  2.35s/it]\u001b[A\u001b[A\u001b[A\u001b[A\u001b[A\u001b[A\u001b[A\u001b[A\u001b[A\u001b[A\u001b[A\u001b[A\u001b[A\u001b[A\u001b[A\u001b[A\n",
            "\n",
            "\n",
            "\n",
            "\n",
            "\n",
            "\n",
            "\n",
            "\n",
            "\n",
            "\n",
            "\n",
            "\n",
            "\n",
            "\n",
            "\n",
            "\n",
            "cryptography-41.0.7  | 2.0 MB    | :   1% 0.007853408160565385/1 [00:00<00:24, 24.35s/it]\u001b[A\u001b[A\u001b[A\u001b[A\u001b[A\u001b[A\u001b[A\u001b[A\u001b[A\u001b[A\u001b[A\u001b[A\u001b[A\u001b[A\u001b[A\u001b[A\u001b[A\n",
            "\n",
            "\n",
            "\n",
            "\n",
            "\n",
            "\n",
            "\n",
            "\n",
            "\n",
            "\n",
            "\n",
            "\n",
            "\n",
            "\n",
            "\n",
            "\n",
            "\n",
            "brotli-python-1.0.9  | 330 KB    | :   5% 0.04850451325259116/1 [00:00<00:03,  4.01s/it]\u001b[A\u001b[A\u001b[A\u001b[A\u001b[A\u001b[A\u001b[A\u001b[A\u001b[A\u001b[A\u001b[A\u001b[A\u001b[A\u001b[A\u001b[A\u001b[A\u001b[A\u001b[A\n",
            "\n",
            "\n",
            "\n",
            "\n",
            "\n",
            "\n",
            "\n",
            "\n",
            "\n",
            "\n",
            "\n",
            "\n",
            "\n",
            "\n",
            "\n",
            "\n",
            "\n",
            "\n",
            " ... (more hidden) ...\u001b[A\u001b[A\u001b[A\u001b[A\u001b[A\u001b[A\u001b[A\u001b[A\u001b[A\u001b[A\u001b[A\u001b[A\u001b[A\u001b[A\u001b[A\u001b[A\u001b[A\u001b[A\u001b[A\n",
            "\n",
            "\n",
            "\n",
            "\n",
            "\n",
            "\n",
            "\n",
            "\n",
            "\n",
            "\n",
            "\n",
            "libmamba-1.5.6       | 1.8 MB    | :  91% 0.9131570311645423/1 [00:00<00:00,  4.65it/s]  \u001b[A\u001b[A\u001b[A\u001b[A\u001b[A\u001b[A\u001b[A\u001b[A\u001b[A\u001b[A\u001b[A\u001b[A\n",
            "\n",
            "\n",
            "\n",
            "\n",
            "\n",
            "\n",
            "\n",
            "\n",
            "\n",
            "\n",
            "\n",
            "\n",
            "\n",
            "\n",
            "\n",
            "\n",
            "archspec-0.2.1       | 39 KB     | : 100% 1.0/1 [00:00<00:00,  2.83it/s]\n",
            "lz4-c-1.9.4          | 154 KB    | : 100% 1.0/1 [00:00<00:00,  2.16it/s]\u001b[A\n",
            "lz4-c-1.9.4          | 154 KB    | : 100% 1.0/1 [00:00<00:00,  2.16it/s]\u001b[A\n",
            "\n",
            "\n",
            "\n",
            "\n",
            "\n",
            "\n",
            "pybind11-abi-4       | 14 KB     | : 100% 1.0/1 [00:00<00:00,  1.91it/s]\u001b[A\u001b[A\u001b[A\u001b[A\u001b[A\u001b[A\u001b[A\n",
            "\n",
            "\n",
            "\n",
            "\n",
            "\n",
            "\n",
            "pybind11-abi-4       | 14 KB     | : 100% 1.0/1 [00:00<00:00,  1.91it/s]\u001b[A\u001b[A\u001b[A\u001b[A\u001b[A\u001b[A\u001b[A\n",
            "\n",
            "\n",
            "\n",
            "\n",
            "\n",
            "\n",
            "\n",
            "certifi-2023.11.17   | 158 KB    | : 100% 1.0/1 [00:00<00:00,  1.65it/s]\u001b[A\u001b[A\u001b[A\u001b[A\u001b[A\u001b[A\u001b[A\u001b[A\n",
            "\n",
            "\n",
            "\n",
            "\n",
            "\n",
            "\n",
            "\n",
            "certifi-2023.11.17   | 158 KB    | : 100% 1.0/1 [00:00<00:00,  1.65it/s]\u001b[A\u001b[A\u001b[A\u001b[A\u001b[A\u001b[A\u001b[A\u001b[A\n",
            "\n",
            "\n",
            "\n",
            "\n",
            "libcurl-8.5.0        | 416 KB    | : 100% 1.0/1 [00:00<00:00,  1.46it/s]\u001b[A\u001b[A\u001b[A\u001b[A\u001b[A\n",
            "\n",
            "\n",
            "\n",
            "\n",
            "libcurl-8.5.0        | 416 KB    | : 100% 1.0/1 [00:00<00:00,  1.46it/s]\u001b[A\u001b[A\u001b[A\u001b[A\u001b[A\n",
            "\n",
            "zstd-1.5.5           | 647 KB    | : 100% 1.0/1 [00:00<00:00,  1.19it/s]                \u001b[A\u001b[A\n",
            "\n",
            "zstd-1.5.5           | 647 KB    | : 100% 1.0/1 [00:00<00:00,  1.19it/s]\u001b[A\u001b[A\n",
            "\n",
            "\n",
            "\n",
            "tzdata-2023d         | 117 KB    | : 100% 1.0/1 [00:01<00:00,  1.30s/it]\u001b[A\u001b[A\u001b[A\u001b[A\n",
            "\n",
            "\n",
            "\n",
            "tzdata-2023d         | 117 KB    | : 100% 1.0/1 [00:01<00:00,  1.30s/it]\u001b[A\u001b[A\u001b[A\u001b[A\n",
            "\n",
            "\n",
            "\n",
            "\n",
            "\n",
            "\n",
            "\n",
            "\n",
            "\n",
            "yaml-cpp-0.8.0       | 607 KB    | : 100% 1.0/1 [00:01<00:00,  1.41s/it]                 \u001b[A\u001b[A\u001b[A\u001b[A\u001b[A\u001b[A\u001b[A\u001b[A\u001b[A\u001b[A\n",
            "\n",
            "\n",
            "\n",
            "\n",
            "\n",
            "\n",
            "\n",
            "\n",
            "\n",
            "yaml-cpp-0.8.0       | 607 KB    | : 100% 1.0/1 [00:01<00:00,  1.41s/it]\u001b[A\u001b[A\u001b[A\u001b[A\u001b[A\u001b[A\u001b[A\u001b[A\u001b[A\u001b[A\n",
            "\n",
            "\n",
            "\n",
            "\n",
            "\n",
            "conda-23.11.0        | 986 KB    | : 100% 1.0/1 [00:01<00:00,  1.64s/it]               \u001b[A\u001b[A\u001b[A\u001b[A\u001b[A\u001b[A\n",
            "\n",
            "\n",
            "\n",
            "\n",
            "\n",
            "conda-23.11.0        | 986 KB    | : 100% 1.0/1 [00:01<00:00,  1.64s/it]\u001b[A\u001b[A\u001b[A\u001b[A\u001b[A\u001b[A\n",
            "\n",
            "\n",
            "\n",
            "\n",
            "\n",
            "\n",
            "\n",
            "\n",
            "\n",
            "\n",
            "libnghttp2-1.57.0    | 674 KB    | : 100% 1.0/1 [00:01<00:00,  1.50s/it]                \u001b[A\u001b[A\u001b[A\u001b[A\u001b[A\u001b[A\u001b[A\u001b[A\u001b[A\u001b[A\u001b[A\n",
            "\n",
            "\n",
            "\n",
            "\n",
            "\n",
            "\n",
            "\n",
            "\n",
            "\n",
            "\n",
            "libnghttp2-1.57.0    | 674 KB    | : 100% 1.0/1 [00:01<00:00,  1.50s/it]\u001b[A\u001b[A\u001b[A\u001b[A\u001b[A\u001b[A\u001b[A\u001b[A\u001b[A\u001b[A\u001b[A\n",
            "\n",
            "\n",
            "\n",
            "\n",
            "\n",
            "\n",
            "\n",
            "\n",
            "\n",
            "\n",
            "\n",
            "\n",
            "reproc-14.2.4        | 30 KB     | : 100% 1.0/1 [00:01<00:00,  1.77s/it]               \u001b[A\u001b[A\u001b[A\u001b[A\u001b[A\u001b[A\u001b[A\u001b[A\u001b[A\u001b[A\u001b[A\u001b[A\u001b[A\n",
            "\n",
            "\n",
            "\n",
            "\n",
            "\n",
            "\n",
            "\n",
            "\n",
            "\n",
            "\n",
            "\n",
            "\n",
            "reproc-14.2.4        | 30 KB     | : 100% 1.0/1 [00:01<00:00,  1.77s/it]\u001b[A\u001b[A\u001b[A\u001b[A\u001b[A\u001b[A\u001b[A\u001b[A\u001b[A\u001b[A\u001b[A\u001b[A\u001b[A\n",
            "\n",
            "\n",
            "\n",
            "\n",
            "\n",
            "\n",
            "\n",
            "\n",
            "krb5-1.20.1          | 1.3 MB    | : 100% 1.0/1 [00:01<00:00,  1.56s/it]                 \u001b[A\u001b[A\u001b[A\u001b[A\u001b[A\u001b[A\u001b[A\u001b[A\u001b[A\n",
            "\n",
            "\n",
            "\n",
            "\n",
            "\n",
            "\n",
            "\n",
            "\n",
            "krb5-1.20.1          | 1.3 MB    | : 100% 1.0/1 [00:01<00:00,  1.56s/it]\u001b[A\u001b[A\u001b[A\u001b[A\u001b[A\u001b[A\u001b[A\u001b[A\u001b[A\n",
            "\n",
            "\n",
            "\n",
            "\n",
            "\n",
            "\n",
            "\n",
            "\n",
            "\n",
            "\n",
            "\n",
            "\n",
            "\n",
            "menuinst-2.0.1       | 136 KB    | : 100% 1.0/1 [00:01<00:00,  1.62s/it]                \u001b[A\u001b[A\u001b[A\u001b[A\u001b[A\u001b[A\u001b[A\u001b[A\u001b[A\u001b[A\u001b[A\u001b[A\u001b[A\u001b[A\n",
            "\n",
            "\n",
            "\n",
            "\n",
            "\n",
            "\n",
            "\n",
            "\n",
            "\n",
            "\n",
            "\n",
            "\n",
            "\n",
            "menuinst-2.0.1       | 136 KB    | : 100% 1.0/1 [00:01<00:00,  1.62s/it]\u001b[A\u001b[A\u001b[A\u001b[A\u001b[A\u001b[A\u001b[A\u001b[A\u001b[A\u001b[A\u001b[A\u001b[A\u001b[A\u001b[A\n",
            "\n",
            "\n",
            "\n",
            "\n",
            "\n",
            "\n",
            "\n",
            "\n",
            "\n",
            "\n",
            "\n",
            "\n",
            "\n",
            "\n",
            "cffi-1.16.0          | 251 KB    | : 100% 1.0/1 [00:01<00:00,  1.63s/it]                \u001b[A\u001b[A\u001b[A\u001b[A\u001b[A\u001b[A\u001b[A\u001b[A\u001b[A\u001b[A\u001b[A\u001b[A\u001b[A\u001b[A\u001b[A\n",
            "\n",
            "\n",
            "\n",
            "\n",
            "\n",
            "\n",
            "\n",
            "\n",
            "\n",
            "\n",
            "\n",
            "\n",
            "\n",
            "\n",
            "cffi-1.16.0          | 251 KB    | : 100% 1.0/1 [00:01<00:00,  1.63s/it]\u001b[A\u001b[A\u001b[A\u001b[A\u001b[A\u001b[A\u001b[A\u001b[A\u001b[A\u001b[A\u001b[A\u001b[A\u001b[A\u001b[A\u001b[A\n",
            "\n",
            "\n",
            "\n",
            "\n",
            "\n",
            "\n",
            "\n",
            "\n",
            "\n",
            "\n",
            "\n",
            "\n",
            "\n",
            "\n",
            "\n",
            "urllib3-1.26.18      | 198 KB    | : 100% 1.0/1 [00:01<00:00,  1.68s/it]                \u001b[A\u001b[A\u001b[A\u001b[A\u001b[A\u001b[A\u001b[A\u001b[A\u001b[A\u001b[A\u001b[A\u001b[A\u001b[A\u001b[A\u001b[A\u001b[A\n",
            "\n",
            "\n",
            "\n",
            "\n",
            "\n",
            "\n",
            "\n",
            "\n",
            "\n",
            "\n",
            "\n",
            "\n",
            "\n",
            "\n",
            "\n",
            "urllib3-1.26.18      | 198 KB    | : 100% 1.0/1 [00:01<00:00,  1.68s/it]\u001b[A\u001b[A\u001b[A\u001b[A\u001b[A\u001b[A\u001b[A\u001b[A\u001b[A\u001b[A\u001b[A\u001b[A\u001b[A\u001b[A\u001b[A\u001b[A\n",
            "\n",
            "\n",
            "\n",
            "\n",
            "\n",
            "\n",
            "\n",
            "\n",
            "\n",
            "\n",
            "\n",
            "\n",
            "\n",
            "\n",
            "\n",
            "\n",
            "\n",
            "\n",
            " ... (more hidden) ...\u001b[A\u001b[A\u001b[A\u001b[A\u001b[A\u001b[A\u001b[A\u001b[A\u001b[A\u001b[A\u001b[A\u001b[A\u001b[A\u001b[A\u001b[A\u001b[A\u001b[A\u001b[A\u001b[A\n",
            "\n",
            "\n",
            "\n",
            "\n",
            "\n",
            "\n",
            "\n",
            "\n",
            "\n",
            "\n",
            "\n",
            "\n",
            "\n",
            "\n",
            "\n",
            "\n",
            "\n",
            "\n",
            " ... (more hidden) ...\u001b[A\u001b[A\u001b[A\u001b[A\u001b[A\u001b[A\u001b[A\u001b[A\u001b[A\u001b[A\u001b[A\u001b[A\u001b[A\u001b[A\u001b[A\u001b[A\u001b[A\u001b[A\u001b[A\n",
            "\n",
            "\n",
            "\n",
            "\n",
            "\n",
            "\n",
            "\n",
            "\n",
            "\n",
            "\n",
            "\n",
            "\n",
            "\n",
            "\n",
            "\n",
            "\n",
            "\n",
            "brotli-python-1.0.9  | 330 KB    | : 100% 1.0/1 [00:01<00:00,  1.70s/it]                \u001b[A\u001b[A\u001b[A\u001b[A\u001b[A\u001b[A\u001b[A\u001b[A\u001b[A\u001b[A\u001b[A\u001b[A\u001b[A\u001b[A\u001b[A\u001b[A\u001b[A\u001b[A\n",
            "\n",
            "\n",
            "\n",
            "\n",
            "\n",
            "\n",
            "\n",
            "\n",
            "\n",
            "\n",
            "\n",
            "\n",
            "\n",
            "\n",
            "\n",
            "\n",
            "\n",
            "brotli-python-1.0.9  | 330 KB    | : 100% 1.0/1 [00:01<00:00,  1.70s/it]\u001b[A\u001b[A\u001b[A\u001b[A\u001b[A\u001b[A\u001b[A\u001b[A\u001b[A\u001b[A\u001b[A\u001b[A\u001b[A\u001b[A\u001b[A\u001b[A\u001b[A\u001b[A\n",
            "\n",
            "\n",
            "\n",
            "\n",
            "\n",
            "\n",
            "\n",
            "\n",
            "\n",
            "\n",
            "\n",
            "libmamba-1.5.6       | 1.8 MB    | : 100% 1.0/1 [00:01<00:00,  4.65it/s]               \u001b[A\u001b[A\u001b[A\u001b[A\u001b[A\u001b[A\u001b[A\u001b[A\u001b[A\u001b[A\u001b[A\u001b[A\n",
            "\n",
            "\n",
            "\n",
            "\n",
            "\n",
            "\n",
            "\n",
            "\n",
            "\n",
            "\n",
            "\n",
            "\n",
            "\n",
            "\n",
            "\n",
            "\n",
            "cryptography-41.0.7  | 2.0 MB    | : 100% 1.0/1 [00:02<00:00,  4.21it/s]               \u001b[A\u001b[A\u001b[A\u001b[A\u001b[A\u001b[A\u001b[A\u001b[A\u001b[A\u001b[A\u001b[A\u001b[A\u001b[A\u001b[A\u001b[A\u001b[A\u001b[A\n",
            "\n",
            "\n",
            "\n",
            "\n",
            "\n",
            "\n",
            "\n",
            "\n",
            "\n",
            "\n",
            "\n",
            "\n",
            "\n",
            "\n",
            "\n",
            "\n",
            "\n",
            "\n",
            "                                                                        \n",
            "                                                                        \u001b[A\n",
            "\n",
            "                                                                        \u001b[A\u001b[A\n",
            "\n",
            "\n",
            "                                                                        \u001b[A\u001b[A\u001b[A\n",
            "\n",
            "\n",
            "\n",
            "                                                                        \u001b[A\u001b[A\u001b[A\u001b[A\n",
            "\n",
            "\n",
            "\n",
            "\n",
            "                                                                        \u001b[A\u001b[A\u001b[A\u001b[A\u001b[A\n",
            "\n",
            "\n",
            "\n",
            "\n",
            "\n",
            "                                                                        \u001b[A\u001b[A\u001b[A\u001b[A\u001b[A\u001b[A\n",
            "\n",
            "\n",
            "\n",
            "\n",
            "\n",
            "\n",
            "                                                                        \u001b[A\u001b[A\u001b[A\u001b[A\u001b[A\u001b[A\u001b[A\n",
            "\n",
            "\n",
            "\n",
            "\n",
            "\n",
            "\n",
            "\n",
            "                                                                        \u001b[A\u001b[A\u001b[A\u001b[A\u001b[A\u001b[A\u001b[A\u001b[A\n",
            "\n",
            "\n",
            "\n",
            "\n",
            "\n",
            "\n",
            "\n",
            "\n",
            "                                                                        \u001b[A\u001b[A\u001b[A\u001b[A\u001b[A\u001b[A\u001b[A\u001b[A\u001b[A\n",
            "\n",
            "\n",
            "\n",
            "\n",
            "\n",
            "\n",
            "\n",
            "\n",
            "\n",
            "                                                                        \u001b[A\u001b[A\u001b[A\u001b[A\u001b[A\u001b[A\u001b[A\u001b[A\u001b[A\u001b[A\n",
            "\n",
            "\n",
            "\n",
            "\n",
            "\n",
            "\n",
            "\n",
            "\n",
            "\n",
            "\n",
            "                                                                        \u001b[A\u001b[A\u001b[A\u001b[A\u001b[A\u001b[A\u001b[A\u001b[A\u001b[A\u001b[A\u001b[A\n",
            "\n",
            "\n",
            "\n",
            "\n",
            "\n",
            "\n",
            "\n",
            "\n",
            "\n",
            "\n",
            "\n",
            "                                                                        \u001b[A\u001b[A\u001b[A\u001b[A\u001b[A\u001b[A\u001b[A\u001b[A\u001b[A\u001b[A\u001b[A\u001b[A\n",
            "\n",
            "\n",
            "\n",
            "\n",
            "\n",
            "\n",
            "\n",
            "\n",
            "\n",
            "\n",
            "\n",
            "\n",
            "                                                                        \u001b[A\u001b[A\u001b[A\u001b[A\u001b[A\u001b[A\u001b[A\u001b[A\u001b[A\u001b[A\u001b[A\u001b[A\u001b[A\n",
            "\n",
            "\n",
            "\n",
            "\n",
            "\n",
            "\n",
            "\n",
            "\n",
            "\n",
            "\n",
            "\n",
            "\n",
            "\n",
            "                                                                        \u001b[A\u001b[A\u001b[A\u001b[A\u001b[A\u001b[A\u001b[A\u001b[A\u001b[A\u001b[A\u001b[A\u001b[A\u001b[A\u001b[A\n",
            "\n",
            "\n",
            "\n",
            "\n",
            "\n",
            "\n",
            "\n",
            "\n",
            "\n",
            "\n",
            "\n",
            "\n",
            "\n",
            "\n",
            "                                                                        \u001b[A\u001b[A\u001b[A\u001b[A\u001b[A\u001b[A\u001b[A\u001b[A\u001b[A\u001b[A\u001b[A\u001b[A\u001b[A\u001b[A\u001b[A\n",
            "\n",
            "\n",
            "\n",
            "\n",
            "\n",
            "\n",
            "\n",
            "\n",
            "\n",
            "\n",
            "\n",
            "\n",
            "\n",
            "\n",
            "\n",
            "                                                                        \u001b[A\u001b[A\u001b[A\u001b[A\u001b[A\u001b[A\u001b[A\u001b[A\u001b[A\u001b[A\u001b[A\u001b[A\u001b[A\u001b[A\u001b[A\u001b[A\n",
            "\n",
            "\n",
            "\n",
            "\n",
            "\n",
            "\n",
            "\n",
            "\n",
            "\n",
            "\n",
            "\n",
            "\n",
            "\n",
            "\n",
            "\n",
            "\n",
            "                                                                        \u001b[A\u001b[A\u001b[A\u001b[A\u001b[A\u001b[A\u001b[A\u001b[A\u001b[A\u001b[A\u001b[A\u001b[A\u001b[A\u001b[A\u001b[A\u001b[A\u001b[A\n",
            "\n",
            "\n",
            "\n",
            "\n",
            "\n",
            "\n",
            "\n",
            "\n",
            "\n",
            "\n",
            "\n",
            "\n",
            "\n",
            "\n",
            "\n",
            "\n",
            "\n",
            "                                                                        \u001b[A\u001b[A\u001b[A\u001b[A\u001b[A\u001b[A\u001b[A\u001b[A\u001b[A\u001b[A\u001b[A\u001b[A\u001b[A\u001b[A\u001b[A\u001b[A\u001b[A\u001b[A\n",
            "\u001b[A\n",
            "\n",
            "\u001b[A\u001b[A\n",
            "\n",
            "\n",
            "\u001b[A\u001b[A\u001b[A\n",
            "\n",
            "\n",
            "\n",
            "\u001b[A\u001b[A\u001b[A\u001b[A\n",
            "\n",
            "\n",
            "\n",
            "\n",
            "\u001b[A\u001b[A\u001b[A\u001b[A\u001b[A\n",
            "\n",
            "\n",
            "\n",
            "\n",
            "\n",
            "\u001b[A\u001b[A\u001b[A\u001b[A\u001b[A\u001b[A\n",
            "\n",
            "\n",
            "\n",
            "\n",
            "\n",
            "\n",
            "\u001b[A\u001b[A\u001b[A\u001b[A\u001b[A\u001b[A\u001b[A\n",
            "\n",
            "\n",
            "\n",
            "\n",
            "\n",
            "\n",
            "\n",
            "\u001b[A\u001b[A\u001b[A\u001b[A\u001b[A\u001b[A\u001b[A\u001b[A\n",
            "\n",
            "\n",
            "\n",
            "\n",
            "\n",
            "\n",
            "\n",
            "\n",
            "\u001b[A\u001b[A\u001b[A\u001b[A\u001b[A\u001b[A\u001b[A\u001b[A\u001b[A\n",
            "\n",
            "\n",
            "\n",
            "\n",
            "\n",
            "\n",
            "\n",
            "\n",
            "\n",
            "\u001b[A\u001b[A\u001b[A\u001b[A\u001b[A\u001b[A\u001b[A\u001b[A\u001b[A\u001b[A\n",
            "\n",
            "\n",
            "\n",
            "\n",
            "\n",
            "\n",
            "\n",
            "\n",
            "\n",
            "\n",
            "\u001b[A\u001b[A\u001b[A\u001b[A\u001b[A\u001b[A\u001b[A\u001b[A\u001b[A\u001b[A\u001b[A\n",
            "\n",
            "\n",
            "\n",
            "\n",
            "\n",
            "\n",
            "\n",
            "\n",
            "\n",
            "\n",
            "\n",
            "\u001b[A\u001b[A\u001b[A\u001b[A\u001b[A\u001b[A\u001b[A\u001b[A\u001b[A\u001b[A\u001b[A\u001b[A\n",
            "\n",
            "\n",
            "\n",
            "\n",
            "\n",
            "\n",
            "\n",
            "\n",
            "\n",
            "\n",
            "\n",
            "\n",
            "\u001b[A\u001b[A\u001b[A\u001b[A\u001b[A\u001b[A\u001b[A\u001b[A\u001b[A\u001b[A\u001b[A\u001b[A\u001b[A\n",
            "\n",
            "\n",
            "\n",
            "\n",
            "\n",
            "\n",
            "\n",
            "\n",
            "\n",
            "\n",
            "\n",
            "\n",
            "\n",
            "\u001b[A\u001b[A\u001b[A\u001b[A\u001b[A\u001b[A\u001b[A\u001b[A\u001b[A\u001b[A\u001b[A\u001b[A\u001b[A\u001b[A\n",
            "\n",
            "\n",
            "\n",
            "\n",
            "\n",
            "\n",
            "\n",
            "\n",
            "\n",
            "\n",
            "\n",
            "\n",
            "\n",
            "\n",
            "\u001b[A\u001b[A\u001b[A\u001b[A\u001b[A\u001b[A\u001b[A\u001b[A\u001b[A\u001b[A\u001b[A\u001b[A\u001b[A\u001b[A\u001b[A\n",
            "\n",
            "\n",
            "\n",
            "\n",
            "\n",
            "\n",
            "\n",
            "\n",
            "\n",
            "\n",
            "\n",
            "\n",
            "\n",
            "\n",
            "\n",
            "\u001b[A\u001b[A\u001b[A\u001b[A\u001b[A\u001b[A\u001b[A\u001b[A\u001b[A\u001b[A\u001b[A\u001b[A\u001b[A\u001b[A\u001b[A\u001b[A\n",
            "\n",
            "\n",
            "\n",
            "\n",
            "\n",
            "\n",
            "\n",
            "\n",
            "\n",
            "\n",
            "\n",
            "\n",
            "\n",
            "\n",
            "\n",
            "\n",
            "\u001b[A\u001b[A\u001b[A\u001b[A\u001b[A\u001b[A\u001b[A\u001b[A\u001b[A\u001b[A\u001b[A\u001b[A\u001b[A\u001b[A\u001b[A\u001b[A\u001b[A\n",
            "\n",
            "\n",
            "\n",
            "\n",
            "\n",
            "\n",
            "\n",
            "\n",
            "\n",
            "\n",
            "\n",
            "\n",
            "\n",
            "\n",
            "\n",
            "\n",
            "\n",
            "\u001b[A\u001b[A\u001b[A\u001b[A\u001b[A\u001b[A\u001b[A\u001b[A\u001b[A\u001b[A\u001b[A\u001b[A\u001b[A\u001b[A\u001b[A\u001b[A\u001b[A\u001b[A\n",
            "\u001b[A\n",
            "\n",
            "\u001b[A\u001b[A\n",
            "\n",
            "\n",
            "\u001b[A\u001b[A\u001b[A\n",
            "\n",
            "\n",
            "\n",
            "\u001b[A\u001b[A\u001b[A\u001b[A\n",
            "\n",
            "\n",
            "\n",
            "\n",
            "\u001b[A\u001b[A\u001b[A\u001b[A\u001b[A\n",
            "\n",
            "\n",
            "\n",
            "\n",
            "\n",
            "\u001b[A\u001b[A\u001b[A\u001b[A\u001b[A\u001b[A\n",
            "\n",
            "\n",
            "\n",
            "\n",
            "\n",
            "\n",
            "\u001b[A\u001b[A\u001b[A\u001b[A\u001b[A\u001b[A\u001b[A\n",
            "Preparing transaction: - \b\b\\ \b\bdone\n",
            "Verifying transaction: / \b\b- \b\b\\ \b\b| \b\b/ \b\b- \b\b\\ \b\b| \b\b/ \b\b- \b\b\\ \b\b| \b\bdone\n",
            "Executing transaction: - \b\b\\ \b\b| \b\b/ \b\b- \b\b\\ \b\b| \b\b/ \b\b- \b\b\\ \b\b| \b\b/ \b\bdone\n"
          ]
        }
      ]
    },
    {
      "cell_type": "code",
      "source": [
        "import sys\n",
        "sys.path.append('/usr/local/lib/python3.9/site-packages')"
      ],
      "metadata": {
        "id": "heaoLprRCJak"
      },
      "execution_count": 3,
      "outputs": []
    },
    {
      "cell_type": "code",
      "source": [
        "!conda create -n myenv python=3.9"
      ],
      "metadata": {
        "colab": {
          "base_uri": "https://localhost:8080/"
        },
        "id": "BSTQo30UCZ9L",
        "outputId": "39f85833-425c-4a95-f8a5-6acf1be895c6"
      },
      "execution_count": 4,
      "outputs": [
        {
          "output_type": "stream",
          "name": "stdout",
          "text": [
            "Channels:\n",
            " - defaults\n",
            "Platform: linux-64\n",
            "Collecting package metadata (repodata.json): - \b\b\\ \b\b| \b\b/ \b\b- \b\b\\ \b\b| \b\b/ \b\b- \b\b\\ \b\b| \b\b/ \b\b- \b\b\\ \b\b| \b\b/ \b\b- \b\b\\ \b\b| \b\b/ \b\b- \b\b\\ \b\b| \b\b/ \b\b- \b\b\\ \b\b| \b\b/ \b\b- \b\b\\ \b\b| \b\b/ \b\b- \b\b\\ \b\bdone\n",
            "Solving environment: / \b\b- \b\bdone\n",
            "\n",
            "## Package Plan ##\n",
            "\n",
            "  environment location: /usr/local/envs/myenv\n",
            "\n",
            "  added / updated specs:\n",
            "    - python=3.9\n",
            "\n",
            "\n",
            "The following packages will be downloaded:\n",
            "\n",
            "    package                    |            build\n",
            "    ---------------------------|-----------------\n",
            "    pip-23.3.1                 |   py39h06a4308_0         2.6 MB\n",
            "    setuptools-68.2.2          |   py39h06a4308_0         948 KB\n",
            "    wheel-0.41.2               |   py39h06a4308_0         108 KB\n",
            "    ------------------------------------------------------------\n",
            "                                           Total:         3.6 MB\n",
            "\n",
            "The following NEW packages will be INSTALLED:\n",
            "\n",
            "  _libgcc_mutex      pkgs/main/linux-64::_libgcc_mutex-0.1-main \n",
            "  _openmp_mutex      pkgs/main/linux-64::_openmp_mutex-5.1-1_gnu \n",
            "  ca-certificates    pkgs/main/linux-64::ca-certificates-2023.12.12-h06a4308_0 \n",
            "  ld_impl_linux-64   pkgs/main/linux-64::ld_impl_linux-64-2.38-h1181459_1 \n",
            "  libffi             pkgs/main/linux-64::libffi-3.4.4-h6a678d5_0 \n",
            "  libgcc-ng          pkgs/main/linux-64::libgcc-ng-11.2.0-h1234567_1 \n",
            "  libgomp            pkgs/main/linux-64::libgomp-11.2.0-h1234567_1 \n",
            "  libstdcxx-ng       pkgs/main/linux-64::libstdcxx-ng-11.2.0-h1234567_1 \n",
            "  ncurses            pkgs/main/linux-64::ncurses-6.4-h6a678d5_0 \n",
            "  openssl            pkgs/main/linux-64::openssl-3.0.12-h7f8727e_0 \n",
            "  pip                pkgs/main/linux-64::pip-23.3.1-py39h06a4308_0 \n",
            "  python             pkgs/main/linux-64::python-3.9.18-h955ad1f_0 \n",
            "  readline           pkgs/main/linux-64::readline-8.2-h5eee18b_0 \n",
            "  setuptools         pkgs/main/linux-64::setuptools-68.2.2-py39h06a4308_0 \n",
            "  sqlite             pkgs/main/linux-64::sqlite-3.41.2-h5eee18b_0 \n",
            "  tk                 pkgs/main/linux-64::tk-8.6.12-h1ccaba5_0 \n",
            "  tzdata             pkgs/main/noarch::tzdata-2023d-h04d1e81_0 \n",
            "  wheel              pkgs/main/linux-64::wheel-0.41.2-py39h06a4308_0 \n",
            "  xz                 pkgs/main/linux-64::xz-5.4.5-h5eee18b_0 \n",
            "  zlib               pkgs/main/linux-64::zlib-1.2.13-h5eee18b_0 \n",
            "\n",
            "\n",
            "Proceed ([y]/n)? y\n",
            "\n",
            "\n",
            "Downloading and Extracting Packages:\n",
            "pip-23.3.1           | 2.6 MB    | :   0% 0/1 [00:00<?, ?it/s]\n",
            "setuptools-68.2.2    | 948 KB    | :   0% 0/1 [00:00<?, ?it/s]\u001b[A\n",
            "\n",
            "pip-23.3.1           | 2.6 MB    | :   1% 0.005985630686878887/1 [00:00<00:19, 19.15s/it]\n",
            "setuptools-68.2.2    | 948 KB    | :   2% 0.016880888966735872/1 [00:00<00:08,  8.50s/it]\u001b[A\n",
            "\n",
            "wheel-0.41.2         | 108 KB    | :  15% 0.14851206932496985/1 [00:00<00:00,  1.05it/s]\u001b[A\u001b[A\n",
            "\n",
            "wheel-0.41.2         | 108 KB    | : 100% 1.0/1 [00:00<00:00,  1.05it/s]                \u001b[A\u001b[A\n",
            "setuptools-68.2.2    | 948 KB    | : 100% 1.0/1 [00:00<00:00,  1.77it/s]                 \u001b[A\n",
            "                                                                        \n",
            "                                                                        \u001b[A\n",
            "\n",
            "                                                                        \u001b[A\u001b[A\n",
            "Preparing transaction: | \b\b/ \b\b- \b\bdone\n",
            "Verifying transaction: | \b\b/ \b\b- \b\b\\ \b\b| \b\b/ \b\b- \b\b\\ \b\b| \b\b/ \b\b- \b\b\\ \b\b| \b\b/ \b\b- \b\bdone\n",
            "Executing transaction: | \b\b/ \b\b- \b\b\\ \b\b| \b\b/ \b\b- \b\b\\ \b\bdone\n",
            "#\n",
            "# To activate this environment, use\n",
            "#\n",
            "#     $ conda activate myenv\n",
            "#\n",
            "# To deactivate an active environment, use\n",
            "#\n",
            "#     $ conda deactivate\n",
            "\n"
          ]
        }
      ]
    },
    {
      "cell_type": "code",
      "source": [
        "%%shell\n",
        "eval \"$(conda shell.bash hook)\"\n",
        "conda activate myenv\n",
        "pip install tflite-model-maker"
      ],
      "metadata": {
        "colab": {
          "base_uri": "https://localhost:8080/"
        },
        "id": "Wl4ymbQXCgjP",
        "outputId": "2eb14b1d-fafc-427a-fcef-cba7e050848e"
      },
      "execution_count": 5,
      "outputs": [
        {
          "output_type": "stream",
          "name": "stdout",
          "text": [
            "Collecting tflite-model-maker\n",
            "  Downloading tflite_model_maker-0.4.3-py3-none-any.whl.metadata (5.4 kB)\n",
            "Collecting tf-models-official==2.3.0 (from tflite-model-maker)\n",
            "  Downloading tf_models_official-2.3.0-py2.py3-none-any.whl (840 kB)\n",
            "\u001b[2K     \u001b[90m━━━━━━━━━━━━━━━━━━━━━━━━━━━━━━━━━━━━━━━━\u001b[0m \u001b[32m840.9/840.9 kB\u001b[0m \u001b[31m12.0 MB/s\u001b[0m eta \u001b[36m0:00:00\u001b[0m\n",
            "\u001b[?25hCollecting numpy<1.23.4,>=1.17.3 (from tflite-model-maker)\n",
            "  Downloading numpy-1.23.3-cp39-cp39-manylinux_2_17_x86_64.manylinux2014_x86_64.whl (17.1 MB)\n",
            "\u001b[2K     \u001b[90m━━━━━━━━━━━━━━━━━━━━━━━━━━━━━━━━━━━━━━━━\u001b[0m \u001b[32m17.1/17.1 MB\u001b[0m \u001b[31m23.6 MB/s\u001b[0m eta \u001b[36m0:00:00\u001b[0m\n",
            "\u001b[?25hCollecting pillow>=7.0.0 (from tflite-model-maker)\n",
            "  Downloading pillow-10.2.0-cp39-cp39-manylinux_2_28_x86_64.whl.metadata (9.7 kB)\n",
            "Collecting sentencepiece>=0.1.91 (from tflite-model-maker)\n",
            "  Downloading sentencepiece-0.1.99-cp39-cp39-manylinux_2_17_x86_64.manylinux2014_x86_64.whl (1.3 MB)\n",
            "\u001b[2K     \u001b[90m━━━━━━━━━━━━━━━━━━━━━━━━━━━━━━━━━━━━━━━━\u001b[0m \u001b[32m1.3/1.3 MB\u001b[0m \u001b[31m52.7 MB/s\u001b[0m eta \u001b[36m0:00:00\u001b[0m\n",
            "\u001b[?25hCollecting tensorflow-datasets>=2.1.0 (from tflite-model-maker)\n",
            "  Downloading tensorflow_datasets-4.9.3-py3-none-any.whl.metadata (9.3 kB)\n",
            "Collecting fire>=0.3.1 (from tflite-model-maker)\n",
            "  Downloading fire-0.5.0.tar.gz (88 kB)\n",
            "\u001b[2K     \u001b[90m━━━━━━━━━━━━━━━━━━━━━━━━━━━━━━━━━━━━━━━━\u001b[0m \u001b[32m88.3/88.3 kB\u001b[0m \u001b[31m7.4 MB/s\u001b[0m eta \u001b[36m0:00:00\u001b[0m\n",
            "\u001b[?25h  Preparing metadata (setup.py) ... \u001b[?25l\u001b[?25hdone\n",
            "Collecting flatbuffers>=2.0 (from tflite-model-maker)\n",
            "  Downloading flatbuffers-23.5.26-py2.py3-none-any.whl.metadata (850 bytes)\n",
            "Collecting absl-py>=0.10.0 (from tflite-model-maker)\n",
            "  Downloading absl_py-2.1.0-py3-none-any.whl.metadata (2.3 kB)\n",
            "Collecting urllib3!=1.25.0,!=1.25.1,<1.26,>=1.21.1 (from tflite-model-maker)\n",
            "  Downloading urllib3-1.25.11-py2.py3-none-any.whl (127 kB)\n",
            "\u001b[2K     \u001b[90m━━━━━━━━━━━━━━━━━━━━━━━━━━━━━━━━━━━━━━━━\u001b[0m \u001b[32m128.0/128.0 kB\u001b[0m \u001b[31m10.1 MB/s\u001b[0m eta \u001b[36m0:00:00\u001b[0m\n",
            "\u001b[?25hCollecting tflite-support>=0.4.2 (from tflite-model-maker)\n",
            "  Downloading tflite_support-0.4.4-cp39-cp39-manylinux2014_x86_64.whl.metadata (2.4 kB)\n",
            "Collecting tensorflowjs<3.19.0,>=2.4.0 (from tflite-model-maker)\n",
            "  Downloading tensorflowjs-3.18.0-py3-none-any.whl (77 kB)\n",
            "\u001b[2K     \u001b[90m━━━━━━━━━━━━━━━━━━━━━━━━━━━━━━━━━━━━━━━━\u001b[0m \u001b[32m77.5/77.5 kB\u001b[0m \u001b[31m6.2 MB/s\u001b[0m eta \u001b[36m0:00:00\u001b[0m\n",
            "\u001b[?25hCollecting tensorflow>=2.6.0 (from tflite-model-maker)\n",
            "  Downloading tensorflow-2.15.0.post1-cp39-cp39-manylinux_2_17_x86_64.manylinux2014_x86_64.whl.metadata (4.2 kB)\n",
            "Collecting numba>=0.53 (from tflite-model-maker)\n",
            "  Downloading numba-0.58.1-cp39-cp39-manylinux2014_x86_64.manylinux_2_17_x86_64.whl.metadata (2.7 kB)\n",
            "Collecting librosa==0.8.1 (from tflite-model-maker)\n",
            "  Downloading librosa-0.8.1-py3-none-any.whl (203 kB)\n",
            "\u001b[2K     \u001b[90m━━━━━━━━━━━━━━━━━━━━━━━━━━━━━━━━━━━━━━━━\u001b[0m \u001b[32m203.8/203.8 kB\u001b[0m \u001b[31m17.1 MB/s\u001b[0m eta \u001b[36m0:00:00\u001b[0m\n",
            "\u001b[?25hCollecting lxml>=4.6.1 (from tflite-model-maker)\n",
            "  Downloading lxml-5.1.0-cp39-cp39-manylinux_2_17_x86_64.manylinux2014_x86_64.whl.metadata (3.5 kB)\n",
            "Collecting PyYAML>=5.1 (from tflite-model-maker)\n",
            "  Downloading PyYAML-6.0.1-cp39-cp39-manylinux_2_17_x86_64.manylinux2014_x86_64.whl.metadata (2.1 kB)\n",
            "Collecting matplotlib<3.5.0,>=3.0.3 (from tflite-model-maker)\n",
            "  Downloading matplotlib-3.4.3-cp39-cp39-manylinux1_x86_64.whl (10.3 MB)\n",
            "\u001b[2K     \u001b[90m━━━━━━━━━━━━━━━━━━━━━━━━━━━━━━━━━━━━━━━━\u001b[0m \u001b[32m10.3/10.3 MB\u001b[0m \u001b[31m89.8 MB/s\u001b[0m eta \u001b[36m0:00:00\u001b[0m\n",
            "\u001b[?25hCollecting six>=1.12.0 (from tflite-model-maker)\n",
            "  Downloading six-1.16.0-py2.py3-none-any.whl (11 kB)\n",
            "Collecting tensorflow-addons>=0.11.2 (from tflite-model-maker)\n",
            "  Downloading tensorflow_addons-0.23.0-cp39-cp39-manylinux_2_17_x86_64.manylinux2014_x86_64.whl.metadata (1.8 kB)\n",
            "Collecting neural-structured-learning>=1.3.1 (from tflite-model-maker)\n",
            "  Downloading neural_structured_learning-1.4.0-py2.py3-none-any.whl (128 kB)\n",
            "\u001b[2K     \u001b[90m━━━━━━━━━━━━━━━━━━━━━━━━━━━━━━━━━━━━━━━━\u001b[0m \u001b[32m128.6/128.6 kB\u001b[0m \u001b[31m11.6 MB/s\u001b[0m eta \u001b[36m0:00:00\u001b[0m\n",
            "\u001b[?25hCollecting tensorflow-model-optimization>=0.5 (from tflite-model-maker)\n",
            "  Downloading tensorflow_model_optimization-0.7.5-py2.py3-none-any.whl.metadata (914 bytes)\n",
            "Collecting Cython>=0.29.13 (from tflite-model-maker)\n",
            "  Downloading Cython-3.0.8-cp39-cp39-manylinux_2_17_x86_64.manylinux2014_x86_64.whl.metadata (3.2 kB)\n",
            "Collecting scann==1.2.6 (from tflite-model-maker)\n",
            "  Downloading scann-1.2.6-cp39-cp39-manylinux2014_x86_64.whl (10.9 MB)\n",
            "\u001b[2K     \u001b[90m━━━━━━━━━━━━━━━━━━━━━━━━━━━━━━━━━━━━━━━━\u001b[0m \u001b[32m10.9/10.9 MB\u001b[0m \u001b[31m975.1 kB/s\u001b[0m eta \u001b[36m0:00:00\u001b[0m\n",
            "\u001b[?25hCollecting tensorflow-hub<0.13,>=0.7.0 (from tflite-model-maker)\n",
            "  Downloading tensorflow_hub-0.12.0-py2.py3-none-any.whl (108 kB)\n",
            "\u001b[2K     \u001b[90m━━━━━━━━━━━━━━━━━━━━━━━━━━━━━━━━━━━━━━━━\u001b[0m \u001b[32m108.8/108.8 kB\u001b[0m \u001b[31m8.4 MB/s\u001b[0m eta \u001b[36m0:00:00\u001b[0m\n",
            "\u001b[?25hCollecting audioread>=2.0.0 (from librosa==0.8.1->tflite-model-maker)\n",
            "  Downloading audioread-3.0.1-py3-none-any.whl.metadata (8.4 kB)\n",
            "Collecting scipy>=1.0.0 (from librosa==0.8.1->tflite-model-maker)\n",
            "  Downloading scipy-1.12.0-cp39-cp39-manylinux_2_17_x86_64.manylinux2014_x86_64.whl.metadata (60 kB)\n",
            "\u001b[2K     \u001b[90m━━━━━━━━━━━━━━━━━━━━━━━━━━━━━━━━━━━━━━━━\u001b[0m \u001b[32m60.4/60.4 kB\u001b[0m \u001b[31m4.7 MB/s\u001b[0m eta \u001b[36m0:00:00\u001b[0m\n",
            "\u001b[?25hCollecting scikit-learn!=0.19.0,>=0.14.0 (from librosa==0.8.1->tflite-model-maker)\n",
            "  Downloading scikit_learn-1.4.0-1-cp39-cp39-manylinux_2_17_x86_64.manylinux2014_x86_64.whl.metadata (11 kB)\n",
            "Collecting joblib>=0.14 (from librosa==0.8.1->tflite-model-maker)\n",
            "  Downloading joblib-1.3.2-py3-none-any.whl.metadata (5.4 kB)\n",
            "Collecting decorator>=3.0.0 (from librosa==0.8.1->tflite-model-maker)\n",
            "  Downloading decorator-5.1.1-py3-none-any.whl (9.1 kB)\n",
            "Collecting resampy>=0.2.2 (from librosa==0.8.1->tflite-model-maker)\n",
            "  Downloading resampy-0.4.2-py3-none-any.whl (3.1 MB)\n",
            "\u001b[2K     \u001b[90m━━━━━━━━━━━━━━━━━━━━━━━━━━━━━━━━━━━━━━━━\u001b[0m \u001b[32m3.1/3.1 MB\u001b[0m \u001b[31m83.3 MB/s\u001b[0m eta \u001b[36m0:00:00\u001b[0m\n",
            "\u001b[?25hCollecting soundfile>=0.10.2 (from librosa==0.8.1->tflite-model-maker)\n",
            "  Downloading soundfile-0.12.1-py2.py3-none-manylinux_2_31_x86_64.whl (1.2 MB)\n",
            "\u001b[2K     \u001b[90m━━━━━━━━━━━━━━━━━━━━━━━━━━━━━━━━━━━━━━━━\u001b[0m \u001b[32m1.2/1.2 MB\u001b[0m \u001b[31m35.2 MB/s\u001b[0m eta \u001b[36m0:00:00\u001b[0m\n",
            "\u001b[?25hCollecting pooch>=1.0 (from librosa==0.8.1->tflite-model-maker)\n",
            "  Downloading pooch-1.8.0-py3-none-any.whl.metadata (9.9 kB)\n",
            "Collecting packaging>=20.0 (from librosa==0.8.1->tflite-model-maker)\n",
            "  Downloading packaging-23.2-py3-none-any.whl.metadata (3.2 kB)\n",
            "Collecting tensorflow>=2.6.0 (from tflite-model-maker)\n",
            "  Downloading tensorflow-2.8.4-cp39-cp39-manylinux2010_x86_64.whl (498.1 MB)\n",
            "\u001b[2K     \u001b[90m━━━━━━━━━━━━━━━━━━━━━━━━━━━━━━━━━━━━━━━━\u001b[0m \u001b[32m498.1/498.1 MB\u001b[0m \u001b[31m1.8 MB/s\u001b[0m eta \u001b[36m0:00:00\u001b[0m\n",
            "\u001b[?25hCollecting dataclasses (from tf-models-official==2.3.0->tflite-model-maker)\n",
            "  Downloading dataclasses-0.6-py3-none-any.whl (14 kB)\n",
            "Collecting gin-config (from tf-models-official==2.3.0->tflite-model-maker)\n",
            "  Downloading gin_config-0.5.0-py3-none-any.whl (61 kB)\n",
            "\u001b[2K     \u001b[90m━━━━━━━━━━━━━━━━━━━━━━━━━━━━━━━━━━━━━━━━\u001b[0m \u001b[32m61.3/61.3 kB\u001b[0m \u001b[31m5.1 MB/s\u001b[0m eta \u001b[36m0:00:00\u001b[0m\n",
            "\u001b[?25hCollecting google-api-python-client>=1.6.7 (from tf-models-official==2.3.0->tflite-model-maker)\n",
            "  Downloading google_api_python_client-2.115.0-py2.py3-none-any.whl.metadata (6.6 kB)\n",
            "Collecting google-cloud-bigquery>=0.31.0 (from tf-models-official==2.3.0->tflite-model-maker)\n",
            "  Downloading google_cloud_bigquery-3.16.0-py2.py3-none-any.whl.metadata (8.8 kB)\n",
            "Collecting kaggle>=1.3.9 (from tf-models-official==2.3.0->tflite-model-maker)\n",
            "  Downloading kaggle-1.6.3.tar.gz (84 kB)\n",
            "\u001b[2K     \u001b[90m━━━━━━━━━━━━━━━━━━━━━━━━━━━━━━━━━━━━━━━━\u001b[0m \u001b[32m84.5/84.5 kB\u001b[0m \u001b[31m7.0 MB/s\u001b[0m eta \u001b[36m0:00:00\u001b[0m\n",
            "\u001b[?25h  Preparing metadata (setup.py) ... \u001b[?25l\u001b[?25hdone\n",
            "Collecting opencv-python-headless (from tf-models-official==2.3.0->tflite-model-maker)\n",
            "  Downloading opencv_python_headless-4.9.0.80-cp37-abi3-manylinux_2_17_x86_64.manylinux2014_x86_64.whl.metadata (20 kB)\n",
            "Collecting pandas>=0.22.0 (from tf-models-official==2.3.0->tflite-model-maker)\n",
            "  Downloading pandas-2.2.0-cp39-cp39-manylinux_2_17_x86_64.manylinux2014_x86_64.whl.metadata (19 kB)\n",
            "Collecting psutil>=5.4.3 (from tf-models-official==2.3.0->tflite-model-maker)\n",
            "  Downloading psutil-5.9.8-cp36-abi3-manylinux_2_12_x86_64.manylinux2010_x86_64.manylinux_2_17_x86_64.manylinux2014_x86_64.whl.metadata (21 kB)\n",
            "Collecting py-cpuinfo>=3.3.0 (from tf-models-official==2.3.0->tflite-model-maker)\n",
            "  Downloading py_cpuinfo-9.0.0-py3-none-any.whl (22 kB)\n",
            "Collecting tf-slim>=1.1.0 (from tf-models-official==2.3.0->tflite-model-maker)\n",
            "  Downloading tf_slim-1.1.0-py2.py3-none-any.whl (352 kB)\n",
            "\u001b[2K     \u001b[90m━━━━━━━━━━━━━━━━━━━━━━━━━━━━━━━━━━━━━━━━\u001b[0m \u001b[32m352.1/352.1 kB\u001b[0m \u001b[31m25.6 MB/s\u001b[0m eta \u001b[36m0:00:00\u001b[0m\n",
            "\u001b[?25hCollecting termcolor (from fire>=0.3.1->tflite-model-maker)\n",
            "  Downloading termcolor-2.4.0-py3-none-any.whl.metadata (6.1 kB)\n",
            "Collecting cycler>=0.10 (from matplotlib<3.5.0,>=3.0.3->tflite-model-maker)\n",
            "  Downloading cycler-0.12.1-py3-none-any.whl.metadata (3.8 kB)\n",
            "Collecting kiwisolver>=1.0.1 (from matplotlib<3.5.0,>=3.0.3->tflite-model-maker)\n",
            "  Downloading kiwisolver-1.4.5-cp39-cp39-manylinux_2_12_x86_64.manylinux2010_x86_64.whl.metadata (6.4 kB)\n",
            "Collecting pyparsing>=2.2.1 (from matplotlib<3.5.0,>=3.0.3->tflite-model-maker)\n",
            "  Downloading pyparsing-3.1.1-py3-none-any.whl.metadata (5.1 kB)\n",
            "Collecting python-dateutil>=2.7 (from matplotlib<3.5.0,>=3.0.3->tflite-model-maker)\n",
            "  Downloading python_dateutil-2.8.2-py2.py3-none-any.whl (247 kB)\n",
            "\u001b[2K     \u001b[90m━━━━━━━━━━━━━━━━━━━━━━━━━━━━━━━━━━━━━━━━\u001b[0m \u001b[32m247.7/247.7 kB\u001b[0m \u001b[31m17.9 MB/s\u001b[0m eta \u001b[36m0:00:00\u001b[0m\n",
            "\u001b[?25hCollecting attrs (from neural-structured-learning>=1.3.1->tflite-model-maker)\n",
            "  Downloading attrs-23.2.0-py3-none-any.whl.metadata (9.5 kB)\n",
            "Collecting llvmlite<0.42,>=0.41.0dev0 (from numba>=0.53->tflite-model-maker)\n",
            "  Downloading llvmlite-0.41.1-cp39-cp39-manylinux_2_17_x86_64.manylinux2014_x86_64.whl.metadata (4.8 kB)\n",
            "Collecting astunparse>=1.6.0 (from tensorflow>=2.6.0->tflite-model-maker)\n",
            "  Downloading astunparse-1.6.3-py2.py3-none-any.whl (12 kB)\n",
            "Collecting gast>=0.2.1 (from tensorflow>=2.6.0->tflite-model-maker)\n",
            "  Downloading gast-0.5.4-py3-none-any.whl (19 kB)\n",
            "Collecting google-pasta>=0.1.1 (from tensorflow>=2.6.0->tflite-model-maker)\n",
            "  Downloading google_pasta-0.2.0-py3-none-any.whl (57 kB)\n",
            "\u001b[2K     \u001b[90m━━━━━━━━━━━━━━━━━━━━━━━━━━━━━━━━━━━━━━━━\u001b[0m \u001b[32m57.5/57.5 kB\u001b[0m \u001b[31m4.4 MB/s\u001b[0m eta \u001b[36m0:00:00\u001b[0m\n",
            "\u001b[?25hCollecting h5py>=2.9.0 (from tensorflow>=2.6.0->tflite-model-maker)\n",
            "  Downloading h5py-3.10.0-cp39-cp39-manylinux_2_17_x86_64.manylinux2014_x86_64.whl.metadata (2.5 kB)\n",
            "Collecting keras-preprocessing>=1.1.1 (from tensorflow>=2.6.0->tflite-model-maker)\n",
            "  Downloading Keras_Preprocessing-1.1.2-py2.py3-none-any.whl (42 kB)\n",
            "\u001b[2K     \u001b[90m━━━━━━━━━━━━━━━━━━━━━━━━━━━━━━━━━━━━━━━━\u001b[0m \u001b[32m42.6/42.6 kB\u001b[0m \u001b[31m3.4 MB/s\u001b[0m eta \u001b[36m0:00:00\u001b[0m\n",
            "\u001b[?25hCollecting libclang>=9.0.1 (from tensorflow>=2.6.0->tflite-model-maker)\n",
            "  Downloading libclang-16.0.6-py2.py3-none-manylinux2010_x86_64.whl.metadata (5.2 kB)\n",
            "Collecting opt-einsum>=2.3.2 (from tensorflow>=2.6.0->tflite-model-maker)\n",
            "  Downloading opt_einsum-3.3.0-py3-none-any.whl (65 kB)\n",
            "\u001b[2K     \u001b[90m━━━━━━━━━━━━━━━━━━━━━━━━━━━━━━━━━━━━━━━━\u001b[0m \u001b[32m65.5/65.5 kB\u001b[0m \u001b[31m5.5 MB/s\u001b[0m eta \u001b[36m0:00:00\u001b[0m\n",
            "\u001b[?25hCollecting protobuf<3.20,>=3.9.2 (from tensorflow>=2.6.0->tflite-model-maker)\n",
            "  Downloading protobuf-3.19.6-cp39-cp39-manylinux_2_17_x86_64.manylinux2014_x86_64.whl (1.1 MB)\n",
            "\u001b[2K     \u001b[90m━━━━━━━━━━━━━━━━━━━━━━━━━━━━━━━━━━━━━━━━\u001b[0m \u001b[32m1.1/1.1 MB\u001b[0m \u001b[31m45.7 MB/s\u001b[0m eta \u001b[36m0:00:00\u001b[0m\n",
            "\u001b[?25hRequirement already satisfied: setuptools in /usr/local/envs/myenv/lib/python3.9/site-packages (from tensorflow>=2.6.0->tflite-model-maker) (68.2.2)\n",
            "Collecting typing-extensions>=3.6.6 (from tensorflow>=2.6.0->tflite-model-maker)\n",
            "  Downloading typing_extensions-4.9.0-py3-none-any.whl.metadata (3.0 kB)\n",
            "Collecting wrapt>=1.11.0 (from tensorflow>=2.6.0->tflite-model-maker)\n",
            "  Downloading wrapt-1.16.0-cp39-cp39-manylinux_2_5_x86_64.manylinux1_x86_64.manylinux_2_17_x86_64.manylinux2014_x86_64.whl.metadata (6.6 kB)\n",
            "Collecting tensorboard<2.9,>=2.8 (from tensorflow>=2.6.0->tflite-model-maker)\n",
            "  Downloading tensorboard-2.8.0-py3-none-any.whl (5.8 MB)\n",
            "\u001b[2K     \u001b[90m━━━━━━━━━━━━━━━━━━━━━━━━━━━━━━━━━━━━━━━━\u001b[0m \u001b[32m5.8/5.8 MB\u001b[0m \u001b[31m94.6 MB/s\u001b[0m eta \u001b[36m0:00:00\u001b[0m\n",
            "\u001b[?25hCollecting tensorflow-estimator<2.9,>=2.8 (from tensorflow>=2.6.0->tflite-model-maker)\n",
            "  Downloading tensorflow_estimator-2.8.0-py2.py3-none-any.whl (462 kB)\n",
            "\u001b[2K     \u001b[90m━━━━━━━━━━━━━━━━━━━━━━━━━━━━━━━━━━━━━━━━\u001b[0m \u001b[32m462.3/462.3 kB\u001b[0m \u001b[31m30.4 MB/s\u001b[0m eta \u001b[36m0:00:00\u001b[0m\n",
            "\u001b[?25hCollecting keras<2.9,>=2.8.0rc0 (from tensorflow>=2.6.0->tflite-model-maker)\n",
            "  Downloading keras-2.8.0-py2.py3-none-any.whl (1.4 MB)\n",
            "\u001b[2K     \u001b[90m━━━━━━━━━━━━━━━━━━━━━━━━━━━━━━━━━━━━━━━━\u001b[0m \u001b[32m1.4/1.4 MB\u001b[0m \u001b[31m57.9 MB/s\u001b[0m eta \u001b[36m0:00:00\u001b[0m\n",
            "\u001b[?25hCollecting tensorflow-io-gcs-filesystem>=0.23.1 (from tensorflow>=2.6.0->tflite-model-maker)\n",
            "  Downloading tensorflow_io_gcs_filesystem-0.35.0-cp39-cp39-manylinux_2_17_x86_64.manylinux2014_x86_64.whl.metadata (14 kB)\n",
            "Collecting grpcio<2.0,>=1.24.3 (from tensorflow>=2.6.0->tflite-model-maker)\n",
            "  Downloading grpcio-1.60.0-cp39-cp39-manylinux_2_17_x86_64.manylinux2014_x86_64.whl.metadata (4.0 kB)\n",
            "Collecting typeguard<3.0.0,>=2.7 (from tensorflow-addons>=0.11.2->tflite-model-maker)\n",
            "  Downloading typeguard-2.13.3-py3-none-any.whl (17 kB)\n",
            "Collecting array-record (from tensorflow-datasets>=2.1.0->tflite-model-maker)\n",
            "  Downloading array_record-0.5.0-cp39-cp39-manylinux_2_17_x86_64.manylinux2014_x86_64.whl.metadata (503 bytes)\n",
            "Collecting click (from tensorflow-datasets>=2.1.0->tflite-model-maker)\n",
            "  Downloading click-8.1.7-py3-none-any.whl.metadata (3.0 kB)\n",
            "Collecting dm-tree (from tensorflow-datasets>=2.1.0->tflite-model-maker)\n",
            "  Downloading dm_tree-0.1.8-cp39-cp39-manylinux_2_17_x86_64.manylinux2014_x86_64.whl (153 kB)\n",
            "\u001b[2K     \u001b[90m━━━━━━━━━━━━━━━━━━━━━━━━━━━━━━━━━━━━━━━━\u001b[0m \u001b[32m153.0/153.0 kB\u001b[0m \u001b[31m11.6 MB/s\u001b[0m eta \u001b[36m0:00:00\u001b[0m\n",
            "\u001b[?25hCollecting etils>=0.9.0 (from etils[enp,epath,etree]>=0.9.0->tensorflow-datasets>=2.1.0->tflite-model-maker)\n",
            "  Downloading etils-1.5.2-py3-none-any.whl.metadata (6.3 kB)\n",
            "Collecting promise (from tensorflow-datasets>=2.1.0->tflite-model-maker)\n",
            "  Downloading promise-2.3.tar.gz (19 kB)\n",
            "  Preparing metadata (setup.py) ... \u001b[?25l\u001b[?25hdone\n",
            "INFO: pip is looking at multiple versions of tensorflow-datasets to determine which version is compatible with other requirements. This could take a while.\n",
            "Collecting tensorflow-datasets>=2.1.0 (from tflite-model-maker)\n",
            "  Downloading tensorflow_datasets-4.9.2-py3-none-any.whl (5.4 MB)\n",
            "\u001b[2K     \u001b[90m━━━━━━━━━━━━━━━━━━━━━━━━━━━━━━━━━━━━━━━━\u001b[0m \u001b[32m5.4/5.4 MB\u001b[0m \u001b[31m75.2 MB/s\u001b[0m eta \u001b[36m0:00:00\u001b[0m\n",
            "\u001b[?25h  Downloading tensorflow_datasets-4.9.1-py3-none-any.whl (5.4 MB)\n",
            "\u001b[2K     \u001b[90m━━━━━━━━━━━━━━━━━━━━━━━━━━━━━━━━━━━━━━━━\u001b[0m \u001b[32m5.4/5.4 MB\u001b[0m \u001b[31m74.1 MB/s\u001b[0m eta \u001b[36m0:00:00\u001b[0m\n",
            "\u001b[?25h  Downloading tensorflow_datasets-4.9.0-py3-none-any.whl (5.4 MB)\n",
            "\u001b[2K     \u001b[90m━━━━━━━━━━━━━━━━━━━━━━━━━━━━━━━━━━━━━━━━\u001b[0m \u001b[32m5.4/5.4 MB\u001b[0m \u001b[31m3.1 MB/s\u001b[0m eta \u001b[36m0:00:00\u001b[0m\n",
            "\u001b[?25hCollecting requests>=2.19.0 (from tensorflow-datasets>=2.1.0->tflite-model-maker)\n",
            "  Downloading requests-2.31.0-py3-none-any.whl.metadata (4.6 kB)\n",
            "Collecting tensorflow-metadata (from tensorflow-datasets>=2.1.0->tflite-model-maker)\n",
            "  Downloading tensorflow_metadata-1.14.0-py3-none-any.whl.metadata (2.1 kB)\n",
            "Collecting toml (from tensorflow-datasets>=2.1.0->tflite-model-maker)\n",
            "  Downloading toml-0.10.2-py2.py3-none-any.whl (16 kB)\n",
            "Collecting tqdm (from tensorflow-datasets>=2.1.0->tflite-model-maker)\n",
            "  Downloading tqdm-4.66.1-py3-none-any.whl.metadata (57 kB)\n",
            "\u001b[2K     \u001b[90m━━━━━━━━━━━━━━━━━━━━━━━━━━━━━━━━━━━━━━━━\u001b[0m \u001b[32m57.6/57.6 kB\u001b[0m \u001b[31m4.5 MB/s\u001b[0m eta \u001b[36m0:00:00\u001b[0m\n",
            "\u001b[?25hCollecting absl-py>=0.10.0 (from tflite-model-maker)\n",
            "  Downloading absl_py-1.4.0-py3-none-any.whl (126 kB)\n",
            "\u001b[2K     \u001b[90m━━━━━━━━━━━━━━━━━━━━━━━━━━━━━━━━━━━━━━━━\u001b[0m \u001b[32m126.5/126.5 kB\u001b[0m \u001b[31m10.8 MB/s\u001b[0m eta \u001b[36m0:00:00\u001b[0m\n",
            "\u001b[?25hCollecting packaging>=20.0 (from librosa==0.8.1->tflite-model-maker)\n",
            "  Downloading packaging-20.9-py2.py3-none-any.whl (40 kB)\n",
            "\u001b[2K     \u001b[90m━━━━━━━━━━━━━━━━━━━━━━━━━━━━━━━━━━━━━━━━\u001b[0m \u001b[32m40.9/40.9 kB\u001b[0m \u001b[31m3.2 MB/s\u001b[0m eta \u001b[36m0:00:00\u001b[0m\n",
            "\u001b[?25hCollecting sounddevice>=0.4.4 (from tflite-support>=0.4.2->tflite-model-maker)\n",
            "  Downloading sounddevice-0.4.6-py3-none-any.whl (31 kB)\n",
            "Collecting pybind11>=2.6.0 (from tflite-support>=0.4.2->tflite-model-maker)\n",
            "  Downloading pybind11-2.11.1-py3-none-any.whl.metadata (9.5 kB)\n",
            "Requirement already satisfied: wheel<1.0,>=0.23.0 in /usr/local/envs/myenv/lib/python3.9/site-packages (from astunparse>=1.6.0->tensorflow>=2.6.0->tflite-model-maker) (0.41.2)\n",
            "Collecting fsspec (from etils[enp,epath]>=0.9.0->tensorflow-datasets>=2.1.0->tflite-model-maker)\n",
            "  Downloading fsspec-2023.12.2-py3-none-any.whl.metadata (6.8 kB)\n",
            "Collecting importlib_resources (from etils[enp,epath]>=0.9.0->tensorflow-datasets>=2.1.0->tflite-model-maker)\n",
            "  Downloading importlib_resources-6.1.1-py3-none-any.whl.metadata (4.1 kB)\n",
            "Collecting zipp (from etils[enp,epath]>=0.9.0->tensorflow-datasets>=2.1.0->tflite-model-maker)\n",
            "  Downloading zipp-3.17.0-py3-none-any.whl.metadata (3.7 kB)\n",
            "Collecting httplib2<1.dev0,>=0.15.0 (from google-api-python-client>=1.6.7->tf-models-official==2.3.0->tflite-model-maker)\n",
            "  Downloading httplib2-0.22.0-py3-none-any.whl (96 kB)\n",
            "\u001b[2K     \u001b[90m━━━━━━━━━━━━━━━━━━━━━━━━━━━━━━━━━━━━━━━━\u001b[0m \u001b[32m96.9/96.9 kB\u001b[0m \u001b[31m8.3 MB/s\u001b[0m eta \u001b[36m0:00:00\u001b[0m\n",
            "\u001b[?25hCollecting google-auth<3.0.0.dev0,>=1.19.0 (from google-api-python-client>=1.6.7->tf-models-official==2.3.0->tflite-model-maker)\n",
            "  Downloading google_auth-2.26.2-py2.py3-none-any.whl.metadata (4.7 kB)\n",
            "Collecting google-auth-httplib2>=0.1.0 (from google-api-python-client>=1.6.7->tf-models-official==2.3.0->tflite-model-maker)\n",
            "  Downloading google_auth_httplib2-0.2.0-py2.py3-none-any.whl.metadata (2.2 kB)\n",
            "Collecting google-api-core!=2.0.*,!=2.1.*,!=2.2.*,!=2.3.0,<3.0.0.dev0,>=1.31.5 (from google-api-python-client>=1.6.7->tf-models-official==2.3.0->tflite-model-maker)\n",
            "  Downloading google_api_core-2.15.0-py3-none-any.whl.metadata (2.7 kB)\n",
            "Collecting uritemplate<5,>=3.0.1 (from google-api-python-client>=1.6.7->tf-models-official==2.3.0->tflite-model-maker)\n",
            "  Downloading uritemplate-4.1.1-py2.py3-none-any.whl (10 kB)\n",
            "Collecting google-cloud-core<3.0.0dev,>=1.6.0 (from google-cloud-bigquery>=0.31.0->tf-models-official==2.3.0->tflite-model-maker)\n",
            "  Downloading google_cloud_core-2.4.1-py2.py3-none-any.whl.metadata (2.7 kB)\n",
            "Collecting google-resumable-media<3.0dev,>=0.6.0 (from google-cloud-bigquery>=0.31.0->tf-models-official==2.3.0->tflite-model-maker)\n",
            "  Downloading google_resumable_media-2.7.0-py2.py3-none-any.whl.metadata (2.2 kB)\n",
            "Collecting certifi (from kaggle>=1.3.9->tf-models-official==2.3.0->tflite-model-maker)\n",
            "  Downloading certifi-2023.11.17-py3-none-any.whl.metadata (2.2 kB)\n",
            "Collecting python-slugify (from kaggle>=1.3.9->tf-models-official==2.3.0->tflite-model-maker)\n",
            "  Downloading python_slugify-8.0.1-py2.py3-none-any.whl (9.7 kB)\n",
            "Collecting bleach (from kaggle>=1.3.9->tf-models-official==2.3.0->tflite-model-maker)\n",
            "  Downloading bleach-6.1.0-py3-none-any.whl.metadata (30 kB)\n",
            "Collecting pytz>=2020.1 (from pandas>=0.22.0->tf-models-official==2.3.0->tflite-model-maker)\n",
            "  Downloading pytz-2023.3.post1-py2.py3-none-any.whl.metadata (22 kB)\n",
            "Collecting tzdata>=2022.7 (from pandas>=0.22.0->tf-models-official==2.3.0->tflite-model-maker)\n",
            "  Downloading tzdata-2023.4-py2.py3-none-any.whl.metadata (1.4 kB)\n",
            "Collecting platformdirs>=2.5.0 (from pooch>=1.0->librosa==0.8.1->tflite-model-maker)\n",
            "  Downloading platformdirs-4.1.0-py3-none-any.whl.metadata (11 kB)\n",
            "Collecting charset-normalizer<4,>=2 (from requests>=2.19.0->tensorflow-datasets>=2.1.0->tflite-model-maker)\n",
            "  Downloading charset_normalizer-3.3.2-cp39-cp39-manylinux_2_17_x86_64.manylinux2014_x86_64.whl.metadata (33 kB)\n",
            "Collecting idna<4,>=2.5 (from requests>=2.19.0->tensorflow-datasets>=2.1.0->tflite-model-maker)\n",
            "  Downloading idna-3.6-py3-none-any.whl.metadata (9.9 kB)\n",
            "Collecting threadpoolctl>=2.0.0 (from scikit-learn!=0.19.0,>=0.14.0->librosa==0.8.1->tflite-model-maker)\n",
            "  Downloading threadpoolctl-3.2.0-py3-none-any.whl.metadata (10.0 kB)\n",
            "Collecting CFFI>=1.0 (from sounddevice>=0.4.4->tflite-support>=0.4.2->tflite-model-maker)\n",
            "  Downloading cffi-1.16.0-cp39-cp39-manylinux_2_17_x86_64.manylinux2014_x86_64.whl.metadata (1.5 kB)\n",
            "Collecting google-auth-oauthlib<0.5,>=0.4.1 (from tensorboard<2.9,>=2.8->tensorflow>=2.6.0->tflite-model-maker)\n",
            "  Downloading google_auth_oauthlib-0.4.6-py2.py3-none-any.whl (18 kB)\n",
            "Collecting markdown>=2.6.8 (from tensorboard<2.9,>=2.8->tensorflow>=2.6.0->tflite-model-maker)\n",
            "  Downloading Markdown-3.5.2-py3-none-any.whl.metadata (7.0 kB)\n",
            "Collecting tensorboard-data-server<0.7.0,>=0.6.0 (from tensorboard<2.9,>=2.8->tensorflow>=2.6.0->tflite-model-maker)\n",
            "  Downloading tensorboard_data_server-0.6.1-py3-none-manylinux2010_x86_64.whl (4.9 MB)\n",
            "\u001b[2K     \u001b[90m━━━━━━━━━━━━━━━━━━━━━━━━━━━━━━━━━━━━━━━━\u001b[0m \u001b[32m4.9/4.9 MB\u001b[0m \u001b[31m94.8 MB/s\u001b[0m eta \u001b[36m0:00:00\u001b[0m\n",
            "\u001b[?25hCollecting tensorboard-plugin-wit>=1.6.0 (from tensorboard<2.9,>=2.8->tensorflow>=2.6.0->tflite-model-maker)\n",
            "  Downloading tensorboard_plugin_wit-1.8.1-py3-none-any.whl (781 kB)\n",
            "\u001b[2K     \u001b[90m━━━━━━━━━━━━━━━━━━━━━━━━━━━━━━━━━━━━━━━━\u001b[0m \u001b[32m781.3/781.3 kB\u001b[0m \u001b[31m49.5 MB/s\u001b[0m eta \u001b[36m0:00:00\u001b[0m\n",
            "\u001b[?25hCollecting werkzeug>=0.11.15 (from tensorboard<2.9,>=2.8->tensorflow>=2.6.0->tflite-model-maker)\n",
            "  Downloading werkzeug-3.0.1-py3-none-any.whl.metadata (4.1 kB)\n",
            "Collecting googleapis-common-protos<2,>=1.52.0 (from tensorflow-metadata->tensorflow-datasets>=2.1.0->tflite-model-maker)\n",
            "  Downloading googleapis_common_protos-1.62.0-py2.py3-none-any.whl.metadata (1.5 kB)\n",
            "INFO: pip is looking at multiple versions of tensorflow-metadata to determine which version is compatible with other requirements. This could take a while.\n",
            "Collecting tensorflow-metadata (from tensorflow-datasets>=2.1.0->tflite-model-maker)\n",
            "  Downloading tensorflow_metadata-1.13.1-py3-none-any.whl (28 kB)\n",
            "  Downloading tensorflow_metadata-1.13.0-py3-none-any.whl (53 kB)\n",
            "\u001b[2K     \u001b[90m━━━━━━━━━━━━━━━━━━━━━━━━━━━━━━━━━━━━━━━━\u001b[0m \u001b[32m53.3/53.3 kB\u001b[0m \u001b[31m4.3 MB/s\u001b[0m eta \u001b[36m0:00:00\u001b[0m\n",
            "\u001b[?25hCollecting pycparser (from CFFI>=1.0->sounddevice>=0.4.4->tflite-support>=0.4.2->tflite-model-maker)\n",
            "  Downloading pycparser-2.21-py2.py3-none-any.whl (118 kB)\n",
            "\u001b[2K     \u001b[90m━━━━━━━━━━━━━━━━━━━━━━━━━━━━━━━━━━━━━━━━\u001b[0m \u001b[32m118.7/118.7 kB\u001b[0m \u001b[31m10.7 MB/s\u001b[0m eta \u001b[36m0:00:00\u001b[0m\n",
            "\u001b[?25hCollecting cachetools<6.0,>=2.0.0 (from google-auth<3.0.0.dev0,>=1.19.0->google-api-python-client>=1.6.7->tf-models-official==2.3.0->tflite-model-maker)\n",
            "  Downloading cachetools-5.3.2-py3-none-any.whl.metadata (5.2 kB)\n",
            "Collecting pyasn1-modules>=0.2.1 (from google-auth<3.0.0.dev0,>=1.19.0->google-api-python-client>=1.6.7->tf-models-official==2.3.0->tflite-model-maker)\n",
            "  Downloading pyasn1_modules-0.3.0-py2.py3-none-any.whl (181 kB)\n",
            "\u001b[2K     \u001b[90m━━━━━━━━━━━━━━━━━━━━━━━━━━━━━━━━━━━━━━━━\u001b[0m \u001b[32m181.3/181.3 kB\u001b[0m \u001b[31m15.1 MB/s\u001b[0m eta \u001b[36m0:00:00\u001b[0m\n",
            "\u001b[?25hCollecting rsa<5,>=3.1.4 (from google-auth<3.0.0.dev0,>=1.19.0->google-api-python-client>=1.6.7->tf-models-official==2.3.0->tflite-model-maker)\n",
            "  Downloading rsa-4.9-py3-none-any.whl (34 kB)\n",
            "Collecting requests-oauthlib>=0.7.0 (from google-auth-oauthlib<0.5,>=0.4.1->tensorboard<2.9,>=2.8->tensorflow>=2.6.0->tflite-model-maker)\n",
            "  Downloading requests_oauthlib-1.3.1-py2.py3-none-any.whl (23 kB)\n",
            "Collecting google-crc32c<2.0dev,>=1.0 (from google-resumable-media<3.0dev,>=0.6.0->google-cloud-bigquery>=0.31.0->tf-models-official==2.3.0->tflite-model-maker)\n",
            "  Downloading google_crc32c-1.5.0-cp39-cp39-manylinux_2_17_x86_64.manylinux2014_x86_64.whl (32 kB)\n",
            "Collecting importlib-metadata>=4.4 (from markdown>=2.6.8->tensorboard<2.9,>=2.8->tensorflow>=2.6.0->tflite-model-maker)\n",
            "  Downloading importlib_metadata-7.0.1-py3-none-any.whl.metadata (4.9 kB)\n",
            "Collecting MarkupSafe>=2.1.1 (from werkzeug>=0.11.15->tensorboard<2.9,>=2.8->tensorflow>=2.6.0->tflite-model-maker)\n",
            "  Downloading MarkupSafe-2.1.4-cp39-cp39-manylinux_2_17_x86_64.manylinux2014_x86_64.whl.metadata (3.0 kB)\n",
            "Collecting webencodings (from bleach->kaggle>=1.3.9->tf-models-official==2.3.0->tflite-model-maker)\n",
            "  Downloading webencodings-0.5.1-py2.py3-none-any.whl (11 kB)\n",
            "Collecting text-unidecode>=1.3 (from python-slugify->kaggle>=1.3.9->tf-models-official==2.3.0->tflite-model-maker)\n",
            "  Downloading text_unidecode-1.3-py2.py3-none-any.whl (78 kB)\n",
            "\u001b[2K     \u001b[90m━━━━━━━━━━━━━━━━━━━━━━━━━━━━━━━━━━━━━━━━\u001b[0m \u001b[32m78.2/78.2 kB\u001b[0m \u001b[31m6.1 MB/s\u001b[0m eta \u001b[36m0:00:00\u001b[0m\n",
            "\u001b[?25hCollecting pyasn1<0.6.0,>=0.4.6 (from pyasn1-modules>=0.2.1->google-auth<3.0.0.dev0,>=1.19.0->google-api-python-client>=1.6.7->tf-models-official==2.3.0->tflite-model-maker)\n",
            "  Downloading pyasn1-0.5.1-py2.py3-none-any.whl.metadata (8.6 kB)\n",
            "Collecting oauthlib>=3.0.0 (from requests-oauthlib>=0.7.0->google-auth-oauthlib<0.5,>=0.4.1->tensorboard<2.9,>=2.8->tensorflow>=2.6.0->tflite-model-maker)\n",
            "  Downloading oauthlib-3.2.2-py3-none-any.whl (151 kB)\n",
            "\u001b[2K     \u001b[90m━━━━━━━━━━━━━━━━━━━━━━━━━━━━━━━━━━━━━━━━\u001b[0m \u001b[32m151.7/151.7 kB\u001b[0m \u001b[31m12.6 MB/s\u001b[0m eta \u001b[36m0:00:00\u001b[0m\n",
            "\u001b[?25hDownloading tflite_model_maker-0.4.3-py3-none-any.whl (580 kB)\n",
            "\u001b[2K   \u001b[90m━━━━━━━━━━━━━━━━━━━━━━━━━━━━━━━━━━━━━━━━\u001b[0m \u001b[32m580.1/580.1 kB\u001b[0m \u001b[31m33.6 MB/s\u001b[0m eta \u001b[36m0:00:00\u001b[0m\n",
            "\u001b[?25hDownloading Cython-3.0.8-cp39-cp39-manylinux_2_17_x86_64.manylinux2014_x86_64.whl (3.6 MB)\n",
            "\u001b[2K   \u001b[90m━━━━━━━━━━━━━━━━━━━━━━━━━━━━━━━━━━━━━━━━\u001b[0m \u001b[32m3.6/3.6 MB\u001b[0m \u001b[31m64.5 MB/s\u001b[0m eta \u001b[36m0:00:00\u001b[0m\n",
            "\u001b[?25hDownloading flatbuffers-23.5.26-py2.py3-none-any.whl (26 kB)\n",
            "Downloading lxml-5.1.0-cp39-cp39-manylinux_2_17_x86_64.manylinux2014_x86_64.whl (8.0 MB)\n",
            "\u001b[2K   \u001b[90m━━━━━━━━━━━━━━━━━━━━━━━━━━━━━━━━━━━━━━━━\u001b[0m \u001b[32m8.0/8.0 MB\u001b[0m \u001b[31m73.9 MB/s\u001b[0m eta \u001b[36m0:00:00\u001b[0m\n",
            "\u001b[?25hDownloading numba-0.58.1-cp39-cp39-manylinux2014_x86_64.manylinux_2_17_x86_64.whl (3.6 MB)\n",
            "\u001b[2K   \u001b[90m━━━━━━━━━━━━━━━━━━━━━━━━━━━━━━━━━━━━━━━━\u001b[0m \u001b[32m3.6/3.6 MB\u001b[0m \u001b[31m62.9 MB/s\u001b[0m eta \u001b[36m0:00:00\u001b[0m\n",
            "\u001b[?25hDownloading pillow-10.2.0-cp39-cp39-manylinux_2_28_x86_64.whl (4.5 MB)\n",
            "\u001b[2K   \u001b[90m━━━━━━━━━━━━━━━━━━━━━━━━━━━━━━━━━━━━━━━━\u001b[0m \u001b[32m4.5/4.5 MB\u001b[0m \u001b[31m18.7 MB/s\u001b[0m eta \u001b[36m0:00:00\u001b[0m\n",
            "\u001b[?25hDownloading PyYAML-6.0.1-cp39-cp39-manylinux_2_17_x86_64.manylinux2014_x86_64.whl (738 kB)\n",
            "\u001b[2K   \u001b[90m━━━━━━━━━━━━━━━━━━━━━━━━━━━━━━━━━━━━━━━━\u001b[0m \u001b[32m738.9/738.9 kB\u001b[0m \u001b[31m34.4 MB/s\u001b[0m eta \u001b[36m0:00:00\u001b[0m\n",
            "\u001b[?25hDownloading tensorflow_addons-0.23.0-cp39-cp39-manylinux_2_17_x86_64.manylinux2014_x86_64.whl (611 kB)\n",
            "\u001b[2K   \u001b[90m━━━━━━━━━━━━━━━━━━━━━━━━━━━━━━━━━━━━━━━━\u001b[0m \u001b[32m611.8/611.8 kB\u001b[0m \u001b[31m40.9 MB/s\u001b[0m eta \u001b[36m0:00:00\u001b[0m\n",
            "\u001b[?25hDownloading tensorflow_model_optimization-0.7.5-py2.py3-none-any.whl (241 kB)\n",
            "\u001b[2K   \u001b[90m━━━━━━━━━━━━━━━━━━━━━━━━━━━━━━━━━━━━━━━━\u001b[0m \u001b[32m241.2/241.2 kB\u001b[0m \u001b[31m18.8 MB/s\u001b[0m eta \u001b[36m0:00:00\u001b[0m\n",
            "\u001b[?25hDownloading tflite_support-0.4.4-cp39-cp39-manylinux2014_x86_64.whl (60.8 MB)\n",
            "\u001b[2K   \u001b[90m━━━━━━━━━━━━━━━━━━━━━━━━━━━━━━━━━━━━━━━━\u001b[0m \u001b[32m60.8/60.8 MB\u001b[0m \u001b[31m4.5 MB/s\u001b[0m eta \u001b[36m0:00:00\u001b[0m\n",
            "\u001b[?25hDownloading audioread-3.0.1-py3-none-any.whl (23 kB)\n",
            "Downloading cycler-0.12.1-py3-none-any.whl (8.3 kB)\n",
            "Downloading etils-1.5.2-py3-none-any.whl (140 kB)\n",
            "\u001b[2K   \u001b[90m━━━━━━━━━━━━━━━━━━━━━━━━━━━━━━━━━━━━━━━━\u001b[0m \u001b[32m140.6/140.6 kB\u001b[0m \u001b[31m12.0 MB/s\u001b[0m eta \u001b[36m0:00:00\u001b[0m\n",
            "\u001b[?25hDownloading google_api_python_client-2.115.0-py2.py3-none-any.whl (12.0 MB)\n",
            "\u001b[2K   \u001b[90m━━━━━━━━━━━━━━━━━━━━━━━━━━━━━━━━━━━━━━━━\u001b[0m \u001b[32m12.0/12.0 MB\u001b[0m \u001b[31m101.9 MB/s\u001b[0m eta \u001b[36m0:00:00\u001b[0m\n",
            "\u001b[?25hDownloading google_cloud_bigquery-3.16.0-py2.py3-none-any.whl (229 kB)\n",
            "\u001b[2K   \u001b[90m━━━━━━━━━━━━━━━━━━━━━━━━━━━━━━━━━━━━━━━━\u001b[0m \u001b[32m229.9/229.9 kB\u001b[0m \u001b[31m17.9 MB/s\u001b[0m eta \u001b[36m0:00:00\u001b[0m\n",
            "\u001b[?25hDownloading grpcio-1.60.0-cp39-cp39-manylinux_2_17_x86_64.manylinux2014_x86_64.whl (5.4 MB)\n",
            "\u001b[2K   \u001b[90m━━━━━━━━━━━━━━━━━━━━━━━━━━━━━━━━━━━━━━━━\u001b[0m \u001b[32m5.4/5.4 MB\u001b[0m \u001b[31m94.9 MB/s\u001b[0m eta \u001b[36m0:00:00\u001b[0m\n",
            "\u001b[?25hDownloading h5py-3.10.0-cp39-cp39-manylinux_2_17_x86_64.manylinux2014_x86_64.whl (4.8 MB)\n",
            "\u001b[2K   \u001b[90m━━━━━━━━━━━━━━━━━━━━━━━━━━━━━━━━━━━━━━━━\u001b[0m \u001b[32m4.8/4.8 MB\u001b[0m \u001b[31m98.3 MB/s\u001b[0m eta \u001b[36m0:00:00\u001b[0m\n",
            "\u001b[?25hDownloading joblib-1.3.2-py3-none-any.whl (302 kB)\n",
            "\u001b[2K   \u001b[90m━━━━━━━━━━━━━━━━━━━━━━━━━━━━━━━━━━━━━━━━\u001b[0m \u001b[32m302.2/302.2 kB\u001b[0m \u001b[31m23.8 MB/s\u001b[0m eta \u001b[36m0:00:00\u001b[0m\n",
            "\u001b[?25hDownloading kiwisolver-1.4.5-cp39-cp39-manylinux_2_12_x86_64.manylinux2010_x86_64.whl (1.6 MB)\n",
            "\u001b[2K   \u001b[90m━━━━━━━━━━━━━━━━━━━━━━━━━━━━━━━━━━━━━━━━\u001b[0m \u001b[32m1.6/1.6 MB\u001b[0m \u001b[31m71.1 MB/s\u001b[0m eta \u001b[36m0:00:00\u001b[0m\n",
            "\u001b[?25hDownloading libclang-16.0.6-py2.py3-none-manylinux2010_x86_64.whl (22.9 MB)\n",
            "\u001b[2K   \u001b[90m━━━━━━━━━━━━━━━━━━━━━━━━━━━━━━━━━━━━━━━━\u001b[0m \u001b[32m22.9/22.9 MB\u001b[0m \u001b[31m77.2 MB/s\u001b[0m eta \u001b[36m0:00:00\u001b[0m\n",
            "\u001b[?25hDownloading llvmlite-0.41.1-cp39-cp39-manylinux_2_17_x86_64.manylinux2014_x86_64.whl (43.6 MB)\n",
            "\u001b[2K   \u001b[90m━━━━━━━━━━━━━━━━━━━━━━━━━━━━━━━━━━━━━━━━\u001b[0m \u001b[32m43.6/43.6 MB\u001b[0m \u001b[31m12.1 MB/s\u001b[0m eta \u001b[36m0:00:00\u001b[0m\n",
            "\u001b[?25hDownloading pandas-2.2.0-cp39-cp39-manylinux_2_17_x86_64.manylinux2014_x86_64.whl (13.0 MB)\n",
            "\u001b[2K   \u001b[90m━━━━━━━━━━━━━━━━━━━━━━━━━━━━━━━━━━━━━━━━\u001b[0m \u001b[32m13.0/13.0 MB\u001b[0m \u001b[31m105.5 MB/s\u001b[0m eta \u001b[36m0:00:00\u001b[0m\n",
            "\u001b[?25hDownloading pooch-1.8.0-py3-none-any.whl (62 kB)\n",
            "\u001b[2K   \u001b[90m━━━━━━━━━━━━━━━━━━━━━━━━━━━━━━━━━━━━━━━━\u001b[0m \u001b[32m62.7/62.7 kB\u001b[0m \u001b[31m5.3 MB/s\u001b[0m eta \u001b[36m0:00:00\u001b[0m\n",
            "\u001b[?25hDownloading psutil-5.9.8-cp36-abi3-manylinux_2_12_x86_64.manylinux2010_x86_64.manylinux_2_17_x86_64.manylinux2014_x86_64.whl (288 kB)\n",
            "\u001b[2K   \u001b[90m━━━━━━━━━━━━━━━━━━━━━━━━━━━━━━━━━━━━━━━━\u001b[0m \u001b[32m288.2/288.2 kB\u001b[0m \u001b[31m23.3 MB/s\u001b[0m eta \u001b[36m0:00:00\u001b[0m\n",
            "\u001b[?25hDownloading pybind11-2.11.1-py3-none-any.whl (227 kB)\n",
            "\u001b[2K   \u001b[90m━━━━━━━━━━━━━━━━━━━━━━━━━━━━━━━━━━━━━━━━\u001b[0m \u001b[32m227.7/227.7 kB\u001b[0m \u001b[31m18.8 MB/s\u001b[0m eta \u001b[36m0:00:00\u001b[0m\n",
            "\u001b[?25hDownloading pyparsing-3.1.1-py3-none-any.whl (103 kB)\n",
            "\u001b[2K   \u001b[90m━━━━━━━━━━━━━━━━━━━━━━━━━━━━━━━━━━━━━━━━\u001b[0m \u001b[32m103.1/103.1 kB\u001b[0m \u001b[31m8.0 MB/s\u001b[0m eta \u001b[36m0:00:00\u001b[0m\n",
            "\u001b[?25hDownloading requests-2.31.0-py3-none-any.whl (62 kB)\n",
            "\u001b[2K   \u001b[90m━━━━━━━━━━━━━━━━━━━━━━━━━━━━━━━━━━━━━━━━\u001b[0m \u001b[32m62.6/62.6 kB\u001b[0m \u001b[31m5.2 MB/s\u001b[0m eta \u001b[36m0:00:00\u001b[0m\n",
            "\u001b[?25hDownloading scikit_learn-1.4.0-1-cp39-cp39-manylinux_2_17_x86_64.manylinux2014_x86_64.whl (12.1 MB)\n",
            "\u001b[2K   \u001b[90m━━━━━━━━━━━━━━━━━━━━━━━━━━━━━━━━━━━━━━━━\u001b[0m \u001b[32m12.1/12.1 MB\u001b[0m \u001b[31m30.4 MB/s\u001b[0m eta \u001b[36m0:00:00\u001b[0m\n",
            "\u001b[?25hDownloading scipy-1.12.0-cp39-cp39-manylinux_2_17_x86_64.manylinux2014_x86_64.whl (38.5 MB)\n",
            "\u001b[2K   \u001b[90m━━━━━━━━━━━━━━━━━━━━━━━━━━━━━━━━━━━━━━━━\u001b[0m \u001b[32m38.5/38.5 MB\u001b[0m \u001b[31m14.4 MB/s\u001b[0m eta \u001b[36m0:00:00\u001b[0m\n",
            "\u001b[?25hDownloading tensorflow_io_gcs_filesystem-0.35.0-cp39-cp39-manylinux_2_17_x86_64.manylinux2014_x86_64.whl (3.2 MB)\n",
            "\u001b[2K   \u001b[90m━━━━━━━━━━━━━━━━━━━━━━━━━━━━━━━━━━━━━━━━\u001b[0m \u001b[32m3.2/3.2 MB\u001b[0m \u001b[31m88.0 MB/s\u001b[0m eta \u001b[36m0:00:00\u001b[0m\n",
            "\u001b[?25hDownloading termcolor-2.4.0-py3-none-any.whl (7.7 kB)\n",
            "Downloading typing_extensions-4.9.0-py3-none-any.whl (32 kB)\n",
            "Downloading wrapt-1.16.0-cp39-cp39-manylinux_2_5_x86_64.manylinux1_x86_64.manylinux_2_17_x86_64.manylinux2014_x86_64.whl (80 kB)\n",
            "\u001b[2K   \u001b[90m━━━━━━━━━━━━━━━━━━━━━━━━━━━━━━━━━━━━━━━━\u001b[0m \u001b[32m80.1/80.1 kB\u001b[0m \u001b[31m7.1 MB/s\u001b[0m eta \u001b[36m0:00:00\u001b[0m\n",
            "\u001b[?25hDownloading array_record-0.5.0-cp39-cp39-manylinux_2_17_x86_64.manylinux2014_x86_64.whl (3.0 MB)\n",
            "\u001b[2K   \u001b[90m━━━━━━━━━━━━━━━━━━━━━━━━━━━━━━━━━━━━━━━━\u001b[0m \u001b[32m3.0/3.0 MB\u001b[0m \u001b[31m8.8 MB/s\u001b[0m eta \u001b[36m0:00:00\u001b[0m\n",
            "\u001b[?25hDownloading attrs-23.2.0-py3-none-any.whl (60 kB)\n",
            "\u001b[2K   \u001b[90m━━━━━━━━━━━━━━━━━━━━━━━━━━━━━━━━━━━━━━━━\u001b[0m \u001b[32m60.8/60.8 kB\u001b[0m \u001b[31m5.0 MB/s\u001b[0m eta \u001b[36m0:00:00\u001b[0m\n",
            "\u001b[?25hDownloading click-8.1.7-py3-none-any.whl (97 kB)\n",
            "\u001b[2K   \u001b[90m━━━━━━━━━━━━━━━━━━━━━━━━━━━━━━━━━━━━━━━━\u001b[0m \u001b[32m97.9/97.9 kB\u001b[0m \u001b[31m8.3 MB/s\u001b[0m eta \u001b[36m0:00:00\u001b[0m\n",
            "\u001b[?25hDownloading opencv_python_headless-4.9.0.80-cp37-abi3-manylinux_2_17_x86_64.manylinux2014_x86_64.whl (49.6 MB)\n",
            "\u001b[2K   \u001b[90m━━━━━━━━━━━━━━━━━━━━━━━━━━━━━━━━━━━━━━━━\u001b[0m \u001b[32m49.6/49.6 MB\u001b[0m \u001b[31m13.6 MB/s\u001b[0m eta \u001b[36m0:00:00\u001b[0m\n",
            "\u001b[?25hDownloading tqdm-4.66.1-py3-none-any.whl (78 kB)\n",
            "\u001b[2K   \u001b[90m━━━━━━━━━━━━━━━━━━━━━━━━━━━━━━━━━━━━━━━━\u001b[0m \u001b[32m78.3/78.3 kB\u001b[0m \u001b[31m5.9 MB/s\u001b[0m eta \u001b[36m0:00:00\u001b[0m\n",
            "\u001b[?25hDownloading certifi-2023.11.17-py3-none-any.whl (162 kB)\n",
            "\u001b[2K   \u001b[90m━━━━━━━━━━━━━━━━━━━━━━━━━━━━━━━━━━━━━━━━\u001b[0m \u001b[32m162.5/162.5 kB\u001b[0m \u001b[31m13.3 MB/s\u001b[0m eta \u001b[36m0:00:00\u001b[0m\n",
            "\u001b[?25hDownloading cffi-1.16.0-cp39-cp39-manylinux_2_17_x86_64.manylinux2014_x86_64.whl (443 kB)\n",
            "\u001b[2K   \u001b[90m━━━━━━━━━━━━━━━━━━━━━━━━━━━━━━━━━━━━━━━━\u001b[0m \u001b[32m443.4/443.4 kB\u001b[0m \u001b[31m31.3 MB/s\u001b[0m eta \u001b[36m0:00:00\u001b[0m\n",
            "\u001b[?25hDownloading charset_normalizer-3.3.2-cp39-cp39-manylinux_2_17_x86_64.manylinux2014_x86_64.whl (142 kB)\n",
            "\u001b[2K   \u001b[90m━━━━━━━━━━━━━━━━━━━━━━━━━━━━━━━━━━━━━━━━\u001b[0m \u001b[32m142.3/142.3 kB\u001b[0m \u001b[31m12.2 MB/s\u001b[0m eta \u001b[36m0:00:00\u001b[0m\n",
            "\u001b[?25hDownloading google_api_core-2.15.0-py3-none-any.whl (121 kB)\n",
            "\u001b[2K   \u001b[90m━━━━━━━━━━━━━━━━━━━━━━━━━━━━━━━━━━━━━━━━\u001b[0m \u001b[32m122.0/122.0 kB\u001b[0m \u001b[31m9.5 MB/s\u001b[0m eta \u001b[36m0:00:00\u001b[0m\n",
            "\u001b[?25hDownloading google_auth-2.26.2-py2.py3-none-any.whl (186 kB)\n",
            "\u001b[2K   \u001b[90m━━━━━━━━━━━━━━━━━━━━━━━━━━━━━━━━━━━━━━━━\u001b[0m \u001b[32m186.5/186.5 kB\u001b[0m \u001b[31m15.7 MB/s\u001b[0m eta \u001b[36m0:00:00\u001b[0m\n",
            "\u001b[?25hDownloading google_auth_httplib2-0.2.0-py2.py3-none-any.whl (9.3 kB)\n",
            "Downloading google_cloud_core-2.4.1-py2.py3-none-any.whl (29 kB)\n",
            "Downloading google_resumable_media-2.7.0-py2.py3-none-any.whl (80 kB)\n",
            "\u001b[2K   \u001b[90m━━━━━━━━━━━━━━━━━━━━━━━━━━━━━━━━━━━━━━━━\u001b[0m \u001b[32m80.6/80.6 kB\u001b[0m \u001b[31m6.8 MB/s\u001b[0m eta \u001b[36m0:00:00\u001b[0m\n",
            "\u001b[?25hDownloading googleapis_common_protos-1.62.0-py2.py3-none-any.whl (228 kB)\n",
            "\u001b[2K   \u001b[90m━━━━━━━━━━━━━━━━━━━━━━━━━━━━━━━━━━━━━━━━\u001b[0m \u001b[32m228.7/228.7 kB\u001b[0m \u001b[31m17.5 MB/s\u001b[0m eta \u001b[36m0:00:00\u001b[0m\n",
            "\u001b[?25hDownloading idna-3.6-py3-none-any.whl (61 kB)\n",
            "\u001b[2K   \u001b[90m━━━━━━━━━━━━━━━━━━━━━━━━━━━━━━━━━━━━━━━━\u001b[0m \u001b[32m61.6/61.6 kB\u001b[0m \u001b[31m5.4 MB/s\u001b[0m eta \u001b[36m0:00:00\u001b[0m\n",
            "\u001b[?25hDownloading Markdown-3.5.2-py3-none-any.whl (103 kB)\n",
            "\u001b[2K   \u001b[90m━━━━━━━━━━━━━━━━━━━━━━━━━━━━━━━━━━━━━━━━\u001b[0m \u001b[32m103.9/103.9 kB\u001b[0m \u001b[31m8.3 MB/s\u001b[0m eta \u001b[36m0:00:00\u001b[0m\n",
            "\u001b[?25hDownloading platformdirs-4.1.0-py3-none-any.whl (17 kB)\n",
            "Downloading pytz-2023.3.post1-py2.py3-none-any.whl (502 kB)\n",
            "\u001b[2K   \u001b[90m━━━━━━━━━━━━━━━━━━━━━━━━━━━━━━━━━━━━━━━━\u001b[0m \u001b[32m502.5/502.5 kB\u001b[0m \u001b[31m33.1 MB/s\u001b[0m eta \u001b[36m0:00:00\u001b[0m\n",
            "\u001b[?25hDownloading threadpoolctl-3.2.0-py3-none-any.whl (15 kB)\n",
            "Downloading tzdata-2023.4-py2.py3-none-any.whl (346 kB)\n",
            "\u001b[2K   \u001b[90m━━━━━━━━━━━━━━━━━━━━━━━━━━━━━━━━━━━━━━━━\u001b[0m \u001b[32m346.6/346.6 kB\u001b[0m \u001b[31m26.8 MB/s\u001b[0m eta \u001b[36m0:00:00\u001b[0m\n",
            "\u001b[?25hDownloading werkzeug-3.0.1-py3-none-any.whl (226 kB)\n",
            "\u001b[2K   \u001b[90m━━━━━━━━━━━━━━━━━━━━━━━━━━━━━━━━━━━━━━━━\u001b[0m \u001b[32m226.7/226.7 kB\u001b[0m \u001b[31m19.2 MB/s\u001b[0m eta \u001b[36m0:00:00\u001b[0m\n",
            "\u001b[?25hDownloading bleach-6.1.0-py3-none-any.whl (162 kB)\n",
            "\u001b[2K   \u001b[90m━━━━━━━━━━━━━━━━━━━━━━━━━━━━━━━━━━━━━━━━\u001b[0m \u001b[32m162.8/162.8 kB\u001b[0m \u001b[31m14.6 MB/s\u001b[0m eta \u001b[36m0:00:00\u001b[0m\n",
            "\u001b[?25hDownloading fsspec-2023.12.2-py3-none-any.whl (168 kB)\n",
            "\u001b[2K   \u001b[90m━━━━━━━━━━━━━━━━━━━━━━━━━━━━━━━━━━━━━━━━\u001b[0m \u001b[32m169.0/169.0 kB\u001b[0m \u001b[31m14.3 MB/s\u001b[0m eta \u001b[36m0:00:00\u001b[0m\n",
            "\u001b[?25hDownloading importlib_resources-6.1.1-py3-none-any.whl (33 kB)\n",
            "Downloading zipp-3.17.0-py3-none-any.whl (7.4 kB)\n",
            "Downloading cachetools-5.3.2-py3-none-any.whl (9.3 kB)\n",
            "Downloading importlib_metadata-7.0.1-py3-none-any.whl (23 kB)\n",
            "Downloading MarkupSafe-2.1.4-cp39-cp39-manylinux_2_17_x86_64.manylinux2014_x86_64.whl (25 kB)\n",
            "Downloading pyasn1-0.5.1-py2.py3-none-any.whl (84 kB)\n",
            "\u001b[2K   \u001b[90m━━━━━━━━━━━━━━━━━━━━━━━━━━━━━━━━━━━━━━━━\u001b[0m \u001b[32m84.9/84.9 kB\u001b[0m \u001b[31m7.3 MB/s\u001b[0m eta \u001b[36m0:00:00\u001b[0m\n",
            "\u001b[?25hBuilding wheels for collected packages: fire, kaggle, promise\n",
            "  Building wheel for fire (setup.py) ... \u001b[?25l\u001b[?25hdone\n",
            "  Created wheel for fire: filename=fire-0.5.0-py2.py3-none-any.whl size=116934 sha256=9ab1cde3a1377a998a958ef90ec9ab91321f84582cce00df64ae5c4b9fa539ff\n",
            "  Stored in directory: /root/.cache/pip/wheels/f7/f1/89/b9ea2bf8f80ec027a88fef1d354b3816b4d3d29530988972f6\n",
            "  Building wheel for kaggle (setup.py) ... \u001b[?25l\u001b[?25hdone\n",
            "  Created wheel for kaggle: filename=kaggle-1.6.3-py3-none-any.whl size=111916 sha256=51761e3cf3576a6f768684d2ada89ee4117cdd261e2a4d2d3643e26c5d57fa44\n",
            "  Stored in directory: /root/.cache/pip/wheels/86/bc/b2/99460b4db22375a6103c397037ca1689f6cf7e51813e44452d\n",
            "  Building wheel for promise (setup.py) ... \u001b[?25l\u001b[?25hdone\n",
            "  Created wheel for promise: filename=promise-2.3-py3-none-any.whl size=21484 sha256=16775137c74c20babe946c9b9a6de67f7f81be342414866dd37b43a3a1bbdb50\n",
            "  Stored in directory: /root/.cache/pip/wheels/e1/e8/83/ddea66100678d139b14bc87692ece57c6a2a937956d2532608\n",
            "Successfully built fire kaggle promise\n",
            "Installing collected packages: webencodings, text-unidecode, tensorflow-estimator, tensorboard-plugin-wit, sentencepiece, pytz, py-cpuinfo, libclang, keras, gin-config, flatbuffers, dm-tree, dataclasses, zipp, wrapt, urllib3, uritemplate, tzdata, typing-extensions, typeguard, tqdm, toml, threadpoolctl, termcolor, tensorflow-io-gcs-filesystem, tensorboard-data-server, six, PyYAML, python-slugify, pyparsing, pycparser, pybind11, pyasn1, psutil, protobuf, platformdirs, pillow, oauthlib, numpy, MarkupSafe, lxml, llvmlite, kiwisolver, joblib, idna, grpcio, google-crc32c, gast, fsspec, etils, decorator, Cython, cycler, click, charset-normalizer, certifi, cachetools, audioread, attrs, absl-py, werkzeug, tf-slim, tensorflow-model-optimization, tensorflow-hub, scipy, rsa, requests, python-dateutil, pyasn1-modules, promise, packaging, opt-einsum, opencv-python-headless, numba, keras-preprocessing, importlib_resources, importlib-metadata, httplib2, h5py, googleapis-common-protos, google-resumable-media, google-pasta, fire, CFFI, bleach, astunparse, tensorflow-metadata, tensorflow-addons, soundfile, sounddevice, scikit-learn, resampy, requests-oauthlib, pooch, pandas, neural-structured-learning, matplotlib, markdown, kaggle, google-auth, tflite-support, librosa, google-auth-oauthlib, google-auth-httplib2, google-api-core, array-record, tensorflow-datasets, tensorboard, google-cloud-core, google-api-python-client, tensorflow, google-cloud-bigquery, tf-models-official, tensorflowjs, scann, tflite-model-maker\n",
            "Successfully installed CFFI-1.16.0 Cython-3.0.8 MarkupSafe-2.1.4 PyYAML-6.0.1 absl-py-1.4.0 array-record-0.5.0 astunparse-1.6.3 attrs-23.2.0 audioread-3.0.1 bleach-6.1.0 cachetools-5.3.2 certifi-2023.11.17 charset-normalizer-3.3.2 click-8.1.7 cycler-0.12.1 dataclasses-0.6 decorator-5.1.1 dm-tree-0.1.8 etils-1.5.2 fire-0.5.0 flatbuffers-23.5.26 fsspec-2023.12.2 gast-0.5.4 gin-config-0.5.0 google-api-core-2.15.0 google-api-python-client-2.115.0 google-auth-2.26.2 google-auth-httplib2-0.2.0 google-auth-oauthlib-0.4.6 google-cloud-bigquery-3.16.0 google-cloud-core-2.4.1 google-crc32c-1.5.0 google-pasta-0.2.0 google-resumable-media-2.7.0 googleapis-common-protos-1.62.0 grpcio-1.60.0 h5py-3.10.0 httplib2-0.22.0 idna-3.6 importlib-metadata-7.0.1 importlib_resources-6.1.1 joblib-1.3.2 kaggle-1.6.3 keras-2.8.0 keras-preprocessing-1.1.2 kiwisolver-1.4.5 libclang-16.0.6 librosa-0.8.1 llvmlite-0.41.1 lxml-5.1.0 markdown-3.5.2 matplotlib-3.4.3 neural-structured-learning-1.4.0 numba-0.58.1 numpy-1.23.3 oauthlib-3.2.2 opencv-python-headless-4.9.0.80 opt-einsum-3.3.0 packaging-20.9 pandas-2.2.0 pillow-10.2.0 platformdirs-4.1.0 pooch-1.8.0 promise-2.3 protobuf-3.19.6 psutil-5.9.8 py-cpuinfo-9.0.0 pyasn1-0.5.1 pyasn1-modules-0.3.0 pybind11-2.11.1 pycparser-2.21 pyparsing-3.1.1 python-dateutil-2.8.2 python-slugify-8.0.1 pytz-2023.3.post1 requests-2.31.0 requests-oauthlib-1.3.1 resampy-0.4.2 rsa-4.9 scann-1.2.6 scikit-learn-1.4.0 scipy-1.12.0 sentencepiece-0.1.99 six-1.16.0 sounddevice-0.4.6 soundfile-0.12.1 tensorboard-2.8.0 tensorboard-data-server-0.6.1 tensorboard-plugin-wit-1.8.1 tensorflow-2.8.4 tensorflow-addons-0.23.0 tensorflow-datasets-4.9.0 tensorflow-estimator-2.8.0 tensorflow-hub-0.12.0 tensorflow-io-gcs-filesystem-0.35.0 tensorflow-metadata-1.13.0 tensorflow-model-optimization-0.7.5 tensorflowjs-3.18.0 termcolor-2.4.0 text-unidecode-1.3 tf-models-official-2.3.0 tf-slim-1.1.0 tflite-model-maker-0.4.3 tflite-support-0.4.4 threadpoolctl-3.2.0 toml-0.10.2 tqdm-4.66.1 typeguard-2.13.3 typing-extensions-4.9.0 tzdata-2023.4 uritemplate-4.1.1 urllib3-1.25.11 webencodings-0.5.1 werkzeug-3.0.1 wrapt-1.16.0 zipp-3.17.0\n",
            "\u001b[33mWARNING: Running pip as the 'root' user can result in broken permissions and conflicting behaviour with the system package manager. It is recommended to use a virtual environment instead: https://pip.pypa.io/warnings/venv\u001b[0m\u001b[33m\n",
            "\u001b[0m"
          ]
        },
        {
          "output_type": "execute_result",
          "data": {
            "text/plain": []
          },
          "metadata": {},
          "execution_count": 5
        }
      ]
    },
    {
      "cell_type": "code",
      "source": [
        "from google.colab import drive\n",
        "drive.mount('/content/drive',force_remount=True)"
      ],
      "metadata": {
        "colab": {
          "base_uri": "https://localhost:8080/"
        },
        "id": "U82ccJ9PDJIN",
        "outputId": "70ae2c9a-050a-42ab-b142-c250610e3f93"
      },
      "execution_count": 6,
      "outputs": [
        {
          "output_type": "stream",
          "name": "stdout",
          "text": [
            "Mounted at /content/drive\n"
          ]
        }
      ]
    },
    {
      "cell_type": "code",
      "source": [
        "%%shell\n",
        "eval \"$(conda shell.bash hook)\"\n",
        "conda activate myenv\n",
        "pip install ipykernel"
      ],
      "metadata": {
        "colab": {
          "base_uri": "https://localhost:8080/"
        },
        "id": "2JamRBqWDPd5",
        "outputId": "e2b5f795-bc54-4d33-9c45-9c2fd5598cf7"
      },
      "execution_count": 7,
      "outputs": [
        {
          "output_type": "stream",
          "name": "stdout",
          "text": [
            "Collecting ipykernel\n",
            "  Downloading ipykernel-6.29.0-py3-none-any.whl.metadata (6.0 kB)\n",
            "Collecting comm>=0.1.1 (from ipykernel)\n",
            "  Downloading comm-0.2.1-py3-none-any.whl.metadata (3.7 kB)\n",
            "Collecting debugpy>=1.6.5 (from ipykernel)\n",
            "  Downloading debugpy-1.8.0-cp39-cp39-manylinux_2_17_x86_64.manylinux2014_x86_64.whl.metadata (1.0 kB)\n",
            "Collecting ipython>=7.23.1 (from ipykernel)\n",
            "  Downloading ipython-8.18.1-py3-none-any.whl.metadata (6.0 kB)\n",
            "Collecting jupyter-client>=6.1.12 (from ipykernel)\n",
            "  Downloading jupyter_client-8.6.0-py3-none-any.whl.metadata (8.3 kB)\n",
            "Collecting jupyter-core!=5.0.*,>=4.12 (from ipykernel)\n",
            "  Downloading jupyter_core-5.7.1-py3-none-any.whl.metadata (3.4 kB)\n",
            "Collecting matplotlib-inline>=0.1 (from ipykernel)\n",
            "  Downloading matplotlib_inline-0.1.6-py3-none-any.whl (9.4 kB)\n",
            "Collecting nest-asyncio (from ipykernel)\n",
            "  Downloading nest_asyncio-1.6.0-py3-none-any.whl.metadata (2.8 kB)\n",
            "Requirement already satisfied: packaging in /usr/local/envs/myenv/lib/python3.9/site-packages (from ipykernel) (20.9)\n",
            "Requirement already satisfied: psutil in /usr/local/envs/myenv/lib/python3.9/site-packages (from ipykernel) (5.9.8)\n",
            "Collecting pyzmq>=24 (from ipykernel)\n",
            "  Downloading pyzmq-25.1.2-cp39-cp39-manylinux_2_12_x86_64.manylinux2010_x86_64.whl.metadata (4.9 kB)\n",
            "Collecting tornado>=6.1 (from ipykernel)\n",
            "  Downloading tornado-6.4-cp38-abi3-manylinux_2_5_x86_64.manylinux1_x86_64.manylinux_2_17_x86_64.manylinux2014_x86_64.whl.metadata (2.5 kB)\n",
            "Collecting traitlets>=5.4.0 (from ipykernel)\n",
            "  Downloading traitlets-5.14.1-py3-none-any.whl.metadata (10 kB)\n",
            "Requirement already satisfied: decorator in /usr/local/envs/myenv/lib/python3.9/site-packages (from ipython>=7.23.1->ipykernel) (5.1.1)\n",
            "Collecting jedi>=0.16 (from ipython>=7.23.1->ipykernel)\n",
            "  Downloading jedi-0.19.1-py2.py3-none-any.whl.metadata (22 kB)\n",
            "Collecting prompt-toolkit<3.1.0,>=3.0.41 (from ipython>=7.23.1->ipykernel)\n",
            "  Downloading prompt_toolkit-3.0.43-py3-none-any.whl.metadata (6.5 kB)\n",
            "Collecting pygments>=2.4.0 (from ipython>=7.23.1->ipykernel)\n",
            "  Downloading pygments-2.17.2-py3-none-any.whl.metadata (2.6 kB)\n",
            "Collecting stack-data (from ipython>=7.23.1->ipykernel)\n",
            "  Downloading stack_data-0.6.3-py3-none-any.whl.metadata (18 kB)\n",
            "Requirement already satisfied: typing-extensions in /usr/local/envs/myenv/lib/python3.9/site-packages (from ipython>=7.23.1->ipykernel) (4.9.0)\n",
            "Collecting exceptiongroup (from ipython>=7.23.1->ipykernel)\n",
            "  Downloading exceptiongroup-1.2.0-py3-none-any.whl.metadata (6.6 kB)\n",
            "Collecting pexpect>4.3 (from ipython>=7.23.1->ipykernel)\n",
            "  Downloading pexpect-4.9.0-py2.py3-none-any.whl.metadata (2.5 kB)\n",
            "Requirement already satisfied: importlib-metadata>=4.8.3 in /usr/local/envs/myenv/lib/python3.9/site-packages (from jupyter-client>=6.1.12->ipykernel) (7.0.1)\n",
            "Requirement already satisfied: python-dateutil>=2.8.2 in /usr/local/envs/myenv/lib/python3.9/site-packages (from jupyter-client>=6.1.12->ipykernel) (2.8.2)\n",
            "Requirement already satisfied: platformdirs>=2.5 in /usr/local/envs/myenv/lib/python3.9/site-packages (from jupyter-core!=5.0.*,>=4.12->ipykernel) (4.1.0)\n",
            "Requirement already satisfied: pyparsing>=2.0.2 in /usr/local/envs/myenv/lib/python3.9/site-packages (from packaging->ipykernel) (3.1.1)\n",
            "Requirement already satisfied: zipp>=0.5 in /usr/local/envs/myenv/lib/python3.9/site-packages (from importlib-metadata>=4.8.3->jupyter-client>=6.1.12->ipykernel) (3.17.0)\n",
            "Collecting parso<0.9.0,>=0.8.3 (from jedi>=0.16->ipython>=7.23.1->ipykernel)\n",
            "  Downloading parso-0.8.3-py2.py3-none-any.whl (100 kB)\n",
            "\u001b[2K     \u001b[90m━━━━━━━━━━━━━━━━━━━━━━━━━━━━━━━━━━━━━━━━\u001b[0m \u001b[32m100.8/100.8 kB\u001b[0m \u001b[31m4.2 MB/s\u001b[0m eta \u001b[36m0:00:00\u001b[0m\n",
            "\u001b[?25hCollecting ptyprocess>=0.5 (from pexpect>4.3->ipython>=7.23.1->ipykernel)\n",
            "  Downloading ptyprocess-0.7.0-py2.py3-none-any.whl (13 kB)\n",
            "Collecting wcwidth (from prompt-toolkit<3.1.0,>=3.0.41->ipython>=7.23.1->ipykernel)\n",
            "  Downloading wcwidth-0.2.13-py2.py3-none-any.whl.metadata (14 kB)\n",
            "Requirement already satisfied: six>=1.5 in /usr/local/envs/myenv/lib/python3.9/site-packages (from python-dateutil>=2.8.2->jupyter-client>=6.1.12->ipykernel) (1.16.0)\n",
            "Collecting executing>=1.2.0 (from stack-data->ipython>=7.23.1->ipykernel)\n",
            "  Downloading executing-2.0.1-py2.py3-none-any.whl.metadata (9.0 kB)\n",
            "Collecting asttokens>=2.1.0 (from stack-data->ipython>=7.23.1->ipykernel)\n",
            "  Downloading asttokens-2.4.1-py2.py3-none-any.whl.metadata (5.2 kB)\n",
            "Collecting pure-eval (from stack-data->ipython>=7.23.1->ipykernel)\n",
            "  Downloading pure_eval-0.2.2-py3-none-any.whl (11 kB)\n",
            "Downloading ipykernel-6.29.0-py3-none-any.whl (116 kB)\n",
            "\u001b[2K   \u001b[90m━━━━━━━━━━━━━━━━━━━━━━━━━━━━━━━━━━━━━━━━\u001b[0m \u001b[32m116.1/116.1 kB\u001b[0m \u001b[31m8.2 MB/s\u001b[0m eta \u001b[36m0:00:00\u001b[0m\n",
            "\u001b[?25hDownloading comm-0.2.1-py3-none-any.whl (7.2 kB)\n",
            "Downloading debugpy-1.8.0-cp39-cp39-manylinux_2_17_x86_64.manylinux2014_x86_64.whl (3.4 MB)\n",
            "\u001b[2K   \u001b[90m━━━━━━━━━━━━━━━━━━━━━━━━━━━━━━━━━━━━━━━━\u001b[0m \u001b[32m3.4/3.4 MB\u001b[0m \u001b[31m43.9 MB/s\u001b[0m eta \u001b[36m0:00:00\u001b[0m\n",
            "\u001b[?25hDownloading ipython-8.18.1-py3-none-any.whl (808 kB)\n",
            "\u001b[2K   \u001b[90m━━━━━━━━━━━━━━━━━━━━━━━━━━━━━━━━━━━━━━━━\u001b[0m \u001b[32m808.2/808.2 kB\u001b[0m \u001b[31m39.7 MB/s\u001b[0m eta \u001b[36m0:00:00\u001b[0m\n",
            "\u001b[?25hDownloading jupyter_client-8.6.0-py3-none-any.whl (105 kB)\n",
            "\u001b[2K   \u001b[90m━━━━━━━━━━━━━━━━━━━━━━━━━━━━━━━━━━━━━━━━\u001b[0m \u001b[32m105.9/105.9 kB\u001b[0m \u001b[31m9.0 MB/s\u001b[0m eta \u001b[36m0:00:00\u001b[0m\n",
            "\u001b[?25hDownloading jupyter_core-5.7.1-py3-none-any.whl (28 kB)\n",
            "Downloading pyzmq-25.1.2-cp39-cp39-manylinux_2_12_x86_64.manylinux2010_x86_64.whl (1.1 MB)\n",
            "\u001b[2K   \u001b[90m━━━━━━━━━━━━━━━━━━━━━━━━━━━━━━━━━━━━━━━━\u001b[0m \u001b[32m1.1/1.1 MB\u001b[0m \u001b[31m49.3 MB/s\u001b[0m eta \u001b[36m0:00:00\u001b[0m\n",
            "\u001b[?25hDownloading tornado-6.4-cp38-abi3-manylinux_2_5_x86_64.manylinux1_x86_64.manylinux_2_17_x86_64.manylinux2014_x86_64.whl (435 kB)\n",
            "\u001b[2K   \u001b[90m━━━━━━━━━━━━━━━━━━━━━━━━━━━━━━━━━━━━━━━━\u001b[0m \u001b[32m435.4/435.4 kB\u001b[0m \u001b[31m28.2 MB/s\u001b[0m eta \u001b[36m0:00:00\u001b[0m\n",
            "\u001b[?25hDownloading traitlets-5.14.1-py3-none-any.whl (85 kB)\n",
            "\u001b[2K   \u001b[90m━━━━━━━━━━━━━━━━━━━━━━━━━━━━━━━━━━━━━━━━\u001b[0m \u001b[32m85.4/85.4 kB\u001b[0m \u001b[31m6.6 MB/s\u001b[0m eta \u001b[36m0:00:00\u001b[0m\n",
            "\u001b[?25hDownloading nest_asyncio-1.6.0-py3-none-any.whl (5.2 kB)\n",
            "Downloading jedi-0.19.1-py2.py3-none-any.whl (1.6 MB)\n",
            "\u001b[2K   \u001b[90m━━━━━━━━━━━━━━━━━━━━━━━━━━━━━━━━━━━━━━━━\u001b[0m \u001b[32m1.6/1.6 MB\u001b[0m \u001b[31m50.4 MB/s\u001b[0m eta \u001b[36m0:00:00\u001b[0m\n",
            "\u001b[?25hDownloading pexpect-4.9.0-py2.py3-none-any.whl (63 kB)\n",
            "\u001b[2K   \u001b[90m━━━━━━━━━━━━━━━━━━━━━━━━━━━━━━━━━━━━━━━━\u001b[0m \u001b[32m63.8/63.8 kB\u001b[0m \u001b[31m5.2 MB/s\u001b[0m eta \u001b[36m0:00:00\u001b[0m\n",
            "\u001b[?25hDownloading prompt_toolkit-3.0.43-py3-none-any.whl (386 kB)\n",
            "\u001b[2K   \u001b[90m━━━━━━━━━━━━━━━━━━━━━━━━━━━━━━━━━━━━━━━━\u001b[0m \u001b[32m386.1/386.1 kB\u001b[0m \u001b[31m29.5 MB/s\u001b[0m eta \u001b[36m0:00:00\u001b[0m\n",
            "\u001b[?25hDownloading pygments-2.17.2-py3-none-any.whl (1.2 MB)\n",
            "\u001b[2K   \u001b[90m━━━━━━━━━━━━━━━━━━━━━━━━━━━━━━━━━━━━━━━━\u001b[0m \u001b[32m1.2/1.2 MB\u001b[0m \u001b[31m60.5 MB/s\u001b[0m eta \u001b[36m0:00:00\u001b[0m\n",
            "\u001b[?25hDownloading exceptiongroup-1.2.0-py3-none-any.whl (16 kB)\n",
            "Downloading stack_data-0.6.3-py3-none-any.whl (24 kB)\n",
            "Downloading asttokens-2.4.1-py2.py3-none-any.whl (27 kB)\n",
            "Downloading executing-2.0.1-py2.py3-none-any.whl (24 kB)\n",
            "Downloading wcwidth-0.2.13-py2.py3-none-any.whl (34 kB)\n",
            "Installing collected packages: wcwidth, pure-eval, ptyprocess, traitlets, tornado, pyzmq, pygments, prompt-toolkit, pexpect, parso, nest-asyncio, executing, exceptiongroup, debugpy, asttokens, stack-data, matplotlib-inline, jupyter-core, jedi, comm, jupyter-client, ipython, ipykernel\n",
            "Successfully installed asttokens-2.4.1 comm-0.2.1 debugpy-1.8.0 exceptiongroup-1.2.0 executing-2.0.1 ipykernel-6.29.0 ipython-8.18.1 jedi-0.19.1 jupyter-client-8.6.0 jupyter-core-5.7.1 matplotlib-inline-0.1.6 nest-asyncio-1.6.0 parso-0.8.3 pexpect-4.9.0 prompt-toolkit-3.0.43 ptyprocess-0.7.0 pure-eval-0.2.2 pygments-2.17.2 pyzmq-25.1.2 stack-data-0.6.3 tornado-6.4 traitlets-5.14.1 wcwidth-0.2.13\n",
            "\u001b[33mWARNING: Running pip as the 'root' user can result in broken permissions and conflicting behaviour with the system package manager. It is recommended to use a virtual environment instead: https://pip.pypa.io/warnings/venv\u001b[0m\u001b[33m\n",
            "\u001b[0m"
          ]
        },
        {
          "output_type": "execute_result",
          "data": {
            "text/plain": []
          },
          "metadata": {},
          "execution_count": 7
        }
      ]
    },
    {
      "cell_type": "code",
      "source": [
        "%%shell\n",
        "eval \"$(conda shell.bash hook)\"\n",
        "conda activate myenv\n",
        "pip install numpy==1.23.4"
      ],
      "metadata": {
        "colab": {
          "base_uri": "https://localhost:8080/"
        },
        "id": "YXQhBuf2FgoW",
        "outputId": "1af56182-9a24-4adc-c9b6-edba0f4b6d50"
      },
      "execution_count": 8,
      "outputs": [
        {
          "output_type": "stream",
          "name": "stdout",
          "text": [
            "Collecting numpy==1.23.4\n",
            "  Downloading numpy-1.23.4-cp39-cp39-manylinux_2_17_x86_64.manylinux2014_x86_64.whl (17.1 MB)\n",
            "\u001b[2K     \u001b[90m━━━━━━━━━━━━━━━━━━━━━━━━━━━━━━━━━━━━━━━━\u001b[0m \u001b[32m17.1/17.1 MB\u001b[0m \u001b[31m68.3 MB/s\u001b[0m eta \u001b[36m0:00:00\u001b[0m\n",
            "\u001b[?25hInstalling collected packages: numpy\n",
            "  Attempting uninstall: numpy\n",
            "    Found existing installation: numpy 1.23.3\n",
            "    Uninstalling numpy-1.23.3:\n",
            "      Successfully uninstalled numpy-1.23.3\n",
            "\u001b[31mERROR: pip's dependency resolver does not currently take into account all the packages that are installed. This behaviour is the source of the following dependency conflicts.\n",
            "tflite-model-maker 0.4.3 requires numpy<1.23.4,>=1.17.3, but you have numpy 1.23.4 which is incompatible.\u001b[0m\u001b[31m\n",
            "\u001b[0mSuccessfully installed numpy-1.23.4\n",
            "\u001b[33mWARNING: Running pip as the 'root' user can result in broken permissions and conflicting behaviour with the system package manager. It is recommended to use a virtual environment instead: https://pip.pypa.io/warnings/venv\u001b[0m\u001b[33m\n",
            "\u001b[0m"
          ]
        },
        {
          "output_type": "execute_result",
          "data": {
            "text/plain": []
          },
          "metadata": {},
          "execution_count": 8
        }
      ]
    },
    {
      "cell_type": "code",
      "source": [
        "%%shell\n",
        "eval \"$(conda shell.bash hook)\"\n",
        "conda activate myenv\n",
        "pip install pycocotools"
      ],
      "metadata": {
        "colab": {
          "base_uri": "https://localhost:8080/"
        },
        "id": "SOFxBpClFqFf",
        "outputId": "1537de03-50e2-4e8e-bd83-65b01f8fac3b"
      },
      "execution_count": 9,
      "outputs": [
        {
          "output_type": "stream",
          "name": "stdout",
          "text": [
            "Collecting pycocotools\n",
            "  Downloading pycocotools-2.0.7-cp39-cp39-manylinux_2_17_x86_64.manylinux2014_x86_64.whl.metadata (1.1 kB)\n",
            "Requirement already satisfied: matplotlib>=2.1.0 in /usr/local/envs/myenv/lib/python3.9/site-packages (from pycocotools) (3.4.3)\n",
            "Requirement already satisfied: numpy in /usr/local/envs/myenv/lib/python3.9/site-packages (from pycocotools) (1.23.4)\n",
            "Requirement already satisfied: cycler>=0.10 in /usr/local/envs/myenv/lib/python3.9/site-packages (from matplotlib>=2.1.0->pycocotools) (0.12.1)\n",
            "Requirement already satisfied: kiwisolver>=1.0.1 in /usr/local/envs/myenv/lib/python3.9/site-packages (from matplotlib>=2.1.0->pycocotools) (1.4.5)\n",
            "Requirement already satisfied: pillow>=6.2.0 in /usr/local/envs/myenv/lib/python3.9/site-packages (from matplotlib>=2.1.0->pycocotools) (10.2.0)\n",
            "Requirement already satisfied: pyparsing>=2.2.1 in /usr/local/envs/myenv/lib/python3.9/site-packages (from matplotlib>=2.1.0->pycocotools) (3.1.1)\n",
            "Requirement already satisfied: python-dateutil>=2.7 in /usr/local/envs/myenv/lib/python3.9/site-packages (from matplotlib>=2.1.0->pycocotools) (2.8.2)\n",
            "Requirement already satisfied: six>=1.5 in /usr/local/envs/myenv/lib/python3.9/site-packages (from python-dateutil>=2.7->matplotlib>=2.1.0->pycocotools) (1.16.0)\n",
            "Downloading pycocotools-2.0.7-cp39-cp39-manylinux_2_17_x86_64.manylinux2014_x86_64.whl (435 kB)\n",
            "\u001b[2K   \u001b[90m━━━━━━━━━━━━━━━━━━━━━━━━━━━━━━━━━━━━━━━━\u001b[0m \u001b[32m435.1/435.1 kB\u001b[0m \u001b[31m7.4 MB/s\u001b[0m eta \u001b[36m0:00:00\u001b[0m\n",
            "\u001b[?25hInstalling collected packages: pycocotools\n",
            "Successfully installed pycocotools-2.0.7\n",
            "\u001b[33mWARNING: Running pip as the 'root' user can result in broken permissions and conflicting behaviour with the system package manager. It is recommended to use a virtual environment instead: https://pip.pypa.io/warnings/venv\u001b[0m\u001b[33m\n",
            "\u001b[0m"
          ]
        },
        {
          "output_type": "execute_result",
          "data": {
            "text/plain": []
          },
          "metadata": {},
          "execution_count": 9
        }
      ]
    },
    {
      "cell_type": "code",
      "source": [
        "%%shell\n",
        "eval \"$(conda shell.bash hook)\"\n",
        "conda activate myenv\n",
        "pip install split-folders"
      ],
      "metadata": {
        "colab": {
          "base_uri": "https://localhost:8080/"
        },
        "id": "_OB_9pRpHdH9",
        "outputId": "c7e2d97d-aba6-4436-f643-2012f5738e8d"
      },
      "execution_count": 10,
      "outputs": [
        {
          "output_type": "stream",
          "name": "stdout",
          "text": [
            "Collecting split-folders\n",
            "  Downloading split_folders-0.5.1-py3-none-any.whl (8.4 kB)\n",
            "Installing collected packages: split-folders\n",
            "Successfully installed split-folders-0.5.1\n",
            "\u001b[33mWARNING: Running pip as the 'root' user can result in broken permissions and conflicting behaviour with the system package manager. It is recommended to use a virtual environment instead: https://pip.pypa.io/warnings/venv\u001b[0m\u001b[33m\n",
            "\u001b[0m"
          ]
        },
        {
          "output_type": "execute_result",
          "data": {
            "text/plain": []
          },
          "metadata": {},
          "execution_count": 10
        }
      ]
    },
    {
      "cell_type": "markdown",
      "source": [
        "### Import Packages"
      ],
      "metadata": {
        "id": "SBHLmQyGG5FT"
      }
    },
    {
      "cell_type": "code",
      "source": [
        "IMPORT_FILE = \"import.py\""
      ],
      "metadata": {
        "id": "cW1alL0mG88V"
      },
      "execution_count": 11,
      "outputs": []
    },
    {
      "cell_type": "code",
      "source": [
        "%%writefile {IMPORT_FILE}\n",
        "\n",
        "import numpy as np\n",
        "import splitfolders\n",
        "import shutil\n",
        "\n",
        "import cv2\n",
        "from PIL import Image\n",
        "\n",
        "from tflite_model_maker.config import QuantizationConfig\n",
        "from tflite_model_maker.config import ExportFormat\n",
        "from tflite_model_maker import model_spec\n",
        "from tflite_model_maker import object_detector\n",
        "\n",
        "import tensorflow as tf\n",
        "assert tf.__version__.startswith('2')\n",
        "\n",
        "tf.get_logger().setLevel('ERROR')\n",
        "from absl import logging\n",
        "logging.set_verbosity(logging.ERROR)\n"
      ],
      "metadata": {
        "colab": {
          "base_uri": "https://localhost:8080/"
        },
        "id": "2kCY--4_HE41",
        "outputId": "fa4d752e-0cde-4be0-b39f-b12a703ff587"
      },
      "execution_count": 12,
      "outputs": [
        {
          "output_type": "stream",
          "name": "stdout",
          "text": [
            "Writing import.py\n"
          ]
        }
      ]
    },
    {
      "cell_type": "code",
      "source": [
        "%%shell\n",
        "eval \"$(conda shell.bash hook)\"\n",
        "conda activate myenv\n",
        "python import.py"
      ],
      "metadata": {
        "colab": {
          "base_uri": "https://localhost:8080/"
        },
        "id": "_m32hH63HVXV",
        "outputId": "3693358c-8810-4bd6-c42d-787c745ba643"
      },
      "execution_count": 13,
      "outputs": [
        {
          "output_type": "stream",
          "name": "stdout",
          "text": [
            "2024-01-24 08:19:03.923479: W tensorflow/stream_executor/platform/default/dso_loader.cc:64] Could not load dynamic library 'libcudart.so.11.0'; dlerror: libcudart.so.11.0: cannot open shared object file: No such file or directory; LD_LIBRARY_PATH: /usr/local/envs/myenv/lib/python3.9/site-packages/cv2/../../lib64:/usr/lib64-nvidia\n",
            "2024-01-24 08:19:03.923514: I tensorflow/stream_executor/cuda/cudart_stub.cc:29] Ignore above cudart dlerror if you do not have a GPU set up on your machine.\n",
            "/usr/local/envs/myenv/lib/python3.9/site-packages/tensorflow_addons/utils/tfa_eol_msg.py:23: UserWarning: \n",
            "\n",
            "TensorFlow Addons (TFA) has ended development and introduction of new features.\n",
            "TFA has entered a minimal maintenance and release mode until a planned end of life in May 2024.\n",
            "Please modify downstream libraries to take dependencies from other repositories in our TensorFlow community (e.g. Keras, Keras-CV, and Keras-NLP). \n",
            "\n",
            "For more information see: https://github.com/tensorflow/addons/issues/2807 \n",
            "\n",
            "  warnings.warn(\n",
            "/usr/local/envs/myenv/lib/python3.9/site-packages/tensorflow_addons/utils/ensure_tf_install.py:53: UserWarning: Tensorflow Addons supports using Python ops for all Tensorflow versions above or equal to 2.13.0 and strictly below 2.16.0 (nightly versions are not supported). \n",
            " The versions of TensorFlow you are currently using is 2.8.4 and is not supported. \n",
            "Some things might work, some things might not.\n",
            "If you were to encounter a bug, do not file an issue.\n",
            "If you want to make sure you're using a tested and supported configuration, either change the TensorFlow version or the TensorFlow Addons's version. \n",
            "You can find the compatibility matrix in TensorFlow Addon's readme:\n",
            "https://github.com/tensorflow/addons\n",
            "  warnings.warn(\n"
          ]
        },
        {
          "output_type": "execute_result",
          "data": {
            "text/plain": []
          },
          "metadata": {},
          "execution_count": 13
        }
      ]
    },
    {
      "cell_type": "markdown",
      "source": [
        "## Prepare Model"
      ],
      "metadata": {
        "id": "ad_6c-crHn65"
      }
    },
    {
      "cell_type": "markdown",
      "source": [
        "### Prepare Directories"
      ],
      "metadata": {
        "id": "tbFvyzmkH4LZ"
      }
    },
    {
      "cell_type": "markdown",
      "source": [
        "**Train and Validation Data Dir**"
      ],
      "metadata": {
        "id": "AUzP5JyHIfS1"
      }
    },
    {
      "cell_type": "code",
      "source": [
        "!mkdir /content/Train_Val\n",
        "%cd /content/Train_Val\n",
        "!unzip \"/content/drive/MyDrive/Capstone/C501/ModelPreparation/Dataset/Augmented/Pascal VOC/Dataset2.zip\""
      ],
      "metadata": {
        "colab": {
          "base_uri": "https://localhost:8080/"
        },
        "id": "CurUsPgtHtsA",
        "outputId": "5c516df2-4dc4-4131-d604-11d02150f0dc"
      },
      "execution_count": 14,
      "outputs": [
        {
          "output_type": "stream",
          "name": "stdout",
          "text": [
            "/content/Train_Val\n",
            "Archive:  /content/drive/MyDrive/Capstone/C501/ModelPreparation/Dataset/Augmented/Pascal VOC/Dataset2.zip\n",
            "   creating: Annotations/\n",
            "   creating: images/\n",
            "  inflating: Annotations/00d8058e-ucexportviewid1w_BJ1kOZJhcIV_WvUZSDgCFW0P7b3_mo.xml  \n",
            "  inflating: Annotations/02b5b0bf-ucexportviewid1GunNhpBP_hcrKiHK26gWMYrMj953wgc8.xml  \n",
            "  inflating: Annotations/033a85d8-ucexportviewid1wBG5SD0fUmw4Nyy4k2ByRh68zs36r-aU.xml  \n",
            "  inflating: Annotations/0c7b18da-ucexportviewid1YS1CjM2gEpKlW5HJmnHz0URQ_wUhd0p6.xml  \n",
            "  inflating: Annotations/113c5417-ucexportviewid1yH80R_sc_tHMueboSmy5mZ8d9vRY7mWL.xml  \n",
            "  inflating: Annotations/187044ec-ucexportviewid12Taykvi-uYwjxpLyoSiFZQbWn6GBU7AH.xml  \n",
            "  inflating: Annotations/1a302c15-ucexportviewid18Xvcxp13E5yrD2AeyyP3HbPOqHFO3wD0.xml  \n",
            "  inflating: Annotations/1d4539b6-ucexportviewid1j6lyB7piebhzw1FA-Gx6L0ZCNwSkQvpq.xml  \n",
            "  inflating: Annotations/1e706960-ucexportviewid1JU81qc0YkI13fxXxAQ_FII_QTWtgL_bg.xml  \n",
            "  inflating: Annotations/3c87801f-ucexportviewid1Lu273d8a5CDSbfzK8Vr9o_LdFsBV3bqS.xml  \n",
            "  inflating: Annotations/3fd4972e-ucexportviewid1uWbYSOqvEpBOsqyp7mgza2KhfQOGOsGB.xml  \n",
            "  inflating: Annotations/41d8fa1d-ucexportviewid185F1EsV7uWtLBSDQcinXsDt8WAamF2hB.xml  \n",
            "  inflating: Annotations/43c2f226-ucexportviewid1hc_ad7yTl0zx7yeT3yCwKqshbZQYRieK.xml  \n",
            "  inflating: Annotations/44352917-ucexportviewid10B_TyoqpZU-A7zPvdq-cgzjeOv_eN7K3.xml  \n",
            "  inflating: Annotations/49917e03-ucexportviewid1OxiJYWd4Gdv2X3ZLqw8y6ldNtjqAphSo.xml  \n",
            "  inflating: Annotations/508eaf05-ucexportviewid1MFrZxS6TUPu3DNqLiFR_ElAWbPHDhAbD.xml  \n",
            "  inflating: Annotations/510f5f09-ucexportviewid1NZ2qQKazFIzTz3uUrg7vaHUJnfMCJJCL.xml  \n",
            "  inflating: Annotations/527aacad-ucexportviewid1LVaRgemu6Kw7sBtJKiJGWt9s5Bg56fJW.xml  \n",
            "  inflating: Annotations/53feb0b3-ucexportviewid1jxjtyYGJm6fa6mEXyed7jgFPD4a3qzQo.xml  \n",
            "  inflating: Annotations/5a3253f3-ucexportviewid1JnOC0cvPFhlE9qZVJbH1_umWM7BdcFi6.xml  \n",
            "  inflating: Annotations/609b0487-ucexportviewid1-BTqnI7X51pPykb1keMhDGr--QWPCoet.xml  \n",
            "  inflating: Annotations/71232870-ucexportviewid1V5w7o6B90p_bGuKvUg5XY6kV5pKr3e1l.xml  \n",
            "  inflating: Annotations/728c15d8-ucexportviewid1JDnxsl0mL_2qlvg9Zo3gX5GwxZmGuQuE.xml  \n",
            "  inflating: Annotations/7604923b-ucexportviewid1e5HzAr4dZFxrdEJe1LpSL3n4Rvqy6KRC.xml  \n",
            "  inflating: Annotations/778adce5-ucexportviewid1Utez27t3zAWyV3PnvgwO_dP2YIynkie8.xml  \n",
            "  inflating: Annotations/7e8d0295-ucexportviewid1pQBIrll4jW834GX5fooyJot9_pdj38yO.xml  \n",
            "  inflating: Annotations/915bcf82-ucexportviewid1-V-7aZeixyENH2LOelo-k4apKjg6BAt8.xml  \n",
            "  inflating: Annotations/97f9520e-ucexportviewid1w_mbNUqfJxmuCsre4BjtaXKRX2x9gqcI.xml  \n",
            "  inflating: Annotations/98d6a94a-ucexportviewid18B5K9GhPow2R5Fca29Q8d-sT5MIG7qDL.xml  \n",
            "  inflating: Annotations/ac813be3-ucexportviewid18qsN6FPDU5TIfComWKRlZCM1TtDHgN5t.xml  \n",
            "  inflating: Annotations/b1ef81d4-ucexportviewid1BWkzmQDBTM6omRAH1Lupu3G30BnOs71G.xml  \n",
            "  inflating: Annotations/b8610bb3-ucexportviewid1SDlueMyJnThcwhgYPuoweBbqLYTrGTxu.xml  \n",
            "  inflating: Annotations/be669e70-ucexportviewid1JTIt5-TOg8nWPnY4767KOjWmZGGLclmF.xml  \n",
            "  inflating: Annotations/c30249c5-ucexportviewid1x1uGbq8oZ8lQ6zXp3tPaSyDvyjK7rnGE.xml  \n",
            "  inflating: Annotations/ceedfe6c-ucexportviewid1Tabhq1r_UuRo4s2mso6C9g4eIAwRzZPD.xml  \n",
            "  inflating: Annotations/d6fc6722-ucexportviewid1c1LhRyOzfCR0ksJU4HVRK0smtNBGvFeY.xml  \n",
            "  inflating: Annotations/ddad8955-ucexportviewid12E36GeErWtnJbaztkj-jzTEonEg3_tC-.xml  \n",
            "  inflating: Annotations/de67e61e-ucexportviewid1mGb76CiPhff2-j3aOmwlcamCqv11QDVB.xml  \n",
            "  inflating: Annotations/efebe8cb-ucexportviewid1-FdIZ8gSoOgB0Igu1Cq8c6jkwwRNe2lN.xml  \n",
            "  inflating: Annotations/f2b8fdd5-ucexportviewid1NlPTnD_j3zkhCheuLDDTbxhvQoGOajBY.xml  \n",
            "  inflating: Annotations/f3b465ae-ucexportviewid1p1mOwhv-O57j3UKeQs4rKPP0DEXoJCWh.xml  \n",
            "  inflating: Annotations/f71853aa-ucexportviewid1rVL_P0I3vKf0fcdr0LwHqBQCFuvDXpcS.xml  \n",
            "  inflating: images/00d8058e-ucexportviewid1w_BJ1kOZJhcIV_WvUZSDgCFW0P7b3_mo  \n",
            "  inflating: images/02b5b0bf-ucexportviewid1GunNhpBP_hcrKiHK26gWMYrMj953wgc8  \n",
            "  inflating: images/033a85d8-ucexportviewid1wBG5SD0fUmw4Nyy4k2ByRh68zs36r-aU  \n",
            "  inflating: images/0c7b18da-ucexportviewid1YS1CjM2gEpKlW5HJmnHz0URQ_wUhd0p6  \n",
            "  inflating: images/113c5417-ucexportviewid1yH80R_sc_tHMueboSmy5mZ8d9vRY7mWL  \n",
            "  inflating: images/187044ec-ucexportviewid12Taykvi-uYwjxpLyoSiFZQbWn6GBU7AH  \n",
            "  inflating: images/1a302c15-ucexportviewid18Xvcxp13E5yrD2AeyyP3HbPOqHFO3wD0  \n",
            "  inflating: images/1d4539b6-ucexportviewid1j6lyB7piebhzw1FA-Gx6L0ZCNwSkQvpq  \n",
            "  inflating: images/1e706960-ucexportviewid1JU81qc0YkI13fxXxAQ_FII_QTWtgL_bg  \n",
            "  inflating: images/3c87801f-ucexportviewid1Lu273d8a5CDSbfzK8Vr9o_LdFsBV3bqS  \n",
            "  inflating: images/3fd4972e-ucexportviewid1uWbYSOqvEpBOsqyp7mgza2KhfQOGOsGB  \n",
            "  inflating: images/41d8fa1d-ucexportviewid185F1EsV7uWtLBSDQcinXsDt8WAamF2hB  \n",
            "  inflating: images/43c2f226-ucexportviewid1hc_ad7yTl0zx7yeT3yCwKqshbZQYRieK  \n",
            "  inflating: images/44352917-ucexportviewid10B_TyoqpZU-A7zPvdq-cgzjeOv_eN7K3  \n",
            "  inflating: images/49917e03-ucexportviewid1OxiJYWd4Gdv2X3ZLqw8y6ldNtjqAphSo  \n",
            "  inflating: images/508eaf05-ucexportviewid1MFrZxS6TUPu3DNqLiFR_ElAWbPHDhAbD  \n",
            "  inflating: images/510f5f09-ucexportviewid1NZ2qQKazFIzTz3uUrg7vaHUJnfMCJJCL  \n",
            "  inflating: images/527aacad-ucexportviewid1LVaRgemu6Kw7sBtJKiJGWt9s5Bg56fJW  \n",
            "  inflating: images/53feb0b3-ucexportviewid1jxjtyYGJm6fa6mEXyed7jgFPD4a3qzQo  \n",
            "  inflating: images/5a3253f3-ucexportviewid1JnOC0cvPFhlE9qZVJbH1_umWM7BdcFi6  \n",
            "  inflating: images/609b0487-ucexportviewid1-BTqnI7X51pPykb1keMhDGr--QWPCoet  \n",
            "  inflating: images/71232870-ucexportviewid1V5w7o6B90p_bGuKvUg5XY6kV5pKr3e1l  \n",
            "  inflating: images/728c15d8-ucexportviewid1JDnxsl0mL_2qlvg9Zo3gX5GwxZmGuQuE  \n",
            "  inflating: images/7604923b-ucexportviewid1e5HzAr4dZFxrdEJe1LpSL3n4Rvqy6KRC  \n",
            "  inflating: images/778adce5-ucexportviewid1Utez27t3zAWyV3PnvgwO_dP2YIynkie8  \n",
            "  inflating: images/7e8d0295-ucexportviewid1pQBIrll4jW834GX5fooyJot9_pdj38yO  \n",
            "  inflating: images/915bcf82-ucexportviewid1-V-7aZeixyENH2LOelo-k4apKjg6BAt8  \n",
            "  inflating: images/97f9520e-ucexportviewid1w_mbNUqfJxmuCsre4BjtaXKRX2x9gqcI  \n",
            "  inflating: images/98d6a94a-ucexportviewid18B5K9GhPow2R5Fca29Q8d-sT5MIG7qDL  \n",
            "  inflating: images/ac813be3-ucexportviewid18qsN6FPDU5TIfComWKRlZCM1TtDHgN5t  \n",
            "  inflating: images/b1ef81d4-ucexportviewid1BWkzmQDBTM6omRAH1Lupu3G30BnOs71G  \n",
            "  inflating: images/b8610bb3-ucexportviewid1SDlueMyJnThcwhgYPuoweBbqLYTrGTxu  \n",
            "  inflating: images/be669e70-ucexportviewid1JTIt5-TOg8nWPnY4767KOjWmZGGLclmF  \n",
            "  inflating: images/c30249c5-ucexportviewid1x1uGbq8oZ8lQ6zXp3tPaSyDvyjK7rnGE  \n",
            "  inflating: images/ceedfe6c-ucexportviewid1Tabhq1r_UuRo4s2mso6C9g4eIAwRzZPD  \n",
            "  inflating: images/d6fc6722-ucexportviewid1c1LhRyOzfCR0ksJU4HVRK0smtNBGvFeY  \n",
            "  inflating: images/ddad8955-ucexportviewid12E36GeErWtnJbaztkj-jzTEonEg3_tC-  \n",
            "  inflating: images/de67e61e-ucexportviewid1mGb76CiPhff2-j3aOmwlcamCqv11QDVB  \n",
            "  inflating: images/efebe8cb-ucexportviewid1-FdIZ8gSoOgB0Igu1Cq8c6jkwwRNe2lN  \n",
            "  inflating: images/f2b8fdd5-ucexportviewid1NlPTnD_j3zkhCheuLDDTbxhvQoGOajBY  \n",
            "  inflating: images/f3b465ae-ucexportviewid1p1mOwhv-O57j3UKeQs4rKPP0DEXoJCWh  \n",
            "  inflating: images/f71853aa-ucexportviewid1rVL_P0I3vKf0fcdr0LwHqBQCFuvDXpcS  \n"
          ]
        }
      ]
    },
    {
      "cell_type": "code",
      "source": [
        "# Create new directory\n",
        "!mkdir /content/Train_Val/Annotation\n",
        "%cd \"/content/Train_Val/Annotation\""
      ],
      "metadata": {
        "colab": {
          "base_uri": "https://localhost:8080/"
        },
        "id": "WJSAt3PTIUxK",
        "outputId": "2f9e6d2c-36e0-4bca-b92d-0e5751866934"
      },
      "execution_count": 15,
      "outputs": [
        {
          "output_type": "stream",
          "name": "stdout",
          "text": [
            "/content/Train_Val/Annotation\n"
          ]
        }
      ]
    },
    {
      "cell_type": "code",
      "source": [
        "REMOVE_ENCODING = \"remove_encoding.py\""
      ],
      "metadata": {
        "id": "p5vwaeyHJDqI"
      },
      "execution_count": 16,
      "outputs": []
    },
    {
      "cell_type": "code",
      "source": [
        "%%writefile {REMOVE_ENCODING}\n",
        "# Remove encoding in xml files\n",
        "\n",
        "import os\n",
        "import lxml\n",
        "from lxml import etree\n",
        "from lxml.html.clean import Cleaner\n",
        "\n",
        "path = \"/content/Train_Val/Annotations\"\n",
        "dstpath = \"/content/Train_Val/Annotation\"\n",
        "\n",
        "for filename in os.listdir(path):\n",
        "    if filename.endswith('.xml'):\n",
        "        tree = etree.parse(path+\"/\"+filename)\n",
        "        etree.strip_elements(tree, \"{*}openSession\", with_tail=True)\n",
        "        save = filename\n",
        "        tree.write(save)"
      ],
      "metadata": {
        "colab": {
          "base_uri": "https://localhost:8080/"
        },
        "id": "ElL1AuCQIrHG",
        "outputId": "616470cc-ac2e-495d-8b43-0be6b9f32efc"
      },
      "execution_count": 17,
      "outputs": [
        {
          "output_type": "stream",
          "name": "stdout",
          "text": [
            "Writing remove_encoding.py\n"
          ]
        }
      ]
    },
    {
      "cell_type": "code",
      "source": [
        "%%shell\n",
        "eval \"$(conda shell.bash hook)\"\n",
        "conda activate myenv\n",
        "python remove_encoding.py"
      ],
      "metadata": {
        "colab": {
          "base_uri": "https://localhost:8080/"
        },
        "id": "A8qmuvvvJNWM",
        "outputId": "4e89c18c-2be6-4fa7-85a9-98bcb3750d9d"
      },
      "execution_count": 18,
      "outputs": [
        {
          "output_type": "execute_result",
          "data": {
            "text/plain": []
          },
          "metadata": {},
          "execution_count": 18
        }
      ]
    },
    {
      "cell_type": "code",
      "source": [
        "# Remove old directory\n",
        "%cd /content/Train_Val\n",
        "!rm /content/Train_Val/Annotations/* /content/Train_Val/Annotations/.*\n",
        "!rmdir /content/Train_Val/Annotations"
      ],
      "metadata": {
        "colab": {
          "base_uri": "https://localhost:8080/"
        },
        "id": "ToaDEZh8J21Q",
        "outputId": "8679c2f2-e191-4856-e3f8-43c0482e4a62"
      },
      "execution_count": 19,
      "outputs": [
        {
          "output_type": "stream",
          "name": "stdout",
          "text": [
            "/content/Train_Val\n",
            "rm: cannot remove '/content/Train_Val/Annotations/.': Is a directory\n",
            "rm: cannot remove '/content/Train_Val/Annotations/..': Is a directory\n"
          ]
        }
      ]
    },
    {
      "cell_type": "code",
      "source": [
        "%cd \"/content/Train_Val/Annotation\"\n",
        "!rm /content/Train_Val/Annotation/remove_encoding.py"
      ],
      "metadata": {
        "colab": {
          "base_uri": "https://localhost:8080/"
        },
        "id": "SIMYhSg6ONsV",
        "outputId": "f82040e7-ebb8-4393-daa6-e88713e5bea5"
      },
      "execution_count": 20,
      "outputs": [
        {
          "output_type": "stream",
          "name": "stdout",
          "text": [
            "/content/Train_Val/Annotation\n"
          ]
        }
      ]
    },
    {
      "cell_type": "markdown",
      "source": [
        "**Test Data Dir**"
      ],
      "metadata": {
        "id": "4StfSNZKKs-g"
      }
    },
    {
      "cell_type": "code",
      "source": [
        "!mkdir /content/Test\n",
        "%cd /content/Test\n",
        "!unzip \"/content/drive/MyDrive/Capstone/C501/ModelPreparation/Dataset/Test_Dataset/PASCAL_VOC/Test_Dataset2.zip\""
      ],
      "metadata": {
        "colab": {
          "base_uri": "https://localhost:8080/"
        },
        "id": "uxvgrtvlKwvd",
        "outputId": "9b617ba5-d528-4e12-b515-115f6e04b56a"
      },
      "execution_count": 21,
      "outputs": [
        {
          "output_type": "stream",
          "name": "stdout",
          "text": [
            "/content/Test\n",
            "Archive:  /content/drive/MyDrive/Capstone/C501/ModelPreparation/Dataset/Test_Dataset/PASCAL_VOC/Test_Dataset2.zip\n",
            "   creating: Annotations/\n",
            "   creating: images/\n",
            "  inflating: Annotations/0dae21e5-ucexportviewid1b2hR9aAJ0vvwIi8yIC6kOEXAu0pncq41.xml  \n",
            "  inflating: Annotations/30781f1e-ucexportviewid1d-7NqJx8yqSgTVnwFfGW7p9EHdAEeB0R.xml  \n",
            "  inflating: Annotations/3c14300e-ucexportviewid1J50R_xN1V4B5j-jLhB-xgBdXlA5G8BFv.xml  \n",
            "  inflating: Annotations/407171b3-ucexportviewid1D0YhUqim2oLeUO_y4eIDE0qDQxVUb4SW.xml  \n",
            "  inflating: Annotations/59fa8f3c-ucexportviewid10K3O-GPKX9keJw7RZpHn5Wgy-_oS5KEU.xml  \n",
            "  inflating: Annotations/5ada712f-ucexportviewid1JLrsncD9T3dmbJ4YLmG8SNXHxiTKmP1S.xml  \n",
            "  inflating: Annotations/6251417c-ucexportviewid1mJcHViwKgzA3d48ohN0jgiHPpV0zYagW.xml  \n",
            "  inflating: Annotations/6efa53c2-ucexportviewid1wtfSedKe6X8-N9BC77A7Hi6hSmVcf0S7.xml  \n",
            "  inflating: Annotations/811c6378-ucexportviewid1WqtAoMiImcgwWRpItJV7ypFuVOK_EbZA.xml  \n",
            "  inflating: Annotations/b58b2356-ucexportviewid10SjcWyavsS8Wmoy00QcJ7scsheVeHsU5.xml  \n",
            "  inflating: Annotations/b66a21f4-ucexportviewid1Mr6jMnAf1GTFE90tF7PYvcKT33EcDjb6.xml  \n",
            "  inflating: Annotations/dbdd421c-ucexportviewid1MEGRhZWFz1-B8eipBJyk9TJs5kqyEfjL.xml  \n",
            "  inflating: Annotations/f56da7e8-ucexportviewid1NLHmGFFOJa1hBhSaqHnMOpUDRn1Zst16.xml  \n",
            "  inflating: images/0dae21e5-ucexportviewid1b2hR9aAJ0vvwIi8yIC6kOEXAu0pncq41  \n",
            "  inflating: images/30781f1e-ucexportviewid1d-7NqJx8yqSgTVnwFfGW7p9EHdAEeB0R  \n",
            "  inflating: images/3c14300e-ucexportviewid1J50R_xN1V4B5j-jLhB-xgBdXlA5G8BFv  \n",
            "  inflating: images/407171b3-ucexportviewid1D0YhUqim2oLeUO_y4eIDE0qDQxVUb4SW  \n",
            "  inflating: images/59fa8f3c-ucexportviewid10K3O-GPKX9keJw7RZpHn5Wgy-_oS5KEU  \n",
            "  inflating: images/5ada712f-ucexportviewid1JLrsncD9T3dmbJ4YLmG8SNXHxiTKmP1S  \n",
            "  inflating: images/6251417c-ucexportviewid1mJcHViwKgzA3d48ohN0jgiHPpV0zYagW  \n",
            "  inflating: images/6efa53c2-ucexportviewid1wtfSedKe6X8-N9BC77A7Hi6hSmVcf0S7  \n",
            "  inflating: images/811c6378-ucexportviewid1WqtAoMiImcgwWRpItJV7ypFuVOK_EbZA  \n",
            "  inflating: images/b58b2356-ucexportviewid10SjcWyavsS8Wmoy00QcJ7scsheVeHsU5  \n",
            "  inflating: images/b66a21f4-ucexportviewid1Mr6jMnAf1GTFE90tF7PYvcKT33EcDjb6  \n",
            "  inflating: images/dbdd421c-ucexportviewid1MEGRhZWFz1-B8eipBJyk9TJs5kqyEfjL  \n",
            "  inflating: images/f56da7e8-ucexportviewid1NLHmGFFOJa1hBhSaqHnMOpUDRn1Zst16  \n"
          ]
        }
      ]
    },
    {
      "cell_type": "code",
      "source": [
        "# Create new directory\n",
        "!mkdir /content/Test/Annotation\n",
        "%cd \"/content/Test/Annotation\""
      ],
      "metadata": {
        "colab": {
          "base_uri": "https://localhost:8080/"
        },
        "id": "mUMJPsH_LINw",
        "outputId": "a2717d92-315b-43b4-e214-195792674c64"
      },
      "execution_count": 22,
      "outputs": [
        {
          "output_type": "stream",
          "name": "stdout",
          "text": [
            "/content/Test/Annotation\n"
          ]
        }
      ]
    },
    {
      "cell_type": "code",
      "source": [
        "REMOVE_ENCODING2 = \"remove_encoding2.py\""
      ],
      "metadata": {
        "id": "_3qlV0XVLfu0"
      },
      "execution_count": 23,
      "outputs": []
    },
    {
      "cell_type": "code",
      "source": [
        "%%writefile {REMOVE_ENCODING2}\n",
        "# Remove encoding in xml files\n",
        "\n",
        "import os\n",
        "import lxml\n",
        "from lxml import etree\n",
        "from lxml.html.clean import Cleaner\n",
        "\n",
        "path = \"/content/Test/Annotations\"\n",
        "dstpath = \"/content/Test/Annotation\"\n",
        "\n",
        "for filename in os.listdir(path):\n",
        "    if filename.endswith('.xml'):\n",
        "        tree = etree.parse(path+\"/\"+filename)\n",
        "        etree.strip_elements(tree, \"{*}openSession\", with_tail=True)\n",
        "        save = filename\n",
        "        tree.write(save)"
      ],
      "metadata": {
        "colab": {
          "base_uri": "https://localhost:8080/"
        },
        "id": "kHR6OajyLXdT",
        "outputId": "34b91494-1dae-41f5-dc9a-2f702b717025"
      },
      "execution_count": 24,
      "outputs": [
        {
          "output_type": "stream",
          "name": "stdout",
          "text": [
            "Writing remove_encoding2.py\n"
          ]
        }
      ]
    },
    {
      "cell_type": "code",
      "source": [
        "%%shell\n",
        "eval \"$(conda shell.bash hook)\"\n",
        "conda activate myenv\n",
        "python remove_encoding2.py"
      ],
      "metadata": {
        "colab": {
          "base_uri": "https://localhost:8080/"
        },
        "id": "IRGsC5hULm6o",
        "outputId": "f4bd2bb5-e837-4fdb-fbac-bbb8d72616b0"
      },
      "execution_count": 25,
      "outputs": [
        {
          "output_type": "execute_result",
          "data": {
            "text/plain": []
          },
          "metadata": {},
          "execution_count": 25
        }
      ]
    },
    {
      "cell_type": "code",
      "source": [
        "# Remove old directory\n",
        "%cd /content/Test\n",
        "!rm /content/Test/Annotations/* /content/Test/Annotations/.*\n",
        "!rmdir /content/Test/Annotations"
      ],
      "metadata": {
        "colab": {
          "base_uri": "https://localhost:8080/"
        },
        "id": "waXcWFG0LqgX",
        "outputId": "6bce5eb6-573e-4058-8ab2-f0d5dbf44aba"
      },
      "execution_count": 26,
      "outputs": [
        {
          "output_type": "stream",
          "name": "stdout",
          "text": [
            "/content/Test\n",
            "rm: cannot remove '/content/Test/Annotations/.': Is a directory\n",
            "rm: cannot remove '/content/Test/Annotations/..': Is a directory\n"
          ]
        }
      ]
    },
    {
      "cell_type": "code",
      "source": [
        "%cd \"/content/Test/Annotation\"\n",
        "!rm /content/Test/Annotation/remove_encoding2.py"
      ],
      "metadata": {
        "colab": {
          "base_uri": "https://localhost:8080/"
        },
        "id": "WC0Cwt_SNqAr",
        "outputId": "8474641b-0ab4-4fdc-9362-d66710f4e766"
      },
      "execution_count": 27,
      "outputs": [
        {
          "output_type": "stream",
          "name": "stdout",
          "text": [
            "/content/Test/Annotation\n"
          ]
        }
      ]
    },
    {
      "cell_type": "markdown",
      "source": [
        "**Final Dataset Directories**"
      ],
      "metadata": {
        "id": "aLW91WSvLzjC"
      }
    },
    {
      "cell_type": "code",
      "source": [
        "# Create train and test directory\n",
        "%cd /content/\n",
        "\n",
        "!mkdir \"/content/Dataset/\"\n",
        "!mkdir \"/content/Dataset/Annotation/\"\n",
        "!mkdir \"/content/Dataset/Images/\"\n",
        "\n",
        "!mkdir \"/content/Dataset/Annotation/Train\"\n",
        "!mkdir \"/content/Dataset/Annotation/Val\"\n",
        "!mkdir \"/content/Dataset/Annotation/Test\"\n",
        "!mkdir \"/content/Dataset/Images/Train\"\n",
        "!mkdir \"/content/Dataset/Images/Val\"\n",
        "!mkdir \"/content/Dataset/Images/Test\""
      ],
      "metadata": {
        "colab": {
          "base_uri": "https://localhost:8080/"
        },
        "id": "sm7uVVAQL3h9",
        "outputId": "3120501f-3fe5-4a51-bf28-c5b0dfffabd5"
      },
      "execution_count": 28,
      "outputs": [
        {
          "output_type": "stream",
          "name": "stdout",
          "text": [
            "/content\n"
          ]
        }
      ]
    },
    {
      "cell_type": "markdown",
      "source": [
        "### Prepare Dataset"
      ],
      "metadata": {
        "id": "P70ZoOyIMB1L"
      }
    },
    {
      "cell_type": "code",
      "source": [
        "PREPARE_DATASET = \"prepare_data.py\""
      ],
      "metadata": {
        "id": "IeVf9XxBMTfz"
      },
      "execution_count": 29,
      "outputs": []
    },
    {
      "cell_type": "code",
      "source": [
        "%%writefile {PREPARE_DATASET}\n",
        "\n",
        "import os\n",
        "import numpy as np\n",
        "import splitfolders\n",
        "import shutil\n",
        "\n",
        "# # Creating Train / Val / Test folders (One time use)\n",
        "root_dir = \"/content/Dataset/\"\n",
        "\n",
        "# os.makedirs(root_dir + '/Images' + '/Train')\n",
        "# os.makedirs(root_dir + '/Images' + '/Test')\n",
        "# os.makedirs(root_dir + '/Annotation' + '/Train')\n",
        "# os.makedirs(root_dir + '/Annotation' + '/Test')\n",
        "# os.makedirs(root_dir + '/Annotation' +'/val')\n",
        "# os.makedirs(root_dir + '/Images' +'/val')\n",
        "\n",
        "# Creating partitions of the data after shuffeling\n",
        "img_src = \"/content/Train_Val/images\" # Folder to copy images from\n",
        "annot_src = \"/content/Train_Val/Annotation\" # Folder to copy annots from\n",
        "test_img_src = \"/content/Test/images\"\n",
        "test_annot_src = \"/content/Test/Annotation\"\n",
        "\n",
        "# Seed for shuffling\n",
        "seed = 42\n",
        "\n",
        "ImageFileNames = os.listdir(img_src)\n",
        "AnnotFileNames = os.listdir(annot_src)\n",
        "np.random.seed(seed)\n",
        "np.random.shuffle(ImageFileNames)\n",
        "\n",
        "train_ImgFileNames, val_ImgFileNames = np.split(np.array(ImageFileNames),\n",
        "                                                          [int(len(ImageFileNames)*0.8)])\n",
        "train_AntFileNames = []\n",
        "val_AntFileNames = []\n",
        "\n",
        "for img in train_ImgFileNames:\n",
        "  for ant in AnnotFileNames:\n",
        "    if img.split('-')[0] == ant.split('-')[0]:\n",
        "      train_AntFileNames.append(ant)\n",
        "\n",
        "for img in val_ImgFileNames:\n",
        "  for ant in AnnotFileNames:\n",
        "    if img.split('-')[0] == ant.split('-')[0]:\n",
        "      val_AntFileNames.append(ant)\n",
        "\n",
        "test_ImgFileNames = os.listdir(test_img_src)\n",
        "test_AntFileNames = os.listdir(test_annot_src)\n",
        "\n",
        "train_ImgFileNames = [img_src+'/'+ name for name in train_ImgFileNames.tolist()]\n",
        "val_ImgFileNames = [img_src+'/' + name for name in val_ImgFileNames.tolist()]\n",
        "test_ImgFileNames = [test_img_src+'/' + name for name in test_ImgFileNames]\n",
        "\n",
        "train_AntFileNames = [annot_src+'/'+ name for name in train_AntFileNames]\n",
        "val_AntFileNames = [annot_src+'/' + name for name in val_AntFileNames]\n",
        "test_AntFileNames = [test_annot_src+'/' + name for name in test_AntFileNames]\n",
        "\n",
        "print('Total images: ', len(ImageFileNames))\n",
        "print('Training: ', len(train_ImgFileNames))\n",
        "print('Validation: ', len(val_ImgFileNames))\n",
        "print('Testing: ', len(test_ImgFileNames))\n",
        "\n",
        "print('Total annotations: ', len(AnnotFileNames))\n",
        "print('Training: ', len(train_AntFileNames))\n",
        "print('Validation: ', len(val_AntFileNames))\n",
        "print('Testing: ', len(test_AntFileNames))\n",
        "\n",
        "# Copy-pasting images and annots\n",
        "for name in train_ImgFileNames:\n",
        "    shutil.copy(name, \"/content/Dataset/Images/Train\")\n",
        "\n",
        "for name in val_ImgFileNames:\n",
        "    shutil.copy(name, \"/content/Dataset/Images/Val\")\n",
        "\n",
        "for name in test_ImgFileNames:\n",
        "    shutil.copy(name, \"/content/Dataset/Images/Test\")\n",
        "\n",
        "for name in train_AntFileNames:\n",
        "    shutil.copy(name, \"/content/Dataset/Annotation/Train\")\n",
        "\n",
        "for name in val_AntFileNames:\n",
        "    shutil.copy(name, \"/content/Dataset/Annotation/Val\")\n",
        "\n",
        "for name in test_AntFileNames:\n",
        "    shutil.copy(name, \"/content/Dataset/Annotation/Test\")"
      ],
      "metadata": {
        "colab": {
          "base_uri": "https://localhost:8080/"
        },
        "id": "zhNiRnRAMGOO",
        "outputId": "4fedd2ef-e337-41ee-f83f-07767fe349f1"
      },
      "execution_count": 30,
      "outputs": [
        {
          "output_type": "stream",
          "name": "stdout",
          "text": [
            "Writing prepare_data.py\n"
          ]
        }
      ]
    },
    {
      "cell_type": "code",
      "source": [
        "%%shell\n",
        "eval \"$(conda shell.bash hook)\"\n",
        "conda activate myenv\n",
        "python prepare_data.py"
      ],
      "metadata": {
        "colab": {
          "base_uri": "https://localhost:8080/"
        },
        "id": "vlKjJ2xAMviN",
        "outputId": "620df641-e410-44c8-ddaa-222318ec1026"
      },
      "execution_count": 31,
      "outputs": [
        {
          "output_type": "stream",
          "name": "stdout",
          "text": [
            "Total images:  42\n",
            "Training:  33\n",
            "Validation:  9\n",
            "Testing:  13\n",
            "Total annotations:  42\n",
            "Training:  33\n",
            "Validation:  9\n",
            "Testing:  13\n"
          ]
        },
        {
          "output_type": "execute_result",
          "data": {
            "text/plain": []
          },
          "metadata": {},
          "execution_count": 31
        }
      ]
    },
    {
      "cell_type": "markdown",
      "source": [
        "### Load, Train, Eval, Export\n",
        "\n"
      ],
      "metadata": {
        "id": "ibklVWTxS2qw"
      }
    },
    {
      "cell_type": "code",
      "source": [
        "CREATE_MODEL = \"create_model.py\""
      ],
      "metadata": {
        "id": "089mdPytOp4o"
      },
      "execution_count": 32,
      "outputs": []
    },
    {
      "cell_type": "code",
      "source": [
        "%%writefile {CREATE_MODEL}\n",
        "\n",
        "import cv2\n",
        "import PIL\n",
        "import numpy as np\n",
        "\n",
        "from tflite_model_maker.config import QuantizationConfig\n",
        "from tflite_model_maker.config import ExportFormat\n",
        "from tflite_model_maker import model_spec\n",
        "from tflite_model_maker import object_detector\n",
        "\n",
        "import tensorflow as tf\n",
        "assert tf.__version__.startswith('2')\n",
        "\n",
        "tf.get_logger().setLevel('ERROR')\n",
        "from absl import logging\n",
        "logging.set_verbosity(logging.ERROR)\n",
        "\n",
        "train_data = object_detector.DataLoader.from_pascal_voc(\"/content/Dataset/Images/Train\", \"/content/Dataset/Annotation/Train\", label_map={1: \"yellow_ducky\", 2: \"green_ducky\", 3: \"big_green_ducky\"})\n",
        "val_data = object_detector.DataLoader.from_pascal_voc(\"/content/Dataset/Images/Val\", \"/content/Dataset/Annotation/Val\", label_map={1: \"yellow_ducky\", 2: \"green_ducky\", 3: \"big_green_ducky\"})\n",
        "test_data = object_detector.DataLoader.from_pascal_voc(\"/content/Dataset/Images/Test\", \"/content/Dataset/Annotation/Test\", label_map={1: \"yellow_ducky\", 2: \"green_ducky\", 3: \"big_green_ducky\"})\n",
        "\n",
        "spec = model_spec.get('efficientdet_lite2')\n",
        "\n",
        "model = object_detector.create(\n",
        "    train_data=train_data,\n",
        "    model_spec=spec,\n",
        "    epochs=10,\n",
        "    batch_size=16,\n",
        "    train_whole_model=False,\n",
        "    validation_data=val_data)\n",
        "\n",
        "model.summary()\n",
        "\n",
        "model.evaluate(test_data)\n",
        "\n",
        "model.export(export_dir='.', tflite_filename='threeducky.tflite')\n",
        "\n",
        "model.evaluate_tflite('threeducky.tflite', test_data)\n",
        "\n",
        "# Load the labels into a list and print it\n",
        "classes = ['???'] * model.model_spec.config.num_classes\n",
        "label_map = model.model_spec.config.label_map\n",
        "for label_id, label_name in label_map.as_dict().items():\n",
        "  classes[label_id-1] = label_name\n",
        "\n",
        "print(classes)\n",
        "print(label_map)\n",
        "\n",
        "# Define model path\n",
        "model_path = \"/content/threeducky.tflite\"\n",
        "\n",
        "# Define a list of colors for visualization\n",
        "COLORS = np.random.randint(0, 255, size=(len(classes), 3), dtype=np.uint8)\n",
        "\n",
        "def preprocess_image(image_path, input_size):\n",
        "  \"\"\"Preprocess the input image to feed to the TFLite model\"\"\"\n",
        "  img = tf.io.read_file(image_path)\n",
        "  img = tf.io.decode_image(img, channels=3)\n",
        "  img = tf.image.convert_image_dtype(img, tf.uint8)\n",
        "  original_image = img\n",
        "  resized_img = tf.image.resize(img, input_size)\n",
        "  resized_img = resized_img[tf.newaxis, :]\n",
        "  resized_img = tf.cast(resized_img, dtype=tf.uint8)\n",
        "  return resized_img, original_image\n",
        "\n",
        "\n",
        "def detect_objects(interpreter, image, threshold):\n",
        "  \"\"\"Returns a list of detection results, each a dictionary of object info.\"\"\"\n",
        "\n",
        "  signature_fn = interpreter.get_signature_runner()\n",
        "\n",
        "  # Feed the input image to the model\n",
        "  output = signature_fn(images=image)\n",
        "\n",
        "  # Get all outputs from the model\n",
        "  count = int(np.squeeze(output['output_0']))\n",
        "  scores = np.squeeze(output['output_1'])\n",
        "  classes = np.squeeze(output['output_2'])\n",
        "  boxes = np.squeeze(output['output_3'])\n",
        "\n",
        "  results = []\n",
        "  for i in range(count):\n",
        "    if scores[i] >= threshold:\n",
        "      result = {\n",
        "        'bounding_box': boxes[i],\n",
        "        'class_id': classes[i],\n",
        "        'score': scores[i]\n",
        "      }\n",
        "      results.append(result)\n",
        "  return results\n",
        "\n",
        "\n",
        "def run_odt_and_draw_results(image_path, interpreter, threshold=0.5):\n",
        "  \"\"\"Run object detection on the input image and draw the detection results\"\"\"\n",
        "  # Load the input shape required by the model\n",
        "  _, input_height, input_width, _ = interpreter.get_input_details()[0]['shape']\n",
        "\n",
        "  # Load the input image and preprocess it\n",
        "  preprocessed_image, original_image = preprocess_image(\n",
        "      image_path,\n",
        "      (input_height, input_width)\n",
        "    )\n",
        "\n",
        "  # Run object detection on the input image\n",
        "  results = detect_objects(interpreter, preprocessed_image, threshold=threshold)\n",
        "\n",
        "  # Plot the detection results on the input image\n",
        "  original_image_np = original_image.numpy().astype(np.uint8)\n",
        "  for obj in results:\n",
        "    # Convert the object bounding box from relative coordinates to absolute\n",
        "    # coordinates based on the original image resolution\n",
        "    ymin, xmin, ymax, xmax = obj['bounding_box']\n",
        "    xmin = int(xmin * original_image_np.shape[1])\n",
        "    xmax = int(xmax * original_image_np.shape[1])\n",
        "    ymin = int(ymin * original_image_np.shape[0])\n",
        "    ymax = int(ymax * original_image_np.shape[0])\n",
        "\n",
        "    # Find the class index of the current object\n",
        "    class_id = int(obj['class_id'])\n",
        "\n",
        "    # Draw the bounding box and label on the image\n",
        "    color = [int(c) for c in COLORS[class_id]]\n",
        "    cv2.rectangle(original_image_np, (xmin, ymin), (xmax, ymax), color, 2)\n",
        "    # Make adjustments to make the label visible for all objects\n",
        "    y = ymin - 15 if ymin - 15 > 15 else ymin + 15\n",
        "    label = \"{}: {:.0f}%\".format(classes[class_id], obj['score'] * 100)\n",
        "    cv2.putText(original_image_np, label, (xmin, y),\n",
        "        cv2.FONT_HERSHEY_SIMPLEX, 0.5, color, 2)\n",
        "\n",
        "  # Return the final image\n",
        "  original_uint8 = original_image_np.astype(np.uint8)\n",
        "  return original_uint8\n",
        "\n",
        "\n",
        "DETECTION_THRESHOLD = 0.4\n",
        "\n",
        "TEST_FILE = '/content/drive/MyDrive/Capstone/C501/ModelPreparation/Dataset/Test_Dataset/Three_Ducky/Test_2.jpg'\n",
        "\n",
        "im = PIL.Image.open(TEST_FILE)\n",
        "im.thumbnail((512, 512), PIL.Image.Resampling.LANCZOS)\n",
        "im.save(TEST_FILE, 'JPEG')\n",
        "\n",
        "# Load the TFLite model\n",
        "interpreter = tf.lite.Interpreter(model_path=model_path)\n",
        "interpreter.allocate_tensors()\n",
        "\n",
        "# Run inference and draw detection result on the local copy of the original file\n",
        "detection_result_image = run_odt_and_draw_results(\n",
        "    TEST_FILE,\n",
        "    interpreter,\n",
        "    threshold=DETECTION_THRESHOLD\n",
        ")\n",
        "\n",
        "# Show the detection result\n",
        "PIL.Image.fromarray(detection_result_image)"
      ],
      "metadata": {
        "colab": {
          "base_uri": "https://localhost:8080/"
        },
        "id": "NySpYyZkP8DK",
        "outputId": "d8e966b7-4edc-40e5-f70e-71955d2fc47e"
      },
      "execution_count": 49,
      "outputs": [
        {
          "output_type": "stream",
          "name": "stdout",
          "text": [
            "Overwriting create_model.py\n"
          ]
        }
      ]
    },
    {
      "cell_type": "code",
      "source": [
        "%%shell\n",
        "eval \"$(conda shell.bash hook)\"\n",
        "conda activate myenv\n",
        "python create_model.py"
      ],
      "metadata": {
        "colab": {
          "base_uri": "https://localhost:8080/"
        },
        "id": "xMA1zfheQyur",
        "outputId": "41768e0c-0c53-426c-bd10-931b8e909444"
      },
      "execution_count": 50,
      "outputs": [
        {
          "output_type": "stream",
          "name": "stdout",
          "text": [
            "2024-01-24 09:55:21.708799: W tensorflow/stream_executor/platform/default/dso_loader.cc:64] Could not load dynamic library 'libcudart.so.11.0'; dlerror: libcudart.so.11.0: cannot open shared object file: No such file or directory; LD_LIBRARY_PATH: /usr/local/envs/myenv/lib/python3.9/site-packages/cv2/../../lib64:/usr/lib64-nvidia\n",
            "2024-01-24 09:55:21.708835: I tensorflow/stream_executor/cuda/cudart_stub.cc:29] Ignore above cudart dlerror if you do not have a GPU set up on your machine.\n",
            "/usr/local/envs/myenv/lib/python3.9/site-packages/tensorflow_addons/utils/tfa_eol_msg.py:23: UserWarning: \n",
            "\n",
            "TensorFlow Addons (TFA) has ended development and introduction of new features.\n",
            "TFA has entered a minimal maintenance and release mode until a planned end of life in May 2024.\n",
            "Please modify downstream libraries to take dependencies from other repositories in our TensorFlow community (e.g. Keras, Keras-CV, and Keras-NLP). \n",
            "\n",
            "For more information see: https://github.com/tensorflow/addons/issues/2807 \n",
            "\n",
            "  warnings.warn(\n",
            "/usr/local/envs/myenv/lib/python3.9/site-packages/tensorflow_addons/utils/ensure_tf_install.py:53: UserWarning: Tensorflow Addons supports using Python ops for all Tensorflow versions above or equal to 2.13.0 and strictly below 2.16.0 (nightly versions are not supported). \n",
            " The versions of TensorFlow you are currently using is 2.8.4 and is not supported. \n",
            "Some things might work, some things might not.\n",
            "If you were to encounter a bug, do not file an issue.\n",
            "If you want to make sure you're using a tested and supported configuration, either change the TensorFlow version or the TensorFlow Addons's version. \n",
            "You can find the compatibility matrix in TensorFlow Addon's readme:\n",
            "https://github.com/tensorflow/addons\n",
            "  warnings.warn(\n",
            "2024-01-24 09:55:25.431791: I tensorflow/stream_executor/cuda/cuda_gpu_executor.cc:936] successful NUMA node read from SysFS had negative value (-1), but there must be at least one NUMA node, so returning NUMA node zero\n",
            "2024-01-24 09:55:25.432188: W tensorflow/stream_executor/platform/default/dso_loader.cc:64] Could not load dynamic library 'libcudart.so.11.0'; dlerror: libcudart.so.11.0: cannot open shared object file: No such file or directory; LD_LIBRARY_PATH: /usr/local/envs/myenv/lib/python3.9/site-packages/cv2/../../lib64:/usr/lib64-nvidia\n",
            "2024-01-24 09:55:25.432326: W tensorflow/stream_executor/platform/default/dso_loader.cc:64] Could not load dynamic library 'libcublas.so.11'; dlerror: libcublas.so.11: cannot open shared object file: No such file or directory; LD_LIBRARY_PATH: /usr/local/envs/myenv/lib/python3.9/site-packages/cv2/../../lib64:/usr/lib64-nvidia\n",
            "2024-01-24 09:55:25.432449: W tensorflow/stream_executor/platform/default/dso_loader.cc:64] Could not load dynamic library 'libcublasLt.so.11'; dlerror: libcublasLt.so.11: cannot open shared object file: No such file or directory; LD_LIBRARY_PATH: /usr/local/envs/myenv/lib/python3.9/site-packages/cv2/../../lib64:/usr/lib64-nvidia\n",
            "2024-01-24 09:55:25.432567: W tensorflow/stream_executor/platform/default/dso_loader.cc:64] Could not load dynamic library 'libcufft.so.10'; dlerror: libcufft.so.10: cannot open shared object file: No such file or directory; LD_LIBRARY_PATH: /usr/local/envs/myenv/lib/python3.9/site-packages/cv2/../../lib64:/usr/lib64-nvidia\n",
            "2024-01-24 09:55:25.481564: W tensorflow/stream_executor/platform/default/dso_loader.cc:64] Could not load dynamic library 'libcusparse.so.11'; dlerror: libcusparse.so.11: cannot open shared object file: No such file or directory; LD_LIBRARY_PATH: /usr/local/envs/myenv/lib/python3.9/site-packages/cv2/../../lib64:/usr/lib64-nvidia\n",
            "2024-01-24 09:55:25.481999: W tensorflow/core/common_runtime/gpu/gpu_device.cc:1850] Cannot dlopen some GPU libraries. Please make sure the missing libraries mentioned above are installed properly if you would like to use GPU. Follow the guide at https://www.tensorflow.org/install/gpu for how to download and setup the required libraries for your platform.\n",
            "Skipping registering GPU devices...\n",
            "2024-01-24 09:55:25.482560: I tensorflow/core/platform/cpu_feature_guard.cc:151] This TensorFlow binary is optimized with oneAPI Deep Neural Network Library (oneDNN) to use the following CPU instructions in performance-critical operations:  AVX2 FMA\n",
            "To enable them in other operations, rebuild TensorFlow with the appropriate compiler flags.\n",
            "2024-01-24 09:55:40.014351: W tensorflow/core/framework/dataset.cc:768] Input of GeneratorDatasetOp::Dataset will not be optimized because the dataset does not implement the AsGraphDefInternal() method needed to apply optimizations.\n",
            "Epoch 1/10\n",
            "2/2 [==============================] - 44s 11s/step - det_loss: 1.8069 - cls_loss: 1.1534 - box_loss: 0.0131 - reg_l2_loss: 0.0049 - loss: 1.8119 - learning_rate: 0.0120 - gradient_norm: 0.7118\n",
            "Epoch 2/10\n",
            "2/2 [==============================] - 25s 12s/step - det_loss: 1.7620 - cls_loss: 1.1473 - box_loss: 0.0123 - reg_l2_loss: 0.0049 - loss: 1.7669 - learning_rate: 0.0189 - gradient_norm: 0.6842\n",
            "Epoch 3/10\n",
            "2/2 [==============================] - 25s 13s/step - det_loss: 1.7273 - cls_loss: 1.1436 - box_loss: 0.0117 - reg_l2_loss: 0.0049 - loss: 1.7322 - learning_rate: 0.0168 - gradient_norm: 0.6591\n",
            "Epoch 4/10\n",
            "2/2 [==============================] - 24s 12s/step - det_loss: 1.6912 - cls_loss: 1.1327 - box_loss: 0.0112 - reg_l2_loss: 0.0049 - loss: 1.6961 - learning_rate: 0.0139 - gradient_norm: 0.5842\n",
            "Epoch 5/10\n",
            "2/2 [==============================] - 23s 11s/step - det_loss: 1.6268 - cls_loss: 1.1125 - box_loss: 0.0103 - reg_l2_loss: 0.0049 - loss: 1.6317 - learning_rate: 0.0106 - gradient_norm: 0.5879\n",
            "Epoch 6/10\n",
            "2/2 [==============================] - 24s 12s/step - det_loss: 1.6169 - cls_loss: 1.1027 - box_loss: 0.0103 - reg_l2_loss: 0.0049 - loss: 1.6219 - learning_rate: 0.0071 - gradient_norm: 0.6189\n",
            "Epoch 7/10\n",
            "2/2 [==============================] - 24s 13s/step - det_loss: 1.5517 - cls_loss: 1.0806 - box_loss: 0.0094 - reg_l2_loss: 0.0049 - loss: 1.5566 - learning_rate: 0.0040 - gradient_norm: 0.7224\n",
            "Epoch 8/10\n",
            "2/2 [==============================] - 24s 12s/step - det_loss: 1.5290 - cls_loss: 1.0660 - box_loss: 0.0093 - reg_l2_loss: 0.0049 - loss: 1.5339 - learning_rate: 0.0017 - gradient_norm: 0.7865\n",
            "Epoch 9/10\n",
            "2/2 [==============================] - 23s 11s/step - det_loss: 1.4843 - cls_loss: 1.0431 - box_loss: 0.0088 - reg_l2_loss: 0.0049 - loss: 1.4893 - learning_rate: 3.0231e-04 - gradient_norm: 0.8724\n",
            "Epoch 10/10\n",
            "2/2 [==============================] - 24s 12s/step - det_loss: 1.4826 - cls_loss: 1.0353 - box_loss: 0.0089 - reg_l2_loss: 0.0049 - loss: 1.4875 - learning_rate: 1.0128e-04 - gradient_norm: 0.9149\n",
            "Model: \"\"\n",
            "_________________________________________________________________\n",
            " Layer (type)                Output Shape              Param #   \n",
            "=================================================================\n",
            " keras_layer (KerasLayer)    multiple                  5227280   \n",
            "                                                                 \n",
            " class_net/class-predict (Se  multiple                 4059      \n",
            " parableConv2D)                                                  \n",
            "                                                                 \n",
            " box_net/box-predict (Separa  multiple                 5076      \n",
            " bleConv2D)                                                      \n",
            "                                                                 \n",
            "=================================================================\n",
            "Total params: 5,236,415\n",
            "Trainable params: 5,163,855\n",
            "Non-trainable params: 72,560\n",
            "_________________________________________________________________\n",
            "2024-01-24 09:59:59.255831: W tensorflow/core/framework/dataset.cc:768] Input of GeneratorDatasetOp::Dataset will not be optimized because the dataset does not implement the AsGraphDefInternal() method needed to apply optimizations.\n",
            "1/1 [==============================] - 10s 10s/step\n",
            "\n",
            "2024-01-24 10:00:11.355539: W tensorflow/python/util/util.cc:368] Sets are not currently considered sequences, but this may change in the future, so consider avoiding using them.\n",
            "2024-01-24 10:00:46.773713: W tensorflow/core/common_runtime/graph_constructor.cc:803] Node 'resample_p7/PartitionedCall' has 1 outputs but the _output_shapes attribute specifies shapes for 3 outputs. Output shapes may be inaccurate.\n",
            "2024-01-24 10:00:56.302422: W tensorflow/compiler/mlir/lite/python/tf_tfl_flatbuffer_helpers.cc:357] Ignored output_format.\n",
            "2024-01-24 10:00:56.302483: W tensorflow/compiler/mlir/lite/python/tf_tfl_flatbuffer_helpers.cc:360] Ignored drop_control_dependency.\n",
            "2024-01-24 10:00:56.303940: I tensorflow/cc/saved_model/reader.cc:43] Reading SavedModel from: /tmp/tmpko_vmedi\n",
            "2024-01-24 10:00:56.581360: I tensorflow/cc/saved_model/reader.cc:78] Reading meta graph with tags { serve }\n",
            "2024-01-24 10:00:56.581433: I tensorflow/cc/saved_model/reader.cc:119] Reading SavedModel debug info (if present) from: /tmp/tmpko_vmedi\n",
            "2024-01-24 10:00:57.405476: I tensorflow/cc/saved_model/loader.cc:228] Restoring SavedModel bundle.\n",
            "2024-01-24 10:00:59.611001: I tensorflow/cc/saved_model/loader.cc:212] Running initialization op on SavedModel bundle at path: /tmp/tmpko_vmedi\n",
            "2024-01-24 10:01:00.719149: I tensorflow/cc/saved_model/loader.cc:301] SavedModel load for tags { serve }; Status: success: OK. Took 4415216 microseconds.\n",
            "2024-01-24 10:01:02.893427: I tensorflow/compiler/mlir/tensorflow/utils/dump_mlir_util.cc:237] disabling MLIR crash reproducer, set env var `MLIR_CRASH_REPRODUCER_DIRECTORY` to enable.\n",
            "2024-01-24 10:01:06.264570: I tensorflow/compiler/mlir/lite/flatbuffer_export.cc:1963] Estimated count of arithmetic ops: 6.077 G  ops, equivalently 3.038 G  MACs\n",
            "\n",
            "Estimated count of arithmetic ops: 6.077 G  ops, equivalently 3.038 G  MACs\n",
            "fully_quantize: 0, inference_type: 6, input_inference_type: 3, output_inference_type: 0\n",
            "2024-01-24 10:01:36.258514: I tensorflow/compiler/mlir/lite/flatbuffer_export.cc:1963] Estimated count of arithmetic ops: 6.077 G  ops, equivalently 3.038 G  MACs\n",
            "\n",
            "Estimated count of arithmetic ops: 6.077 G  ops, equivalently 3.038 G  MACs\n",
            "INFO: Created TensorFlow Lite XNNPACK delegate for CPU.\n",
            "13/13 [==============================] - 116s 9s/step\n",
            "\n",
            "['yellow_ducky', 'green_ducky', 'big_green_ducky']\n",
            "1: yellow_ducky\n",
            "2: green_ducky\n",
            "3: big_green_ducky\n",
            "\n"
          ]
        },
        {
          "output_type": "execute_result",
          "data": {
            "text/plain": []
          },
          "metadata": {},
          "execution_count": 50
        }
      ]
    },
    {
      "cell_type": "markdown",
      "source": [
        "# Second Way"
      ],
      "metadata": {
        "id": "wKLenrkDF1I3"
      }
    },
    {
      "cell_type": "markdown",
      "source": [
        "## Prequisites"
      ],
      "metadata": {
        "id": "QDTXWGsFGu2E"
      }
    },
    {
      "cell_type": "markdown",
      "source": [
        "### Install Required Libraries"
      ],
      "metadata": {
        "id": "09PGoh9JulnK"
      }
    },
    {
      "cell_type": "code",
      "source": [
        "!pip install -q --use-deprecated=legacy-resolver tflite-model-maker"
      ],
      "metadata": {
        "colab": {
          "base_uri": "https://localhost:8080/"
        },
        "id": "S_1mdxRetrMD",
        "outputId": "c31d913a-62da-4e9f-b8e8-29c22b23a5dc"
      },
      "execution_count": 51,
      "outputs": [
        {
          "output_type": "stream",
          "name": "stdout",
          "text": [
            "\u001b[2K     \u001b[90m━━━━━━━━━━━━━━━━━━━━━━━━━━━━━━━━━━━━━━━━\u001b[0m \u001b[32m580.1/580.1 kB\u001b[0m \u001b[31m9.3 MB/s\u001b[0m eta \u001b[36m0:00:00\u001b[0m\n",
            "\u001b[2K     \u001b[90m━━━━━━━━━━━━━━━━━━━━━━━━━━━━━━━━━━━━━━━━\u001b[0m \u001b[32m3.6/3.6 MB\u001b[0m \u001b[31m46.7 MB/s\u001b[0m eta \u001b[36m0:00:00\u001b[0m\n",
            "\u001b[2K     \u001b[90m━━━━━━━━━━━━━━━━━━━━━━━━━━━━━━━━━━━━━━━━\u001b[0m \u001b[32m128.6/128.6 kB\u001b[0m \u001b[31m14.0 MB/s\u001b[0m eta \u001b[36m0:00:00\u001b[0m\n",
            "\u001b[2K     \u001b[90m━━━━━━━━━━━━━━━━━━━━━━━━━━━━━━━━━━━━━━━━\u001b[0m \u001b[32m10.3/10.3 MB\u001b[0m \u001b[31m79.5 MB/s\u001b[0m eta \u001b[36m0:00:00\u001b[0m\n",
            "\u001b[2K     \u001b[90m━━━━━━━━━━━━━━━━━━━━━━━━━━━━━━━━━━━━━━━━\u001b[0m \u001b[32m10.9/10.9 MB\u001b[0m \u001b[31m2.6 MB/s\u001b[0m eta \u001b[36m0:00:00\u001b[0m\n",
            "\u001b[2K     \u001b[90m━━━━━━━━━━━━━━━━━━━━━━━━━━━━━━━━━━━━━━━━\u001b[0m \u001b[32m241.2/241.2 kB\u001b[0m \u001b[31m25.5 MB/s\u001b[0m eta \u001b[36m0:00:00\u001b[0m\n",
            "\u001b[2K     \u001b[90m━━━━━━━━━━━━━━━━━━━━━━━━━━━━━━━━━━━━━━━━\u001b[0m \u001b[32m475.2/475.2 MB\u001b[0m \u001b[31m1.9 MB/s\u001b[0m eta \u001b[36m0:00:00\u001b[0m\n",
            "\u001b[2K     \u001b[90m━━━━━━━━━━━━━━━━━━━━━━━━━━━━━━━━━━━━━━━━\u001b[0m \u001b[32m203.8/203.8 kB\u001b[0m \u001b[31m23.0 MB/s\u001b[0m eta \u001b[36m0:00:00\u001b[0m\n",
            "\u001b[2K     \u001b[90m━━━━━━━━━━━━━━━━━━━━━━━━━━━━━━━━━━━━━━━━\u001b[0m \u001b[32m133.7/133.7 kB\u001b[0m \u001b[31m15.1 MB/s\u001b[0m eta \u001b[36m0:00:00\u001b[0m\n",
            "\u001b[2K     \u001b[90m━━━━━━━━━━━━━━━━━━━━━━━━━━━━━━━━━━━━━━━━\u001b[0m \u001b[32m840.9/840.9 kB\u001b[0m \u001b[31m58.7 MB/s\u001b[0m eta \u001b[36m0:00:00\u001b[0m\n",
            "\u001b[2K     \u001b[90m━━━━━━━━━━━━━━━━━━━━━━━━━━━━━━━━━━━━━━━━\u001b[0m \u001b[32m5.0/5.0 MB\u001b[0m \u001b[31m80.3 MB/s\u001b[0m eta \u001b[36m0:00:00\u001b[0m\n",
            "\u001b[2K     \u001b[90m━━━━━━━━━━━━━━━━━━━━━━━━━━━━━━━━━━━━━━━━\u001b[0m \u001b[32m128.0/128.0 kB\u001b[0m \u001b[31m16.2 MB/s\u001b[0m eta \u001b[36m0:00:00\u001b[0m\n",
            "\u001b[2K     \u001b[90m━━━━━━━━━━━━━━━━━━━━━━━━━━━━━━━━━━━━━━━━\u001b[0m \u001b[32m8.0/8.0 MB\u001b[0m \u001b[31m93.3 MB/s\u001b[0m eta \u001b[36m0:00:00\u001b[0m\n",
            "\u001b[2K     \u001b[90m━━━━━━━━━━━━━━━━━━━━━━━━━━━━━━━━━━━━━━━━\u001b[0m \u001b[32m77.5/77.5 kB\u001b[0m \u001b[31m10.2 MB/s\u001b[0m eta \u001b[36m0:00:00\u001b[0m\n",
            "\u001b[2K     \u001b[90m━━━━━━━━━━━━━━━━━━━━━━━━━━━━━━━━━━━━━━━━\u001b[0m \u001b[32m3.6/3.6 MB\u001b[0m \u001b[31m97.4 MB/s\u001b[0m eta \u001b[36m0:00:00\u001b[0m\n",
            "\u001b[2K     \u001b[91m━━━━━━━━━━━━━━━━━━━━━━━━━━━━━━━━━\u001b[0m\u001b[91m╸\u001b[0m\u001b[90m━━━━━━\u001b[0m \u001b[32m51.4/60.8 MB\u001b[0m \u001b[31m6.0 MB/s\u001b[0m eta \u001b[36m0:00:02\u001b[0m\n",
            "\u001b[?25h\u001b[31mERROR: Exception:\n",
            "Traceback (most recent call last):\n",
            "  File \"/usr/local/lib/python3.9/site-packages/pip/_vendor/urllib3/response.py\", line 438, in _error_catcher\n",
            "    yield\n",
            "  File \"/usr/local/lib/python3.9/site-packages/pip/_vendor/urllib3/response.py\", line 561, in read\n",
            "    data = self._fp_read(amt) if not fp_closed else b\"\"\n",
            "  File \"/usr/local/lib/python3.9/site-packages/pip/_vendor/urllib3/response.py\", line 527, in _fp_read\n",
            "    return self._fp.read(amt) if amt is not None else self._fp.read()\n",
            "  File \"/usr/local/lib/python3.9/site-packages/pip/_vendor/cachecontrol/filewrapper.py\", line 90, in read\n",
            "    data = self.__fp.read(amt)\n",
            "  File \"/usr/local/lib/python3.9/http/client.py\", line 463, in read\n",
            "    n = self.readinto(b)\n",
            "  File \"/usr/local/lib/python3.9/http/client.py\", line 507, in readinto\n",
            "    n = self.fp.readinto(b)\n",
            "  File \"/usr/local/lib/python3.9/socket.py\", line 704, in readinto\n",
            "    return self._sock.recv_into(b)\n",
            "  File \"/usr/local/lib/python3.9/ssl.py\", line 1275, in recv_into\n",
            "    return self.read(nbytes, buffer)\n",
            "  File \"/usr/local/lib/python3.9/ssl.py\", line 1133, in read\n",
            "    return self._sslobj.read(len, buffer)\n",
            "socket.timeout: The read operation timed out\n",
            "\n",
            "During handling of the above exception, another exception occurred:\n",
            "\n",
            "Traceback (most recent call last):\n",
            "  File \"/usr/local/lib/python3.9/site-packages/pip/_internal/cli/base_command.py\", line 160, in exc_logging_wrapper\n",
            "    status = run_func(*args)\n",
            "  File \"/usr/local/lib/python3.9/site-packages/pip/_internal/cli/req_command.py\", line 247, in wrapper\n",
            "    return func(self, options, args)\n",
            "  File \"/usr/local/lib/python3.9/site-packages/pip/_internal/commands/install.py\", line 419, in run\n",
            "    requirement_set = resolver.resolve(\n",
            "  File \"/usr/local/lib/python3.9/site-packages/pip/_internal/resolution/legacy/resolver.py\", line 185, in resolve\n",
            "    discovered_reqs.extend(self._resolve_one(requirement_set, req))\n",
            "  File \"/usr/local/lib/python3.9/site-packages/pip/_internal/resolution/legacy/resolver.py\", line 509, in _resolve_one\n",
            "    dist = self._get_dist_for(req_to_install)\n",
            "  File \"/usr/local/lib/python3.9/site-packages/pip/_internal/resolution/legacy/resolver.py\", line 462, in _get_dist_for\n",
            "    dist = self.preparer.prepare_linked_requirement(req)\n",
            "  File \"/usr/local/lib/python3.9/site-packages/pip/_internal/operations/prepare.py\", line 491, in prepare_linked_requirement\n",
            "    return self._prepare_linked_requirement(req, parallel_builds)\n",
            "  File \"/usr/local/lib/python3.9/site-packages/pip/_internal/operations/prepare.py\", line 536, in _prepare_linked_requirement\n",
            "    local_file = unpack_url(\n",
            "  File \"/usr/local/lib/python3.9/site-packages/pip/_internal/operations/prepare.py\", line 166, in unpack_url\n",
            "    file = get_http_url(\n",
            "  File \"/usr/local/lib/python3.9/site-packages/pip/_internal/operations/prepare.py\", line 107, in get_http_url\n",
            "    from_path, content_type = download(link, temp_dir.path)\n",
            "  File \"/usr/local/lib/python3.9/site-packages/pip/_internal/network/download.py\", line 147, in __call__\n",
            "    for chunk in chunks:\n",
            "  File \"/usr/local/lib/python3.9/site-packages/pip/_internal/cli/progress_bars.py\", line 53, in _rich_progress_bar\n",
            "    for chunk in iterable:\n",
            "  File \"/usr/local/lib/python3.9/site-packages/pip/_internal/network/utils.py\", line 63, in response_chunks\n",
            "    for chunk in response.raw.stream(\n",
            "  File \"/usr/local/lib/python3.9/site-packages/pip/_vendor/urllib3/response.py\", line 622, in stream\n",
            "    data = self.read(amt=amt, decode_content=decode_content)\n",
            "  File \"/usr/local/lib/python3.9/site-packages/pip/_vendor/urllib3/response.py\", line 587, in read\n",
            "    raise IncompleteRead(self._fp_bytes_read, self.length_remaining)\n",
            "  File \"/usr/local/lib/python3.9/contextlib.py\", line 137, in __exit__\n",
            "    self.gen.throw(typ, value, traceback)\n",
            "  File \"/usr/local/lib/python3.9/site-packages/pip/_vendor/urllib3/response.py\", line 443, in _error_catcher\n",
            "    raise ReadTimeoutError(self._pool, None, \"Read timed out.\")\n",
            "pip._vendor.urllib3.exceptions.ReadTimeoutError: HTTPSConnectionPool(host='files.pythonhosted.org', port=443): Read timed out.\u001b[0m\u001b[31m\n",
            "\u001b[0m"
          ]
        }
      ]
    },
    {
      "cell_type": "code",
      "source": [
        "!pip install -q pycocotools"
      ],
      "metadata": {
        "id": "K_QP2muIttZo",
        "colab": {
          "base_uri": "https://localhost:8080/"
        },
        "outputId": "97862876-9e7e-4d40-9c25-1e2292f2b70d"
      },
      "execution_count": 52,
      "outputs": [
        {
          "output_type": "stream",
          "name": "stdout",
          "text": [
            "\u001b[2K     \u001b[90m━━━━━━━━━━━━━━━━━━━━━━━━━━━━━━━━━━━━━━━━\u001b[0m \u001b[32m435.1/435.1 kB\u001b[0m \u001b[31m8.0 MB/s\u001b[0m eta \u001b[36m0:00:00\u001b[0m\n",
            "\u001b[2K     \u001b[90m━━━━━━━━━━━━━━━━━━━━━━━━━━━━━━━━━━━━━━━━\u001b[0m \u001b[32m18.2/18.2 MB\u001b[0m \u001b[31m73.2 MB/s\u001b[0m eta \u001b[36m0:00:00\u001b[0m\n",
            "\u001b[2K     \u001b[90m━━━━━━━━━━━━━━━━━━━━━━━━━━━━━━━━━━━━━━━━\u001b[0m \u001b[32m11.6/11.6 MB\u001b[0m \u001b[31m93.1 MB/s\u001b[0m eta \u001b[36m0:00:00\u001b[0m\n",
            "\u001b[2K     \u001b[90m━━━━━━━━━━━━━━━━━━━━━━━━━━━━━━━━━━━━━━━━\u001b[0m \u001b[32m247.7/247.7 kB\u001b[0m \u001b[31m27.1 MB/s\u001b[0m eta \u001b[36m0:00:00\u001b[0m\n",
            "\u001b[2K     \u001b[90m━━━━━━━━━━━━━━━━━━━━━━━━━━━━━━━━━━━━━━━━\u001b[0m \u001b[32m1.6/1.6 MB\u001b[0m \u001b[31m80.3 MB/s\u001b[0m eta \u001b[36m0:00:00\u001b[0m\n",
            "\u001b[2K     \u001b[90m━━━━━━━━━━━━━━━━━━━━━━━━━━━━━━━━━━━━━━━━\u001b[0m \u001b[32m4.5/4.5 MB\u001b[0m \u001b[31m66.6 MB/s\u001b[0m eta \u001b[36m0:00:00\u001b[0m\n",
            "\u001b[2K     \u001b[90m━━━━━━━━━━━━━━━━━━━━━━━━━━━━━━━━━━━━━━━━\u001b[0m \u001b[32m4.6/4.6 MB\u001b[0m \u001b[31m73.2 MB/s\u001b[0m eta \u001b[36m0:00:00\u001b[0m\n",
            "\u001b[2K     \u001b[90m━━━━━━━━━━━━━━━━━━━━━━━━━━━━━━━━━━━━━━━━\u001b[0m \u001b[32m103.1/103.1 kB\u001b[0m \u001b[31m11.5 MB/s\u001b[0m eta \u001b[36m0:00:00\u001b[0m\n",
            "\u001b[2K     \u001b[90m━━━━━━━━━━━━━━━━━━━━━━━━━━━━━━━━━━━━━━━━\u001b[0m \u001b[32m311.0/311.0 kB\u001b[0m \u001b[31m29.7 MB/s\u001b[0m eta \u001b[36m0:00:00\u001b[0m\n",
            "\u001b[?25h\u001b[33mWARNING: Running pip as the 'root' user can result in broken permissions and conflicting behaviour with the system package manager. It is recommended to use a virtual environment instead: https://pip.pypa.io/warnings/venv\u001b[0m\u001b[33m\n",
            "\u001b[0m"
          ]
        }
      ]
    },
    {
      "cell_type": "code",
      "source": [
        "!pip install -q opencv-python-headless"
      ],
      "metadata": {
        "id": "gNEijyvauWXU",
        "colab": {
          "base_uri": "https://localhost:8080/"
        },
        "outputId": "e848e191-d62e-484a-a9ea-09f507f9db7a"
      },
      "execution_count": 53,
      "outputs": [
        {
          "output_type": "stream",
          "name": "stdout",
          "text": [
            "\u001b[2K     \u001b[90m━━━━━━━━━━━━━━━━━━━━━━━━━━━━━━━━━━━━━━━━\u001b[0m \u001b[32m49.6/49.6 MB\u001b[0m \u001b[31m8.7 MB/s\u001b[0m eta \u001b[36m0:00:00\u001b[0m\n",
            "\u001b[?25h\u001b[33mWARNING: Running pip as the 'root' user can result in broken permissions and conflicting behaviour with the system package manager. It is recommended to use a virtual environment instead: https://pip.pypa.io/warnings/venv\u001b[0m\u001b[33m\n",
            "\u001b[0m"
          ]
        }
      ]
    },
    {
      "cell_type": "code",
      "source": [
        "!pip uninstall -y tensorflow && pip install -q tensorflow==2.8.0"
      ],
      "metadata": {
        "colab": {
          "base_uri": "https://localhost:8080/"
        },
        "id": "tQ-83p_UucCF",
        "outputId": "d462dfaf-9ea7-4b25-b294-694ad99fff04"
      },
      "execution_count": 54,
      "outputs": [
        {
          "output_type": "stream",
          "name": "stdout",
          "text": [
            "\u001b[33mWARNING: Skipping tensorflow as it is not installed.\u001b[0m\u001b[33m\n",
            "\u001b[0m\u001b[33mWARNING: Running pip as the 'root' user can result in broken permissions and conflicting behaviour with the system package manager. It is recommended to use a virtual environment instead: https://pip.pypa.io/warnings/venv\u001b[0m\u001b[33m\n",
            "\u001b[2K     \u001b[90m━━━━━━━━━━━━━━━━━━━━━━━━━━━━━━━━━━━━━━━━\u001b[0m \u001b[32m497.6/497.6 MB\u001b[0m \u001b[31m2.6 MB/s\u001b[0m eta \u001b[36m0:00:00\u001b[0m\n",
            "\u001b[2K     \u001b[90m━━━━━━━━━━━━━━━━━━━━━━━━━━━━━━━━━━━━━━━━\u001b[0m \u001b[32m5.4/5.4 MB\u001b[0m \u001b[31m81.7 MB/s\u001b[0m eta \u001b[36m0:00:00\u001b[0m\n",
            "\u001b[2K     \u001b[90m━━━━━━━━━━━━━━━━━━━━━━━━━━━━━━━━━━━━━━━━\u001b[0m \u001b[32m57.5/57.5 kB\u001b[0m \u001b[31m7.6 MB/s\u001b[0m eta \u001b[36m0:00:00\u001b[0m\n",
            "\u001b[2K     \u001b[90m━━━━━━━━━━━━━━━━━━━━━━━━━━━━━━━━━━━━━━━━\u001b[0m \u001b[32m4.8/4.8 MB\u001b[0m \u001b[31m74.5 MB/s\u001b[0m eta \u001b[36m0:00:00\u001b[0m\n",
            "\u001b[2K     \u001b[90m━━━━━━━━━━━━━━━━━━━━━━━━━━━━━━━━━━━━━━━━\u001b[0m \u001b[32m80.1/80.1 kB\u001b[0m \u001b[31m10.3 MB/s\u001b[0m eta \u001b[36m0:00:00\u001b[0m\n",
            "\u001b[2K     \u001b[90m━━━━━━━━━━━━━━━━━━━━━━━━━━━━━━━━━━━━━━━━\u001b[0m \u001b[32m462.5/462.5 kB\u001b[0m \u001b[31m41.8 MB/s\u001b[0m eta \u001b[36m0:00:00\u001b[0m\n",
            "\u001b[2K     \u001b[90m━━━━━━━━━━━━━━━━━━━━━━━━━━━━━━━━━━━━━━━━\u001b[0m \u001b[32m42.6/42.6 kB\u001b[0m \u001b[31m5.3 MB/s\u001b[0m eta \u001b[36m0:00:00\u001b[0m\n",
            "\u001b[2K     \u001b[90m━━━━━━━━━━━━━━━━━━━━━━━━━━━━━━━━━━━━━━━━\u001b[0m \u001b[32m3.2/3.2 MB\u001b[0m \u001b[31m65.6 MB/s\u001b[0m eta \u001b[36m0:00:00\u001b[0m\n",
            "\u001b[2K     \u001b[90m━━━━━━━━━━━━━━━━━━━━━━━━━━━━━━━━━━━━━━━━\u001b[0m \u001b[32m65.5/65.5 kB\u001b[0m \u001b[31m7.7 MB/s\u001b[0m eta \u001b[36m0:00:00\u001b[0m\n",
            "\u001b[2K     \u001b[90m━━━━━━━━━━━━━━━━━━━━━━━━━━━━━━━━━━━━━━━━\u001b[0m \u001b[32m22.9/22.9 MB\u001b[0m \u001b[31m42.8 MB/s\u001b[0m eta \u001b[36m0:00:00\u001b[0m\n",
            "\u001b[2K     \u001b[90m━━━━━━━━━━━━━━━━━━━━━━━━━━━━━━━━━━━━━━━━\u001b[0m \u001b[32m5.8/5.8 MB\u001b[0m \u001b[31m53.6 MB/s\u001b[0m eta \u001b[36m0:00:00\u001b[0m\n",
            "\u001b[2K     \u001b[90m━━━━━━━━━━━━━━━━━━━━━━━━━━━━━━━━━━━━━━━━\u001b[0m \u001b[32m1.4/1.4 MB\u001b[0m \u001b[31m62.6 MB/s\u001b[0m eta \u001b[36m0:00:00\u001b[0m\n",
            "\u001b[2K     \u001b[90m━━━━━━━━━━━━━━━━━━━━━━━━━━━━━━━━━━━━━━━━\u001b[0m \u001b[32m294.6/294.6 kB\u001b[0m \u001b[31m28.9 MB/s\u001b[0m eta \u001b[36m0:00:00\u001b[0m\n",
            "\u001b[2K     \u001b[90m━━━━━━━━━━━━━━━━━━━━━━━━━━━━━━━━━━━━━━━━\u001b[0m \u001b[32m781.3/781.3 kB\u001b[0m \u001b[31m47.8 MB/s\u001b[0m eta \u001b[36m0:00:00\u001b[0m\n",
            "\u001b[2K     \u001b[90m━━━━━━━━━━━━━━━━━━━━━━━━━━━━━━━━━━━━━━━━\u001b[0m \u001b[32m4.9/4.9 MB\u001b[0m \u001b[31m70.8 MB/s\u001b[0m eta \u001b[36m0:00:00\u001b[0m\n",
            "\u001b[2K     \u001b[90m━━━━━━━━━━━━━━━━━━━━━━━━━━━━━━━━━━━━━━━━\u001b[0m \u001b[32m186.5/186.5 kB\u001b[0m \u001b[31m19.5 MB/s\u001b[0m eta \u001b[36m0:00:00\u001b[0m\n",
            "\u001b[2K     \u001b[90m━━━━━━━━━━━━━━━━━━━━━━━━━━━━━━━━━━━━━━━━\u001b[0m \u001b[32m103.9/103.9 kB\u001b[0m \u001b[31m13.4 MB/s\u001b[0m eta \u001b[36m0:00:00\u001b[0m\n",
            "\u001b[2K     \u001b[90m━━━━━━━━━━━━━━━━━━━━━━━━━━━━━━━━━━━━━━━━\u001b[0m \u001b[32m226.7/226.7 kB\u001b[0m \u001b[31m27.4 MB/s\u001b[0m eta \u001b[36m0:00:00\u001b[0m\n",
            "\u001b[2K     \u001b[90m━━━━━━━━━━━━━━━━━━━━━━━━━━━━━━━━━━━━━━━━\u001b[0m \u001b[32m181.3/181.3 kB\u001b[0m \u001b[31m23.2 MB/s\u001b[0m eta \u001b[36m0:00:00\u001b[0m\n",
            "\u001b[2K     \u001b[90m━━━━━━━━━━━━━━━━━━━━━━━━━━━━━━━━━━━━━━━━\u001b[0m \u001b[32m84.9/84.9 kB\u001b[0m \u001b[31m10.5 MB/s\u001b[0m eta \u001b[36m0:00:00\u001b[0m\n",
            "\u001b[2K     \u001b[90m━━━━━━━━━━━━━━━━━━━━━━━━━━━━━━━━━━━━━━━━\u001b[0m \u001b[32m151.7/151.7 kB\u001b[0m \u001b[31m18.8 MB/s\u001b[0m eta \u001b[36m0:00:00\u001b[0m\n",
            "\u001b[?25h\u001b[33mWARNING: Running pip as the 'root' user can result in broken permissions and conflicting behaviour with the system package manager. It is recommended to use a virtual environment instead: https://pip.pypa.io/warnings/venv\u001b[0m\u001b[33m\n",
            "\u001b[0m"
          ]
        }
      ]
    },
    {
      "cell_type": "code",
      "source": [
        "!pip install split-folders"
      ],
      "metadata": {
        "colab": {
          "base_uri": "https://localhost:8080/"
        },
        "id": "aC5PuSHGuQ__",
        "outputId": "dcbd9b12-80f9-4fc4-eb5c-0a0073c85a36"
      },
      "execution_count": 55,
      "outputs": [
        {
          "output_type": "stream",
          "name": "stdout",
          "text": [
            "Collecting split-folders\n",
            "  Downloading split_folders-0.5.1-py3-none-any.whl (8.4 kB)\n",
            "Installing collected packages: split-folders\n",
            "Successfully installed split-folders-0.5.1\n",
            "\u001b[33mWARNING: Running pip as the 'root' user can result in broken permissions and conflicting behaviour with the system package manager. It is recommended to use a virtual environment instead: https://pip.pypa.io/warnings/venv\u001b[0m\u001b[33m\n",
            "\u001b[0m"
          ]
        }
      ]
    },
    {
      "cell_type": "markdown",
      "source": [
        "### Import Packages"
      ],
      "metadata": {
        "id": "LoA_4-lFuf-1"
      }
    },
    {
      "cell_type": "code",
      "source": [
        "import numpy as np\n",
        "import os\n",
        "import lxml\n",
        "from lxml import etree\n",
        "from lxml.html.clean import Cleaner\n",
        "import splitfolders\n",
        "import shutil\n",
        "\n",
        "import cv2\n",
        "from PIL import Image\n",
        "\n",
        "from tflite_model_maker.config import QuantizationConfig\n",
        "from tflite_model_maker.config import ExportFormat\n",
        "from tflite_model_maker import model_spec\n",
        "from tflite_model_maker import object_detector\n",
        "\n",
        "import tensorflow as tf\n",
        "assert tf.__version__.startswith('2')\n",
        "\n",
        "tf.get_logger().setLevel('ERROR')\n",
        "from absl import logging\n",
        "logging.set_verbosity(logging.ERROR)\n",
        "\n",
        "from google.colab import drive"
      ],
      "metadata": {
        "colab": {
          "base_uri": "https://localhost:8080/",
          "height": 401
        },
        "id": "tetNLlGPurHR",
        "outputId": "a8f75260-4e44-4c50-b841-00153d391ed0"
      },
      "execution_count": 56,
      "outputs": [
        {
          "output_type": "error",
          "ename": "ModuleNotFoundError",
          "evalue": "No module named 'tflite_model_maker'",
          "traceback": [
            "\u001b[0;31m---------------------------------------------------------------------------\u001b[0m",
            "\u001b[0;31mModuleNotFoundError\u001b[0m                       Traceback (most recent call last)",
            "\u001b[0;32m<ipython-input-56-712ccfcfa46b>\u001b[0m in \u001b[0;36m<cell line: 12>\u001b[0;34m()\u001b[0m\n\u001b[1;32m     10\u001b[0m \u001b[0;32mfrom\u001b[0m \u001b[0mPIL\u001b[0m \u001b[0;32mimport\u001b[0m \u001b[0mImage\u001b[0m\u001b[0;34m\u001b[0m\u001b[0;34m\u001b[0m\u001b[0m\n\u001b[1;32m     11\u001b[0m \u001b[0;34m\u001b[0m\u001b[0m\n\u001b[0;32m---> 12\u001b[0;31m \u001b[0;32mfrom\u001b[0m \u001b[0mtflite_model_maker\u001b[0m\u001b[0;34m.\u001b[0m\u001b[0mconfig\u001b[0m \u001b[0;32mimport\u001b[0m \u001b[0mQuantizationConfig\u001b[0m\u001b[0;34m\u001b[0m\u001b[0;34m\u001b[0m\u001b[0m\n\u001b[0m\u001b[1;32m     13\u001b[0m \u001b[0;32mfrom\u001b[0m \u001b[0mtflite_model_maker\u001b[0m\u001b[0;34m.\u001b[0m\u001b[0mconfig\u001b[0m \u001b[0;32mimport\u001b[0m \u001b[0mExportFormat\u001b[0m\u001b[0;34m\u001b[0m\u001b[0;34m\u001b[0m\u001b[0m\n\u001b[1;32m     14\u001b[0m \u001b[0;32mfrom\u001b[0m \u001b[0mtflite_model_maker\u001b[0m \u001b[0;32mimport\u001b[0m \u001b[0mmodel_spec\u001b[0m\u001b[0;34m\u001b[0m\u001b[0;34m\u001b[0m\u001b[0m\n",
            "\u001b[0;31mModuleNotFoundError\u001b[0m: No module named 'tflite_model_maker'",
            "",
            "\u001b[0;31m---------------------------------------------------------------------------\u001b[0;32m\nNOTE: If your import is failing due to a missing package, you can\nmanually install dependencies using either !pip or !apt.\n\nTo view examples of installing some common dependencies, click the\n\"Open Examples\" button below.\n\u001b[0;31m---------------------------------------------------------------------------\u001b[0m\n"
          ],
          "errorDetails": {
            "actions": [
              {
                "action": "open_url",
                "actionText": "Open Examples",
                "url": "/notebooks/snippets/importing_libraries.ipynb"
              }
            ]
          }
        }
      ]
    },
    {
      "cell_type": "markdown",
      "source": [
        "## Prepare Model"
      ],
      "metadata": {
        "id": "lM7gJNx-xW46"
      }
    },
    {
      "cell_type": "markdown",
      "source": [
        "### Prepare Directories"
      ],
      "metadata": {
        "id": "AhMMZ7t5yzNG"
      }
    },
    {
      "cell_type": "code",
      "source": [
        "drive.mount('/content/gdrive/', force_remount=True)"
      ],
      "metadata": {
        "id": "6GHk9dpho1Vc"
      },
      "execution_count": null,
      "outputs": []
    },
    {
      "cell_type": "markdown",
      "source": [
        "**Train and Validation Data Dir**"
      ],
      "metadata": {
        "id": "nghQE06dktGV"
      }
    },
    {
      "cell_type": "code",
      "source": [
        "!mkdir /content/Train_Val\n",
        "%cd /content/Train_Val\n",
        "!unzip \"/content/gdrive/MyDrive/Capstone/C501/ModelPreparation/Dataset/Augmented/Pascal VOC/Dataset2.zip\""
      ],
      "metadata": {
        "id": "KefWc7nZyx45"
      },
      "execution_count": null,
      "outputs": []
    },
    {
      "cell_type": "code",
      "source": [
        "# Create new directory\n",
        "!mkdir /content/Train_Val/Annotation\n",
        "%cd \"/content/Train_Val/Annotation\""
      ],
      "metadata": {
        "id": "ypjQmI1hAzw-"
      },
      "execution_count": null,
      "outputs": []
    },
    {
      "cell_type": "code",
      "source": [
        "# Remove encoding in xml files\n",
        "\n",
        "path = \"/content/Train_Val/Annotations\"\n",
        "dstpath = \"/content/Train_Val/Annotation\"\n",
        "\n",
        "for filename in os.listdir(path):\n",
        "    if filename.endswith('.xml'):\n",
        "        tree = etree.parse(path+\"/\"+filename)\n",
        "        etree.strip_elements(tree, \"{*}openSession\", with_tail=True)\n",
        "        save = filename\n",
        "        tree.write(save)"
      ],
      "metadata": {
        "id": "722vXUsAAN1H"
      },
      "execution_count": null,
      "outputs": []
    },
    {
      "cell_type": "code",
      "source": [
        "# Remove old directory\n",
        "%cd /content/Train_Val\n",
        "!rm /content/Train_Val/Annotations/* /content/Train_Val/Annotations/.*\n",
        "!rmdir /content/Train_Val/Annotations"
      ],
      "metadata": {
        "id": "wjTujzdErNFL"
      },
      "execution_count": null,
      "outputs": []
    },
    {
      "cell_type": "markdown",
      "source": [
        "**Test Data Dir**"
      ],
      "metadata": {
        "id": "6hcr_rsPk1fj"
      }
    },
    {
      "cell_type": "code",
      "source": [
        "!mkdir /content/Test\n",
        "%cd /content/Test\n",
        "!unzip \"/content/gdrive/MyDrive/Capstone/C501/ModelPreparation/Dataset/Test_Dataset/PASCAL_VOC/Test_Dataset2.zip\""
      ],
      "metadata": {
        "id": "AcmgYCNzk7fY"
      },
      "execution_count": null,
      "outputs": []
    },
    {
      "cell_type": "code",
      "source": [
        "# Create new directory\n",
        "!mkdir /content/Test/Annotation\n",
        "%cd \"/content/Test/Annotation\""
      ],
      "metadata": {
        "id": "ZIhAKyU3lJv9"
      },
      "execution_count": null,
      "outputs": []
    },
    {
      "cell_type": "code",
      "source": [
        "# Remove encoding in xml files\n",
        "\n",
        "path = \"/content/Test/Annotations\"\n",
        "dstpath = \"/content/Test/Annotation\"\n",
        "\n",
        "for filename in os.listdir(path):\n",
        "    if filename.endswith('.xml'):\n",
        "        tree = etree.parse(path+\"/\"+filename)\n",
        "        etree.strip_elements(tree, \"{*}openSession\", with_tail=True)\n",
        "        save = filename\n",
        "        tree.write(save)"
      ],
      "metadata": {
        "id": "s6nOnA5_lWeU"
      },
      "execution_count": null,
      "outputs": []
    },
    {
      "cell_type": "code",
      "source": [
        "# Remove old directory\n",
        "%cd /content/Test\n",
        "!rm /content/Test/Annotations/* /content/Test/Annotations/.*\n",
        "!rmdir /content/Test/Annotations"
      ],
      "metadata": {
        "id": "cp05iprilZoc"
      },
      "execution_count": null,
      "outputs": []
    },
    {
      "cell_type": "markdown",
      "source": [
        "**Final Dataset Directory**"
      ],
      "metadata": {
        "id": "3H7zcwSclj_Y"
      }
    },
    {
      "cell_type": "code",
      "source": [
        "# Create train and test directory\n",
        "%cd /content/\n",
        "\n",
        "!mkdir \"/content/Dataset/\"\n",
        "!mkdir \"/content/Dataset/Annotation/\"\n",
        "!mkdir \"/content/Dataset/Images/\"\n",
        "\n",
        "!mkdir \"/content/Dataset/Annotation/Train\"\n",
        "!mkdir \"/content/Dataset/Annotation/Val\"\n",
        "!mkdir \"/content/Dataset/Annotation/Test\"\n",
        "!mkdir \"/content/Dataset/Images/Train\"\n",
        "!mkdir \"/content/Dataset/Images/Val\"\n",
        "!mkdir \"/content/Dataset/Images/Test\""
      ],
      "metadata": {
        "id": "D0MGLp4uuC0n"
      },
      "execution_count": null,
      "outputs": []
    },
    {
      "cell_type": "markdown",
      "source": [
        "### Prepare and Load Dataset"
      ],
      "metadata": {
        "id": "BIMndR2U0U5x"
      }
    },
    {
      "cell_type": "code",
      "source": [
        "# # Creating Train / Val / Test folders (One time use)\n",
        "root_dir = \"/content/Dataset/\"\n",
        "\n",
        "# os.makedirs(root_dir + '/Images' + '/Train')\n",
        "# os.makedirs(root_dir + '/Images' + '/Test')\n",
        "# os.makedirs(root_dir + '/Annotation' + '/Train')\n",
        "# os.makedirs(root_dir + '/Annotation' + '/Test')\n",
        "# os.makedirs(root_dir + '/Annotation' +'/val')\n",
        "# os.makedirs(root_dir + '/Images' +'/val')\n",
        "\n",
        "# Creating partitions of the data after shuffeling\n",
        "img_src = \"/content/Train_Val/images\" # Folder to copy images from\n",
        "annot_src = \"/content/Train_Val/Annotation\" # Folder to copy annots from\n",
        "test_img_src = \"/content/Test/images\"\n",
        "test_annot_src = \"/content/Test/Annotation\"\n",
        "\n",
        "# Seed for shuffling\n",
        "seed = 42\n",
        "\n",
        "ImageFileNames = os.listdir(img_src)\n",
        "AnnotFileNames = os.listdir(annot_src)\n",
        "np.random.seed(seed)\n",
        "np.random.shuffle(ImageFileNames)\n",
        "\n",
        "train_ImgFileNames, val_ImgFileNames = np.split(np.array(ImageFileNames),\n",
        "                                                          [int(len(ImageFileNames)*0.8)])\n",
        "train_AntFileNames = []\n",
        "val_AntFileNames = []\n",
        "\n",
        "for img in train_ImgFileNames:\n",
        "  for ant in AnnotFileNames:\n",
        "    if img.split('-')[0] == ant.split('-')[0]:\n",
        "      train_AntFileNames.append(ant)\n",
        "\n",
        "for img in val_ImgFileNames:\n",
        "  for ant in AnnotFileNames:\n",
        "    if img.split('-')[0] == ant.split('-')[0]:\n",
        "      val_AntFileNames.append(ant)\n",
        "\n",
        "test_ImgFileNames = os.listdir(test_img_src)\n",
        "test_AntFileNames = os.listdir(test_annot_src)\n",
        "\n",
        "train_ImgFileNames = [img_src+'/'+ name for name in train_ImgFileNames.tolist()]\n",
        "val_ImgFileNames = [img_src+'/' + name for name in val_ImgFileNames.tolist()]\n",
        "test_ImgFileNames = [test_img_src+'/' + name for name in test_ImgFileNames]\n",
        "\n",
        "train_AntFileNames = [annot_src+'/'+ name for name in train_AntFileNames]\n",
        "val_AntFileNames = [annot_src+'/' + name for name in val_AntFileNames]\n",
        "test_AntFileNames = [test_annot_src+'/' + name for name in test_AntFileNames]\n",
        "\n",
        "print('Total images: ', len(ImageFileNames))\n",
        "print('Training: ', len(train_ImgFileNames))\n",
        "print('Validation: ', len(val_ImgFileNames))\n",
        "print('Testing: ', len(test_ImgFileNames))\n",
        "\n",
        "print('Total annotations: ', len(AnnotFileNames))\n",
        "print('Training: ', len(train_AntFileNames))\n",
        "print('Validation: ', len(val_AntFileNames))\n",
        "print('Testing: ', len(test_AntFileNames))\n",
        "\n",
        "# Copy-pasting images and annots\n",
        "for name in train_ImgFileNames:\n",
        "    shutil.copy(name, \"/content/Dataset/Images/Train\")\n",
        "\n",
        "for name in val_ImgFileNames:\n",
        "    shutil.copy(name, \"/content/Dataset/Images/Val\")\n",
        "\n",
        "for name in test_ImgFileNames:\n",
        "    shutil.copy(name, \"/content/Dataset/Images/Test\")\n",
        "\n",
        "for name in train_AntFileNames:\n",
        "    shutil.copy(name, \"/content/Dataset/Annotation/Train\")\n",
        "\n",
        "for name in val_AntFileNames:\n",
        "    shutil.copy(name, \"/content/Dataset/Annotation/Val\")\n",
        "\n",
        "for name in test_AntFileNames:\n",
        "    shutil.copy(name, \"/content/Dataset/Annotation/Test\")"
      ],
      "metadata": {
        "id": "lvJmwp-dvm9-"
      },
      "execution_count": null,
      "outputs": []
    },
    {
      "cell_type": "code",
      "source": [
        "train_data = object_detector.DataLoader.from_pascal_voc(\"/content/Dataset/Images/Train\", \"/content/Dataset/Annotation/Train\", label_map={1: \"yellow_ducky\", 2: \"green_ducky\", 3: \"big_green_ducky\"})\n",
        "val_data = object_detector.DataLoader.from_pascal_voc(\"/content/Dataset/Images/Val\", \"/content/Dataset/Annotation/Val\", label_map={1: \"yellow_ducky\", 2: \"green_ducky\", 3: \"big_green_ducky\"})\n",
        "test_data = object_detector.DataLoader.from_pascal_voc(\"/content/Dataset/Images/Test\", \"/content/Dataset/Annotation/Test\", label_map={1: \"yellow_ducky\", 2: \"green_ducky\", 3: \"big_green_ducky\"})"
      ],
      "metadata": {
        "id": "3RRS9Lf6tTat"
      },
      "execution_count": null,
      "outputs": []
    },
    {
      "cell_type": "markdown",
      "source": [
        "### Load Pre-Trained Model"
      ],
      "metadata": {
        "id": "DS8oxUnS0LUy"
      }
    },
    {
      "cell_type": "code",
      "source": [
        "spec = model_spec.get('efficientdet_lite2')"
      ],
      "metadata": {
        "id": "6ladAnFR0eA7"
      },
      "execution_count": null,
      "outputs": []
    },
    {
      "cell_type": "markdown",
      "source": [
        "### Train Model"
      ],
      "metadata": {
        "id": "ixbi14NK0oki"
      }
    },
    {
      "cell_type": "code",
      "source": [
        "model = object_detector.create(\n",
        "    train_data=train_data,\n",
        "    model_spec=spec,\n",
        "    epochs=80,\n",
        "    batch_size=16,\n",
        "    train_whole_model=False,\n",
        "    validation_data=val_data)"
      ],
      "metadata": {
        "colab": {
          "base_uri": "https://localhost:8080/"
        },
        "id": "hysl0yHV0qxH",
        "outputId": "bf5a82e9-9bec-4fc7-f5d9-d20cd08eb08a"
      },
      "execution_count": null,
      "outputs": [
        {
          "output_type": "stream",
          "name": "stdout",
          "text": [
            "Epoch 1/80\n",
            "1/1 [==============================] - 28s 28s/step - det_loss: 1.7507 - cls_loss: 1.1521 - box_loss: 0.0120 - reg_l2_loss: 0.0071 - loss: 1.7578 - learning_rate: 0.0080 - gradient_norm: 0.8241\n",
            "Epoch 2/80\n",
            "1/1 [==============================] - 4s 4s/step - det_loss: 1.7667 - cls_loss: 1.1498 - box_loss: 0.0123 - reg_l2_loss: 0.0071 - loss: 1.7738 - learning_rate: 0.0200 - gradient_norm: 0.7461\n",
            "Epoch 3/80\n",
            "1/1 [==============================] - 3s 3s/step - det_loss: 1.7578 - cls_loss: 1.1469 - box_loss: 0.0122 - reg_l2_loss: 0.0071 - loss: 1.7649 - learning_rate: 0.0200 - gradient_norm: 0.7402\n",
            "Epoch 4/80\n",
            "1/1 [==============================] - 3s 3s/step - det_loss: 1.7265 - cls_loss: 1.1493 - box_loss: 0.0115 - reg_l2_loss: 0.0071 - loss: 1.7337 - learning_rate: 0.0199 - gradient_norm: 0.6839\n",
            "Epoch 5/80\n",
            "1/1 [==============================] - 3s 3s/step - det_loss: 1.7004 - cls_loss: 1.1473 - box_loss: 0.0111 - reg_l2_loss: 0.0071 - loss: 1.7076 - learning_rate: 0.0199 - gradient_norm: 0.6328\n",
            "Epoch 6/80\n",
            "1/1 [==============================] - 3s 3s/step - det_loss: 1.6595 - cls_loss: 1.1430 - box_loss: 0.0103 - reg_l2_loss: 0.0071 - loss: 1.6666 - learning_rate: 0.0198 - gradient_norm: 0.5963\n",
            "Epoch 7/80\n",
            "1/1 [==============================] - 6s 6s/step - det_loss: 1.6119 - cls_loss: 1.1368 - box_loss: 0.0095 - reg_l2_loss: 0.0071 - loss: 1.6190 - learning_rate: 0.0197 - gradient_norm: 0.6592\n",
            "Epoch 8/80\n",
            "1/1 [==============================] - 3s 3s/step - det_loss: 1.5867 - cls_loss: 1.1286 - box_loss: 0.0092 - reg_l2_loss: 0.0071 - loss: 1.5938 - learning_rate: 0.0196 - gradient_norm: 0.6831\n",
            "Epoch 9/80\n",
            "1/1 [==============================] - 3s 3s/step - det_loss: 1.5840 - cls_loss: 1.1263 - box_loss: 0.0092 - reg_l2_loss: 0.0071 - loss: 1.5912 - learning_rate: 0.0195 - gradient_norm: 0.6467\n",
            "Epoch 10/80\n",
            "1/1 [==============================] - 3s 3s/step - det_loss: 1.5317 - cls_loss: 1.1168 - box_loss: 0.0083 - reg_l2_loss: 0.0071 - loss: 1.5388 - learning_rate: 0.0194 - gradient_norm: 0.6157\n",
            "Epoch 11/80\n",
            "1/1 [==============================] - 3s 3s/step - det_loss: 1.5035 - cls_loss: 1.1060 - box_loss: 0.0079 - reg_l2_loss: 0.0071 - loss: 1.5106 - learning_rate: 0.0192 - gradient_norm: 0.6190\n",
            "Epoch 12/80\n",
            "1/1 [==============================] - 4s 4s/step - det_loss: 1.5010 - cls_loss: 1.0962 - box_loss: 0.0081 - reg_l2_loss: 0.0071 - loss: 1.5081 - learning_rate: 0.0191 - gradient_norm: 0.7008\n",
            "Epoch 13/80\n",
            "1/1 [==============================] - 3s 3s/step - det_loss: 1.4646 - cls_loss: 1.0831 - box_loss: 0.0076 - reg_l2_loss: 0.0071 - loss: 1.4717 - learning_rate: 0.0189 - gradient_norm: 0.7174\n",
            "Epoch 14/80\n",
            "1/1 [==============================] - 3s 3s/step - det_loss: 1.4174 - cls_loss: 1.0714 - box_loss: 0.0069 - reg_l2_loss: 0.0071 - loss: 1.4246 - learning_rate: 0.0187 - gradient_norm: 0.9326\n",
            "Epoch 15/80\n",
            "1/1 [==============================] - 3s 3s/step - det_loss: 1.3796 - cls_loss: 1.0512 - box_loss: 0.0066 - reg_l2_loss: 0.0071 - loss: 1.3867 - learning_rate: 0.0185 - gradient_norm: 0.8587\n",
            "Epoch 16/80\n",
            "1/1 [==============================] - 3s 3s/step - det_loss: 1.3997 - cls_loss: 1.0514 - box_loss: 0.0070 - reg_l2_loss: 0.0071 - loss: 1.4069 - learning_rate: 0.0183 - gradient_norm: 0.7607\n",
            "Epoch 17/80\n",
            "1/1 [==============================] - 4s 4s/step - det_loss: 1.3060 - cls_loss: 1.0152 - box_loss: 0.0058 - reg_l2_loss: 0.0071 - loss: 1.3131 - learning_rate: 0.0180 - gradient_norm: 0.8382\n",
            "Epoch 18/80\n",
            "1/1 [==============================] - 3s 3s/step - det_loss: 1.3050 - cls_loss: 0.9964 - box_loss: 0.0062 - reg_l2_loss: 0.0071 - loss: 1.3122 - learning_rate: 0.0178 - gradient_norm: 0.8957\n",
            "Epoch 19/80\n",
            "1/1 [==============================] - 3s 3s/step - det_loss: 1.2146 - cls_loss: 0.9622 - box_loss: 0.0050 - reg_l2_loss: 0.0071 - loss: 1.2218 - learning_rate: 0.0175 - gradient_norm: 0.9240\n",
            "Epoch 20/80\n",
            "1/1 [==============================] - 3s 3s/step - det_loss: 1.2226 - cls_loss: 0.9362 - box_loss: 0.0057 - reg_l2_loss: 0.0071 - loss: 1.2297 - learning_rate: 0.0173 - gradient_norm: 0.8634\n",
            "Epoch 21/80\n",
            "1/1 [==============================] - 3s 3s/step - det_loss: 1.1472 - cls_loss: 0.8988 - box_loss: 0.0050 - reg_l2_loss: 0.0071 - loss: 1.1543 - learning_rate: 0.0170 - gradient_norm: 0.9377\n",
            "Epoch 22/80\n",
            "1/1 [==============================] - 4s 4s/step - det_loss: 1.1089 - cls_loss: 0.8469 - box_loss: 0.0052 - reg_l2_loss: 0.0071 - loss: 1.1161 - learning_rate: 0.0167 - gradient_norm: 1.0680\n",
            "Epoch 23/80\n",
            "1/1 [==============================] - 3s 3s/step - det_loss: 0.9976 - cls_loss: 0.7860 - box_loss: 0.0042 - reg_l2_loss: 0.0072 - loss: 1.0047 - learning_rate: 0.0164 - gradient_norm: 0.9958\n",
            "Epoch 24/80\n",
            "1/1 [==============================] - 3s 3s/step - det_loss: 0.9213 - cls_loss: 0.7200 - box_loss: 0.0040 - reg_l2_loss: 0.0072 - loss: 0.9284 - learning_rate: 0.0161 - gradient_norm: 1.1354\n",
            "Epoch 25/80\n",
            "1/1 [==============================] - 3s 3s/step - det_loss: 0.9090 - cls_loss: 0.7067 - box_loss: 0.0040 - reg_l2_loss: 0.0072 - loss: 0.9162 - learning_rate: 0.0158 - gradient_norm: 1.0511\n",
            "Epoch 26/80\n",
            "1/1 [==============================] - 3s 3s/step - det_loss: 0.9597 - cls_loss: 0.7487 - box_loss: 0.0042 - reg_l2_loss: 0.0072 - loss: 0.9669 - learning_rate: 0.0155 - gradient_norm: 1.6870\n",
            "Epoch 27/80\n",
            "1/1 [==============================] - 4s 4s/step - det_loss: 1.0473 - cls_loss: 0.7967 - box_loss: 0.0050 - reg_l2_loss: 0.0072 - loss: 1.0545 - learning_rate: 0.0151 - gradient_norm: 1.9806\n",
            "Epoch 28/80\n",
            "1/1 [==============================] - 3s 3s/step - det_loss: 0.8182 - cls_loss: 0.6465 - box_loss: 0.0034 - reg_l2_loss: 0.0072 - loss: 0.8253 - learning_rate: 0.0148 - gradient_norm: 1.3357\n",
            "Epoch 29/80\n",
            "1/1 [==============================] - 3s 3s/step - det_loss: 0.7673 - cls_loss: 0.6126 - box_loss: 0.0031 - reg_l2_loss: 0.0072 - loss: 0.7745 - learning_rate: 0.0144 - gradient_norm: 1.5234\n",
            "Epoch 30/80\n",
            "1/1 [==============================] - 3s 3s/step - det_loss: 0.8784 - cls_loss: 0.6624 - box_loss: 0.0043 - reg_l2_loss: 0.0072 - loss: 0.8855 - learning_rate: 0.0141 - gradient_norm: 0.8144\n",
            "Epoch 31/80\n",
            "1/1 [==============================] - 3s 3s/step - det_loss: 0.7964 - cls_loss: 0.6205 - box_loss: 0.0035 - reg_l2_loss: 0.0072 - loss: 0.8036 - learning_rate: 0.0137 - gradient_norm: 0.8239\n",
            "Epoch 32/80\n",
            "1/1 [==============================] - 4s 4s/step - det_loss: 0.7320 - cls_loss: 0.5818 - box_loss: 0.0030 - reg_l2_loss: 0.0072 - loss: 0.7391 - learning_rate: 0.0133 - gradient_norm: 1.0061\n",
            "Epoch 33/80\n",
            "1/1 [==============================] - 3s 3s/step - det_loss: 0.7670 - cls_loss: 0.6200 - box_loss: 0.0029 - reg_l2_loss: 0.0072 - loss: 0.7741 - learning_rate: 0.0129 - gradient_norm: 1.0703\n",
            "Epoch 34/80\n",
            "1/1 [==============================] - 3s 3s/step - det_loss: 0.7631 - cls_loss: 0.6134 - box_loss: 0.0030 - reg_l2_loss: 0.0072 - loss: 0.7703 - learning_rate: 0.0126 - gradient_norm: 0.9964\n",
            "Epoch 35/80\n",
            "1/1 [==============================] - 3s 3s/step - det_loss: 0.7116 - cls_loss: 0.5603 - box_loss: 0.0030 - reg_l2_loss: 0.0072 - loss: 0.7188 - learning_rate: 0.0122 - gradient_norm: 0.9705\n",
            "Epoch 36/80\n",
            "1/1 [==============================] - 3s 3s/step - det_loss: 0.7655 - cls_loss: 0.6039 - box_loss: 0.0032 - reg_l2_loss: 0.0072 - loss: 0.7726 - learning_rate: 0.0118 - gradient_norm: 1.0161\n",
            "Epoch 37/80\n",
            "1/1 [==============================] - 4s 4s/step - det_loss: 0.7335 - cls_loss: 0.5871 - box_loss: 0.0029 - reg_l2_loss: 0.0072 - loss: 0.7407 - learning_rate: 0.0114 - gradient_norm: 0.8823\n",
            "Epoch 38/80\n",
            "1/1 [==============================] - 3s 3s/step - det_loss: 0.8046 - cls_loss: 0.6229 - box_loss: 0.0036 - reg_l2_loss: 0.0072 - loss: 0.8117 - learning_rate: 0.0110 - gradient_norm: 0.9997\n",
            "Epoch 39/80\n",
            "1/1 [==============================] - 3s 3s/step - det_loss: 0.7568 - cls_loss: 0.5898 - box_loss: 0.0033 - reg_l2_loss: 0.0072 - loss: 0.7640 - learning_rate: 0.0106 - gradient_norm: 0.9154\n",
            "Epoch 40/80\n",
            "1/1 [==============================] - 3s 3s/step - det_loss: 0.7679 - cls_loss: 0.5977 - box_loss: 0.0034 - reg_l2_loss: 0.0072 - loss: 0.7751 - learning_rate: 0.0102 - gradient_norm: 0.9595\n",
            "Epoch 41/80\n",
            "1/1 [==============================] - 3s 3s/step - det_loss: 0.6564 - cls_loss: 0.5353 - box_loss: 0.0024 - reg_l2_loss: 0.0072 - loss: 0.6636 - learning_rate: 0.0098 - gradient_norm: 0.9145\n",
            "Epoch 42/80\n",
            "1/1 [==============================] - 4s 4s/step - det_loss: 0.6272 - cls_loss: 0.5151 - box_loss: 0.0022 - reg_l2_loss: 0.0072 - loss: 0.6343 - learning_rate: 0.0094 - gradient_norm: 0.7827\n",
            "Epoch 43/80\n",
            "1/1 [==============================] - 3s 3s/step - det_loss: 0.7077 - cls_loss: 0.5586 - box_loss: 0.0030 - reg_l2_loss: 0.0072 - loss: 0.7149 - learning_rate: 0.0090 - gradient_norm: 0.6692\n",
            "Epoch 44/80\n",
            "1/1 [==============================] - 3s 3s/step - det_loss: 0.7000 - cls_loss: 0.5623 - box_loss: 0.0028 - reg_l2_loss: 0.0072 - loss: 0.7072 - learning_rate: 0.0086 - gradient_norm: 0.6932\n",
            "Epoch 45/80\n",
            "1/1 [==============================] - 3s 3s/step - det_loss: 0.6775 - cls_loss: 0.5338 - box_loss: 0.0029 - reg_l2_loss: 0.0072 - loss: 0.6847 - learning_rate: 0.0082 - gradient_norm: 0.8290\n",
            "Epoch 46/80\n",
            "1/1 [==============================] - 3s 3s/step - det_loss: 0.6877 - cls_loss: 0.5389 - box_loss: 0.0030 - reg_l2_loss: 0.0072 - loss: 0.6949 - learning_rate: 0.0078 - gradient_norm: 0.6100\n",
            "Epoch 47/80\n",
            "1/1 [==============================] - 4s 4s/step - det_loss: 0.6410 - cls_loss: 0.4971 - box_loss: 0.0029 - reg_l2_loss: 0.0072 - loss: 0.6482 - learning_rate: 0.0074 - gradient_norm: 0.6307\n",
            "Epoch 48/80\n",
            "1/1 [==============================] - 3s 3s/step - det_loss: 0.5875 - cls_loss: 0.4925 - box_loss: 0.0019 - reg_l2_loss: 0.0072 - loss: 0.5947 - learning_rate: 0.0071 - gradient_norm: 0.6603\n",
            "Epoch 49/80\n",
            "1/1 [==============================] - 3s 3s/step - det_loss: 0.6325 - cls_loss: 0.5120 - box_loss: 0.0024 - reg_l2_loss: 0.0072 - loss: 0.6397 - learning_rate: 0.0067 - gradient_norm: 0.7283\n",
            "Epoch 50/80\n",
            "1/1 [==============================] - 3s 3s/step - det_loss: 0.6183 - cls_loss: 0.5074 - box_loss: 0.0022 - reg_l2_loss: 0.0072 - loss: 0.6255 - learning_rate: 0.0063 - gradient_norm: 0.8307\n",
            "Epoch 51/80\n",
            "1/1 [==============================] - 3s 3s/step - det_loss: 0.6402 - cls_loss: 0.5144 - box_loss: 0.0025 - reg_l2_loss: 0.0072 - loss: 0.6474 - learning_rate: 0.0059 - gradient_norm: 0.8248\n",
            "Epoch 52/80\n",
            "1/1 [==============================] - 4s 4s/step - det_loss: 0.5895 - cls_loss: 0.4844 - box_loss: 0.0021 - reg_l2_loss: 0.0072 - loss: 0.5967 - learning_rate: 0.0056 - gradient_norm: 0.8332\n",
            "Epoch 53/80\n",
            "1/1 [==============================] - 3s 3s/step - det_loss: 0.6331 - cls_loss: 0.5025 - box_loss: 0.0026 - reg_l2_loss: 0.0072 - loss: 0.6403 - learning_rate: 0.0052 - gradient_norm: 0.6378\n",
            "Epoch 54/80\n",
            "1/1 [==============================] - 3s 3s/step - det_loss: 0.7085 - cls_loss: 0.5608 - box_loss: 0.0030 - reg_l2_loss: 0.0072 - loss: 0.7157 - learning_rate: 0.0049 - gradient_norm: 0.8119\n",
            "Epoch 55/80\n",
            "1/1 [==============================] - 3s 3s/step - det_loss: 0.5867 - cls_loss: 0.4838 - box_loss: 0.0021 - reg_l2_loss: 0.0072 - loss: 0.5939 - learning_rate: 0.0045 - gradient_norm: 0.7620\n",
            "Epoch 56/80\n",
            "1/1 [==============================] - 3s 3s/step - det_loss: 0.7136 - cls_loss: 0.5433 - box_loss: 0.0034 - reg_l2_loss: 0.0072 - loss: 0.7208 - learning_rate: 0.0042 - gradient_norm: 0.7611\n",
            "Epoch 57/80\n",
            "1/1 [==============================] - 4s 4s/step - det_loss: 0.6113 - cls_loss: 0.4919 - box_loss: 0.0024 - reg_l2_loss: 0.0072 - loss: 0.6185 - learning_rate: 0.0039 - gradient_norm: 0.6580\n",
            "Epoch 58/80\n",
            "1/1 [==============================] - 3s 3s/step - det_loss: 0.5752 - cls_loss: 0.4753 - box_loss: 0.0020 - reg_l2_loss: 0.0072 - loss: 0.5824 - learning_rate: 0.0036 - gradient_norm: 0.6625\n",
            "Epoch 59/80\n",
            "1/1 [==============================] - 4s 4s/step - det_loss: 0.5551 - cls_loss: 0.4667 - box_loss: 0.0018 - reg_l2_loss: 0.0072 - loss: 0.5623 - learning_rate: 0.0033 - gradient_norm: 0.6283\n",
            "Epoch 60/80\n",
            "1/1 [==============================] - 5s 5s/step - det_loss: 0.6443 - cls_loss: 0.5112 - box_loss: 0.0027 - reg_l2_loss: 0.0072 - loss: 0.6515 - learning_rate: 0.0030 - gradient_norm: 0.6212\n",
            "Epoch 61/80\n",
            "1/1 [==============================] - 4s 4s/step - det_loss: 0.6473 - cls_loss: 0.5024 - box_loss: 0.0029 - reg_l2_loss: 0.0072 - loss: 0.6545 - learning_rate: 0.0027 - gradient_norm: 0.6330\n",
            "Epoch 62/80\n",
            "1/1 [==============================] - 4s 4s/step - det_loss: 0.6422 - cls_loss: 0.5118 - box_loss: 0.0026 - reg_l2_loss: 0.0072 - loss: 0.6494 - learning_rate: 0.0025 - gradient_norm: 0.5356\n",
            "Epoch 63/80\n",
            "1/1 [==============================] - 3s 3s/step - det_loss: 0.6248 - cls_loss: 0.5076 - box_loss: 0.0023 - reg_l2_loss: 0.0072 - loss: 0.6320 - learning_rate: 0.0022 - gradient_norm: 0.5318\n",
            "Epoch 64/80\n",
            "1/1 [==============================] - 3s 3s/step - det_loss: 0.5339 - cls_loss: 0.4399 - box_loss: 0.0019 - reg_l2_loss: 0.0072 - loss: 0.5411 - learning_rate: 0.0020 - gradient_norm: 0.5109\n",
            "Epoch 65/80\n",
            "1/1 [==============================] - 3s 3s/step - det_loss: 0.5979 - cls_loss: 0.4828 - box_loss: 0.0023 - reg_l2_loss: 0.0072 - loss: 0.6051 - learning_rate: 0.0017 - gradient_norm: 0.5787\n",
            "Epoch 66/80\n",
            "1/1 [==============================] - 3s 3s/step - det_loss: 0.5664 - cls_loss: 0.4664 - box_loss: 0.0020 - reg_l2_loss: 0.0072 - loss: 0.5736 - learning_rate: 0.0015 - gradient_norm: 0.5178\n",
            "Epoch 67/80\n",
            "1/1 [==============================] - 4s 4s/step - det_loss: 0.5493 - cls_loss: 0.4502 - box_loss: 0.0020 - reg_l2_loss: 0.0072 - loss: 0.5565 - learning_rate: 0.0013 - gradient_norm: 0.5881\n",
            "Epoch 68/80\n",
            "1/1 [==============================] - 3s 3s/step - det_loss: 0.6644 - cls_loss: 0.5203 - box_loss: 0.0029 - reg_l2_loss: 0.0072 - loss: 0.6717 - learning_rate: 0.0011 - gradient_norm: 0.6778\n",
            "Epoch 69/80\n",
            "1/1 [==============================] - 3s 3s/step - det_loss: 0.5816 - cls_loss: 0.4793 - box_loss: 0.0020 - reg_l2_loss: 0.0072 - loss: 0.5888 - learning_rate: 9.4159e-04 - gradient_norm: 0.6199\n",
            "Epoch 70/80\n",
            "1/1 [==============================] - 3s 3s/step - det_loss: 0.6290 - cls_loss: 0.4953 - box_loss: 0.0027 - reg_l2_loss: 0.0072 - loss: 0.6362 - learning_rate: 7.8034e-04 - gradient_norm: 0.6999\n",
            "Epoch 71/80\n",
            "1/1 [==============================] - 3s 3s/step - det_loss: 0.5568 - cls_loss: 0.4550 - box_loss: 0.0020 - reg_l2_loss: 0.0072 - loss: 0.5640 - learning_rate: 6.3366e-04 - gradient_norm: 0.6796\n",
            "Epoch 72/80\n",
            "1/1 [==============================] - 4s 4s/step - det_loss: 0.5502 - cls_loss: 0.4726 - box_loss: 0.0016 - reg_l2_loss: 0.0072 - loss: 0.5574 - learning_rate: 5.0180e-04 - gradient_norm: 0.7006\n",
            "Epoch 73/80\n",
            "1/1 [==============================] - 3s 3s/step - det_loss: 0.5594 - cls_loss: 0.4660 - box_loss: 0.0019 - reg_l2_loss: 0.0072 - loss: 0.5666 - learning_rate: 3.8495e-04 - gradient_norm: 0.6420\n",
            "Epoch 74/80\n",
            "1/1 [==============================] - 3s 3s/step - det_loss: 0.5845 - cls_loss: 0.4837 - box_loss: 0.0020 - reg_l2_loss: 0.0072 - loss: 0.5917 - learning_rate: 2.8331e-04 - gradient_norm: 0.7222\n",
            "Epoch 75/80\n",
            "1/1 [==============================] - 3s 3s/step - det_loss: 0.5611 - cls_loss: 0.4605 - box_loss: 0.0020 - reg_l2_loss: 0.0072 - loss: 0.5683 - learning_rate: 1.9703e-04 - gradient_norm: 0.5514\n",
            "Epoch 76/80\n",
            "1/1 [==============================] - 3s 3s/step - det_loss: 0.6127 - cls_loss: 0.4960 - box_loss: 0.0023 - reg_l2_loss: 0.0072 - loss: 0.6199 - learning_rate: 1.2625e-04 - gradient_norm: 0.8153\n",
            "Epoch 77/80\n",
            "1/1 [==============================] - 3s 3s/step - det_loss: 0.5483 - cls_loss: 0.4660 - box_loss: 0.0016 - reg_l2_loss: 0.0072 - loss: 0.5555 - learning_rate: 7.1079e-05 - gradient_norm: 0.7203\n",
            "Epoch 78/80\n",
            "1/1 [==============================] - 4s 4s/step - det_loss: 0.6597 - cls_loss: 0.5324 - box_loss: 0.0025 - reg_l2_loss: 0.0072 - loss: 0.6669 - learning_rate: 3.1611e-05 - gradient_norm: 0.6164\n",
            "Epoch 79/80\n",
            "1/1 [==============================] - 3s 3s/step - det_loss: 0.5230 - cls_loss: 0.4299 - box_loss: 0.0019 - reg_l2_loss: 0.0072 - loss: 0.5302 - learning_rate: 7.9060e-06 - gradient_norm: 0.7104\n",
            "Epoch 80/80\n",
            "1/1 [==============================] - 3s 3s/step - det_loss: 0.5463 - cls_loss: 0.4467 - box_loss: 0.0020 - reg_l2_loss: 0.0072 - loss: 0.5535 - learning_rate: 0.0000e+00 - gradient_norm: 0.6570\n"
          ]
        }
      ]
    },
    {
      "cell_type": "code",
      "source": [
        "model.summary()"
      ],
      "metadata": {
        "colab": {
          "base_uri": "https://localhost:8080/"
        },
        "id": "zPQf-GpzEHvO",
        "outputId": "7da19202-d13c-4445-d7ad-7e4667cf4af1"
      },
      "execution_count": null,
      "outputs": [
        {
          "output_type": "stream",
          "name": "stdout",
          "text": [
            "Model: \"\"\n",
            "_________________________________________________________________\n",
            " Layer (type)                Output Shape              Param #   \n",
            "=================================================================\n",
            " keras_layer_2 (KerasLayer)  multiple                  15092016  \n",
            "                                                                 \n",
            " class_net/class-predict (Se  multiple                 8091      \n",
            " parableConv2D)                                                  \n",
            "                                                                 \n",
            " box_net/box-predict (Separa  multiple                 10116     \n",
            " bleConv2D)                                                      \n",
            "                                                                 \n",
            "=================================================================\n",
            "Total params: 15,110,223\n",
            "Trainable params: 14,954,719\n",
            "Non-trainable params: 155,504\n",
            "_________________________________________________________________\n"
          ]
        }
      ]
    },
    {
      "cell_type": "code",
      "source": [
        "# model2 = object_detector.create(\n",
        "#     train_data=train_data,\n",
        "#     model_spec=spec,\n",
        "#     epochs=50,\n",
        "#     batch_size=16,\n",
        "#     train_whole_model=False,\n",
        "#     validation_data=val_data,\n",
        "#     do_train=False)"
      ],
      "metadata": {
        "id": "XQu0fJ40KsEo"
      },
      "execution_count": null,
      "outputs": []
    },
    {
      "cell_type": "code",
      "source": [
        "# history = model2.train(\n",
        "#     train_data=train_data,\n",
        "#     validation_data=val_data,\n",
        "#     epochs=50,\n",
        "#     batch_size=16\n",
        "# )"
      ],
      "metadata": {
        "id": "Xc_H7_r4K19K"
      },
      "execution_count": null,
      "outputs": []
    },
    {
      "cell_type": "code",
      "source": [
        "# history"
      ],
      "metadata": {
        "id": "y7GiP4S2LZPw"
      },
      "execution_count": null,
      "outputs": []
    },
    {
      "cell_type": "markdown",
      "source": [
        "### Evaluate the Model"
      ],
      "metadata": {
        "id": "bz3Lrf-m6xDT"
      }
    },
    {
      "cell_type": "code",
      "source": [
        "model.evaluate(test_data)"
      ],
      "metadata": {
        "id": "XiMvnBw36z-9",
        "colab": {
          "base_uri": "https://localhost:8080/"
        },
        "outputId": "1c2b07dc-8551-409f-91f4-0e77962361af"
      },
      "execution_count": null,
      "outputs": [
        {
          "output_type": "stream",
          "name": "stdout",
          "text": [
            "\r1/1 [==============================] - 8s 8s/step\n",
            "\n"
          ]
        },
        {
          "output_type": "execute_result",
          "data": {
            "text/plain": [
              "{'AP': 0.46061566,\n",
              " 'AP50': 0.60375935,\n",
              " 'AP75': 0.5804608,\n",
              " 'APs': -1.0,\n",
              " 'APm': 0.6953366,\n",
              " 'APl': 0.35506403,\n",
              " 'ARmax1': 0.3820513,\n",
              " 'ARmax10': 0.82564104,\n",
              " 'ARmax100': 0.82564104,\n",
              " 'ARs': -1.0,\n",
              " 'ARm': 0.8428571,\n",
              " 'ARl': 0.8311966,\n",
              " 'AP_/yellow_ducky': 0.5222304,\n",
              " 'AP_/green_ducky': 0.34630924,\n",
              " 'AP_/big_green_ducky': 0.51330733}"
            ]
          },
          "metadata": {},
          "execution_count": 42
        }
      ]
    },
    {
      "cell_type": "markdown",
      "source": [
        "### Export Model"
      ],
      "metadata": {
        "id": "1i-eb4y25Izi"
      }
    },
    {
      "cell_type": "code",
      "source": [
        "!mkdir /content/model\n",
        "%cd /content/model"
      ],
      "metadata": {
        "id": "yJCEmORA5Myw",
        "colab": {
          "base_uri": "https://localhost:8080/"
        },
        "outputId": "417ec563-ccb9-44b2-ad15-37a9ef7452bb"
      },
      "execution_count": null,
      "outputs": [
        {
          "output_type": "stream",
          "name": "stdout",
          "text": [
            "mkdir: cannot create directory ‘/content/model’: File exists\n",
            "/content/model\n"
          ]
        }
      ]
    },
    {
      "cell_type": "code",
      "source": [
        "model.export(export_dir='.', tflite_filename='threeducky.tflite')"
      ],
      "metadata": {
        "id": "cuzfD7Qy5Kz0"
      },
      "execution_count": null,
      "outputs": []
    },
    {
      "cell_type": "markdown",
      "source": [
        "## Detection Test"
      ],
      "metadata": {
        "id": "xVBkO3XJ_xZ2"
      }
    },
    {
      "cell_type": "code",
      "source": [
        "model.evaluate_tflite('threeducky.tflite', test_data)"
      ],
      "metadata": {
        "colab": {
          "base_uri": "https://localhost:8080/"
        },
        "id": "mAseE7gu_0vf",
        "outputId": "382b0a92-5a96-45e9-8ed9-efac120c609c"
      },
      "execution_count": null,
      "outputs": [
        {
          "output_type": "stream",
          "name": "stdout",
          "text": [
            "13/13 [==============================] - 638s 49s/step\n",
            "\n"
          ]
        },
        {
          "output_type": "execute_result",
          "data": {
            "text/plain": [
              "{'AP': 0.22603618,\n",
              " 'AP50': 0.32008597,\n",
              " 'AP75': 0.27911085,\n",
              " 'APs': -1.0,\n",
              " 'APm': 0.44639713,\n",
              " 'APl': 0.1315819,\n",
              " 'ARmax1': 0.23846154,\n",
              " 'ARmax10': 0.41794872,\n",
              " 'ARmax100': 0.42307693,\n",
              " 'ARs': -1.0,\n",
              " 'ARm': 0.5642857,\n",
              " 'ARl': 0.3940171,\n",
              " 'AP_/yellow_ducky': 0.42768976,\n",
              " 'AP_/green_ducky': 0.10729385,\n",
              " 'AP_/big_green_ducky': 0.1431249}"
            ]
          },
          "metadata": {},
          "execution_count": 45
        }
      ]
    },
    {
      "cell_type": "code",
      "source": [
        "import cv2\n",
        "\n",
        "from PIL import Image\n",
        "\n",
        "model_path = 'threeducky.tflite'\n",
        "\n",
        "# Load the labels into a list\n",
        "classes = ['???'] * model.model_spec.config.num_classes\n",
        "label_map = model.model_spec.config.label_map\n",
        "for label_id, label_name in label_map.as_dict().items():\n",
        "  classes[label_id-1] = label_name\n",
        "\n",
        "# Define a list of colors for visualization\n",
        "COLORS = np.random.randint(0, 255, size=(len(classes), 3), dtype=np.uint8)\n",
        "\n",
        "def preprocess_image(image_path, input_size):\n",
        "  \"\"\"Preprocess the input image to feed to the TFLite model\"\"\"\n",
        "  img = tf.io.read_file(image_path)\n",
        "  img = tf.io.decode_image(img, channels=3)\n",
        "  img = tf.image.convert_image_dtype(img, tf.uint8)\n",
        "  original_image = img\n",
        "  resized_img = tf.image.resize(img, input_size)\n",
        "  resized_img = resized_img[tf.newaxis, :]\n",
        "  resized_img = tf.cast(resized_img, dtype=tf.uint8)\n",
        "  return resized_img, original_image\n",
        "\n",
        "\n",
        "def detect_objects(interpreter, image, threshold):\n",
        "  \"\"\"Returns a list of detection results, each a dictionary of object info.\"\"\"\n",
        "\n",
        "  signature_fn = interpreter.get_signature_runner()\n",
        "\n",
        "  # Feed the input image to the model\n",
        "  output = signature_fn(images=image)\n",
        "\n",
        "  # Get all outputs from the model\n",
        "  count = int(np.squeeze(output['output_0']))\n",
        "  scores = np.squeeze(output['output_1'])\n",
        "  classes = np.squeeze(output['output_2'])\n",
        "  boxes = np.squeeze(output['output_3'])\n",
        "\n",
        "  results = []\n",
        "  for i in range(count):\n",
        "    if scores[i] >= threshold:\n",
        "      result = {\n",
        "        'bounding_box': boxes[i],\n",
        "        'class_id': classes[i],\n",
        "        'score': scores[i]\n",
        "      }\n",
        "      results.append(result)\n",
        "  return results\n",
        "\n",
        "\n",
        "def run_odt_and_draw_results(image_path, interpreter, threshold=0.5):\n",
        "  \"\"\"Run object detection on the input image and draw the detection results\"\"\"\n",
        "  # Load the input shape required by the model\n",
        "  _, input_height, input_width, _ = interpreter.get_input_details()[0]['shape']\n",
        "\n",
        "  # Load the input image and preprocess it\n",
        "  preprocessed_image, original_image = preprocess_image(\n",
        "      image_path,\n",
        "      (input_height, input_width)\n",
        "    )\n",
        "\n",
        "  # Run object detection on the input image\n",
        "  results = detect_objects(interpreter, preprocessed_image, threshold=threshold)\n",
        "\n",
        "  # Plot the detection results on the input image\n",
        "  original_image_np = original_image.numpy().astype(np.uint8)\n",
        "  for obj in results:\n",
        "    # Convert the object bounding box from relative coordinates to absolute\n",
        "    # coordinates based on the original image resolution\n",
        "    ymin, xmin, ymax, xmax = obj['bounding_box']\n",
        "    xmin = int(xmin * original_image_np.shape[1])\n",
        "    xmax = int(xmax * original_image_np.shape[1])\n",
        "    ymin = int(ymin * original_image_np.shape[0])\n",
        "    ymax = int(ymax * original_image_np.shape[0])\n",
        "\n",
        "    # Find the class index of the current object\n",
        "    class_id = int(obj['class_id'])\n",
        "\n",
        "    # Draw the bounding box and label on the image\n",
        "    color = [int(c) for c in COLORS[class_id]]\n",
        "    cv2.rectangle(original_image_np, (xmin, ymin), (xmax, ymax), color, 2)\n",
        "    # Make adjustments to make the label visible for all objects\n",
        "    y = ymin - 15 if ymin - 15 > 15 else ymin + 15\n",
        "    label = \"{}: {:.0f}%\".format(classes[class_id], obj['score'] * 100)\n",
        "    cv2.putText(original_image_np, label, (xmin, y),\n",
        "        cv2.FONT_HERSHEY_SIMPLEX, 0.5, color, 2)\n",
        "\n",
        "  # Return the final image\n",
        "  original_uint8 = original_image_np.astype(np.uint8)\n",
        "  return original_uint8"
      ],
      "metadata": {
        "id": "KWPZvs3C__ZF"
      },
      "execution_count": null,
      "outputs": []
    },
    {
      "cell_type": "code",
      "source": [
        "DETECTION_THRESHOLD = 0.4\n",
        "\n",
        "TEST_FILE = '/content/gdrive/MyDrive/Capstone/C501/ModelPreparation/Dataset/Test_Dataset/Three_Ducky/Test_2.jpg'\n",
        "\n",
        "im = Image.open(TEST_FILE)\n",
        "im.thumbnail((512, 512), Image.ANTIALIAS)\n",
        "im.save(TEST_FILE, 'JPEG')\n",
        "\n",
        "# Load the TFLite model\n",
        "interpreter = tf.lite.Interpreter(model_path=model_path)\n",
        "interpreter.allocate_tensors()\n",
        "\n",
        "# Run inference and draw detection result on the local copy of the original file\n",
        "detection_result_image = run_odt_and_draw_results(\n",
        "    TEST_FILE,\n",
        "    interpreter,\n",
        "    threshold=DETECTION_THRESHOLD\n",
        ")\n",
        "\n",
        "# Show the detection result\n",
        "Image.fromarray(detection_result_image)"
      ],
      "metadata": {
        "colab": {
          "base_uri": "https://localhost:8080/",
          "height": 305
        },
        "id": "cqgsvL4OAJAz",
        "outputId": "db6b980c-c3b2-46b4-f37d-c29a9ab7a986"
      },
      "execution_count": null,
      "outputs": [
        {
          "output_type": "execute_result",
          "data": {
            "text/plain": [
              "<PIL.Image.Image image mode=RGB size=512x288 at 0x7FC587659D00>"
            ],
            "image/png": "[encoded data removed]"
          },
          "metadata": {},
          "execution_count": 49
        }
      ]
    }
  ]
}