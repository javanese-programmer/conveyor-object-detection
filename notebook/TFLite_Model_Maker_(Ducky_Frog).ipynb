{
  "nbformat": 4,
  "nbformat_minor": 0,
  "metadata": {
    "colab": {
      "provenance": []
    },
    "kernelspec": {
      "name": "python3",
      "display_name": "Python 3"
    },
    "language_info": {
      "name": "python"
    },
    "accelerator": "GPU",
    "gpuClass": "standard"
  },
  "cells": [
    {
      "cell_type": "markdown",
      "source": [
        "## Prequisutites"
      ],
      "metadata": {
        "id": "C8YY6O9dYaPe"
      }
    },
    {
      "cell_type": "markdown",
      "source": [
        "### Install Required Libraries"
      ],
      "metadata": {
        "id": "09PGoh9JulnK"
      }
    },
    {
      "cell_type": "code",
      "source": [
        "!pip install -q --use-deprecated=legacy-resolver tflite-model-maker"
      ],
      "metadata": {
        "colab": {
          "base_uri": "https://localhost:8080/"
        },
        "id": "S_1mdxRetrMD",
        "outputId": "1ea62e3e-136a-4c75-bc43-3ece0572b4f3"
      },
      "execution_count": null,
      "outputs": [
        {
          "output_type": "stream",
          "name": "stdout",
          "text": [
            "\u001b[2K     \u001b[90m━━━━━━━━━━━━━━━━━━━━━━━━━━━━━━━━━━━━━━\u001b[0m \u001b[32m577.3/577.3 KB\u001b[0m \u001b[31m38.7 MB/s\u001b[0m eta \u001b[36m0:00:00\u001b[0m\n",
            "\u001b[2K     \u001b[90m━━━━━━━━━━━━━━━━━━━━━━━━━━━━━━━━━━━━━━━━\u001b[0m \u001b[32m10.9/10.9 MB\u001b[0m \u001b[31m90.5 MB/s\u001b[0m eta \u001b[36m0:00:00\u001b[0m\n",
            "\u001b[2K     \u001b[90m━━━━━━━━━━━━━━━━━━━━━━━━━━━━━━━━━━━━━━━━\u001b[0m \u001b[32m60.8/60.8 MB\u001b[0m \u001b[31m13.4 MB/s\u001b[0m eta \u001b[36m0:00:00\u001b[0m\n",
            "\u001b[2K     \u001b[90m━━━━━━━━━━━━━━━━━━━━━━━━━━━━━━━━━━━━━━\u001b[0m \u001b[32m238.9/238.9 KB\u001b[0m \u001b[31m31.3 MB/s\u001b[0m eta \u001b[36m0:00:00\u001b[0m\n",
            "\u001b[2K     \u001b[90m━━━━━━━━━━━━━━━━━━━━━━━━━━━━━━━━━━━━━━━━\u001b[0m \u001b[32m88.3/88.3 KB\u001b[0m \u001b[31m12.1 MB/s\u001b[0m eta \u001b[36m0:00:00\u001b[0m\n",
            "\u001b[?25h  Preparing metadata (setup.py) ... \u001b[?25l\u001b[?25hdone\n",
            "\u001b[2K     \u001b[90m━━━━━━━━━━━━━━━━━━━━━━━━━━━━━━━━━━━━━━━━\u001b[0m \u001b[32m1.3/1.3 MB\u001b[0m \u001b[31m54.3 MB/s\u001b[0m eta \u001b[36m0:00:00\u001b[0m\n",
            "\u001b[2K     \u001b[90m━━━━━━━━━━━━━━━━━━━━━━━━━━━━━━━━━━━━━━\u001b[0m \u001b[32m840.9/840.9 KB\u001b[0m \u001b[31m43.1 MB/s\u001b[0m eta \u001b[36m0:00:00\u001b[0m\n",
            "\u001b[2K     \u001b[90m━━━━━━━━━━━━━━━━━━━━━━━━━━━━━━━━━━━━━━━━\u001b[0m \u001b[32m1.1/1.1 MB\u001b[0m \u001b[31m59.7 MB/s\u001b[0m eta \u001b[36m0:00:00\u001b[0m\n",
            "\u001b[2K     \u001b[90m━━━━━━━━━━━━━━━━━━━━━━━━━━━━━━━━━━━━━━━━\u001b[0m \u001b[32m77.5/77.5 KB\u001b[0m \u001b[31m9.2 MB/s\u001b[0m eta \u001b[36m0:00:00\u001b[0m\n",
            "\u001b[2K     \u001b[90m━━━━━━━━━━━━━━━━━━━━━━━━━━━━━━━━━━━━━━\u001b[0m \u001b[32m128.6/128.6 KB\u001b[0m \u001b[31m14.7 MB/s\u001b[0m eta \u001b[36m0:00:00\u001b[0m\n",
            "\u001b[2K     \u001b[90m━━━━━━━━━━━━━━━━━━━━━━━━━━━━━━━━━━━━━━━━\u001b[0m \u001b[32m3.4/3.4 MB\u001b[0m \u001b[31m53.1 MB/s\u001b[0m eta \u001b[36m0:00:00\u001b[0m\n",
            "\u001b[2K     \u001b[90m━━━━━━━━━━━━━━━━━━━━━━━━━━━━━━━━━━━━━━\u001b[0m \u001b[32m222.4/222.4 KB\u001b[0m \u001b[31m25.0 MB/s\u001b[0m eta \u001b[36m0:00:00\u001b[0m\n",
            "\u001b[2K     \u001b[90m━━━━━━━━━━━━━━━━━━━━━━━━━━━━━━━━━━━━━━\u001b[0m \u001b[32m352.1/352.1 KB\u001b[0m \u001b[31m32.4 MB/s\u001b[0m eta \u001b[36m0:00:00\u001b[0m\n",
            "\u001b[2K     \u001b[90m━━━━━━━━━━━━━━━━━━━━━━━━━━━━━━━━━━━━━━━━\u001b[0m \u001b[32m25.3/25.3 MB\u001b[0m \u001b[31m51.5 MB/s\u001b[0m eta \u001b[36m0:00:00\u001b[0m\n",
            "\u001b[?25h  Building wheel for fire (setup.py) ... \u001b[?25l\u001b[?25hdone\n",
            "\u001b[31mERROR: pip's legacy dependency resolver does not consider dependency conflicts when selecting packages. This behaviour is the source of the following dependency conflicts.\n",
            "tensorflow 2.9.2 requires flatbuffers<2,>=1.12, but you'll have flatbuffers 23.1.21 which is incompatible.\n",
            "scann 1.2.6 requires tensorflow~=2.8.0, but you'll have tensorflow 2.9.2 which is incompatible.\n",
            "tensorflowjs 3.18.0 requires packaging~=20.9, but you'll have packaging 21.3 which is incompatible.\u001b[0m\u001b[31m\n",
            "\u001b[0m"
          ]
        }
      ]
    },
    {
      "cell_type": "code",
      "source": [
        "!pip install -q pycocotools"
      ],
      "metadata": {
        "id": "K_QP2muIttZo"
      },
      "execution_count": null,
      "outputs": []
    },
    {
      "cell_type": "code",
      "source": [
        "!pip install -q opencv-python-headless==4.1.2.30"
      ],
      "metadata": {
        "id": "gNEijyvauWXU",
        "colab": {
          "base_uri": "https://localhost:8080/"
        },
        "outputId": "3068c6fc-5123-4bd3-8eed-569bb23b163e"
      },
      "execution_count": null,
      "outputs": [
        {
          "output_type": "stream",
          "name": "stdout",
          "text": [
            "\u001b[2K     \u001b[90m━━━━━━━━━━━━━━━━━━━━━━━━━━━━━━━━━━━━━━━━\u001b[0m \u001b[32m21.8/21.8 MB\u001b[0m \u001b[31m35.6 MB/s\u001b[0m eta \u001b[36m0:00:00\u001b[0m\n",
            "\u001b[?25h"
          ]
        }
      ]
    },
    {
      "cell_type": "code",
      "source": [
        "!pip uninstall -y tensorflow && pip install -q tensorflow==2.8.0"
      ],
      "metadata": {
        "colab": {
          "base_uri": "https://localhost:8080/"
        },
        "id": "tQ-83p_UucCF",
        "outputId": "9ae322a3-7a3e-4ee0-958f-4e71ecf88a06"
      },
      "execution_count": null,
      "outputs": [
        {
          "output_type": "stream",
          "name": "stdout",
          "text": [
            "Found existing installation: tensorflow 2.9.2\n",
            "Uninstalling tensorflow-2.9.2:\n",
            "  Successfully uninstalled tensorflow-2.9.2\n",
            "\u001b[2K     \u001b[90m━━━━━━━━━━━━━━━━━━━━━━━━━━━━━━━━━━━━━━━\u001b[0m \u001b[32m497.6/497.6 MB\u001b[0m \u001b[31m3.4 MB/s\u001b[0m eta \u001b[36m0:00:00\u001b[0m\n",
            "\u001b[2K     \u001b[90m━━━━━━━━━━━━━━━━━━━━━━━━━━━━━━━━━━━━━━━━\u001b[0m \u001b[32m5.8/5.8 MB\u001b[0m \u001b[31m120.0 MB/s\u001b[0m eta \u001b[36m0:00:00\u001b[0m\n",
            "\u001b[2K     \u001b[90m━━━━━━━━━━━━━━━━━━━━━━━━━━━━━━━━━━━━━━\u001b[0m \u001b[32m462.5/462.5 KB\u001b[0m \u001b[31m49.5 MB/s\u001b[0m eta \u001b[36m0:00:00\u001b[0m\n",
            "\u001b[2K     \u001b[90m━━━━━━━━━━━━━━━━━━━━━━━━━━━━━━━━━━━━━━━━\u001b[0m \u001b[32m1.4/1.4 MB\u001b[0m \u001b[31m82.2 MB/s\u001b[0m eta \u001b[36m0:00:00\u001b[0m\n",
            "\u001b[?25h\u001b[31mERROR: pip's dependency resolver does not currently take into account all the packages that are installed. This behaviour is the source of the following dependency conflicts.\n",
            "tensorflowjs 3.18.0 requires packaging~=20.9, but you have packaging 21.3 which is incompatible.\u001b[0m\u001b[31m\n",
            "\u001b[0m"
          ]
        }
      ]
    },
    {
      "cell_type": "code",
      "source": [
        "!pip install split-folders"
      ],
      "metadata": {
        "id": "aC5PuSHGuQ__",
        "colab": {
          "base_uri": "https://localhost:8080/"
        },
        "outputId": "f2a6cb98-f2b7-4dab-8787-7dd4e5b7d304"
      },
      "execution_count": null,
      "outputs": [
        {
          "output_type": "stream",
          "name": "stdout",
          "text": [
            "Looking in indexes: https://pypi.org/simple, https://us-python.pkg.dev/colab-wheels/public/simple/\n",
            "Collecting split-folders\n",
            "  Downloading split_folders-0.5.1-py3-none-any.whl (8.4 kB)\n",
            "Installing collected packages: split-folders\n",
            "Successfully installed split-folders-0.5.1\n"
          ]
        }
      ]
    },
    {
      "cell_type": "markdown",
      "source": [
        "### Import Packages"
      ],
      "metadata": {
        "id": "LoA_4-lFuf-1"
      }
    },
    {
      "cell_type": "code",
      "source": [
        "import numpy as np\n",
        "import os\n",
        "import lxml\n",
        "from lxml import etree\n",
        "from lxml.html.clean import Cleaner\n",
        "import splitfolders\n",
        "import shutil\n",
        "\n",
        "import cv2\n",
        "from PIL import Image\n",
        "import matplotlib.pyplot as plt\n",
        "\n",
        "from tflite_model_maker.config import QuantizationConfig\n",
        "from tflite_model_maker.config import ExportFormat\n",
        "from tflite_model_maker import model_spec\n",
        "from tflite_model_maker import object_detector\n",
        "\n",
        "import tensorflow as tf\n",
        "assert tf.__version__.startswith('2')\n",
        "\n",
        "tf.get_logger().setLevel('ERROR')\n",
        "from absl import logging\n",
        "logging.set_verbosity(logging.ERROR)\n",
        "\n",
        "from google.colab import drive"
      ],
      "metadata": {
        "id": "tetNLlGPurHR"
      },
      "execution_count": null,
      "outputs": []
    },
    {
      "cell_type": "markdown",
      "source": [
        "## Prepare Model"
      ],
      "metadata": {
        "id": "lM7gJNx-xW46"
      }
    },
    {
      "cell_type": "markdown",
      "source": [
        "### Prepare Directories"
      ],
      "metadata": {
        "id": "AhMMZ7t5yzNG"
      }
    },
    {
      "cell_type": "code",
      "source": [
        "drive.mount('/content/gdrive/', force_remount=True)"
      ],
      "metadata": {
        "id": "6GHk9dpho1Vc",
        "colab": {
          "base_uri": "https://localhost:8080/"
        },
        "outputId": "8de5b77b-2f5a-49e7-8785-3e3d18231af1"
      },
      "execution_count": null,
      "outputs": [
        {
          "output_type": "stream",
          "name": "stdout",
          "text": [
            "Mounted at /content/gdrive/\n"
          ]
        }
      ]
    },
    {
      "cell_type": "markdown",
      "source": [
        "**Train and Validation Data Dir**"
      ],
      "metadata": {
        "id": "nghQE06dktGV"
      }
    },
    {
      "cell_type": "code",
      "source": [
        "!mkdir /content/Train_Val\n",
        "%cd /content/Train_Val\n",
        "!unzip \"/content/gdrive/MyDrive/Capstone/C501/ModelPreparation/Dataset/Augmented/Pascal VOC/Dataset3.zip\""
      ],
      "metadata": {
        "colab": {
          "base_uri": "https://localhost:8080/"
        },
        "id": "KefWc7nZyx45",
        "outputId": "6c6bade4-f7fb-49cf-e4b3-9a59bd104057"
      },
      "execution_count": null,
      "outputs": [
        {
          "output_type": "stream",
          "name": "stdout",
          "text": [
            "/content/Train_Val\n",
            "Archive:  /content/gdrive/MyDrive/Capstone/C501/ModelPreparation/Dataset/Augmented/Pascal VOC/Dataset3.zip\n",
            "   creating: Annotations/\n",
            "   creating: images/\n",
            "  inflating: Annotations/01f1d655-ucexportviewid1GQXQ-Tw557nYaaGK1F0VQl_Yo2frR4kL.xml  \n",
            "  inflating: Annotations/033b3ab4-ucexportviewid1kh2_jpzqUMv9aCrWU6V3z4t2v1FmcydD.xml  \n",
            "  inflating: Annotations/03ffbd9d-ucexportviewid1u4PBrwlhZA3w2I9qsWs6c5hReU-RTiC0.xml  \n",
            "  inflating: Annotations/0418bf14-ucexportviewid1Ophg7otikNiTUtDhfnwGySg9Xe8l6WoM.xml  \n",
            "  inflating: Annotations/066e70cd-ucexportviewid1NtCU9Fsi_0-oqgui3s2uQXHGryIFcGip.xml  \n",
            "  inflating: Annotations/08d75196-ucexportviewid17NMSNoMqJVcKmEoCSn9eHnlBkuXMhwXa.xml  \n",
            "  inflating: Annotations/093115e3-ucexportviewid1LU1wtGJ_KcsYF9GQtKzwqjjvCl4JL49r.xml  \n",
            "  inflating: Annotations/0959b674-ucexportviewid1zTzHGm1k-wxLMup5mCtNjy-iRfjjSDV-.xml  \n",
            "  inflating: Annotations/0a317954-ucexportviewid1hHmcbsu4qaAFXhhNFYtFgvMBTQiZe6m5.xml  \n",
            "  inflating: Annotations/0bdd9ce0-ucexportviewid1A2Y68gQ8zplyaccAtgCHbTqE9esONW7r.xml  \n",
            "  inflating: Annotations/0c5205fe-ucexportviewid153D7CEIlRQAChdHTwGJtW-vFPIabtdwc.xml  \n",
            "  inflating: Annotations/0dec77b3-ucexportviewid1cHQyGhplzf7eyMGLca6eMYtDWtMMpd4o.xml  \n",
            "  inflating: Annotations/0e9388d3-ucexportviewid1vnR2GDXLbfFOEyVWOXOWTvJCKVuGGahP.xml  \n",
            "  inflating: Annotations/0ff205a7-ucexportviewid14YEkqkSY-5cshg27GW4fcMeGk3y3_KMM.xml  \n",
            "  inflating: Annotations/106635eb-ucexportviewid12M9Z7jq841HX-fcCZY93wtQsXkEMi4At.xml  \n",
            "  inflating: Annotations/106f121c-ucexportviewid1DVEDSv7y6qu-meAOEwJ6IBJKhQgOQnvG.xml  \n",
            "  inflating: Annotations/136dea5a-ucexportviewid1r6adNNfJLMWNN4ZReBREa48soODEs2Aj.xml  \n",
            "  inflating: Annotations/172d4632-ucexportviewid1nx45z_7qYNInsty1v9SMHN2_G3ETrwwB.xml  \n",
            "  inflating: Annotations/1747c55b-ucexportviewid1inOkVp4_XJFRbofHbrwsSLi0OHTQJN8L.xml  \n",
            "  inflating: Annotations/181ea1e3-ucexportviewid1OYfXPrzqzd0eiNP1xDrd_5plDFu7WdYS.xml  \n",
            "  inflating: Annotations/19da6c34-ucexportviewid19BLeVsLS5MECqvnnxbyaJvVlD6j8sLCS.xml  \n",
            "  inflating: Annotations/1a9b8f47-ucexportviewid1ikYG-h4dj3enGszjJQzs2zjicmGK035G.xml  \n",
            "  inflating: Annotations/1be94667-ucexportviewid1jwf3Q96gsJ-IYoTQD6CJEXwzgGHo58NP.xml  \n",
            "  inflating: Annotations/1fcd92a9-ucexportviewid1zbYRuCauPm0CvGnp_7JX9AHS2ITT_b6o.xml  \n",
            "  inflating: Annotations/20c34354-ucexportviewid1M2UCJAmBp9Os61T15wgaj2ENl49has0P.xml  \n",
            "  inflating: Annotations/223bfc87-ucexportviewid1lFxl9R__BPUf_TNip9Xn0Wd8WVENihTJ.xml  \n",
            "  inflating: Annotations/24d1b21f-ucexportviewid17RA3vqfrcn56LcHFy9CGVFmsap0xVJmN.xml  \n",
            "  inflating: Annotations/2633f4b0-ucexportviewid1SYCVp8r5s1GmGn8NwZYk8szgZbMCBf6Y.xml  \n",
            "  inflating: Annotations/270a03ad-ucexportviewid1tO6gd-jV7ShBlO4WLvIFKmIOo6r43mbT.xml  \n",
            "  inflating: Annotations/28d1b3d1-ucexportviewid1LgtkLFCc-_uhITk6TbJXn_xbtN6FQ8BG.xml  \n",
            "  inflating: Annotations/2b0bdade-ucexportviewid1pFu5YXKgyfCdmV_fPCxAiZdO1CwKJb3X.xml  \n",
            "  inflating: Annotations/2d4f02b1-ucexportviewid1R7U2C0IKsFQdBXKESgX8vIqmIqhU2_Ka.xml  \n",
            "  inflating: Annotations/322cf670-ucexportviewid16toFXVrb3dR-g9z55co6oT7mEr1k8ALs.xml  \n",
            "  inflating: Annotations/37eccd25-ucexportviewid1rX0cGCMwOE0uuk2I_IW_xIc1bH3Nieyp.xml  \n",
            "  inflating: Annotations/389587cf-ucexportviewid18JhdCP4mUHVSoH-4cfQPttSwoFJ43Cy3.xml  \n",
            "  inflating: Annotations/3967d363-ucexportviewid15VRXKuuUOrQfQFygbGxKrJRf1pg6HMnM.xml  \n",
            "  inflating: Annotations/3a01bc67-ucexportviewid1s6K3ST32eJodSnb1YRPVaTsIR5sfilGi.xml  \n",
            "  inflating: Annotations/3c557f59-ucexportviewid17s4n4uB77o_MIugehcTXlV7FwD15yBfA.xml  \n",
            "  inflating: Annotations/3d56deef-ucexportviewid1P95nUbQBtw22eKhhnpmIX9AL0qLvrlWJ.xml  \n",
            "  inflating: Annotations/3d618e96-ucexportviewid1FnQAk8Dd-nEzEG7tDjJSPhxFAb02qSZS.xml  \n",
            "  inflating: Annotations/3e0725d8-ucexportviewid1egPOdi5qxqrl1ch9_asSqNUu8OzvWQQ8.xml  \n",
            "  inflating: Annotations/3f7fe590-ucexportviewid1ZaMyrsU2jmFkSYDDGuvNiXX4ve-0_08M.xml  \n",
            "  inflating: Annotations/402dc26f-ucexportviewid1Ff1BGQBmFJRw-PubtTOPZP7L2FCHUgc1.xml  \n",
            "  inflating: Annotations/4069d4e6-ucexportviewid1K1CziV2q-CAMwfgovfcdimV6aGwTnNBj.xml  \n",
            "  inflating: Annotations/40bf3d86-ucexportviewid1FjI70A7Agf-620S6HJrSh1Bun5HSYNBl.xml  \n",
            "  inflating: Annotations/4157c643-ucexportviewid1enbr68PWUDUIQqQtSWhYT-r0Rwpzj6TH.xml  \n",
            "  inflating: Annotations/4626a87e-ucexportviewid16Zp6v_i9DuEf51X_vo_Q7x81aKCGfyoi.xml  \n",
            "  inflating: Annotations/471f7b3e-ucexportviewid13R_A0MraJ3vrPq4GR0_pg5ky_Db8CFfQ.xml  \n",
            "  inflating: Annotations/477f65e6-ucexportviewid15NTKVwp5qTWrO6ELGAWf33lgvOwxI2M9.xml  \n",
            "  inflating: Annotations/4839ceea-ucexportviewid1J8_tx6Bzdv4AE-RZ6Oyh3MTRTCydH88z.xml  \n",
            "  inflating: Annotations/489a656c-ucexportviewid1S9x2TwrPlBy2iKnQIP_gAItYRUgnr2O4.xml  \n",
            "  inflating: Annotations/491fac44-ucexportviewid1zg8ichd8INNAIn-E0bHK6vg9zXdqHPQH.xml  \n",
            "  inflating: Annotations/49fff592-ucexportviewid1LtTBbyUJbj6GaXz6SwlDw3urWaeuv2y7.xml  \n",
            "  inflating: Annotations/4a5671c2-ucexportviewid1Kj3rtnyBaP2MUVikEIQDQG2cpyMWnkwQ.xml  \n",
            "  inflating: Annotations/4c2742e8-ucexportviewid1JnyZ6xHdj7m1yNnX95kdym2yRnl8UDwq.xml  \n",
            "  inflating: Annotations/4f67411a-ucexportviewid1xkV7D4d_4qOgdRzzwdCGkybp8yFZr8qD.xml  \n",
            "  inflating: Annotations/50fe7aec-ucexportviewid1-trb9rlnWrfMHzy15VDVVCqzeKjwqRsV.xml  \n",
            "  inflating: Annotations/517c3f43-ucexportviewid1aVZVhkxtmHY_feuDT5G7OQny6Ptiaj3X.xml  \n",
            "  inflating: Annotations/51964a9b-ucexportviewid1HxexjG36Ljq_lW0RVLTXAPuujQC2Kt0n.xml  \n",
            "  inflating: Annotations/536de213-ucexportviewid1zLJymEn6HfERAIll-yTTN7uwdi3bxcpW.xml  \n",
            "  inflating: Annotations/53cd959b-ucexportviewid1sryueVef716Y-H_308atU9rhY719izqo.xml  \n",
            "  inflating: Annotations/55a7946f-ucexportviewid1qPg2Pdz6voI7uDI9xiKuCMCyjb5hNtfw.xml  \n",
            "  inflating: Annotations/57dba6ba-ucexportviewid1l3vU0htD6CNLNLfdReu6w9OIQcM7dYNP.xml  \n",
            "  inflating: Annotations/58ae5996-ucexportviewid1R5Cafg_nT1q9Lwehy3oBIJixSDLUlwe1.xml  \n",
            "  inflating: Annotations/59a50639-ucexportviewid1mA82-rLhKch9u6Ldlh5sQbCyGgyE-K1F.xml  \n",
            "  inflating: Annotations/5be6aaed-ucexportviewid1czQ262tCjxZpdFWMVKh_jp32kJCQvsgL.xml  \n",
            "  inflating: Annotations/5d576d77-ucexportviewid1PvRune_YRKMjI97ysUh48aGx1dKEbWgg.xml  \n",
            "  inflating: Annotations/5db34178-ucexportviewid1DGXOZy7Mibn_VZ55Zrl5dLYwY1LlXABB.xml  \n",
            "  inflating: Annotations/5db3f233-ucexportviewid1gtPU9xsVCkB-b3XdnuFt3TNdDVWnOILB.xml  \n",
            "  inflating: Annotations/5e6f80e1-ucexportviewid1FZeyrOmzS8Bl6gdmQ6_WFgYrY1SXsJhD.xml  \n",
            "  inflating: Annotations/60620588-ucexportviewid1_vvKfal0NQLMC8oc-XCdUW5k7ILX9FUG.xml  \n",
            "  inflating: Annotations/60f738b7-ucexportviewid11pFb1gdtxNqdb68BhUNuUpJTvfXGj4wp.xml  \n",
            "  inflating: Annotations/6270b58e-ucexportviewid1lPFOUvbYkx2vMK-8RkpPbIzoVntrJn9P.xml  \n",
            "  inflating: Annotations/63655bfb-ucexportviewid13NSxdlGOkseIPhrW2yiZ-Iw16iZ-wYI3.xml  \n",
            "  inflating: Annotations/645fbe14-ucexportviewid1tXFE3u4GVl6I9ki119CCG-Wa8D619Cxu.xml  \n",
            "  inflating: Annotations/649e9fa7-ucexportviewid1Mp4alfCY3cxbdQQJH6807gjSPFechMQT.xml  \n",
            "  inflating: Annotations/64a24a2c-ucexportviewid17IN3QDPOSaIiH0E9qf5nABBZXdXyTfsD.xml  \n",
            "  inflating: Annotations/6590d1ef-ucexportviewid1_FYb034Xm9L6WApJfJ4WmBbO_hG4obe_.xml  \n",
            "  inflating: Annotations/69ad0616-ucexportviewid1IBGyoPh2Ial5oLV50odACPXov-JsNjtF.xml  \n",
            "  inflating: Annotations/6b13f7f0-ucexportviewid1QZAADem-rbb62gZtUfQeWKb9l10CYaB_.xml  \n",
            "  inflating: Annotations/6b9a0786-ucexportviewid1TiFh6iAoJXPKgJv677S873jqHSYy1UUZ.xml  \n",
            "  inflating: Annotations/6d010f23-ucexportviewid1_FX1Q63wwT7i9oEHR6gzHW3EvE7BL_HM.xml  \n",
            "  inflating: Annotations/6e288692-ucexportviewid1LbVHbv5abkJrMt4a1BSXedHPPO6nLTH_.xml  \n",
            "  inflating: Annotations/72903780-ucexportviewid1-4cXX0xnwpsjDc12yjOkGiwyaxP2GwXX.xml  \n",
            "  inflating: Annotations/74787c17-ucexportviewid1cnv5VGCtJnYEogSVjGnpZPAselkf5GSq.xml  \n",
            "  inflating: Annotations/770afcbb-ucexportviewid1MfiWJv_crI9fosrOtWEvH6cTppzzd8jA.xml  \n",
            "  inflating: Annotations/78341b12-ucexportviewid1PD-rGktXRY4qjCF_1kpa1H8RlU9h1Y7H.xml  \n",
            "  inflating: Annotations/797797a6-ucexportviewid1iYfmksrTbA_gm4yKAluDiOYQ-FLVOqTF.xml  \n",
            "  inflating: Annotations/7cd2b8b4-ucexportviewid1z-NYLAsFZzGXuZB2aO7QKZyrNWmZp6SX.xml  \n",
            "  inflating: Annotations/7d65effa-ucexportviewid1ZlWfLJdbRZESaUkqeOsJoP4hzzVoYBXy.xml  \n",
            "  inflating: Annotations/7da10fe4-ucexportviewid1y7XrgO8jjINPs21E0BZJPorDdN8HNHKK.xml  \n",
            "  inflating: Annotations/7dd3a0d4-ucexportviewid1fo0sbMiU-v5t3Q1_wZw_6oQFs0-bps7y.xml  \n",
            "  inflating: Annotations/80a850f6-ucexportviewid1RHj_Q7rcQFJV9muqLQ69JoGjdvnVNBCs.xml  \n",
            "  inflating: Annotations/84730a20-ucexportviewid1cZYEU05iLqxGMqlp7MeZut9Yqu1rhYlD.xml  \n",
            "  inflating: Annotations/850a7639-ucexportviewid1ckvNpfsY2qFNQBXzHHmEY3WCPjnBEBnf.xml  \n",
            "  inflating: Annotations/865abd2c-ucexportviewid1X684vZibiLRZrat2DvciMeixfdNmyUt5.xml  \n",
            "  inflating: Annotations/88f3abd7-ucexportviewid1fmR-aameW4snzo1meM4Sf5o6wptrI8ne.xml  \n",
            "  inflating: Annotations/8910a937-ucexportviewid13j_5DcR3vRK_HiYJ9RlFmIE2yW-K9jod.xml  \n",
            "  inflating: Annotations/8911bc04-ucexportviewid1lxvXa-1L1h5iU05PD-EemxMOOGJU-FF5.xml  \n",
            "  inflating: Annotations/8980639f-ucexportviewid1GtjVppulkTYfYrPOmsocExMSE2MinXCE.xml  \n",
            "  inflating: Annotations/8d0ee283-ucexportviewid1jLNXfK1UoXpZu-YB19c1nGtP4In_TMxO.xml  \n",
            "  inflating: Annotations/8d6da23c-ucexportviewid1r7qRovxQMFqPVWKFY6Z80_sYqSkkRwkB.xml  \n",
            "  inflating: Annotations/8e71b63d-ucexportviewid1rqyng-g1drwPeh-Grw3MYSD_-EJu7UqO.xml  \n",
            "  inflating: Annotations/8f9ab490-ucexportviewid165JUXD8DJDt9rn6wk4dvo367hHcnkVN2.xml  \n",
            "  inflating: Annotations/913b801b-ucexportviewid1hvINLG8KYm1bXlyDDMwrKqP2mPLk1xHQ.xml  \n",
            "  inflating: Annotations/919988a4-ucexportviewid1ISxOVnUbE0mG7WYqWWd9wezMTqou0Slb.xml  \n",
            "  inflating: Annotations/93570771-ucexportviewid1qguVHBLpOFBplPeAko-Ofe2gPjmG9JM-.xml  \n",
            "  inflating: Annotations/93dba36e-ucexportviewid1uYduuiQjorhLbNgjZY8XAq1mwWBxpfk1.xml  \n",
            "  inflating: Annotations/95ce7f36-ucexportviewid1J1SqFeITNkFxMI8Dr7GGsG-H6yAJAXBM.xml  \n",
            "  inflating: Annotations/965a344e-ucexportviewid1Qt7NjmHZUSke2C6y7SfPlodyM3lNqH5h.xml  \n",
            "  inflating: Annotations/98de6db2-ucexportviewid1yPPA2RejOgqAk70EBjLXZj-iEpaEPdv8.xml  \n",
            "  inflating: Annotations/98f9b1de-ucexportviewid16AkUF7D43Z27W2cZIrMeTpY2aQqwqmNu.xml  \n",
            "  inflating: Annotations/9ce78185-ucexportviewid1SNmj5jr6-GAYJAXPAP9IWW3pHWY8Eg5q.xml  \n",
            "  inflating: Annotations/9d4166f2-ucexportviewid1gm0whiVCeM2Z-u-0D4uShHjgoYuqT00U.xml  \n",
            "  inflating: Annotations/a0d26f2a-ucexportviewid11nMhK-aUO7RMxlqDhWNF5vNA04c63Z5Y.xml  \n",
            "  inflating: Annotations/a119d94b-ucexportviewid1S-4KC4O2uvoUS0m72CU2XEWaGrHc1DiZ.xml  \n",
            "  inflating: Annotations/a1865dda-ucexportviewid1vDeZQRrz2ex4CP9W9tuyVyxTR8GThKA8.xml  \n",
            "  inflating: Annotations/a1952e72-ucexportviewid1pD9ucKzXPeHIO6RnqZZ4GVhEjvA1hOuN.xml  \n",
            "  inflating: Annotations/a401331f-ucexportviewid1mLz0hI1UfBNb2BTjkOtsTUx2nEnyjgvM.xml  \n",
            "  inflating: Annotations/a49a7b66-ucexportviewid1z-LARKmcKXIkO4tUqyFJR5UvHlYFjaZj.xml  \n",
            "  inflating: Annotations/a5f9b525-ucexportviewid1PQrVFjBXZ3vwzV4FfWqoyx2EetWUxjJ-.xml  \n",
            "  inflating: Annotations/af3fed2f-ucexportviewid1qp8DiJQWunyOaRqaZdBarZb8hlxh-aZH.xml  \n",
            "  inflating: Annotations/afb9752c-ucexportviewid1CQe-7vGZ4aYKYhmwGhaN-_GrXJxbxh1f.xml  \n",
            "  inflating: Annotations/b1181b09-ucexportviewid1aLYzXVu_6e4ZRemFfUmUHyTtnSqlV5Ak.xml  \n",
            "  inflating: Annotations/b1cd0d09-ucexportviewid1xO3x5vsMehOrPaQKNrz0noOmsqLaMQ90.xml  \n",
            "  inflating: Annotations/b3260d22-ucexportviewid10D__A9Gxug0nWgcLX10LkeJLbqpdcjfv.xml  \n",
            "  inflating: Annotations/b3fa026a-ucexportviewid1_XogN4S3MhRSkPTfrCW6yyCslpTPvPfo.xml  \n",
            "  inflating: Annotations/b4a45037-ucexportviewid1N9X5ZKvAeoE0YYEQmXcVoUsMG9mSV8pG.xml  \n",
            "  inflating: Annotations/b57cf570-ucexportviewid1ZitHU9RF2ktTiTQv7uA_9JYZOupAv-Yd.xml  \n",
            "  inflating: Annotations/b5bbdcc7-ucexportviewid140mRBdBXCN0px8cc96bLrDkq5eT6Duiw.xml  \n",
            "  inflating: Annotations/b6817902-ucexportviewid1DplAySK-ZU5Y1YB7cPjteMq02o9qiBgy.xml  \n",
            "  inflating: Annotations/b70dcf61-ucexportviewid1SYMDaJJpOl5PEUnhDPhBzTSNm-OOQ2xV.xml  \n",
            "  inflating: Annotations/b81ec419-ucexportviewid1qEPWKgqZfOO8gFOJV1lPf2VPLvmtaBsC.xml  \n",
            "  inflating: Annotations/b849d992-ucexportviewid128CHv_HA99GX3F_igFczjm290cung79v.xml  \n",
            "  inflating: Annotations/b864d451-ucexportviewid1FTM9EXi7BKLIYs3h4AUUNDGS1n9l5DWD.xml  \n",
            "  inflating: Annotations/b9a077c0-ucexportviewid1H7igsAVMwN5ZLbJRmfsJzJWxY6ho3wd0.xml  \n",
            "  inflating: Annotations/ba9d1695-ucexportviewid1zhhQNt2dOUICUCL8_tQGTmr8sRf6cf4j.xml  \n",
            "  inflating: Annotations/baf14a70-ucexportviewid1Ta3sBV7RBzKMoVUvCMxAd9tFSX4Dn0Da.xml  \n",
            "  inflating: Annotations/bb017c77-ucexportviewid1c3ltIq1bdIwvQybIeS5yNvxwaHjwlT96.xml  \n",
            "  inflating: Annotations/bb541ba6-ucexportviewid1eCquwnh9HZl86ytob3G665lni_v8dq9q.xml  \n",
            "  inflating: Annotations/bb64573e-ucexportviewid1RUxYc8mrUm1sX21ix2cSdSUZuJREWCHf.xml  \n",
            "  inflating: Annotations/bbf48e76-ucexportviewid1UnyknKKKnH18djZ_06SdZ2ZhrlycJPlt.xml  \n",
            "  inflating: Annotations/bcdf2060-ucexportviewid1tNI_LSjpOH1GSsg0CnL8rsk6qhCodQ9I.xml  \n",
            "  inflating: Annotations/bdaaa355-ucexportviewid1p6fwfZEC4o-Jx8YhZp7H1C7iTm_NssWz.xml  \n",
            "  inflating: Annotations/bebc5599-ucexportviewid1Lk6WEmnfShBtWX5VzJXJSVCceiuulw6U.xml  \n",
            "  inflating: Annotations/c109ccf8-ucexportviewid121wvnEa8B6JtzXRqv8cn0x4QxAhluniU.xml  \n",
            "  inflating: Annotations/c18dbf80-ucexportviewid1rOnkknOGqmsOg75PJzIpzx65PFQU-f6J.xml  \n",
            "  inflating: Annotations/c5692be6-ucexportviewid1U3NYNIs1IA-GzEYZ1BH8yyzL6AYkGvcs.xml  \n",
            "  inflating: Annotations/c630c47a-ucexportviewid1G7mZ4oFz7QBPNruIZQFyg06ym_HKwYFH.xml  \n",
            "  inflating: Annotations/c9e09dd4-ucexportviewid1knlDS4nAyWNtXZDKXN_n9l6i5ql6M1RU.xml  \n",
            "  inflating: Annotations/cae349d2-ucexportviewid1Ct9vlpgM6TlOtDr-XZGzkH4zTH1JPTSZ.xml  \n",
            "  inflating: Annotations/cdbbf403-ucexportviewid1rLgVsxrTsg_8MZrgHUHB54q5Bn9vVgjT.xml  \n",
            "  inflating: Annotations/ce1f902f-ucexportviewid1ulNE2T0IlVwfAn8rCFvYRNJXJ7-IfDr1.xml  \n",
            "  inflating: Annotations/ce42a9f0-ucexportviewid15iBsxiMTb5aYeSS6P0ghsRLPc4Un2klJ.xml  \n",
            "  inflating: Annotations/d036f504-ucexportviewid1DpyA2D9lvRHPpOJT2PxDW9qRcODn-n9Q.xml  \n",
            "  inflating: Annotations/d06cce45-ucexportviewid11FfmYHo8oS_sHJuugsZzI9CxgUkbnZoU.xml  \n",
            "  inflating: Annotations/d0d5ae7c-ucexportviewid1_jZqzEo2UuaCKVKv3viHxWDIjFhlH2JI.xml  \n",
            "  inflating: Annotations/d145d995-ucexportviewid1Z4aFaD2PmMvQaIVXiYVbb9umN2_-X9tZ.xml  \n",
            "  inflating: Annotations/d2839e76-ucexportviewid17urZqW12H6kT_Vl3puEZVoWZ3NqbZj7T.xml  \n",
            "  inflating: Annotations/d3655143-ucexportviewid1UdxtAfkJzfPztOFiq3DXls5mxCaz3lQQ.xml  \n",
            "  inflating: Annotations/d377983e-ucexportviewid17LTQCWTUq_kJJiorvrFU8PuoEuRfETJX.xml  \n",
            "  inflating: Annotations/d44b0d01-ucexportviewid1n1XiRIhCNQugERoErsQlDmevPUbQCXZ_.xml  \n",
            "  inflating: Annotations/d53f6d89-ucexportviewid1st2AFrqkpUqSFeRksU5kMgqIMmiI9biv.xml  \n",
            "  inflating: Annotations/d78c2100-ucexportviewid1AAQXegsuc1eoPa-ol7DVMv-mrdDuTgRZ.xml  \n",
            "  inflating: Annotations/d80a593f-ucexportviewid1C2uuy0Tmxkg-v-JFhVQ7Y3WDFbG_slLo.xml  \n",
            "  inflating: Annotations/db3af1b9-ucexportviewid1rx1gKFNG-mivNzIdpjZtegVT6EzPAZLh.xml  \n",
            "  inflating: Annotations/dbb8e779-ucexportviewid1MB53F9q3cX-gE0MYdjhau1zlo_tXzY3U.xml  \n",
            "  inflating: Annotations/dbeed907-ucexportviewid1RwXlF6jC6Mf3d2zUx8Tm9mx_rVudgSa1.xml  \n",
            "  inflating: Annotations/dcad75e1-ucexportviewid1An1RYMPBYfz9EpTduRipZMgOUPs-NG7S.xml  \n",
            "  inflating: Annotations/dd639032-ucexportviewid1gYIrF1w5PBbRhlbxzlTeglL3kLfgXoCb.xml  \n",
            "  inflating: Annotations/e15320a8-ucexportviewid11IBfVZ5ekOWIEcKDXxKTLq4yWx7mPQUu.xml  \n",
            "  inflating: Annotations/e154d3d6-ucexportviewid10wxkYvP5a2RUF3gvsTnsLyvd766RkSS2.xml  \n",
            "  inflating: Annotations/e1a998cd-ucexportviewid1hwtbp1ACLYuEttBz2lvj4ETgZn_UJ1B3.xml  \n",
            "  inflating: Annotations/e1c927c9-ucexportviewid1xfO3KQmMLv2k-KiGRt1ngVXVC3Q_c5wb.xml  \n",
            "  inflating: Annotations/e2651ba0-ucexportviewid1LprTzmqp63jihNEpLNZzl33jzHT3L7Nm.xml  \n",
            "  inflating: Annotations/e7ee5935-ucexportviewid1V5I71z24bMYzWPMngYaE3UOjjQDhONh_.xml  \n",
            "  inflating: Annotations/e9fb99f2-ucexportviewid11OC7djNW2ie2lRfkkRgWyVV8NtTpNUIp.xml  \n",
            "  inflating: Annotations/ec31b2f8-ucexportviewid1oLmk8eIpt8bBhW00twLM1AImuSMD4Lgm.xml  \n",
            "  inflating: Annotations/eca1e76b-ucexportviewid1vO3IX8b6DrOcKCl8p7xc6ZIzFUlRql_B.xml  \n",
            "  inflating: Annotations/ed668777-ucexportviewid1hsxDzf_yOJMDj7sglH_DOycSZM1QNOVU.xml  \n",
            "  inflating: Annotations/efc80197-ucexportviewid1Gvxb-HDlCUwFsvXc_ROaKsRoqQBWEzpY.xml  \n",
            "  inflating: Annotations/f0195986-ucexportviewid1xWXtVXX18Z41pBfIOC21ieBM6Jqsw7o-.xml  \n",
            "  inflating: Annotations/f0e899f2-ucexportviewid1OFolHW9CBsWDSB7SBzVGeI5wNyD6AAPp.xml  \n",
            "  inflating: Annotations/f10b5c44-ucexportviewid1_w3nD-N2Xk7dM85qNHt4pvQGiqHxyfrh.xml  \n",
            "  inflating: Annotations/f1c7906a-ucexportviewid1k4-l9j7sE9T8GvWh8m9sLZQm4H9MqNDZ.xml  \n",
            "  inflating: Annotations/f3b48f2b-ucexportviewid1ew9ztijX4rQx5hP-cF5wdB923yUpsgbd.xml  \n",
            "  inflating: Annotations/f442b261-ucexportviewid1n9ronM5iezGF7RgumbeWVWHa5C4WnxLb.xml  \n",
            "  inflating: Annotations/f5b1eb14-ucexportviewid1VWn1urGIsW7jrKixAjLKiG35Smq15WYK.xml  \n",
            "  inflating: Annotations/f863e384-ucexportviewid1nTCXJhgF4JmUS4565XvSiCtnbGOJppow.xml  \n",
            "  inflating: Annotations/f87dc55b-ucexportviewid1RmnPxqVM2AjGehLbFWvi3X6xwyLYp179.xml  \n",
            "  inflating: Annotations/f8bde123-ucexportviewid1sbqgEMtWZplzj2D2ECC15RkGQr_EnYCQ.xml  \n",
            "  inflating: Annotations/f9933c05-ucexportviewid1HUYXGqtlXcdglJNbc5K7T_o7WSIFvqWV.xml  \n",
            "  inflating: Annotations/fca56ee6-ucexportviewid1kJ8v0PZ5Z35qwB3SCe2NZxFeghn__oz6.xml  \n",
            "  inflating: Annotations/fd55d63f-ucexportviewid1LJiiMBWF5ZMHW2AbjEBxhUWf02LtoBmo.xml  \n",
            "  inflating: Annotations/fd82c6da-ucexportviewid1WhPn4bprDqisuauYFbFdArlkC4Cj_lfs.xml  \n",
            "  inflating: Annotations/fe1ea80c-ucexportviewid1nDZWh9WsZ6XVY20CszL4r_-cSUwQYlNi.xml  \n",
            "  inflating: Annotations/ff4eeb0b-ucexportviewid1LGv32nrdC6_IdhBiBD562ItmAk2W8YQV.xml  \n",
            "  inflating: Annotations/ffca5540-ucexportviewid1begikY9qKBOTkPstXakYELRWBzRgfeGh.xml  \n",
            "  inflating: Annotations/ffedfed1-ucexportviewid1F492QTVle_P2xTKiDWnwHchgTJbMp0jj.xml  \n",
            "  inflating: images/01f1d655-ucexportviewid1GQXQ-Tw557nYaaGK1F0VQl_Yo2frR4kL  \n",
            "  inflating: images/033b3ab4-ucexportviewid1kh2_jpzqUMv9aCrWU6V3z4t2v1FmcydD  \n",
            "  inflating: images/03ffbd9d-ucexportviewid1u4PBrwlhZA3w2I9qsWs6c5hReU-RTiC0  \n",
            "  inflating: images/0418bf14-ucexportviewid1Ophg7otikNiTUtDhfnwGySg9Xe8l6WoM  \n",
            "  inflating: images/066e70cd-ucexportviewid1NtCU9Fsi_0-oqgui3s2uQXHGryIFcGip  \n",
            "  inflating: images/08d75196-ucexportviewid17NMSNoMqJVcKmEoCSn9eHnlBkuXMhwXa  \n",
            "  inflating: images/093115e3-ucexportviewid1LU1wtGJ_KcsYF9GQtKzwqjjvCl4JL49r  \n",
            "  inflating: images/0959b674-ucexportviewid1zTzHGm1k-wxLMup5mCtNjy-iRfjjSDV-  \n",
            "  inflating: images/0a317954-ucexportviewid1hHmcbsu4qaAFXhhNFYtFgvMBTQiZe6m5  \n",
            "  inflating: images/0bdd9ce0-ucexportviewid1A2Y68gQ8zplyaccAtgCHbTqE9esONW7r  \n",
            "  inflating: images/0c5205fe-ucexportviewid153D7CEIlRQAChdHTwGJtW-vFPIabtdwc  \n",
            "  inflating: images/0dec77b3-ucexportviewid1cHQyGhplzf7eyMGLca6eMYtDWtMMpd4o  \n",
            "  inflating: images/0e9388d3-ucexportviewid1vnR2GDXLbfFOEyVWOXOWTvJCKVuGGahP  \n",
            "  inflating: images/0ff205a7-ucexportviewid14YEkqkSY-5cshg27GW4fcMeGk3y3_KMM  \n",
            "  inflating: images/106635eb-ucexportviewid12M9Z7jq841HX-fcCZY93wtQsXkEMi4At  \n",
            "  inflating: images/106f121c-ucexportviewid1DVEDSv7y6qu-meAOEwJ6IBJKhQgOQnvG  \n",
            "  inflating: images/136dea5a-ucexportviewid1r6adNNfJLMWNN4ZReBREa48soODEs2Aj  \n",
            "  inflating: images/172d4632-ucexportviewid1nx45z_7qYNInsty1v9SMHN2_G3ETrwwB  \n",
            "  inflating: images/1747c55b-ucexportviewid1inOkVp4_XJFRbofHbrwsSLi0OHTQJN8L  \n",
            "  inflating: images/181ea1e3-ucexportviewid1OYfXPrzqzd0eiNP1xDrd_5plDFu7WdYS  \n",
            "  inflating: images/19da6c34-ucexportviewid19BLeVsLS5MECqvnnxbyaJvVlD6j8sLCS  \n",
            "  inflating: images/1a9b8f47-ucexportviewid1ikYG-h4dj3enGszjJQzs2zjicmGK035G  \n",
            "  inflating: images/1be94667-ucexportviewid1jwf3Q96gsJ-IYoTQD6CJEXwzgGHo58NP  \n",
            "  inflating: images/1fcd92a9-ucexportviewid1zbYRuCauPm0CvGnp_7JX9AHS2ITT_b6o  \n",
            "  inflating: images/20c34354-ucexportviewid1M2UCJAmBp9Os61T15wgaj2ENl49has0P  \n",
            "  inflating: images/223bfc87-ucexportviewid1lFxl9R__BPUf_TNip9Xn0Wd8WVENihTJ  \n",
            "  inflating: images/24d1b21f-ucexportviewid17RA3vqfrcn56LcHFy9CGVFmsap0xVJmN  \n",
            "  inflating: images/2633f4b0-ucexportviewid1SYCVp8r5s1GmGn8NwZYk8szgZbMCBf6Y  \n",
            "  inflating: images/270a03ad-ucexportviewid1tO6gd-jV7ShBlO4WLvIFKmIOo6r43mbT  \n",
            "  inflating: images/28d1b3d1-ucexportviewid1LgtkLFCc-_uhITk6TbJXn_xbtN6FQ8BG  \n",
            "  inflating: images/2b0bdade-ucexportviewid1pFu5YXKgyfCdmV_fPCxAiZdO1CwKJb3X  \n",
            "  inflating: images/2d4f02b1-ucexportviewid1R7U2C0IKsFQdBXKESgX8vIqmIqhU2_Ka  \n",
            "  inflating: images/322cf670-ucexportviewid16toFXVrb3dR-g9z55co6oT7mEr1k8ALs  \n",
            "  inflating: images/37eccd25-ucexportviewid1rX0cGCMwOE0uuk2I_IW_xIc1bH3Nieyp  \n",
            "  inflating: images/389587cf-ucexportviewid18JhdCP4mUHVSoH-4cfQPttSwoFJ43Cy3  \n",
            "  inflating: images/3967d363-ucexportviewid15VRXKuuUOrQfQFygbGxKrJRf1pg6HMnM  \n",
            "  inflating: images/3a01bc67-ucexportviewid1s6K3ST32eJodSnb1YRPVaTsIR5sfilGi  \n",
            "  inflating: images/3c557f59-ucexportviewid17s4n4uB77o_MIugehcTXlV7FwD15yBfA  \n",
            "  inflating: images/3d56deef-ucexportviewid1P95nUbQBtw22eKhhnpmIX9AL0qLvrlWJ  \n",
            "  inflating: images/3d618e96-ucexportviewid1FnQAk8Dd-nEzEG7tDjJSPhxFAb02qSZS  \n",
            "  inflating: images/3e0725d8-ucexportviewid1egPOdi5qxqrl1ch9_asSqNUu8OzvWQQ8  \n",
            "  inflating: images/3f7fe590-ucexportviewid1ZaMyrsU2jmFkSYDDGuvNiXX4ve-0_08M  \n",
            "  inflating: images/402dc26f-ucexportviewid1Ff1BGQBmFJRw-PubtTOPZP7L2FCHUgc1  \n",
            "  inflating: images/4069d4e6-ucexportviewid1K1CziV2q-CAMwfgovfcdimV6aGwTnNBj  \n",
            "  inflating: images/40bf3d86-ucexportviewid1FjI70A7Agf-620S6HJrSh1Bun5HSYNBl  \n",
            "  inflating: images/4157c643-ucexportviewid1enbr68PWUDUIQqQtSWhYT-r0Rwpzj6TH  \n",
            "  inflating: images/4626a87e-ucexportviewid16Zp6v_i9DuEf51X_vo_Q7x81aKCGfyoi  \n",
            "  inflating: images/471f7b3e-ucexportviewid13R_A0MraJ3vrPq4GR0_pg5ky_Db8CFfQ  \n",
            "  inflating: images/477f65e6-ucexportviewid15NTKVwp5qTWrO6ELGAWf33lgvOwxI2M9  \n",
            "  inflating: images/4839ceea-ucexportviewid1J8_tx6Bzdv4AE-RZ6Oyh3MTRTCydH88z  \n",
            "  inflating: images/489a656c-ucexportviewid1S9x2TwrPlBy2iKnQIP_gAItYRUgnr2O4  \n",
            "  inflating: images/491fac44-ucexportviewid1zg8ichd8INNAIn-E0bHK6vg9zXdqHPQH  \n",
            "  inflating: images/49fff592-ucexportviewid1LtTBbyUJbj6GaXz6SwlDw3urWaeuv2y7  \n",
            "  inflating: images/4a5671c2-ucexportviewid1Kj3rtnyBaP2MUVikEIQDQG2cpyMWnkwQ  \n",
            "  inflating: images/4c2742e8-ucexportviewid1JnyZ6xHdj7m1yNnX95kdym2yRnl8UDwq  \n",
            "  inflating: images/4f67411a-ucexportviewid1xkV7D4d_4qOgdRzzwdCGkybp8yFZr8qD  \n",
            "  inflating: images/50fe7aec-ucexportviewid1-trb9rlnWrfMHzy15VDVVCqzeKjwqRsV  \n",
            "  inflating: images/517c3f43-ucexportviewid1aVZVhkxtmHY_feuDT5G7OQny6Ptiaj3X  \n",
            "  inflating: images/51964a9b-ucexportviewid1HxexjG36Ljq_lW0RVLTXAPuujQC2Kt0n  \n",
            "  inflating: images/536de213-ucexportviewid1zLJymEn6HfERAIll-yTTN7uwdi3bxcpW  \n",
            "  inflating: images/53cd959b-ucexportviewid1sryueVef716Y-H_308atU9rhY719izqo  \n",
            "  inflating: images/55a7946f-ucexportviewid1qPg2Pdz6voI7uDI9xiKuCMCyjb5hNtfw  \n",
            "  inflating: images/57dba6ba-ucexportviewid1l3vU0htD6CNLNLfdReu6w9OIQcM7dYNP  \n",
            "  inflating: images/58ae5996-ucexportviewid1R5Cafg_nT1q9Lwehy3oBIJixSDLUlwe1  \n",
            "  inflating: images/59a50639-ucexportviewid1mA82-rLhKch9u6Ldlh5sQbCyGgyE-K1F  \n",
            "  inflating: images/5be6aaed-ucexportviewid1czQ262tCjxZpdFWMVKh_jp32kJCQvsgL  \n",
            "  inflating: images/5d576d77-ucexportviewid1PvRune_YRKMjI97ysUh48aGx1dKEbWgg  \n",
            "  inflating: images/5db34178-ucexportviewid1DGXOZy7Mibn_VZ55Zrl5dLYwY1LlXABB  \n",
            "  inflating: images/5db3f233-ucexportviewid1gtPU9xsVCkB-b3XdnuFt3TNdDVWnOILB  \n",
            "  inflating: images/5e6f80e1-ucexportviewid1FZeyrOmzS8Bl6gdmQ6_WFgYrY1SXsJhD  \n",
            "  inflating: images/60620588-ucexportviewid1_vvKfal0NQLMC8oc-XCdUW5k7ILX9FUG  \n",
            "  inflating: images/60f738b7-ucexportviewid11pFb1gdtxNqdb68BhUNuUpJTvfXGj4wp  \n",
            "  inflating: images/6270b58e-ucexportviewid1lPFOUvbYkx2vMK-8RkpPbIzoVntrJn9P  \n",
            "  inflating: images/63655bfb-ucexportviewid13NSxdlGOkseIPhrW2yiZ-Iw16iZ-wYI3  \n",
            "  inflating: images/645fbe14-ucexportviewid1tXFE3u4GVl6I9ki119CCG-Wa8D619Cxu  \n",
            "  inflating: images/649e9fa7-ucexportviewid1Mp4alfCY3cxbdQQJH6807gjSPFechMQT  \n",
            "  inflating: images/64a24a2c-ucexportviewid17IN3QDPOSaIiH0E9qf5nABBZXdXyTfsD  \n",
            "  inflating: images/6590d1ef-ucexportviewid1_FYb034Xm9L6WApJfJ4WmBbO_hG4obe_  \n",
            "  inflating: images/69ad0616-ucexportviewid1IBGyoPh2Ial5oLV50odACPXov-JsNjtF  \n",
            "  inflating: images/6b13f7f0-ucexportviewid1QZAADem-rbb62gZtUfQeWKb9l10CYaB_  \n",
            "  inflating: images/6b9a0786-ucexportviewid1TiFh6iAoJXPKgJv677S873jqHSYy1UUZ  \n",
            "  inflating: images/6d010f23-ucexportviewid1_FX1Q63wwT7i9oEHR6gzHW3EvE7BL_HM  \n",
            "  inflating: images/6e288692-ucexportviewid1LbVHbv5abkJrMt4a1BSXedHPPO6nLTH_  \n",
            "  inflating: images/72903780-ucexportviewid1-4cXX0xnwpsjDc12yjOkGiwyaxP2GwXX  \n",
            "  inflating: images/74787c17-ucexportviewid1cnv5VGCtJnYEogSVjGnpZPAselkf5GSq  \n",
            "  inflating: images/770afcbb-ucexportviewid1MfiWJv_crI9fosrOtWEvH6cTppzzd8jA  \n",
            "  inflating: images/78341b12-ucexportviewid1PD-rGktXRY4qjCF_1kpa1H8RlU9h1Y7H  \n",
            "  inflating: images/797797a6-ucexportviewid1iYfmksrTbA_gm4yKAluDiOYQ-FLVOqTF  \n",
            "  inflating: images/7cd2b8b4-ucexportviewid1z-NYLAsFZzGXuZB2aO7QKZyrNWmZp6SX  \n",
            "  inflating: images/7d65effa-ucexportviewid1ZlWfLJdbRZESaUkqeOsJoP4hzzVoYBXy  \n",
            "  inflating: images/7da10fe4-ucexportviewid1y7XrgO8jjINPs21E0BZJPorDdN8HNHKK  \n",
            "  inflating: images/7dd3a0d4-ucexportviewid1fo0sbMiU-v5t3Q1_wZw_6oQFs0-bps7y  \n",
            "  inflating: images/80a850f6-ucexportviewid1RHj_Q7rcQFJV9muqLQ69JoGjdvnVNBCs  \n",
            "  inflating: images/84730a20-ucexportviewid1cZYEU05iLqxGMqlp7MeZut9Yqu1rhYlD  \n",
            "  inflating: images/850a7639-ucexportviewid1ckvNpfsY2qFNQBXzHHmEY3WCPjnBEBnf  \n",
            "  inflating: images/865abd2c-ucexportviewid1X684vZibiLRZrat2DvciMeixfdNmyUt5  \n",
            "  inflating: images/88f3abd7-ucexportviewid1fmR-aameW4snzo1meM4Sf5o6wptrI8ne  \n",
            "  inflating: images/8910a937-ucexportviewid13j_5DcR3vRK_HiYJ9RlFmIE2yW-K9jod  \n",
            "  inflating: images/8911bc04-ucexportviewid1lxvXa-1L1h5iU05PD-EemxMOOGJU-FF5  \n",
            "  inflating: images/8980639f-ucexportviewid1GtjVppulkTYfYrPOmsocExMSE2MinXCE  \n",
            "  inflating: images/8d0ee283-ucexportviewid1jLNXfK1UoXpZu-YB19c1nGtP4In_TMxO  \n",
            "  inflating: images/8d6da23c-ucexportviewid1r7qRovxQMFqPVWKFY6Z80_sYqSkkRwkB  \n",
            "  inflating: images/8e71b63d-ucexportviewid1rqyng-g1drwPeh-Grw3MYSD_-EJu7UqO  \n",
            "  inflating: images/8f9ab490-ucexportviewid165JUXD8DJDt9rn6wk4dvo367hHcnkVN2  \n",
            "  inflating: images/913b801b-ucexportviewid1hvINLG8KYm1bXlyDDMwrKqP2mPLk1xHQ  \n",
            "  inflating: images/919988a4-ucexportviewid1ISxOVnUbE0mG7WYqWWd9wezMTqou0Slb  \n",
            "  inflating: images/93570771-ucexportviewid1qguVHBLpOFBplPeAko-Ofe2gPjmG9JM-  \n",
            "  inflating: images/93dba36e-ucexportviewid1uYduuiQjorhLbNgjZY8XAq1mwWBxpfk1  \n",
            "  inflating: images/95ce7f36-ucexportviewid1J1SqFeITNkFxMI8Dr7GGsG-H6yAJAXBM  \n",
            "  inflating: images/965a344e-ucexportviewid1Qt7NjmHZUSke2C6y7SfPlodyM3lNqH5h  \n",
            "  inflating: images/98de6db2-ucexportviewid1yPPA2RejOgqAk70EBjLXZj-iEpaEPdv8  \n",
            "  inflating: images/98f9b1de-ucexportviewid16AkUF7D43Z27W2cZIrMeTpY2aQqwqmNu  \n",
            "  inflating: images/9ce78185-ucexportviewid1SNmj5jr6-GAYJAXPAP9IWW3pHWY8Eg5q  \n",
            "  inflating: images/9d4166f2-ucexportviewid1gm0whiVCeM2Z-u-0D4uShHjgoYuqT00U  \n",
            "  inflating: images/a0d26f2a-ucexportviewid11nMhK-aUO7RMxlqDhWNF5vNA04c63Z5Y  \n",
            "  inflating: images/a119d94b-ucexportviewid1S-4KC4O2uvoUS0m72CU2XEWaGrHc1DiZ  \n",
            "  inflating: images/a1865dda-ucexportviewid1vDeZQRrz2ex4CP9W9tuyVyxTR8GThKA8  \n",
            "  inflating: images/a1952e72-ucexportviewid1pD9ucKzXPeHIO6RnqZZ4GVhEjvA1hOuN  \n",
            "  inflating: images/a401331f-ucexportviewid1mLz0hI1UfBNb2BTjkOtsTUx2nEnyjgvM  \n",
            "  inflating: images/a49a7b66-ucexportviewid1z-LARKmcKXIkO4tUqyFJR5UvHlYFjaZj  \n",
            "  inflating: images/a5f9b525-ucexportviewid1PQrVFjBXZ3vwzV4FfWqoyx2EetWUxjJ-  \n",
            "  inflating: images/af3fed2f-ucexportviewid1qp8DiJQWunyOaRqaZdBarZb8hlxh-aZH  \n",
            "  inflating: images/afb9752c-ucexportviewid1CQe-7vGZ4aYKYhmwGhaN-_GrXJxbxh1f  \n",
            "  inflating: images/b1181b09-ucexportviewid1aLYzXVu_6e4ZRemFfUmUHyTtnSqlV5Ak  \n",
            "  inflating: images/b1cd0d09-ucexportviewid1xO3x5vsMehOrPaQKNrz0noOmsqLaMQ90  \n",
            "  inflating: images/b3260d22-ucexportviewid10D__A9Gxug0nWgcLX10LkeJLbqpdcjfv  \n",
            "  inflating: images/b3fa026a-ucexportviewid1_XogN4S3MhRSkPTfrCW6yyCslpTPvPfo  \n",
            "  inflating: images/b4a45037-ucexportviewid1N9X5ZKvAeoE0YYEQmXcVoUsMG9mSV8pG  \n",
            "  inflating: images/b57cf570-ucexportviewid1ZitHU9RF2ktTiTQv7uA_9JYZOupAv-Yd  \n",
            "  inflating: images/b5bbdcc7-ucexportviewid140mRBdBXCN0px8cc96bLrDkq5eT6Duiw  \n",
            "  inflating: images/b6817902-ucexportviewid1DplAySK-ZU5Y1YB7cPjteMq02o9qiBgy  \n",
            "  inflating: images/b70dcf61-ucexportviewid1SYMDaJJpOl5PEUnhDPhBzTSNm-OOQ2xV  \n",
            "  inflating: images/b81ec419-ucexportviewid1qEPWKgqZfOO8gFOJV1lPf2VPLvmtaBsC  \n",
            "  inflating: images/b849d992-ucexportviewid128CHv_HA99GX3F_igFczjm290cung79v  \n",
            "  inflating: images/b864d451-ucexportviewid1FTM9EXi7BKLIYs3h4AUUNDGS1n9l5DWD  \n",
            "  inflating: images/b9a077c0-ucexportviewid1H7igsAVMwN5ZLbJRmfsJzJWxY6ho3wd0  \n",
            "  inflating: images/ba9d1695-ucexportviewid1zhhQNt2dOUICUCL8_tQGTmr8sRf6cf4j  \n",
            "  inflating: images/baf14a70-ucexportviewid1Ta3sBV7RBzKMoVUvCMxAd9tFSX4Dn0Da  \n",
            "  inflating: images/bb017c77-ucexportviewid1c3ltIq1bdIwvQybIeS5yNvxwaHjwlT96  \n",
            "  inflating: images/bb541ba6-ucexportviewid1eCquwnh9HZl86ytob3G665lni_v8dq9q  \n",
            "  inflating: images/bb64573e-ucexportviewid1RUxYc8mrUm1sX21ix2cSdSUZuJREWCHf  \n",
            "  inflating: images/bbf48e76-ucexportviewid1UnyknKKKnH18djZ_06SdZ2ZhrlycJPlt  \n",
            "  inflating: images/bcdf2060-ucexportviewid1tNI_LSjpOH1GSsg0CnL8rsk6qhCodQ9I  \n",
            "  inflating: images/bdaaa355-ucexportviewid1p6fwfZEC4o-Jx8YhZp7H1C7iTm_NssWz  \n",
            "  inflating: images/bebc5599-ucexportviewid1Lk6WEmnfShBtWX5VzJXJSVCceiuulw6U  \n",
            "  inflating: images/c109ccf8-ucexportviewid121wvnEa8B6JtzXRqv8cn0x4QxAhluniU  \n",
            "  inflating: images/c18dbf80-ucexportviewid1rOnkknOGqmsOg75PJzIpzx65PFQU-f6J  \n",
            "  inflating: images/c5692be6-ucexportviewid1U3NYNIs1IA-GzEYZ1BH8yyzL6AYkGvcs  \n",
            "  inflating: images/c630c47a-ucexportviewid1G7mZ4oFz7QBPNruIZQFyg06ym_HKwYFH  \n",
            "  inflating: images/c9e09dd4-ucexportviewid1knlDS4nAyWNtXZDKXN_n9l6i5ql6M1RU  \n",
            "  inflating: images/cae349d2-ucexportviewid1Ct9vlpgM6TlOtDr-XZGzkH4zTH1JPTSZ  \n",
            "  inflating: images/cdbbf403-ucexportviewid1rLgVsxrTsg_8MZrgHUHB54q5Bn9vVgjT  \n",
            "  inflating: images/ce1f902f-ucexportviewid1ulNE2T0IlVwfAn8rCFvYRNJXJ7-IfDr1  \n",
            "  inflating: images/ce42a9f0-ucexportviewid15iBsxiMTb5aYeSS6P0ghsRLPc4Un2klJ  \n",
            "  inflating: images/d036f504-ucexportviewid1DpyA2D9lvRHPpOJT2PxDW9qRcODn-n9Q  \n",
            "  inflating: images/d06cce45-ucexportviewid11FfmYHo8oS_sHJuugsZzI9CxgUkbnZoU  \n",
            "  inflating: images/d0d5ae7c-ucexportviewid1_jZqzEo2UuaCKVKv3viHxWDIjFhlH2JI  \n",
            "  inflating: images/d145d995-ucexportviewid1Z4aFaD2PmMvQaIVXiYVbb9umN2_-X9tZ  \n",
            "  inflating: images/d2839e76-ucexportviewid17urZqW12H6kT_Vl3puEZVoWZ3NqbZj7T  \n",
            "  inflating: images/d3655143-ucexportviewid1UdxtAfkJzfPztOFiq3DXls5mxCaz3lQQ  \n",
            "  inflating: images/d377983e-ucexportviewid17LTQCWTUq_kJJiorvrFU8PuoEuRfETJX  \n",
            "  inflating: images/d44b0d01-ucexportviewid1n1XiRIhCNQugERoErsQlDmevPUbQCXZ_  \n",
            "  inflating: images/d53f6d89-ucexportviewid1st2AFrqkpUqSFeRksU5kMgqIMmiI9biv  \n",
            "  inflating: images/d78c2100-ucexportviewid1AAQXegsuc1eoPa-ol7DVMv-mrdDuTgRZ  \n",
            "  inflating: images/d80a593f-ucexportviewid1C2uuy0Tmxkg-v-JFhVQ7Y3WDFbG_slLo  \n",
            "  inflating: images/db3af1b9-ucexportviewid1rx1gKFNG-mivNzIdpjZtegVT6EzPAZLh  \n",
            "  inflating: images/dbb8e779-ucexportviewid1MB53F9q3cX-gE0MYdjhau1zlo_tXzY3U  \n",
            "  inflating: images/dbeed907-ucexportviewid1RwXlF6jC6Mf3d2zUx8Tm9mx_rVudgSa1  \n",
            "  inflating: images/dcad75e1-ucexportviewid1An1RYMPBYfz9EpTduRipZMgOUPs-NG7S  \n",
            "  inflating: images/dd639032-ucexportviewid1gYIrF1w5PBbRhlbxzlTeglL3kLfgXoCb  \n",
            "  inflating: images/e15320a8-ucexportviewid11IBfVZ5ekOWIEcKDXxKTLq4yWx7mPQUu  \n",
            "  inflating: images/e154d3d6-ucexportviewid10wxkYvP5a2RUF3gvsTnsLyvd766RkSS2  \n",
            "  inflating: images/e1a998cd-ucexportviewid1hwtbp1ACLYuEttBz2lvj4ETgZn_UJ1B3  \n",
            "  inflating: images/e1c927c9-ucexportviewid1xfO3KQmMLv2k-KiGRt1ngVXVC3Q_c5wb  \n",
            "  inflating: images/e2651ba0-ucexportviewid1LprTzmqp63jihNEpLNZzl33jzHT3L7Nm  \n",
            "  inflating: images/e7ee5935-ucexportviewid1V5I71z24bMYzWPMngYaE3UOjjQDhONh_  \n",
            "  inflating: images/e9fb99f2-ucexportviewid11OC7djNW2ie2lRfkkRgWyVV8NtTpNUIp  \n",
            "  inflating: images/ec31b2f8-ucexportviewid1oLmk8eIpt8bBhW00twLM1AImuSMD4Lgm  \n",
            "  inflating: images/eca1e76b-ucexportviewid1vO3IX8b6DrOcKCl8p7xc6ZIzFUlRql_B  \n",
            "  inflating: images/ed668777-ucexportviewid1hsxDzf_yOJMDj7sglH_DOycSZM1QNOVU  \n",
            "  inflating: images/efc80197-ucexportviewid1Gvxb-HDlCUwFsvXc_ROaKsRoqQBWEzpY  \n",
            "  inflating: images/f0195986-ucexportviewid1xWXtVXX18Z41pBfIOC21ieBM6Jqsw7o-  \n",
            "  inflating: images/f0e899f2-ucexportviewid1OFolHW9CBsWDSB7SBzVGeI5wNyD6AAPp  \n",
            "  inflating: images/f10b5c44-ucexportviewid1_w3nD-N2Xk7dM85qNHt4pvQGiqHxyfrh  \n",
            "  inflating: images/f1c7906a-ucexportviewid1k4-l9j7sE9T8GvWh8m9sLZQm4H9MqNDZ  \n",
            "  inflating: images/f3b48f2b-ucexportviewid1ew9ztijX4rQx5hP-cF5wdB923yUpsgbd  \n",
            "  inflating: images/f442b261-ucexportviewid1n9ronM5iezGF7RgumbeWVWHa5C4WnxLb  \n",
            "  inflating: images/f5b1eb14-ucexportviewid1VWn1urGIsW7jrKixAjLKiG35Smq15WYK  \n",
            "  inflating: images/f863e384-ucexportviewid1nTCXJhgF4JmUS4565XvSiCtnbGOJppow  \n",
            "  inflating: images/f87dc55b-ucexportviewid1RmnPxqVM2AjGehLbFWvi3X6xwyLYp179  \n",
            "  inflating: images/f8bde123-ucexportviewid1sbqgEMtWZplzj2D2ECC15RkGQr_EnYCQ  \n",
            "  inflating: images/f9933c05-ucexportviewid1HUYXGqtlXcdglJNbc5K7T_o7WSIFvqWV  \n",
            "  inflating: images/fca56ee6-ucexportviewid1kJ8v0PZ5Z35qwB3SCe2NZxFeghn__oz6  \n",
            "  inflating: images/fd55d63f-ucexportviewid1LJiiMBWF5ZMHW2AbjEBxhUWf02LtoBmo  \n",
            "  inflating: images/fd82c6da-ucexportviewid1WhPn4bprDqisuauYFbFdArlkC4Cj_lfs  \n",
            "  inflating: images/fe1ea80c-ucexportviewid1nDZWh9WsZ6XVY20CszL4r_-cSUwQYlNi  \n",
            "  inflating: images/ff4eeb0b-ucexportviewid1LGv32nrdC6_IdhBiBD562ItmAk2W8YQV  \n",
            "  inflating: images/ffca5540-ucexportviewid1begikY9qKBOTkPstXakYELRWBzRgfeGh  \n",
            "  inflating: images/ffedfed1-ucexportviewid1F492QTVle_P2xTKiDWnwHchgTJbMp0jj  \n"
          ]
        }
      ]
    },
    {
      "cell_type": "code",
      "source": [
        "# Create new directory\n",
        "!mkdir /content/Train_Val/Annotation\n",
        "%cd \"/content/Train_Val/Annotation\""
      ],
      "metadata": {
        "colab": {
          "base_uri": "https://localhost:8080/"
        },
        "id": "ypjQmI1hAzw-",
        "outputId": "423d6f0e-34f8-4f2c-8d57-b1a9ebb6b375"
      },
      "execution_count": null,
      "outputs": [
        {
          "output_type": "stream",
          "name": "stdout",
          "text": [
            "/content/Train_Val/Annotation\n"
          ]
        }
      ]
    },
    {
      "cell_type": "code",
      "source": [
        "# Remove encoding in xml files\n",
        "\n",
        "path = \"/content/Train_Val/Annotations\"\n",
        "dstpath = \"/content/Train_Val/Annotation\"\n",
        "\n",
        "for filename in os.listdir(path):\n",
        "    if filename.endswith('.xml'):\n",
        "        tree = etree.parse(path+\"/\"+filename)\n",
        "        etree.strip_elements(tree, \"{*}openSession\", with_tail=True)\n",
        "        save = filename\n",
        "        tree.write(save)"
      ],
      "metadata": {
        "id": "722vXUsAAN1H"
      },
      "execution_count": null,
      "outputs": []
    },
    {
      "cell_type": "code",
      "source": [
        "# Remove old directory\n",
        "%cd /content/Train_Val\n",
        "!rm /content/Train_Val/Annotations/* /content/Train_Val/Annotations/.*\n",
        "!rmdir /content/Train_Val/Annotations"
      ],
      "metadata": {
        "colab": {
          "base_uri": "https://localhost:8080/"
        },
        "id": "wjTujzdErNFL",
        "outputId": "9720f0e4-e92a-4ada-a4e4-f63bceac2d29"
      },
      "execution_count": null,
      "outputs": [
        {
          "output_type": "stream",
          "name": "stdout",
          "text": [
            "/content/Train_Val\n",
            "rm: cannot remove '/content/Train_Val/Annotations/.': Is a directory\n",
            "rm: cannot remove '/content/Train_Val/Annotations/..': Is a directory\n"
          ]
        }
      ]
    },
    {
      "cell_type": "markdown",
      "source": [
        "**Test Data Dir**"
      ],
      "metadata": {
        "id": "6hcr_rsPk1fj"
      }
    },
    {
      "cell_type": "code",
      "source": [
        "!mkdir /content/Test\n",
        "%cd /content/Test\n",
        "!unzip \"/content/gdrive/MyDrive/Capstone/C501/ModelPreparation/Dataset/Test_Dataset/PASCAL_VOC/Test_Dataset3.zip\""
      ],
      "metadata": {
        "colab": {
          "base_uri": "https://localhost:8080/"
        },
        "id": "AcmgYCNzk7fY",
        "outputId": "5c3965a6-6ec0-47e4-f08d-9ab6e8b67a8a"
      },
      "execution_count": null,
      "outputs": [
        {
          "output_type": "stream",
          "name": "stdout",
          "text": [
            "/content/Test\n",
            "Archive:  /content/gdrive/MyDrive/Capstone/C501/ModelPreparation/Dataset/Test_Dataset/PASCAL_VOC/Test_Dataset3.zip\n",
            "   creating: Annotations/\n",
            "   creating: images/\n",
            "  inflating: Annotations/009f218a-ucexportviewid1e0nvwnTrNIte1H8GUadbh3QsgoK_hRCD.xml  \n",
            "  inflating: Annotations/0bd32aee-ucexportviewid1KDRbsCqw1vRN2GU1iKQSllP26OKbxBca.xml  \n",
            "  inflating: Annotations/0c6c25bd-ucexportviewid1BgJVlXLA5qqjJu1s4oXBh8AjtodzncLo.xml  \n",
            "  inflating: Annotations/0d83d9a3-ucexportviewid1jjk3aPzsHX2gChssHMg-Ow702oZTgY_f.xml  \n",
            "  inflating: Annotations/0f1e0b6a-ucexportviewid1XB6PJbqvdYRI0Y3VGhpKEYltSbUi4GmR.xml  \n",
            "  inflating: Annotations/1325481a-ucexportviewid12mLTtFL1LMUihbqfYT55-N5fwHyUiPlq.xml  \n",
            "  inflating: Annotations/1376ade4-ucexportviewid1aA6bpNSB5HXaACKnIUJWG5KeSI0Yvplx.xml  \n",
            "  inflating: Annotations/14d6d73d-ucexportviewid1KCZAPjtzT-pJc7d3XowDygikrgfLerUG.xml  \n",
            "  inflating: Annotations/153c6b31-ucexportviewid15nsdArZ7cE22bHdmpPXj4JgfmS7SqHwS.xml  \n",
            "  inflating: Annotations/1ac584f6-ucexportviewid1DWPPiX73__SDgGH2aZbO6xbxCrv6IjO_.xml  \n",
            "  inflating: Annotations/24b3e36b-ucexportviewid1rtJ6GHiF70C1SSD8WwDeX3tHYXwPmbg4.xml  \n",
            "  inflating: Annotations/48aae9f0-ucexportviewid1AEt5l92JXU8VFyHSKTwDptIBWCrRqzYa.xml  \n",
            "  inflating: Annotations/528e01af-ucexportviewid1_WUxzkcWaHdz-tNZf51QEQXyTi7kUqUC.xml  \n",
            "  inflating: Annotations/666a4a30-ucexportviewid1mQ7-Xbt3Of4rJSemwf6V5SlMhjYSoVqw.xml  \n",
            "  inflating: Annotations/696da1f3-ucexportviewid1oWcrt0W6wHMNRYUAdxmYmZJtfpJDcY3k.xml  \n",
            "  inflating: Annotations/72a5b808-ucexportviewid1UlAucIHVy5NGmzrlhLN0DwU5V4OQVQXp.xml  \n",
            "  inflating: Annotations/747d5238-ucexportviewid1W_-iWCFmBiyn7IwANRsesHIuMX4E4y1B.xml  \n",
            "  inflating: Annotations/78738bb0-ucexportviewid1O8_bXl9xPwM2rAOdbE2c9kEHeMLz1-Ri.xml  \n",
            "  inflating: Annotations/7d45f62c-ucexportviewid1QIttkp5CdAVAZMj6RAHfebZJSqhbZ5Rd.xml  \n",
            "  inflating: Annotations/87f6eb36-ucexportviewid12eGXSke6xOXhyxyOO4MeMwNS4uhG_hYf.xml  \n",
            "  inflating: Annotations/8a717a9b-ucexportviewid1a2rQ-f3AEbCgd-BlKbz5mA5Z0i9EVqlS.xml  \n",
            "  inflating: Annotations/8bf0a68e-ucexportviewid17CxMacm7vNcN9SrrdEn6XdPzRUvSF88g.xml  \n",
            "  inflating: Annotations/8e64833f-ucexportviewid1fVOvSfhGShsV-eWirgno53CKeeVuUWRO.xml  \n",
            "  inflating: Annotations/934616c0-ucexportviewid1MMiQmK4qHpnNznDeN7Ou-toJte6f__LD.xml  \n",
            "  inflating: Annotations/949f7142-ucexportviewid1EPBER7hDHTdoNJhBofVb3f9GuN2Pi4h2.xml  \n",
            "  inflating: Annotations/b3576d0a-ucexportviewid1Hw9md72dC0Qbr3tqbIT1rbdyYPUfueSo.xml  \n",
            "  inflating: Annotations/b3f582f2-ucexportviewid1dXl9BdgaIoK1MYFnvHQ3ZY6FDbSx2dS3.xml  \n",
            "  inflating: Annotations/b79075b5-ucexportviewid13kd_E6jtHwC1VXsBW2yfC4bnH4xjiXo6.xml  \n",
            "  inflating: Annotations/bb624572-ucexportviewid1e9yNjLNl7svSyTsQU3_61gL9kLlZWEmk.xml  \n",
            "  inflating: Annotations/bcfba106-ucexportviewid1pEJ16dPWPZkexae6VvSzGhOLm9-V86Fh.xml  \n",
            "  inflating: Annotations/beb139b5-ucexportviewid1SaNRICEtjZwIvbtDc4L6292FsHVN7OF-.xml  \n",
            "  inflating: Annotations/c8c57804-ucexportviewid1XuxMuR5NZ0UuBDx3JnbMhPNGOJSq5AT1.xml  \n",
            "  inflating: Annotations/cf2989e9-ucexportviewid1hm7VIhRotxmFM_nt9a-Gxw45vNIdvn-G.xml  \n",
            "  inflating: Annotations/e6d71fd4-ucexportviewid1Bht8OYCJ-lIqnQ9w0k5LoRCHHOU6j8Hi.xml  \n",
            "  inflating: Annotations/edbc5129-ucexportviewid15YX4PV2azQ4AAA97LkHbbTkQVKbpxTPj.xml  \n",
            "  inflating: Annotations/f0abf957-ucexportviewid1M7cf7RqGkKIBD9ORcQrPvGINam1pxkqV.xml  \n",
            "  inflating: Annotations/f283cee5-ucexportviewid19SGOxWHI2Q_AgmrSJHuPKH51Hv7AO1HV.xml  \n",
            "  inflating: Annotations/f990b18e-ucexportviewid10HRk6nHZooBDsk-o8AaURmmVWiu_PKC6.xml  \n",
            "  inflating: Annotations/fb8558e4-ucexportviewid1HsnabnFhjvr5vP6AHXEpPq5MtnSnQaRT.xml  \n",
            "  inflating: images/009f218a-ucexportviewid1e0nvwnTrNIte1H8GUadbh3QsgoK_hRCD  \n",
            "  inflating: images/0bd32aee-ucexportviewid1KDRbsCqw1vRN2GU1iKQSllP26OKbxBca  \n",
            "  inflating: images/0c6c25bd-ucexportviewid1BgJVlXLA5qqjJu1s4oXBh8AjtodzncLo  \n",
            "  inflating: images/0d83d9a3-ucexportviewid1jjk3aPzsHX2gChssHMg-Ow702oZTgY_f  \n",
            "  inflating: images/0f1e0b6a-ucexportviewid1XB6PJbqvdYRI0Y3VGhpKEYltSbUi4GmR  \n",
            "  inflating: images/1325481a-ucexportviewid12mLTtFL1LMUihbqfYT55-N5fwHyUiPlq  \n",
            "  inflating: images/1376ade4-ucexportviewid1aA6bpNSB5HXaACKnIUJWG5KeSI0Yvplx  \n",
            "  inflating: images/14d6d73d-ucexportviewid1KCZAPjtzT-pJc7d3XowDygikrgfLerUG  \n",
            "  inflating: images/153c6b31-ucexportviewid15nsdArZ7cE22bHdmpPXj4JgfmS7SqHwS  \n",
            "  inflating: images/1ac584f6-ucexportviewid1DWPPiX73__SDgGH2aZbO6xbxCrv6IjO_  \n",
            "  inflating: images/24b3e36b-ucexportviewid1rtJ6GHiF70C1SSD8WwDeX3tHYXwPmbg4  \n",
            "  inflating: images/48aae9f0-ucexportviewid1AEt5l92JXU8VFyHSKTwDptIBWCrRqzYa  \n",
            "  inflating: images/528e01af-ucexportviewid1_WUxzkcWaHdz-tNZf51QEQXyTi7kUqUC  \n",
            "  inflating: images/666a4a30-ucexportviewid1mQ7-Xbt3Of4rJSemwf6V5SlMhjYSoVqw  \n",
            "  inflating: images/696da1f3-ucexportviewid1oWcrt0W6wHMNRYUAdxmYmZJtfpJDcY3k  \n",
            "  inflating: images/72a5b808-ucexportviewid1UlAucIHVy5NGmzrlhLN0DwU5V4OQVQXp  \n",
            "  inflating: images/747d5238-ucexportviewid1W_-iWCFmBiyn7IwANRsesHIuMX4E4y1B  \n",
            "  inflating: images/78738bb0-ucexportviewid1O8_bXl9xPwM2rAOdbE2c9kEHeMLz1-Ri  \n",
            "  inflating: images/7d45f62c-ucexportviewid1QIttkp5CdAVAZMj6RAHfebZJSqhbZ5Rd  \n",
            "  inflating: images/87f6eb36-ucexportviewid12eGXSke6xOXhyxyOO4MeMwNS4uhG_hYf  \n",
            "  inflating: images/8a717a9b-ucexportviewid1a2rQ-f3AEbCgd-BlKbz5mA5Z0i9EVqlS  \n",
            "  inflating: images/8bf0a68e-ucexportviewid17CxMacm7vNcN9SrrdEn6XdPzRUvSF88g  \n",
            "  inflating: images/8e64833f-ucexportviewid1fVOvSfhGShsV-eWirgno53CKeeVuUWRO  \n",
            "  inflating: images/934616c0-ucexportviewid1MMiQmK4qHpnNznDeN7Ou-toJte6f__LD  \n",
            "  inflating: images/949f7142-ucexportviewid1EPBER7hDHTdoNJhBofVb3f9GuN2Pi4h2  \n",
            "  inflating: images/b3576d0a-ucexportviewid1Hw9md72dC0Qbr3tqbIT1rbdyYPUfueSo  \n",
            "  inflating: images/b3f582f2-ucexportviewid1dXl9BdgaIoK1MYFnvHQ3ZY6FDbSx2dS3  \n",
            "  inflating: images/b79075b5-ucexportviewid13kd_E6jtHwC1VXsBW2yfC4bnH4xjiXo6  \n",
            "  inflating: images/bb624572-ucexportviewid1e9yNjLNl7svSyTsQU3_61gL9kLlZWEmk  \n",
            "  inflating: images/bcfba106-ucexportviewid1pEJ16dPWPZkexae6VvSzGhOLm9-V86Fh  \n",
            "  inflating: images/beb139b5-ucexportviewid1SaNRICEtjZwIvbtDc4L6292FsHVN7OF-  \n",
            "  inflating: images/c8c57804-ucexportviewid1XuxMuR5NZ0UuBDx3JnbMhPNGOJSq5AT1  \n",
            "  inflating: images/cf2989e9-ucexportviewid1hm7VIhRotxmFM_nt9a-Gxw45vNIdvn-G  \n",
            "  inflating: images/e6d71fd4-ucexportviewid1Bht8OYCJ-lIqnQ9w0k5LoRCHHOU6j8Hi  \n",
            "  inflating: images/edbc5129-ucexportviewid15YX4PV2azQ4AAA97LkHbbTkQVKbpxTPj  \n",
            "  inflating: images/f0abf957-ucexportviewid1M7cf7RqGkKIBD9ORcQrPvGINam1pxkqV  \n",
            "  inflating: images/f283cee5-ucexportviewid19SGOxWHI2Q_AgmrSJHuPKH51Hv7AO1HV  \n",
            "  inflating: images/f990b18e-ucexportviewid10HRk6nHZooBDsk-o8AaURmmVWiu_PKC6  \n",
            "  inflating: images/fb8558e4-ucexportviewid1HsnabnFhjvr5vP6AHXEpPq5MtnSnQaRT  \n"
          ]
        }
      ]
    },
    {
      "cell_type": "code",
      "source": [
        "# Create new directory\n",
        "!mkdir /content/Test/Annotation\n",
        "%cd \"/content/Test/Annotation\""
      ],
      "metadata": {
        "colab": {
          "base_uri": "https://localhost:8080/"
        },
        "id": "ZIhAKyU3lJv9",
        "outputId": "07a8dc1e-75e1-44ba-f8b8-b19cbcdab619"
      },
      "execution_count": null,
      "outputs": [
        {
          "output_type": "stream",
          "name": "stdout",
          "text": [
            "/content/Test/Annotation\n"
          ]
        }
      ]
    },
    {
      "cell_type": "code",
      "source": [
        "# Remove encoding in xml files\n",
        "\n",
        "path = \"/content/Test/Annotations\"\n",
        "dstpath = \"/content/Test/Annotation\"\n",
        "\n",
        "for filename in os.listdir(path):\n",
        "    if filename.endswith('.xml'):\n",
        "        tree = etree.parse(path+\"/\"+filename)\n",
        "        etree.strip_elements(tree, \"{*}openSession\", with_tail=True)\n",
        "        save = filename\n",
        "        tree.write(save)"
      ],
      "metadata": {
        "id": "s6nOnA5_lWeU"
      },
      "execution_count": null,
      "outputs": []
    },
    {
      "cell_type": "code",
      "source": [
        "# Remove old directory\n",
        "%cd /content/Test\n",
        "!rm /content/Test/Annotations/* /content/Test/Annotations/.*\n",
        "!rmdir /content/Test/Annotations"
      ],
      "metadata": {
        "colab": {
          "base_uri": "https://localhost:8080/"
        },
        "id": "cp05iprilZoc",
        "outputId": "288333b2-0c33-42b8-f399-f91b1e1b7dc3"
      },
      "execution_count": null,
      "outputs": [
        {
          "output_type": "stream",
          "name": "stdout",
          "text": [
            "/content/Test\n",
            "rm: cannot remove '/content/Test/Annotations/.': Is a directory\n",
            "rm: cannot remove '/content/Test/Annotations/..': Is a directory\n"
          ]
        }
      ]
    },
    {
      "cell_type": "markdown",
      "source": [
        "**Final Dataset Directory**"
      ],
      "metadata": {
        "id": "3H7zcwSclj_Y"
      }
    },
    {
      "cell_type": "code",
      "source": [
        "# Create train and test directory\n",
        "%cd /content/\n",
        "\n",
        "!mkdir \"/content/Dataset/\"\n",
        "!mkdir \"/content/Dataset/Annotation/\"\n",
        "!mkdir \"/content/Dataset/Images/\"\n",
        "\n",
        "!mkdir \"/content/Dataset/Annotation/Train\"\n",
        "!mkdir \"/content/Dataset/Annotation/Val\"\n",
        "!mkdir \"/content/Dataset/Annotation/Test\"\n",
        "!mkdir \"/content/Dataset/Images/Train\"\n",
        "!mkdir \"/content/Dataset/Images/Val\"\n",
        "!mkdir \"/content/Dataset/Images/Test\""
      ],
      "metadata": {
        "colab": {
          "base_uri": "https://localhost:8080/"
        },
        "id": "D0MGLp4uuC0n",
        "outputId": "01c88400-ca04-4897-a265-c68494dbdd56"
      },
      "execution_count": null,
      "outputs": [
        {
          "output_type": "stream",
          "name": "stdout",
          "text": [
            "/content\n"
          ]
        }
      ]
    },
    {
      "cell_type": "markdown",
      "source": [
        "### Prepare and Load Dataset"
      ],
      "metadata": {
        "id": "BIMndR2U0U5x"
      }
    },
    {
      "cell_type": "code",
      "source": [
        "# # Creating Train / Val / Test folders (One time use)\n",
        "root_dir = \"/content/Dataset/\"\n",
        "\n",
        "# os.makedirs(root_dir + '/Images' + '/Train')\n",
        "# os.makedirs(root_dir + '/Images' + '/Test')\n",
        "# os.makedirs(root_dir + '/Annotation' + '/Train')\n",
        "# os.makedirs(root_dir + '/Annotation' + '/Test')\n",
        "# os.makedirs(root_dir + '/Annotation' +'/val')\n",
        "# os.makedirs(root_dir + '/Images' +'/val')\n",
        "\n",
        "# Creating partitions of the data after shuffeling\n",
        "img_src = \"/content/Train_Val/images\" # Folder to copy images from\n",
        "annot_src = \"/content/Train_Val/Annotation\" # Folder to copy annots from\n",
        "test_img_src = \"/content/Test/images\"\n",
        "test_annot_src = \"/content/Test/Annotation\"\n",
        "\n",
        "# Seed for shuffling\n",
        "seed = 42\n",
        "\n",
        "ImageFileNames = os.listdir(img_src)\n",
        "AnnotFileNames = os.listdir(annot_src)\n",
        "np.random.seed(seed)\n",
        "np.random.shuffle(ImageFileNames)\n",
        "\n",
        "train_ImgFileNames, val_ImgFileNames = np.split(np.array(ImageFileNames),\n",
        "                                                          [int(len(ImageFileNames)*0.8)])\n",
        "train_AntFileNames = []\n",
        "val_AntFileNames = []\n",
        "\n",
        "for img in train_ImgFileNames:\n",
        "  for ant in AnnotFileNames:\n",
        "    if img.split('-')[0] == ant.split('-')[0]:\n",
        "      train_AntFileNames.append(ant)\n",
        "\n",
        "for img in val_ImgFileNames:\n",
        "  for ant in AnnotFileNames:\n",
        "    if img.split('-')[0] == ant.split('-')[0]:\n",
        "      val_AntFileNames.append(ant)\n",
        "\n",
        "test_ImgFileNames = os.listdir(test_img_src)\n",
        "test_AntFileNames = os.listdir(test_annot_src)\n",
        "\n",
        "train_ImgFileNames = [img_src+'/'+ name for name in train_ImgFileNames.tolist()]\n",
        "val_ImgFileNames = [img_src+'/' + name for name in val_ImgFileNames.tolist()]\n",
        "test_ImgFileNames = [test_img_src+'/' + name for name in test_ImgFileNames]\n",
        "\n",
        "train_AntFileNames = [annot_src+'/'+ name for name in train_AntFileNames]\n",
        "val_AntFileNames = [annot_src+'/' + name for name in val_AntFileNames]\n",
        "test_AntFileNames = [test_annot_src+'/' + name for name in test_AntFileNames]\n",
        "\n",
        "print('Total images: ', (len(ImageFileNames)+len(test_ImgFileNames)))\n",
        "print('Training: ', len(train_ImgFileNames))\n",
        "print('Validation: ', len(val_ImgFileNames))\n",
        "print('Testing: ', len(test_ImgFileNames))\n",
        "\n",
        "print('Total annotations: ', (len(AnnotFileNames) + len(test_AntFileNames)))\n",
        "print('Training: ', len(train_AntFileNames))\n",
        "print('Validation: ', len(val_AntFileNames))\n",
        "print('Testing: ', len(test_AntFileNames))\n",
        "\n",
        "# Copy-pasting images and annots\n",
        "for name in train_ImgFileNames:\n",
        "    shutil.copy(name, \"/content/Dataset/Images/Train\")\n",
        "\n",
        "for name in val_ImgFileNames:\n",
        "    shutil.copy(name, \"/content/Dataset/Images/Val\")\n",
        "\n",
        "for name in test_ImgFileNames:\n",
        "    shutil.copy(name, \"/content/Dataset/Images/Test\")\n",
        "\n",
        "for name in train_AntFileNames:\n",
        "    shutil.copy(name, \"/content/Dataset/Annotation/Train\")\n",
        "\n",
        "for name in val_AntFileNames:\n",
        "    shutil.copy(name, \"/content/Dataset/Annotation/Val\")\n",
        "\n",
        "for name in test_AntFileNames:\n",
        "    shutil.copy(name, \"/content/Dataset/Annotation/Test\")"
      ],
      "metadata": {
        "id": "lvJmwp-dvm9-",
        "colab": {
          "base_uri": "https://localhost:8080/"
        },
        "outputId": "60e90992-1a54-496b-f9ba-77ce4907f2bf"
      },
      "execution_count": null,
      "outputs": [
        {
          "output_type": "stream",
          "name": "stdout",
          "text": [
            "Total images:  238\n",
            "Training:  159\n",
            "Validation:  40\n",
            "Testing:  39\n",
            "Total annotations:  238\n",
            "Training:  159\n",
            "Validation:  40\n",
            "Testing:  39\n"
          ]
        }
      ]
    },
    {
      "cell_type": "code",
      "source": [
        "train_data = object_detector.DataLoader.from_pascal_voc(\"/content/Dataset/Images/Train\", \"/content/Dataset/Annotation/Train\", label_map={1: \"yellow_duck\", 2: \"green_duck\", 3: \"green_frog\"})\n",
        "val_data = object_detector.DataLoader.from_pascal_voc(\"/content/Dataset/Images/Val\", \"/content/Dataset/Annotation/Val\", label_map={1: \"yellow_duck\", 2: \"green_duck\", 3: \"green_frog\"})\n",
        "test_data = object_detector.DataLoader.from_pascal_voc(\"/content/Dataset/Images/Test\", \"/content/Dataset/Annotation/Test\", label_map={1: \"yellow_duck\", 2: \"green_duck\", 3: \"green_frog\"})"
      ],
      "metadata": {
        "id": "3RRS9Lf6tTat"
      },
      "execution_count": null,
      "outputs": []
    },
    {
      "cell_type": "markdown",
      "source": [
        "### Load Pre-Trained Model"
      ],
      "metadata": {
        "id": "DS8oxUnS0LUy"
      }
    },
    {
      "cell_type": "code",
      "source": [
        "spec0 = model_spec.get('efficientdet_lite0')\n",
        "spec1 = model_spec.get('efficientdet_lite1')\n",
        "spec2 = model_spec.get('efficientdet_lite2')\n",
        "spec3 = model_spec.get('efficientdet_lite3')\n",
        "spec4 = model_spec.get('efficientdet_lite4')"
      ],
      "metadata": {
        "id": "6ladAnFR0eA7"
      },
      "execution_count": null,
      "outputs": []
    },
    {
      "cell_type": "markdown",
      "source": [
        "### Train Model"
      ],
      "metadata": {
        "id": "ixbi14NK0oki"
      }
    },
    {
      "cell_type": "markdown",
      "source": [
        "**EfficientDetLite0**"
      ],
      "metadata": {
        "id": "BC-E-bxSJ0ar"
      }
    },
    {
      "cell_type": "code",
      "source": [
        "model0 = object_detector.create(\n",
        "    train_data=train_data,\n",
        "    model_spec=spec0,\n",
        "    epochs=50,\n",
        "    batch_size=25,\n",
        "    train_whole_model=False,\n",
        "    validation_data=val_data)"
      ],
      "metadata": {
        "colab": {
          "base_uri": "https://localhost:8080/"
        },
        "id": "hysl0yHV0qxH",
        "outputId": "25493f27-e3b9-42dd-b0cf-a1c533c859b3"
      },
      "execution_count": null,
      "outputs": [
        {
          "output_type": "stream",
          "name": "stdout",
          "text": [
            "Epoch 1/50\n",
            "6/6 [==============================] - 31s 1s/step - det_loss: 1.7408 - cls_loss: 1.1414 - box_loss: 0.0120 - reg_l2_loss: 0.0043 - loss: 1.7451 - learning_rate: 0.0191 - gradient_norm: 0.8051 - val_det_loss: 1.6389 - val_cls_loss: 1.1179 - val_box_loss: 0.0104 - val_reg_l2_loss: 0.0043 - val_loss: 1.6433\n",
            "Epoch 2/50\n",
            "6/6 [==============================] - 5s 908ms/step - det_loss: 1.5205 - cls_loss: 1.0704 - box_loss: 0.0090 - reg_l2_loss: 0.0044 - loss: 1.5248 - learning_rate: 0.0312 - gradient_norm: 0.6686 - val_det_loss: 1.3749 - val_cls_loss: 0.9708 - val_box_loss: 0.0081 - val_reg_l2_loss: 0.0044 - val_loss: 1.3793\n",
            "Epoch 3/50\n",
            "6/6 [==============================] - 5s 1s/step - det_loss: 1.2951 - cls_loss: 0.8984 - box_loss: 0.0079 - reg_l2_loss: 0.0044 - loss: 1.2994 - learning_rate: 0.0311 - gradient_norm: 0.8211 - val_det_loss: 1.4779 - val_cls_loss: 1.1261 - val_box_loss: 0.0070 - val_reg_l2_loss: 0.0044 - val_loss: 1.4823\n",
            "Epoch 4/50\n",
            "6/6 [==============================] - 5s 915ms/step - det_loss: 1.0495 - cls_loss: 0.7400 - box_loss: 0.0062 - reg_l2_loss: 0.0044 - loss: 1.0539 - learning_rate: 0.0309 - gradient_norm: 1.0326 - val_det_loss: 1.2303 - val_cls_loss: 0.9257 - val_box_loss: 0.0061 - val_reg_l2_loss: 0.0044 - val_loss: 1.2347\n",
            "Epoch 5/50\n",
            "6/6 [==============================] - 12s 2s/step - det_loss: 0.9266 - cls_loss: 0.6467 - box_loss: 0.0056 - reg_l2_loss: 0.0044 - loss: 0.9310 - learning_rate: 0.0306 - gradient_norm: 1.0159 - val_det_loss: 1.1464 - val_cls_loss: 0.8920 - val_box_loss: 0.0051 - val_reg_l2_loss: 0.0044 - val_loss: 1.1509\n",
            "Epoch 6/50\n",
            "6/6 [==============================] - 5s 951ms/step - det_loss: 0.8624 - cls_loss: 0.5998 - box_loss: 0.0053 - reg_l2_loss: 0.0044 - loss: 0.8668 - learning_rate: 0.0303 - gradient_norm: 0.9529 - val_det_loss: 1.2895 - val_cls_loss: 1.0533 - val_box_loss: 0.0047 - val_reg_l2_loss: 0.0044 - val_loss: 1.2940\n",
            "Epoch 7/50\n",
            "6/6 [==============================] - 6s 1s/step - det_loss: 0.7781 - cls_loss: 0.5480 - box_loss: 0.0046 - reg_l2_loss: 0.0044 - loss: 0.7825 - learning_rate: 0.0299 - gradient_norm: 0.8052 - val_det_loss: 0.9721 - val_cls_loss: 0.7497 - val_box_loss: 0.0044 - val_reg_l2_loss: 0.0044 - val_loss: 0.9765\n",
            "Epoch 8/50\n",
            "6/6 [==============================] - 4s 857ms/step - det_loss: 0.7227 - cls_loss: 0.5217 - box_loss: 0.0040 - reg_l2_loss: 0.0044 - loss: 0.7271 - learning_rate: 0.0295 - gradient_norm: 0.7748 - val_det_loss: 0.8747 - val_cls_loss: 0.6830 - val_box_loss: 0.0038 - val_reg_l2_loss: 0.0044 - val_loss: 0.8791\n",
            "Epoch 9/50\n",
            "6/6 [==============================] - 5s 1s/step - det_loss: 0.7034 - cls_loss: 0.5190 - box_loss: 0.0037 - reg_l2_loss: 0.0044 - loss: 0.7078 - learning_rate: 0.0290 - gradient_norm: 0.9350 - val_det_loss: 0.9432 - val_cls_loss: 0.7625 - val_box_loss: 0.0036 - val_reg_l2_loss: 0.0044 - val_loss: 0.9476\n",
            "Epoch 10/50\n",
            "6/6 [==============================] - 7s 1s/step - det_loss: 0.6934 - cls_loss: 0.5046 - box_loss: 0.0038 - reg_l2_loss: 0.0044 - loss: 0.6979 - learning_rate: 0.0285 - gradient_norm: 0.7831 - val_det_loss: 0.7591 - val_cls_loss: 0.5738 - val_box_loss: 0.0037 - val_reg_l2_loss: 0.0044 - val_loss: 0.7635\n",
            "Epoch 11/50\n",
            "6/6 [==============================] - 5s 1s/step - det_loss: 0.6294 - cls_loss: 0.4759 - box_loss: 0.0031 - reg_l2_loss: 0.0044 - loss: 0.6339 - learning_rate: 0.0279 - gradient_norm: 0.8425 - val_det_loss: 0.6520 - val_cls_loss: 0.4825 - val_box_loss: 0.0034 - val_reg_l2_loss: 0.0045 - val_loss: 0.6565\n",
            "Epoch 12/50\n",
            "6/6 [==============================] - 5s 987ms/step - det_loss: 0.6323 - cls_loss: 0.4800 - box_loss: 0.0030 - reg_l2_loss: 0.0045 - loss: 0.6368 - learning_rate: 0.0272 - gradient_norm: 0.6615 - val_det_loss: 0.7223 - val_cls_loss: 0.5512 - val_box_loss: 0.0034 - val_reg_l2_loss: 0.0045 - val_loss: 0.7268\n",
            "Epoch 13/50\n",
            "6/6 [==============================] - 5s 1000ms/step - det_loss: 0.6370 - cls_loss: 0.4706 - box_loss: 0.0033 - reg_l2_loss: 0.0045 - loss: 0.6415 - learning_rate: 0.0265 - gradient_norm: 0.9648 - val_det_loss: 0.6577 - val_cls_loss: 0.5109 - val_box_loss: 0.0029 - val_reg_l2_loss: 0.0045 - val_loss: 0.6621\n",
            "Epoch 14/50\n",
            "6/6 [==============================] - 5s 992ms/step - det_loss: 0.6333 - cls_loss: 0.4726 - box_loss: 0.0032 - reg_l2_loss: 0.0045 - loss: 0.6378 - learning_rate: 0.0258 - gradient_norm: 0.7832 - val_det_loss: 0.6537 - val_cls_loss: 0.4936 - val_box_loss: 0.0032 - val_reg_l2_loss: 0.0045 - val_loss: 0.6582\n",
            "Epoch 15/50\n",
            "6/6 [==============================] - 7s 1s/step - det_loss: 0.5887 - cls_loss: 0.4436 - box_loss: 0.0029 - reg_l2_loss: 0.0045 - loss: 0.5932 - learning_rate: 0.0250 - gradient_norm: 0.7908 - val_det_loss: 0.5861 - val_cls_loss: 0.4454 - val_box_loss: 0.0028 - val_reg_l2_loss: 0.0045 - val_loss: 0.5906\n",
            "Epoch 16/50\n",
            "6/6 [==============================] - 6s 1s/step - det_loss: 0.5963 - cls_loss: 0.4494 - box_loss: 0.0029 - reg_l2_loss: 0.0045 - loss: 0.6008 - learning_rate: 0.0242 - gradient_norm: 0.8147 - val_det_loss: 0.5609 - val_cls_loss: 0.4360 - val_box_loss: 0.0025 - val_reg_l2_loss: 0.0045 - val_loss: 0.5654\n",
            "Epoch 17/50\n",
            "6/6 [==============================] - 5s 977ms/step - det_loss: 0.5542 - cls_loss: 0.4253 - box_loss: 0.0026 - reg_l2_loss: 0.0045 - loss: 0.5586 - learning_rate: 0.0233 - gradient_norm: 0.7396 - val_det_loss: 0.5625 - val_cls_loss: 0.4355 - val_box_loss: 0.0025 - val_reg_l2_loss: 0.0045 - val_loss: 0.5670\n",
            "Epoch 18/50\n",
            "6/6 [==============================] - 5s 1s/step - det_loss: 0.5831 - cls_loss: 0.4395 - box_loss: 0.0029 - reg_l2_loss: 0.0045 - loss: 0.5876 - learning_rate: 0.0224 - gradient_norm: 0.8023 - val_det_loss: 0.5566 - val_cls_loss: 0.4377 - val_box_loss: 0.0024 - val_reg_l2_loss: 0.0045 - val_loss: 0.5611\n",
            "Epoch 19/50\n",
            "6/6 [==============================] - 5s 996ms/step - det_loss: 0.5646 - cls_loss: 0.4317 - box_loss: 0.0027 - reg_l2_loss: 0.0045 - loss: 0.5691 - learning_rate: 0.0215 - gradient_norm: 0.7083 - val_det_loss: 0.5259 - val_cls_loss: 0.4170 - val_box_loss: 0.0022 - val_reg_l2_loss: 0.0045 - val_loss: 0.5304\n",
            "Epoch 20/50\n",
            "6/6 [==============================] - 7s 1s/step - det_loss: 0.5737 - cls_loss: 0.4381 - box_loss: 0.0027 - reg_l2_loss: 0.0045 - loss: 0.5782 - learning_rate: 0.0206 - gradient_norm: 0.8138 - val_det_loss: 0.5214 - val_cls_loss: 0.4145 - val_box_loss: 0.0021 - val_reg_l2_loss: 0.0045 - val_loss: 0.5258\n",
            "Epoch 21/50\n",
            "6/6 [==============================] - 5s 970ms/step - det_loss: 0.5708 - cls_loss: 0.4293 - box_loss: 0.0028 - reg_l2_loss: 0.0045 - loss: 0.5753 - learning_rate: 0.0196 - gradient_norm: 0.6337 - val_det_loss: 0.5374 - val_cls_loss: 0.4292 - val_box_loss: 0.0022 - val_reg_l2_loss: 0.0045 - val_loss: 0.5419\n",
            "Epoch 22/50\n",
            "6/6 [==============================] - 5s 990ms/step - det_loss: 0.5490 - cls_loss: 0.4217 - box_loss: 0.0025 - reg_l2_loss: 0.0045 - loss: 0.5535 - learning_rate: 0.0186 - gradient_norm: 0.6787 - val_det_loss: 0.5446 - val_cls_loss: 0.4358 - val_box_loss: 0.0022 - val_reg_l2_loss: 0.0045 - val_loss: 0.5491\n",
            "Epoch 23/50\n",
            "6/6 [==============================] - 5s 1s/step - det_loss: 0.5589 - cls_loss: 0.4298 - box_loss: 0.0026 - reg_l2_loss: 0.0045 - loss: 0.5634 - learning_rate: 0.0176 - gradient_norm: 0.7267 - val_det_loss: 0.5282 - val_cls_loss: 0.4233 - val_box_loss: 0.0021 - val_reg_l2_loss: 0.0045 - val_loss: 0.5327\n",
            "Epoch 24/50\n",
            "6/6 [==============================] - 6s 1s/step - det_loss: 0.5645 - cls_loss: 0.4205 - box_loss: 0.0029 - reg_l2_loss: 0.0045 - loss: 0.5690 - learning_rate: 0.0166 - gradient_norm: 0.8845 - val_det_loss: 0.5309 - val_cls_loss: 0.4237 - val_box_loss: 0.0021 - val_reg_l2_loss: 0.0045 - val_loss: 0.5354\n",
            "Epoch 25/50\n",
            "6/6 [==============================] - 6s 1s/step - det_loss: 0.5392 - cls_loss: 0.4097 - box_loss: 0.0026 - reg_l2_loss: 0.0045 - loss: 0.5437 - learning_rate: 0.0156 - gradient_norm: 0.7375 - val_det_loss: 0.5370 - val_cls_loss: 0.4452 - val_box_loss: 0.0018 - val_reg_l2_loss: 0.0045 - val_loss: 0.5415\n",
            "Epoch 26/50\n",
            "6/6 [==============================] - 5s 997ms/step - det_loss: 0.5419 - cls_loss: 0.4105 - box_loss: 0.0026 - reg_l2_loss: 0.0045 - loss: 0.5464 - learning_rate: 0.0146 - gradient_norm: 0.7718 - val_det_loss: 0.5180 - val_cls_loss: 0.4143 - val_box_loss: 0.0021 - val_reg_l2_loss: 0.0045 - val_loss: 0.5225\n",
            "Epoch 27/50\n",
            "6/6 [==============================] - 5s 1s/step - det_loss: 0.5264 - cls_loss: 0.4055 - box_loss: 0.0024 - reg_l2_loss: 0.0045 - loss: 0.5309 - learning_rate: 0.0137 - gradient_norm: 0.8065 - val_det_loss: 0.5300 - val_cls_loss: 0.4282 - val_box_loss: 0.0020 - val_reg_l2_loss: 0.0045 - val_loss: 0.5345\n",
            "Epoch 28/50\n",
            "6/6 [==============================] - 6s 1s/step - det_loss: 0.5474 - cls_loss: 0.4205 - box_loss: 0.0025 - reg_l2_loss: 0.0045 - loss: 0.5519 - learning_rate: 0.0127 - gradient_norm: 0.8244 - val_det_loss: 0.5128 - val_cls_loss: 0.4008 - val_box_loss: 0.0022 - val_reg_l2_loss: 0.0045 - val_loss: 0.5173\n",
            "Epoch 29/50\n",
            "6/6 [==============================] - 5s 948ms/step - det_loss: 0.5464 - cls_loss: 0.4138 - box_loss: 0.0027 - reg_l2_loss: 0.0045 - loss: 0.5509 - learning_rate: 0.0117 - gradient_norm: 0.7406 - val_det_loss: 0.5162 - val_cls_loss: 0.4217 - val_box_loss: 0.0019 - val_reg_l2_loss: 0.0045 - val_loss: 0.5207\n",
            "Epoch 30/50\n",
            "6/6 [==============================] - 6s 1s/step - det_loss: 0.5208 - cls_loss: 0.4058 - box_loss: 0.0023 - reg_l2_loss: 0.0045 - loss: 0.5253 - learning_rate: 0.0107 - gradient_norm: 0.7014 - val_det_loss: 0.4843 - val_cls_loss: 0.3871 - val_box_loss: 0.0019 - val_reg_l2_loss: 0.0045 - val_loss: 0.4888\n",
            "Epoch 31/50\n",
            "6/6 [==============================] - 5s 971ms/step - det_loss: 0.5303 - cls_loss: 0.4093 - box_loss: 0.0024 - reg_l2_loss: 0.0045 - loss: 0.5348 - learning_rate: 0.0098 - gradient_norm: 0.8199 - val_det_loss: 0.5150 - val_cls_loss: 0.4231 - val_box_loss: 0.0018 - val_reg_l2_loss: 0.0045 - val_loss: 0.5195\n",
            "Epoch 32/50\n",
            "6/6 [==============================] - 6s 1s/step - det_loss: 0.4985 - cls_loss: 0.3943 - box_loss: 0.0021 - reg_l2_loss: 0.0045 - loss: 0.5030 - learning_rate: 0.0089 - gradient_norm: 0.8736 - val_det_loss: 0.4731 - val_cls_loss: 0.3843 - val_box_loss: 0.0018 - val_reg_l2_loss: 0.0045 - val_loss: 0.4776\n",
            "Epoch 33/50\n",
            "6/6 [==============================] - 5s 1s/step - det_loss: 0.5215 - cls_loss: 0.3975 - box_loss: 0.0025 - reg_l2_loss: 0.0045 - loss: 0.5260 - learning_rate: 0.0080 - gradient_norm: 0.8161 - val_det_loss: 0.4871 - val_cls_loss: 0.4005 - val_box_loss: 0.0017 - val_reg_l2_loss: 0.0045 - val_loss: 0.4916\n",
            "Epoch 34/50\n",
            "6/6 [==============================] - 5s 930ms/step - det_loss: 0.5605 - cls_loss: 0.4269 - box_loss: 0.0027 - reg_l2_loss: 0.0045 - loss: 0.5650 - learning_rate: 0.0071 - gradient_norm: 0.8613 - val_det_loss: 0.4995 - val_cls_loss: 0.3963 - val_box_loss: 0.0021 - val_reg_l2_loss: 0.0045 - val_loss: 0.5040\n",
            "Epoch 35/50\n",
            "6/6 [==============================] - 6s 1s/step - det_loss: 0.5019 - cls_loss: 0.3874 - box_loss: 0.0023 - reg_l2_loss: 0.0045 - loss: 0.5064 - learning_rate: 0.0063 - gradient_norm: 0.8303 - val_det_loss: 0.4747 - val_cls_loss: 0.3826 - val_box_loss: 0.0018 - val_reg_l2_loss: 0.0045 - val_loss: 0.4792\n",
            "Epoch 36/50\n",
            "6/6 [==============================] - 5s 997ms/step - det_loss: 0.5178 - cls_loss: 0.3948 - box_loss: 0.0025 - reg_l2_loss: 0.0045 - loss: 0.5224 - learning_rate: 0.0055 - gradient_norm: 0.8045 - val_det_loss: 0.4806 - val_cls_loss: 0.3883 - val_box_loss: 0.0018 - val_reg_l2_loss: 0.0045 - val_loss: 0.4851\n",
            "Epoch 37/50\n",
            "6/6 [==============================] - 6s 1s/step - det_loss: 0.5241 - cls_loss: 0.4023 - box_loss: 0.0024 - reg_l2_loss: 0.0045 - loss: 0.5286 - learning_rate: 0.0048 - gradient_norm: 0.7301 - val_det_loss: 0.4925 - val_cls_loss: 0.4024 - val_box_loss: 0.0018 - val_reg_l2_loss: 0.0045 - val_loss: 0.4970\n",
            "Epoch 38/50\n",
            "6/6 [==============================] - 5s 998ms/step - det_loss: 0.5130 - cls_loss: 0.3974 - box_loss: 0.0023 - reg_l2_loss: 0.0045 - loss: 0.5175 - learning_rate: 0.0041 - gradient_norm: 0.7676 - val_det_loss: 0.4743 - val_cls_loss: 0.3874 - val_box_loss: 0.0017 - val_reg_l2_loss: 0.0045 - val_loss: 0.4788\n",
            "Epoch 39/50\n",
            "6/6 [==============================] - 5s 985ms/step - det_loss: 0.5220 - cls_loss: 0.4006 - box_loss: 0.0024 - reg_l2_loss: 0.0045 - loss: 0.5265 - learning_rate: 0.0034 - gradient_norm: 0.7170 - val_det_loss: 0.4670 - val_cls_loss: 0.3766 - val_box_loss: 0.0018 - val_reg_l2_loss: 0.0045 - val_loss: 0.4715\n",
            "Epoch 40/50\n",
            "6/6 [==============================] - 7s 1s/step - det_loss: 0.4999 - cls_loss: 0.3918 - box_loss: 0.0022 - reg_l2_loss: 0.0045 - loss: 0.5044 - learning_rate: 0.0028 - gradient_norm: 0.7112 - val_det_loss: 0.4673 - val_cls_loss: 0.3782 - val_box_loss: 0.0018 - val_reg_l2_loss: 0.0045 - val_loss: 0.4718\n",
            "Epoch 41/50\n",
            "6/6 [==============================] - 6s 1s/step - det_loss: 0.5065 - cls_loss: 0.3936 - box_loss: 0.0023 - reg_l2_loss: 0.0045 - loss: 0.5110 - learning_rate: 0.0023 - gradient_norm: 0.6415 - val_det_loss: 0.4698 - val_cls_loss: 0.3809 - val_box_loss: 0.0018 - val_reg_l2_loss: 0.0045 - val_loss: 0.4743\n",
            "Epoch 42/50\n",
            "6/6 [==============================] - 5s 916ms/step - det_loss: 0.5044 - cls_loss: 0.3937 - box_loss: 0.0022 - reg_l2_loss: 0.0045 - loss: 0.5089 - learning_rate: 0.0018 - gradient_norm: 0.5982 - val_det_loss: 0.4659 - val_cls_loss: 0.3797 - val_box_loss: 0.0017 - val_reg_l2_loss: 0.0045 - val_loss: 0.4704\n",
            "Epoch 43/50\n",
            "6/6 [==============================] - 5s 998ms/step - det_loss: 0.5044 - cls_loss: 0.3893 - box_loss: 0.0023 - reg_l2_loss: 0.0045 - loss: 0.5090 - learning_rate: 0.0013 - gradient_norm: 0.5832 - val_det_loss: 0.4676 - val_cls_loss: 0.3801 - val_box_loss: 0.0018 - val_reg_l2_loss: 0.0045 - val_loss: 0.4721\n",
            "Epoch 44/50\n",
            "6/6 [==============================] - 5s 1s/step - det_loss: 0.5334 - cls_loss: 0.4075 - box_loss: 0.0025 - reg_l2_loss: 0.0045 - loss: 0.5379 - learning_rate: 9.7242e-04 - gradient_norm: 0.6431 - val_det_loss: 0.4667 - val_cls_loss: 0.3792 - val_box_loss: 0.0017 - val_reg_l2_loss: 0.0045 - val_loss: 0.4712\n",
            "Epoch 45/50\n",
            "6/6 [==============================] - 7s 1s/step - det_loss: 0.5145 - cls_loss: 0.3874 - box_loss: 0.0025 - reg_l2_loss: 0.0045 - loss: 0.5190 - learning_rate: 6.5541e-04 - gradient_norm: 0.6356 - val_det_loss: 0.4633 - val_cls_loss: 0.3760 - val_box_loss: 0.0017 - val_reg_l2_loss: 0.0045 - val_loss: 0.4678\n",
            "Epoch 46/50\n",
            "6/6 [==============================] - 5s 929ms/step - det_loss: 0.5002 - cls_loss: 0.3890 - box_loss: 0.0022 - reg_l2_loss: 0.0045 - loss: 0.5047 - learning_rate: 3.9991e-04 - gradient_norm: 0.5886 - val_det_loss: 0.4605 - val_cls_loss: 0.3741 - val_box_loss: 0.0017 - val_reg_l2_loss: 0.0045 - val_loss: 0.4650\n",
            "Epoch 47/50\n",
            "6/6 [==============================] - 5s 909ms/step - det_loss: 0.5502 - cls_loss: 0.4093 - box_loss: 0.0028 - reg_l2_loss: 0.0045 - loss: 0.5547 - learning_rate: 2.0698e-04 - gradient_norm: 0.6913 - val_det_loss: 0.4580 - val_cls_loss: 0.3721 - val_box_loss: 0.0017 - val_reg_l2_loss: 0.0045 - val_loss: 0.4625\n",
            "Epoch 48/50\n",
            "6/6 [==============================] - 5s 960ms/step - det_loss: 0.4997 - cls_loss: 0.3905 - box_loss: 0.0022 - reg_l2_loss: 0.0045 - loss: 0.5043 - learning_rate: 7.7408e-05 - gradient_norm: 0.5988 - val_det_loss: 0.4562 - val_cls_loss: 0.3705 - val_box_loss: 0.0017 - val_reg_l2_loss: 0.0045 - val_loss: 0.4607\n",
            "Epoch 49/50\n",
            "6/6 [==============================] - 6s 1s/step - det_loss: 0.5026 - cls_loss: 0.3919 - box_loss: 0.0022 - reg_l2_loss: 0.0045 - loss: 0.5072 - learning_rate: 1.1721e-05 - gradient_norm: 0.7010 - val_det_loss: 0.4549 - val_cls_loss: 0.3693 - val_box_loss: 0.0017 - val_reg_l2_loss: 0.0045 - val_loss: 0.4595\n",
            "Epoch 50/50\n",
            "6/6 [==============================] - 7s 1s/step - det_loss: 0.5008 - cls_loss: 0.3954 - box_loss: 0.0021 - reg_l2_loss: 0.0045 - loss: 0.5053 - learning_rate: 1.0193e-05 - gradient_norm: 0.6328 - val_det_loss: 0.4541 - val_cls_loss: 0.3685 - val_box_loss: 0.0017 - val_reg_l2_loss: 0.0045 - val_loss: 0.4587\n"
          ]
        }
      ]
    },
    {
      "cell_type": "code",
      "source": [
        "model0.summary()"
      ],
      "metadata": {
        "colab": {
          "base_uri": "https://localhost:8080/"
        },
        "id": "zPQf-GpzEHvO",
        "outputId": "20ba9988-d689-4edf-e912-c2db2f32a2af"
      },
      "execution_count": null,
      "outputs": [
        {
          "output_type": "stream",
          "name": "stdout",
          "text": [
            "Model: \"\"\n",
            "_________________________________________________________________\n",
            " Layer (type)                Output Shape              Param #   \n",
            "=================================================================\n",
            " keras_layer (KerasLayer)    multiple                  3234464   \n",
            "                                                                 \n",
            " class_net/class-predict (Se  multiple                 2331      \n",
            " parableConv2D)                                                  \n",
            "                                                                 \n",
            " box_net/box-predict (Separa  multiple                 2916      \n",
            " bleConv2D)                                                      \n",
            "                                                                 \n",
            "=================================================================\n",
            "Total params: 3,239,711\n",
            "Trainable params: 3,192,575\n",
            "Non-trainable params: 47,136\n",
            "_________________________________________________________________\n"
          ]
        }
      ]
    },
    {
      "cell_type": "markdown",
      "source": [
        "**EfficientDetLite1**"
      ],
      "metadata": {
        "id": "2oi-rIB1KAyV"
      }
    },
    {
      "cell_type": "code",
      "source": [
        "model1 = object_detector.create(\n",
        "    train_data=train_data,\n",
        "    model_spec=spec1,\n",
        "    epochs=50,\n",
        "    batch_size=25,\n",
        "    train_whole_model=False,\n",
        "    validation_data=val_data)"
      ],
      "metadata": {
        "colab": {
          "base_uri": "https://localhost:8080/"
        },
        "id": "2GAZ99S-J_2o",
        "outputId": "ae5b8c47-5abb-49c7-c059-d355702eda5d"
      },
      "execution_count": null,
      "outputs": [
        {
          "output_type": "stream",
          "name": "stdout",
          "text": [
            "Epoch 1/50\n",
            "6/6 [==============================] - 31s 2s/step - det_loss: 1.7468 - cls_loss: 1.1548 - box_loss: 0.0118 - reg_l2_loss: 0.0047 - loss: 1.7515 - learning_rate: 0.0191 - gradient_norm: 0.7675 - val_det_loss: 1.6610 - val_cls_loss: 1.1398 - val_box_loss: 0.0104 - val_reg_l2_loss: 0.0047 - val_loss: 1.6656\n",
            "Epoch 2/50\n",
            "6/6 [==============================] - 6s 1s/step - det_loss: 1.5739 - cls_loss: 1.1081 - box_loss: 0.0093 - reg_l2_loss: 0.0047 - loss: 1.5785 - learning_rate: 0.0312 - gradient_norm: 0.6972 - val_det_loss: 1.4713 - val_cls_loss: 1.0582 - val_box_loss: 0.0083 - val_reg_l2_loss: 0.0047 - val_loss: 1.4760\n",
            "Epoch 3/50\n",
            "6/6 [==============================] - 7s 1s/step - det_loss: 1.3460 - cls_loss: 0.9710 - box_loss: 0.0075 - reg_l2_loss: 0.0047 - loss: 1.3506 - learning_rate: 0.0311 - gradient_norm: 0.8193 - val_det_loss: 1.0630 - val_cls_loss: 0.7696 - val_box_loss: 0.0059 - val_reg_l2_loss: 0.0047 - val_loss: 1.0677\n",
            "Epoch 4/50\n",
            "6/6 [==============================] - 7s 1s/step - det_loss: 1.0708 - cls_loss: 0.7571 - box_loss: 0.0063 - reg_l2_loss: 0.0047 - loss: 1.0755 - learning_rate: 0.0309 - gradient_norm: 1.1864 - val_det_loss: 0.9029 - val_cls_loss: 0.6457 - val_box_loss: 0.0051 - val_reg_l2_loss: 0.0047 - val_loss: 0.9076\n",
            "Epoch 5/50\n",
            "6/6 [==============================] - 13s 2s/step - det_loss: 0.9004 - cls_loss: 0.6585 - box_loss: 0.0048 - reg_l2_loss: 0.0047 - loss: 0.9051 - learning_rate: 0.0306 - gradient_norm: 1.2261 - val_det_loss: 0.7685 - val_cls_loss: 0.5700 - val_box_loss: 0.0040 - val_reg_l2_loss: 0.0047 - val_loss: 0.7732\n",
            "Epoch 6/50\n",
            "6/6 [==============================] - 6s 1s/step - det_loss: 0.8013 - cls_loss: 0.5820 - box_loss: 0.0044 - reg_l2_loss: 0.0047 - loss: 0.8061 - learning_rate: 0.0303 - gradient_norm: 0.9054 - val_det_loss: 0.7795 - val_cls_loss: 0.5976 - val_box_loss: 0.0036 - val_reg_l2_loss: 0.0047 - val_loss: 0.7843\n",
            "Epoch 7/50\n",
            "6/6 [==============================] - 7s 1s/step - det_loss: 0.7328 - cls_loss: 0.5464 - box_loss: 0.0037 - reg_l2_loss: 0.0047 - loss: 0.7376 - learning_rate: 0.0299 - gradient_norm: 0.7356 - val_det_loss: 0.6926 - val_cls_loss: 0.5198 - val_box_loss: 0.0035 - val_reg_l2_loss: 0.0047 - val_loss: 0.6973\n",
            "Epoch 8/50\n",
            "6/6 [==============================] - 7s 1s/step - det_loss: 0.6940 - cls_loss: 0.5202 - box_loss: 0.0035 - reg_l2_loss: 0.0048 - loss: 0.6987 - learning_rate: 0.0295 - gradient_norm: 0.7024 - val_det_loss: 0.6557 - val_cls_loss: 0.5125 - val_box_loss: 0.0029 - val_reg_l2_loss: 0.0048 - val_loss: 0.6604\n",
            "Epoch 9/50\n",
            "6/6 [==============================] - 7s 1s/step - det_loss: 0.6569 - cls_loss: 0.5022 - box_loss: 0.0031 - reg_l2_loss: 0.0048 - loss: 0.6617 - learning_rate: 0.0290 - gradient_norm: 0.6471 - val_det_loss: 0.6346 - val_cls_loss: 0.5056 - val_box_loss: 0.0026 - val_reg_l2_loss: 0.0048 - val_loss: 0.6394\n",
            "Epoch 10/50\n",
            "6/6 [==============================] - 9s 2s/step - det_loss: 0.6339 - cls_loss: 0.4815 - box_loss: 0.0030 - reg_l2_loss: 0.0048 - loss: 0.6387 - learning_rate: 0.0285 - gradient_norm: 0.8021 - val_det_loss: 0.5959 - val_cls_loss: 0.4673 - val_box_loss: 0.0026 - val_reg_l2_loss: 0.0048 - val_loss: 0.6007\n",
            "Epoch 11/50\n",
            "6/6 [==============================] - 7s 1s/step - det_loss: 0.6345 - cls_loss: 0.4852 - box_loss: 0.0030 - reg_l2_loss: 0.0048 - loss: 0.6393 - learning_rate: 0.0279 - gradient_norm: 0.7306 - val_det_loss: 0.6742 - val_cls_loss: 0.5327 - val_box_loss: 0.0028 - val_reg_l2_loss: 0.0048 - val_loss: 0.6790\n",
            "Epoch 12/50\n",
            "6/6 [==============================] - 7s 1s/step - det_loss: 0.6430 - cls_loss: 0.4800 - box_loss: 0.0033 - reg_l2_loss: 0.0048 - loss: 0.6478 - learning_rate: 0.0272 - gradient_norm: 0.8361 - val_det_loss: 0.5826 - val_cls_loss: 0.4598 - val_box_loss: 0.0025 - val_reg_l2_loss: 0.0048 - val_loss: 0.5873\n",
            "Epoch 13/50\n",
            "6/6 [==============================] - 7s 1s/step - det_loss: 0.5987 - cls_loss: 0.4564 - box_loss: 0.0028 - reg_l2_loss: 0.0048 - loss: 0.6035 - learning_rate: 0.0265 - gradient_norm: 0.8640 - val_det_loss: 0.5256 - val_cls_loss: 0.4209 - val_box_loss: 0.0021 - val_reg_l2_loss: 0.0048 - val_loss: 0.5304\n",
            "Epoch 14/50\n",
            "6/6 [==============================] - 7s 1s/step - det_loss: 0.5730 - cls_loss: 0.4379 - box_loss: 0.0027 - reg_l2_loss: 0.0048 - loss: 0.5778 - learning_rate: 0.0258 - gradient_norm: 0.7470 - val_det_loss: 0.5304 - val_cls_loss: 0.4247 - val_box_loss: 0.0021 - val_reg_l2_loss: 0.0048 - val_loss: 0.5352\n",
            "Epoch 15/50\n",
            "6/6 [==============================] - 8s 2s/step - det_loss: 0.5536 - cls_loss: 0.4303 - box_loss: 0.0025 - reg_l2_loss: 0.0048 - loss: 0.5584 - learning_rate: 0.0250 - gradient_norm: 0.7362 - val_det_loss: 0.5281 - val_cls_loss: 0.4056 - val_box_loss: 0.0024 - val_reg_l2_loss: 0.0048 - val_loss: 0.5329\n",
            "Epoch 16/50\n",
            "6/6 [==============================] - 7s 1s/step - det_loss: 0.5520 - cls_loss: 0.4305 - box_loss: 0.0024 - reg_l2_loss: 0.0048 - loss: 0.5568 - learning_rate: 0.0242 - gradient_norm: 0.7690 - val_det_loss: 0.5163 - val_cls_loss: 0.4112 - val_box_loss: 0.0021 - val_reg_l2_loss: 0.0048 - val_loss: 0.5211\n",
            "Epoch 17/50\n",
            "6/6 [==============================] - 7s 1s/step - det_loss: 0.5509 - cls_loss: 0.4255 - box_loss: 0.0025 - reg_l2_loss: 0.0048 - loss: 0.5557 - learning_rate: 0.0233 - gradient_norm: 0.7106 - val_det_loss: 0.4855 - val_cls_loss: 0.4072 - val_box_loss: 0.0016 - val_reg_l2_loss: 0.0048 - val_loss: 0.4903\n",
            "Epoch 18/50\n",
            "6/6 [==============================] - 7s 1s/step - det_loss: 0.5350 - cls_loss: 0.4202 - box_loss: 0.0023 - reg_l2_loss: 0.0048 - loss: 0.5398 - learning_rate: 0.0224 - gradient_norm: 0.7599 - val_det_loss: 0.4850 - val_cls_loss: 0.4004 - val_box_loss: 0.0017 - val_reg_l2_loss: 0.0048 - val_loss: 0.4898\n",
            "Epoch 19/50\n",
            "6/6 [==============================] - 6s 1s/step - det_loss: 0.5327 - cls_loss: 0.4139 - box_loss: 0.0024 - reg_l2_loss: 0.0048 - loss: 0.5375 - learning_rate: 0.0215 - gradient_norm: 0.7122 - val_det_loss: 0.4925 - val_cls_loss: 0.3867 - val_box_loss: 0.0021 - val_reg_l2_loss: 0.0048 - val_loss: 0.4973\n",
            "Epoch 20/50\n",
            "6/6 [==============================] - 8s 2s/step - det_loss: 0.5106 - cls_loss: 0.3992 - box_loss: 0.0022 - reg_l2_loss: 0.0048 - loss: 0.5154 - learning_rate: 0.0206 - gradient_norm: 0.7531 - val_det_loss: 0.4805 - val_cls_loss: 0.4045 - val_box_loss: 0.0015 - val_reg_l2_loss: 0.0048 - val_loss: 0.4853\n",
            "Epoch 21/50\n",
            "6/6 [==============================] - 7s 1s/step - det_loss: 0.5134 - cls_loss: 0.4078 - box_loss: 0.0021 - reg_l2_loss: 0.0048 - loss: 0.5182 - learning_rate: 0.0196 - gradient_norm: 0.7336 - val_det_loss: 0.4578 - val_cls_loss: 0.3811 - val_box_loss: 0.0015 - val_reg_l2_loss: 0.0048 - val_loss: 0.4626\n",
            "Epoch 22/50\n",
            "6/6 [==============================] - 8s 1s/step - det_loss: 0.5093 - cls_loss: 0.4023 - box_loss: 0.0021 - reg_l2_loss: 0.0048 - loss: 0.5141 - learning_rate: 0.0186 - gradient_norm: 0.7794 - val_det_loss: 0.4838 - val_cls_loss: 0.4095 - val_box_loss: 0.0015 - val_reg_l2_loss: 0.0048 - val_loss: 0.4886\n",
            "Epoch 23/50\n",
            "6/6 [==============================] - 7s 1s/step - det_loss: 0.5306 - cls_loss: 0.4202 - box_loss: 0.0022 - reg_l2_loss: 0.0048 - loss: 0.5354 - learning_rate: 0.0176 - gradient_norm: 0.8360 - val_det_loss: 0.4732 - val_cls_loss: 0.3994 - val_box_loss: 0.0015 - val_reg_l2_loss: 0.0048 - val_loss: 0.4780\n",
            "Epoch 24/50\n",
            "6/6 [==============================] - 8s 1s/step - det_loss: 0.5210 - cls_loss: 0.4073 - box_loss: 0.0023 - reg_l2_loss: 0.0048 - loss: 0.5258 - learning_rate: 0.0166 - gradient_norm: 0.9158 - val_det_loss: 0.4761 - val_cls_loss: 0.3999 - val_box_loss: 0.0015 - val_reg_l2_loss: 0.0048 - val_loss: 0.4810\n",
            "Epoch 25/50\n",
            "6/6 [==============================] - 10s 2s/step - det_loss: 0.5159 - cls_loss: 0.4050 - box_loss: 0.0022 - reg_l2_loss: 0.0048 - loss: 0.5208 - learning_rate: 0.0156 - gradient_norm: 0.7538 - val_det_loss: 0.4220 - val_cls_loss: 0.3557 - val_box_loss: 0.0013 - val_reg_l2_loss: 0.0048 - val_loss: 0.4268\n",
            "Epoch 26/50\n",
            "6/6 [==============================] - 6s 1s/step - det_loss: 0.5032 - cls_loss: 0.4002 - box_loss: 0.0021 - reg_l2_loss: 0.0048 - loss: 0.5080 - learning_rate: 0.0146 - gradient_norm: 0.5968 - val_det_loss: 0.4368 - val_cls_loss: 0.3679 - val_box_loss: 0.0014 - val_reg_l2_loss: 0.0048 - val_loss: 0.4417\n",
            "Epoch 27/50\n",
            "6/6 [==============================] - 7s 1s/step - det_loss: 0.5062 - cls_loss: 0.3885 - box_loss: 0.0024 - reg_l2_loss: 0.0048 - loss: 0.5110 - learning_rate: 0.0137 - gradient_norm: 0.7639 - val_det_loss: 0.4392 - val_cls_loss: 0.3664 - val_box_loss: 0.0015 - val_reg_l2_loss: 0.0048 - val_loss: 0.4440\n",
            "Epoch 28/50\n",
            "6/6 [==============================] - 7s 1s/step - det_loss: 0.4796 - cls_loss: 0.3815 - box_loss: 0.0020 - reg_l2_loss: 0.0048 - loss: 0.4844 - learning_rate: 0.0127 - gradient_norm: 0.7241 - val_det_loss: 0.4318 - val_cls_loss: 0.3629 - val_box_loss: 0.0014 - val_reg_l2_loss: 0.0048 - val_loss: 0.4366\n",
            "Epoch 29/50\n",
            "6/6 [==============================] - 6s 1s/step - det_loss: 0.5092 - cls_loss: 0.3916 - box_loss: 0.0024 - reg_l2_loss: 0.0048 - loss: 0.5140 - learning_rate: 0.0117 - gradient_norm: 0.7636 - val_det_loss: 0.4202 - val_cls_loss: 0.3485 - val_box_loss: 0.0014 - val_reg_l2_loss: 0.0048 - val_loss: 0.4250\n",
            "Epoch 30/50\n",
            "6/6 [==============================] - 8s 2s/step - det_loss: 0.4971 - cls_loss: 0.3962 - box_loss: 0.0020 - reg_l2_loss: 0.0048 - loss: 0.5020 - learning_rate: 0.0107 - gradient_norm: 0.7169 - val_det_loss: 0.4147 - val_cls_loss: 0.3447 - val_box_loss: 0.0014 - val_reg_l2_loss: 0.0048 - val_loss: 0.4195\n",
            "Epoch 31/50\n",
            "6/6 [==============================] - 7s 1s/step - det_loss: 0.4807 - cls_loss: 0.3786 - box_loss: 0.0020 - reg_l2_loss: 0.0048 - loss: 0.4855 - learning_rate: 0.0098 - gradient_norm: 0.7900 - val_det_loss: 0.4243 - val_cls_loss: 0.3585 - val_box_loss: 0.0013 - val_reg_l2_loss: 0.0048 - val_loss: 0.4291\n",
            "Epoch 32/50\n",
            "6/6 [==============================] - 7s 1s/step - det_loss: 0.4738 - cls_loss: 0.3680 - box_loss: 0.0021 - reg_l2_loss: 0.0048 - loss: 0.4786 - learning_rate: 0.0089 - gradient_norm: 0.7269 - val_det_loss: 0.4222 - val_cls_loss: 0.3539 - val_box_loss: 0.0014 - val_reg_l2_loss: 0.0048 - val_loss: 0.4271\n",
            "Epoch 33/50\n",
            "6/6 [==============================] - 6s 1s/step - det_loss: 0.4648 - cls_loss: 0.3647 - box_loss: 0.0020 - reg_l2_loss: 0.0048 - loss: 0.4696 - learning_rate: 0.0080 - gradient_norm: 0.7727 - val_det_loss: 0.4092 - val_cls_loss: 0.3457 - val_box_loss: 0.0013 - val_reg_l2_loss: 0.0048 - val_loss: 0.4140\n",
            "Epoch 34/50\n",
            "6/6 [==============================] - 7s 1s/step - det_loss: 0.5083 - cls_loss: 0.3967 - box_loss: 0.0022 - reg_l2_loss: 0.0048 - loss: 0.5132 - learning_rate: 0.0071 - gradient_norm: 0.8230 - val_det_loss: 0.4299 - val_cls_loss: 0.3636 - val_box_loss: 0.0013 - val_reg_l2_loss: 0.0048 - val_loss: 0.4347\n",
            "Epoch 35/50\n",
            "6/6 [==============================] - 8s 2s/step - det_loss: 0.4970 - cls_loss: 0.3892 - box_loss: 0.0022 - reg_l2_loss: 0.0048 - loss: 0.5019 - learning_rate: 0.0063 - gradient_norm: 0.7997 - val_det_loss: 0.4145 - val_cls_loss: 0.3493 - val_box_loss: 0.0013 - val_reg_l2_loss: 0.0048 - val_loss: 0.4193\n",
            "Epoch 36/50\n",
            "6/6 [==============================] - 7s 1s/step - det_loss: 0.4835 - cls_loss: 0.3818 - box_loss: 0.0020 - reg_l2_loss: 0.0048 - loss: 0.4884 - learning_rate: 0.0055 - gradient_norm: 0.7790 - val_det_loss: 0.4109 - val_cls_loss: 0.3483 - val_box_loss: 0.0013 - val_reg_l2_loss: 0.0048 - val_loss: 0.4157\n",
            "Epoch 37/50\n",
            "6/6 [==============================] - 7s 1s/step - det_loss: 0.4952 - cls_loss: 0.3832 - box_loss: 0.0022 - reg_l2_loss: 0.0048 - loss: 0.5000 - learning_rate: 0.0048 - gradient_norm: 0.8303 - val_det_loss: 0.4127 - val_cls_loss: 0.3478 - val_box_loss: 0.0013 - val_reg_l2_loss: 0.0048 - val_loss: 0.4176\n",
            "Epoch 38/50\n",
            "6/6 [==============================] - 7s 1s/step - det_loss: 0.4529 - cls_loss: 0.3594 - box_loss: 0.0019 - reg_l2_loss: 0.0048 - loss: 0.4577 - learning_rate: 0.0041 - gradient_norm: 0.7061 - val_det_loss: 0.4055 - val_cls_loss: 0.3436 - val_box_loss: 0.0012 - val_reg_l2_loss: 0.0048 - val_loss: 0.4103\n",
            "Epoch 39/50\n",
            "6/6 [==============================] - 7s 1s/step - det_loss: 0.4680 - cls_loss: 0.3700 - box_loss: 0.0020 - reg_l2_loss: 0.0048 - loss: 0.4728 - learning_rate: 0.0034 - gradient_norm: 0.7096 - val_det_loss: 0.4094 - val_cls_loss: 0.3455 - val_box_loss: 0.0013 - val_reg_l2_loss: 0.0048 - val_loss: 0.4142\n",
            "Epoch 40/50\n",
            "6/6 [==============================] - 9s 2s/step - det_loss: 0.4707 - cls_loss: 0.3712 - box_loss: 0.0020 - reg_l2_loss: 0.0048 - loss: 0.4755 - learning_rate: 0.0028 - gradient_norm: 0.6807 - val_det_loss: 0.4107 - val_cls_loss: 0.3492 - val_box_loss: 0.0012 - val_reg_l2_loss: 0.0048 - val_loss: 0.4155\n",
            "Epoch 41/50\n",
            "6/6 [==============================] - 6s 1s/step - det_loss: 0.4758 - cls_loss: 0.3730 - box_loss: 0.0021 - reg_l2_loss: 0.0048 - loss: 0.4806 - learning_rate: 0.0023 - gradient_norm: 0.6519 - val_det_loss: 0.4095 - val_cls_loss: 0.3485 - val_box_loss: 0.0012 - val_reg_l2_loss: 0.0048 - val_loss: 0.4144\n",
            "Epoch 42/50\n",
            "6/6 [==============================] - 7s 1s/step - det_loss: 0.4567 - cls_loss: 0.3648 - box_loss: 0.0018 - reg_l2_loss: 0.0048 - loss: 0.4616 - learning_rate: 0.0018 - gradient_norm: 0.6317 - val_det_loss: 0.4115 - val_cls_loss: 0.3483 - val_box_loss: 0.0013 - val_reg_l2_loss: 0.0048 - val_loss: 0.4163\n",
            "Epoch 43/50\n",
            "6/6 [==============================] - 7s 1s/step - det_loss: 0.4664 - cls_loss: 0.3665 - box_loss: 0.0020 - reg_l2_loss: 0.0048 - loss: 0.4712 - learning_rate: 0.0013 - gradient_norm: 0.7066 - val_det_loss: 0.4108 - val_cls_loss: 0.3496 - val_box_loss: 0.0012 - val_reg_l2_loss: 0.0048 - val_loss: 0.4157\n",
            "Epoch 44/50\n",
            "6/6 [==============================] - 6s 1s/step - det_loss: 0.4558 - cls_loss: 0.3609 - box_loss: 0.0019 - reg_l2_loss: 0.0048 - loss: 0.4607 - learning_rate: 9.7242e-04 - gradient_norm: 0.6822 - val_det_loss: 0.4051 - val_cls_loss: 0.3455 - val_box_loss: 0.0012 - val_reg_l2_loss: 0.0048 - val_loss: 0.4099\n",
            "Epoch 45/50\n",
            "6/6 [==============================] - 8s 2s/step - det_loss: 0.4699 - cls_loss: 0.3687 - box_loss: 0.0020 - reg_l2_loss: 0.0048 - loss: 0.4747 - learning_rate: 6.5541e-04 - gradient_norm: 0.6248 - val_det_loss: 0.4018 - val_cls_loss: 0.3426 - val_box_loss: 0.0012 - val_reg_l2_loss: 0.0048 - val_loss: 0.4066\n",
            "Epoch 46/50\n",
            "6/6 [==============================] - 7s 1s/step - det_loss: 0.4703 - cls_loss: 0.3665 - box_loss: 0.0021 - reg_l2_loss: 0.0048 - loss: 0.4752 - learning_rate: 3.9991e-04 - gradient_norm: 0.6005 - val_det_loss: 0.4016 - val_cls_loss: 0.3425 - val_box_loss: 0.0012 - val_reg_l2_loss: 0.0048 - val_loss: 0.4064\n",
            "Epoch 47/50\n",
            "6/6 [==============================] - 7s 1s/step - det_loss: 0.4328 - cls_loss: 0.3461 - box_loss: 0.0017 - reg_l2_loss: 0.0048 - loss: 0.4376 - learning_rate: 2.0698e-04 - gradient_norm: 0.6209 - val_det_loss: 0.4025 - val_cls_loss: 0.3435 - val_box_loss: 0.0012 - val_reg_l2_loss: 0.0048 - val_loss: 0.4074\n",
            "Epoch 48/50\n",
            "6/6 [==============================] - 7s 1s/step - det_loss: 0.4813 - cls_loss: 0.3732 - box_loss: 0.0022 - reg_l2_loss: 0.0048 - loss: 0.4861 - learning_rate: 7.7408e-05 - gradient_norm: 0.6061 - val_det_loss: 0.4030 - val_cls_loss: 0.3438 - val_box_loss: 0.0012 - val_reg_l2_loss: 0.0048 - val_loss: 0.4078\n",
            "Epoch 49/50\n",
            "6/6 [==============================] - 7s 1s/step - det_loss: 0.4612 - cls_loss: 0.3663 - box_loss: 0.0019 - reg_l2_loss: 0.0048 - loss: 0.4660 - learning_rate: 1.1721e-05 - gradient_norm: 0.6262 - val_det_loss: 0.4033 - val_cls_loss: 0.3441 - val_box_loss: 0.0012 - val_reg_l2_loss: 0.0048 - val_loss: 0.4082\n",
            "Epoch 50/50\n",
            "6/6 [==============================] - 8s 2s/step - det_loss: 0.5009 - cls_loss: 0.3846 - box_loss: 0.0023 - reg_l2_loss: 0.0048 - loss: 0.5058 - learning_rate: 1.0193e-05 - gradient_norm: 0.6728 - val_det_loss: 0.4029 - val_cls_loss: 0.3439 - val_box_loss: 0.0012 - val_reg_l2_loss: 0.0048 - val_loss: 0.4078\n"
          ]
        }
      ]
    },
    {
      "cell_type": "code",
      "source": [
        "model1.summary()"
      ],
      "metadata": {
        "colab": {
          "base_uri": "https://localhost:8080/"
        },
        "id": "orephQh4KVwN",
        "outputId": "88e4cd03-b84a-4fac-df9c-e4a58450ec7a"
      },
      "execution_count": null,
      "outputs": [
        {
          "output_type": "stream",
          "name": "stdout",
          "text": [
            "Model: \"\"\n",
            "_________________________________________________________________\n",
            " Layer (type)                Output Shape              Param #   \n",
            "=================================================================\n",
            " keras_layer_1 (KerasLayer)  multiple                  4234512   \n",
            "                                                                 \n",
            " class_net/class-predict (Se  multiple                 3195      \n",
            " parableConv2D)                                                  \n",
            "                                                                 \n",
            " box_net/box-predict (Separa  multiple                 3996      \n",
            " bleConv2D)                                                      \n",
            "                                                                 \n",
            "=================================================================\n",
            "Total params: 4,241,703\n",
            "Trainable params: 4,178,631\n",
            "Non-trainable params: 63,072\n",
            "_________________________________________________________________\n"
          ]
        }
      ]
    },
    {
      "cell_type": "markdown",
      "source": [
        "**EfficientDetLite2**"
      ],
      "metadata": {
        "id": "_zACzenaOlc3"
      }
    },
    {
      "cell_type": "code",
      "source": [
        "model2 = object_detector.create(\n",
        "    train_data=train_data,\n",
        "    model_spec=spec2,\n",
        "    epochs=50,\n",
        "    batch_size=25,\n",
        "    train_whole_model=False,\n",
        "    validation_data=val_data)"
      ],
      "metadata": {
        "colab": {
          "base_uri": "https://localhost:8080/"
        },
        "id": "rEnbTrwIOp-u",
        "outputId": "728446e9-9f81-4157-ad5f-e2ee5810c964"
      },
      "execution_count": null,
      "outputs": [
        {
          "output_type": "stream",
          "name": "stdout",
          "text": [
            "Epoch 1/50\n",
            "6/6 [==============================] - 35s 2s/step - det_loss: 1.7627 - cls_loss: 1.1673 - box_loss: 0.0119 - reg_l2_loss: 0.0050 - loss: 1.7677 - learning_rate: 0.0191 - gradient_norm: 0.8246 - val_det_loss: 1.6613 - val_cls_loss: 1.1465 - val_box_loss: 0.0103 - val_reg_l2_loss: 0.0050 - val_loss: 1.6663\n",
            "Epoch 2/50\n",
            "6/6 [==============================] - 7s 1s/step - det_loss: 1.5686 - cls_loss: 1.1234 - box_loss: 0.0089 - reg_l2_loss: 0.0050 - loss: 1.5736 - learning_rate: 0.0312 - gradient_norm: 0.7242 - val_det_loss: 1.4309 - val_cls_loss: 1.0671 - val_box_loss: 0.0073 - val_reg_l2_loss: 0.0050 - val_loss: 1.4359\n",
            "Epoch 3/50\n",
            "6/6 [==============================] - 8s 1s/step - det_loss: 1.3170 - cls_loss: 0.9851 - box_loss: 0.0066 - reg_l2_loss: 0.0050 - loss: 1.3220 - learning_rate: 0.0311 - gradient_norm: 0.8377 - val_det_loss: 1.1415 - val_cls_loss: 0.8552 - val_box_loss: 0.0057 - val_reg_l2_loss: 0.0050 - val_loss: 1.1465\n",
            "Epoch 4/50\n",
            "6/6 [==============================] - 8s 1s/step - det_loss: 1.0713 - cls_loss: 0.8073 - box_loss: 0.0053 - reg_l2_loss: 0.0050 - loss: 1.0763 - learning_rate: 0.0309 - gradient_norm: 1.1968 - val_det_loss: 0.8889 - val_cls_loss: 0.6604 - val_box_loss: 0.0046 - val_reg_l2_loss: 0.0050 - val_loss: 0.8939\n",
            "Epoch 5/50\n",
            "6/6 [==============================] - 14s 3s/step - det_loss: 0.9261 - cls_loss: 0.7046 - box_loss: 0.0044 - reg_l2_loss: 0.0050 - loss: 0.9311 - learning_rate: 0.0306 - gradient_norm: 1.1266 - val_det_loss: 0.7833 - val_cls_loss: 0.5852 - val_box_loss: 0.0040 - val_reg_l2_loss: 0.0050 - val_loss: 0.7883\n",
            "Epoch 6/50\n",
            "6/6 [==============================] - 8s 1s/step - det_loss: 0.8014 - cls_loss: 0.6060 - box_loss: 0.0039 - reg_l2_loss: 0.0050 - loss: 0.8064 - learning_rate: 0.0303 - gradient_norm: 1.0968 - val_det_loss: 0.7683 - val_cls_loss: 0.5975 - val_box_loss: 0.0034 - val_reg_l2_loss: 0.0051 - val_loss: 0.7734\n",
            "Epoch 7/50\n",
            "6/6 [==============================] - 8s 1s/step - det_loss: 0.6988 - cls_loss: 0.5369 - box_loss: 0.0032 - reg_l2_loss: 0.0051 - loss: 0.7039 - learning_rate: 0.0299 - gradient_norm: 0.8096 - val_det_loss: 0.6669 - val_cls_loss: 0.5089 - val_box_loss: 0.0032 - val_reg_l2_loss: 0.0051 - val_loss: 0.6720\n",
            "Epoch 8/50\n",
            "6/6 [==============================] - 10s 2s/step - det_loss: 0.6554 - cls_loss: 0.5031 - box_loss: 0.0030 - reg_l2_loss: 0.0051 - loss: 0.6605 - learning_rate: 0.0295 - gradient_norm: 0.7945 - val_det_loss: 0.6542 - val_cls_loss: 0.5054 - val_box_loss: 0.0030 - val_reg_l2_loss: 0.0051 - val_loss: 0.6593\n",
            "Epoch 9/50\n",
            "6/6 [==============================] - 8s 1s/step - det_loss: 0.6061 - cls_loss: 0.4707 - box_loss: 0.0027 - reg_l2_loss: 0.0051 - loss: 0.6112 - learning_rate: 0.0290 - gradient_norm: 0.6771 - val_det_loss: 0.7107 - val_cls_loss: 0.5606 - val_box_loss: 0.0030 - val_reg_l2_loss: 0.0051 - val_loss: 0.7158\n",
            "Epoch 10/50\n",
            "6/6 [==============================] - 9s 2s/step - det_loss: 0.5870 - cls_loss: 0.4574 - box_loss: 0.0026 - reg_l2_loss: 0.0051 - loss: 0.5921 - learning_rate: 0.0285 - gradient_norm: 0.8137 - val_det_loss: 0.5675 - val_cls_loss: 0.4330 - val_box_loss: 0.0027 - val_reg_l2_loss: 0.0051 - val_loss: 0.5726\n",
            "Epoch 11/50\n",
            "6/6 [==============================] - 8s 1s/step - det_loss: 0.6117 - cls_loss: 0.4777 - box_loss: 0.0027 - reg_l2_loss: 0.0051 - loss: 0.6168 - learning_rate: 0.0279 - gradient_norm: 0.9318 - val_det_loss: 0.5982 - val_cls_loss: 0.4685 - val_box_loss: 0.0026 - val_reg_l2_loss: 0.0051 - val_loss: 0.6033\n",
            "Epoch 12/50\n",
            "6/6 [==============================] - 8s 1s/step - det_loss: 0.5503 - cls_loss: 0.4388 - box_loss: 0.0022 - reg_l2_loss: 0.0051 - loss: 0.5554 - learning_rate: 0.0272 - gradient_norm: 0.6447 - val_det_loss: 0.5576 - val_cls_loss: 0.4693 - val_box_loss: 0.0018 - val_reg_l2_loss: 0.0051 - val_loss: 0.5627\n",
            "Epoch 13/50\n",
            "6/6 [==============================] - 8s 1s/step - det_loss: 0.5377 - cls_loss: 0.4276 - box_loss: 0.0022 - reg_l2_loss: 0.0051 - loss: 0.5429 - learning_rate: 0.0265 - gradient_norm: 0.6817 - val_det_loss: 0.5145 - val_cls_loss: 0.4030 - val_box_loss: 0.0022 - val_reg_l2_loss: 0.0051 - val_loss: 0.5196\n",
            "Epoch 14/50\n",
            "6/6 [==============================] - 8s 1s/step - det_loss: 0.5042 - cls_loss: 0.4053 - box_loss: 0.0020 - reg_l2_loss: 0.0051 - loss: 0.5094 - learning_rate: 0.0258 - gradient_norm: 0.7127 - val_det_loss: 0.5067 - val_cls_loss: 0.4169 - val_box_loss: 0.0018 - val_reg_l2_loss: 0.0051 - val_loss: 0.5118\n",
            "Epoch 15/50\n",
            "6/6 [==============================] - 9s 2s/step - det_loss: 0.5161 - cls_loss: 0.4096 - box_loss: 0.0021 - reg_l2_loss: 0.0051 - loss: 0.5212 - learning_rate: 0.0250 - gradient_norm: 0.7596 - val_det_loss: 0.4625 - val_cls_loss: 0.3810 - val_box_loss: 0.0016 - val_reg_l2_loss: 0.0051 - val_loss: 0.4677\n",
            "Epoch 16/50\n",
            "6/6 [==============================] - 9s 2s/step - det_loss: 0.5010 - cls_loss: 0.3974 - box_loss: 0.0021 - reg_l2_loss: 0.0051 - loss: 0.5061 - learning_rate: 0.0242 - gradient_norm: 0.7603 - val_det_loss: 0.4542 - val_cls_loss: 0.3684 - val_box_loss: 0.0017 - val_reg_l2_loss: 0.0051 - val_loss: 0.4593\n",
            "Epoch 17/50\n",
            "6/6 [==============================] - 8s 1s/step - det_loss: 0.5117 - cls_loss: 0.4077 - box_loss: 0.0021 - reg_l2_loss: 0.0051 - loss: 0.5168 - learning_rate: 0.0233 - gradient_norm: 0.8845 - val_det_loss: 0.4351 - val_cls_loss: 0.3625 - val_box_loss: 0.0015 - val_reg_l2_loss: 0.0051 - val_loss: 0.4402\n",
            "Epoch 18/50\n",
            "6/6 [==============================] - 8s 1s/step - det_loss: 0.4785 - cls_loss: 0.3817 - box_loss: 0.0019 - reg_l2_loss: 0.0051 - loss: 0.4837 - learning_rate: 0.0224 - gradient_norm: 0.7597 - val_det_loss: 0.4257 - val_cls_loss: 0.3648 - val_box_loss: 0.0012 - val_reg_l2_loss: 0.0051 - val_loss: 0.4309\n",
            "Epoch 19/50\n",
            "6/6 [==============================] - 8s 1s/step - det_loss: 0.4705 - cls_loss: 0.3798 - box_loss: 0.0018 - reg_l2_loss: 0.0051 - loss: 0.4756 - learning_rate: 0.0215 - gradient_norm: 0.7865 - val_det_loss: 0.4180 - val_cls_loss: 0.3602 - val_box_loss: 0.0012 - val_reg_l2_loss: 0.0051 - val_loss: 0.4231\n",
            "Epoch 20/50\n",
            "6/6 [==============================] - 9s 2s/step - det_loss: 0.5024 - cls_loss: 0.3946 - box_loss: 0.0022 - reg_l2_loss: 0.0051 - loss: 0.5076 - learning_rate: 0.0206 - gradient_norm: 0.8213 - val_det_loss: 0.4198 - val_cls_loss: 0.3576 - val_box_loss: 0.0012 - val_reg_l2_loss: 0.0051 - val_loss: 0.4250\n",
            "Epoch 21/50\n",
            "6/6 [==============================] - 10s 2s/step - det_loss: 0.4894 - cls_loss: 0.3850 - box_loss: 0.0021 - reg_l2_loss: 0.0051 - loss: 0.4946 - learning_rate: 0.0196 - gradient_norm: 0.8051 - val_det_loss: 0.4329 - val_cls_loss: 0.3689 - val_box_loss: 0.0013 - val_reg_l2_loss: 0.0052 - val_loss: 0.4381\n",
            "Epoch 22/50\n",
            "6/6 [==============================] - 8s 1s/step - det_loss: 0.4651 - cls_loss: 0.3734 - box_loss: 0.0018 - reg_l2_loss: 0.0052 - loss: 0.4703 - learning_rate: 0.0186 - gradient_norm: 0.7228 - val_det_loss: 0.4051 - val_cls_loss: 0.3460 - val_box_loss: 0.0012 - val_reg_l2_loss: 0.0052 - val_loss: 0.4103\n",
            "Epoch 23/50\n",
            "6/6 [==============================] - 9s 2s/step - det_loss: 0.4557 - cls_loss: 0.3668 - box_loss: 0.0018 - reg_l2_loss: 0.0052 - loss: 0.4609 - learning_rate: 0.0176 - gradient_norm: 0.6852 - val_det_loss: 0.4102 - val_cls_loss: 0.3552 - val_box_loss: 0.0011 - val_reg_l2_loss: 0.0052 - val_loss: 0.4153\n",
            "Epoch 24/50\n",
            "6/6 [==============================] - 8s 1s/step - det_loss: 0.4792 - cls_loss: 0.3833 - box_loss: 0.0019 - reg_l2_loss: 0.0052 - loss: 0.4843 - learning_rate: 0.0166 - gradient_norm: 0.7355 - val_det_loss: 0.4151 - val_cls_loss: 0.3539 - val_box_loss: 0.0012 - val_reg_l2_loss: 0.0052 - val_loss: 0.4203\n",
            "Epoch 25/50\n",
            "6/6 [==============================] - 9s 2s/step - det_loss: 0.4727 - cls_loss: 0.3754 - box_loss: 0.0019 - reg_l2_loss: 0.0052 - loss: 0.4778 - learning_rate: 0.0156 - gradient_norm: 0.7903 - val_det_loss: 0.3982 - val_cls_loss: 0.3456 - val_box_loss: 0.0011 - val_reg_l2_loss: 0.0052 - val_loss: 0.4033\n",
            "Epoch 26/50\n",
            "6/6 [==============================] - 8s 1s/step - det_loss: 0.4636 - cls_loss: 0.3714 - box_loss: 0.0018 - reg_l2_loss: 0.0052 - loss: 0.4688 - learning_rate: 0.0146 - gradient_norm: 0.7584 - val_det_loss: 0.4002 - val_cls_loss: 0.3477 - val_box_loss: 0.0010 - val_reg_l2_loss: 0.0052 - val_loss: 0.4054\n",
            "Epoch 27/50\n",
            "6/6 [==============================] - 8s 1s/step - det_loss: 0.4508 - cls_loss: 0.3612 - box_loss: 0.0018 - reg_l2_loss: 0.0052 - loss: 0.4560 - learning_rate: 0.0137 - gradient_norm: 0.8646 - val_det_loss: 0.3987 - val_cls_loss: 0.3451 - val_box_loss: 0.0011 - val_reg_l2_loss: 0.0052 - val_loss: 0.4039\n",
            "Epoch 28/50\n",
            "6/6 [==============================] - 8s 1s/step - det_loss: 0.4418 - cls_loss: 0.3559 - box_loss: 0.0017 - reg_l2_loss: 0.0052 - loss: 0.4470 - learning_rate: 0.0127 - gradient_norm: 0.7011 - val_det_loss: 0.3884 - val_cls_loss: 0.3396 - val_box_loss: 9.7537e-04 - val_reg_l2_loss: 0.0052 - val_loss: 0.3935\n",
            "Epoch 29/50\n",
            "6/6 [==============================] - 8s 1s/step - det_loss: 0.4509 - cls_loss: 0.3655 - box_loss: 0.0017 - reg_l2_loss: 0.0052 - loss: 0.4561 - learning_rate: 0.0117 - gradient_norm: 0.8032 - val_det_loss: 0.4069 - val_cls_loss: 0.3544 - val_box_loss: 0.0010 - val_reg_l2_loss: 0.0052 - val_loss: 0.4121\n",
            "Epoch 30/50\n",
            "6/6 [==============================] - 9s 2s/step - det_loss: 0.4636 - cls_loss: 0.3669 - box_loss: 0.0019 - reg_l2_loss: 0.0052 - loss: 0.4688 - learning_rate: 0.0107 - gradient_norm: 0.7318 - val_det_loss: 0.4016 - val_cls_loss: 0.3509 - val_box_loss: 0.0010 - val_reg_l2_loss: 0.0052 - val_loss: 0.4068\n",
            "Epoch 31/50\n",
            "6/6 [==============================] - 9s 2s/step - det_loss: 0.4202 - cls_loss: 0.3420 - box_loss: 0.0016 - reg_l2_loss: 0.0052 - loss: 0.4254 - learning_rate: 0.0098 - gradient_norm: 0.7233 - val_det_loss: 0.4021 - val_cls_loss: 0.3521 - val_box_loss: 0.0010 - val_reg_l2_loss: 0.0052 - val_loss: 0.4073\n",
            "Epoch 32/50\n",
            "6/6 [==============================] - 8s 1s/step - det_loss: 0.4517 - cls_loss: 0.3653 - box_loss: 0.0017 - reg_l2_loss: 0.0052 - loss: 0.4568 - learning_rate: 0.0089 - gradient_norm: 0.6277 - val_det_loss: 0.4165 - val_cls_loss: 0.3658 - val_box_loss: 0.0010 - val_reg_l2_loss: 0.0052 - val_loss: 0.4217\n",
            "Epoch 33/50\n",
            "6/6 [==============================] - 8s 1s/step - det_loss: 0.4457 - cls_loss: 0.3625 - box_loss: 0.0017 - reg_l2_loss: 0.0052 - loss: 0.4509 - learning_rate: 0.0080 - gradient_norm: 0.6379 - val_det_loss: 0.3983 - val_cls_loss: 0.3471 - val_box_loss: 0.0010 - val_reg_l2_loss: 0.0052 - val_loss: 0.4035\n",
            "Epoch 34/50\n",
            "6/6 [==============================] - 8s 1s/step - det_loss: 0.4425 - cls_loss: 0.3569 - box_loss: 0.0017 - reg_l2_loss: 0.0052 - loss: 0.4477 - learning_rate: 0.0071 - gradient_norm: 0.6994 - val_det_loss: 0.3990 - val_cls_loss: 0.3487 - val_box_loss: 0.0010 - val_reg_l2_loss: 0.0052 - val_loss: 0.4042\n",
            "Epoch 35/50\n",
            "6/6 [==============================] - 9s 2s/step - det_loss: 0.4400 - cls_loss: 0.3554 - box_loss: 0.0017 - reg_l2_loss: 0.0052 - loss: 0.4452 - learning_rate: 0.0063 - gradient_norm: 0.6835 - val_det_loss: 0.3923 - val_cls_loss: 0.3421 - val_box_loss: 0.0010 - val_reg_l2_loss: 0.0052 - val_loss: 0.3975\n",
            "Epoch 36/50\n",
            "6/6 [==============================] - 8s 1s/step - det_loss: 0.4020 - cls_loss: 0.3297 - box_loss: 0.0014 - reg_l2_loss: 0.0052 - loss: 0.4072 - learning_rate: 0.0055 - gradient_norm: 0.6581 - val_det_loss: 0.4017 - val_cls_loss: 0.3499 - val_box_loss: 0.0010 - val_reg_l2_loss: 0.0052 - val_loss: 0.4069\n",
            "Epoch 37/50\n",
            "6/6 [==============================] - 8s 1s/step - det_loss: 0.4348 - cls_loss: 0.3473 - box_loss: 0.0018 - reg_l2_loss: 0.0052 - loss: 0.4400 - learning_rate: 0.0048 - gradient_norm: 0.7258 - val_det_loss: 0.3962 - val_cls_loss: 0.3468 - val_box_loss: 9.8708e-04 - val_reg_l2_loss: 0.0052 - val_loss: 0.4014\n",
            "Epoch 38/50\n",
            "6/6 [==============================] - 9s 2s/step - det_loss: 0.4483 - cls_loss: 0.3543 - box_loss: 0.0019 - reg_l2_loss: 0.0052 - loss: 0.4535 - learning_rate: 0.0041 - gradient_norm: 0.6559 - val_det_loss: 0.3929 - val_cls_loss: 0.3421 - val_box_loss: 0.0010 - val_reg_l2_loss: 0.0052 - val_loss: 0.3980\n",
            "Epoch 39/50\n",
            "6/6 [==============================] - 8s 1s/step - det_loss: 0.4296 - cls_loss: 0.3436 - box_loss: 0.0017 - reg_l2_loss: 0.0052 - loss: 0.4348 - learning_rate: 0.0034 - gradient_norm: 0.7676 - val_det_loss: 0.3938 - val_cls_loss: 0.3409 - val_box_loss: 0.0011 - val_reg_l2_loss: 0.0052 - val_loss: 0.3990\n",
            "Epoch 40/50\n",
            "6/6 [==============================] - 9s 2s/step - det_loss: 0.4144 - cls_loss: 0.3305 - box_loss: 0.0017 - reg_l2_loss: 0.0052 - loss: 0.4196 - learning_rate: 0.0028 - gradient_norm: 0.6332 - val_det_loss: 0.3948 - val_cls_loss: 0.3452 - val_box_loss: 9.9148e-04 - val_reg_l2_loss: 0.0052 - val_loss: 0.4000\n",
            "Epoch 41/50\n",
            "6/6 [==============================] - 8s 1s/step - det_loss: 0.4421 - cls_loss: 0.3627 - box_loss: 0.0016 - reg_l2_loss: 0.0052 - loss: 0.4472 - learning_rate: 0.0023 - gradient_norm: 0.6738 - val_det_loss: 0.3957 - val_cls_loss: 0.3466 - val_box_loss: 9.8198e-04 - val_reg_l2_loss: 0.0052 - val_loss: 0.4008\n",
            "Epoch 42/50\n",
            "6/6 [==============================] - 8s 1s/step - det_loss: 0.4343 - cls_loss: 0.3520 - box_loss: 0.0016 - reg_l2_loss: 0.0052 - loss: 0.4395 - learning_rate: 0.0018 - gradient_norm: 0.6947 - val_det_loss: 0.3938 - val_cls_loss: 0.3439 - val_box_loss: 9.9848e-04 - val_reg_l2_loss: 0.0052 - val_loss: 0.3990\n",
            "Epoch 43/50\n",
            "6/6 [==============================] - 8s 1s/step - det_loss: 0.4242 - cls_loss: 0.3430 - box_loss: 0.0016 - reg_l2_loss: 0.0052 - loss: 0.4294 - learning_rate: 0.0013 - gradient_norm: 0.6448 - val_det_loss: 0.3920 - val_cls_loss: 0.3396 - val_box_loss: 0.0010 - val_reg_l2_loss: 0.0052 - val_loss: 0.3972\n",
            "Epoch 44/50\n",
            "6/6 [==============================] - 8s 2s/step - det_loss: 0.4293 - cls_loss: 0.3422 - box_loss: 0.0017 - reg_l2_loss: 0.0052 - loss: 0.4345 - learning_rate: 9.7242e-04 - gradient_norm: 0.7612 - val_det_loss: 0.3916 - val_cls_loss: 0.3403 - val_box_loss: 0.0010 - val_reg_l2_loss: 0.0052 - val_loss: 0.3968\n",
            "Epoch 45/50\n",
            "6/6 [==============================] - 12s 2s/step - det_loss: 0.4364 - cls_loss: 0.3512 - box_loss: 0.0017 - reg_l2_loss: 0.0052 - loss: 0.4416 - learning_rate: 6.5541e-04 - gradient_norm: 0.6445 - val_det_loss: 0.3925 - val_cls_loss: 0.3424 - val_box_loss: 0.0010 - val_reg_l2_loss: 0.0052 - val_loss: 0.3977\n",
            "Epoch 46/50\n",
            "6/6 [==============================] - 9s 2s/step - det_loss: 0.4353 - cls_loss: 0.3469 - box_loss: 0.0018 - reg_l2_loss: 0.0052 - loss: 0.4405 - learning_rate: 3.9991e-04 - gradient_norm: 0.7115 - val_det_loss: 0.3932 - val_cls_loss: 0.3433 - val_box_loss: 9.9706e-04 - val_reg_l2_loss: 0.0052 - val_loss: 0.3984\n",
            "Epoch 47/50\n",
            "6/6 [==============================] - 8s 1s/step - det_loss: 0.4332 - cls_loss: 0.3516 - box_loss: 0.0016 - reg_l2_loss: 0.0052 - loss: 0.4384 - learning_rate: 2.0698e-04 - gradient_norm: 0.6046 - val_det_loss: 0.3936 - val_cls_loss: 0.3438 - val_box_loss: 9.9676e-04 - val_reg_l2_loss: 0.0052 - val_loss: 0.3988\n",
            "Epoch 48/50\n",
            "6/6 [==============================] - 8s 1s/step - det_loss: 0.4244 - cls_loss: 0.3479 - box_loss: 0.0015 - reg_l2_loss: 0.0052 - loss: 0.4296 - learning_rate: 7.7408e-05 - gradient_norm: 0.6633 - val_det_loss: 0.3938 - val_cls_loss: 0.3440 - val_box_loss: 9.9714e-04 - val_reg_l2_loss: 0.0052 - val_loss: 0.3990\n",
            "Epoch 49/50\n",
            "6/6 [==============================] - 8s 1s/step - det_loss: 0.4165 - cls_loss: 0.3405 - box_loss: 0.0015 - reg_l2_loss: 0.0052 - loss: 0.4217 - learning_rate: 1.1721e-05 - gradient_norm: 0.6184 - val_det_loss: 0.3942 - val_cls_loss: 0.3442 - val_box_loss: 9.9889e-04 - val_reg_l2_loss: 0.0052 - val_loss: 0.3994\n",
            "Epoch 50/50\n",
            "6/6 [==============================] - 9s 2s/step - det_loss: 0.4204 - cls_loss: 0.3451 - box_loss: 0.0015 - reg_l2_loss: 0.0052 - loss: 0.4255 - learning_rate: 1.0193e-05 - gradient_norm: 0.6448 - val_det_loss: 0.3943 - val_cls_loss: 0.3442 - val_box_loss: 0.0010 - val_reg_l2_loss: 0.0052 - val_loss: 0.3995\n"
          ]
        }
      ]
    },
    {
      "cell_type": "code",
      "source": [
        "model2.summary()"
      ],
      "metadata": {
        "colab": {
          "base_uri": "https://localhost:8080/"
        },
        "id": "hZ05utTvOu5a",
        "outputId": "290cb9d0-cc2b-4366-8a90-cc4191a76e3c"
      },
      "execution_count": null,
      "outputs": [
        {
          "output_type": "stream",
          "name": "stdout",
          "text": [
            "Model: \"\"\n",
            "_________________________________________________________________\n",
            " Layer (type)                Output Shape              Param #   \n",
            "=================================================================\n",
            " keras_layer_2 (KerasLayer)  multiple                  5227280   \n",
            "                                                                 \n",
            " class_net/class-predict (Se  multiple                 4059      \n",
            " parableConv2D)                                                  \n",
            "                                                                 \n",
            " box_net/box-predict (Separa  multiple                 5076      \n",
            " bleConv2D)                                                      \n",
            "                                                                 \n",
            "=================================================================\n",
            "Total params: 5,236,415\n",
            "Trainable params: 5,163,855\n",
            "Non-trainable params: 72,560\n",
            "_________________________________________________________________\n"
          ]
        }
      ]
    },
    {
      "cell_type": "markdown",
      "source": [
        "**EfficientDetLite3**"
      ],
      "metadata": {
        "id": "qhfBLVU-GSSp"
      }
    },
    {
      "cell_type": "code",
      "source": [
        "model3 = object_detector.create(\n",
        "    train_data=train_data,\n",
        "    model_spec=spec3,\n",
        "    epochs=50,\n",
        "    batch_size=25,\n",
        "    train_whole_model=False,\n",
        "    validation_data=val_data)"
      ],
      "metadata": {
        "colab": {
          "base_uri": "https://localhost:8080/"
        },
        "id": "2vL7yLt5GVpA",
        "outputId": "af2fd56c-52d3-4e49-b50b-e86b7b50e954"
      },
      "execution_count": null,
      "outputs": [
        {
          "output_type": "stream",
          "name": "stdout",
          "text": [
            "Epoch 1/50\n",
            "6/6 [==============================] - 35s 2s/step - det_loss: 1.7403 - cls_loss: 1.1587 - box_loss: 0.0116 - reg_l2_loss: 0.0065 - loss: 1.7468 - learning_rate: 0.0191 - gradient_norm: 0.7970 - val_det_loss: 1.6407 - val_cls_loss: 1.1404 - val_box_loss: 0.0100 - val_reg_l2_loss: 0.0065 - val_loss: 1.6472\n",
            "Epoch 2/50\n",
            "6/6 [==============================] - 10s 2s/step - det_loss: 1.5447 - cls_loss: 1.1141 - box_loss: 0.0086 - reg_l2_loss: 0.0065 - loss: 1.5512 - learning_rate: 0.0312 - gradient_norm: 0.7299 - val_det_loss: 1.3991 - val_cls_loss: 1.0477 - val_box_loss: 0.0070 - val_reg_l2_loss: 0.0065 - val_loss: 1.4056\n",
            "Epoch 3/50\n",
            "6/6 [==============================] - 10s 2s/step - det_loss: 1.2648 - cls_loss: 0.9424 - box_loss: 0.0064 - reg_l2_loss: 0.0065 - loss: 1.2714 - learning_rate: 0.0311 - gradient_norm: 0.9728 - val_det_loss: 0.9910 - val_cls_loss: 0.7360 - val_box_loss: 0.0051 - val_reg_l2_loss: 0.0066 - val_loss: 0.9975\n",
            "Epoch 4/50\n",
            "6/6 [==============================] - 10s 2s/step - det_loss: 0.9497 - cls_loss: 0.7193 - box_loss: 0.0046 - reg_l2_loss: 0.0066 - loss: 0.9562 - learning_rate: 0.0309 - gradient_norm: 1.2561 - val_det_loss: 0.8178 - val_cls_loss: 0.6257 - val_box_loss: 0.0038 - val_reg_l2_loss: 0.0066 - val_loss: 0.8244\n",
            "Epoch 5/50\n",
            "6/6 [==============================] - 17s 3s/step - det_loss: 0.8298 - cls_loss: 0.6390 - box_loss: 0.0038 - reg_l2_loss: 0.0066 - loss: 0.8364 - learning_rate: 0.0306 - gradient_norm: 0.9861 - val_det_loss: 0.8041 - val_cls_loss: 0.6441 - val_box_loss: 0.0032 - val_reg_l2_loss: 0.0066 - val_loss: 0.8107\n",
            "Epoch 6/50\n",
            "6/6 [==============================] - 9s 2s/step - det_loss: 0.7097 - cls_loss: 0.5463 - box_loss: 0.0033 - reg_l2_loss: 0.0066 - loss: 0.7163 - learning_rate: 0.0303 - gradient_norm: 0.7855 - val_det_loss: 0.7739 - val_cls_loss: 0.6141 - val_box_loss: 0.0032 - val_reg_l2_loss: 0.0066 - val_loss: 0.7805\n",
            "Epoch 7/50\n",
            "6/6 [==============================] - 10s 2s/step - det_loss: 0.6093 - cls_loss: 0.4903 - box_loss: 0.0024 - reg_l2_loss: 0.0066 - loss: 0.6159 - learning_rate: 0.0299 - gradient_norm: 0.7724 - val_det_loss: 0.7633 - val_cls_loss: 0.6389 - val_box_loss: 0.0025 - val_reg_l2_loss: 0.0066 - val_loss: 0.7699\n",
            "Epoch 8/50\n",
            "6/6 [==============================] - 10s 2s/step - det_loss: 0.5720 - cls_loss: 0.4623 - box_loss: 0.0022 - reg_l2_loss: 0.0066 - loss: 0.5786 - learning_rate: 0.0295 - gradient_norm: 0.7193 - val_det_loss: 0.6661 - val_cls_loss: 0.5319 - val_box_loss: 0.0027 - val_reg_l2_loss: 0.0066 - val_loss: 0.6727\n",
            "Epoch 9/50\n",
            "6/6 [==============================] - 10s 2s/step - det_loss: 0.6061 - cls_loss: 0.4788 - box_loss: 0.0025 - reg_l2_loss: 0.0066 - loss: 0.6127 - learning_rate: 0.0290 - gradient_norm: 0.8615 - val_det_loss: 0.6709 - val_cls_loss: 0.5574 - val_box_loss: 0.0023 - val_reg_l2_loss: 0.0066 - val_loss: 0.6775\n",
            "Epoch 10/50\n",
            "6/6 [==============================] - 13s 2s/step - det_loss: 0.5475 - cls_loss: 0.4374 - box_loss: 0.0022 - reg_l2_loss: 0.0066 - loss: 0.5542 - learning_rate: 0.0285 - gradient_norm: 0.7793 - val_det_loss: 0.6831 - val_cls_loss: 0.5557 - val_box_loss: 0.0025 - val_reg_l2_loss: 0.0066 - val_loss: 0.6897\n",
            "Epoch 11/50\n",
            "6/6 [==============================] - 10s 2s/step - det_loss: 0.5202 - cls_loss: 0.4226 - box_loss: 0.0020 - reg_l2_loss: 0.0067 - loss: 0.5268 - learning_rate: 0.0279 - gradient_norm: 0.7875 - val_det_loss: 0.6257 - val_cls_loss: 0.4950 - val_box_loss: 0.0026 - val_reg_l2_loss: 0.0067 - val_loss: 0.6323\n",
            "Epoch 12/50\n",
            "6/6 [==============================] - 10s 2s/step - det_loss: 0.5048 - cls_loss: 0.4126 - box_loss: 0.0018 - reg_l2_loss: 0.0067 - loss: 0.5115 - learning_rate: 0.0272 - gradient_norm: 0.7437 - val_det_loss: 0.5727 - val_cls_loss: 0.4497 - val_box_loss: 0.0025 - val_reg_l2_loss: 0.0067 - val_loss: 0.5794\n",
            "Epoch 13/50\n",
            "6/6 [==============================] - 10s 2s/step - det_loss: 0.4887 - cls_loss: 0.3970 - box_loss: 0.0018 - reg_l2_loss: 0.0067 - loss: 0.4953 - learning_rate: 0.0265 - gradient_norm: 0.7463 - val_det_loss: 0.5082 - val_cls_loss: 0.4189 - val_box_loss: 0.0018 - val_reg_l2_loss: 0.0067 - val_loss: 0.5149\n",
            "Epoch 14/50\n",
            "6/6 [==============================] - 10s 2s/step - det_loss: 0.4880 - cls_loss: 0.4006 - box_loss: 0.0017 - reg_l2_loss: 0.0067 - loss: 0.4947 - learning_rate: 0.0258 - gradient_norm: 0.7682 - val_det_loss: 0.4987 - val_cls_loss: 0.4181 - val_box_loss: 0.0016 - val_reg_l2_loss: 0.0067 - val_loss: 0.5054\n",
            "Epoch 15/50\n",
            "6/6 [==============================] - 12s 2s/step - det_loss: 0.4563 - cls_loss: 0.3694 - box_loss: 0.0017 - reg_l2_loss: 0.0067 - loss: 0.4630 - learning_rate: 0.0250 - gradient_norm: 0.7697 - val_det_loss: 0.4502 - val_cls_loss: 0.3761 - val_box_loss: 0.0015 - val_reg_l2_loss: 0.0067 - val_loss: 0.4569\n",
            "Epoch 16/50\n",
            "6/6 [==============================] - 10s 2s/step - det_loss: 0.4571 - cls_loss: 0.3768 - box_loss: 0.0016 - reg_l2_loss: 0.0067 - loss: 0.4638 - learning_rate: 0.0242 - gradient_norm: 0.8119 - val_det_loss: 0.4509 - val_cls_loss: 0.3832 - val_box_loss: 0.0014 - val_reg_l2_loss: 0.0067 - val_loss: 0.4576\n",
            "Epoch 17/50\n",
            "6/6 [==============================] - 10s 2s/step - det_loss: 0.4582 - cls_loss: 0.3726 - box_loss: 0.0017 - reg_l2_loss: 0.0067 - loss: 0.4649 - learning_rate: 0.0233 - gradient_norm: 0.7455 - val_det_loss: 0.4301 - val_cls_loss: 0.3670 - val_box_loss: 0.0013 - val_reg_l2_loss: 0.0067 - val_loss: 0.4368\n",
            "Epoch 18/50\n",
            "6/6 [==============================] - 10s 2s/step - det_loss: 0.4506 - cls_loss: 0.3693 - box_loss: 0.0016 - reg_l2_loss: 0.0067 - loss: 0.4572 - learning_rate: 0.0224 - gradient_norm: 0.7285 - val_det_loss: 0.4305 - val_cls_loss: 0.3634 - val_box_loss: 0.0013 - val_reg_l2_loss: 0.0067 - val_loss: 0.4372\n",
            "Epoch 19/50\n",
            "6/6 [==============================] - 10s 2s/step - det_loss: 0.4231 - cls_loss: 0.3533 - box_loss: 0.0014 - reg_l2_loss: 0.0067 - loss: 0.4298 - learning_rate: 0.0215 - gradient_norm: 0.6665 - val_det_loss: 0.4046 - val_cls_loss: 0.3452 - val_box_loss: 0.0012 - val_reg_l2_loss: 0.0067 - val_loss: 0.4113\n",
            "Epoch 20/50\n",
            "6/6 [==============================] - 12s 2s/step - det_loss: 0.4402 - cls_loss: 0.3612 - box_loss: 0.0016 - reg_l2_loss: 0.0067 - loss: 0.4469 - learning_rate: 0.0206 - gradient_norm: 0.7707 - val_det_loss: 0.4016 - val_cls_loss: 0.3433 - val_box_loss: 0.0012 - val_reg_l2_loss: 0.0067 - val_loss: 0.4083\n",
            "Epoch 21/50\n",
            "6/6 [==============================] - 9s 2s/step - det_loss: 0.4311 - cls_loss: 0.3560 - box_loss: 0.0015 - reg_l2_loss: 0.0067 - loss: 0.4378 - learning_rate: 0.0196 - gradient_norm: 0.9284 - val_det_loss: 0.4307 - val_cls_loss: 0.3678 - val_box_loss: 0.0013 - val_reg_l2_loss: 0.0067 - val_loss: 0.4374\n",
            "Epoch 22/50\n",
            "6/6 [==============================] - 10s 2s/step - det_loss: 0.4028 - cls_loss: 0.3377 - box_loss: 0.0013 - reg_l2_loss: 0.0067 - loss: 0.4095 - learning_rate: 0.0186 - gradient_norm: 0.9496 - val_det_loss: 0.3980 - val_cls_loss: 0.3421 - val_box_loss: 0.0011 - val_reg_l2_loss: 0.0067 - val_loss: 0.4047\n",
            "Epoch 23/50\n",
            "6/6 [==============================] - 10s 2s/step - det_loss: 0.4059 - cls_loss: 0.3340 - box_loss: 0.0014 - reg_l2_loss: 0.0067 - loss: 0.4126 - learning_rate: 0.0176 - gradient_norm: 0.7708 - val_det_loss: 0.4077 - val_cls_loss: 0.3515 - val_box_loss: 0.0011 - val_reg_l2_loss: 0.0067 - val_loss: 0.4144\n",
            "Epoch 24/50\n",
            "6/6 [==============================] - 11s 2s/step - det_loss: 0.4265 - cls_loss: 0.3555 - box_loss: 0.0014 - reg_l2_loss: 0.0067 - loss: 0.4332 - learning_rate: 0.0166 - gradient_norm: 0.7626 - val_det_loss: 0.3988 - val_cls_loss: 0.3410 - val_box_loss: 0.0012 - val_reg_l2_loss: 0.0067 - val_loss: 0.4056\n",
            "Epoch 25/50\n",
            "6/6 [==============================] - 11s 2s/step - det_loss: 0.4195 - cls_loss: 0.3449 - box_loss: 0.0015 - reg_l2_loss: 0.0067 - loss: 0.4262 - learning_rate: 0.0156 - gradient_norm: 0.7960 - val_det_loss: 0.3840 - val_cls_loss: 0.3323 - val_box_loss: 0.0010 - val_reg_l2_loss: 0.0067 - val_loss: 0.3907\n",
            "Epoch 26/50\n",
            "6/6 [==============================] - 10s 2s/step - det_loss: 0.4017 - cls_loss: 0.3302 - box_loss: 0.0014 - reg_l2_loss: 0.0067 - loss: 0.4084 - learning_rate: 0.0146 - gradient_norm: 0.6971 - val_det_loss: 0.3874 - val_cls_loss: 0.3342 - val_box_loss: 0.0011 - val_reg_l2_loss: 0.0067 - val_loss: 0.3942\n",
            "Epoch 27/50\n",
            "6/6 [==============================] - 10s 2s/step - det_loss: 0.3889 - cls_loss: 0.3284 - box_loss: 0.0012 - reg_l2_loss: 0.0067 - loss: 0.3956 - learning_rate: 0.0137 - gradient_norm: 0.8162 - val_det_loss: 0.3750 - val_cls_loss: 0.3269 - val_box_loss: 9.6222e-04 - val_reg_l2_loss: 0.0067 - val_loss: 0.3818\n",
            "Epoch 28/50\n",
            "6/6 [==============================] - 10s 2s/step - det_loss: 0.3989 - cls_loss: 0.3322 - box_loss: 0.0013 - reg_l2_loss: 0.0067 - loss: 0.4057 - learning_rate: 0.0127 - gradient_norm: 0.8221 - val_det_loss: 0.3904 - val_cls_loss: 0.3387 - val_box_loss: 0.0010 - val_reg_l2_loss: 0.0067 - val_loss: 0.3971\n",
            "Epoch 29/50\n",
            "6/6 [==============================] - 10s 2s/step - det_loss: 0.4271 - cls_loss: 0.3484 - box_loss: 0.0016 - reg_l2_loss: 0.0067 - loss: 0.4338 - learning_rate: 0.0117 - gradient_norm: 0.9025 - val_det_loss: 0.3893 - val_cls_loss: 0.3386 - val_box_loss: 0.0010 - val_reg_l2_loss: 0.0067 - val_loss: 0.3960\n",
            "Epoch 30/50\n",
            "6/6 [==============================] - 12s 2s/step - det_loss: 0.3891 - cls_loss: 0.3328 - box_loss: 0.0011 - reg_l2_loss: 0.0067 - loss: 0.3958 - learning_rate: 0.0107 - gradient_norm: 0.8080 - val_det_loss: 0.3843 - val_cls_loss: 0.3350 - val_box_loss: 9.8503e-04 - val_reg_l2_loss: 0.0067 - val_loss: 0.3910\n",
            "Epoch 31/50\n",
            "6/6 [==============================] - 10s 2s/step - det_loss: 0.3848 - cls_loss: 0.3242 - box_loss: 0.0012 - reg_l2_loss: 0.0067 - loss: 0.3915 - learning_rate: 0.0098 - gradient_norm: 0.7165 - val_det_loss: 0.3712 - val_cls_loss: 0.3231 - val_box_loss: 9.6195e-04 - val_reg_l2_loss: 0.0067 - val_loss: 0.3779\n",
            "Epoch 32/50\n",
            "6/6 [==============================] - 10s 2s/step - det_loss: 0.4146 - cls_loss: 0.3396 - box_loss: 0.0015 - reg_l2_loss: 0.0067 - loss: 0.4213 - learning_rate: 0.0089 - gradient_norm: 0.8211 - val_det_loss: 0.3862 - val_cls_loss: 0.3393 - val_box_loss: 9.3839e-04 - val_reg_l2_loss: 0.0067 - val_loss: 0.3929\n",
            "Epoch 33/50\n",
            "6/6 [==============================] - 10s 2s/step - det_loss: 0.4176 - cls_loss: 0.3453 - box_loss: 0.0014 - reg_l2_loss: 0.0067 - loss: 0.4243 - learning_rate: 0.0080 - gradient_norm: 0.8434 - val_det_loss: 0.3731 - val_cls_loss: 0.3252 - val_box_loss: 9.5846e-04 - val_reg_l2_loss: 0.0067 - val_loss: 0.3798\n",
            "Epoch 34/50\n",
            "6/6 [==============================] - 11s 2s/step - det_loss: 0.3729 - cls_loss: 0.3145 - box_loss: 0.0012 - reg_l2_loss: 0.0067 - loss: 0.3796 - learning_rate: 0.0071 - gradient_norm: 0.7862 - val_det_loss: 0.3695 - val_cls_loss: 0.3221 - val_box_loss: 9.4672e-04 - val_reg_l2_loss: 0.0067 - val_loss: 0.3762\n",
            "Epoch 35/50\n",
            "6/6 [==============================] - 12s 2s/step - det_loss: 0.3774 - cls_loss: 0.3156 - box_loss: 0.0012 - reg_l2_loss: 0.0067 - loss: 0.3841 - learning_rate: 0.0063 - gradient_norm: 0.7527 - val_det_loss: 0.3824 - val_cls_loss: 0.3355 - val_box_loss: 9.3873e-04 - val_reg_l2_loss: 0.0067 - val_loss: 0.3892\n",
            "Epoch 36/50\n",
            "6/6 [==============================] - 10s 2s/step - det_loss: 0.3920 - cls_loss: 0.3318 - box_loss: 0.0012 - reg_l2_loss: 0.0067 - loss: 0.3987 - learning_rate: 0.0055 - gradient_norm: 0.7537 - val_det_loss: 0.3699 - val_cls_loss: 0.3246 - val_box_loss: 9.0521e-04 - val_reg_l2_loss: 0.0067 - val_loss: 0.3766\n",
            "Epoch 37/50\n",
            "6/6 [==============================] - 10s 2s/step - det_loss: 0.3909 - cls_loss: 0.3294 - box_loss: 0.0012 - reg_l2_loss: 0.0067 - loss: 0.3976 - learning_rate: 0.0048 - gradient_norm: 0.6990 - val_det_loss: 0.3661 - val_cls_loss: 0.3216 - val_box_loss: 8.8882e-04 - val_reg_l2_loss: 0.0067 - val_loss: 0.3728\n",
            "Epoch 38/50\n",
            "6/6 [==============================] - 10s 2s/step - det_loss: 0.3816 - cls_loss: 0.3180 - box_loss: 0.0013 - reg_l2_loss: 0.0067 - loss: 0.3884 - learning_rate: 0.0041 - gradient_norm: 0.7203 - val_det_loss: 0.3668 - val_cls_loss: 0.3232 - val_box_loss: 8.7103e-04 - val_reg_l2_loss: 0.0067 - val_loss: 0.3735\n",
            "Epoch 39/50\n",
            "6/6 [==============================] - 10s 2s/step - det_loss: 0.3775 - cls_loss: 0.3204 - box_loss: 0.0011 - reg_l2_loss: 0.0067 - loss: 0.3842 - learning_rate: 0.0034 - gradient_norm: 0.6640 - val_det_loss: 0.3722 - val_cls_loss: 0.3284 - val_box_loss: 8.7584e-04 - val_reg_l2_loss: 0.0067 - val_loss: 0.3789\n",
            "Epoch 40/50\n",
            "6/6 [==============================] - 12s 2s/step - det_loss: 0.3705 - cls_loss: 0.3134 - box_loss: 0.0011 - reg_l2_loss: 0.0067 - loss: 0.3772 - learning_rate: 0.0028 - gradient_norm: 0.6877 - val_det_loss: 0.3665 - val_cls_loss: 0.3234 - val_box_loss: 8.6249e-04 - val_reg_l2_loss: 0.0067 - val_loss: 0.3733\n",
            "Epoch 41/50\n",
            "6/6 [==============================] - 10s 2s/step - det_loss: 0.3784 - cls_loss: 0.3197 - box_loss: 0.0012 - reg_l2_loss: 0.0067 - loss: 0.3851 - learning_rate: 0.0023 - gradient_norm: 0.7517 - val_det_loss: 0.3606 - val_cls_loss: 0.3168 - val_box_loss: 8.7549e-04 - val_reg_l2_loss: 0.0067 - val_loss: 0.3673\n",
            "Epoch 42/50\n",
            "6/6 [==============================] - 10s 2s/step - det_loss: 0.3815 - cls_loss: 0.3210 - box_loss: 0.0012 - reg_l2_loss: 0.0067 - loss: 0.3882 - learning_rate: 0.0018 - gradient_norm: 0.7086 - val_det_loss: 0.3587 - val_cls_loss: 0.3159 - val_box_loss: 8.5527e-04 - val_reg_l2_loss: 0.0067 - val_loss: 0.3654\n",
            "Epoch 43/50\n",
            "6/6 [==============================] - 10s 2s/step - det_loss: 0.3972 - cls_loss: 0.3283 - box_loss: 0.0014 - reg_l2_loss: 0.0067 - loss: 0.4039 - learning_rate: 0.0013 - gradient_norm: 0.7516 - val_det_loss: 0.3561 - val_cls_loss: 0.3132 - val_box_loss: 8.5853e-04 - val_reg_l2_loss: 0.0067 - val_loss: 0.3629\n",
            "Epoch 44/50\n",
            "6/6 [==============================] - 10s 2s/step - det_loss: 0.3806 - cls_loss: 0.3144 - box_loss: 0.0013 - reg_l2_loss: 0.0067 - loss: 0.3874 - learning_rate: 9.7242e-04 - gradient_norm: 0.7336 - val_det_loss: 0.3552 - val_cls_loss: 0.3115 - val_box_loss: 8.7320e-04 - val_reg_l2_loss: 0.0067 - val_loss: 0.3619\n",
            "Epoch 45/50\n",
            "6/6 [==============================] - 12s 2s/step - det_loss: 0.3717 - cls_loss: 0.3116 - box_loss: 0.0012 - reg_l2_loss: 0.0067 - loss: 0.3784 - learning_rate: 6.5541e-04 - gradient_norm: 0.6861 - val_det_loss: 0.3548 - val_cls_loss: 0.3109 - val_box_loss: 8.7812e-04 - val_reg_l2_loss: 0.0067 - val_loss: 0.3615\n",
            "Epoch 46/50\n",
            "6/6 [==============================] - 10s 2s/step - det_loss: 0.3651 - cls_loss: 0.3107 - box_loss: 0.0011 - reg_l2_loss: 0.0067 - loss: 0.3718 - learning_rate: 3.9991e-04 - gradient_norm: 0.7184 - val_det_loss: 0.3539 - val_cls_loss: 0.3104 - val_box_loss: 8.6977e-04 - val_reg_l2_loss: 0.0067 - val_loss: 0.3606\n",
            "Epoch 47/50\n",
            "6/6 [==============================] - 10s 2s/step - det_loss: 0.3739 - cls_loss: 0.3148 - box_loss: 0.0012 - reg_l2_loss: 0.0067 - loss: 0.3806 - learning_rate: 2.0698e-04 - gradient_norm: 0.7371 - val_det_loss: 0.3533 - val_cls_loss: 0.3101 - val_box_loss: 8.6356e-04 - val_reg_l2_loss: 0.0067 - val_loss: 0.3601\n",
            "Epoch 48/50\n",
            "6/6 [==============================] - 10s 2s/step - det_loss: 0.3711 - cls_loss: 0.3066 - box_loss: 0.0013 - reg_l2_loss: 0.0067 - loss: 0.3778 - learning_rate: 7.7408e-05 - gradient_norm: 0.6928 - val_det_loss: 0.3523 - val_cls_loss: 0.3093 - val_box_loss: 8.6085e-04 - val_reg_l2_loss: 0.0067 - val_loss: 0.3591\n",
            "Epoch 49/50\n",
            "6/6 [==============================] - 10s 2s/step - det_loss: 0.3905 - cls_loss: 0.3167 - box_loss: 0.0015 - reg_l2_loss: 0.0067 - loss: 0.3973 - learning_rate: 1.1721e-05 - gradient_norm: 0.6779 - val_det_loss: 0.3514 - val_cls_loss: 0.3083 - val_box_loss: 8.6055e-04 - val_reg_l2_loss: 0.0067 - val_loss: 0.3581\n",
            "Epoch 50/50\n",
            "6/6 [==============================] - 11s 2s/step - det_loss: 0.3539 - cls_loss: 0.3009 - box_loss: 0.0011 - reg_l2_loss: 0.0067 - loss: 0.3607 - learning_rate: 1.0193e-05 - gradient_norm: 0.6461 - val_det_loss: 0.3503 - val_cls_loss: 0.3075 - val_box_loss: 8.5700e-04 - val_reg_l2_loss: 0.0067 - val_loss: 0.3571\n"
          ]
        }
      ]
    },
    {
      "cell_type": "code",
      "source": [
        "model3.summary()"
      ],
      "metadata": {
        "colab": {
          "base_uri": "https://localhost:8080/"
        },
        "id": "hBfFnaZGGbip",
        "outputId": "e675f757-c78f-426d-908a-14da0177e752"
      },
      "execution_count": null,
      "outputs": [
        {
          "output_type": "stream",
          "name": "stdout",
          "text": [
            "Model: \"\"\n",
            "_________________________________________________________________\n",
            " Layer (type)                Output Shape              Param #   \n",
            "=================================================================\n",
            " keras_layer_1 (KerasLayer)  multiple                  8315968   \n",
            "                                                                 \n",
            " class_net/class-predict (Se  multiple                 5787      \n",
            " parableConv2D)                                                  \n",
            "                                                                 \n",
            " box_net/box-predict (Separa  multiple                 7236      \n",
            " bleConv2D)                                                      \n",
            "                                                                 \n",
            "=================================================================\n",
            "Total params: 8,328,991\n",
            "Trainable params: 8,224,799\n",
            "Non-trainable params: 104,192\n",
            "_________________________________________________________________\n"
          ]
        }
      ]
    },
    {
      "cell_type": "markdown",
      "source": [
        "**EfficientDetLite4**"
      ],
      "metadata": {
        "id": "EbWmapfvOXCZ"
      }
    },
    {
      "cell_type": "code",
      "source": [
        "model4 = object_detector.create(\n",
        "    train_data=train_data,\n",
        "    model_spec=spec4,\n",
        "    epochs=50,\n",
        "    batch_size=25,\n",
        "    train_whole_model=False,\n",
        "    validation_data=val_data)"
      ],
      "metadata": {
        "colab": {
          "base_uri": "https://localhost:8080/"
        },
        "id": "MYd4icQnORoR",
        "outputId": "bdbe05aa-844f-4266-9d4a-46be2b611d9e"
      },
      "execution_count": null,
      "outputs": [
        {
          "output_type": "stream",
          "name": "stdout",
          "text": [
            "Epoch 1/50\n",
            "6/6 [==============================] - 55s 4s/step - det_loss: 1.7566 - cls_loss: 1.1668 - box_loss: 0.0118 - reg_l2_loss: 0.0071 - loss: 1.7637 - learning_rate: 0.0191 - gradient_norm: 0.7530 - val_det_loss: 1.6227 - val_cls_loss: 1.1513 - val_box_loss: 0.0094 - val_reg_l2_loss: 0.0071 - val_loss: 1.6299\n",
            "Epoch 2/50\n",
            "6/6 [==============================] - 16s 3s/step - det_loss: 1.5541 - cls_loss: 1.1280 - box_loss: 0.0085 - reg_l2_loss: 0.0071 - loss: 1.5613 - learning_rate: 0.0312 - gradient_norm: 0.7786 - val_det_loss: 1.3391 - val_cls_loss: 1.0644 - val_box_loss: 0.0055 - val_reg_l2_loss: 0.0071 - val_loss: 1.3463\n",
            "Epoch 3/50\n",
            "6/6 [==============================] - 16s 3s/step - det_loss: 1.2319 - cls_loss: 0.9602 - box_loss: 0.0054 - reg_l2_loss: 0.0072 - loss: 1.2390 - learning_rate: 0.0311 - gradient_norm: 0.9959 - val_det_loss: 1.0000 - val_cls_loss: 0.7906 - val_box_loss: 0.0042 - val_reg_l2_loss: 0.0072 - val_loss: 1.0071\n",
            "Epoch 4/50\n",
            "6/6 [==============================] - 17s 3s/step - det_loss: 0.9267 - cls_loss: 0.7178 - box_loss: 0.0042 - reg_l2_loss: 0.0072 - loss: 0.9338 - learning_rate: 0.0309 - gradient_norm: 1.3541 - val_det_loss: 1.0476 - val_cls_loss: 0.8752 - val_box_loss: 0.0034 - val_reg_l2_loss: 0.0072 - val_loss: 1.0548\n",
            "Epoch 5/50\n",
            "6/6 [==============================] - 25s 5s/step - det_loss: 0.8012 - cls_loss: 0.6416 - box_loss: 0.0032 - reg_l2_loss: 0.0072 - loss: 0.8084 - learning_rate: 0.0306 - gradient_norm: 1.1437 - val_det_loss: 1.2860 - val_cls_loss: 1.1455 - val_box_loss: 0.0028 - val_reg_l2_loss: 0.0072 - val_loss: 1.2932\n",
            "Epoch 6/50\n",
            "6/6 [==============================] - 18s 3s/step - det_loss: 0.6990 - cls_loss: 0.5616 - box_loss: 0.0027 - reg_l2_loss: 0.0072 - loss: 0.7062 - learning_rate: 0.0303 - gradient_norm: 0.8754 - val_det_loss: 1.0233 - val_cls_loss: 0.9069 - val_box_loss: 0.0023 - val_reg_l2_loss: 0.0072 - val_loss: 1.0305\n",
            "Epoch 7/50\n",
            "6/6 [==============================] - 17s 3s/step - det_loss: 0.6482 - cls_loss: 0.5289 - box_loss: 0.0024 - reg_l2_loss: 0.0072 - loss: 0.6554 - learning_rate: 0.0299 - gradient_norm: 0.8357 - val_det_loss: 0.9642 - val_cls_loss: 0.8582 - val_box_loss: 0.0021 - val_reg_l2_loss: 0.0072 - val_loss: 0.9715\n",
            "Epoch 8/50\n",
            "6/6 [==============================] - 16s 3s/step - det_loss: 0.5938 - cls_loss: 0.4891 - box_loss: 0.0021 - reg_l2_loss: 0.0072 - loss: 0.6011 - learning_rate: 0.0295 - gradient_norm: 0.8630 - val_det_loss: 0.7964 - val_cls_loss: 0.6828 - val_box_loss: 0.0023 - val_reg_l2_loss: 0.0072 - val_loss: 0.8037\n",
            "Epoch 9/50\n",
            "6/6 [==============================] - 16s 3s/step - det_loss: 0.5317 - cls_loss: 0.4495 - box_loss: 0.0016 - reg_l2_loss: 0.0072 - loss: 0.5389 - learning_rate: 0.0290 - gradient_norm: 0.6871 - val_det_loss: 0.7191 - val_cls_loss: 0.6209 - val_box_loss: 0.0020 - val_reg_l2_loss: 0.0073 - val_loss: 0.7264\n",
            "Epoch 10/50\n",
            "6/6 [==============================] - 19s 4s/step - det_loss: 0.5027 - cls_loss: 0.4234 - box_loss: 0.0016 - reg_l2_loss: 0.0073 - loss: 0.5100 - learning_rate: 0.0285 - gradient_norm: 0.7133 - val_det_loss: 0.7154 - val_cls_loss: 0.6095 - val_box_loss: 0.0021 - val_reg_l2_loss: 0.0073 - val_loss: 0.7227\n",
            "Epoch 11/50\n",
            "6/6 [==============================] - 21s 4s/step - det_loss: 0.4887 - cls_loss: 0.4055 - box_loss: 0.0017 - reg_l2_loss: 0.0073 - loss: 0.4960 - learning_rate: 0.0279 - gradient_norm: 0.7162 - val_det_loss: 0.6565 - val_cls_loss: 0.5670 - val_box_loss: 0.0018 - val_reg_l2_loss: 0.0073 - val_loss: 0.6637\n",
            "Epoch 12/50\n",
            "6/6 [==============================] - 18s 3s/step - det_loss: 0.4475 - cls_loss: 0.3794 - box_loss: 0.0014 - reg_l2_loss: 0.0073 - loss: 0.4548 - learning_rate: 0.0272 - gradient_norm: 0.8443 - val_det_loss: 0.6229 - val_cls_loss: 0.5360 - val_box_loss: 0.0017 - val_reg_l2_loss: 0.0073 - val_loss: 0.6302\n",
            "Epoch 13/50\n",
            "6/6 [==============================] - 17s 3s/step - det_loss: 0.4763 - cls_loss: 0.3940 - box_loss: 0.0016 - reg_l2_loss: 0.0073 - loss: 0.4836 - learning_rate: 0.0265 - gradient_norm: 0.9989 - val_det_loss: 0.5171 - val_cls_loss: 0.4485 - val_box_loss: 0.0014 - val_reg_l2_loss: 0.0073 - val_loss: 0.5244\n",
            "Epoch 14/50\n",
            "6/6 [==============================] - 16s 3s/step - det_loss: 0.4200 - cls_loss: 0.3584 - box_loss: 0.0012 - reg_l2_loss: 0.0073 - loss: 0.4273 - learning_rate: 0.0258 - gradient_norm: 0.7977 - val_det_loss: 0.5295 - val_cls_loss: 0.4430 - val_box_loss: 0.0017 - val_reg_l2_loss: 0.0073 - val_loss: 0.5368\n",
            "Epoch 15/50\n",
            "6/6 [==============================] - 19s 3s/step - det_loss: 0.4535 - cls_loss: 0.3781 - box_loss: 0.0015 - reg_l2_loss: 0.0073 - loss: 0.4608 - learning_rate: 0.0250 - gradient_norm: 0.8062 - val_det_loss: 0.5151 - val_cls_loss: 0.4441 - val_box_loss: 0.0014 - val_reg_l2_loss: 0.0073 - val_loss: 0.5224\n",
            "Epoch 16/50\n",
            "6/6 [==============================] - 17s 3s/step - det_loss: 0.4666 - cls_loss: 0.3898 - box_loss: 0.0015 - reg_l2_loss: 0.0073 - loss: 0.4739 - learning_rate: 0.0242 - gradient_norm: 0.8092 - val_det_loss: 0.4871 - val_cls_loss: 0.4194 - val_box_loss: 0.0014 - val_reg_l2_loss: 0.0073 - val_loss: 0.4944\n",
            "Epoch 17/50\n",
            "6/6 [==============================] - 16s 3s/step - det_loss: 0.4579 - cls_loss: 0.3789 - box_loss: 0.0016 - reg_l2_loss: 0.0073 - loss: 0.4652 - learning_rate: 0.0233 - gradient_norm: 0.8482 - val_det_loss: 0.5235 - val_cls_loss: 0.4612 - val_box_loss: 0.0012 - val_reg_l2_loss: 0.0073 - val_loss: 0.5308\n",
            "Epoch 18/50\n",
            "6/6 [==============================] - 16s 3s/step - det_loss: 0.4290 - cls_loss: 0.3532 - box_loss: 0.0015 - reg_l2_loss: 0.0073 - loss: 0.4363 - learning_rate: 0.0224 - gradient_norm: 0.8728 - val_det_loss: 0.4723 - val_cls_loss: 0.4096 - val_box_loss: 0.0013 - val_reg_l2_loss: 0.0073 - val_loss: 0.4796\n",
            "Epoch 19/50\n",
            "6/6 [==============================] - 17s 3s/step - det_loss: 0.3989 - cls_loss: 0.3372 - box_loss: 0.0012 - reg_l2_loss: 0.0073 - loss: 0.4062 - learning_rate: 0.0215 - gradient_norm: 0.8383 - val_det_loss: 0.4617 - val_cls_loss: 0.3987 - val_box_loss: 0.0013 - val_reg_l2_loss: 0.0073 - val_loss: 0.4690\n",
            "Epoch 20/50\n",
            "6/6 [==============================] - 19s 3s/step - det_loss: 0.3927 - cls_loss: 0.3331 - box_loss: 0.0012 - reg_l2_loss: 0.0073 - loss: 0.4001 - learning_rate: 0.0206 - gradient_norm: 0.8182 - val_det_loss: 0.4681 - val_cls_loss: 0.4006 - val_box_loss: 0.0014 - val_reg_l2_loss: 0.0073 - val_loss: 0.4755\n",
            "Epoch 21/50\n",
            "6/6 [==============================] - 16s 3s/step - det_loss: 0.3991 - cls_loss: 0.3344 - box_loss: 0.0013 - reg_l2_loss: 0.0073 - loss: 0.4064 - learning_rate: 0.0196 - gradient_norm: 0.8903 - val_det_loss: 0.4524 - val_cls_loss: 0.3973 - val_box_loss: 0.0011 - val_reg_l2_loss: 0.0073 - val_loss: 0.4597\n",
            "Epoch 22/50\n",
            "6/6 [==============================] - 17s 3s/step - det_loss: 0.3692 - cls_loss: 0.3173 - box_loss: 0.0010 - reg_l2_loss: 0.0073 - loss: 0.3765 - learning_rate: 0.0186 - gradient_norm: 0.8796 - val_det_loss: 0.4168 - val_cls_loss: 0.3612 - val_box_loss: 0.0011 - val_reg_l2_loss: 0.0073 - val_loss: 0.4241\n",
            "Epoch 23/50\n",
            "6/6 [==============================] - 16s 3s/step - det_loss: 0.4307 - cls_loss: 0.3631 - box_loss: 0.0014 - reg_l2_loss: 0.0073 - loss: 0.4381 - learning_rate: 0.0176 - gradient_norm: 0.8926 - val_det_loss: 0.4590 - val_cls_loss: 0.4058 - val_box_loss: 0.0011 - val_reg_l2_loss: 0.0073 - val_loss: 0.4663\n",
            "Epoch 24/50\n",
            "6/6 [==============================] - 16s 3s/step - det_loss: 0.3826 - cls_loss: 0.3250 - box_loss: 0.0012 - reg_l2_loss: 0.0073 - loss: 0.3899 - learning_rate: 0.0166 - gradient_norm: 0.8488 - val_det_loss: 0.3961 - val_cls_loss: 0.3466 - val_box_loss: 9.9034e-04 - val_reg_l2_loss: 0.0073 - val_loss: 0.4035\n",
            "Epoch 25/50\n",
            "6/6 [==============================] - 22s 4s/step - det_loss: 0.3717 - cls_loss: 0.3176 - box_loss: 0.0011 - reg_l2_loss: 0.0073 - loss: 0.3790 - learning_rate: 0.0156 - gradient_norm: 0.7263 - val_det_loss: 0.4298 - val_cls_loss: 0.3782 - val_box_loss: 0.0010 - val_reg_l2_loss: 0.0073 - val_loss: 0.4371\n",
            "Epoch 26/50\n",
            "6/6 [==============================] - 16s 3s/step - det_loss: 0.4010 - cls_loss: 0.3388 - box_loss: 0.0012 - reg_l2_loss: 0.0074 - loss: 0.4083 - learning_rate: 0.0146 - gradient_norm: 0.8427 - val_det_loss: 0.3825 - val_cls_loss: 0.3312 - val_box_loss: 0.0010 - val_reg_l2_loss: 0.0074 - val_loss: 0.3898\n",
            "Epoch 27/50\n",
            "6/6 [==============================] - 16s 3s/step - det_loss: 0.3677 - cls_loss: 0.3099 - box_loss: 0.0012 - reg_l2_loss: 0.0074 - loss: 0.3751 - learning_rate: 0.0137 - gradient_norm: 0.7094 - val_det_loss: 0.3993 - val_cls_loss: 0.3518 - val_box_loss: 9.4964e-04 - val_reg_l2_loss: 0.0074 - val_loss: 0.4067\n",
            "Epoch 28/50\n",
            "6/6 [==============================] - 19s 3s/step - det_loss: 0.3696 - cls_loss: 0.3169 - box_loss: 0.0011 - reg_l2_loss: 0.0074 - loss: 0.3770 - learning_rate: 0.0127 - gradient_norm: 0.7507 - val_det_loss: 0.4117 - val_cls_loss: 0.3692 - val_box_loss: 8.5035e-04 - val_reg_l2_loss: 0.0074 - val_loss: 0.4191\n",
            "Epoch 29/50\n",
            "6/6 [==============================] - 16s 3s/step - det_loss: 0.3554 - cls_loss: 0.3072 - box_loss: 9.6304e-04 - reg_l2_loss: 0.0074 - loss: 0.3627 - learning_rate: 0.0117 - gradient_norm: 0.7198 - val_det_loss: 0.4117 - val_cls_loss: 0.3668 - val_box_loss: 8.9785e-04 - val_reg_l2_loss: 0.0074 - val_loss: 0.4191\n",
            "Epoch 30/50\n",
            "6/6 [==============================] - 19s 3s/step - det_loss: 0.3550 - cls_loss: 0.2987 - box_loss: 0.0011 - reg_l2_loss: 0.0074 - loss: 0.3623 - learning_rate: 0.0107 - gradient_norm: 0.7432 - val_det_loss: 0.3946 - val_cls_loss: 0.3512 - val_box_loss: 8.6799e-04 - val_reg_l2_loss: 0.0074 - val_loss: 0.4020\n",
            "Epoch 31/50\n",
            "6/6 [==============================] - 17s 3s/step - det_loss: 0.3502 - cls_loss: 0.3027 - box_loss: 9.5048e-04 - reg_l2_loss: 0.0074 - loss: 0.3576 - learning_rate: 0.0098 - gradient_norm: 0.7579 - val_det_loss: 0.4129 - val_cls_loss: 0.3683 - val_box_loss: 8.9355e-04 - val_reg_l2_loss: 0.0074 - val_loss: 0.4203\n",
            "Epoch 32/50\n",
            "6/6 [==============================] - 16s 3s/step - det_loss: 0.3623 - cls_loss: 0.3025 - box_loss: 0.0012 - reg_l2_loss: 0.0074 - loss: 0.3697 - learning_rate: 0.0089 - gradient_norm: 0.7918 - val_det_loss: 0.3772 - val_cls_loss: 0.3357 - val_box_loss: 8.3106e-04 - val_reg_l2_loss: 0.0074 - val_loss: 0.3846\n",
            "Epoch 33/50\n",
            "6/6 [==============================] - 16s 3s/step - det_loss: 0.3584 - cls_loss: 0.3073 - box_loss: 0.0010 - reg_l2_loss: 0.0074 - loss: 0.3658 - learning_rate: 0.0080 - gradient_norm: 0.8711 - val_det_loss: 0.3941 - val_cls_loss: 0.3520 - val_box_loss: 8.4146e-04 - val_reg_l2_loss: 0.0074 - val_loss: 0.4014\n",
            "Epoch 34/50\n",
            "6/6 [==============================] - 17s 3s/step - det_loss: 0.3487 - cls_loss: 0.2974 - box_loss: 0.0010 - reg_l2_loss: 0.0074 - loss: 0.3560 - learning_rate: 0.0071 - gradient_norm: 0.8127 - val_det_loss: 0.3924 - val_cls_loss: 0.3519 - val_box_loss: 8.1006e-04 - val_reg_l2_loss: 0.0074 - val_loss: 0.3998\n",
            "Epoch 35/50\n",
            "6/6 [==============================] - 19s 3s/step - det_loss: 0.3584 - cls_loss: 0.3042 - box_loss: 0.0011 - reg_l2_loss: 0.0074 - loss: 0.3658 - learning_rate: 0.0063 - gradient_norm: 0.7824 - val_det_loss: 0.3755 - val_cls_loss: 0.3345 - val_box_loss: 8.1980e-04 - val_reg_l2_loss: 0.0074 - val_loss: 0.3829\n",
            "Epoch 36/50\n",
            "6/6 [==============================] - 16s 3s/step - det_loss: 0.3471 - cls_loss: 0.2932 - box_loss: 0.0011 - reg_l2_loss: 0.0074 - loss: 0.3544 - learning_rate: 0.0055 - gradient_norm: 0.8137 - val_det_loss: 0.3911 - val_cls_loss: 0.3493 - val_box_loss: 8.3506e-04 - val_reg_l2_loss: 0.0074 - val_loss: 0.3984\n",
            "Epoch 37/50\n",
            "6/6 [==============================] - 17s 3s/step - det_loss: 0.3506 - cls_loss: 0.2994 - box_loss: 0.0010 - reg_l2_loss: 0.0074 - loss: 0.3580 - learning_rate: 0.0048 - gradient_norm: 0.8203 - val_det_loss: 0.4059 - val_cls_loss: 0.3660 - val_box_loss: 7.9900e-04 - val_reg_l2_loss: 0.0074 - val_loss: 0.4133\n",
            "Epoch 38/50\n",
            "6/6 [==============================] - 16s 3s/step - det_loss: 0.3335 - cls_loss: 0.2885 - box_loss: 8.9934e-04 - reg_l2_loss: 0.0074 - loss: 0.3409 - learning_rate: 0.0041 - gradient_norm: 0.8631 - val_det_loss: 0.3709 - val_cls_loss: 0.3306 - val_box_loss: 8.0483e-04 - val_reg_l2_loss: 0.0074 - val_loss: 0.3783\n",
            "Epoch 39/50\n",
            "6/6 [==============================] - 16s 3s/step - det_loss: 0.3411 - cls_loss: 0.2908 - box_loss: 0.0010 - reg_l2_loss: 0.0074 - loss: 0.3485 - learning_rate: 0.0034 - gradient_norm: 0.8288 - val_det_loss: 0.3709 - val_cls_loss: 0.3312 - val_box_loss: 7.9321e-04 - val_reg_l2_loss: 0.0074 - val_loss: 0.3783\n",
            "Epoch 40/50\n",
            "6/6 [==============================] - 19s 3s/step - det_loss: 0.3274 - cls_loss: 0.2807 - box_loss: 9.3355e-04 - reg_l2_loss: 0.0074 - loss: 0.3348 - learning_rate: 0.0028 - gradient_norm: 0.7812 - val_det_loss: 0.3905 - val_cls_loss: 0.3509 - val_box_loss: 7.9347e-04 - val_reg_l2_loss: 0.0074 - val_loss: 0.3979\n",
            "Epoch 41/50\n",
            "6/6 [==============================] - 17s 3s/step - det_loss: 0.3543 - cls_loss: 0.2981 - box_loss: 0.0011 - reg_l2_loss: 0.0074 - loss: 0.3617 - learning_rate: 0.0023 - gradient_norm: 0.8402 - val_det_loss: 0.3842 - val_cls_loss: 0.3443 - val_box_loss: 7.9765e-04 - val_reg_l2_loss: 0.0074 - val_loss: 0.3916\n",
            "Epoch 42/50\n",
            "6/6 [==============================] - 16s 3s/step - det_loss: 0.3144 - cls_loss: 0.2720 - box_loss: 8.4795e-04 - reg_l2_loss: 0.0074 - loss: 0.3217 - learning_rate: 0.0018 - gradient_norm: 0.7145 - val_det_loss: 0.3725 - val_cls_loss: 0.3325 - val_box_loss: 8.0070e-04 - val_reg_l2_loss: 0.0074 - val_loss: 0.3799\n",
            "Epoch 43/50\n",
            "6/6 [==============================] - 16s 3s/step - det_loss: 0.3389 - cls_loss: 0.2932 - box_loss: 9.1217e-04 - reg_l2_loss: 0.0074 - loss: 0.3462 - learning_rate: 0.0013 - gradient_norm: 0.8008 - val_det_loss: 0.3701 - val_cls_loss: 0.3302 - val_box_loss: 7.9815e-04 - val_reg_l2_loss: 0.0074 - val_loss: 0.3775\n",
            "Epoch 44/50\n",
            "6/6 [==============================] - 17s 3s/step - det_loss: 0.3269 - cls_loss: 0.2792 - box_loss: 9.5459e-04 - reg_l2_loss: 0.0074 - loss: 0.3343 - learning_rate: 9.7242e-04 - gradient_norm: 0.8000 - val_det_loss: 0.3715 - val_cls_loss: 0.3319 - val_box_loss: 7.9294e-04 - val_reg_l2_loss: 0.0074 - val_loss: 0.3789\n",
            "Epoch 45/50\n",
            "6/6 [==============================] - 23s 4s/step - det_loss: 0.3250 - cls_loss: 0.2773 - box_loss: 9.5431e-04 - reg_l2_loss: 0.0074 - loss: 0.3324 - learning_rate: 6.5541e-04 - gradient_norm: 0.7772 - val_det_loss: 0.3737 - val_cls_loss: 0.3344 - val_box_loss: 7.8576e-04 - val_reg_l2_loss: 0.0074 - val_loss: 0.3811\n",
            "Epoch 46/50\n",
            "6/6 [==============================] - 16s 3s/step - det_loss: 0.3374 - cls_loss: 0.2827 - box_loss: 0.0011 - reg_l2_loss: 0.0074 - loss: 0.3448 - learning_rate: 3.9991e-04 - gradient_norm: 0.7365 - val_det_loss: 0.3774 - val_cls_loss: 0.3382 - val_box_loss: 7.8468e-04 - val_reg_l2_loss: 0.0074 - val_loss: 0.3848\n",
            "Epoch 47/50\n",
            "6/6 [==============================] - 17s 3s/step - det_loss: 0.3378 - cls_loss: 0.2899 - box_loss: 9.5833e-04 - reg_l2_loss: 0.0074 - loss: 0.3452 - learning_rate: 2.0698e-04 - gradient_norm: 0.7980 - val_det_loss: 0.3801 - val_cls_loss: 0.3410 - val_box_loss: 7.8123e-04 - val_reg_l2_loss: 0.0074 - val_loss: 0.3874\n",
            "Epoch 48/50\n",
            "6/6 [==============================] - 16s 3s/step - det_loss: 0.3386 - cls_loss: 0.2839 - box_loss: 0.0011 - reg_l2_loss: 0.0074 - loss: 0.3459 - learning_rate: 7.7408e-05 - gradient_norm: 0.7473 - val_det_loss: 0.3808 - val_cls_loss: 0.3416 - val_box_loss: 7.8323e-04 - val_reg_l2_loss: 0.0074 - val_loss: 0.3881\n",
            "Epoch 49/50\n",
            "6/6 [==============================] - 16s 3s/step - det_loss: 0.3444 - cls_loss: 0.2934 - box_loss: 0.0010 - reg_l2_loss: 0.0074 - loss: 0.3518 - learning_rate: 1.1721e-05 - gradient_norm: 0.8039 - val_det_loss: 0.3810 - val_cls_loss: 0.3421 - val_box_loss: 7.7925e-04 - val_reg_l2_loss: 0.0074 - val_loss: 0.3884\n",
            "Epoch 50/50\n",
            "6/6 [==============================] - 19s 4s/step - det_loss: 0.3298 - cls_loss: 0.2823 - box_loss: 9.5046e-04 - reg_l2_loss: 0.0074 - loss: 0.3372 - learning_rate: 1.0193e-05 - gradient_norm: 0.7544 - val_det_loss: 0.3812 - val_cls_loss: 0.3422 - val_box_loss: 7.8024e-04 - val_reg_l2_loss: 0.0074 - val_loss: 0.3886\n"
          ]
        }
      ]
    },
    {
      "cell_type": "code",
      "source": [
        "model4.summary()"
      ],
      "metadata": {
        "colab": {
          "base_uri": "https://localhost:8080/"
        },
        "id": "1B9INPA95GMl",
        "outputId": "62f59835-632f-459b-d383-f0170ab7c028"
      },
      "execution_count": null,
      "outputs": [
        {
          "output_type": "stream",
          "name": "stdout",
          "text": [
            "Model: \"\"\n",
            "_________________________________________________________________\n",
            " Layer (type)                Output Shape              Param #   \n",
            "=================================================================\n",
            " keras_layer (KerasLayer)    multiple                  15092016  \n",
            "                                                                 \n",
            " class_net/class-predict (Se  multiple                 8091      \n",
            " parableConv2D)                                                  \n",
            "                                                                 \n",
            " box_net/box-predict (Separa  multiple                 10116     \n",
            " bleConv2D)                                                      \n",
            "                                                                 \n",
            "=================================================================\n",
            "Total params: 15,110,223\n",
            "Trainable params: 14,954,719\n",
            "Non-trainable params: 155,504\n",
            "_________________________________________________________________\n"
          ]
        }
      ]
    },
    {
      "cell_type": "code",
      "source": [
        "# model2 = object_detector.create(\n",
        "#     train_data=train_data,\n",
        "#     model_spec=spec,\n",
        "#     epochs=50,\n",
        "#     batch_size=16,\n",
        "#     train_whole_model=False,\n",
        "#     validation_data=val_data,\n",
        "#     do_train=False)"
      ],
      "metadata": {
        "id": "XQu0fJ40KsEo"
      },
      "execution_count": null,
      "outputs": []
    },
    {
      "cell_type": "code",
      "source": [
        "# history = model2.train(\n",
        "#     train_data=train_data,\n",
        "#     validation_data=val_data,\n",
        "#     epochs=50,\n",
        "#     batch_size=16\n",
        "# )"
      ],
      "metadata": {
        "id": "Xc_H7_r4K19K"
      },
      "execution_count": null,
      "outputs": []
    },
    {
      "cell_type": "code",
      "source": [
        "# history"
      ],
      "metadata": {
        "id": "y7GiP4S2LZPw"
      },
      "execution_count": null,
      "outputs": []
    },
    {
      "cell_type": "markdown",
      "source": [
        "### Evaluate the Model"
      ],
      "metadata": {
        "id": "bz3Lrf-m6xDT"
      }
    },
    {
      "cell_type": "markdown",
      "source": [
        "**EfficientDetLite0**"
      ],
      "metadata": {
        "id": "5_KTC_PJL_3S"
      }
    },
    {
      "cell_type": "code",
      "source": [
        "model0.evaluate(test_data)"
      ],
      "metadata": {
        "id": "XiMvnBw36z-9",
        "colab": {
          "base_uri": "https://localhost:8080/"
        },
        "outputId": "12eed6db-d484-4fcb-d110-86e7e1879a53"
      },
      "execution_count": null,
      "outputs": [
        {
          "output_type": "stream",
          "name": "stdout",
          "text": [
            "\r1/1 [==============================] - 7s 7s/step\n",
            "\n"
          ]
        },
        {
          "output_type": "execute_result",
          "data": {
            "text/plain": [
              "{'AP': 0.4412462,\n",
              " 'AP50': 0.5782078,\n",
              " 'AP75': 0.53236157,\n",
              " 'APs': -1.0,\n",
              " 'APm': 0.8,\n",
              " 'APl': 0.43989688,\n",
              " 'ARmax1': 0.52889115,\n",
              " 'ARmax10': 0.7455533,\n",
              " 'ARmax100': 0.7507726,\n",
              " 'ARs': -1.0,\n",
              " 'ARm': 0.8,\n",
              " 'ARl': 0.7509222,\n",
              " 'AP_/yellow_duck': 0.34885487,\n",
              " 'AP_/green_duck': 0.45918372,\n",
              " 'AP_/green_frog': 0.51570004}"
            ]
          },
          "metadata": {},
          "execution_count": 22
        }
      ]
    },
    {
      "cell_type": "markdown",
      "source": [
        "**EfficientDetLite1**"
      ],
      "metadata": {
        "id": "KAPpNTZuMCCP"
      }
    },
    {
      "cell_type": "code",
      "source": [
        "model1.evaluate(test_data)"
      ],
      "metadata": {
        "colab": {
          "base_uri": "https://localhost:8080/"
        },
        "id": "8_JxMDOSMBgc",
        "outputId": "64530cc3-5a2a-48c3-af78-43f23b702c44"
      },
      "execution_count": null,
      "outputs": [
        {
          "output_type": "stream",
          "name": "stdout",
          "text": [
            "\r1/1 [==============================] - 8s 8s/step\n",
            "\n"
          ]
        },
        {
          "output_type": "execute_result",
          "data": {
            "text/plain": [
              "{'AP': 0.4974248,\n",
              " 'AP50': 0.63275915,\n",
              " 'AP75': 0.57046396,\n",
              " 'APs': -1.0,\n",
              " 'APm': 0.8,\n",
              " 'APl': 0.499156,\n",
              " 'ARmax1': 0.5556062,\n",
              " 'ARmax10': 0.78260124,\n",
              " 'ARmax100': 0.7843331,\n",
              " 'ARs': -1.0,\n",
              " 'ARm': 0.8,\n",
              " 'ARl': 0.7840981,\n",
              " 'AP_/yellow_duck': 0.5288219,\n",
              " 'AP_/green_duck': 0.41959748,\n",
              " 'AP_/green_frog': 0.5438551}"
            ]
          },
          "metadata": {},
          "execution_count": 38
        }
      ]
    },
    {
      "cell_type": "markdown",
      "source": [
        "**EfficientDetLite2**"
      ],
      "metadata": {
        "id": "exxv6XN0Qjhw"
      }
    },
    {
      "cell_type": "code",
      "source": [
        "model2.evaluate(test_data)"
      ],
      "metadata": {
        "colab": {
          "base_uri": "https://localhost:8080/"
        },
        "id": "mO1A_ISKQojK",
        "outputId": "30ddaa16-c342-45ed-9a95-54bc32971ea1"
      },
      "execution_count": null,
      "outputs": [
        {
          "output_type": "stream",
          "name": "stdout",
          "text": [
            "\r1/1 [==============================] - 9s 9s/step\n",
            "\n"
          ]
        },
        {
          "output_type": "execute_result",
          "data": {
            "text/plain": [
              "{'AP': 0.5054148,\n",
              " 'AP50': 0.61444396,\n",
              " 'AP75': 0.5923736,\n",
              " 'APs': -1.0,\n",
              " 'APm': 0.7,\n",
              " 'APl': 0.50678164,\n",
              " 'ARmax1': 0.57855713,\n",
              " 'ARmax10': 0.7927148,\n",
              " 'ARmax100': 0.7952575,\n",
              " 'ARs': -1.0,\n",
              " 'ARm': 0.7,\n",
              " 'ARl': 0.795749,\n",
              " 'AP_/yellow_duck': 0.51297474,\n",
              " 'AP_/green_duck': 0.47693387,\n",
              " 'AP_/green_frog': 0.5263357}"
            ]
          },
          "metadata": {},
          "execution_count": 48
        }
      ]
    },
    {
      "cell_type": "markdown",
      "source": [
        "**EfficientDetLite3**"
      ],
      "metadata": {
        "id": "6tk5lTEOYobA"
      }
    },
    {
      "cell_type": "code",
      "source": [
        "model3.evaluate(test_data)"
      ],
      "metadata": {
        "colab": {
          "base_uri": "https://localhost:8080/"
        },
        "id": "7a6ncJHNIn04",
        "outputId": "7ae4702a-3bbb-40a4-afd0-7f00a3ad3c78"
      },
      "execution_count": null,
      "outputs": [
        {
          "output_type": "stream",
          "name": "stdout",
          "text": [
            "\r1/1 [==============================] - 10s 10s/step\n",
            "\n"
          ]
        },
        {
          "output_type": "execute_result",
          "data": {
            "text/plain": [
              "{'AP': 0.5019825,\n",
              " 'AP50': 0.60384506,\n",
              " 'AP75': 0.55531144,\n",
              " 'APs': -1.0,\n",
              " 'APm': 0.5,\n",
              " 'APl': 0.5033819,\n",
              " 'ARmax1': 0.50576025,\n",
              " 'ARmax10': 0.7845254,\n",
              " 'ARmax100': 0.787157,\n",
              " 'ARs': -1.0,\n",
              " 'ARm': 1.0,\n",
              " 'ARl': 0.78587496,\n",
              " 'AP_/yellow_duck': 0.43820667,\n",
              " 'AP_/green_duck': 0.5218905,\n",
              " 'AP_/green_frog': 0.54585046}"
            ]
          },
          "metadata": {},
          "execution_count": 28
        }
      ]
    },
    {
      "cell_type": "markdown",
      "source": [
        "**EfficientDetLite4**"
      ],
      "metadata": {
        "id": "8VnxIrLI82wO"
      }
    },
    {
      "cell_type": "code",
      "source": [
        "model4.evaluate(test_data)"
      ],
      "metadata": {
        "colab": {
          "base_uri": "https://localhost:8080/"
        },
        "id": "s9KVq_Kr86i3",
        "outputId": "7cc6ee97-b1de-4a0e-ec41-cd3bb242a6f3"
      },
      "execution_count": null,
      "outputs": [
        {
          "output_type": "stream",
          "name": "stdout",
          "text": [
            "\r1/1 [==============================] - 13s 13s/step\n",
            "\n"
          ]
        },
        {
          "output_type": "execute_result",
          "data": {
            "text/plain": [
              "{'AP': 0.50799143,\n",
              " 'AP50': 0.60435116,\n",
              " 'AP75': 0.5548213,\n",
              " 'APs': -1.0,\n",
              " 'APm': 1.0,\n",
              " 'APl': 0.5174414,\n",
              " 'ARmax1': 0.55948496,\n",
              " 'ARmax10': 0.81996065,\n",
              " 'ARmax100': 0.83451414,\n",
              " 'ARs': -1.0,\n",
              " 'ARm': 1.0,\n",
              " 'ARl': 0.8330184,\n",
              " 'AP_/yellow_duck': 0.5104902,\n",
              " 'AP_/green_duck': 0.39492863,\n",
              " 'AP_/green_frog': 0.6185555}"
            ]
          },
          "metadata": {},
          "execution_count": 23
        }
      ]
    },
    {
      "cell_type": "markdown",
      "source": [
        "### Export Model"
      ],
      "metadata": {
        "id": "1i-eb4y25Izi"
      }
    },
    {
      "cell_type": "code",
      "source": [
        "!mkdir /content/model\n",
        "%cd /content/model"
      ],
      "metadata": {
        "id": "yJCEmORA5Myw",
        "colab": {
          "base_uri": "https://localhost:8080/"
        },
        "outputId": "1eb71794-0e30-4828-df0f-165e9b991b4c"
      },
      "execution_count": null,
      "outputs": [
        {
          "output_type": "stream",
          "name": "stdout",
          "text": [
            "/content/model\n"
          ]
        }
      ]
    },
    {
      "cell_type": "code",
      "source": [
        "model0.export(export_dir='.', tflite_filename='frogducky0.tflite')"
      ],
      "metadata": {
        "id": "cuzfD7Qy5Kz0"
      },
      "execution_count": null,
      "outputs": []
    },
    {
      "cell_type": "code",
      "source": [
        "model1.export(export_dir='.', tflite_filename='frogducky1.tflite')"
      ],
      "metadata": {
        "id": "V-giUhy_MMBb"
      },
      "execution_count": null,
      "outputs": []
    },
    {
      "cell_type": "code",
      "source": [
        "model2.export(export_dir='.', tflite_filename='frogducky2.tflite')"
      ],
      "metadata": {
        "id": "a7q_ciTHQxlp"
      },
      "execution_count": null,
      "outputs": []
    },
    {
      "cell_type": "code",
      "source": [
        "model3.export(export_dir='.', tflite_filename='frogducky3.tflite')"
      ],
      "metadata": {
        "id": "KmYR1N-4Irsu"
      },
      "execution_count": null,
      "outputs": []
    },
    {
      "cell_type": "code",
      "source": [
        "model4.export(export_dir='.', tflite_filename='frogducky4.tflite')"
      ],
      "metadata": {
        "id": "yWCH29HC9fyJ"
      },
      "execution_count": null,
      "outputs": []
    },
    {
      "cell_type": "markdown",
      "source": [
        "## Evaluate Model"
      ],
      "metadata": {
        "id": "xVBkO3XJ_xZ2"
      }
    },
    {
      "cell_type": "code",
      "source": [
        "model0.evaluate_tflite('frogducky0.tflite', test_data)"
      ],
      "metadata": {
        "colab": {
          "base_uri": "https://localhost:8080/"
        },
        "id": "mAseE7gu_0vf",
        "outputId": "4c792828-0a21-4288-c4af-6c84257ce866"
      },
      "execution_count": null,
      "outputs": [
        {
          "output_type": "stream",
          "name": "stdout",
          "text": [
            "39/39 [==============================] - 90s 2s/step\n",
            "\n"
          ]
        },
        {
          "output_type": "execute_result",
          "data": {
            "text/plain": [
              "{'AP': 0.2828931,\n",
              " 'AP50': 0.37007406,\n",
              " 'AP75': 0.34070766,\n",
              " 'APs': -1.0,\n",
              " 'APm': 0.8,\n",
              " 'APl': 0.280737,\n",
              " 'ARmax1': 0.357816,\n",
              " 'ARmax10': 0.4509413,\n",
              " 'ARmax100': 0.4509413,\n",
              " 'ARs': -1.0,\n",
              " 'ARm': 0.8,\n",
              " 'ARl': 0.4483131,\n",
              " 'AP_/yellow_duck': 0.22000505,\n",
              " 'AP_/green_duck': 0.30242267,\n",
              " 'AP_/green_frog': 0.32625154}"
            ]
          },
          "metadata": {},
          "execution_count": 25
        }
      ]
    },
    {
      "cell_type": "code",
      "source": [
        "model1.evaluate_tflite('frogducky1.tflite', test_data)"
      ],
      "metadata": {
        "colab": {
          "base_uri": "https://localhost:8080/"
        },
        "id": "uJCxaOg3MT4d",
        "outputId": "47a35cb8-7db9-41f1-f93f-6dfc902ef29a"
      },
      "execution_count": null,
      "outputs": [
        {
          "output_type": "stream",
          "name": "stdout",
          "text": [
            "39/39 [==============================] - 195s 5s/step\n",
            "\n"
          ]
        },
        {
          "output_type": "execute_result",
          "data": {
            "text/plain": [
              "{'AP': 0.36512837,\n",
              " 'AP50': 0.44899523,\n",
              " 'AP75': 0.42028558,\n",
              " 'APs': -1.0,\n",
              " 'APm': 0.8,\n",
              " 'APl': 0.36344755,\n",
              " 'ARmax1': 0.39881805,\n",
              " 'ARmax10': 0.52025306,\n",
              " 'ARmax100': 0.52025306,\n",
              " 'ARs': -1.0,\n",
              " 'ARm': 0.8,\n",
              " 'ARl': 0.5174539,\n",
              " 'AP_/yellow_duck': 0.37541166,\n",
              " 'AP_/green_duck': 0.28587553,\n",
              " 'AP_/green_frog': 0.43409792}"
            ]
          },
          "metadata": {},
          "execution_count": 40
        }
      ]
    },
    {
      "cell_type": "code",
      "source": [
        "model2.evaluate_tflite('frogducky2.tflite', test_data)"
      ],
      "metadata": {
        "colab": {
          "base_uri": "https://localhost:8080/"
        },
        "id": "2jWR1aOIRmnI",
        "outputId": "766b5d0b-9d44-4096-c805-338f87f23d2b"
      },
      "execution_count": null,
      "outputs": [
        {
          "output_type": "stream",
          "name": "stdout",
          "text": [
            "39/39 [==============================] - 333s 9s/step\n",
            "\n"
          ]
        },
        {
          "output_type": "execute_result",
          "data": {
            "text/plain": [
              "{'AP': 0.39312682,\n",
              " 'AP50': 0.47129872,\n",
              " 'AP75': 0.44401658,\n",
              " 'APs': -1.0,\n",
              " 'APm': 0.8,\n",
              " 'APl': 0.39047906,\n",
              " 'ARmax1': 0.4532636,\n",
              " 'ARmax10': 0.532085,\n",
              " 'ARmax100': 0.53293973,\n",
              " 'ARs': -1.0,\n",
              " 'ARm': 0.8,\n",
              " 'ARl': 0.5301619,\n",
              " 'AP_/yellow_duck': 0.4325697,\n",
              " 'AP_/green_duck': 0.37407938,\n",
              " 'AP_/green_frog': 0.3727313}"
            ]
          },
          "metadata": {},
          "execution_count": 50
        }
      ]
    },
    {
      "cell_type": "code",
      "source": [
        "model3.evaluate_tflite('frogducky3.tflite', test_data)"
      ],
      "metadata": {
        "colab": {
          "base_uri": "https://localhost:8080/"
        },
        "id": "JVFCTQBhJbXw",
        "outputId": "b39e806d-e604-41e5-e445-ea96b24dc202"
      },
      "execution_count": null,
      "outputs": [
        {
          "output_type": "stream",
          "name": "stdout",
          "text": [
            "39/39 [==============================] - 695s 18s/step\n",
            "\n"
          ]
        },
        {
          "output_type": "execute_result",
          "data": {
            "text/plain": [
              "{'AP': 0.38552213,\n",
              " 'AP50': 0.45225495,\n",
              " 'AP75': 0.43252844,\n",
              " 'APs': -1.0,\n",
              " 'APm': 0.25,\n",
              " 'APl': 0.38522738,\n",
              " 'ARmax1': 0.3995243,\n",
              " 'ARmax10': 0.5054082,\n",
              " 'ARmax100': 0.5054082,\n",
              " 'ARs': -1.0,\n",
              " 'ARm': 1.0,\n",
              " 'ARl': 0.5017544,\n",
              " 'AP_/yellow_duck': 0.29887518,\n",
              " 'AP_/green_duck': 0.41250342,\n",
              " 'AP_/green_frog': 0.44518778}"
            ]
          },
          "metadata": {},
          "execution_count": 31
        }
      ]
    },
    {
      "cell_type": "code",
      "source": [
        "model4.evaluate_tflite('frogducky4.tflite', test_data)"
      ],
      "metadata": {
        "colab": {
          "base_uri": "https://localhost:8080/"
        },
        "id": "5eF3rJtcDM_u",
        "outputId": "16b2584c-1343-4ed7-d5d8-fd127b703700"
      },
      "execution_count": null,
      "outputs": [
        {
          "output_type": "stream",
          "name": "stdout",
          "text": [
            "39/39 [==============================] - 1918s 49s/step\n",
            "\n"
          ]
        },
        {
          "output_type": "execute_result",
          "data": {
            "text/plain": [
              "{'AP': 0.42676157,\n",
              " 'AP50': 0.5022978,\n",
              " 'AP75': 0.47132525,\n",
              " 'APs': -1.0,\n",
              " 'APm': 1.0,\n",
              " 'APl': 0.43257493,\n",
              " 'ARmax1': 0.4956163,\n",
              " 'ARmax10': 0.5914935,\n",
              " 'ARmax100': 0.5914935,\n",
              " 'ARs': -1.0,\n",
              " 'ARm': 1.0,\n",
              " 'ARl': 0.5879892,\n",
              " 'AP_/yellow_duck': 0.4250652,\n",
              " 'AP_/green_duck': 0.32567775,\n",
              " 'AP_/green_frog': 0.52954173}"
            ]
          },
          "metadata": {},
          "execution_count": 27
        }
      ]
    },
    {
      "cell_type": "markdown",
      "source": [
        "## Detection Test"
      ],
      "metadata": {
        "id": "OcfVloP_JcO4"
      }
    },
    {
      "cell_type": "code",
      "source": [
        "!mkdir /content/detection\n",
        "%cd /content/detection"
      ],
      "metadata": {
        "colab": {
          "base_uri": "https://localhost:8080/"
        },
        "id": "-Iy9rklNNjlx",
        "outputId": "4ec02690-11c8-47b3-e3c6-22db17a0943b"
      },
      "execution_count": null,
      "outputs": [
        {
          "output_type": "stream",
          "name": "stdout",
          "text": [
            "/content/detection\n"
          ]
        }
      ]
    },
    {
      "cell_type": "code",
      "source": [
        "model_path = '/content/model/frogducky4.tflite'\n",
        "\n",
        "# Load the labels into a list\n",
        "classes = ['???'] * model4.model_spec.config.num_classes\n",
        "label_map = model4.model_spec.config.label_map\n",
        "for label_id, label_name in label_map.as_dict().items():\n",
        "  classes[label_id-1] = label_name\n",
        "\n",
        "# Define a list of colors for visualization\n",
        "COLORS = np.random.randint(0, 255, size=(len(classes), 3), dtype=np.uint8)\n",
        "\n",
        "def preprocess_image(image_path, input_size):\n",
        "  \"\"\"Preprocess the input image to feed to the TFLite model\"\"\"\n",
        "  img = tf.io.read_file(image_path)\n",
        "  img = tf.io.decode_image(img, channels=3)\n",
        "  img = tf.image.convert_image_dtype(img, tf.uint8)\n",
        "  original_image = img\n",
        "  resized_img = tf.image.resize(img, input_size)\n",
        "  resized_img = resized_img[tf.newaxis, :]\n",
        "  resized_img = tf.cast(resized_img, dtype=tf.uint8)\n",
        "  return resized_img, original_image\n",
        "\n",
        "\n",
        "def detect_objects(interpreter, image, threshold):\n",
        "  \"\"\"Returns a list of detection results, each a dictionary of object info.\"\"\"\n",
        "\n",
        "  signature_fn = interpreter.get_signature_runner()\n",
        "\n",
        "  # Feed the input image to the model\n",
        "  output = signature_fn(images=image)\n",
        "\n",
        "  # Get all outputs from the model\n",
        "  count = int(np.squeeze(output['output_0']))\n",
        "  scores = np.squeeze(output['output_1'])\n",
        "  classes = np.squeeze(output['output_2'])\n",
        "  boxes = np.squeeze(output['output_3'])\n",
        "\n",
        "  results = []\n",
        "  for i in range(count):\n",
        "    if scores[i] >= threshold:\n",
        "      result = {\n",
        "        'bounding_box': boxes[i],\n",
        "        'class_id': classes[i],\n",
        "        'score': scores[i]\n",
        "      }\n",
        "      results.append(result)\n",
        "  return results\n",
        "\n",
        "\n",
        "def run_odt_and_draw_results(image_path, interpreter, threshold=0.5):\n",
        "  \"\"\"Run object detection on the input image and draw the detection results\"\"\"\n",
        "  # Load the input shape required by the model\n",
        "  _, input_height, input_width, _ = interpreter.get_input_details()[0]['shape']\n",
        "\n",
        "  # Load the input image and preprocess it\n",
        "  preprocessed_image, original_image = preprocess_image(\n",
        "      image_path,\n",
        "      (input_height, input_width)\n",
        "    )\n",
        "\n",
        "  # Run object detection on the input image\n",
        "  results = detect_objects(interpreter, preprocessed_image, threshold=threshold)\n",
        "\n",
        "  # Plot the detection results on the input image\n",
        "  original_image_np = original_image.numpy().astype(np.uint8)\n",
        "  for obj in results:\n",
        "    # Convert the object bounding box from relative coordinates to absolute\n",
        "    # coordinates based on the original image resolution\n",
        "    ymin, xmin, ymax, xmax = obj['bounding_box']\n",
        "    xmin = int(xmin * original_image_np.shape[1])\n",
        "    xmax = int(xmax * original_image_np.shape[1])\n",
        "    ymin = int(ymin * original_image_np.shape[0])\n",
        "    ymax = int(ymax * original_image_np.shape[0])\n",
        "\n",
        "    # Find the class index of the current object\n",
        "    class_id = int(obj['class_id'])\n",
        "\n",
        "    # Draw the bounding box and label on the image\n",
        "    color = [int(c) for c in COLORS[class_id]]\n",
        "    cv2.rectangle(original_image_np, (xmin, ymin), (xmax, ymax), color, 2)\n",
        "    # Make adjustments to make the label visible for all objects\n",
        "    y = ymin - 15 if ymin - 15 > 15 else ymin + 15\n",
        "    label = \"{}: {:.0f}%\".format(classes[class_id], obj['score'] * 100)\n",
        "    cv2.putText(original_image_np, label, (xmin, y),\n",
        "        cv2.FONT_HERSHEY_SIMPLEX, 0.5, color, 2)\n",
        "\n",
        "  # Return the final image\n",
        "  original_uint8 = original_image_np.astype(np.uint8)\n",
        "  return original_uint8"
      ],
      "metadata": {
        "id": "KWPZvs3C__ZF"
      },
      "execution_count": null,
      "outputs": []
    },
    {
      "cell_type": "code",
      "source": [
        "DETECTION_THRESHOLD = 0.45\n",
        "\n",
        "TEST_FILE = '/content/gdrive/MyDrive/Capstone/C501/ModelPreparation/Dataset/Test_Dataset/Ducky_Frog/Test_4.jpg'\n",
        "\n",
        "im = Image.open(TEST_FILE)\n",
        "im.thumbnail((512, 512), Image.ANTIALIAS)\n",
        "im.save(TEST_FILE, 'JPEG')\n",
        "\n",
        "# Load the TFLite model\n",
        "interpreter = tf.lite.Interpreter(model_path=model_path)\n",
        "interpreter.allocate_tensors()\n",
        "\n",
        "# Run inference and draw detection result on the local copy of the original file\n",
        "detection_result_image = run_odt_and_draw_results(\n",
        "    TEST_FILE,\n",
        "    interpreter,\n",
        "    threshold=DETECTION_THRESHOLD\n",
        ")\n",
        "\n",
        "# Show the detection result\n",
        "det_im = Image.fromarray(detection_result_image)\n",
        "det_im.save('frogducky4_detection4.jpg', 'JPEG')"
      ],
      "metadata": {
        "id": "cqgsvL4OAJAz"
      },
      "execution_count": null,
      "outputs": []
    }
  ]
}