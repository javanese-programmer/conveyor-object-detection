{
  "nbformat": 4,
  "nbformat_minor": 0,
  "metadata": {
    "colab": {
      "provenance": []
    },
    "kernelspec": {
      "name": "python3",
      "display_name": "Python 3"
    },
    "language_info": {
      "name": "python"
    },
    "accelerator": "GPU",
    "gpuClass": "standard"
  },
  "cells": [
    {
      "cell_type": "markdown",
      "source": [
        "## Prequisutites"
      ],
      "metadata": {
        "id": "C8YY6O9dYaPe"
      }
    },
    {
      "cell_type": "markdown",
      "source": [
        "### Install Required Libraries"
      ],
      "metadata": {
        "id": "09PGoh9JulnK"
      }
    },
    {
      "cell_type": "code",
      "source": [
        "!pip install -q --use-deprecated=legacy-resolver tflite-model-maker"
      ],
      "metadata": {
        "colab": {
          "base_uri": "https://localhost:8080/"
        },
        "id": "S_1mdxRetrMD",
        "outputId": "ad96034d-960b-4a21-ebc2-8a5bbbaeebc1"
      },
      "execution_count": null,
      "outputs": [
        {
          "output_type": "stream",
          "name": "stdout",
          "text": [
            "\u001b[2K     \u001b[90m━━━━━━━━━━━━━━━━━━━━━━━━━━━━━━━━━━━━━━\u001b[0m \u001b[32m577.3/577.3 KB\u001b[0m \u001b[31m20.7 MB/s\u001b[0m eta \u001b[36m0:00:00\u001b[0m\n",
            "\u001b[2K     \u001b[90m━━━━━━━━━━━━━━━━━━━━━━━━━━━━━━━━━━━━━━━━\u001b[0m \u001b[32m1.3/1.3 MB\u001b[0m \u001b[31m45.7 MB/s\u001b[0m eta \u001b[36m0:00:00\u001b[0m\n",
            "\u001b[2K     \u001b[90m━━━━━━━━━━━━━━━━━━━━━━━━━━━━━━━━━━━━━━━━\u001b[0m \u001b[32m10.9/10.9 MB\u001b[0m \u001b[31m70.6 MB/s\u001b[0m eta \u001b[36m0:00:00\u001b[0m\n",
            "\u001b[2K     \u001b[90m━━━━━━━━━━━━━━━━━━━━━━━━━━━━━━━━━━━━━━\u001b[0m \u001b[32m840.9/840.9 KB\u001b[0m \u001b[31m45.3 MB/s\u001b[0m eta \u001b[36m0:00:00\u001b[0m\n",
            "\u001b[2K     \u001b[90m━━━━━━━━━━━━━━━━━━━━━━━━━━━━━━━━━━━━━━━━\u001b[0m \u001b[32m1.1/1.1 MB\u001b[0m \u001b[31m42.3 MB/s\u001b[0m eta \u001b[36m0:00:00\u001b[0m\n",
            "\u001b[2K     \u001b[90m━━━━━━━━━━━━━━━━━━━━━━━━━━━━━━━━━━━━━━\u001b[0m \u001b[32m238.9/238.9 KB\u001b[0m \u001b[31m13.8 MB/s\u001b[0m eta \u001b[36m0:00:00\u001b[0m\n",
            "\u001b[2K     \u001b[90m━━━━━━━━━━━━━━━━━━━━━━━━━━━━━━━━━━━━━━━━\u001b[0m \u001b[32m3.4/3.4 MB\u001b[0m \u001b[31m62.6 MB/s\u001b[0m eta \u001b[36m0:00:00\u001b[0m\n",
            "\u001b[2K     \u001b[90m━━━━━━━━━━━━━━━━━━━━━━━━━━━━━━━━━━━━━━━━\u001b[0m \u001b[32m60.8/60.8 MB\u001b[0m \u001b[31m17.2 MB/s\u001b[0m eta \u001b[36m0:00:00\u001b[0m\n",
            "\u001b[2K     \u001b[90m━━━━━━━━━━━━━━━━━━━━━━━━━━━━━━━━━━━━━━━━\u001b[0m \u001b[32m88.3/88.3 KB\u001b[0m \u001b[31m9.1 MB/s\u001b[0m eta \u001b[36m0:00:00\u001b[0m\n",
            "\u001b[?25h  Preparing metadata (setup.py) ... \u001b[?25l\u001b[?25hdone\n",
            "\u001b[2K     \u001b[90m━━━━━━━━━━━━━━━━━━━━━━━━━━━━━━━━━━━━━━━━\u001b[0m \u001b[32m77.5/77.5 KB\u001b[0m \u001b[31m9.5 MB/s\u001b[0m eta \u001b[36m0:00:00\u001b[0m\n",
            "\u001b[2K     \u001b[90m━━━━━━━━━━━━━━━━━━━━━━━━━━━━━━━━━━━━━━\u001b[0m \u001b[32m128.6/128.6 KB\u001b[0m \u001b[31m17.1 MB/s\u001b[0m eta \u001b[36m0:00:00\u001b[0m\n",
            "\u001b[2K     \u001b[90m━━━━━━━━━━━━━━━━━━━━━━━━━━━━━━━━━━━━━━\u001b[0m \u001b[32m352.1/352.1 KB\u001b[0m \u001b[31m40.7 MB/s\u001b[0m eta \u001b[36m0:00:00\u001b[0m\n",
            "\u001b[2K     \u001b[90m━━━━━━━━━━━━━━━━━━━━━━━━━━━━━━━━━━━━━━━━\u001b[0m \u001b[32m25.3/25.3 MB\u001b[0m \u001b[31m70.9 MB/s\u001b[0m eta \u001b[36m0:00:00\u001b[0m\n",
            "\u001b[2K     \u001b[90m━━━━━━━━━━━━━━━━━━━━━━━━━━━━━━━━━━━━━━\u001b[0m \u001b[32m222.4/222.4 KB\u001b[0m \u001b[31m27.5 MB/s\u001b[0m eta \u001b[36m0:00:00\u001b[0m\n",
            "\u001b[?25h  Building wheel for fire (setup.py) ... \u001b[?25l\u001b[?25hdone\n",
            "\u001b[31mERROR: pip's legacy dependency resolver does not consider dependency conflicts when selecting packages. This behaviour is the source of the following dependency conflicts.\n",
            "scann 1.2.6 requires tensorflow~=2.8.0, but you'll have tensorflow 2.11.0 which is incompatible.\n",
            "tensorflowjs 3.18.0 requires packaging~=20.9, but you'll have packaging 23.0 which is incompatible.\u001b[0m\u001b[31m\n",
            "\u001b[0m"
          ]
        }
      ]
    },
    {
      "cell_type": "code",
      "source": [
        "!pip install -q pycocotools"
      ],
      "metadata": {
        "id": "K_QP2muIttZo"
      },
      "execution_count": null,
      "outputs": []
    },
    {
      "cell_type": "code",
      "source": [
        "!pip install -q opencv-python-headless==4.1.2.30"
      ],
      "metadata": {
        "id": "gNEijyvauWXU",
        "colab": {
          "base_uri": "https://localhost:8080/"
        },
        "outputId": "dfae2b8a-cfe8-425c-cd72-cdcffed8c33e"
      },
      "execution_count": null,
      "outputs": [
        {
          "output_type": "stream",
          "name": "stdout",
          "text": [
            "\u001b[2K     \u001b[90m━━━━━━━━━━━━━━━━━━━━━━━━━━━━━━━━━━━━━━━━\u001b[0m \u001b[32m21.8/21.8 MB\u001b[0m \u001b[31m73.2 MB/s\u001b[0m eta \u001b[36m0:00:00\u001b[0m\n",
            "\u001b[?25h"
          ]
        }
      ]
    },
    {
      "cell_type": "code",
      "source": [
        "!pip uninstall -y tensorflow && pip install -q tensorflow==2.8.0"
      ],
      "metadata": {
        "colab": {
          "base_uri": "https://localhost:8080/"
        },
        "id": "tQ-83p_UucCF",
        "outputId": "e38cafae-b370-46d9-959d-423d05817935"
      },
      "execution_count": null,
      "outputs": [
        {
          "output_type": "stream",
          "name": "stdout",
          "text": [
            "Found existing installation: tensorflow 2.11.0\n",
            "Uninstalling tensorflow-2.11.0:\n",
            "  Successfully uninstalled tensorflow-2.11.0\n",
            "\u001b[2K     \u001b[90m━━━━━━━━━━━━━━━━━━━━━━━━━━━━━━━━━━━━━━━\u001b[0m \u001b[32m497.6/497.6 MB\u001b[0m \u001b[31m3.3 MB/s\u001b[0m eta \u001b[36m0:00:00\u001b[0m\n",
            "\u001b[2K     \u001b[90m━━━━━━━━━━━━━━━━━━━━━━━━━━━━━━━━━━━━━━━━\u001b[0m \u001b[32m1.4/1.4 MB\u001b[0m \u001b[31m75.8 MB/s\u001b[0m eta \u001b[36m0:00:00\u001b[0m\n",
            "\u001b[2K     \u001b[90m━━━━━━━━━━━━━━━━━━━━━━━━━━━━━━━━━━━━━━━━\u001b[0m \u001b[32m42.6/42.6 KB\u001b[0m \u001b[31m6.0 MB/s\u001b[0m eta \u001b[36m0:00:00\u001b[0m\n",
            "\u001b[2K     \u001b[90m━━━━━━━━━━━━━━━━━━━━━━━━━━━━━━━━━━━━━━━━\u001b[0m \u001b[32m5.8/5.8 MB\u001b[0m \u001b[31m106.0 MB/s\u001b[0m eta \u001b[36m0:00:00\u001b[0m\n",
            "\u001b[2K     \u001b[90m━━━━━━━━━━━━━━━━━━━━━━━━━━━━━━━━━━━━━━\u001b[0m \u001b[32m462.5/462.5 KB\u001b[0m \u001b[31m47.9 MB/s\u001b[0m eta \u001b[36m0:00:00\u001b[0m\n",
            "\u001b[?25h\u001b[31mERROR: pip's dependency resolver does not currently take into account all the packages that are installed. This behaviour is the source of the following dependency conflicts.\n",
            "tensorflowjs 3.18.0 requires packaging~=20.9, but you have packaging 23.0 which is incompatible.\u001b[0m\u001b[31m\n",
            "\u001b[0m"
          ]
        }
      ]
    },
    {
      "cell_type": "code",
      "source": [
        "!pip install split-folders"
      ],
      "metadata": {
        "id": "aC5PuSHGuQ__",
        "colab": {
          "base_uri": "https://localhost:8080/"
        },
        "outputId": "820ba135-0f63-486d-dbeb-8f6594925dee"
      },
      "execution_count": null,
      "outputs": [
        {
          "output_type": "stream",
          "name": "stdout",
          "text": [
            "Looking in indexes: https://pypi.org/simple, https://us-python.pkg.dev/colab-wheels/public/simple/\n",
            "Collecting split-folders\n",
            "  Downloading split_folders-0.5.1-py3-none-any.whl (8.4 kB)\n",
            "Installing collected packages: split-folders\n",
            "Successfully installed split-folders-0.5.1\n"
          ]
        }
      ]
    },
    {
      "cell_type": "markdown",
      "source": [
        "### Import Packages"
      ],
      "metadata": {
        "id": "LoA_4-lFuf-1"
      }
    },
    {
      "cell_type": "code",
      "source": [
        "import numpy as np\n",
        "import os\n",
        "import lxml\n",
        "from lxml import etree\n",
        "from lxml.html.clean import Cleaner\n",
        "import splitfolders\n",
        "import shutil\n",
        "\n",
        "import cv2\n",
        "from PIL import Image\n",
        "import matplotlib.pyplot as plt\n",
        "\n",
        "from tflite_model_maker.config import QuantizationConfig\n",
        "from tflite_model_maker.config import ExportFormat\n",
        "from tflite_model_maker import model_spec\n",
        "from tflite_model_maker import object_detector\n",
        "\n",
        "import tensorflow as tf\n",
        "assert tf.__version__.startswith('2')\n",
        "\n",
        "tf.get_logger().setLevel('ERROR')\n",
        "from absl import logging\n",
        "logging.set_verbosity(logging.ERROR)\n",
        "\n",
        "from google.colab import drive"
      ],
      "metadata": {
        "id": "tetNLlGPurHR",
        "colab": {
          "base_uri": "https://localhost:8080/"
        },
        "outputId": "77a4a6c7-d541-4ee9-f145-3a8499fd5184"
      },
      "execution_count": null,
      "outputs": [
        {
          "output_type": "stream",
          "name": "stderr",
          "text": [
            "/usr/local/lib/python3.8/dist-packages/tensorflow_addons/utils/ensure_tf_install.py:53: UserWarning: Tensorflow Addons supports using Python ops for all Tensorflow versions above or equal to 2.9.0 and strictly below 2.12.0 (nightly versions are not supported). \n",
            " The versions of TensorFlow you are currently using is 2.8.0 and is not supported. \n",
            "Some things might work, some things might not.\n",
            "If you were to encounter a bug, do not file an issue.\n",
            "If you want to make sure you're using a tested and supported configuration, either change the TensorFlow version or the TensorFlow Addons's version. \n",
            "You can find the compatibility matrix in TensorFlow Addon's readme:\n",
            "https://github.com/tensorflow/addons\n",
            "  warnings.warn(\n"
          ]
        }
      ]
    },
    {
      "cell_type": "markdown",
      "source": [
        "## Prepare Model"
      ],
      "metadata": {
        "id": "lM7gJNx-xW46"
      }
    },
    {
      "cell_type": "markdown",
      "source": [
        "### Prepare Directories"
      ],
      "metadata": {
        "id": "AhMMZ7t5yzNG"
      }
    },
    {
      "cell_type": "code",
      "source": [
        "drive.mount('/content/gdrive/', force_remount=True)"
      ],
      "metadata": {
        "id": "6GHk9dpho1Vc",
        "colab": {
          "base_uri": "https://localhost:8080/"
        },
        "outputId": "840ae3c1-a47f-4164-df13-2f6f4e07430c"
      },
      "execution_count": null,
      "outputs": [
        {
          "output_type": "stream",
          "name": "stdout",
          "text": [
            "Mounted at /content/gdrive/\n"
          ]
        }
      ]
    },
    {
      "cell_type": "markdown",
      "source": [
        "**Train and Validation Data Dir**"
      ],
      "metadata": {
        "id": "nghQE06dktGV"
      }
    },
    {
      "cell_type": "code",
      "source": [
        "!mkdir /content/Train_Val\n",
        "%cd /content/Train_Val\n",
        "!unzip \"/content/gdrive/MyDrive/Capstone/C501/ModelPreparation/Dataset/Augmented/Pascal VOC/Train_Ducky_Chicken.zip\""
      ],
      "metadata": {
        "colab": {
          "base_uri": "https://localhost:8080/"
        },
        "id": "KefWc7nZyx45",
        "outputId": "c92af58d-2968-4cc1-b7d2-93b6bd43518c"
      },
      "execution_count": null,
      "outputs": [
        {
          "output_type": "stream",
          "name": "stdout",
          "text": [
            "/content/Train_Val\n",
            "Archive:  /content/gdrive/MyDrive/Capstone/C501/ModelPreparation/Dataset/Augmented/Pascal VOC/Train_Ducky_Chicken.zip\n",
            "   creating: Annotations/\n",
            "   creating: images/\n",
            "  inflating: Annotations/00373f39-ucexportviewid1yRZ_PsnURfDnyok_daxgPD-I5TPmB_hI.xml  \n",
            "  inflating: Annotations/015c176a-ucexportviewid1g14VeOxKqBR6tjDgsFWZyXCAJvZRXGp4.xml  \n",
            "  inflating: Annotations/043ae976-ucexportviewid1-Atswyr4wOKcUPS-xVLj4G47ZQyAWfzB.xml  \n",
            "  inflating: Annotations/04b325fd-ucexportviewid1yvvUB7LloBhYiri4PFxZDeBiGvIU4wR7.xml  \n",
            "  inflating: Annotations/050c8139-ucexportviewid1WbHlg77DNoiCN1MqYkklm7dxNGsaX1Kz.xml  \n",
            "  inflating: Annotations/05208080-ucexportviewid1Ruh7xbZiuj1eNlbqW6oFSkgJJZkoRd0c.xml  \n",
            "  inflating: Annotations/06ec0acd-ucexportviewid1f-8KD892hI3hLpTlnGaBB0uMnblRLA6J.xml  \n",
            "  inflating: Annotations/07d3dd43-ucexportviewid1oabmj4w_cbFTit4KzHnQf5Jdkghg_WsN.xml  \n",
            "  inflating: Annotations/0866f45b-ucexportviewid1TbmgNHo8p1xylF4Cs-vpxmOkxzgJa2IC.xml  \n",
            "  inflating: Annotations/09104851-ucexportviewid1ysbFfMQEr7rQ-sb_I59S3-ZdoAmCKZbY.xml  \n",
            "  inflating: Annotations/092e5214-ucexportviewid1UbEX8n3B13335XLkA9TZD6mjPPvd8eQ-.xml  \n",
            "  inflating: Annotations/0b43ae3c-ucexportviewid1Q0HvmfN2UZ74hr_D3l0CDcv7FSor0Rxl.xml  \n",
            "  inflating: Annotations/0c3a6fc8-ucexportviewid1GIrSPZb_xzDQvetxuqofXBJ4RKUiyvKQ.xml  \n",
            "  inflating: Annotations/0de6314c-ucexportviewid1sMiYqpQFPPzWarX2AT1Ihil3BsbDl2Ld.xml  \n",
            "  inflating: Annotations/109f3738-ucexportviewid1xPy1McZrMYkHbQzxnxToJ1yfVUU2CTNj.xml  \n",
            "  inflating: Annotations/11c8d8a6-ucexportviewid1cEkASwExHnagcBx6YXroc2PUTueyLWwr.xml  \n",
            "  inflating: Annotations/11fbeeb5-ucexportviewid1po2sM55JrIhc3x7u1huaB1KSQ1hWeRi8.xml  \n",
            "  inflating: Annotations/12204e99-ucexportviewid1kseYLA1YgGI5lVwMKG40EWjB-xsSuKnW.xml  \n",
            "  inflating: Annotations/122dc668-ucexportviewid1wpedvkX1Bsr0LaN1Fle70e4RxRPXDENK.xml  \n",
            "  inflating: Annotations/13cc7e70-ucexportviewid1BuetrkkJ0l3MsPqk5yg8TuCleJ1bOP_L.xml  \n",
            "  inflating: Annotations/14d53a4d-ucexportviewid1QEbJxKQtw7Dc-p1PInSTBptKE9T7JSBO.xml  \n",
            "  inflating: Annotations/158384e5-ucexportviewid1t9lwDgu1TyKuvbXYHA62-iHMWkZFrjrf.xml  \n",
            "  inflating: Annotations/160ba175-ucexportviewid1FSOY95RkcMmqJ2dvnJEfUlbD4zy9JxBu.xml  \n",
            "  inflating: Annotations/1644631e-ucexportviewid1ZaxmCsaIjGTDqFYsuu38bYsVaoua1EQL.xml  \n",
            "  inflating: Annotations/16dcb957-ucexportviewid1ApOIFMQMucrimxNM5wB0OakDxgEFrfvc.xml  \n",
            "  inflating: Annotations/177af667-ucexportviewid1miKHnv32FCI8zkyX_NEFeR0PvMSbdSXD.xml  \n",
            "  inflating: Annotations/1a298feb-ucexportviewid17Q4AQKwWSEOVjz44sXP6QR47LpowBqku.xml  \n",
            "  inflating: Annotations/1ac942cb-ucexportviewid1PRkIGgJ4bJvU1QoLPLjhqLjiuJbZaNu3.xml  \n",
            "  inflating: Annotations/1d037c01-ucexportviewid12nGxp-IdTSbApyLFwZ0NK5wBzCfqdHCT.xml  \n",
            "  inflating: Annotations/1d7d69c7-ucexportviewid17B15xVnDAdS-xqebEShl-tTWOOS0iwOB.xml  \n",
            "  inflating: Annotations/1dcfda5d-ucexportviewid1gQqeCAZAfEyXxgKU9CK5PrgA3LWJTgoQ.xml  \n",
            "  inflating: Annotations/1de4505e-ucexportviewid1YYtudVWXcsWDw0iCfXNPlXDl4cvXUgfD.xml  \n",
            "  inflating: Annotations/1e524974-ucexportviewid1dKXMD9D5_FgovKz9UP_rtg4pe-QGLkAX.xml  \n",
            "  inflating: Annotations/2069a912-ucexportviewid1_bR9BakSXRC7Atztc7QncdcY2TWPkj6j.xml  \n",
            "  inflating: Annotations/22f054cf-ucexportviewid1xV-jyOtUUsRKNKSQlZFEVfyfvIGnszGV.xml  \n",
            "  inflating: Annotations/236a63b4-ucexportviewid1ufpGVc2if7_CqKkP8z-KzWTN_bAe4PQn.xml  \n",
            "  inflating: Annotations/23be1137-ucexportviewid1GOG-zW2JWSZ6xKybFe7ZNLHYNWPzxC2q.xml  \n",
            "  inflating: Annotations/2497dbf1-ucexportviewid1B2F2tpUn8wBrOSKfDgbh40RUUZU-dFG5.xml  \n",
            "  inflating: Annotations/255e47c7-ucexportviewid1UQ7RZmZCA6q2eHuAA3ydCZOs-6_Ho-eS.xml  \n",
            "  inflating: Annotations/26568c8d-ucexportviewid1Xwbwm2Q1FNV7d4AIVRw-Tt1jNMFg6yJ3.xml  \n",
            "  inflating: Annotations/2a3327a0-ucexportviewid1y9uwhAfrBAaYubDqCpo5LCl_gprMUgZE.xml  \n",
            "  inflating: Annotations/2b3581f4-ucexportviewid1A_Cx8yaRSWK4Nra8QidCdV2hS-7wtcOG.xml  \n",
            "  inflating: Annotations/2bf10793-ucexportviewid1Y-ErBE6jb1YA-jtEPDmCjrrTk9OtWy6e.xml  \n",
            "  inflating: Annotations/2d24be81-ucexportviewid1jR1pGoea3eFabnp7O1PC-3v3o3wmj27_.xml  \n",
            "  inflating: Annotations/2d5e967a-ucexportviewid1g8Rqwyp50v4YW0bxFTzeujsxOBlGpeQb.xml  \n",
            "  inflating: Annotations/2f577f4f-ucexportviewid13RENQOgOkaNuRMDPbs-qdpaT_BGjq4kJ.xml  \n",
            "  inflating: Annotations/3055434f-ucexportviewid11x4UEee4M_lPDPHm2kvRMz2TAbWImTQb.xml  \n",
            "  inflating: Annotations/3141f417-ucexportviewid1BBptmm6EoQwyUhE1QZiWzow6gK261CwB.xml  \n",
            "  inflating: Annotations/31d0ee12-ucexportviewid1v2McLhTCf4IF75rKZZFyi0PfMzWOYAxw.xml  \n",
            "  inflating: Annotations/3357d6a3-ucexportviewid1KcvmrYlRyUyXd9WS16HrnJl2NkkEhb6v.xml  \n",
            "  inflating: Annotations/33e91f34-ucexportviewid1yfHzE-ftQ71hlyBY9zASaMVve_GNsCPJ.xml  \n",
            "  inflating: Annotations/3438e75e-ucexportviewid1TBENJ0avfsoam4_Q6blYd4KTQ0nOZsZj.xml  \n",
            "  inflating: Annotations/37235d8e-ucexportviewid11YweiuJeor__FE1qw_Jn2xFAr62DNiv2.xml  \n",
            "  inflating: Annotations/3b954c34-ucexportviewid1xbp6hcg6fVK6YH9nieCaG1MUB5BsYgBg.xml  \n",
            "  inflating: Annotations/3be2d06e-ucexportviewid1uG0-KKqx0JlSDq3O2_2A6gzjHXYjAMS7.xml  \n",
            "  inflating: Annotations/3c355060-ucexportviewid1tb1I0FryX8Ra2o4nNA7CGSZ47KaYpokN.xml  \n",
            "  inflating: Annotations/3da638b7-ucexportviewid1E54mEe2M0mL8yDNV_QG4sEWuTxIXtgHm.xml  \n",
            "  inflating: Annotations/45e5c939-ucexportviewid1PMD2xpWxPSdVtaW8qrXkbMLE_VIJDn8U.xml  \n",
            "  inflating: Annotations/468ed904-ucexportviewid1sp-0UU5HtxdCA-TVurRLf6SpMb7bVIrH.xml  \n",
            "  inflating: Annotations/47c9c0ba-ucexportviewid1M3LG0aIUrd3ldav9KNUbSgcH8Hixy_VX.xml  \n",
            "  inflating: Annotations/4972f3d6-ucexportviewid1XkDmPO7dG7gWNW6ujZ6Gvrqt9pnlK_gA.xml  \n",
            "  inflating: Annotations/4a4fa635-ucexportviewid1DCabp_VpUQPEQbUv150-CQM9pvTDEC9X.xml  \n",
            "  inflating: Annotations/4a9aadbf-ucexportviewid1-C7aFGbEGSyLmnNBDk_0iQE9sOGqkeYj.xml  \n",
            "  inflating: Annotations/4d0b237d-ucexportviewid1OE9CbyttZHYcjWVQChzFQPN5BTleRK2c.xml  \n",
            "  inflating: Annotations/4d1cba59-ucexportviewid1wI_7m52BoADzQkG_8DjWiAc3SL91WkDE.xml  \n",
            "  inflating: Annotations/4e3e8cec-ucexportviewid1NOjW7h-ryQSHZ5C8MzklhY0Gzhhs1nYB.xml  \n",
            "  inflating: Annotations/4e69f09a-ucexportviewid1zKc2SDn2cFjPwcJY0X5zBHFA4TsTMxxZ.xml  \n",
            "  inflating: Annotations/5327575a-ucexportviewid1wdl0yFsgfxSTPlIVF_osKSOTq69894CW.xml  \n",
            "  inflating: Annotations/532cbeca-ucexportviewid1FrySJWPmuYFYRnpij_ZrwiEN-Cj_o1JN.xml  \n",
            "  inflating: Annotations/5333daaa-ucexportviewid1FN4ZEBFIVYALnkbP8JgSPF2xagK0hXoQ.xml  \n",
            "  inflating: Annotations/547ad233-ucexportviewid1dnUfeL3qXXkjCyrwYSxQonHCBumiQ2Bx.xml  \n",
            "  inflating: Annotations/54f7ab03-ucexportviewid1nwkU6609byMOc_jrhmXFdSmju779e02a.xml  \n",
            "  inflating: Annotations/5541f407-ucexportviewid1GhRhZrGmTjnFJxxMjQJ4_RPcDcZw-POA.xml  \n",
            "  inflating: Annotations/5565a077-ucexportviewid1N-0hsLGut43ZLRyN4bcTT_Ls4mRNwBN0.xml  \n",
            "  inflating: Annotations/5612a5a8-ucexportviewid1ruNlHruuHFLzYsZju3ZYgLKdUZ68-g4F.xml  \n",
            "  inflating: Annotations/56b26756-ucexportviewid1ygjKfJv68mR8k5s6QmqpvdEf93Gksg9x.xml  \n",
            "  inflating: Annotations/5a04e03e-ucexportviewid1SrYdb-mf5vD3_iXpgqRnwY65rt6hNWdv.xml  \n",
            "  inflating: Annotations/5a34506b-ucexportviewid1CqDHdakN28hSkHz4DSMBRmJxt_1oEjNs.xml  \n",
            "  inflating: Annotations/5b893632-ucexportviewid1LWgU9Dt9apUyuhBL6YPLqSXYNMfWIzfS.xml  \n",
            "  inflating: Annotations/5e239565-ucexportviewid1kuJC4H66IXyLvSLuY98TU3IELltT09Di.xml  \n",
            "  inflating: Annotations/5e3d9255-ucexportviewid1EGFYWgMA4eZT9b2Eb0IoCQYpGOCcv3CQ.xml  \n",
            "  inflating: Annotations/5e4abc18-ucexportviewid1FGmXWvkxK0jmn3wScVTK53p9r5Gl0e7G.xml  \n",
            "  inflating: Annotations/5f91f8ce-ucexportviewid1O-RVUq4kvsvmsQ9DzaY4W2sia9vJW1us.xml  \n",
            "  inflating: Annotations/5f9d849b-ucexportviewid17V8T0bp0bjV-qfGnH3Z1O59G8gC9Rh0e.xml  \n",
            "  inflating: Annotations/6121f1b4-ucexportviewid1UnejsyzhURtUSsQkZ2xeoTS6tQrzgvPw.xml  \n",
            "  inflating: Annotations/6323dc0a-ucexportviewid1pKHZro9wUEMHlOiy6QAy-OFZYTDk_mPm.xml  \n",
            "  inflating: Annotations/6331cece-ucexportviewid1MrNR4a1XA-WZOI_vq_amC4B_Pwi8DgHG.xml  \n",
            "  inflating: Annotations/63deca32-ucexportviewid14-y3h56qLqY-cD5YI9XgWR8plzhME_dW.xml  \n",
            "  inflating: Annotations/65889724-ucexportviewid1ob93W4ob4pg8cgsQL8svJKwmWC5y31UU.xml  \n",
            "  inflating: Annotations/65ec3def-ucexportviewid1-UnddtPogEw_2aEMjXHwyDQERY2ZUEw6.xml  \n",
            "  inflating: Annotations/67d8a29e-ucexportviewid1glG-eFkg8nEd8EY9IHO_EBXLASpXa8g5.xml  \n",
            "  inflating: Annotations/681fad3c-ucexportviewid1sQaNhbVcTak2jUtz0N_4vQWrsLLNQwXx.xml  \n",
            "  inflating: Annotations/696a9f7e-ucexportviewid1qZNfL7RrYWsBTZpnTFC5A-BGrW2jjmlP.xml  \n",
            "  inflating: Annotations/6a0a1bbc-ucexportviewid1PjLW3B-MwJ4uU5yvTkrXtrj9rlYoycz5.xml  \n",
            "  inflating: Annotations/6fea6658-ucexportviewid13yTROemb62AkwuP_-kECBIyOncXatiyO.xml  \n",
            "  inflating: Annotations/7303b85a-ucexportviewid1ZxFP7ampKDZ2Zj1Jy-_VStUh89z5vInl.xml  \n",
            "  inflating: Annotations/7309f810-ucexportviewid1qOLG5q8-KzT4Y8rz2GJRkaQa8qKn0XQe.xml  \n",
            "  inflating: Annotations/74ac60e9-ucexportviewid1J3uMXaFl3KC7n3HZFZMDynEeza3oum7z.xml  \n",
            "  inflating: Annotations/74dc24f3-ucexportviewid16oxsFuIdDi7tFkjYEO5LAKFdxgzDV9Q0.xml  \n",
            "  inflating: Annotations/750523e9-ucexportviewid1YBoM5oqH706xd1zQ6PE3L1rYPxlZkyBw.xml  \n",
            "  inflating: Annotations/75ac0124-ucexportviewid1tvJXUP1ut1JIFbg3NkXdfPeuuMFIb_2J.xml  \n",
            "  inflating: Annotations/790e33ac-ucexportviewid1PYAnQCoeiam-s2-d_KjVbGaL7yvkqHfo.xml  \n",
            "  inflating: Annotations/7a2076e9-ucexportviewid1r8bKeYe2TJO36K6alCU-Tp5_64B747w1.xml  \n",
            "  inflating: Annotations/7a5b91f8-ucexportviewid1AyQT_g-h8xdiN1n1l9Swzn0a_Ok76PSN.xml  \n",
            "  inflating: Annotations/7ea7d817-ucexportviewid19bxcGHqp6a8q_WXqFREFLvYObISRhunj.xml  \n",
            "  inflating: Annotations/7f0d0ff3-ucexportviewid1h9Tvtkaj7KQck48iQn0Df9Qtcdl12VeX.xml  \n",
            "  inflating: Annotations/812b3e58-ucexportviewid18eqNtDkOoxGyHp2uubU6q2KO_I9L75Sw.xml  \n",
            "  inflating: Annotations/8420d3f2-ucexportviewid1jaVTz2LG0vepM6HLiiRu6TXnWjNQptQN.xml  \n",
            "  inflating: Annotations/84be27c0-ucexportviewid1vAg5BDghn3RZfxqAMT2qBq5_aaTF-k2b.xml  \n",
            "  inflating: Annotations/86f41bb3-ucexportviewid13A8wk4ISCxpEB7vDIysDVYMA8tWApc59.xml  \n",
            "  inflating: Annotations/873c8393-ucexportviewid16NHfA3xumwANXPNk8TWByMQtGEXxHJRw.xml  \n",
            "  inflating: Annotations/8842eb02-ucexportviewid121GEGb1uswbd0Y-oPBDybHd1O_rPSMDH.xml  \n",
            "  inflating: Annotations/89be3a12-ucexportviewid1xGLs98shnZaos6A2sjV9jfaeRS_lOgnC.xml  \n",
            "  inflating: Annotations/89ceb082-ucexportviewid1vLJF3WU-XKVeZXHzatC34EtkNKGtQVv7.xml  \n",
            "  inflating: Annotations/8cfc7b35-ucexportviewid1w7jEtxf0GbgJ-eChnMy1TFWyVaZ9aMmt.xml  \n",
            "  inflating: Annotations/8d565c56-ucexportviewid1Zd1weX7FtpEeczlpX23fPOi4TG4hXmK4.xml  \n",
            "  inflating: Annotations/8d58a9e7-ucexportviewid1gIEL2qN-udd9HoPU1Zl6RIR7qrjFo6Jp.xml  \n",
            "  inflating: Annotations/8d991bee-ucexportviewid1Ja4nOD46UGsZdhvUKA9v3fyFZc1wdH7g.xml  \n",
            "  inflating: Annotations/90ba81f2-ucexportviewid1327hpVoPc-HICaL8jbhFYzVTV2AYuUyu.xml  \n",
            "  inflating: Annotations/90c691d0-ucexportviewid1zq7aWSOzfO2hCnTgCIXsjj6J-QWy5FPb.xml  \n",
            "  inflating: Annotations/917f7653-ucexportviewid1Ly0oSg4ekTq577nmRm6JTmggkWdwzni-.xml  \n",
            "  inflating: Annotations/91c10a67-ucexportviewid1lIn5gDfEMga_Tk7zIdn653gNHCj1T75d.xml  \n",
            "  inflating: Annotations/91f800a3-ucexportviewid1-893Pmvg8QE_onDlYHy-w6Q0Hd2IDIQR.xml  \n",
            "  inflating: Annotations/940fac12-ucexportviewid1wu5No3MCZGqGnViK_PBeAjkZsRy1zyVI.xml  \n",
            "  inflating: Annotations/953594ad-ucexportviewid16wEu89u0sYOpQtGw8AGS4G5c47vTYreB.xml  \n",
            "  inflating: Annotations/9557d5d8-ucexportviewid1MPi4PD2cFryHUdD-qO19nwGhNBw0MoAG.xml  \n",
            "  inflating: Annotations/97dcf887-ucexportviewid1w3DA2Cz3IH7pMAhxwm0qlsnkVDSQ57GF.xml  \n",
            "  inflating: Annotations/9898e4f0-ucexportviewid1WkUZuL3JQrlMnTl2-c8C0ucsIJHhJWnO.xml  \n",
            "  inflating: Annotations/99268a8e-ucexportviewid1IgmyRHS6CyPiMyjEiLr7URyQwbdbdH3T.xml  \n",
            "  inflating: Annotations/996998a0-ucexportviewid158-9wM_CV5dYhvZJ_dQzxUczAegPJAV_.xml  \n",
            "  inflating: Annotations/9b97c0b6-ucexportviewid10_eT5eoUys5yihAkD0POQcb8sO-mUVTy.xml  \n",
            "  inflating: Annotations/9c898517-ucexportviewid1a5LY3UqS_AdkRvWDNx0FRDzwYlDPXe2k.xml  \n",
            "  inflating: Annotations/9ca99b43-ucexportviewid18kdi4he0hKmbnx6n1IEZnhAI7_Qv7nWp.xml  \n",
            "  inflating: Annotations/a012ce2e-ucexportviewid14Iwj-e2AOdFOyezm2JWY1E5hJ3idyFta.xml  \n",
            "  inflating: Annotations/a098ff9f-ucexportviewid1IOt811uGf8zP244wb2QgFlk2pEZmCgpn.xml  \n",
            "  inflating: Annotations/a0d89703-ucexportviewid1Yq1as-oKJR-ZWJ9t4sfw0Y42jriUmljz.xml  \n",
            "  inflating: Annotations/a39c40fb-ucexportviewid1B9PwtraHi737MEj9HIOrYnhqt6EZry3-.xml  \n",
            "  inflating: Annotations/a5305a7a-ucexportviewid1Vv7r4UwWiOgG2tAUgjXnJpAu2pz7cBCt.xml  \n",
            "  inflating: Annotations/a5f621b4-ucexportviewid128PNwb5H53E3sCWE0T8fk60--vk43FNo.xml  \n",
            "  inflating: Annotations/ab018366-ucexportviewid1aaM8PUHswEWLTMx0S7CziiqfPtCQmMfv.xml  \n",
            "  inflating: Annotations/ac4dd51a-ucexportviewid1qq0S0FW-Etc-r37qCIGncPoOtxsgQYwx.xml  \n",
            "  inflating: Annotations/afb77a62-ucexportviewid1Mnr8_61up8HXcVcHFiiztvjwWV5CX2Dd.xml  \n",
            "  inflating: Annotations/b24711c1-ucexportviewid1Lr20gm0lWjLU036PazTzAgVaaZC65Gar.xml  \n",
            "  inflating: Annotations/b26aed9d-ucexportviewid1H48ZauY2Pm47luXqUp8umA1nB915Kbqx.xml  \n",
            "  inflating: Annotations/b428272b-ucexportviewid1ys1rn9Mu_u8DGPlQkXG0A2BqSNmHKZwE.xml  \n",
            "  inflating: Annotations/b4789ae0-ucexportviewid1RUN4a1WZNZLXPDixlJ3jq4Qh3Bz7VgX0.xml  \n",
            "  inflating: Annotations/b5f312fa-ucexportviewid1OCVRhIbUvPiacl-hf2MJrl-kRcWTXvSC.xml  \n",
            "  inflating: Annotations/b6a82b59-ucexportviewid1M7Y0S8bFNjOAFhqqgSlPGQeSRXholY_R.xml  \n",
            "  inflating: Annotations/b7c7df78-ucexportviewid1sSQYn9ojVFNRhYRKJUU96IUHQNu6Y-_I.xml  \n",
            "  inflating: Annotations/b7e48ab6-ucexportviewid1iiyXdDiUohTT0FQZ2qOMMYlyRMRGJ55b.xml  \n",
            "  inflating: Annotations/b91729c1-ucexportviewid1EYmZIqzmJpYCbcejzgZz4brrl_DYIvHT.xml  \n",
            "  inflating: Annotations/ba325d9b-ucexportviewid1A6UsXD5LFNwVms5eUPhZgBI2HBzVM79U.xml  \n",
            "  inflating: Annotations/ba739fd4-ucexportviewid1wMpIfVU-5tVulq8xg0FAve6YRPO6T1R2.xml  \n",
            "  inflating: Annotations/bda9a450-ucexportviewid1xxiRHICJEr6lSmso4lHls57_R7MEXevC.xml  \n",
            "  inflating: Annotations/c02bcd13-ucexportviewid1u7GOfAql1SpPTpLVGNDcpjQotxOe0FV8.xml  \n",
            "  inflating: Annotations/c050bf2e-ucexportviewid1YL5ZSRDp59z0M_LmEUjxfoX29PZIIxZP.xml  \n",
            "  inflating: Annotations/c4bd4bd3-ucexportviewid1SB27bicFJwg8SuvdeqXTxrCFeaNWYMNT.xml  \n",
            "  inflating: Annotations/c596cee6-ucexportviewid1RqKy2wgzBihE3ZzlBgJmFsE_oGHvrYUP.xml  \n",
            "  inflating: Annotations/c6173cad-ucexportviewid10eSNtLPJVnmKcDWjuS5QaRbg3voy-6un.xml  \n",
            "  inflating: Annotations/c7fe9c63-ucexportviewid15FPc7aQex9RHtBtriYPlQ3uoyAt-jLwJ.xml  \n",
            "  inflating: Annotations/c989dce1-ucexportviewid1zLZtrapatXd5vb_ZyB7FNYfMYDESwj4a.xml  \n",
            "  inflating: Annotations/cb32eeed-ucexportviewid1AH8K8FyM9-9Urb1G4IIgmUfLcqg1d32y.xml  \n",
            "  inflating: Annotations/cb6c3c91-ucexportviewid1YCaQ_sMq8No321Dwwlt3wCo4-5s2oHT6.xml  \n",
            "  inflating: Annotations/cd7ba0ae-ucexportviewid1YinqJscTrUbKOYnhBOSW-SfK11aZ3Bb2.xml  \n",
            "  inflating: Annotations/cd8ac33f-ucexportviewid1vxNEgMaCd2CA8fi57_BCU-j8qC8a4_M2.xml  \n",
            "  inflating: Annotations/cfa3ed0b-ucexportviewid1URRT13KXDlOJncTsxM-v5llQygOzRvjf.xml  \n",
            "  inflating: Annotations/d0a1c0fd-ucexportviewid1Ge6ZB6SXXps5BJHbDCOS2gfWUbJzhl8d.xml  \n",
            "  inflating: Annotations/d26763dd-ucexportviewid1wm-kxOPOtaxT3fLLnYZbA_pO5QY6tWJX.xml  \n",
            "  inflating: Annotations/d5768182-ucexportviewid1wkzPYnad8V3pUxtcszWoEhaaHG-qaAHW.xml  \n",
            "  inflating: Annotations/d6575c94-ucexportviewid1-UUgi503o9mV6XA_UfTgIuH6DKCWm5sR.xml  \n",
            "  inflating: Annotations/d76c8426-ucexportviewid1y1AtbYR6zTgF9SdrO5On0zRTXWB_QzFW.xml  \n",
            "  inflating: Annotations/d93c938d-ucexportviewid1RwGX8ii2JM_yqy9her-93iUGhI87R8g5.xml  \n",
            "  inflating: Annotations/d97fd4e0-ucexportviewid1ES97yPXeIEqgki6NaRzEylBBK0FrvzA9.xml  \n",
            "  inflating: Annotations/dba8d3ca-ucexportviewid1LV_A7I0qsvnRCM7ztqBIZB0t1EOAjARq.xml  \n",
            "  inflating: Annotations/dcfd0d93-ucexportviewid1P-FLSoUMplWwaXAUhnr86KzNuYm7XIoC.xml  \n",
            "  inflating: Annotations/de46a9c9-ucexportviewid1b-ZhVJTpNn-J7khUgbyTCN9W-a2qscTu.xml  \n",
            "  inflating: Annotations/de4dc603-ucexportviewid1ecRr_CfqBE1EXMAcm2O29DwX7iQuvB1L.xml  \n",
            "  inflating: Annotations/e42a3fbd-ucexportviewid1EfEIADobqC081yHs59EN6hFQkckFWSba.xml  \n",
            "  inflating: Annotations/e42a96c4-ucexportviewid1sVYMVtRXXShrpnsoYY4EWkuvm8lrXT36.xml  \n",
            "  inflating: Annotations/e4d8a207-ucexportviewid15KzjI8ljus7bHuTrn9BYGcVlJcRyDYPi.xml  \n",
            "  inflating: Annotations/e54f4552-ucexportviewid10jvtbYd3U2wWEVI0VrORAJH6tBh1S-Bw.xml  \n",
            "  inflating: Annotations/e5a00df1-ucexportviewid1JWj4CxJO6rZc46bRtSzqxruvVOJeAmh_.xml  \n",
            "  inflating: Annotations/e8b048cd-ucexportviewid1LrzVBof9D-_F3RqeDJjAMkLW9q8JEQp5.xml  \n",
            "  inflating: Annotations/e932c025-ucexportviewid1wPQljAP8zXXcNv9asWTFBM16uyGlmi1N.xml  \n",
            "  inflating: Annotations/ed7c7529-ucexportviewid1QoBdexkefMNMlgQOjuNN6CRj5SWWrnB5.xml  \n",
            "  inflating: Annotations/ee14e0ca-ucexportviewid1m5jSyHHEJiep9klUUqkSEXZkr1wlYLa2.xml  \n",
            "  inflating: Annotations/ef47c257-ucexportviewid1C2q21bo8ip4uLxrgeHscgZYgJPKYw8D-.xml  \n",
            "  inflating: Annotations/efa32032-ucexportviewid1fMAMqRQ6AC1Oz1Q-udZ_pPfUREWzQRXV.xml  \n",
            "  inflating: Annotations/efb844b7-ucexportviewid1CmKKrSY00ExeThfock0Nd2IR9nc4vlaP.xml  \n",
            "  inflating: Annotations/efc41cf0-ucexportviewid1ozUSzGcqLeaRMZHllURhpBusySf4ib5t.xml  \n",
            "  inflating: Annotations/f607ce81-ucexportviewid14SROxngoqzhC7V85dt-EYCGrwNfLIQK3.xml  \n",
            "  inflating: Annotations/f72a12f9-ucexportviewid1jfNz18KzOY82g0d6ZkfG354O3vcRgkU1.xml  \n",
            "  inflating: Annotations/fc242127-ucexportviewid1e3cw4PuzR9Mxo7z3X0qu0bFb6rkeFBUY.xml  \n",
            "  inflating: Annotations/fc40e0bc-ucexportviewid1dBBuTzAbrbWw096b-pTqCbgKwlbry3KZ.xml  \n",
            "  inflating: images/00373f39-ucexportviewid1yRZ_PsnURfDnyok_daxgPD-I5TPmB_hI  \n",
            "  inflating: images/015c176a-ucexportviewid1g14VeOxKqBR6tjDgsFWZyXCAJvZRXGp4  \n",
            "  inflating: images/043ae976-ucexportviewid1-Atswyr4wOKcUPS-xVLj4G47ZQyAWfzB  \n",
            "  inflating: images/04b325fd-ucexportviewid1yvvUB7LloBhYiri4PFxZDeBiGvIU4wR7  \n",
            "  inflating: images/050c8139-ucexportviewid1WbHlg77DNoiCN1MqYkklm7dxNGsaX1Kz  \n",
            "  inflating: images/05208080-ucexportviewid1Ruh7xbZiuj1eNlbqW6oFSkgJJZkoRd0c  \n",
            "  inflating: images/06ec0acd-ucexportviewid1f-8KD892hI3hLpTlnGaBB0uMnblRLA6J  \n",
            "  inflating: images/07d3dd43-ucexportviewid1oabmj4w_cbFTit4KzHnQf5Jdkghg_WsN  \n",
            "  inflating: images/0866f45b-ucexportviewid1TbmgNHo8p1xylF4Cs-vpxmOkxzgJa2IC  \n",
            "  inflating: images/09104851-ucexportviewid1ysbFfMQEr7rQ-sb_I59S3-ZdoAmCKZbY  \n",
            "  inflating: images/092e5214-ucexportviewid1UbEX8n3B13335XLkA9TZD6mjPPvd8eQ-  \n",
            "  inflating: images/0b43ae3c-ucexportviewid1Q0HvmfN2UZ74hr_D3l0CDcv7FSor0Rxl  \n",
            "  inflating: images/0c3a6fc8-ucexportviewid1GIrSPZb_xzDQvetxuqofXBJ4RKUiyvKQ  \n",
            "  inflating: images/0de6314c-ucexportviewid1sMiYqpQFPPzWarX2AT1Ihil3BsbDl2Ld  \n",
            "  inflating: images/109f3738-ucexportviewid1xPy1McZrMYkHbQzxnxToJ1yfVUU2CTNj  \n",
            "  inflating: images/11c8d8a6-ucexportviewid1cEkASwExHnagcBx6YXroc2PUTueyLWwr  \n",
            "  inflating: images/11fbeeb5-ucexportviewid1po2sM55JrIhc3x7u1huaB1KSQ1hWeRi8  \n",
            "  inflating: images/12204e99-ucexportviewid1kseYLA1YgGI5lVwMKG40EWjB-xsSuKnW  \n",
            "  inflating: images/122dc668-ucexportviewid1wpedvkX1Bsr0LaN1Fle70e4RxRPXDENK  \n",
            "  inflating: images/13cc7e70-ucexportviewid1BuetrkkJ0l3MsPqk5yg8TuCleJ1bOP_L  \n",
            "  inflating: images/14d53a4d-ucexportviewid1QEbJxKQtw7Dc-p1PInSTBptKE9T7JSBO  \n",
            "  inflating: images/158384e5-ucexportviewid1t9lwDgu1TyKuvbXYHA62-iHMWkZFrjrf  \n",
            "  inflating: images/160ba175-ucexportviewid1FSOY95RkcMmqJ2dvnJEfUlbD4zy9JxBu  \n",
            "  inflating: images/1644631e-ucexportviewid1ZaxmCsaIjGTDqFYsuu38bYsVaoua1EQL  \n",
            "  inflating: images/16dcb957-ucexportviewid1ApOIFMQMucrimxNM5wB0OakDxgEFrfvc  \n",
            "  inflating: images/177af667-ucexportviewid1miKHnv32FCI8zkyX_NEFeR0PvMSbdSXD  \n",
            "  inflating: images/1a298feb-ucexportviewid17Q4AQKwWSEOVjz44sXP6QR47LpowBqku  \n",
            "  inflating: images/1ac942cb-ucexportviewid1PRkIGgJ4bJvU1QoLPLjhqLjiuJbZaNu3  \n",
            "  inflating: images/1d037c01-ucexportviewid12nGxp-IdTSbApyLFwZ0NK5wBzCfqdHCT  \n",
            "  inflating: images/1d7d69c7-ucexportviewid17B15xVnDAdS-xqebEShl-tTWOOS0iwOB  \n",
            "  inflating: images/1dcfda5d-ucexportviewid1gQqeCAZAfEyXxgKU9CK5PrgA3LWJTgoQ  \n",
            "  inflating: images/1de4505e-ucexportviewid1YYtudVWXcsWDw0iCfXNPlXDl4cvXUgfD  \n",
            "  inflating: images/1e524974-ucexportviewid1dKXMD9D5_FgovKz9UP_rtg4pe-QGLkAX  \n",
            "  inflating: images/2069a912-ucexportviewid1_bR9BakSXRC7Atztc7QncdcY2TWPkj6j  \n",
            "  inflating: images/22f054cf-ucexportviewid1xV-jyOtUUsRKNKSQlZFEVfyfvIGnszGV  \n",
            "  inflating: images/236a63b4-ucexportviewid1ufpGVc2if7_CqKkP8z-KzWTN_bAe4PQn  \n",
            "  inflating: images/23be1137-ucexportviewid1GOG-zW2JWSZ6xKybFe7ZNLHYNWPzxC2q  \n",
            "  inflating: images/2497dbf1-ucexportviewid1B2F2tpUn8wBrOSKfDgbh40RUUZU-dFG5  \n",
            "  inflating: images/255e47c7-ucexportviewid1UQ7RZmZCA6q2eHuAA3ydCZOs-6_Ho-eS  \n",
            "  inflating: images/26568c8d-ucexportviewid1Xwbwm2Q1FNV7d4AIVRw-Tt1jNMFg6yJ3  \n",
            "  inflating: images/2a3327a0-ucexportviewid1y9uwhAfrBAaYubDqCpo5LCl_gprMUgZE  \n",
            "  inflating: images/2b3581f4-ucexportviewid1A_Cx8yaRSWK4Nra8QidCdV2hS-7wtcOG  \n",
            "  inflating: images/2bf10793-ucexportviewid1Y-ErBE6jb1YA-jtEPDmCjrrTk9OtWy6e  \n",
            "  inflating: images/2d24be81-ucexportviewid1jR1pGoea3eFabnp7O1PC-3v3o3wmj27_  \n",
            "  inflating: images/2d5e967a-ucexportviewid1g8Rqwyp50v4YW0bxFTzeujsxOBlGpeQb  \n",
            "  inflating: images/2f577f4f-ucexportviewid13RENQOgOkaNuRMDPbs-qdpaT_BGjq4kJ  \n",
            "  inflating: images/3055434f-ucexportviewid11x4UEee4M_lPDPHm2kvRMz2TAbWImTQb  \n",
            "  inflating: images/3141f417-ucexportviewid1BBptmm6EoQwyUhE1QZiWzow6gK261CwB  \n",
            "  inflating: images/31d0ee12-ucexportviewid1v2McLhTCf4IF75rKZZFyi0PfMzWOYAxw  \n",
            "  inflating: images/3357d6a3-ucexportviewid1KcvmrYlRyUyXd9WS16HrnJl2NkkEhb6v  \n",
            "  inflating: images/33e91f34-ucexportviewid1yfHzE-ftQ71hlyBY9zASaMVve_GNsCPJ  \n",
            "  inflating: images/3438e75e-ucexportviewid1TBENJ0avfsoam4_Q6blYd4KTQ0nOZsZj  \n",
            "  inflating: images/37235d8e-ucexportviewid11YweiuJeor__FE1qw_Jn2xFAr62DNiv2  \n",
            "  inflating: images/3b954c34-ucexportviewid1xbp6hcg6fVK6YH9nieCaG1MUB5BsYgBg  \n",
            "  inflating: images/3be2d06e-ucexportviewid1uG0-KKqx0JlSDq3O2_2A6gzjHXYjAMS7  \n",
            "  inflating: images/3c355060-ucexportviewid1tb1I0FryX8Ra2o4nNA7CGSZ47KaYpokN  \n",
            "  inflating: images/3da638b7-ucexportviewid1E54mEe2M0mL8yDNV_QG4sEWuTxIXtgHm  \n",
            "  inflating: images/45e5c939-ucexportviewid1PMD2xpWxPSdVtaW8qrXkbMLE_VIJDn8U  \n",
            "  inflating: images/468ed904-ucexportviewid1sp-0UU5HtxdCA-TVurRLf6SpMb7bVIrH  \n",
            "  inflating: images/47c9c0ba-ucexportviewid1M3LG0aIUrd3ldav9KNUbSgcH8Hixy_VX  \n",
            "  inflating: images/4972f3d6-ucexportviewid1XkDmPO7dG7gWNW6ujZ6Gvrqt9pnlK_gA  \n",
            "  inflating: images/4a4fa635-ucexportviewid1DCabp_VpUQPEQbUv150-CQM9pvTDEC9X  \n",
            "  inflating: images/4a9aadbf-ucexportviewid1-C7aFGbEGSyLmnNBDk_0iQE9sOGqkeYj  \n",
            "  inflating: images/4d0b237d-ucexportviewid1OE9CbyttZHYcjWVQChzFQPN5BTleRK2c  \n",
            "  inflating: images/4d1cba59-ucexportviewid1wI_7m52BoADzQkG_8DjWiAc3SL91WkDE  \n",
            "  inflating: images/4e3e8cec-ucexportviewid1NOjW7h-ryQSHZ5C8MzklhY0Gzhhs1nYB  \n",
            "  inflating: images/4e69f09a-ucexportviewid1zKc2SDn2cFjPwcJY0X5zBHFA4TsTMxxZ  \n",
            "  inflating: images/5327575a-ucexportviewid1wdl0yFsgfxSTPlIVF_osKSOTq69894CW  \n",
            "  inflating: images/532cbeca-ucexportviewid1FrySJWPmuYFYRnpij_ZrwiEN-Cj_o1JN  \n",
            "  inflating: images/5333daaa-ucexportviewid1FN4ZEBFIVYALnkbP8JgSPF2xagK0hXoQ  \n",
            "  inflating: images/547ad233-ucexportviewid1dnUfeL3qXXkjCyrwYSxQonHCBumiQ2Bx  \n",
            "  inflating: images/54f7ab03-ucexportviewid1nwkU6609byMOc_jrhmXFdSmju779e02a  \n",
            "  inflating: images/5541f407-ucexportviewid1GhRhZrGmTjnFJxxMjQJ4_RPcDcZw-POA  \n",
            "  inflating: images/5565a077-ucexportviewid1N-0hsLGut43ZLRyN4bcTT_Ls4mRNwBN0  \n",
            "  inflating: images/5612a5a8-ucexportviewid1ruNlHruuHFLzYsZju3ZYgLKdUZ68-g4F  \n",
            "  inflating: images/56b26756-ucexportviewid1ygjKfJv68mR8k5s6QmqpvdEf93Gksg9x  \n",
            "  inflating: images/5a04e03e-ucexportviewid1SrYdb-mf5vD3_iXpgqRnwY65rt6hNWdv  \n",
            "  inflating: images/5a34506b-ucexportviewid1CqDHdakN28hSkHz4DSMBRmJxt_1oEjNs  \n",
            "  inflating: images/5b893632-ucexportviewid1LWgU9Dt9apUyuhBL6YPLqSXYNMfWIzfS  \n",
            "  inflating: images/5e239565-ucexportviewid1kuJC4H66IXyLvSLuY98TU3IELltT09Di  \n",
            "  inflating: images/5e3d9255-ucexportviewid1EGFYWgMA4eZT9b2Eb0IoCQYpGOCcv3CQ  \n",
            "  inflating: images/5e4abc18-ucexportviewid1FGmXWvkxK0jmn3wScVTK53p9r5Gl0e7G  \n",
            "  inflating: images/5f91f8ce-ucexportviewid1O-RVUq4kvsvmsQ9DzaY4W2sia9vJW1us  \n",
            "  inflating: images/5f9d849b-ucexportviewid17V8T0bp0bjV-qfGnH3Z1O59G8gC9Rh0e  \n",
            "  inflating: images/6121f1b4-ucexportviewid1UnejsyzhURtUSsQkZ2xeoTS6tQrzgvPw  \n",
            "  inflating: images/6323dc0a-ucexportviewid1pKHZro9wUEMHlOiy6QAy-OFZYTDk_mPm  \n",
            "  inflating: images/6331cece-ucexportviewid1MrNR4a1XA-WZOI_vq_amC4B_Pwi8DgHG  \n",
            "  inflating: images/63deca32-ucexportviewid14-y3h56qLqY-cD5YI9XgWR8plzhME_dW  \n",
            "  inflating: images/65889724-ucexportviewid1ob93W4ob4pg8cgsQL8svJKwmWC5y31UU  \n",
            "  inflating: images/65ec3def-ucexportviewid1-UnddtPogEw_2aEMjXHwyDQERY2ZUEw6  \n",
            "  inflating: images/67d8a29e-ucexportviewid1glG-eFkg8nEd8EY9IHO_EBXLASpXa8g5  \n",
            "  inflating: images/681fad3c-ucexportviewid1sQaNhbVcTak2jUtz0N_4vQWrsLLNQwXx  \n",
            "  inflating: images/696a9f7e-ucexportviewid1qZNfL7RrYWsBTZpnTFC5A-BGrW2jjmlP  \n",
            "  inflating: images/6a0a1bbc-ucexportviewid1PjLW3B-MwJ4uU5yvTkrXtrj9rlYoycz5  \n",
            "  inflating: images/6fea6658-ucexportviewid13yTROemb62AkwuP_-kECBIyOncXatiyO  \n",
            "  inflating: images/7303b85a-ucexportviewid1ZxFP7ampKDZ2Zj1Jy-_VStUh89z5vInl  \n",
            "  inflating: images/7309f810-ucexportviewid1qOLG5q8-KzT4Y8rz2GJRkaQa8qKn0XQe  \n",
            "  inflating: images/74ac60e9-ucexportviewid1J3uMXaFl3KC7n3HZFZMDynEeza3oum7z  \n",
            "  inflating: images/74dc24f3-ucexportviewid16oxsFuIdDi7tFkjYEO5LAKFdxgzDV9Q0  \n",
            "  inflating: images/750523e9-ucexportviewid1YBoM5oqH706xd1zQ6PE3L1rYPxlZkyBw  \n",
            "  inflating: images/75ac0124-ucexportviewid1tvJXUP1ut1JIFbg3NkXdfPeuuMFIb_2J  \n",
            "  inflating: images/790e33ac-ucexportviewid1PYAnQCoeiam-s2-d_KjVbGaL7yvkqHfo  \n",
            "  inflating: images/7a2076e9-ucexportviewid1r8bKeYe2TJO36K6alCU-Tp5_64B747w1  \n",
            "  inflating: images/7a5b91f8-ucexportviewid1AyQT_g-h8xdiN1n1l9Swzn0a_Ok76PSN  \n",
            "  inflating: images/7ea7d817-ucexportviewid19bxcGHqp6a8q_WXqFREFLvYObISRhunj  \n",
            "  inflating: images/7f0d0ff3-ucexportviewid1h9Tvtkaj7KQck48iQn0Df9Qtcdl12VeX  \n",
            "  inflating: images/812b3e58-ucexportviewid18eqNtDkOoxGyHp2uubU6q2KO_I9L75Sw  \n",
            "  inflating: images/8420d3f2-ucexportviewid1jaVTz2LG0vepM6HLiiRu6TXnWjNQptQN  \n",
            "  inflating: images/84be27c0-ucexportviewid1vAg5BDghn3RZfxqAMT2qBq5_aaTF-k2b  \n",
            "  inflating: images/86f41bb3-ucexportviewid13A8wk4ISCxpEB7vDIysDVYMA8tWApc59  \n",
            "  inflating: images/873c8393-ucexportviewid16NHfA3xumwANXPNk8TWByMQtGEXxHJRw  \n",
            "  inflating: images/8842eb02-ucexportviewid121GEGb1uswbd0Y-oPBDybHd1O_rPSMDH  \n",
            "  inflating: images/89be3a12-ucexportviewid1xGLs98shnZaos6A2sjV9jfaeRS_lOgnC  \n",
            "  inflating: images/89ceb082-ucexportviewid1vLJF3WU-XKVeZXHzatC34EtkNKGtQVv7  \n",
            "  inflating: images/8cfc7b35-ucexportviewid1w7jEtxf0GbgJ-eChnMy1TFWyVaZ9aMmt  \n",
            "  inflating: images/8d565c56-ucexportviewid1Zd1weX7FtpEeczlpX23fPOi4TG4hXmK4  \n",
            "  inflating: images/8d58a9e7-ucexportviewid1gIEL2qN-udd9HoPU1Zl6RIR7qrjFo6Jp  \n",
            "  inflating: images/8d991bee-ucexportviewid1Ja4nOD46UGsZdhvUKA9v3fyFZc1wdH7g  \n",
            "  inflating: images/90ba81f2-ucexportviewid1327hpVoPc-HICaL8jbhFYzVTV2AYuUyu  \n",
            "  inflating: images/90c691d0-ucexportviewid1zq7aWSOzfO2hCnTgCIXsjj6J-QWy5FPb  \n",
            "  inflating: images/917f7653-ucexportviewid1Ly0oSg4ekTq577nmRm6JTmggkWdwzni-  \n",
            "  inflating: images/91c10a67-ucexportviewid1lIn5gDfEMga_Tk7zIdn653gNHCj1T75d  \n",
            "  inflating: images/91f800a3-ucexportviewid1-893Pmvg8QE_onDlYHy-w6Q0Hd2IDIQR  \n",
            "  inflating: images/940fac12-ucexportviewid1wu5No3MCZGqGnViK_PBeAjkZsRy1zyVI  \n",
            "  inflating: images/953594ad-ucexportviewid16wEu89u0sYOpQtGw8AGS4G5c47vTYreB  \n",
            "  inflating: images/9557d5d8-ucexportviewid1MPi4PD2cFryHUdD-qO19nwGhNBw0MoAG  \n",
            "  inflating: images/97dcf887-ucexportviewid1w3DA2Cz3IH7pMAhxwm0qlsnkVDSQ57GF  \n",
            "  inflating: images/9898e4f0-ucexportviewid1WkUZuL3JQrlMnTl2-c8C0ucsIJHhJWnO  \n",
            "  inflating: images/99268a8e-ucexportviewid1IgmyRHS6CyPiMyjEiLr7URyQwbdbdH3T  \n",
            "  inflating: images/996998a0-ucexportviewid158-9wM_CV5dYhvZJ_dQzxUczAegPJAV_  \n",
            "  inflating: images/9b97c0b6-ucexportviewid10_eT5eoUys5yihAkD0POQcb8sO-mUVTy  \n",
            "  inflating: images/9c898517-ucexportviewid1a5LY3UqS_AdkRvWDNx0FRDzwYlDPXe2k  \n",
            "  inflating: images/9ca99b43-ucexportviewid18kdi4he0hKmbnx6n1IEZnhAI7_Qv7nWp  \n",
            "  inflating: images/a012ce2e-ucexportviewid14Iwj-e2AOdFOyezm2JWY1E5hJ3idyFta  \n",
            "  inflating: images/a098ff9f-ucexportviewid1IOt811uGf8zP244wb2QgFlk2pEZmCgpn  \n",
            "  inflating: images/a0d89703-ucexportviewid1Yq1as-oKJR-ZWJ9t4sfw0Y42jriUmljz  \n",
            "  inflating: images/a39c40fb-ucexportviewid1B9PwtraHi737MEj9HIOrYnhqt6EZry3-  \n",
            "  inflating: images/a5305a7a-ucexportviewid1Vv7r4UwWiOgG2tAUgjXnJpAu2pz7cBCt  \n",
            "  inflating: images/a5f621b4-ucexportviewid128PNwb5H53E3sCWE0T8fk60--vk43FNo  \n",
            "  inflating: images/ab018366-ucexportviewid1aaM8PUHswEWLTMx0S7CziiqfPtCQmMfv  \n",
            "  inflating: images/ac4dd51a-ucexportviewid1qq0S0FW-Etc-r37qCIGncPoOtxsgQYwx  \n",
            "  inflating: images/afb77a62-ucexportviewid1Mnr8_61up8HXcVcHFiiztvjwWV5CX2Dd  \n",
            "  inflating: images/b24711c1-ucexportviewid1Lr20gm0lWjLU036PazTzAgVaaZC65Gar  \n",
            "  inflating: images/b26aed9d-ucexportviewid1H48ZauY2Pm47luXqUp8umA1nB915Kbqx  \n",
            "  inflating: images/b428272b-ucexportviewid1ys1rn9Mu_u8DGPlQkXG0A2BqSNmHKZwE  \n",
            "  inflating: images/b4789ae0-ucexportviewid1RUN4a1WZNZLXPDixlJ3jq4Qh3Bz7VgX0  \n",
            "  inflating: images/b5f312fa-ucexportviewid1OCVRhIbUvPiacl-hf2MJrl-kRcWTXvSC  \n",
            "  inflating: images/b6a82b59-ucexportviewid1M7Y0S8bFNjOAFhqqgSlPGQeSRXholY_R  \n",
            "  inflating: images/b7c7df78-ucexportviewid1sSQYn9ojVFNRhYRKJUU96IUHQNu6Y-_I  \n",
            "  inflating: images/b7e48ab6-ucexportviewid1iiyXdDiUohTT0FQZ2qOMMYlyRMRGJ55b  \n",
            "  inflating: images/b91729c1-ucexportviewid1EYmZIqzmJpYCbcejzgZz4brrl_DYIvHT  \n",
            "  inflating: images/ba325d9b-ucexportviewid1A6UsXD5LFNwVms5eUPhZgBI2HBzVM79U  \n",
            "  inflating: images/ba739fd4-ucexportviewid1wMpIfVU-5tVulq8xg0FAve6YRPO6T1R2  \n",
            "  inflating: images/bda9a450-ucexportviewid1xxiRHICJEr6lSmso4lHls57_R7MEXevC  \n",
            "  inflating: images/c02bcd13-ucexportviewid1u7GOfAql1SpPTpLVGNDcpjQotxOe0FV8  \n",
            "  inflating: images/c050bf2e-ucexportviewid1YL5ZSRDp59z0M_LmEUjxfoX29PZIIxZP  \n",
            "  inflating: images/c4bd4bd3-ucexportviewid1SB27bicFJwg8SuvdeqXTxrCFeaNWYMNT  \n",
            "  inflating: images/c596cee6-ucexportviewid1RqKy2wgzBihE3ZzlBgJmFsE_oGHvrYUP  \n",
            "  inflating: images/c6173cad-ucexportviewid10eSNtLPJVnmKcDWjuS5QaRbg3voy-6un  \n",
            "  inflating: images/c7fe9c63-ucexportviewid15FPc7aQex9RHtBtriYPlQ3uoyAt-jLwJ  \n",
            "  inflating: images/c989dce1-ucexportviewid1zLZtrapatXd5vb_ZyB7FNYfMYDESwj4a  \n",
            "  inflating: images/cb32eeed-ucexportviewid1AH8K8FyM9-9Urb1G4IIgmUfLcqg1d32y  \n",
            "  inflating: images/cb6c3c91-ucexportviewid1YCaQ_sMq8No321Dwwlt3wCo4-5s2oHT6  \n",
            "  inflating: images/cd7ba0ae-ucexportviewid1YinqJscTrUbKOYnhBOSW-SfK11aZ3Bb2  \n",
            "  inflating: images/cd8ac33f-ucexportviewid1vxNEgMaCd2CA8fi57_BCU-j8qC8a4_M2  \n",
            "  inflating: images/cfa3ed0b-ucexportviewid1URRT13KXDlOJncTsxM-v5llQygOzRvjf  \n",
            "  inflating: images/d0a1c0fd-ucexportviewid1Ge6ZB6SXXps5BJHbDCOS2gfWUbJzhl8d  \n",
            "  inflating: images/d26763dd-ucexportviewid1wm-kxOPOtaxT3fLLnYZbA_pO5QY6tWJX  \n",
            "  inflating: images/d5768182-ucexportviewid1wkzPYnad8V3pUxtcszWoEhaaHG-qaAHW  \n",
            "  inflating: images/d6575c94-ucexportviewid1-UUgi503o9mV6XA_UfTgIuH6DKCWm5sR  \n",
            "  inflating: images/d76c8426-ucexportviewid1y1AtbYR6zTgF9SdrO5On0zRTXWB_QzFW  \n",
            "  inflating: images/d93c938d-ucexportviewid1RwGX8ii2JM_yqy9her-93iUGhI87R8g5  \n",
            "  inflating: images/d97fd4e0-ucexportviewid1ES97yPXeIEqgki6NaRzEylBBK0FrvzA9  \n",
            "  inflating: images/dba8d3ca-ucexportviewid1LV_A7I0qsvnRCM7ztqBIZB0t1EOAjARq  \n",
            "  inflating: images/dcfd0d93-ucexportviewid1P-FLSoUMplWwaXAUhnr86KzNuYm7XIoC  \n",
            "  inflating: images/de46a9c9-ucexportviewid1b-ZhVJTpNn-J7khUgbyTCN9W-a2qscTu  \n",
            "  inflating: images/de4dc603-ucexportviewid1ecRr_CfqBE1EXMAcm2O29DwX7iQuvB1L  \n",
            "  inflating: images/e42a3fbd-ucexportviewid1EfEIADobqC081yHs59EN6hFQkckFWSba  \n",
            "  inflating: images/e42a96c4-ucexportviewid1sVYMVtRXXShrpnsoYY4EWkuvm8lrXT36  \n",
            "  inflating: images/e4d8a207-ucexportviewid15KzjI8ljus7bHuTrn9BYGcVlJcRyDYPi  \n",
            "  inflating: images/e54f4552-ucexportviewid10jvtbYd3U2wWEVI0VrORAJH6tBh1S-Bw  \n",
            "  inflating: images/e5a00df1-ucexportviewid1JWj4CxJO6rZc46bRtSzqxruvVOJeAmh_  \n",
            "  inflating: images/e8b048cd-ucexportviewid1LrzVBof9D-_F3RqeDJjAMkLW9q8JEQp5  \n",
            "  inflating: images/e932c025-ucexportviewid1wPQljAP8zXXcNv9asWTFBM16uyGlmi1N  \n",
            "  inflating: images/ed7c7529-ucexportviewid1QoBdexkefMNMlgQOjuNN6CRj5SWWrnB5  \n",
            "  inflating: images/ee14e0ca-ucexportviewid1m5jSyHHEJiep9klUUqkSEXZkr1wlYLa2  \n",
            "  inflating: images/ef47c257-ucexportviewid1C2q21bo8ip4uLxrgeHscgZYgJPKYw8D-  \n",
            "  inflating: images/efa32032-ucexportviewid1fMAMqRQ6AC1Oz1Q-udZ_pPfUREWzQRXV  \n",
            "  inflating: images/efb844b7-ucexportviewid1CmKKrSY00ExeThfock0Nd2IR9nc4vlaP  \n",
            "  inflating: images/efc41cf0-ucexportviewid1ozUSzGcqLeaRMZHllURhpBusySf4ib5t  \n",
            "  inflating: images/f607ce81-ucexportviewid14SROxngoqzhC7V85dt-EYCGrwNfLIQK3  \n",
            "  inflating: images/f72a12f9-ucexportviewid1jfNz18KzOY82g0d6ZkfG354O3vcRgkU1  \n",
            "  inflating: images/fc242127-ucexportviewid1e3cw4PuzR9Mxo7z3X0qu0bFb6rkeFBUY  \n",
            "  inflating: images/fc40e0bc-ucexportviewid1dBBuTzAbrbWw096b-pTqCbgKwlbry3KZ  \n"
          ]
        }
      ]
    },
    {
      "cell_type": "code",
      "source": [
        "# Create new directory\n",
        "!mkdir /content/Train_Val/Annotation\n",
        "%cd \"/content/Train_Val/Annotation\""
      ],
      "metadata": {
        "colab": {
          "base_uri": "https://localhost:8080/"
        },
        "id": "ypjQmI1hAzw-",
        "outputId": "f2857a81-b2ef-4b6e-838c-e8ec45cc27f5"
      },
      "execution_count": null,
      "outputs": [
        {
          "output_type": "stream",
          "name": "stdout",
          "text": [
            "/content/Train_Val/Annotation\n"
          ]
        }
      ]
    },
    {
      "cell_type": "code",
      "source": [
        "# Remove encoding in xml files\n",
        "\n",
        "path = \"/content/Train_Val/Annotations\"\n",
        "dstpath = \"/content/Train_Val/Annotation\"\n",
        "\n",
        "for filename in os.listdir(path):\n",
        "    if filename.endswith('.xml'):\n",
        "        tree = etree.parse(path+\"/\"+filename)\n",
        "        etree.strip_elements(tree, \"{*}openSession\", with_tail=True)\n",
        "        save = filename\n",
        "        tree.write(save)"
      ],
      "metadata": {
        "id": "722vXUsAAN1H"
      },
      "execution_count": null,
      "outputs": []
    },
    {
      "cell_type": "code",
      "source": [
        "# Remove old directory\n",
        "%cd /content/Train_Val\n",
        "!rm /content/Train_Val/Annotations/* /content/Train_Val/Annotations/.*\n",
        "!rmdir /content/Train_Val/Annotations"
      ],
      "metadata": {
        "colab": {
          "base_uri": "https://localhost:8080/"
        },
        "id": "wjTujzdErNFL",
        "outputId": "757624eb-be2c-4a82-f72c-86332fbd38fb"
      },
      "execution_count": null,
      "outputs": [
        {
          "output_type": "stream",
          "name": "stdout",
          "text": [
            "/content/Train_Val\n",
            "rm: cannot remove '/content/Train_Val/Annotations/.': Is a directory\n",
            "rm: cannot remove '/content/Train_Val/Annotations/..': Is a directory\n"
          ]
        }
      ]
    },
    {
      "cell_type": "markdown",
      "source": [
        "**Test Data Dir**"
      ],
      "metadata": {
        "id": "6hcr_rsPk1fj"
      }
    },
    {
      "cell_type": "code",
      "source": [
        "!mkdir /content/Test\n",
        "%cd /content/Test\n",
        "!unzip \"/content/gdrive/MyDrive/Capstone/C501/ModelPreparation/Dataset/Test_Dataset/PASCAL_VOC/Validation_Ducky_Chicken.zip\""
      ],
      "metadata": {
        "colab": {
          "base_uri": "https://localhost:8080/"
        },
        "id": "AcmgYCNzk7fY",
        "outputId": "f166f123-6e58-4b62-c043-8e523693e808"
      },
      "execution_count": null,
      "outputs": [
        {
          "output_type": "stream",
          "name": "stdout",
          "text": [
            "/content/Test\n",
            "Archive:  /content/gdrive/MyDrive/Capstone/C501/ModelPreparation/Dataset/Test_Dataset/PASCAL_VOC/Validation_Ducky_Chicken.zip\n",
            "   creating: Annotations/\n",
            "   creating: images/\n",
            "  inflating: Annotations/050b127a-ucexportviewid11abUnCXtTVHGDwjVEwkrWNM4qOW18HTQ.xml  \n",
            "  inflating: Annotations/0c44a456-ucexportviewid1D4rJg78fAfg5pmxvZ-m3aB_qP7BTaaEE.xml  \n",
            "  inflating: Annotations/146249c9-ucexportviewid1i45G4hh61C5X4SyjD8IS1gHlgEE4_a6f.xml  \n",
            "  inflating: Annotations/1608b69d-ucexportviewid1Bv1ZOTE1jfoXKLWLwGOCfRIf_r2hpzXX.xml  \n",
            "  inflating: Annotations/211d9bc6-ucexportviewid1fuX7ceKJSduvaJKVot0OjRk4FIryxeVQ.xml  \n",
            "  inflating: Annotations/37e0f7ee-ucexportviewid1xKBCTbNUjhWhjbsjnHlJFWclI8WbdUNQ.xml  \n",
            "  inflating: Annotations/38bcd6d2-ucexportviewid1PnVbLuTS5N4MLD9UfFAL2c5mhQRIk6GO.xml  \n",
            "  inflating: Annotations/494df3d8-ucexportviewid1Xn-bYz88DLie0EFx6uZmjkb1N8u74uyn.xml  \n",
            "  inflating: Annotations/49537cff-ucexportviewid1tH-OMWTbP47XvdqKgEYEuz2Clx7i51kb.xml  \n",
            "  inflating: Annotations/519d8257-ucexportviewid104g7VVQBKfuCyb1Smx_vQnHI9bamWcAK.xml  \n",
            "  inflating: Annotations/52ebcec8-ucexportviewid1u3f5msw2l96mGgdXiagNjL6S8ZjoMCNi.xml  \n",
            "  inflating: Annotations/53e90462-ucexportviewid151MTI5Zds8ac-MhS8MR61UeBlM1NqWd1.xml  \n",
            "  inflating: Annotations/54b4332b-ucexportviewid185Gjfk2SiNKwvi1y_6HTCqlEULCIi9uX.xml  \n",
            "  inflating: Annotations/5a18334e-ucexportviewid1oLo16UEGQFUH92VnbpkwJQ_PH-Q4GPft.xml  \n",
            "  inflating: Annotations/5dd80d3f-ucexportviewid1K7EYZ0_42fzuoIr1gu1JXv6pTkDNpcng.xml  \n",
            "  inflating: Annotations/6bb446b1-ucexportviewid1doVckR7FGylIFZjZha2gRscyQZFJXKay.xml  \n",
            "  inflating: Annotations/6ef42e57-ucexportviewid1MFwhuu-KV5WUw-rmi8plZxJ6rdegT6IG.xml  \n",
            "  inflating: Annotations/76c5ddda-ucexportviewid19tG3g2lQHe3BaydRfCP5kgDl4zB4QofM.xml  \n",
            "  inflating: Annotations/79bbd1c9-ucexportviewid17aiBdQbz3JBECKlH_el6g6qPYftcEDnz.xml  \n",
            "  inflating: Annotations/7f9585b6-ucexportviewid1rNWh7boiqoFLPHUolTl9OyWI8sdmu7t0.xml  \n",
            "  inflating: Annotations/803a8484-ucexportviewid1aDTiC5bNVVTit5TlvyedL0uL_1EN2NBb.xml  \n",
            "  inflating: Annotations/807ca67b-ucexportviewid1u2ZM6N0eu4NL_xLxLoTBxyyvO8rVeozN.xml  \n",
            "  inflating: Annotations/814b0abd-ucexportviewid1B_IrW8E-EZSh--cX42eBXSCS3rjUTRJO.xml  \n",
            "  inflating: Annotations/81dfd498-ucexportviewid10ee8qJUQAhhmVhE5lqE-IND180m45F__.xml  \n",
            "  inflating: Annotations/8f767e67-ucexportviewid154I-ChR0fbGh1ww6p7ppNvUetnmqD0Cn.xml  \n",
            "  inflating: Annotations/a0905b68-ucexportviewid1sNJZ0xO29f7R_seeB0nQjXUuer8rDEab.xml  \n",
            "  inflating: Annotations/a3c55f6d-ucexportviewid1ECfyZO3e8fOiW2JZ78MLJtWph2m-USWB.xml  \n",
            "  inflating: Annotations/b0ddaebf-ucexportviewid1yZEca6E_s9yhIWn1Y3v_YOffQYUhitZd.xml  \n",
            "  inflating: Annotations/b15a3659-ucexportviewid1nxE0POx2rIya02m9CUSct-rBU7qJXe_m.xml  \n",
            "  inflating: Annotations/d18c8838-ucexportviewid1oUcva2vit2jMnmrv-KUBCv_Y2KmxHoig.xml  \n",
            "  inflating: Annotations/d2796d6d-ucexportviewid1VX3MhPFiAkRsRoJWtihcY5XIlbjYlBAD.xml  \n",
            "  inflating: Annotations/dabf0007-ucexportviewid1outYF30MV-aifHM1A8Sq8YAfIoB29sYI.xml  \n",
            "  inflating: Annotations/def15f7e-ucexportviewid1a8DcNX1402aqIci3CD8gDmt683THYUiS.xml  \n",
            "  inflating: Annotations/e561e436-ucexportviewid1w9dSOCZ58Mo-K4m-avRGzXd4kB2YW_4A.xml  \n",
            "  inflating: Annotations/e879163d-ucexportviewid1A54xjneDPMsc70u6Vi7bjvYwDmY6hEYT.xml  \n",
            "  inflating: Annotations/ea26b683-ucexportviewid10H5DB9V76_1w1cyJjHoNBxfmtcl5kv9l.xml  \n",
            "  inflating: Annotations/f0600d93-ucexportviewid1meU86PKxXq0NsvAsdp--fZFeBKbBTExp.xml  \n",
            "  inflating: Annotations/f501bddd-ucexportviewid16w1cdZr-xV3ti0AgIR-VZLvKXJh6ukYn.xml  \n",
            "  inflating: Annotations/fc2f0e48-ucexportviewid1vhsQpMtXxLJsHP7Jif3eEZLtVEuJ5_DA.xml  \n",
            "  inflating: images/050b127a-ucexportviewid11abUnCXtTVHGDwjVEwkrWNM4qOW18HTQ  \n",
            "  inflating: images/0c44a456-ucexportviewid1D4rJg78fAfg5pmxvZ-m3aB_qP7BTaaEE  \n",
            "  inflating: images/146249c9-ucexportviewid1i45G4hh61C5X4SyjD8IS1gHlgEE4_a6f  \n",
            "  inflating: images/1608b69d-ucexportviewid1Bv1ZOTE1jfoXKLWLwGOCfRIf_r2hpzXX  \n",
            "  inflating: images/211d9bc6-ucexportviewid1fuX7ceKJSduvaJKVot0OjRk4FIryxeVQ  \n",
            "  inflating: images/37e0f7ee-ucexportviewid1xKBCTbNUjhWhjbsjnHlJFWclI8WbdUNQ  \n",
            "  inflating: images/38bcd6d2-ucexportviewid1PnVbLuTS5N4MLD9UfFAL2c5mhQRIk6GO  \n",
            "  inflating: images/494df3d8-ucexportviewid1Xn-bYz88DLie0EFx6uZmjkb1N8u74uyn  \n",
            "  inflating: images/49537cff-ucexportviewid1tH-OMWTbP47XvdqKgEYEuz2Clx7i51kb  \n",
            "  inflating: images/519d8257-ucexportviewid104g7VVQBKfuCyb1Smx_vQnHI9bamWcAK  \n",
            "  inflating: images/52ebcec8-ucexportviewid1u3f5msw2l96mGgdXiagNjL6S8ZjoMCNi  \n",
            "  inflating: images/53e90462-ucexportviewid151MTI5Zds8ac-MhS8MR61UeBlM1NqWd1  \n",
            "  inflating: images/54b4332b-ucexportviewid185Gjfk2SiNKwvi1y_6HTCqlEULCIi9uX  \n",
            "  inflating: images/5a18334e-ucexportviewid1oLo16UEGQFUH92VnbpkwJQ_PH-Q4GPft  \n",
            "  inflating: images/5dd80d3f-ucexportviewid1K7EYZ0_42fzuoIr1gu1JXv6pTkDNpcng  \n",
            "  inflating: images/6bb446b1-ucexportviewid1doVckR7FGylIFZjZha2gRscyQZFJXKay  \n",
            "  inflating: images/6ef42e57-ucexportviewid1MFwhuu-KV5WUw-rmi8plZxJ6rdegT6IG  \n",
            "  inflating: images/76c5ddda-ucexportviewid19tG3g2lQHe3BaydRfCP5kgDl4zB4QofM  \n",
            "  inflating: images/79bbd1c9-ucexportviewid17aiBdQbz3JBECKlH_el6g6qPYftcEDnz  \n",
            "  inflating: images/7f9585b6-ucexportviewid1rNWh7boiqoFLPHUolTl9OyWI8sdmu7t0  \n",
            "  inflating: images/803a8484-ucexportviewid1aDTiC5bNVVTit5TlvyedL0uL_1EN2NBb  \n",
            "  inflating: images/807ca67b-ucexportviewid1u2ZM6N0eu4NL_xLxLoTBxyyvO8rVeozN  \n",
            "  inflating: images/814b0abd-ucexportviewid1B_IrW8E-EZSh--cX42eBXSCS3rjUTRJO  \n",
            "  inflating: images/81dfd498-ucexportviewid10ee8qJUQAhhmVhE5lqE-IND180m45F__  \n",
            "  inflating: images/8f767e67-ucexportviewid154I-ChR0fbGh1ww6p7ppNvUetnmqD0Cn  \n",
            "  inflating: images/a0905b68-ucexportviewid1sNJZ0xO29f7R_seeB0nQjXUuer8rDEab  \n",
            "  inflating: images/a3c55f6d-ucexportviewid1ECfyZO3e8fOiW2JZ78MLJtWph2m-USWB  \n",
            "  inflating: images/b0ddaebf-ucexportviewid1yZEca6E_s9yhIWn1Y3v_YOffQYUhitZd  \n",
            "  inflating: images/b15a3659-ucexportviewid1nxE0POx2rIya02m9CUSct-rBU7qJXe_m  \n",
            "  inflating: images/d18c8838-ucexportviewid1oUcva2vit2jMnmrv-KUBCv_Y2KmxHoig  \n",
            "  inflating: images/d2796d6d-ucexportviewid1VX3MhPFiAkRsRoJWtihcY5XIlbjYlBAD  \n",
            "  inflating: images/dabf0007-ucexportviewid1outYF30MV-aifHM1A8Sq8YAfIoB29sYI  \n",
            "  inflating: images/def15f7e-ucexportviewid1a8DcNX1402aqIci3CD8gDmt683THYUiS  \n",
            "  inflating: images/e561e436-ucexportviewid1w9dSOCZ58Mo-K4m-avRGzXd4kB2YW_4A  \n",
            "  inflating: images/e879163d-ucexportviewid1A54xjneDPMsc70u6Vi7bjvYwDmY6hEYT  \n",
            "  inflating: images/ea26b683-ucexportviewid10H5DB9V76_1w1cyJjHoNBxfmtcl5kv9l  \n",
            "  inflating: images/f0600d93-ucexportviewid1meU86PKxXq0NsvAsdp--fZFeBKbBTExp  \n",
            "  inflating: images/f501bddd-ucexportviewid16w1cdZr-xV3ti0AgIR-VZLvKXJh6ukYn  \n",
            "  inflating: images/fc2f0e48-ucexportviewid1vhsQpMtXxLJsHP7Jif3eEZLtVEuJ5_DA  \n"
          ]
        }
      ]
    },
    {
      "cell_type": "code",
      "source": [
        "# Create new directory\n",
        "!mkdir /content/Test/Annotation\n",
        "%cd \"/content/Test/Annotation\""
      ],
      "metadata": {
        "colab": {
          "base_uri": "https://localhost:8080/"
        },
        "id": "ZIhAKyU3lJv9",
        "outputId": "9e3c9fd5-e195-4da5-87ba-958f2a30580b"
      },
      "execution_count": null,
      "outputs": [
        {
          "output_type": "stream",
          "name": "stdout",
          "text": [
            "/content/Test/Annotation\n"
          ]
        }
      ]
    },
    {
      "cell_type": "code",
      "source": [
        "# Remove encoding in xml files\n",
        "\n",
        "path = \"/content/Test/Annotations\"\n",
        "dstpath = \"/content/Test/Annotation\"\n",
        "\n",
        "for filename in os.listdir(path):\n",
        "    if filename.endswith('.xml'):\n",
        "        tree = etree.parse(path+\"/\"+filename)\n",
        "        etree.strip_elements(tree, \"{*}openSession\", with_tail=True)\n",
        "        save = filename\n",
        "        tree.write(save)"
      ],
      "metadata": {
        "id": "s6nOnA5_lWeU"
      },
      "execution_count": null,
      "outputs": []
    },
    {
      "cell_type": "code",
      "source": [
        "# Remove old directory\n",
        "%cd /content/Test\n",
        "!rm /content/Test/Annotations/* /content/Test/Annotations/.*\n",
        "!rmdir /content/Test/Annotations"
      ],
      "metadata": {
        "colab": {
          "base_uri": "https://localhost:8080/"
        },
        "id": "cp05iprilZoc",
        "outputId": "3b8dba67-1d42-4468-dba0-8625e657a105"
      },
      "execution_count": null,
      "outputs": [
        {
          "output_type": "stream",
          "name": "stdout",
          "text": [
            "/content/Test\n",
            "rm: cannot remove '/content/Test/Annotations/.': Is a directory\n",
            "rm: cannot remove '/content/Test/Annotations/..': Is a directory\n"
          ]
        }
      ]
    },
    {
      "cell_type": "markdown",
      "source": [
        "**Final Dataset Directory**"
      ],
      "metadata": {
        "id": "3H7zcwSclj_Y"
      }
    },
    {
      "cell_type": "code",
      "source": [
        "# Create train and test directory\n",
        "%cd /content/\n",
        "\n",
        "!mkdir \"/content/Dataset/\"\n",
        "!mkdir \"/content/Dataset/Annotation/\"\n",
        "!mkdir \"/content/Dataset/Images/\"\n",
        "\n",
        "!mkdir \"/content/Dataset/Annotation/Train\"\n",
        "!mkdir \"/content/Dataset/Annotation/Val\"\n",
        "!mkdir \"/content/Dataset/Annotation/Test\"\n",
        "!mkdir \"/content/Dataset/Images/Train\"\n",
        "!mkdir \"/content/Dataset/Images/Val\"\n",
        "!mkdir \"/content/Dataset/Images/Test\""
      ],
      "metadata": {
        "colab": {
          "base_uri": "https://localhost:8080/"
        },
        "id": "D0MGLp4uuC0n",
        "outputId": "7fd78f5d-e6b1-4ab4-a634-69973fc5a0bc"
      },
      "execution_count": null,
      "outputs": [
        {
          "output_type": "stream",
          "name": "stdout",
          "text": [
            "/content\n"
          ]
        }
      ]
    },
    {
      "cell_type": "markdown",
      "source": [
        "### Prepare and Load Dataset"
      ],
      "metadata": {
        "id": "BIMndR2U0U5x"
      }
    },
    {
      "cell_type": "code",
      "source": [
        "# # Creating Train / Val / Test folders (One time use)\n",
        "root_dir = \"/content/Dataset/\"\n",
        "\n",
        "# os.makedirs(root_dir + '/Images' + '/Train')\n",
        "# os.makedirs(root_dir + '/Images' + '/Test')\n",
        "# os.makedirs(root_dir + '/Annotation' + '/Train')\n",
        "# os.makedirs(root_dir + '/Annotation' + '/Test')\n",
        "# os.makedirs(root_dir + '/Annotation' +'/val')\n",
        "# os.makedirs(root_dir + '/Images' +'/val')\n",
        "\n",
        "# Creating partitions of the data after shuffeling\n",
        "img_src = \"/content/Train_Val/images\" # Folder to copy images from\n",
        "annot_src = \"/content/Train_Val/Annotation\" # Folder to copy annots from\n",
        "test_img_src = \"/content/Test/images\"\n",
        "test_annot_src = \"/content/Test/Annotation\"\n",
        "\n",
        "ImageFileNames = os.listdir(img_src)\n",
        "AnnotFileNames = os.listdir(annot_src)\n",
        "np.random.shuffle(ImageFileNames)\n",
        "\n",
        "train_ImgFileNames, val_ImgFileNames = np.split(np.array(ImageFileNames),\n",
        "                                                          [int(len(ImageFileNames)*0.8)])\n",
        "train_AntFileNames = []\n",
        "val_AntFileNames = []\n",
        "\n",
        "for img in train_ImgFileNames:\n",
        "  for ant in AnnotFileNames:\n",
        "    if img.split('-')[0] == ant.split('-')[0]:\n",
        "      train_AntFileNames.append(ant)\n",
        "\n",
        "for img in val_ImgFileNames:\n",
        "  for ant in AnnotFileNames:\n",
        "    if img.split('-')[0] == ant.split('-')[0]:\n",
        "      val_AntFileNames.append(ant)\n",
        "\n",
        "test_ImgFileNames = os.listdir(test_img_src)\n",
        "test_AntFileNames = os.listdir(test_annot_src)\n",
        "\n",
        "train_ImgFileNames = [img_src+'/'+ name for name in train_ImgFileNames.tolist()]\n",
        "val_ImgFileNames = [img_src+'/' + name for name in val_ImgFileNames.tolist()]\n",
        "test_ImgFileNames = [test_img_src+'/' + name for name in test_ImgFileNames]\n",
        "\n",
        "train_AntFileNames = [annot_src+'/'+ name for name in train_AntFileNames]\n",
        "val_AntFileNames = [annot_src+'/' + name for name in val_AntFileNames]\n",
        "test_AntFileNames = [test_annot_src+'/' + name for name in test_AntFileNames]\n",
        "\n",
        "print('Total images: ', (len(ImageFileNames)+len(test_ImgFileNames)))\n",
        "print('Training: ', len(train_ImgFileNames))\n",
        "print('Validation: ', len(val_ImgFileNames))\n",
        "print('Testing: ', len(test_ImgFileNames))\n",
        "\n",
        "print('Total annotations: ', (len(AnnotFileNames) + len(test_AntFileNames)))\n",
        "print('Training: ', len(train_AntFileNames))\n",
        "print('Validation: ', len(val_AntFileNames))\n",
        "print('Testing: ', len(test_AntFileNames))\n",
        "\n",
        "# Copy-pasting images and annots\n",
        "for name in train_ImgFileNames:\n",
        "    shutil.copy(name, \"/content/Dataset/Images/Train\")\n",
        "\n",
        "for name in val_ImgFileNames:\n",
        "    shutil.copy(name, \"/content/Dataset/Images/Val\")\n",
        "\n",
        "for name in test_ImgFileNames:\n",
        "    shutil.copy(name, \"/content/Dataset/Images/Test\")\n",
        "\n",
        "for name in train_AntFileNames:\n",
        "    shutil.copy(name, \"/content/Dataset/Annotation/Train\")\n",
        "\n",
        "for name in val_AntFileNames:\n",
        "    shutil.copy(name, \"/content/Dataset/Annotation/Val\")\n",
        "\n",
        "for name in test_AntFileNames:\n",
        "    shutil.copy(name, \"/content/Dataset/Annotation/Test\")"
      ],
      "metadata": {
        "id": "lvJmwp-dvm9-",
        "colab": {
          "base_uri": "https://localhost:8080/"
        },
        "outputId": "0587db84-a22b-4bf0-f38a-ed57e4c9129a"
      },
      "execution_count": null,
      "outputs": [
        {
          "output_type": "stream",
          "name": "stdout",
          "text": [
            "Total images:  233\n",
            "Training:  155\n",
            "Validation:  39\n",
            "Testing:  39\n",
            "Total annotations:  233\n",
            "Training:  155\n",
            "Validation:  39\n",
            "Testing:  39\n"
          ]
        }
      ]
    },
    {
      "cell_type": "code",
      "source": [
        "train_data = object_detector.DataLoader.from_pascal_voc(\"/content/Dataset/Images/Train\", \"/content/Dataset/Annotation/Train\", label_map={1: \"duck\", 2: \"cock\", 3: \"chick\"})\n",
        "val_data = object_detector.DataLoader.from_pascal_voc(\"/content/Dataset/Images/Val\", \"/content/Dataset/Annotation/Val\", label_map={1: \"duck\", 2: \"cock\", 3: \"chick\"})\n",
        "test_data = object_detector.DataLoader.from_pascal_voc(\"/content/Dataset/Images/Test\", \"/content/Dataset/Annotation/Test\", label_map={1: \"duck\", 2: \"cock\", 3: \"chick\"})"
      ],
      "metadata": {
        "id": "3RRS9Lf6tTat"
      },
      "execution_count": null,
      "outputs": []
    },
    {
      "cell_type": "markdown",
      "source": [
        "### Load Pre-Trained Model"
      ],
      "metadata": {
        "id": "DS8oxUnS0LUy"
      }
    },
    {
      "cell_type": "code",
      "source": [
        "spec0 = model_spec.get('efficientdet_lite0')\n",
        "spec1 = model_spec.get('efficientdet_lite1')\n",
        "spec2 = model_spec.get('efficientdet_lite2')\n",
        "spec3 = model_spec.get('efficientdet_lite3')\n",
        "spec4 = model_spec.get('efficientdet_lite4')"
      ],
      "metadata": {
        "id": "6ladAnFR0eA7"
      },
      "execution_count": null,
      "outputs": []
    },
    {
      "cell_type": "markdown",
      "source": [
        "### Train Model"
      ],
      "metadata": {
        "id": "ixbi14NK0oki"
      }
    },
    {
      "cell_type": "markdown",
      "source": [
        "**EfficientDetLite0**"
      ],
      "metadata": {
        "id": "BC-E-bxSJ0ar"
      }
    },
    {
      "cell_type": "code",
      "source": [
        "model0 = object_detector.create(\n",
        "    train_data=train_data,\n",
        "    model_spec=spec0,\n",
        "    epochs=50,\n",
        "    batch_size=25,\n",
        "    train_whole_model=False,\n",
        "    validation_data=val_data)"
      ],
      "metadata": {
        "colab": {
          "base_uri": "https://localhost:8080/"
        },
        "id": "hysl0yHV0qxH",
        "outputId": "212d6cda-5533-4580-afa5-deb3e5ad0867"
      },
      "execution_count": null,
      "outputs": [
        {
          "output_type": "stream",
          "name": "stdout",
          "text": [
            "Epoch 1/50\n",
            "6/6 [==============================] - 40s 2s/step - det_loss: 1.7885 - cls_loss: 1.1575 - box_loss: 0.0126 - reg_l2_loss: 0.0044 - loss: 1.7929 - learning_rate: 0.0191 - gradient_norm: 0.7537 - val_det_loss: 1.6790 - val_cls_loss: 1.1279 - val_box_loss: 0.0110 - val_reg_l2_loss: 0.0044 - val_loss: 1.6834\n",
            "Epoch 2/50\n",
            "6/6 [==============================] - 6s 1s/step - det_loss: 1.6327 - cls_loss: 1.1171 - box_loss: 0.0103 - reg_l2_loss: 0.0044 - loss: 1.6371 - learning_rate: 0.0312 - gradient_norm: 0.5910 - val_det_loss: 1.4885 - val_cls_loss: 1.0462 - val_box_loss: 0.0088 - val_reg_l2_loss: 0.0044 - val_loss: 1.4929\n",
            "Epoch 3/50\n",
            "6/6 [==============================] - 10s 2s/step - det_loss: 1.4764 - cls_loss: 1.0237 - box_loss: 0.0091 - reg_l2_loss: 0.0044 - loss: 1.4808 - learning_rate: 0.0311 - gradient_norm: 0.6719 - val_det_loss: 1.2399 - val_cls_loss: 0.8690 - val_box_loss: 0.0074 - val_reg_l2_loss: 0.0044 - val_loss: 1.2443\n",
            "Epoch 4/50\n",
            "6/6 [==============================] - 6s 1s/step - det_loss: 1.2613 - cls_loss: 0.8787 - box_loss: 0.0077 - reg_l2_loss: 0.0044 - loss: 1.2658 - learning_rate: 0.0309 - gradient_norm: 0.8790 - val_det_loss: 1.0893 - val_cls_loss: 0.7841 - val_box_loss: 0.0061 - val_reg_l2_loss: 0.0045 - val_loss: 1.0937\n",
            "Epoch 5/50\n",
            "6/6 [==============================] - 21s 4s/step - det_loss: 1.0266 - cls_loss: 0.7037 - box_loss: 0.0065 - reg_l2_loss: 0.0045 - loss: 1.0311 - learning_rate: 0.0306 - gradient_norm: 0.8084 - val_det_loss: 0.8722 - val_cls_loss: 0.6131 - val_box_loss: 0.0052 - val_reg_l2_loss: 0.0045 - val_loss: 0.8767\n",
            "Epoch 6/50\n",
            "6/6 [==============================] - 10s 2s/step - det_loss: 0.9082 - cls_loss: 0.6176 - box_loss: 0.0058 - reg_l2_loss: 0.0045 - loss: 0.9127 - learning_rate: 0.0303 - gradient_norm: 0.9312 - val_det_loss: 1.0589 - val_cls_loss: 0.8119 - val_box_loss: 0.0049 - val_reg_l2_loss: 0.0045 - val_loss: 1.0633\n",
            "Epoch 7/50\n",
            "6/6 [==============================] - 7s 1s/step - det_loss: 0.8451 - cls_loss: 0.5845 - box_loss: 0.0052 - reg_l2_loss: 0.0045 - loss: 0.8496 - learning_rate: 0.0299 - gradient_norm: 0.9826 - val_det_loss: 0.8870 - val_cls_loss: 0.6760 - val_box_loss: 0.0042 - val_reg_l2_loss: 0.0045 - val_loss: 0.8915\n",
            "Epoch 8/50\n",
            "6/6 [==============================] - 8s 2s/step - det_loss: 0.7667 - cls_loss: 0.5290 - box_loss: 0.0048 - reg_l2_loss: 0.0045 - loss: 0.7712 - learning_rate: 0.0295 - gradient_norm: 0.7625 - val_det_loss: 1.0055 - val_cls_loss: 0.8068 - val_box_loss: 0.0040 - val_reg_l2_loss: 0.0045 - val_loss: 1.0100\n",
            "Epoch 9/50\n",
            "6/6 [==============================] - 9s 2s/step - det_loss: 0.7543 - cls_loss: 0.5296 - box_loss: 0.0045 - reg_l2_loss: 0.0045 - loss: 0.7589 - learning_rate: 0.0290 - gradient_norm: 0.7298 - val_det_loss: 0.8171 - val_cls_loss: 0.6358 - val_box_loss: 0.0036 - val_reg_l2_loss: 0.0045 - val_loss: 0.8216\n",
            "Epoch 10/50\n",
            "6/6 [==============================] - 10s 2s/step - det_loss: 0.7205 - cls_loss: 0.5099 - box_loss: 0.0042 - reg_l2_loss: 0.0045 - loss: 0.7250 - learning_rate: 0.0285 - gradient_norm: 0.8018 - val_det_loss: 1.0619 - val_cls_loss: 0.8909 - val_box_loss: 0.0034 - val_reg_l2_loss: 0.0045 - val_loss: 1.0664\n",
            "Epoch 11/50\n",
            "6/6 [==============================] - 9s 2s/step - det_loss: 0.6650 - cls_loss: 0.4737 - box_loss: 0.0038 - reg_l2_loss: 0.0045 - loss: 0.6696 - learning_rate: 0.0279 - gradient_norm: 0.7233 - val_det_loss: 0.8127 - val_cls_loss: 0.6303 - val_box_loss: 0.0036 - val_reg_l2_loss: 0.0045 - val_loss: 0.8172\n",
            "Epoch 12/50\n",
            "6/6 [==============================] - 6s 1s/step - det_loss: 0.6605 - cls_loss: 0.4733 - box_loss: 0.0037 - reg_l2_loss: 0.0045 - loss: 0.6651 - learning_rate: 0.0272 - gradient_norm: 0.7336 - val_det_loss: 0.7474 - val_cls_loss: 0.5719 - val_box_loss: 0.0035 - val_reg_l2_loss: 0.0045 - val_loss: 0.7519\n",
            "Epoch 13/50\n",
            "6/6 [==============================] - 10s 2s/step - det_loss: 0.6431 - cls_loss: 0.4674 - box_loss: 0.0035 - reg_l2_loss: 0.0045 - loss: 0.6477 - learning_rate: 0.0265 - gradient_norm: 0.7257 - val_det_loss: 0.8204 - val_cls_loss: 0.6378 - val_box_loss: 0.0037 - val_reg_l2_loss: 0.0045 - val_loss: 0.8249\n",
            "Epoch 14/50\n",
            "6/6 [==============================] - 6s 1s/step - det_loss: 0.6444 - cls_loss: 0.4755 - box_loss: 0.0034 - reg_l2_loss: 0.0045 - loss: 0.6489 - learning_rate: 0.0258 - gradient_norm: 0.7899 - val_det_loss: 0.6710 - val_cls_loss: 0.5248 - val_box_loss: 0.0029 - val_reg_l2_loss: 0.0045 - val_loss: 0.6756\n",
            "Epoch 15/50\n",
            "6/6 [==============================] - 15s 3s/step - det_loss: 0.6087 - cls_loss: 0.4476 - box_loss: 0.0032 - reg_l2_loss: 0.0046 - loss: 0.6133 - learning_rate: 0.0250 - gradient_norm: 0.7895 - val_det_loss: 0.6126 - val_cls_loss: 0.4537 - val_box_loss: 0.0032 - val_reg_l2_loss: 0.0046 - val_loss: 0.6172\n",
            "Epoch 16/50\n",
            "6/6 [==============================] - 6s 1s/step - det_loss: 0.6262 - cls_loss: 0.4594 - box_loss: 0.0033 - reg_l2_loss: 0.0046 - loss: 0.6307 - learning_rate: 0.0242 - gradient_norm: 0.8559 - val_det_loss: 0.6132 - val_cls_loss: 0.4672 - val_box_loss: 0.0029 - val_reg_l2_loss: 0.0046 - val_loss: 0.6178\n",
            "Epoch 17/50\n",
            "6/6 [==============================] - 7s 1s/step - det_loss: 0.6209 - cls_loss: 0.4515 - box_loss: 0.0034 - reg_l2_loss: 0.0046 - loss: 0.6255 - learning_rate: 0.0233 - gradient_norm: 0.8619 - val_det_loss: 0.5859 - val_cls_loss: 0.4427 - val_box_loss: 0.0029 - val_reg_l2_loss: 0.0046 - val_loss: 0.5904\n",
            "Epoch 18/50\n",
            "6/6 [==============================] - 9s 2s/step - det_loss: 0.6093 - cls_loss: 0.4460 - box_loss: 0.0033 - reg_l2_loss: 0.0046 - loss: 0.6139 - learning_rate: 0.0224 - gradient_norm: 0.8630 - val_det_loss: 0.5874 - val_cls_loss: 0.4426 - val_box_loss: 0.0029 - val_reg_l2_loss: 0.0046 - val_loss: 0.5920\n",
            "Epoch 19/50\n",
            "6/6 [==============================] - 7s 1s/step - det_loss: 0.5851 - cls_loss: 0.4323 - box_loss: 0.0031 - reg_l2_loss: 0.0046 - loss: 0.5897 - learning_rate: 0.0215 - gradient_norm: 0.9240 - val_det_loss: 0.5896 - val_cls_loss: 0.4435 - val_box_loss: 0.0029 - val_reg_l2_loss: 0.0046 - val_loss: 0.5942\n",
            "Epoch 20/50\n",
            "6/6 [==============================] - 12s 2s/step - det_loss: 0.6109 - cls_loss: 0.4396 - box_loss: 0.0034 - reg_l2_loss: 0.0046 - loss: 0.6155 - learning_rate: 0.0206 - gradient_norm: 0.8315 - val_det_loss: 0.5743 - val_cls_loss: 0.4471 - val_box_loss: 0.0025 - val_reg_l2_loss: 0.0046 - val_loss: 0.5789\n",
            "Epoch 21/50\n",
            "6/6 [==============================] - 6s 1s/step - det_loss: 0.5900 - cls_loss: 0.4428 - box_loss: 0.0029 - reg_l2_loss: 0.0046 - loss: 0.5946 - learning_rate: 0.0196 - gradient_norm: 0.6855 - val_det_loss: 0.6076 - val_cls_loss: 0.4525 - val_box_loss: 0.0031 - val_reg_l2_loss: 0.0046 - val_loss: 0.6122\n",
            "Epoch 22/50\n",
            "6/6 [==============================] - 8s 2s/step - det_loss: 0.5904 - cls_loss: 0.4420 - box_loss: 0.0030 - reg_l2_loss: 0.0046 - loss: 0.5950 - learning_rate: 0.0186 - gradient_norm: 0.8269 - val_det_loss: 0.5736 - val_cls_loss: 0.4488 - val_box_loss: 0.0025 - val_reg_l2_loss: 0.0046 - val_loss: 0.5781\n",
            "Epoch 23/50\n",
            "6/6 [==============================] - 8s 2s/step - det_loss: 0.5944 - cls_loss: 0.4489 - box_loss: 0.0029 - reg_l2_loss: 0.0046 - loss: 0.5990 - learning_rate: 0.0176 - gradient_norm: 0.9702 - val_det_loss: 0.6180 - val_cls_loss: 0.4839 - val_box_loss: 0.0027 - val_reg_l2_loss: 0.0046 - val_loss: 0.6226\n",
            "Epoch 24/50\n",
            "6/6 [==============================] - 7s 1s/step - det_loss: 0.6104 - cls_loss: 0.4530 - box_loss: 0.0031 - reg_l2_loss: 0.0046 - loss: 0.6150 - learning_rate: 0.0166 - gradient_norm: 0.7083 - val_det_loss: 0.5573 - val_cls_loss: 0.4287 - val_box_loss: 0.0026 - val_reg_l2_loss: 0.0046 - val_loss: 0.5618\n",
            "Epoch 25/50\n",
            "6/6 [==============================] - 11s 2s/step - det_loss: 0.5698 - cls_loss: 0.4323 - box_loss: 0.0028 - reg_l2_loss: 0.0046 - loss: 0.5744 - learning_rate: 0.0156 - gradient_norm: 0.6219 - val_det_loss: 0.5932 - val_cls_loss: 0.4737 - val_box_loss: 0.0024 - val_reg_l2_loss: 0.0046 - val_loss: 0.5978\n",
            "Epoch 26/50\n",
            "6/6 [==============================] - 6s 1s/step - det_loss: 0.5674 - cls_loss: 0.4330 - box_loss: 0.0027 - reg_l2_loss: 0.0046 - loss: 0.5720 - learning_rate: 0.0146 - gradient_norm: 0.7367 - val_det_loss: 0.5940 - val_cls_loss: 0.4752 - val_box_loss: 0.0024 - val_reg_l2_loss: 0.0046 - val_loss: 0.5986\n",
            "Epoch 27/50\n",
            "6/6 [==============================] - 9s 2s/step - det_loss: 0.5815 - cls_loss: 0.4369 - box_loss: 0.0029 - reg_l2_loss: 0.0046 - loss: 0.5860 - learning_rate: 0.0137 - gradient_norm: 0.7609 - val_det_loss: 0.5506 - val_cls_loss: 0.4342 - val_box_loss: 0.0023 - val_reg_l2_loss: 0.0046 - val_loss: 0.5552\n",
            "Epoch 28/50\n",
            "6/6 [==============================] - 7s 1s/step - det_loss: 0.5733 - cls_loss: 0.4307 - box_loss: 0.0029 - reg_l2_loss: 0.0046 - loss: 0.5779 - learning_rate: 0.0127 - gradient_norm: 0.7813 - val_det_loss: 0.5809 - val_cls_loss: 0.4625 - val_box_loss: 0.0024 - val_reg_l2_loss: 0.0046 - val_loss: 0.5855\n",
            "Epoch 29/50\n",
            "6/6 [==============================] - 7s 1s/step - det_loss: 0.5886 - cls_loss: 0.4408 - box_loss: 0.0030 - reg_l2_loss: 0.0046 - loss: 0.5932 - learning_rate: 0.0117 - gradient_norm: 0.7040 - val_det_loss: 0.5884 - val_cls_loss: 0.4740 - val_box_loss: 0.0023 - val_reg_l2_loss: 0.0046 - val_loss: 0.5930\n",
            "Epoch 30/50\n",
            "6/6 [==============================] - 11s 2s/step - det_loss: 0.5569 - cls_loss: 0.4249 - box_loss: 0.0026 - reg_l2_loss: 0.0046 - loss: 0.5615 - learning_rate: 0.0107 - gradient_norm: 0.7312 - val_det_loss: 0.5918 - val_cls_loss: 0.4731 - val_box_loss: 0.0024 - val_reg_l2_loss: 0.0046 - val_loss: 0.5964\n",
            "Epoch 31/50\n",
            "6/6 [==============================] - 6s 1s/step - det_loss: 0.5676 - cls_loss: 0.4273 - box_loss: 0.0028 - reg_l2_loss: 0.0046 - loss: 0.5721 - learning_rate: 0.0098 - gradient_norm: 0.7147 - val_det_loss: 0.5778 - val_cls_loss: 0.4592 - val_box_loss: 0.0024 - val_reg_l2_loss: 0.0046 - val_loss: 0.5824\n",
            "Epoch 32/50\n",
            "6/6 [==============================] - 11s 2s/step - det_loss: 0.5699 - cls_loss: 0.4299 - box_loss: 0.0028 - reg_l2_loss: 0.0046 - loss: 0.5745 - learning_rate: 0.0089 - gradient_norm: 0.7048 - val_det_loss: 0.5629 - val_cls_loss: 0.4472 - val_box_loss: 0.0023 - val_reg_l2_loss: 0.0046 - val_loss: 0.5675\n",
            "Epoch 33/50\n",
            "6/6 [==============================] - 6s 1s/step - det_loss: 0.5850 - cls_loss: 0.4385 - box_loss: 0.0029 - reg_l2_loss: 0.0046 - loss: 0.5896 - learning_rate: 0.0080 - gradient_norm: 0.7722 - val_det_loss: 0.5549 - val_cls_loss: 0.4391 - val_box_loss: 0.0023 - val_reg_l2_loss: 0.0046 - val_loss: 0.5595\n",
            "Epoch 34/50\n",
            "6/6 [==============================] - 8s 2s/step - det_loss: 0.5709 - cls_loss: 0.4316 - box_loss: 0.0028 - reg_l2_loss: 0.0046 - loss: 0.5755 - learning_rate: 0.0071 - gradient_norm: 0.7635 - val_det_loss: 0.5683 - val_cls_loss: 0.4471 - val_box_loss: 0.0024 - val_reg_l2_loss: 0.0046 - val_loss: 0.5729\n",
            "Epoch 35/50\n",
            "6/6 [==============================] - 10s 2s/step - det_loss: 0.5720 - cls_loss: 0.4279 - box_loss: 0.0029 - reg_l2_loss: 0.0046 - loss: 0.5766 - learning_rate: 0.0063 - gradient_norm: 0.8016 - val_det_loss: 0.5688 - val_cls_loss: 0.4506 - val_box_loss: 0.0024 - val_reg_l2_loss: 0.0046 - val_loss: 0.5734\n",
            "Epoch 36/50\n",
            "6/6 [==============================] - 8s 2s/step - det_loss: 0.5674 - cls_loss: 0.4287 - box_loss: 0.0028 - reg_l2_loss: 0.0046 - loss: 0.5720 - learning_rate: 0.0055 - gradient_norm: 0.7523 - val_det_loss: 0.5916 - val_cls_loss: 0.4592 - val_box_loss: 0.0026 - val_reg_l2_loss: 0.0046 - val_loss: 0.5962\n",
            "Epoch 37/50\n",
            "6/6 [==============================] - 8s 2s/step - det_loss: 0.5559 - cls_loss: 0.4242 - box_loss: 0.0026 - reg_l2_loss: 0.0046 - loss: 0.5605 - learning_rate: 0.0048 - gradient_norm: 0.7240 - val_det_loss: 0.5862 - val_cls_loss: 0.4704 - val_box_loss: 0.0023 - val_reg_l2_loss: 0.0046 - val_loss: 0.5908\n",
            "Epoch 38/50\n",
            "6/6 [==============================] - 6s 1s/step - det_loss: 0.5392 - cls_loss: 0.4169 - box_loss: 0.0024 - reg_l2_loss: 0.0046 - loss: 0.5438 - learning_rate: 0.0041 - gradient_norm: 0.6819 - val_det_loss: 0.5565 - val_cls_loss: 0.4407 - val_box_loss: 0.0023 - val_reg_l2_loss: 0.0046 - val_loss: 0.5611\n",
            "Epoch 39/50\n",
            "6/6 [==============================] - 9s 2s/step - det_loss: 0.5333 - cls_loss: 0.4070 - box_loss: 0.0025 - reg_l2_loss: 0.0046 - loss: 0.5379 - learning_rate: 0.0034 - gradient_norm: 0.6640 - val_det_loss: 0.5556 - val_cls_loss: 0.4379 - val_box_loss: 0.0024 - val_reg_l2_loss: 0.0046 - val_loss: 0.5602\n",
            "Epoch 40/50\n",
            "6/6 [==============================] - 9s 2s/step - det_loss: 0.5374 - cls_loss: 0.4138 - box_loss: 0.0025 - reg_l2_loss: 0.0046 - loss: 0.5420 - learning_rate: 0.0028 - gradient_norm: 0.6742 - val_det_loss: 0.5695 - val_cls_loss: 0.4557 - val_box_loss: 0.0023 - val_reg_l2_loss: 0.0046 - val_loss: 0.5741\n",
            "Epoch 41/50\n",
            "6/6 [==============================] - 9s 2s/step - det_loss: 0.5645 - cls_loss: 0.4293 - box_loss: 0.0027 - reg_l2_loss: 0.0046 - loss: 0.5691 - learning_rate: 0.0023 - gradient_norm: 0.7439 - val_det_loss: 0.5795 - val_cls_loss: 0.4657 - val_box_loss: 0.0023 - val_reg_l2_loss: 0.0046 - val_loss: 0.5841\n",
            "Epoch 42/50\n",
            "6/6 [==============================] - 6s 1s/step - det_loss: 0.5389 - cls_loss: 0.4093 - box_loss: 0.0026 - reg_l2_loss: 0.0046 - loss: 0.5435 - learning_rate: 0.0018 - gradient_norm: 0.6863 - val_det_loss: 0.5722 - val_cls_loss: 0.4579 - val_box_loss: 0.0023 - val_reg_l2_loss: 0.0046 - val_loss: 0.5768\n",
            "Epoch 43/50\n",
            "6/6 [==============================] - 10s 2s/step - det_loss: 0.5392 - cls_loss: 0.4077 - box_loss: 0.0026 - reg_l2_loss: 0.0046 - loss: 0.5438 - learning_rate: 0.0013 - gradient_norm: 0.6885 - val_det_loss: 0.5598 - val_cls_loss: 0.4462 - val_box_loss: 0.0023 - val_reg_l2_loss: 0.0046 - val_loss: 0.5644\n",
            "Epoch 44/50\n",
            "6/6 [==============================] - 9s 2s/step - det_loss: 0.5481 - cls_loss: 0.4195 - box_loss: 0.0026 - reg_l2_loss: 0.0046 - loss: 0.5527 - learning_rate: 9.7242e-04 - gradient_norm: 0.6260 - val_det_loss: 0.5602 - val_cls_loss: 0.4455 - val_box_loss: 0.0023 - val_reg_l2_loss: 0.0046 - val_loss: 0.5648\n",
            "Epoch 45/50\n",
            "6/6 [==============================] - 9s 2s/step - det_loss: 0.5298 - cls_loss: 0.4044 - box_loss: 0.0025 - reg_l2_loss: 0.0046 - loss: 0.5344 - learning_rate: 6.5541e-04 - gradient_norm: 0.6446 - val_det_loss: 0.5625 - val_cls_loss: 0.4475 - val_box_loss: 0.0023 - val_reg_l2_loss: 0.0046 - val_loss: 0.5671\n",
            "Epoch 46/50\n",
            "6/6 [==============================] - 9s 2s/step - det_loss: 0.5436 - cls_loss: 0.4170 - box_loss: 0.0025 - reg_l2_loss: 0.0046 - loss: 0.5482 - learning_rate: 3.9991e-04 - gradient_norm: 0.7015 - val_det_loss: 0.5633 - val_cls_loss: 0.4488 - val_box_loss: 0.0023 - val_reg_l2_loss: 0.0046 - val_loss: 0.5679\n",
            "Epoch 47/50\n",
            "6/6 [==============================] - 7s 1s/step - det_loss: 0.5448 - cls_loss: 0.4173 - box_loss: 0.0026 - reg_l2_loss: 0.0046 - loss: 0.5494 - learning_rate: 2.0698e-04 - gradient_norm: 0.6670 - val_det_loss: 0.5635 - val_cls_loss: 0.4490 - val_box_loss: 0.0023 - val_reg_l2_loss: 0.0046 - val_loss: 0.5681\n",
            "Epoch 48/50\n",
            "6/6 [==============================] - 7s 1s/step - det_loss: 0.5469 - cls_loss: 0.4156 - box_loss: 0.0026 - reg_l2_loss: 0.0046 - loss: 0.5515 - learning_rate: 7.7408e-05 - gradient_norm: 0.7143 - val_det_loss: 0.5610 - val_cls_loss: 0.4471 - val_box_loss: 0.0023 - val_reg_l2_loss: 0.0046 - val_loss: 0.5656\n",
            "Epoch 49/50\n",
            "6/6 [==============================] - 9s 2s/step - det_loss: 0.5256 - cls_loss: 0.4064 - box_loss: 0.0024 - reg_l2_loss: 0.0046 - loss: 0.5302 - learning_rate: 1.1721e-05 - gradient_norm: 0.6166 - val_det_loss: 0.5599 - val_cls_loss: 0.4460 - val_box_loss: 0.0023 - val_reg_l2_loss: 0.0046 - val_loss: 0.5645\n",
            "Epoch 50/50\n",
            "6/6 [==============================] - 9s 2s/step - det_loss: 0.5478 - cls_loss: 0.4232 - box_loss: 0.0025 - reg_l2_loss: 0.0046 - loss: 0.5524 - learning_rate: 1.0193e-05 - gradient_norm: 0.6593 - val_det_loss: 0.5601 - val_cls_loss: 0.4455 - val_box_loss: 0.0023 - val_reg_l2_loss: 0.0046 - val_loss: 0.5646\n"
          ]
        }
      ]
    },
    {
      "cell_type": "code",
      "source": [
        "model0.summary()"
      ],
      "metadata": {
        "colab": {
          "base_uri": "https://localhost:8080/"
        },
        "id": "zPQf-GpzEHvO",
        "outputId": "4c06bfd1-85cd-4799-b9e0-df2cc3e1262b"
      },
      "execution_count": null,
      "outputs": [
        {
          "output_type": "stream",
          "name": "stdout",
          "text": [
            "Model: \"\"\n",
            "_________________________________________________________________\n",
            " Layer (type)                Output Shape              Param #   \n",
            "=================================================================\n",
            " keras_layer (KerasLayer)    multiple                  3234464   \n",
            "                                                                 \n",
            " class_net/class-predict (Se  multiple                 2331      \n",
            " parableConv2D)                                                  \n",
            "                                                                 \n",
            " box_net/box-predict (Separa  multiple                 2916      \n",
            " bleConv2D)                                                      \n",
            "                                                                 \n",
            "=================================================================\n",
            "Total params: 3,239,711\n",
            "Trainable params: 3,192,575\n",
            "Non-trainable params: 47,136\n",
            "_________________________________________________________________\n"
          ]
        }
      ]
    },
    {
      "cell_type": "markdown",
      "source": [
        "**EfficientDetLite1**"
      ],
      "metadata": {
        "id": "2oi-rIB1KAyV"
      }
    },
    {
      "cell_type": "code",
      "source": [
        "model1 = object_detector.create(\n",
        "    train_data=train_data,\n",
        "    model_spec=spec1,\n",
        "    epochs=50,\n",
        "    batch_size=25,\n",
        "    train_whole_model=False,\n",
        "    validation_data=val_data)"
      ],
      "metadata": {
        "colab": {
          "base_uri": "https://localhost:8080/"
        },
        "id": "2GAZ99S-J_2o",
        "outputId": "02b50efb-eeca-4bf6-8271-9c272752cfbb"
      },
      "execution_count": null,
      "outputs": [
        {
          "output_type": "stream",
          "name": "stdout",
          "text": [
            "Epoch 1/50\n",
            "6/6 [==============================] - 37s 2s/step - det_loss: 1.7745 - cls_loss: 1.1597 - box_loss: 0.0123 - reg_l2_loss: 0.0047 - loss: 1.7792 - learning_rate: 0.0191 - gradient_norm: 0.6720 - val_det_loss: 1.6956 - val_cls_loss: 1.1371 - val_box_loss: 0.0112 - val_reg_l2_loss: 0.0047 - val_loss: 1.7002\n",
            "Epoch 2/50\n",
            "6/6 [==============================] - 11s 2s/step - det_loss: 1.6312 - cls_loss: 1.1257 - box_loss: 0.0101 - reg_l2_loss: 0.0047 - loss: 1.6359 - learning_rate: 0.0312 - gradient_norm: 0.5739 - val_det_loss: 1.4950 - val_cls_loss: 1.0599 - val_box_loss: 0.0087 - val_reg_l2_loss: 0.0047 - val_loss: 1.4997\n",
            "Epoch 3/50\n",
            "6/6 [==============================] - 7s 1s/step - det_loss: 1.4062 - cls_loss: 1.0051 - box_loss: 0.0080 - reg_l2_loss: 0.0047 - loss: 1.4108 - learning_rate: 0.0311 - gradient_norm: 0.7840 - val_det_loss: 1.1539 - val_cls_loss: 0.8089 - val_box_loss: 0.0069 - val_reg_l2_loss: 0.0047 - val_loss: 1.1586\n",
            "Epoch 4/50\n",
            "6/6 [==============================] - 10s 2s/step - det_loss: 1.1493 - cls_loss: 0.8004 - box_loss: 0.0070 - reg_l2_loss: 0.0047 - loss: 1.1540 - learning_rate: 0.0309 - gradient_norm: 1.1358 - val_det_loss: 0.9593 - val_cls_loss: 0.6830 - val_box_loss: 0.0055 - val_reg_l2_loss: 0.0047 - val_loss: 0.9640\n",
            "Epoch 5/50\n",
            "6/6 [==============================] - 20s 4s/step - det_loss: 1.0057 - cls_loss: 0.7212 - box_loss: 0.0057 - reg_l2_loss: 0.0047 - loss: 1.0104 - learning_rate: 0.0306 - gradient_norm: 0.9645 - val_det_loss: 0.8612 - val_cls_loss: 0.6094 - val_box_loss: 0.0050 - val_reg_l2_loss: 0.0047 - val_loss: 0.8660\n",
            "Epoch 6/50\n",
            "6/6 [==============================] - 8s 1s/step - det_loss: 0.9272 - cls_loss: 0.6644 - box_loss: 0.0053 - reg_l2_loss: 0.0047 - loss: 0.9319 - learning_rate: 0.0303 - gradient_norm: 0.9826 - val_det_loss: 0.7781 - val_cls_loss: 0.5726 - val_box_loss: 0.0041 - val_reg_l2_loss: 0.0047 - val_loss: 0.7828\n",
            "Epoch 7/50\n",
            "6/6 [==============================] - 11s 2s/step - det_loss: 0.8066 - cls_loss: 0.5924 - box_loss: 0.0043 - reg_l2_loss: 0.0047 - loss: 0.8113 - learning_rate: 0.0299 - gradient_norm: 0.8035 - val_det_loss: 0.7498 - val_cls_loss: 0.5519 - val_box_loss: 0.0040 - val_reg_l2_loss: 0.0047 - val_loss: 0.7546\n",
            "Epoch 8/50\n",
            "6/6 [==============================] - 8s 1s/step - det_loss: 0.7601 - cls_loss: 0.5692 - box_loss: 0.0038 - reg_l2_loss: 0.0048 - loss: 0.7649 - learning_rate: 0.0295 - gradient_norm: 0.7858 - val_det_loss: 0.7316 - val_cls_loss: 0.5159 - val_box_loss: 0.0043 - val_reg_l2_loss: 0.0048 - val_loss: 0.7363\n",
            "Epoch 9/50\n",
            "6/6 [==============================] - 11s 2s/step - det_loss: 0.7722 - cls_loss: 0.5725 - box_loss: 0.0040 - reg_l2_loss: 0.0048 - loss: 0.7770 - learning_rate: 0.0290 - gradient_norm: 0.9681 - val_det_loss: 0.7019 - val_cls_loss: 0.5214 - val_box_loss: 0.0036 - val_reg_l2_loss: 0.0048 - val_loss: 0.7067\n",
            "Epoch 10/50\n",
            "6/6 [==============================] - 10s 2s/step - det_loss: 0.6807 - cls_loss: 0.5155 - box_loss: 0.0033 - reg_l2_loss: 0.0048 - loss: 0.6855 - learning_rate: 0.0285 - gradient_norm: 0.8838 - val_det_loss: 0.7126 - val_cls_loss: 0.5379 - val_box_loss: 0.0035 - val_reg_l2_loss: 0.0048 - val_loss: 0.7174\n",
            "Epoch 11/50\n",
            "6/6 [==============================] - 14s 3s/step - det_loss: 0.6772 - cls_loss: 0.5106 - box_loss: 0.0033 - reg_l2_loss: 0.0048 - loss: 0.6820 - learning_rate: 0.0279 - gradient_norm: 0.9287 - val_det_loss: 0.6394 - val_cls_loss: 0.5004 - val_box_loss: 0.0028 - val_reg_l2_loss: 0.0048 - val_loss: 0.6442\n",
            "Epoch 12/50\n",
            "6/6 [==============================] - 7s 1s/step - det_loss: 0.6524 - cls_loss: 0.4985 - box_loss: 0.0031 - reg_l2_loss: 0.0048 - loss: 0.6572 - learning_rate: 0.0272 - gradient_norm: 0.9766 - val_det_loss: 0.6781 - val_cls_loss: 0.5080 - val_box_loss: 0.0034 - val_reg_l2_loss: 0.0048 - val_loss: 0.6829\n",
            "Epoch 13/50\n",
            "6/6 [==============================] - 10s 2s/step - det_loss: 0.6214 - cls_loss: 0.4787 - box_loss: 0.0029 - reg_l2_loss: 0.0048 - loss: 0.6262 - learning_rate: 0.0265 - gradient_norm: 0.8696 - val_det_loss: 0.6575 - val_cls_loss: 0.5073 - val_box_loss: 0.0030 - val_reg_l2_loss: 0.0048 - val_loss: 0.6623\n",
            "Epoch 14/50\n",
            "6/6 [==============================] - 8s 1s/step - det_loss: 0.6040 - cls_loss: 0.4640 - box_loss: 0.0028 - reg_l2_loss: 0.0048 - loss: 0.6088 - learning_rate: 0.0258 - gradient_norm: 0.9386 - val_det_loss: 0.5982 - val_cls_loss: 0.4828 - val_box_loss: 0.0023 - val_reg_l2_loss: 0.0048 - val_loss: 0.6030\n",
            "Epoch 15/50\n",
            "6/6 [==============================] - 13s 2s/step - det_loss: 0.6080 - cls_loss: 0.4618 - box_loss: 0.0029 - reg_l2_loss: 0.0048 - loss: 0.6128 - learning_rate: 0.0250 - gradient_norm: 1.0906 - val_det_loss: 0.6435 - val_cls_loss: 0.5149 - val_box_loss: 0.0026 - val_reg_l2_loss: 0.0048 - val_loss: 0.6484\n",
            "Epoch 16/50\n",
            "6/6 [==============================] - 8s 2s/step - det_loss: 0.5944 - cls_loss: 0.4549 - box_loss: 0.0028 - reg_l2_loss: 0.0048 - loss: 0.5992 - learning_rate: 0.0242 - gradient_norm: 0.8393 - val_det_loss: 0.5871 - val_cls_loss: 0.4773 - val_box_loss: 0.0022 - val_reg_l2_loss: 0.0048 - val_loss: 0.5919\n",
            "Epoch 17/50\n",
            "6/6 [==============================] - 11s 2s/step - det_loss: 0.6165 - cls_loss: 0.4673 - box_loss: 0.0030 - reg_l2_loss: 0.0048 - loss: 0.6213 - learning_rate: 0.0233 - gradient_norm: 0.8887 - val_det_loss: 0.5779 - val_cls_loss: 0.4714 - val_box_loss: 0.0021 - val_reg_l2_loss: 0.0048 - val_loss: 0.5827\n",
            "Epoch 18/50\n",
            "6/6 [==============================] - 7s 1s/step - det_loss: 0.5939 - cls_loss: 0.4504 - box_loss: 0.0029 - reg_l2_loss: 0.0048 - loss: 0.5987 - learning_rate: 0.0224 - gradient_norm: 0.8086 - val_det_loss: 0.5875 - val_cls_loss: 0.4661 - val_box_loss: 0.0024 - val_reg_l2_loss: 0.0048 - val_loss: 0.5923\n",
            "Epoch 19/50\n",
            "6/6 [==============================] - 10s 2s/step - det_loss: 0.5635 - cls_loss: 0.4378 - box_loss: 0.0025 - reg_l2_loss: 0.0048 - loss: 0.5683 - learning_rate: 0.0215 - gradient_norm: 0.9048 - val_det_loss: 0.5534 - val_cls_loss: 0.4532 - val_box_loss: 0.0020 - val_reg_l2_loss: 0.0048 - val_loss: 0.5582\n",
            "Epoch 20/50\n",
            "6/6 [==============================] - 10s 2s/step - det_loss: 0.5782 - cls_loss: 0.4442 - box_loss: 0.0027 - reg_l2_loss: 0.0048 - loss: 0.5831 - learning_rate: 0.0206 - gradient_norm: 0.7907 - val_det_loss: 0.5468 - val_cls_loss: 0.4495 - val_box_loss: 0.0019 - val_reg_l2_loss: 0.0048 - val_loss: 0.5516\n",
            "Epoch 21/50\n",
            "6/6 [==============================] - 11s 2s/step - det_loss: 0.5705 - cls_loss: 0.4389 - box_loss: 0.0026 - reg_l2_loss: 0.0048 - loss: 0.5753 - learning_rate: 0.0196 - gradient_norm: 0.7477 - val_det_loss: 0.5523 - val_cls_loss: 0.4607 - val_box_loss: 0.0018 - val_reg_l2_loss: 0.0048 - val_loss: 0.5572\n",
            "Epoch 22/50\n",
            "6/6 [==============================] - 8s 2s/step - det_loss: 0.5590 - cls_loss: 0.4301 - box_loss: 0.0026 - reg_l2_loss: 0.0048 - loss: 0.5638 - learning_rate: 0.0186 - gradient_norm: 0.8489 - val_det_loss: 0.5494 - val_cls_loss: 0.4479 - val_box_loss: 0.0020 - val_reg_l2_loss: 0.0048 - val_loss: 0.5542\n",
            "Epoch 23/50\n",
            "6/6 [==============================] - 11s 2s/step - det_loss: 0.5546 - cls_loss: 0.4315 - box_loss: 0.0025 - reg_l2_loss: 0.0048 - loss: 0.5594 - learning_rate: 0.0176 - gradient_norm: 0.8094 - val_det_loss: 0.5547 - val_cls_loss: 0.4563 - val_box_loss: 0.0020 - val_reg_l2_loss: 0.0048 - val_loss: 0.5595\n",
            "Epoch 24/50\n",
            "6/6 [==============================] - 7s 1s/step - det_loss: 0.5371 - cls_loss: 0.4248 - box_loss: 0.0022 - reg_l2_loss: 0.0048 - loss: 0.5419 - learning_rate: 0.0166 - gradient_norm: 0.8269 - val_det_loss: 0.5317 - val_cls_loss: 0.4391 - val_box_loss: 0.0019 - val_reg_l2_loss: 0.0048 - val_loss: 0.5365\n",
            "Epoch 25/50\n",
            "6/6 [==============================] - 13s 3s/step - det_loss: 0.5751 - cls_loss: 0.4381 - box_loss: 0.0027 - reg_l2_loss: 0.0048 - loss: 0.5799 - learning_rate: 0.0156 - gradient_norm: 0.7956 - val_det_loss: 0.5455 - val_cls_loss: 0.4516 - val_box_loss: 0.0019 - val_reg_l2_loss: 0.0048 - val_loss: 0.5504\n",
            "Epoch 26/50\n",
            "6/6 [==============================] - 7s 1s/step - det_loss: 0.5349 - cls_loss: 0.4220 - box_loss: 0.0023 - reg_l2_loss: 0.0048 - loss: 0.5397 - learning_rate: 0.0146 - gradient_norm: 0.7591 - val_det_loss: 0.5462 - val_cls_loss: 0.4593 - val_box_loss: 0.0017 - val_reg_l2_loss: 0.0048 - val_loss: 0.5510\n",
            "Epoch 27/50\n",
            "6/6 [==============================] - 11s 2s/step - det_loss: 0.5531 - cls_loss: 0.4271 - box_loss: 0.0025 - reg_l2_loss: 0.0048 - loss: 0.5580 - learning_rate: 0.0137 - gradient_norm: 0.7494 - val_det_loss: 0.5481 - val_cls_loss: 0.4530 - val_box_loss: 0.0019 - val_reg_l2_loss: 0.0048 - val_loss: 0.5529\n",
            "Epoch 28/50\n",
            "6/6 [==============================] - 8s 2s/step - det_loss: 0.5317 - cls_loss: 0.4151 - box_loss: 0.0023 - reg_l2_loss: 0.0048 - loss: 0.5366 - learning_rate: 0.0127 - gradient_norm: 0.7705 - val_det_loss: 0.5445 - val_cls_loss: 0.4584 - val_box_loss: 0.0017 - val_reg_l2_loss: 0.0049 - val_loss: 0.5493\n",
            "Epoch 29/50\n",
            "6/6 [==============================] - 11s 2s/step - det_loss: 0.5358 - cls_loss: 0.4173 - box_loss: 0.0024 - reg_l2_loss: 0.0049 - loss: 0.5407 - learning_rate: 0.0117 - gradient_norm: 0.8050 - val_det_loss: 0.5374 - val_cls_loss: 0.4516 - val_box_loss: 0.0017 - val_reg_l2_loss: 0.0049 - val_loss: 0.5422\n",
            "Epoch 30/50\n",
            "6/6 [==============================] - 10s 2s/step - det_loss: 0.5370 - cls_loss: 0.4198 - box_loss: 0.0023 - reg_l2_loss: 0.0049 - loss: 0.5418 - learning_rate: 0.0107 - gradient_norm: 0.7612 - val_det_loss: 0.5412 - val_cls_loss: 0.4583 - val_box_loss: 0.0017 - val_reg_l2_loss: 0.0049 - val_loss: 0.5461\n",
            "Epoch 31/50\n",
            "6/6 [==============================] - 11s 2s/step - det_loss: 0.5117 - cls_loss: 0.4061 - box_loss: 0.0021 - reg_l2_loss: 0.0049 - loss: 0.5166 - learning_rate: 0.0098 - gradient_norm: 0.7555 - val_det_loss: 0.5355 - val_cls_loss: 0.4521 - val_box_loss: 0.0017 - val_reg_l2_loss: 0.0049 - val_loss: 0.5403\n",
            "Epoch 32/50\n",
            "6/6 [==============================] - 7s 1s/step - det_loss: 0.5074 - cls_loss: 0.4054 - box_loss: 0.0020 - reg_l2_loss: 0.0049 - loss: 0.5123 - learning_rate: 0.0089 - gradient_norm: 0.8257 - val_det_loss: 0.5429 - val_cls_loss: 0.4598 - val_box_loss: 0.0017 - val_reg_l2_loss: 0.0049 - val_loss: 0.5478\n",
            "Epoch 33/50\n",
            "6/6 [==============================] - 11s 2s/step - det_loss: 0.5367 - cls_loss: 0.4177 - box_loss: 0.0024 - reg_l2_loss: 0.0049 - loss: 0.5416 - learning_rate: 0.0080 - gradient_norm: 0.7767 - val_det_loss: 0.5532 - val_cls_loss: 0.4639 - val_box_loss: 0.0018 - val_reg_l2_loss: 0.0049 - val_loss: 0.5581\n",
            "Epoch 34/50\n",
            "6/6 [==============================] - 8s 2s/step - det_loss: 0.5065 - cls_loss: 0.4027 - box_loss: 0.0021 - reg_l2_loss: 0.0049 - loss: 0.5114 - learning_rate: 0.0071 - gradient_norm: 0.8079 - val_det_loss: 0.5332 - val_cls_loss: 0.4495 - val_box_loss: 0.0017 - val_reg_l2_loss: 0.0049 - val_loss: 0.5381\n",
            "Epoch 35/50\n",
            "6/6 [==============================] - 16s 3s/step - det_loss: 0.5146 - cls_loss: 0.4036 - box_loss: 0.0022 - reg_l2_loss: 0.0049 - loss: 0.5194 - learning_rate: 0.0063 - gradient_norm: 0.7515 - val_det_loss: 0.5567 - val_cls_loss: 0.4747 - val_box_loss: 0.0016 - val_reg_l2_loss: 0.0049 - val_loss: 0.5615\n",
            "Epoch 36/50\n",
            "6/6 [==============================] - 7s 1s/step - det_loss: 0.4863 - cls_loss: 0.3919 - box_loss: 0.0019 - reg_l2_loss: 0.0049 - loss: 0.4912 - learning_rate: 0.0055 - gradient_norm: 0.6992 - val_det_loss: 0.5294 - val_cls_loss: 0.4466 - val_box_loss: 0.0017 - val_reg_l2_loss: 0.0049 - val_loss: 0.5343\n",
            "Epoch 37/50\n",
            "6/6 [==============================] - 11s 2s/step - det_loss: 0.5114 - cls_loss: 0.4045 - box_loss: 0.0021 - reg_l2_loss: 0.0049 - loss: 0.5162 - learning_rate: 0.0048 - gradient_norm: 0.6974 - val_det_loss: 0.5374 - val_cls_loss: 0.4533 - val_box_loss: 0.0017 - val_reg_l2_loss: 0.0049 - val_loss: 0.5423\n",
            "Epoch 38/50\n",
            "6/6 [==============================] - 7s 1s/step - det_loss: 0.5197 - cls_loss: 0.4148 - box_loss: 0.0021 - reg_l2_loss: 0.0049 - loss: 0.5245 - learning_rate: 0.0041 - gradient_norm: 0.7498 - val_det_loss: 0.5421 - val_cls_loss: 0.4585 - val_box_loss: 0.0017 - val_reg_l2_loss: 0.0049 - val_loss: 0.5469\n",
            "Epoch 39/50\n",
            "6/6 [==============================] - 11s 2s/step - det_loss: 0.5303 - cls_loss: 0.4070 - box_loss: 0.0025 - reg_l2_loss: 0.0049 - loss: 0.5352 - learning_rate: 0.0034 - gradient_norm: 0.6410 - val_det_loss: 0.5260 - val_cls_loss: 0.4430 - val_box_loss: 0.0017 - val_reg_l2_loss: 0.0049 - val_loss: 0.5308\n",
            "Epoch 40/50\n",
            "6/6 [==============================] - 11s 2s/step - det_loss: 0.5199 - cls_loss: 0.4079 - box_loss: 0.0022 - reg_l2_loss: 0.0049 - loss: 0.5248 - learning_rate: 0.0028 - gradient_norm: 0.6640 - val_det_loss: 0.5247 - val_cls_loss: 0.4417 - val_box_loss: 0.0017 - val_reg_l2_loss: 0.0049 - val_loss: 0.5296\n",
            "Epoch 41/50\n",
            "6/6 [==============================] - 10s 2s/step - det_loss: 0.5223 - cls_loss: 0.4116 - box_loss: 0.0022 - reg_l2_loss: 0.0049 - loss: 0.5271 - learning_rate: 0.0023 - gradient_norm: 0.7472 - val_det_loss: 0.5318 - val_cls_loss: 0.4485 - val_box_loss: 0.0017 - val_reg_l2_loss: 0.0049 - val_loss: 0.5366\n",
            "Epoch 42/50\n",
            "6/6 [==============================] - 7s 1s/step - det_loss: 0.5119 - cls_loss: 0.4048 - box_loss: 0.0021 - reg_l2_loss: 0.0049 - loss: 0.5168 - learning_rate: 0.0018 - gradient_norm: 0.6392 - val_det_loss: 0.5339 - val_cls_loss: 0.4516 - val_box_loss: 0.0016 - val_reg_l2_loss: 0.0049 - val_loss: 0.5388\n",
            "Epoch 43/50\n",
            "6/6 [==============================] - 11s 2s/step - det_loss: 0.4916 - cls_loss: 0.3925 - box_loss: 0.0020 - reg_l2_loss: 0.0049 - loss: 0.4964 - learning_rate: 0.0013 - gradient_norm: 0.6889 - val_det_loss: 0.5345 - val_cls_loss: 0.4518 - val_box_loss: 0.0017 - val_reg_l2_loss: 0.0049 - val_loss: 0.5393\n",
            "Epoch 44/50\n",
            "6/6 [==============================] - 8s 1s/step - det_loss: 0.5273 - cls_loss: 0.4141 - box_loss: 0.0023 - reg_l2_loss: 0.0049 - loss: 0.5322 - learning_rate: 9.7242e-04 - gradient_norm: 0.6517 - val_det_loss: 0.5331 - val_cls_loss: 0.4498 - val_box_loss: 0.0017 - val_reg_l2_loss: 0.0049 - val_loss: 0.5380\n",
            "Epoch 45/50\n",
            "6/6 [==============================] - 14s 3s/step - det_loss: 0.5081 - cls_loss: 0.4051 - box_loss: 0.0021 - reg_l2_loss: 0.0049 - loss: 0.5130 - learning_rate: 6.5541e-04 - gradient_norm: 0.6539 - val_det_loss: 0.5303 - val_cls_loss: 0.4469 - val_box_loss: 0.0017 - val_reg_l2_loss: 0.0049 - val_loss: 0.5352\n",
            "Epoch 46/50\n",
            "6/6 [==============================] - 8s 1s/step - det_loss: 0.5086 - cls_loss: 0.4049 - box_loss: 0.0021 - reg_l2_loss: 0.0049 - loss: 0.5135 - learning_rate: 3.9991e-04 - gradient_norm: 0.6320 - val_det_loss: 0.5299 - val_cls_loss: 0.4459 - val_box_loss: 0.0017 - val_reg_l2_loss: 0.0049 - val_loss: 0.5347\n",
            "Epoch 47/50\n",
            "6/6 [==============================] - 11s 2s/step - det_loss: 0.5147 - cls_loss: 0.4066 - box_loss: 0.0022 - reg_l2_loss: 0.0049 - loss: 0.5196 - learning_rate: 2.0698e-04 - gradient_norm: 0.7075 - val_det_loss: 0.5298 - val_cls_loss: 0.4456 - val_box_loss: 0.0017 - val_reg_l2_loss: 0.0049 - val_loss: 0.5347\n",
            "Epoch 48/50\n",
            "6/6 [==============================] - 8s 1s/step - det_loss: 0.4923 - cls_loss: 0.3938 - box_loss: 0.0020 - reg_l2_loss: 0.0049 - loss: 0.4971 - learning_rate: 7.7408e-05 - gradient_norm: 0.6516 - val_det_loss: 0.5304 - val_cls_loss: 0.4458 - val_box_loss: 0.0017 - val_reg_l2_loss: 0.0049 - val_loss: 0.5352\n",
            "Epoch 49/50\n",
            "6/6 [==============================] - 11s 2s/step - det_loss: 0.5026 - cls_loss: 0.3985 - box_loss: 0.0021 - reg_l2_loss: 0.0049 - loss: 0.5075 - learning_rate: 1.1721e-05 - gradient_norm: 0.7874 - val_det_loss: 0.5306 - val_cls_loss: 0.4458 - val_box_loss: 0.0017 - val_reg_l2_loss: 0.0049 - val_loss: 0.5355\n",
            "Epoch 50/50\n",
            "6/6 [==============================] - 10s 2s/step - det_loss: 0.5046 - cls_loss: 0.3999 - box_loss: 0.0021 - reg_l2_loss: 0.0049 - loss: 0.5095 - learning_rate: 1.0193e-05 - gradient_norm: 0.6969 - val_det_loss: 0.5313 - val_cls_loss: 0.4461 - val_box_loss: 0.0017 - val_reg_l2_loss: 0.0049 - val_loss: 0.5361\n"
          ]
        }
      ]
    },
    {
      "cell_type": "code",
      "source": [
        "model1.summary()"
      ],
      "metadata": {
        "colab": {
          "base_uri": "https://localhost:8080/"
        },
        "id": "orephQh4KVwN",
        "outputId": "67e836c1-b8fe-4f8e-c518-788c3c23e396"
      },
      "execution_count": null,
      "outputs": [
        {
          "output_type": "stream",
          "name": "stdout",
          "text": [
            "Model: \"\"\n",
            "_________________________________________________________________\n",
            " Layer (type)                Output Shape              Param #   \n",
            "=================================================================\n",
            " keras_layer_1 (KerasLayer)  multiple                  4234512   \n",
            "                                                                 \n",
            " class_net/class-predict (Se  multiple                 3195      \n",
            " parableConv2D)                                                  \n",
            "                                                                 \n",
            " box_net/box-predict (Separa  multiple                 3996      \n",
            " bleConv2D)                                                      \n",
            "                                                                 \n",
            "=================================================================\n",
            "Total params: 4,241,703\n",
            "Trainable params: 4,178,631\n",
            "Non-trainable params: 63,072\n",
            "_________________________________________________________________\n"
          ]
        }
      ]
    },
    {
      "cell_type": "markdown",
      "source": [
        "**EfficientDetLite2**"
      ],
      "metadata": {
        "id": "_zACzenaOlc3"
      }
    },
    {
      "cell_type": "code",
      "source": [
        "model2 = object_detector.create(\n",
        "    train_data=train_data,\n",
        "    model_spec=spec2,\n",
        "    epochs=50,\n",
        "    batch_size=25,\n",
        "    train_whole_model=False,\n",
        "    validation_data=val_data)"
      ],
      "metadata": {
        "colab": {
          "base_uri": "https://localhost:8080/"
        },
        "id": "rEnbTrwIOp-u",
        "outputId": "8b1c62e6-83fa-4222-9c12-bf993c9f689c"
      },
      "execution_count": null,
      "outputs": [
        {
          "output_type": "stream",
          "name": "stdout",
          "text": [
            "Epoch 1/50\n",
            "6/6 [==============================] - 41s 3s/step - det_loss: 1.7948 - cls_loss: 1.1730 - box_loss: 0.0124 - reg_l2_loss: 0.0049 - loss: 1.7997 - learning_rate: 0.0191 - gradient_norm: 0.6824 - val_det_loss: 1.7003 - val_cls_loss: 1.1516 - val_box_loss: 0.0110 - val_reg_l2_loss: 0.0049 - val_loss: 1.7052\n",
            "Epoch 2/50\n",
            "6/6 [==============================] - 11s 2s/step - det_loss: 1.6213 - cls_loss: 1.1340 - box_loss: 0.0097 - reg_l2_loss: 0.0049 - loss: 1.6263 - learning_rate: 0.0312 - gradient_norm: 0.5907 - val_det_loss: 1.5113 - val_cls_loss: 1.0851 - val_box_loss: 0.0085 - val_reg_l2_loss: 0.0049 - val_loss: 1.5162\n",
            "Epoch 3/50\n",
            "6/6 [==============================] - 10s 2s/step - det_loss: 1.4092 - cls_loss: 1.0245 - box_loss: 0.0077 - reg_l2_loss: 0.0049 - loss: 1.4142 - learning_rate: 0.0311 - gradient_norm: 0.7420 - val_det_loss: 1.2521 - val_cls_loss: 0.9010 - val_box_loss: 0.0070 - val_reg_l2_loss: 0.0050 - val_loss: 1.2570\n",
            "Epoch 4/50\n",
            "6/6 [==============================] - 14s 3s/step - det_loss: 1.1829 - cls_loss: 0.8752 - box_loss: 0.0062 - reg_l2_loss: 0.0050 - loss: 1.1878 - learning_rate: 0.0309 - gradient_norm: 1.0828 - val_det_loss: 1.0020 - val_cls_loss: 0.7407 - val_box_loss: 0.0052 - val_reg_l2_loss: 0.0050 - val_loss: 1.0070\n",
            "Epoch 5/50\n",
            "6/6 [==============================] - 19s 4s/step - det_loss: 0.9689 - cls_loss: 0.7175 - box_loss: 0.0050 - reg_l2_loss: 0.0050 - loss: 0.9739 - learning_rate: 0.0306 - gradient_norm: 1.0394 - val_det_loss: 0.9250 - val_cls_loss: 0.6941 - val_box_loss: 0.0046 - val_reg_l2_loss: 0.0050 - val_loss: 0.9300\n",
            "Epoch 6/50\n",
            "6/6 [==============================] - 10s 2s/step - det_loss: 0.8416 - cls_loss: 0.6255 - box_loss: 0.0043 - reg_l2_loss: 0.0050 - loss: 0.8466 - learning_rate: 0.0303 - gradient_norm: 1.0281 - val_det_loss: 0.8293 - val_cls_loss: 0.6237 - val_box_loss: 0.0041 - val_reg_l2_loss: 0.0050 - val_loss: 0.8343\n",
            "Epoch 7/50\n",
            "6/6 [==============================] - 12s 2s/step - det_loss: 0.7611 - cls_loss: 0.5833 - box_loss: 0.0036 - reg_l2_loss: 0.0050 - loss: 0.7661 - learning_rate: 0.0299 - gradient_norm: 0.9510 - val_det_loss: 0.7414 - val_cls_loss: 0.5566 - val_box_loss: 0.0037 - val_reg_l2_loss: 0.0050 - val_loss: 0.7464\n",
            "Epoch 8/50\n",
            "6/6 [==============================] - 9s 2s/step - det_loss: 0.7169 - cls_loss: 0.5422 - box_loss: 0.0035 - reg_l2_loss: 0.0050 - loss: 0.7219 - learning_rate: 0.0295 - gradient_norm: 0.9016 - val_det_loss: 0.7234 - val_cls_loss: 0.5344 - val_box_loss: 0.0038 - val_reg_l2_loss: 0.0050 - val_loss: 0.7285\n",
            "Epoch 9/50\n",
            "6/6 [==============================] - 13s 3s/step - det_loss: 0.6642 - cls_loss: 0.5015 - box_loss: 0.0033 - reg_l2_loss: 0.0051 - loss: 0.6692 - learning_rate: 0.0290 - gradient_norm: 0.9456 - val_det_loss: 0.7364 - val_cls_loss: 0.5682 - val_box_loss: 0.0034 - val_reg_l2_loss: 0.0051 - val_loss: 0.7415\n",
            "Epoch 10/50\n",
            "6/6 [==============================] - 14s 3s/step - det_loss: 0.5947 - cls_loss: 0.4589 - box_loss: 0.0027 - reg_l2_loss: 0.0051 - loss: 0.5998 - learning_rate: 0.0285 - gradient_norm: 0.8280 - val_det_loss: 0.6689 - val_cls_loss: 0.5232 - val_box_loss: 0.0029 - val_reg_l2_loss: 0.0051 - val_loss: 0.6740\n",
            "Epoch 11/50\n",
            "6/6 [==============================] - 9s 2s/step - det_loss: 0.5995 - cls_loss: 0.4569 - box_loss: 0.0029 - reg_l2_loss: 0.0051 - loss: 0.6046 - learning_rate: 0.0279 - gradient_norm: 0.8622 - val_det_loss: 0.6778 - val_cls_loss: 0.5380 - val_box_loss: 0.0028 - val_reg_l2_loss: 0.0051 - val_loss: 0.6829\n",
            "Epoch 12/50\n",
            "6/6 [==============================] - 13s 2s/step - det_loss: 0.5323 - cls_loss: 0.4224 - box_loss: 0.0022 - reg_l2_loss: 0.0051 - loss: 0.5373 - learning_rate: 0.0272 - gradient_norm: 0.7073 - val_det_loss: 0.7759 - val_cls_loss: 0.6318 - val_box_loss: 0.0029 - val_reg_l2_loss: 0.0051 - val_loss: 0.7810\n",
            "Epoch 13/50\n",
            "6/6 [==============================] - 9s 2s/step - det_loss: 0.5525 - cls_loss: 0.4247 - box_loss: 0.0026 - reg_l2_loss: 0.0051 - loss: 0.5576 - learning_rate: 0.0265 - gradient_norm: 0.7781 - val_det_loss: 0.7209 - val_cls_loss: 0.6135 - val_box_loss: 0.0021 - val_reg_l2_loss: 0.0051 - val_loss: 0.7260\n",
            "Epoch 14/50\n",
            "6/6 [==============================] - 12s 2s/step - det_loss: 0.5653 - cls_loss: 0.4369 - box_loss: 0.0026 - reg_l2_loss: 0.0051 - loss: 0.5704 - learning_rate: 0.0258 - gradient_norm: 0.8006 - val_det_loss: 0.6454 - val_cls_loss: 0.5225 - val_box_loss: 0.0025 - val_reg_l2_loss: 0.0051 - val_loss: 0.6505\n",
            "Epoch 15/50\n",
            "6/6 [==============================] - 13s 3s/step - det_loss: 0.5491 - cls_loss: 0.4252 - box_loss: 0.0025 - reg_l2_loss: 0.0051 - loss: 0.5542 - learning_rate: 0.0250 - gradient_norm: 0.8210 - val_det_loss: 0.6153 - val_cls_loss: 0.5048 - val_box_loss: 0.0022 - val_reg_l2_loss: 0.0051 - val_loss: 0.6204\n",
            "Epoch 16/50\n",
            "6/6 [==============================] - 10s 2s/step - det_loss: 0.5258 - cls_loss: 0.4169 - box_loss: 0.0022 - reg_l2_loss: 0.0051 - loss: 0.5309 - learning_rate: 0.0242 - gradient_norm: 0.9167 - val_det_loss: 0.6571 - val_cls_loss: 0.5329 - val_box_loss: 0.0025 - val_reg_l2_loss: 0.0051 - val_loss: 0.6622\n",
            "Epoch 17/50\n",
            "6/6 [==============================] - 12s 2s/step - det_loss: 0.4941 - cls_loss: 0.3923 - box_loss: 0.0020 - reg_l2_loss: 0.0051 - loss: 0.4992 - learning_rate: 0.0233 - gradient_norm: 0.9244 - val_det_loss: 0.6686 - val_cls_loss: 0.5694 - val_box_loss: 0.0020 - val_reg_l2_loss: 0.0051 - val_loss: 0.6737\n",
            "Epoch 18/50\n",
            "6/6 [==============================] - 9s 2s/step - det_loss: 0.5224 - cls_loss: 0.4053 - box_loss: 0.0023 - reg_l2_loss: 0.0051 - loss: 0.5275 - learning_rate: 0.0224 - gradient_norm: 0.9107 - val_det_loss: 0.5725 - val_cls_loss: 0.4760 - val_box_loss: 0.0019 - val_reg_l2_loss: 0.0051 - val_loss: 0.5776\n",
            "Epoch 19/50\n",
            "6/6 [==============================] - 12s 2s/step - det_loss: 0.5445 - cls_loss: 0.4310 - box_loss: 0.0023 - reg_l2_loss: 0.0051 - loss: 0.5496 - learning_rate: 0.0215 - gradient_norm: 0.8966 - val_det_loss: 0.5804 - val_cls_loss: 0.4946 - val_box_loss: 0.0017 - val_reg_l2_loss: 0.0051 - val_loss: 0.5856\n",
            "Epoch 20/50\n",
            "6/6 [==============================] - 13s 2s/step - det_loss: 0.5167 - cls_loss: 0.4095 - box_loss: 0.0021 - reg_l2_loss: 0.0051 - loss: 0.5218 - learning_rate: 0.0206 - gradient_norm: 0.8726 - val_det_loss: 0.7016 - val_cls_loss: 0.5891 - val_box_loss: 0.0022 - val_reg_l2_loss: 0.0051 - val_loss: 0.7067\n",
            "Epoch 21/50\n",
            "6/6 [==============================] - 9s 2s/step - det_loss: 0.5410 - cls_loss: 0.4173 - box_loss: 0.0025 - reg_l2_loss: 0.0051 - loss: 0.5461 - learning_rate: 0.0196 - gradient_norm: 1.0189 - val_det_loss: 0.6543 - val_cls_loss: 0.5626 - val_box_loss: 0.0018 - val_reg_l2_loss: 0.0051 - val_loss: 0.6594\n",
            "Epoch 22/50\n",
            "6/6 [==============================] - 12s 2s/step - det_loss: 0.5051 - cls_loss: 0.4008 - box_loss: 0.0021 - reg_l2_loss: 0.0051 - loss: 0.5103 - learning_rate: 0.0186 - gradient_norm: 0.7967 - val_det_loss: 0.7040 - val_cls_loss: 0.6164 - val_box_loss: 0.0018 - val_reg_l2_loss: 0.0051 - val_loss: 0.7091\n",
            "Epoch 23/50\n",
            "6/6 [==============================] - 9s 2s/step - det_loss: 0.4739 - cls_loss: 0.3824 - box_loss: 0.0018 - reg_l2_loss: 0.0051 - loss: 0.4790 - learning_rate: 0.0176 - gradient_norm: 0.7770 - val_det_loss: 0.6457 - val_cls_loss: 0.5634 - val_box_loss: 0.0016 - val_reg_l2_loss: 0.0051 - val_loss: 0.6509\n",
            "Epoch 24/50\n",
            "6/6 [==============================] - 14s 3s/step - det_loss: 0.5029 - cls_loss: 0.4021 - box_loss: 0.0020 - reg_l2_loss: 0.0051 - loss: 0.5080 - learning_rate: 0.0166 - gradient_norm: 0.7423 - val_det_loss: 0.6415 - val_cls_loss: 0.5646 - val_box_loss: 0.0015 - val_reg_l2_loss: 0.0051 - val_loss: 0.6467\n",
            "Epoch 25/50\n",
            "6/6 [==============================] - 14s 3s/step - det_loss: 0.4981 - cls_loss: 0.3973 - box_loss: 0.0020 - reg_l2_loss: 0.0051 - loss: 0.5032 - learning_rate: 0.0156 - gradient_norm: 0.7527 - val_det_loss: 0.6332 - val_cls_loss: 0.5620 - val_box_loss: 0.0014 - val_reg_l2_loss: 0.0051 - val_loss: 0.6383\n",
            "Epoch 26/50\n",
            "6/6 [==============================] - 11s 2s/step - det_loss: 0.4989 - cls_loss: 0.3938 - box_loss: 0.0021 - reg_l2_loss: 0.0051 - loss: 0.5040 - learning_rate: 0.0146 - gradient_norm: 0.7663 - val_det_loss: 0.6849 - val_cls_loss: 0.5976 - val_box_loss: 0.0017 - val_reg_l2_loss: 0.0051 - val_loss: 0.6900\n",
            "Epoch 27/50\n",
            "6/6 [==============================] - 10s 2s/step - det_loss: 0.5025 - cls_loss: 0.4014 - box_loss: 0.0020 - reg_l2_loss: 0.0051 - loss: 0.5077 - learning_rate: 0.0137 - gradient_norm: 0.8898 - val_det_loss: 0.6575 - val_cls_loss: 0.5853 - val_box_loss: 0.0014 - val_reg_l2_loss: 0.0051 - val_loss: 0.6626\n",
            "Epoch 28/50\n",
            "6/6 [==============================] - 10s 2s/step - det_loss: 0.4916 - cls_loss: 0.3885 - box_loss: 0.0021 - reg_l2_loss: 0.0051 - loss: 0.4967 - learning_rate: 0.0127 - gradient_norm: 0.9181 - val_det_loss: 0.5607 - val_cls_loss: 0.4950 - val_box_loss: 0.0013 - val_reg_l2_loss: 0.0051 - val_loss: 0.5658\n",
            "Epoch 29/50\n",
            "6/6 [==============================] - 12s 2s/step - det_loss: 0.4970 - cls_loss: 0.3874 - box_loss: 0.0022 - reg_l2_loss: 0.0051 - loss: 0.5021 - learning_rate: 0.0117 - gradient_norm: 0.9089 - val_det_loss: 0.5781 - val_cls_loss: 0.4992 - val_box_loss: 0.0016 - val_reg_l2_loss: 0.0051 - val_loss: 0.5832\n",
            "Epoch 30/50\n",
            "6/6 [==============================] - 11s 2s/step - det_loss: 0.5100 - cls_loss: 0.3894 - box_loss: 0.0024 - reg_l2_loss: 0.0051 - loss: 0.5151 - learning_rate: 0.0107 - gradient_norm: 0.8892 - val_det_loss: 0.5727 - val_cls_loss: 0.4995 - val_box_loss: 0.0015 - val_reg_l2_loss: 0.0051 - val_loss: 0.5779\n",
            "Epoch 31/50\n",
            "6/6 [==============================] - 12s 2s/step - det_loss: 0.4961 - cls_loss: 0.3836 - box_loss: 0.0022 - reg_l2_loss: 0.0051 - loss: 0.5012 - learning_rate: 0.0098 - gradient_norm: 0.8852 - val_det_loss: 0.5629 - val_cls_loss: 0.4899 - val_box_loss: 0.0015 - val_reg_l2_loss: 0.0051 - val_loss: 0.5680\n",
            "Epoch 32/50\n",
            "6/6 [==============================] - 11s 2s/step - det_loss: 0.4613 - cls_loss: 0.3704 - box_loss: 0.0018 - reg_l2_loss: 0.0051 - loss: 0.4665 - learning_rate: 0.0089 - gradient_norm: 0.8180 - val_det_loss: 0.6117 - val_cls_loss: 0.5386 - val_box_loss: 0.0015 - val_reg_l2_loss: 0.0051 - val_loss: 0.6169\n",
            "Epoch 33/50\n",
            "6/6 [==============================] - 10s 2s/step - det_loss: 0.4595 - cls_loss: 0.3715 - box_loss: 0.0018 - reg_l2_loss: 0.0051 - loss: 0.4647 - learning_rate: 0.0080 - gradient_norm: 0.7127 - val_det_loss: 0.5733 - val_cls_loss: 0.5055 - val_box_loss: 0.0014 - val_reg_l2_loss: 0.0051 - val_loss: 0.5785\n",
            "Epoch 34/50\n",
            "6/6 [==============================] - 11s 2s/step - det_loss: 0.4709 - cls_loss: 0.3768 - box_loss: 0.0019 - reg_l2_loss: 0.0051 - loss: 0.4761 - learning_rate: 0.0071 - gradient_norm: 0.7187 - val_det_loss: 0.5341 - val_cls_loss: 0.4690 - val_box_loss: 0.0013 - val_reg_l2_loss: 0.0052 - val_loss: 0.5393\n",
            "Epoch 35/50\n",
            "6/6 [==============================] - 12s 2s/step - det_loss: 0.4575 - cls_loss: 0.3733 - box_loss: 0.0017 - reg_l2_loss: 0.0052 - loss: 0.4626 - learning_rate: 0.0063 - gradient_norm: 0.8206 - val_det_loss: 0.5348 - val_cls_loss: 0.4651 - val_box_loss: 0.0014 - val_reg_l2_loss: 0.0052 - val_loss: 0.5400\n",
            "Epoch 36/50\n",
            "6/6 [==============================] - 12s 2s/step - det_loss: 0.4638 - cls_loss: 0.3808 - box_loss: 0.0017 - reg_l2_loss: 0.0052 - loss: 0.4690 - learning_rate: 0.0055 - gradient_norm: 0.7719 - val_det_loss: 0.5343 - val_cls_loss: 0.4684 - val_box_loss: 0.0013 - val_reg_l2_loss: 0.0052 - val_loss: 0.5394\n",
            "Epoch 37/50\n",
            "6/6 [==============================] - 9s 2s/step - det_loss: 0.4698 - cls_loss: 0.3716 - box_loss: 0.0020 - reg_l2_loss: 0.0052 - loss: 0.4749 - learning_rate: 0.0048 - gradient_norm: 0.7614 - val_det_loss: 0.5076 - val_cls_loss: 0.4441 - val_box_loss: 0.0013 - val_reg_l2_loss: 0.0052 - val_loss: 0.5128\n",
            "Epoch 38/50\n",
            "6/6 [==============================] - 12s 2s/step - det_loss: 0.4627 - cls_loss: 0.3747 - box_loss: 0.0018 - reg_l2_loss: 0.0052 - loss: 0.4678 - learning_rate: 0.0041 - gradient_norm: 0.7568 - val_det_loss: 0.4932 - val_cls_loss: 0.4282 - val_box_loss: 0.0013 - val_reg_l2_loss: 0.0052 - val_loss: 0.4984\n",
            "Epoch 39/50\n",
            "6/6 [==============================] - 11s 2s/step - det_loss: 0.4633 - cls_loss: 0.3692 - box_loss: 0.0019 - reg_l2_loss: 0.0052 - loss: 0.4684 - learning_rate: 0.0034 - gradient_norm: 0.7169 - val_det_loss: 0.5002 - val_cls_loss: 0.4371 - val_box_loss: 0.0013 - val_reg_l2_loss: 0.0052 - val_loss: 0.5053\n",
            "Epoch 40/50\n",
            "6/6 [==============================] - 12s 2s/step - det_loss: 0.4521 - cls_loss: 0.3638 - box_loss: 0.0018 - reg_l2_loss: 0.0052 - loss: 0.4573 - learning_rate: 0.0028 - gradient_norm: 0.6533 - val_det_loss: 0.4940 - val_cls_loss: 0.4311 - val_box_loss: 0.0013 - val_reg_l2_loss: 0.0052 - val_loss: 0.4992\n",
            "Epoch 41/50\n",
            "6/6 [==============================] - 12s 2s/step - det_loss: 0.4688 - cls_loss: 0.3679 - box_loss: 0.0020 - reg_l2_loss: 0.0052 - loss: 0.4739 - learning_rate: 0.0023 - gradient_norm: 0.6549 - val_det_loss: 0.4857 - val_cls_loss: 0.4230 - val_box_loss: 0.0013 - val_reg_l2_loss: 0.0052 - val_loss: 0.4909\n",
            "Epoch 42/50\n",
            "6/6 [==============================] - 9s 2s/step - det_loss: 0.4809 - cls_loss: 0.3834 - box_loss: 0.0020 - reg_l2_loss: 0.0052 - loss: 0.4861 - learning_rate: 0.0018 - gradient_norm: 0.7310 - val_det_loss: 0.4893 - val_cls_loss: 0.4248 - val_box_loss: 0.0013 - val_reg_l2_loss: 0.0052 - val_loss: 0.4945\n",
            "Epoch 43/50\n",
            "6/6 [==============================] - 12s 2s/step - det_loss: 0.4726 - cls_loss: 0.3763 - box_loss: 0.0019 - reg_l2_loss: 0.0052 - loss: 0.4777 - learning_rate: 0.0013 - gradient_norm: 0.7210 - val_det_loss: 0.4947 - val_cls_loss: 0.4298 - val_box_loss: 0.0013 - val_reg_l2_loss: 0.0052 - val_loss: 0.4998\n",
            "Epoch 44/50\n",
            "6/6 [==============================] - 9s 2s/step - det_loss: 0.4625 - cls_loss: 0.3674 - box_loss: 0.0019 - reg_l2_loss: 0.0052 - loss: 0.4677 - learning_rate: 9.7242e-04 - gradient_norm: 0.7493 - val_det_loss: 0.4919 - val_cls_loss: 0.4286 - val_box_loss: 0.0013 - val_reg_l2_loss: 0.0052 - val_loss: 0.4970\n",
            "Epoch 45/50\n",
            "6/6 [==============================] - 13s 3s/step - det_loss: 0.4632 - cls_loss: 0.3751 - box_loss: 0.0018 - reg_l2_loss: 0.0052 - loss: 0.4684 - learning_rate: 6.5541e-04 - gradient_norm: 0.7574 - val_det_loss: 0.4874 - val_cls_loss: 0.4244 - val_box_loss: 0.0013 - val_reg_l2_loss: 0.0052 - val_loss: 0.4925\n",
            "Epoch 46/50\n",
            "6/6 [==============================] - 11s 2s/step - det_loss: 0.4620 - cls_loss: 0.3752 - box_loss: 0.0017 - reg_l2_loss: 0.0052 - loss: 0.4672 - learning_rate: 3.9991e-04 - gradient_norm: 0.7075 - val_det_loss: 0.4838 - val_cls_loss: 0.4210 - val_box_loss: 0.0013 - val_reg_l2_loss: 0.0052 - val_loss: 0.4889\n",
            "Epoch 47/50\n",
            "6/6 [==============================] - 11s 2s/step - det_loss: 0.4815 - cls_loss: 0.3809 - box_loss: 0.0020 - reg_l2_loss: 0.0052 - loss: 0.4866 - learning_rate: 2.0698e-04 - gradient_norm: 0.7333 - val_det_loss: 0.4813 - val_cls_loss: 0.4185 - val_box_loss: 0.0013 - val_reg_l2_loss: 0.0052 - val_loss: 0.4864\n",
            "Epoch 48/50\n",
            "6/6 [==============================] - 14s 3s/step - det_loss: 0.4486 - cls_loss: 0.3677 - box_loss: 0.0016 - reg_l2_loss: 0.0052 - loss: 0.4537 - learning_rate: 7.7408e-05 - gradient_norm: 0.7016 - val_det_loss: 0.4792 - val_cls_loss: 0.4164 - val_box_loss: 0.0013 - val_reg_l2_loss: 0.0052 - val_loss: 0.4844\n",
            "Epoch 49/50\n",
            "6/6 [==============================] - 9s 2s/step - det_loss: 0.4382 - cls_loss: 0.3583 - box_loss: 0.0016 - reg_l2_loss: 0.0052 - loss: 0.4433 - learning_rate: 1.1721e-05 - gradient_norm: 0.7209 - val_det_loss: 0.4783 - val_cls_loss: 0.4153 - val_box_loss: 0.0013 - val_reg_l2_loss: 0.0052 - val_loss: 0.4834\n",
            "Epoch 50/50\n",
            "6/6 [==============================] - 14s 3s/step - det_loss: 0.4526 - cls_loss: 0.3664 - box_loss: 0.0017 - reg_l2_loss: 0.0052 - loss: 0.4577 - learning_rate: 1.0193e-05 - gradient_norm: 0.6718 - val_det_loss: 0.4784 - val_cls_loss: 0.4152 - val_box_loss: 0.0013 - val_reg_l2_loss: 0.0052 - val_loss: 0.4835\n"
          ]
        }
      ]
    },
    {
      "cell_type": "code",
      "source": [
        "model2.summary()"
      ],
      "metadata": {
        "colab": {
          "base_uri": "https://localhost:8080/"
        },
        "id": "hZ05utTvOu5a",
        "outputId": "e3e99398-7d89-41c4-f11a-82dbb09b1368"
      },
      "execution_count": null,
      "outputs": [
        {
          "output_type": "stream",
          "name": "stdout",
          "text": [
            "Model: \"\"\n",
            "_________________________________________________________________\n",
            " Layer (type)                Output Shape              Param #   \n",
            "=================================================================\n",
            " keras_layer_2 (KerasLayer)  multiple                  5227280   \n",
            "                                                                 \n",
            " class_net/class-predict (Se  multiple                 4059      \n",
            " parableConv2D)                                                  \n",
            "                                                                 \n",
            " box_net/box-predict (Separa  multiple                 5076      \n",
            " bleConv2D)                                                      \n",
            "                                                                 \n",
            "=================================================================\n",
            "Total params: 5,236,415\n",
            "Trainable params: 5,163,855\n",
            "Non-trainable params: 72,560\n",
            "_________________________________________________________________\n"
          ]
        }
      ]
    },
    {
      "cell_type": "markdown",
      "source": [
        "**EfficientDetLite3**"
      ],
      "metadata": {
        "id": "qhfBLVU-GSSp"
      }
    },
    {
      "cell_type": "code",
      "source": [
        "model3 = object_detector.create(\n",
        "    train_data=train_data,\n",
        "    model_spec=spec3,\n",
        "    epochs=50,\n",
        "    batch_size=25,\n",
        "    train_whole_model=False,\n",
        "    validation_data=val_data)"
      ],
      "metadata": {
        "colab": {
          "base_uri": "https://localhost:8080/"
        },
        "id": "2vL7yLt5GVpA",
        "outputId": "97bd7446-e412-438b-fcb5-f2f1eddbe1ed"
      },
      "execution_count": null,
      "outputs": [
        {
          "output_type": "stream",
          "name": "stdout",
          "text": [
            "Epoch 1/50\n",
            "6/6 [==============================] - 56s 3s/step - det_loss: 1.7733 - cls_loss: 1.1669 - box_loss: 0.0121 - reg_l2_loss: 0.0065 - loss: 1.7798 - learning_rate: 0.0191 - gradient_norm: 0.7124 - val_det_loss: 1.6894 - val_cls_loss: 1.1515 - val_box_loss: 0.0108 - val_reg_l2_loss: 0.0065 - val_loss: 1.6959\n",
            "Epoch 2/50\n",
            "6/6 [==============================] - 14s 3s/step - det_loss: 1.6181 - cls_loss: 1.1404 - box_loss: 0.0096 - reg_l2_loss: 0.0065 - loss: 1.6246 - learning_rate: 0.0312 - gradient_norm: 0.6287 - val_det_loss: 1.5367 - val_cls_loss: 1.1026 - val_box_loss: 0.0087 - val_reg_l2_loss: 0.0065 - val_loss: 1.5432\n",
            "Epoch 3/50\n",
            "6/6 [==============================] - 12s 2s/step - det_loss: 1.3983 - cls_loss: 1.0588 - box_loss: 0.0068 - reg_l2_loss: 0.0065 - loss: 1.4048 - learning_rate: 0.0311 - gradient_norm: 0.8567 - val_det_loss: 1.2333 - val_cls_loss: 0.9461 - val_box_loss: 0.0057 - val_reg_l2_loss: 0.0065 - val_loss: 1.2399\n",
            "Epoch 4/50\n",
            "6/6 [==============================] - 12s 2s/step - det_loss: 1.1572 - cls_loss: 0.8823 - box_loss: 0.0055 - reg_l2_loss: 0.0066 - loss: 1.1637 - learning_rate: 0.0309 - gradient_norm: 1.1536 - val_det_loss: 1.1759 - val_cls_loss: 0.9263 - val_box_loss: 0.0050 - val_reg_l2_loss: 0.0066 - val_loss: 1.1825\n",
            "Epoch 5/50\n",
            "6/6 [==============================] - 24s 5s/step - det_loss: 0.9008 - cls_loss: 0.7124 - box_loss: 0.0038 - reg_l2_loss: 0.0066 - loss: 0.9074 - learning_rate: 0.0306 - gradient_norm: 1.1768 - val_det_loss: 0.9472 - val_cls_loss: 0.7267 - val_box_loss: 0.0044 - val_reg_l2_loss: 0.0066 - val_loss: 0.9538\n",
            "Epoch 6/50\n",
            "6/6 [==============================] - 13s 2s/step - det_loss: 0.7893 - cls_loss: 0.6229 - box_loss: 0.0033 - reg_l2_loss: 0.0066 - loss: 0.7959 - learning_rate: 0.0303 - gradient_norm: 0.9918 - val_det_loss: 0.9191 - val_cls_loss: 0.7060 - val_box_loss: 0.0043 - val_reg_l2_loss: 0.0066 - val_loss: 0.9257\n",
            "Epoch 7/50\n",
            "6/6 [==============================] - 14s 3s/step - det_loss: 0.7171 - cls_loss: 0.5679 - box_loss: 0.0030 - reg_l2_loss: 0.0066 - loss: 0.7237 - learning_rate: 0.0299 - gradient_norm: 0.8915 - val_det_loss: 0.9305 - val_cls_loss: 0.7119 - val_box_loss: 0.0044 - val_reg_l2_loss: 0.0066 - val_loss: 0.9371\n",
            "Epoch 8/50\n",
            "6/6 [==============================] - 11s 2s/step - det_loss: 0.6268 - cls_loss: 0.5032 - box_loss: 0.0025 - reg_l2_loss: 0.0066 - loss: 0.6334 - learning_rate: 0.0295 - gradient_norm: 0.9772 - val_det_loss: 0.6974 - val_cls_loss: 0.5548 - val_box_loss: 0.0029 - val_reg_l2_loss: 0.0066 - val_loss: 0.7040\n",
            "Epoch 9/50\n",
            "6/6 [==============================] - 12s 2s/step - det_loss: 0.5898 - cls_loss: 0.4687 - box_loss: 0.0024 - reg_l2_loss: 0.0066 - loss: 0.5965 - learning_rate: 0.0290 - gradient_norm: 1.0003 - val_det_loss: 0.7025 - val_cls_loss: 0.5773 - val_box_loss: 0.0025 - val_reg_l2_loss: 0.0066 - val_loss: 0.7091\n",
            "Epoch 10/50\n",
            "6/6 [==============================] - 17s 3s/step - det_loss: 0.5973 - cls_loss: 0.4730 - box_loss: 0.0025 - reg_l2_loss: 0.0066 - loss: 0.6039 - learning_rate: 0.0285 - gradient_norm: 0.9550 - val_det_loss: 0.6345 - val_cls_loss: 0.4879 - val_box_loss: 0.0029 - val_reg_l2_loss: 0.0066 - val_loss: 0.6411\n",
            "Epoch 11/50\n",
            "6/6 [==============================] - 12s 2s/step - det_loss: 0.5549 - cls_loss: 0.4546 - box_loss: 0.0020 - reg_l2_loss: 0.0067 - loss: 0.5616 - learning_rate: 0.0279 - gradient_norm: 0.9752 - val_det_loss: 0.5676 - val_cls_loss: 0.4431 - val_box_loss: 0.0025 - val_reg_l2_loss: 0.0067 - val_loss: 0.5743\n",
            "Epoch 12/50\n",
            "6/6 [==============================] - 11s 2s/step - det_loss: 0.5435 - cls_loss: 0.4354 - box_loss: 0.0022 - reg_l2_loss: 0.0067 - loss: 0.5502 - learning_rate: 0.0272 - gradient_norm: 0.8648 - val_det_loss: 0.5979 - val_cls_loss: 0.4877 - val_box_loss: 0.0022 - val_reg_l2_loss: 0.0067 - val_loss: 0.6045\n",
            "Epoch 13/50\n",
            "6/6 [==============================] - 14s 3s/step - det_loss: 0.5142 - cls_loss: 0.4288 - box_loss: 0.0017 - reg_l2_loss: 0.0067 - loss: 0.5209 - learning_rate: 0.0265 - gradient_norm: 0.7887 - val_det_loss: 0.5904 - val_cls_loss: 0.4710 - val_box_loss: 0.0024 - val_reg_l2_loss: 0.0067 - val_loss: 0.5971\n",
            "Epoch 14/50\n",
            "6/6 [==============================] - 13s 2s/step - det_loss: 0.5019 - cls_loss: 0.4088 - box_loss: 0.0019 - reg_l2_loss: 0.0067 - loss: 0.5085 - learning_rate: 0.0258 - gradient_norm: 0.8253 - val_det_loss: 0.5382 - val_cls_loss: 0.4444 - val_box_loss: 0.0019 - val_reg_l2_loss: 0.0067 - val_loss: 0.5448\n",
            "Epoch 15/50\n",
            "6/6 [==============================] - 13s 3s/step - det_loss: 0.5035 - cls_loss: 0.4135 - box_loss: 0.0018 - reg_l2_loss: 0.0067 - loss: 0.5102 - learning_rate: 0.0250 - gradient_norm: 0.8269 - val_det_loss: 0.5208 - val_cls_loss: 0.4234 - val_box_loss: 0.0019 - val_reg_l2_loss: 0.0067 - val_loss: 0.5274\n",
            "Epoch 16/50\n",
            "6/6 [==============================] - 13s 2s/step - det_loss: 0.5054 - cls_loss: 0.4132 - box_loss: 0.0018 - reg_l2_loss: 0.0067 - loss: 0.5121 - learning_rate: 0.0242 - gradient_norm: 0.9046 - val_det_loss: 0.4953 - val_cls_loss: 0.4116 - val_box_loss: 0.0017 - val_reg_l2_loss: 0.0067 - val_loss: 0.5020\n",
            "Epoch 17/50\n",
            "6/6 [==============================] - 15s 3s/step - det_loss: 0.4875 - cls_loss: 0.3968 - box_loss: 0.0018 - reg_l2_loss: 0.0067 - loss: 0.4942 - learning_rate: 0.0233 - gradient_norm: 0.7939 - val_det_loss: 0.4917 - val_cls_loss: 0.4145 - val_box_loss: 0.0015 - val_reg_l2_loss: 0.0067 - val_loss: 0.4984\n",
            "Epoch 18/50\n",
            "6/6 [==============================] - 12s 2s/step - det_loss: 0.4981 - cls_loss: 0.4089 - box_loss: 0.0018 - reg_l2_loss: 0.0067 - loss: 0.5047 - learning_rate: 0.0224 - gradient_norm: 0.7968 - val_det_loss: 0.5172 - val_cls_loss: 0.4382 - val_box_loss: 0.0016 - val_reg_l2_loss: 0.0067 - val_loss: 0.5239\n",
            "Epoch 19/50\n",
            "6/6 [==============================] - 12s 2s/step - det_loss: 0.4821 - cls_loss: 0.3916 - box_loss: 0.0018 - reg_l2_loss: 0.0067 - loss: 0.4888 - learning_rate: 0.0215 - gradient_norm: 0.9089 - val_det_loss: 0.4836 - val_cls_loss: 0.4037 - val_box_loss: 0.0016 - val_reg_l2_loss: 0.0067 - val_loss: 0.4903\n",
            "Epoch 20/50\n",
            "6/6 [==============================] - 17s 3s/step - det_loss: 0.4779 - cls_loss: 0.3910 - box_loss: 0.0017 - reg_l2_loss: 0.0067 - loss: 0.4846 - learning_rate: 0.0206 - gradient_norm: 0.8138 - val_det_loss: 0.5028 - val_cls_loss: 0.4424 - val_box_loss: 0.0012 - val_reg_l2_loss: 0.0067 - val_loss: 0.5095\n",
            "Epoch 21/50\n",
            "6/6 [==============================] - 14s 3s/step - det_loss: 0.4619 - cls_loss: 0.3838 - box_loss: 0.0016 - reg_l2_loss: 0.0067 - loss: 0.4686 - learning_rate: 0.0196 - gradient_norm: 0.7596 - val_det_loss: 0.4756 - val_cls_loss: 0.4162 - val_box_loss: 0.0012 - val_reg_l2_loss: 0.0067 - val_loss: 0.4824\n",
            "Epoch 22/50\n",
            "6/6 [==============================] - 11s 2s/step - det_loss: 0.4607 - cls_loss: 0.3940 - box_loss: 0.0013 - reg_l2_loss: 0.0067 - loss: 0.4674 - learning_rate: 0.0186 - gradient_norm: 0.9037 - val_det_loss: 0.4647 - val_cls_loss: 0.4089 - val_box_loss: 0.0011 - val_reg_l2_loss: 0.0067 - val_loss: 0.4714\n",
            "Epoch 23/50\n",
            "6/6 [==============================] - 13s 2s/step - det_loss: 0.4427 - cls_loss: 0.3760 - box_loss: 0.0013 - reg_l2_loss: 0.0067 - loss: 0.4494 - learning_rate: 0.0176 - gradient_norm: 0.8171 - val_det_loss: 0.4524 - val_cls_loss: 0.3982 - val_box_loss: 0.0011 - val_reg_l2_loss: 0.0067 - val_loss: 0.4591\n",
            "Epoch 24/50\n",
            "6/6 [==============================] - 14s 3s/step - det_loss: 0.4559 - cls_loss: 0.3773 - box_loss: 0.0016 - reg_l2_loss: 0.0067 - loss: 0.4626 - learning_rate: 0.0166 - gradient_norm: 0.7838 - val_det_loss: 0.4445 - val_cls_loss: 0.3889 - val_box_loss: 0.0011 - val_reg_l2_loss: 0.0067 - val_loss: 0.4512\n",
            "Epoch 25/50\n",
            "6/6 [==============================] - 15s 3s/step - det_loss: 0.4526 - cls_loss: 0.3769 - box_loss: 0.0015 - reg_l2_loss: 0.0067 - loss: 0.4593 - learning_rate: 0.0156 - gradient_norm: 0.7917 - val_det_loss: 0.4910 - val_cls_loss: 0.4429 - val_box_loss: 9.6163e-04 - val_reg_l2_loss: 0.0067 - val_loss: 0.4977\n",
            "Epoch 26/50\n",
            "6/6 [==============================] - 11s 2s/step - det_loss: 0.4424 - cls_loss: 0.3755 - box_loss: 0.0013 - reg_l2_loss: 0.0067 - loss: 0.4491 - learning_rate: 0.0146 - gradient_norm: 0.7943 - val_det_loss: 0.4576 - val_cls_loss: 0.4092 - val_box_loss: 9.6696e-04 - val_reg_l2_loss: 0.0067 - val_loss: 0.4643\n",
            "Epoch 27/50\n",
            "6/6 [==============================] - 14s 3s/step - det_loss: 0.4457 - cls_loss: 0.3730 - box_loss: 0.0015 - reg_l2_loss: 0.0067 - loss: 0.4524 - learning_rate: 0.0137 - gradient_norm: 0.8295 - val_det_loss: 0.4731 - val_cls_loss: 0.4183 - val_box_loss: 0.0011 - val_reg_l2_loss: 0.0067 - val_loss: 0.4799\n",
            "Epoch 28/50\n",
            "6/6 [==============================] - 13s 2s/step - det_loss: 0.4413 - cls_loss: 0.3699 - box_loss: 0.0014 - reg_l2_loss: 0.0067 - loss: 0.4480 - learning_rate: 0.0127 - gradient_norm: 0.7652 - val_det_loss: 0.4430 - val_cls_loss: 0.3970 - val_box_loss: 9.1994e-04 - val_reg_l2_loss: 0.0067 - val_loss: 0.4497\n",
            "Epoch 29/50\n",
            "6/6 [==============================] - 11s 2s/step - det_loss: 0.4525 - cls_loss: 0.3764 - box_loss: 0.0015 - reg_l2_loss: 0.0067 - loss: 0.4592 - learning_rate: 0.0117 - gradient_norm: 0.8517 - val_det_loss: 0.5045 - val_cls_loss: 0.4502 - val_box_loss: 0.0011 - val_reg_l2_loss: 0.0067 - val_loss: 0.5112\n",
            "Epoch 30/50\n",
            "6/6 [==============================] - 16s 3s/step - det_loss: 0.4219 - cls_loss: 0.3651 - box_loss: 0.0011 - reg_l2_loss: 0.0067 - loss: 0.4286 - learning_rate: 0.0107 - gradient_norm: 0.8951 - val_det_loss: 0.4231 - val_cls_loss: 0.3796 - val_box_loss: 8.7046e-04 - val_reg_l2_loss: 0.0067 - val_loss: 0.4299\n",
            "Epoch 31/50\n",
            "6/6 [==============================] - 14s 3s/step - det_loss: 0.4260 - cls_loss: 0.3606 - box_loss: 0.0013 - reg_l2_loss: 0.0067 - loss: 0.4327 - learning_rate: 0.0098 - gradient_norm: 0.6756 - val_det_loss: 0.4500 - val_cls_loss: 0.4027 - val_box_loss: 9.4743e-04 - val_reg_l2_loss: 0.0067 - val_loss: 0.4567\n",
            "Epoch 32/50\n",
            "6/6 [==============================] - 12s 2s/step - det_loss: 0.4149 - cls_loss: 0.3545 - box_loss: 0.0012 - reg_l2_loss: 0.0067 - loss: 0.4216 - learning_rate: 0.0089 - gradient_norm: 0.7471 - val_det_loss: 0.4581 - val_cls_loss: 0.4165 - val_box_loss: 8.3188e-04 - val_reg_l2_loss: 0.0067 - val_loss: 0.4649\n",
            "Epoch 33/50\n",
            "6/6 [==============================] - 12s 2s/step - det_loss: 0.4166 - cls_loss: 0.3522 - box_loss: 0.0013 - reg_l2_loss: 0.0067 - loss: 0.4233 - learning_rate: 0.0080 - gradient_norm: 0.6766 - val_det_loss: 0.4326 - val_cls_loss: 0.3894 - val_box_loss: 8.6555e-04 - val_reg_l2_loss: 0.0067 - val_loss: 0.4394\n",
            "Epoch 34/50\n",
            "6/6 [==============================] - 15s 3s/step - det_loss: 0.4691 - cls_loss: 0.3860 - box_loss: 0.0017 - reg_l2_loss: 0.0067 - loss: 0.4758 - learning_rate: 0.0071 - gradient_norm: 0.8337 - val_det_loss: 0.4278 - val_cls_loss: 0.3887 - val_box_loss: 7.8016e-04 - val_reg_l2_loss: 0.0067 - val_loss: 0.4345\n",
            "Epoch 35/50\n",
            "6/6 [==============================] - 18s 3s/step - det_loss: 0.4141 - cls_loss: 0.3561 - box_loss: 0.0012 - reg_l2_loss: 0.0067 - loss: 0.4209 - learning_rate: 0.0063 - gradient_norm: 0.7511 - val_det_loss: 0.4478 - val_cls_loss: 0.4047 - val_box_loss: 8.6165e-04 - val_reg_l2_loss: 0.0067 - val_loss: 0.4545\n",
            "Epoch 36/50\n",
            "6/6 [==============================] - 10s 2s/step - det_loss: 0.4140 - cls_loss: 0.3498 - box_loss: 0.0013 - reg_l2_loss: 0.0067 - loss: 0.4207 - learning_rate: 0.0055 - gradient_norm: 0.6742 - val_det_loss: 0.4274 - val_cls_loss: 0.3880 - val_box_loss: 7.8651e-04 - val_reg_l2_loss: 0.0067 - val_loss: 0.4341\n",
            "Epoch 37/50\n",
            "6/6 [==============================] - 15s 3s/step - det_loss: 0.4018 - cls_loss: 0.3457 - box_loss: 0.0011 - reg_l2_loss: 0.0067 - loss: 0.4086 - learning_rate: 0.0048 - gradient_norm: 0.6489 - val_det_loss: 0.4198 - val_cls_loss: 0.3807 - val_box_loss: 7.8111e-04 - val_reg_l2_loss: 0.0067 - val_loss: 0.4265\n",
            "Epoch 38/50\n",
            "6/6 [==============================] - 13s 2s/step - det_loss: 0.4322 - cls_loss: 0.3635 - box_loss: 0.0014 - reg_l2_loss: 0.0067 - loss: 0.4390 - learning_rate: 0.0041 - gradient_norm: 0.7526 - val_det_loss: 0.4211 - val_cls_loss: 0.3831 - val_box_loss: 7.5866e-04 - val_reg_l2_loss: 0.0067 - val_loss: 0.4278\n",
            "Epoch 39/50\n",
            "6/6 [==============================] - 11s 2s/step - det_loss: 0.4295 - cls_loss: 0.3611 - box_loss: 0.0014 - reg_l2_loss: 0.0067 - loss: 0.4362 - learning_rate: 0.0034 - gradient_norm: 0.7807 - val_det_loss: 0.4234 - val_cls_loss: 0.3865 - val_box_loss: 7.3774e-04 - val_reg_l2_loss: 0.0067 - val_loss: 0.4301\n",
            "Epoch 40/50\n",
            "6/6 [==============================] - 16s 3s/step - det_loss: 0.4048 - cls_loss: 0.3442 - box_loss: 0.0012 - reg_l2_loss: 0.0067 - loss: 0.4116 - learning_rate: 0.0028 - gradient_norm: 0.6547 - val_det_loss: 0.4134 - val_cls_loss: 0.3770 - val_box_loss: 7.2755e-04 - val_reg_l2_loss: 0.0067 - val_loss: 0.4201\n",
            "Epoch 41/50\n",
            "6/6 [==============================] - 15s 3s/step - det_loss: 0.3948 - cls_loss: 0.3422 - box_loss: 0.0011 - reg_l2_loss: 0.0067 - loss: 0.4016 - learning_rate: 0.0023 - gradient_norm: 0.6193 - val_det_loss: 0.4035 - val_cls_loss: 0.3667 - val_box_loss: 7.3682e-04 - val_reg_l2_loss: 0.0067 - val_loss: 0.4102\n",
            "Epoch 42/50\n",
            "6/6 [==============================] - 12s 2s/step - det_loss: 0.4024 - cls_loss: 0.3428 - box_loss: 0.0012 - reg_l2_loss: 0.0067 - loss: 0.4091 - learning_rate: 0.0018 - gradient_norm: 0.7140 - val_det_loss: 0.4042 - val_cls_loss: 0.3670 - val_box_loss: 7.4393e-04 - val_reg_l2_loss: 0.0067 - val_loss: 0.4109\n",
            "Epoch 43/50\n",
            "6/6 [==============================] - 13s 2s/step - det_loss: 0.4282 - cls_loss: 0.3566 - box_loss: 0.0014 - reg_l2_loss: 0.0067 - loss: 0.4350 - learning_rate: 0.0013 - gradient_norm: 0.7222 - val_det_loss: 0.4040 - val_cls_loss: 0.3671 - val_box_loss: 7.3899e-04 - val_reg_l2_loss: 0.0067 - val_loss: 0.4108\n",
            "Epoch 44/50\n",
            "6/6 [==============================] - 14s 3s/step - det_loss: 0.4148 - cls_loss: 0.3540 - box_loss: 0.0012 - reg_l2_loss: 0.0067 - loss: 0.4215 - learning_rate: 9.7242e-04 - gradient_norm: 0.6423 - val_det_loss: 0.4042 - val_cls_loss: 0.3673 - val_box_loss: 7.3842e-04 - val_reg_l2_loss: 0.0067 - val_loss: 0.4110\n",
            "Epoch 45/50\n",
            "6/6 [==============================] - 16s 3s/step - det_loss: 0.4079 - cls_loss: 0.3470 - box_loss: 0.0012 - reg_l2_loss: 0.0067 - loss: 0.4146 - learning_rate: 6.5541e-04 - gradient_norm: 0.7276 - val_det_loss: 0.4020 - val_cls_loss: 0.3654 - val_box_loss: 7.3181e-04 - val_reg_l2_loss: 0.0067 - val_loss: 0.4088\n",
            "Epoch 46/50\n",
            "6/6 [==============================] - 12s 2s/step - det_loss: 0.4295 - cls_loss: 0.3617 - box_loss: 0.0014 - reg_l2_loss: 0.0067 - loss: 0.4362 - learning_rate: 3.9991e-04 - gradient_norm: 0.7273 - val_det_loss: 0.3998 - val_cls_loss: 0.3637 - val_box_loss: 7.2213e-04 - val_reg_l2_loss: 0.0067 - val_loss: 0.4065\n",
            "Epoch 47/50\n",
            "6/6 [==============================] - 13s 2s/step - det_loss: 0.4106 - cls_loss: 0.3495 - box_loss: 0.0012 - reg_l2_loss: 0.0067 - loss: 0.4173 - learning_rate: 2.0698e-04 - gradient_norm: 0.7685 - val_det_loss: 0.3976 - val_cls_loss: 0.3619 - val_box_loss: 7.1367e-04 - val_reg_l2_loss: 0.0067 - val_loss: 0.4043\n",
            "Epoch 48/50\n",
            "6/6 [==============================] - 14s 3s/step - det_loss: 0.4189 - cls_loss: 0.3524 - box_loss: 0.0013 - reg_l2_loss: 0.0067 - loss: 0.4256 - learning_rate: 7.7408e-05 - gradient_norm: 0.7359 - val_det_loss: 0.3958 - val_cls_loss: 0.3603 - val_box_loss: 7.0971e-04 - val_reg_l2_loss: 0.0067 - val_loss: 0.4025\n",
            "Epoch 49/50\n",
            "6/6 [==============================] - 11s 2s/step - det_loss: 0.4358 - cls_loss: 0.3715 - box_loss: 0.0013 - reg_l2_loss: 0.0067 - loss: 0.4426 - learning_rate: 1.1721e-05 - gradient_norm: 0.7462 - val_det_loss: 0.3940 - val_cls_loss: 0.3588 - val_box_loss: 7.0512e-04 - val_reg_l2_loss: 0.0067 - val_loss: 0.4007\n",
            "Epoch 50/50\n",
            "6/6 [==============================] - 15s 3s/step - det_loss: 0.4048 - cls_loss: 0.3447 - box_loss: 0.0012 - reg_l2_loss: 0.0067 - loss: 0.4116 - learning_rate: 1.0193e-05 - gradient_norm: 0.6596 - val_det_loss: 0.3930 - val_cls_loss: 0.3577 - val_box_loss: 7.0610e-04 - val_reg_l2_loss: 0.0067 - val_loss: 0.3998\n"
          ]
        }
      ]
    },
    {
      "cell_type": "code",
      "source": [
        "model3.summary()"
      ],
      "metadata": {
        "colab": {
          "base_uri": "https://localhost:8080/"
        },
        "id": "hBfFnaZGGbip",
        "outputId": "667b997c-837f-4ffe-b4eb-7e370ab85215"
      },
      "execution_count": null,
      "outputs": [
        {
          "output_type": "stream",
          "name": "stdout",
          "text": [
            "Model: \"\"\n",
            "_________________________________________________________________\n",
            " Layer (type)                Output Shape              Param #   \n",
            "=================================================================\n",
            " keras_layer (KerasLayer)    multiple                  8315968   \n",
            "                                                                 \n",
            " class_net/class-predict (Se  multiple                 5787      \n",
            " parableConv2D)                                                  \n",
            "                                                                 \n",
            " box_net/box-predict (Separa  multiple                 7236      \n",
            " bleConv2D)                                                      \n",
            "                                                                 \n",
            "=================================================================\n",
            "Total params: 8,328,991\n",
            "Trainable params: 8,224,799\n",
            "Non-trainable params: 104,192\n",
            "_________________________________________________________________\n"
          ]
        }
      ]
    },
    {
      "cell_type": "markdown",
      "source": [
        "**EfficientDetLite4**"
      ],
      "metadata": {
        "id": "EbWmapfvOXCZ"
      }
    },
    {
      "cell_type": "code",
      "source": [
        "model4 = object_detector.create(\n",
        "    train_data=train_data,\n",
        "    model_spec=spec4,\n",
        "    epochs=50,\n",
        "    batch_size=25,\n",
        "    train_whole_model=False,\n",
        "    validation_data=val_data)"
      ],
      "metadata": {
        "colab": {
          "base_uri": "https://localhost:8080/"
        },
        "id": "MYd4icQnORoR",
        "outputId": "0a62079b-1686-4858-d9e3-62bca9a94bec"
      },
      "execution_count": null,
      "outputs": [
        {
          "output_type": "stream",
          "name": "stdout",
          "text": [
            "Epoch 1/50\n",
            "6/6 [==============================] - 58s 5s/step - det_loss: 1.7662 - cls_loss: 1.1710 - box_loss: 0.0119 - reg_l2_loss: 0.0071 - loss: 1.7733 - learning_rate: 0.0191 - gradient_norm: 0.6926 - val_det_loss: 1.7239 - val_cls_loss: 1.1536 - val_box_loss: 0.0114 - val_reg_l2_loss: 0.0071 - val_loss: 1.7310\n",
            "Epoch 2/50\n",
            "6/6 [==============================] - 18s 3s/step - det_loss: 1.6049 - cls_loss: 1.1403 - box_loss: 0.0093 - reg_l2_loss: 0.0071 - loss: 1.6121 - learning_rate: 0.0312 - gradient_norm: 0.6746 - val_det_loss: 1.5283 - val_cls_loss: 1.0898 - val_box_loss: 0.0088 - val_reg_l2_loss: 0.0071 - val_loss: 1.5354\n",
            "Epoch 3/50\n",
            "6/6 [==============================] - 18s 3s/step - det_loss: 1.3387 - cls_loss: 1.0194 - box_loss: 0.0064 - reg_l2_loss: 0.0071 - loss: 1.3459 - learning_rate: 0.0311 - gradient_norm: 0.8824 - val_det_loss: 1.1445 - val_cls_loss: 0.8564 - val_box_loss: 0.0058 - val_reg_l2_loss: 0.0072 - val_loss: 1.1516\n",
            "Epoch 4/50\n",
            "6/6 [==============================] - 20s 4s/step - det_loss: 1.0318 - cls_loss: 0.7924 - box_loss: 0.0048 - reg_l2_loss: 0.0072 - loss: 1.0390 - learning_rate: 0.0309 - gradient_norm: 1.1903 - val_det_loss: 1.0605 - val_cls_loss: 0.8309 - val_box_loss: 0.0046 - val_reg_l2_loss: 0.0072 - val_loss: 1.0677\n",
            "Epoch 5/50\n",
            "6/6 [==============================] - 28s 5s/step - det_loss: 0.8314 - cls_loss: 0.6591 - box_loss: 0.0034 - reg_l2_loss: 0.0072 - loss: 0.8386 - learning_rate: 0.0306 - gradient_norm: 1.0604 - val_det_loss: 1.0224 - val_cls_loss: 0.8224 - val_box_loss: 0.0040 - val_reg_l2_loss: 0.0072 - val_loss: 1.0296\n",
            "Epoch 6/50\n",
            "6/6 [==============================] - 21s 4s/step - det_loss: 0.7417 - cls_loss: 0.6026 - box_loss: 0.0028 - reg_l2_loss: 0.0072 - loss: 0.7489 - learning_rate: 0.0303 - gradient_norm: 0.8453 - val_det_loss: 0.8358 - val_cls_loss: 0.6668 - val_box_loss: 0.0034 - val_reg_l2_loss: 0.0072 - val_loss: 0.8430\n",
            "Epoch 7/50\n",
            "6/6 [==============================] - 19s 3s/step - det_loss: 0.7035 - cls_loss: 0.5657 - box_loss: 0.0028 - reg_l2_loss: 0.0072 - loss: 0.7107 - learning_rate: 0.0299 - gradient_norm: 0.8452 - val_det_loss: 0.9829 - val_cls_loss: 0.7966 - val_box_loss: 0.0037 - val_reg_l2_loss: 0.0072 - val_loss: 0.9901\n",
            "Epoch 8/50\n",
            "6/6 [==============================] - 17s 3s/step - det_loss: 0.6216 - cls_loss: 0.5021 - box_loss: 0.0024 - reg_l2_loss: 0.0072 - loss: 0.6289 - learning_rate: 0.0295 - gradient_norm: 0.8760 - val_det_loss: 0.7831 - val_cls_loss: 0.6447 - val_box_loss: 0.0028 - val_reg_l2_loss: 0.0072 - val_loss: 0.7903\n",
            "Epoch 9/50\n",
            "6/6 [==============================] - 17s 3s/step - det_loss: 0.5887 - cls_loss: 0.4814 - box_loss: 0.0021 - reg_l2_loss: 0.0073 - loss: 0.5959 - learning_rate: 0.0290 - gradient_norm: 0.8147 - val_det_loss: 0.6772 - val_cls_loss: 0.5530 - val_box_loss: 0.0025 - val_reg_l2_loss: 0.0073 - val_loss: 0.6845\n",
            "Epoch 10/50\n",
            "6/6 [==============================] - 24s 4s/step - det_loss: 0.5617 - cls_loss: 0.4579 - box_loss: 0.0021 - reg_l2_loss: 0.0073 - loss: 0.5690 - learning_rate: 0.0285 - gradient_norm: 0.8112 - val_det_loss: 0.7589 - val_cls_loss: 0.6581 - val_box_loss: 0.0020 - val_reg_l2_loss: 0.0073 - val_loss: 0.7662\n",
            "Epoch 11/50\n",
            "6/6 [==============================] - 21s 4s/step - det_loss: 0.5570 - cls_loss: 0.4433 - box_loss: 0.0023 - reg_l2_loss: 0.0073 - loss: 0.5643 - learning_rate: 0.0279 - gradient_norm: 1.0172 - val_det_loss: 0.5661 - val_cls_loss: 0.4633 - val_box_loss: 0.0021 - val_reg_l2_loss: 0.0073 - val_loss: 0.5734\n",
            "Epoch 12/50\n",
            "6/6 [==============================] - 20s 4s/step - det_loss: 0.5247 - cls_loss: 0.4261 - box_loss: 0.0020 - reg_l2_loss: 0.0073 - loss: 0.5320 - learning_rate: 0.0272 - gradient_norm: 0.8517 - val_det_loss: 0.5925 - val_cls_loss: 0.4901 - val_box_loss: 0.0020 - val_reg_l2_loss: 0.0073 - val_loss: 0.5998\n",
            "Epoch 13/50\n",
            "6/6 [==============================] - 20s 4s/step - det_loss: 0.4846 - cls_loss: 0.3979 - box_loss: 0.0017 - reg_l2_loss: 0.0073 - loss: 0.4919 - learning_rate: 0.0265 - gradient_norm: 0.7713 - val_det_loss: 0.5322 - val_cls_loss: 0.4463 - val_box_loss: 0.0017 - val_reg_l2_loss: 0.0073 - val_loss: 0.5395\n",
            "Epoch 14/50\n",
            "6/6 [==============================] - 19s 3s/step - det_loss: 0.5012 - cls_loss: 0.4098 - box_loss: 0.0018 - reg_l2_loss: 0.0073 - loss: 0.5085 - learning_rate: 0.0258 - gradient_norm: 0.6746 - val_det_loss: 0.5050 - val_cls_loss: 0.4288 - val_box_loss: 0.0015 - val_reg_l2_loss: 0.0073 - val_loss: 0.5123\n",
            "Epoch 15/50\n",
            "6/6 [==============================] - 28s 5s/step - det_loss: 0.4887 - cls_loss: 0.4049 - box_loss: 0.0017 - reg_l2_loss: 0.0073 - loss: 0.4960 - learning_rate: 0.0250 - gradient_norm: 0.7559 - val_det_loss: 0.4951 - val_cls_loss: 0.4039 - val_box_loss: 0.0018 - val_reg_l2_loss: 0.0073 - val_loss: 0.5024\n",
            "Epoch 16/50\n",
            "6/6 [==============================] - 20s 4s/step - det_loss: 0.4792 - cls_loss: 0.3913 - box_loss: 0.0018 - reg_l2_loss: 0.0073 - loss: 0.4865 - learning_rate: 0.0242 - gradient_norm: 0.8572 - val_det_loss: 0.4798 - val_cls_loss: 0.4091 - val_box_loss: 0.0014 - val_reg_l2_loss: 0.0073 - val_loss: 0.4872\n",
            "Epoch 17/50\n",
            "6/6 [==============================] - 21s 4s/step - det_loss: 0.4714 - cls_loss: 0.3871 - box_loss: 0.0017 - reg_l2_loss: 0.0073 - loss: 0.4787 - learning_rate: 0.0233 - gradient_norm: 0.7939 - val_det_loss: 0.4761 - val_cls_loss: 0.4061 - val_box_loss: 0.0014 - val_reg_l2_loss: 0.0073 - val_loss: 0.4834\n",
            "Epoch 18/50\n",
            "6/6 [==============================] - 20s 4s/step - det_loss: 0.4631 - cls_loss: 0.3844 - box_loss: 0.0016 - reg_l2_loss: 0.0073 - loss: 0.4704 - learning_rate: 0.0224 - gradient_norm: 0.7503 - val_det_loss: 0.4722 - val_cls_loss: 0.4036 - val_box_loss: 0.0014 - val_reg_l2_loss: 0.0073 - val_loss: 0.4795\n",
            "Epoch 19/50\n",
            "6/6 [==============================] - 19s 3s/step - det_loss: 0.4731 - cls_loss: 0.3871 - box_loss: 0.0017 - reg_l2_loss: 0.0073 - loss: 0.4804 - learning_rate: 0.0215 - gradient_norm: 0.7490 - val_det_loss: 0.4681 - val_cls_loss: 0.4003 - val_box_loss: 0.0014 - val_reg_l2_loss: 0.0073 - val_loss: 0.4755\n",
            "Epoch 20/50\n",
            "6/6 [==============================] - 22s 4s/step - det_loss: 0.4710 - cls_loss: 0.3845 - box_loss: 0.0017 - reg_l2_loss: 0.0073 - loss: 0.4783 - learning_rate: 0.0206 - gradient_norm: 0.8379 - val_det_loss: 0.4657 - val_cls_loss: 0.3964 - val_box_loss: 0.0014 - val_reg_l2_loss: 0.0073 - val_loss: 0.4730\n",
            "Epoch 21/50\n",
            "6/6 [==============================] - 17s 3s/step - det_loss: 0.4230 - cls_loss: 0.3562 - box_loss: 0.0013 - reg_l2_loss: 0.0073 - loss: 0.4303 - learning_rate: 0.0196 - gradient_norm: 0.9644 - val_det_loss: 0.4610 - val_cls_loss: 0.3903 - val_box_loss: 0.0014 - val_reg_l2_loss: 0.0073 - val_loss: 0.4683\n",
            "Epoch 22/50\n",
            "6/6 [==============================] - 19s 3s/step - det_loss: 0.4366 - cls_loss: 0.3605 - box_loss: 0.0015 - reg_l2_loss: 0.0073 - loss: 0.4439 - learning_rate: 0.0186 - gradient_norm: 0.8712 - val_det_loss: 0.4481 - val_cls_loss: 0.3838 - val_box_loss: 0.0013 - val_reg_l2_loss: 0.0073 - val_loss: 0.4554\n",
            "Epoch 23/50\n",
            "6/6 [==============================] - 20s 4s/step - det_loss: 0.4426 - cls_loss: 0.3673 - box_loss: 0.0015 - reg_l2_loss: 0.0073 - loss: 0.4499 - learning_rate: 0.0176 - gradient_norm: 0.8669 - val_det_loss: 0.4668 - val_cls_loss: 0.4052 - val_box_loss: 0.0012 - val_reg_l2_loss: 0.0073 - val_loss: 0.4741\n",
            "Epoch 24/50\n",
            "6/6 [==============================] - 20s 4s/step - det_loss: 0.4479 - cls_loss: 0.3711 - box_loss: 0.0015 - reg_l2_loss: 0.0073 - loss: 0.4552 - learning_rate: 0.0166 - gradient_norm: 0.8736 - val_det_loss: 0.4409 - val_cls_loss: 0.3785 - val_box_loss: 0.0012 - val_reg_l2_loss: 0.0073 - val_loss: 0.4482\n",
            "Epoch 25/50\n",
            "6/6 [==============================] - 23s 4s/step - det_loss: 0.4216 - cls_loss: 0.3547 - box_loss: 0.0013 - reg_l2_loss: 0.0073 - loss: 0.4290 - learning_rate: 0.0156 - gradient_norm: 0.7636 - val_det_loss: 0.4753 - val_cls_loss: 0.4205 - val_box_loss: 0.0011 - val_reg_l2_loss: 0.0073 - val_loss: 0.4826\n",
            "Epoch 26/50\n",
            "6/6 [==============================] - 21s 4s/step - det_loss: 0.4341 - cls_loss: 0.3708 - box_loss: 0.0013 - reg_l2_loss: 0.0073 - loss: 0.4415 - learning_rate: 0.0146 - gradient_norm: 0.8782 - val_det_loss: 0.4600 - val_cls_loss: 0.3972 - val_box_loss: 0.0013 - val_reg_l2_loss: 0.0073 - val_loss: 0.4673\n",
            "Epoch 27/50\n",
            "6/6 [==============================] - 19s 3s/step - det_loss: 0.4040 - cls_loss: 0.3454 - box_loss: 0.0012 - reg_l2_loss: 0.0073 - loss: 0.4114 - learning_rate: 0.0137 - gradient_norm: 0.7627 - val_det_loss: 0.4638 - val_cls_loss: 0.4016 - val_box_loss: 0.0012 - val_reg_l2_loss: 0.0073 - val_loss: 0.4712\n",
            "Epoch 28/50\n",
            "6/6 [==============================] - 20s 4s/step - det_loss: 0.4184 - cls_loss: 0.3498 - box_loss: 0.0014 - reg_l2_loss: 0.0074 - loss: 0.4258 - learning_rate: 0.0127 - gradient_norm: 0.7678 - val_det_loss: 0.4465 - val_cls_loss: 0.3896 - val_box_loss: 0.0011 - val_reg_l2_loss: 0.0074 - val_loss: 0.4538\n",
            "Epoch 29/50\n",
            "6/6 [==============================] - 20s 4s/step - det_loss: 0.3995 - cls_loss: 0.3415 - box_loss: 0.0012 - reg_l2_loss: 0.0074 - loss: 0.4068 - learning_rate: 0.0117 - gradient_norm: 0.8533 - val_det_loss: 0.4661 - val_cls_loss: 0.4025 - val_box_loss: 0.0013 - val_reg_l2_loss: 0.0074 - val_loss: 0.4735\n",
            "Epoch 30/50\n",
            "6/6 [==============================] - 23s 4s/step - det_loss: 0.4212 - cls_loss: 0.3450 - box_loss: 0.0015 - reg_l2_loss: 0.0074 - loss: 0.4285 - learning_rate: 0.0107 - gradient_norm: 0.9418 - val_det_loss: 0.4546 - val_cls_loss: 0.3988 - val_box_loss: 0.0011 - val_reg_l2_loss: 0.0074 - val_loss: 0.4620\n",
            "Epoch 31/50\n",
            "6/6 [==============================] - 19s 3s/step - det_loss: 0.3964 - cls_loss: 0.3337 - box_loss: 0.0013 - reg_l2_loss: 0.0074 - loss: 0.4038 - learning_rate: 0.0098 - gradient_norm: 0.8601 - val_det_loss: 0.4470 - val_cls_loss: 0.3859 - val_box_loss: 0.0012 - val_reg_l2_loss: 0.0074 - val_loss: 0.4543\n",
            "Epoch 32/50\n",
            "6/6 [==============================] - 20s 4s/step - det_loss: 0.3942 - cls_loss: 0.3359 - box_loss: 0.0012 - reg_l2_loss: 0.0074 - loss: 0.4015 - learning_rate: 0.0089 - gradient_norm: 0.8084 - val_det_loss: 0.4461 - val_cls_loss: 0.3924 - val_box_loss: 0.0011 - val_reg_l2_loss: 0.0074 - val_loss: 0.4534\n",
            "Epoch 33/50\n",
            "6/6 [==============================] - 18s 3s/step - det_loss: 0.3906 - cls_loss: 0.3311 - box_loss: 0.0012 - reg_l2_loss: 0.0074 - loss: 0.3979 - learning_rate: 0.0080 - gradient_norm: 0.7598 - val_det_loss: 0.4295 - val_cls_loss: 0.3741 - val_box_loss: 0.0011 - val_reg_l2_loss: 0.0074 - val_loss: 0.4368\n",
            "Epoch 34/50\n",
            "6/6 [==============================] - 19s 3s/step - det_loss: 0.3806 - cls_loss: 0.3257 - box_loss: 0.0011 - reg_l2_loss: 0.0074 - loss: 0.3880 - learning_rate: 0.0071 - gradient_norm: 0.8087 - val_det_loss: 0.4619 - val_cls_loss: 0.4091 - val_box_loss: 0.0011 - val_reg_l2_loss: 0.0074 - val_loss: 0.4693\n",
            "Epoch 35/50\n",
            "6/6 [==============================] - 23s 4s/step - det_loss: 0.4060 - cls_loss: 0.3413 - box_loss: 0.0013 - reg_l2_loss: 0.0074 - loss: 0.4134 - learning_rate: 0.0063 - gradient_norm: 0.7952 - val_det_loss: 0.4353 - val_cls_loss: 0.3832 - val_box_loss: 0.0010 - val_reg_l2_loss: 0.0074 - val_loss: 0.4427\n",
            "Epoch 36/50\n",
            "6/6 [==============================] - 20s 4s/step - det_loss: 0.4107 - cls_loss: 0.3393 - box_loss: 0.0014 - reg_l2_loss: 0.0074 - loss: 0.4181 - learning_rate: 0.0055 - gradient_norm: 0.8707 - val_det_loss: 0.4174 - val_cls_loss: 0.3643 - val_box_loss: 0.0011 - val_reg_l2_loss: 0.0074 - val_loss: 0.4248\n",
            "Epoch 37/50\n",
            "6/6 [==============================] - 21s 4s/step - det_loss: 0.4024 - cls_loss: 0.3347 - box_loss: 0.0014 - reg_l2_loss: 0.0074 - loss: 0.4097 - learning_rate: 0.0048 - gradient_norm: 0.7849 - val_det_loss: 0.4316 - val_cls_loss: 0.3810 - val_box_loss: 0.0010 - val_reg_l2_loss: 0.0074 - val_loss: 0.4390\n",
            "Epoch 38/50\n",
            "6/6 [==============================] - 20s 4s/step - det_loss: 0.3854 - cls_loss: 0.3314 - box_loss: 0.0011 - reg_l2_loss: 0.0074 - loss: 0.3927 - learning_rate: 0.0041 - gradient_norm: 0.8572 - val_det_loss: 0.4291 - val_cls_loss: 0.3770 - val_box_loss: 0.0010 - val_reg_l2_loss: 0.0074 - val_loss: 0.4364\n",
            "Epoch 39/50\n",
            "6/6 [==============================] - 20s 4s/step - det_loss: 0.4159 - cls_loss: 0.3433 - box_loss: 0.0015 - reg_l2_loss: 0.0074 - loss: 0.4233 - learning_rate: 0.0034 - gradient_norm: 0.8745 - val_det_loss: 0.4227 - val_cls_loss: 0.3686 - val_box_loss: 0.0011 - val_reg_l2_loss: 0.0074 - val_loss: 0.4301\n",
            "Epoch 40/50\n",
            "6/6 [==============================] - 22s 4s/step - det_loss: 0.3942 - cls_loss: 0.3334 - box_loss: 0.0012 - reg_l2_loss: 0.0074 - loss: 0.4015 - learning_rate: 0.0028 - gradient_norm: 0.8445 - val_det_loss: 0.4239 - val_cls_loss: 0.3692 - val_box_loss: 0.0011 - val_reg_l2_loss: 0.0074 - val_loss: 0.4313\n",
            "Epoch 41/50\n",
            "6/6 [==============================] - 19s 3s/step - det_loss: 0.3718 - cls_loss: 0.3185 - box_loss: 0.0011 - reg_l2_loss: 0.0074 - loss: 0.3792 - learning_rate: 0.0023 - gradient_norm: 0.7155 - val_det_loss: 0.4350 - val_cls_loss: 0.3813 - val_box_loss: 0.0011 - val_reg_l2_loss: 0.0074 - val_loss: 0.4423\n",
            "Epoch 42/50\n",
            "6/6 [==============================] - 22s 4s/step - det_loss: 0.3908 - cls_loss: 0.3307 - box_loss: 0.0012 - reg_l2_loss: 0.0074 - loss: 0.3981 - learning_rate: 0.0018 - gradient_norm: 0.8253 - val_det_loss: 0.4284 - val_cls_loss: 0.3761 - val_box_loss: 0.0010 - val_reg_l2_loss: 0.0074 - val_loss: 0.4358\n",
            "Epoch 43/50\n",
            "6/6 [==============================] - 20s 4s/step - det_loss: 0.3915 - cls_loss: 0.3298 - box_loss: 0.0012 - reg_l2_loss: 0.0074 - loss: 0.3988 - learning_rate: 0.0013 - gradient_norm: 0.8352 - val_det_loss: 0.4210 - val_cls_loss: 0.3688 - val_box_loss: 0.0010 - val_reg_l2_loss: 0.0074 - val_loss: 0.4284\n",
            "Epoch 44/50\n",
            "6/6 [==============================] - 20s 4s/step - det_loss: 0.3937 - cls_loss: 0.3325 - box_loss: 0.0012 - reg_l2_loss: 0.0074 - loss: 0.4011 - learning_rate: 9.7242e-04 - gradient_norm: 0.8250 - val_det_loss: 0.4195 - val_cls_loss: 0.3662 - val_box_loss: 0.0011 - val_reg_l2_loss: 0.0074 - val_loss: 0.4269\n",
            "Epoch 45/50\n",
            "6/6 [==============================] - 22s 4s/step - det_loss: 0.3784 - cls_loss: 0.3181 - box_loss: 0.0012 - reg_l2_loss: 0.0074 - loss: 0.3858 - learning_rate: 6.5541e-04 - gradient_norm: 0.8368 - val_det_loss: 0.4176 - val_cls_loss: 0.3644 - val_box_loss: 0.0011 - val_reg_l2_loss: 0.0074 - val_loss: 0.4250\n",
            "Epoch 46/50\n",
            "6/6 [==============================] - 18s 3s/step - det_loss: 0.3777 - cls_loss: 0.3165 - box_loss: 0.0012 - reg_l2_loss: 0.0074 - loss: 0.3851 - learning_rate: 3.9991e-04 - gradient_norm: 0.8490 - val_det_loss: 0.4174 - val_cls_loss: 0.3640 - val_box_loss: 0.0011 - val_reg_l2_loss: 0.0074 - val_loss: 0.4247\n",
            "Epoch 47/50\n",
            "6/6 [==============================] - 20s 4s/step - det_loss: 0.3787 - cls_loss: 0.3192 - box_loss: 0.0012 - reg_l2_loss: 0.0074 - loss: 0.3860 - learning_rate: 2.0698e-04 - gradient_norm: 0.8412 - val_det_loss: 0.4168 - val_cls_loss: 0.3634 - val_box_loss: 0.0011 - val_reg_l2_loss: 0.0074 - val_loss: 0.4241\n",
            "Epoch 48/50\n",
            "6/6 [==============================] - 20s 4s/step - det_loss: 0.3756 - cls_loss: 0.3177 - box_loss: 0.0012 - reg_l2_loss: 0.0074 - loss: 0.3830 - learning_rate: 7.7408e-05 - gradient_norm: 0.7406 - val_det_loss: 0.4163 - val_cls_loss: 0.3629 - val_box_loss: 0.0011 - val_reg_l2_loss: 0.0074 - val_loss: 0.4237\n",
            "Epoch 49/50\n",
            "6/6 [==============================] - 22s 4s/step - det_loss: 0.4184 - cls_loss: 0.3400 - box_loss: 0.0016 - reg_l2_loss: 0.0074 - loss: 0.4258 - learning_rate: 1.1721e-05 - gradient_norm: 0.8752 - val_det_loss: 0.4154 - val_cls_loss: 0.3623 - val_box_loss: 0.0011 - val_reg_l2_loss: 0.0074 - val_loss: 0.4228\n",
            "Epoch 50/50\n",
            "6/6 [==============================] - 23s 4s/step - det_loss: 0.4178 - cls_loss: 0.3514 - box_loss: 0.0013 - reg_l2_loss: 0.0074 - loss: 0.4252 - learning_rate: 1.0193e-05 - gradient_norm: 0.9072 - val_det_loss: 0.4160 - val_cls_loss: 0.3623 - val_box_loss: 0.0011 - val_reg_l2_loss: 0.0074 - val_loss: 0.4233\n"
          ]
        }
      ]
    },
    {
      "cell_type": "code",
      "source": [
        "model4.summary()"
      ],
      "metadata": {
        "colab": {
          "base_uri": "https://localhost:8080/"
        },
        "id": "1B9INPA95GMl",
        "outputId": "a174d046-3197-4035-81ad-4e091bc4aae3"
      },
      "execution_count": null,
      "outputs": [
        {
          "output_type": "stream",
          "name": "stdout",
          "text": [
            "Model: \"\"\n",
            "_________________________________________________________________\n",
            " Layer (type)                Output Shape              Param #   \n",
            "=================================================================\n",
            " keras_layer_1 (KerasLayer)  multiple                  15092016  \n",
            "                                                                 \n",
            " class_net/class-predict (Se  multiple                 8091      \n",
            " parableConv2D)                                                  \n",
            "                                                                 \n",
            " box_net/box-predict (Separa  multiple                 10116     \n",
            " bleConv2D)                                                      \n",
            "                                                                 \n",
            "=================================================================\n",
            "Total params: 15,110,223\n",
            "Trainable params: 14,954,719\n",
            "Non-trainable params: 155,504\n",
            "_________________________________________________________________\n"
          ]
        }
      ]
    },
    {
      "cell_type": "code",
      "source": [
        "# model2 = object_detector.create(\n",
        "#     train_data=train_data,\n",
        "#     model_spec=spec,\n",
        "#     epochs=50,\n",
        "#     batch_size=16,\n",
        "#     train_whole_model=False,\n",
        "#     validation_data=val_data,\n",
        "#     do_train=False)"
      ],
      "metadata": {
        "id": "XQu0fJ40KsEo"
      },
      "execution_count": null,
      "outputs": []
    },
    {
      "cell_type": "code",
      "source": [
        "# history = model2.train(\n",
        "#     train_data=train_data,\n",
        "#     validation_data=val_data,\n",
        "#     epochs=50,\n",
        "#     batch_size=16\n",
        "# )"
      ],
      "metadata": {
        "id": "Xc_H7_r4K19K"
      },
      "execution_count": null,
      "outputs": []
    },
    {
      "cell_type": "code",
      "source": [
        "# history"
      ],
      "metadata": {
        "id": "y7GiP4S2LZPw"
      },
      "execution_count": null,
      "outputs": []
    },
    {
      "cell_type": "markdown",
      "source": [
        "### Evaluate the Model"
      ],
      "metadata": {
        "id": "bz3Lrf-m6xDT"
      }
    },
    {
      "cell_type": "markdown",
      "source": [
        "**EfficientDetLite0**"
      ],
      "metadata": {
        "id": "5_KTC_PJL_3S"
      }
    },
    {
      "cell_type": "code",
      "source": [
        "model0.evaluate(test_data)"
      ],
      "metadata": {
        "id": "XiMvnBw36z-9",
        "colab": {
          "base_uri": "https://localhost:8080/"
        },
        "outputId": "45a6b4a7-9fbe-4310-a051-eb3c7dc90130"
      },
      "execution_count": null,
      "outputs": [
        {
          "output_type": "stream",
          "name": "stdout",
          "text": [
            "\r1/1 [==============================] - 8s 8s/step\n",
            "\n"
          ]
        },
        {
          "output_type": "execute_result",
          "data": {
            "text/plain": [
              "{'AP': 0.32092375,\n",
              " 'AP50': 0.4317951,\n",
              " 'AP75': 0.39024755,\n",
              " 'APs': -1.0,\n",
              " 'APm': -1.0,\n",
              " 'APl': 0.3218246,\n",
              " 'ARmax1': 0.35555556,\n",
              " 'ARmax10': 0.7811966,\n",
              " 'ARmax100': 0.7974359,\n",
              " 'ARs': -1.0,\n",
              " 'ARm': -1.0,\n",
              " 'ARl': 0.7974359,\n",
              " 'AP_/duck': 0.33831087,\n",
              " 'AP_/cock': 0.30212516,\n",
              " 'AP_/chick': 0.3223352}"
            ]
          },
          "metadata": {},
          "execution_count": 22
        }
      ]
    },
    {
      "cell_type": "markdown",
      "source": [
        "**EfficientDetLite1**"
      ],
      "metadata": {
        "id": "KAPpNTZuMCCP"
      }
    },
    {
      "cell_type": "code",
      "source": [
        "model1.evaluate(test_data)"
      ],
      "metadata": {
        "colab": {
          "base_uri": "https://localhost:8080/"
        },
        "id": "8_JxMDOSMBgc",
        "outputId": "bda20cc3-1d3c-4605-c6d7-ea8335d2894a"
      },
      "execution_count": null,
      "outputs": [
        {
          "output_type": "stream",
          "name": "stdout",
          "text": [
            "\r1/1 [==============================] - 10s 10s/step\n",
            "\n"
          ]
        },
        {
          "output_type": "execute_result",
          "data": {
            "text/plain": [
              "{'AP': 0.37142578,\n",
              " 'AP50': 0.47743967,\n",
              " 'AP75': 0.43684074,\n",
              " 'APs': -1.0,\n",
              " 'APm': -1.0,\n",
              " 'APl': 0.3727717,\n",
              " 'ARmax1': 0.43846154,\n",
              " 'ARmax10': 0.8188034,\n",
              " 'ARmax100': 0.82564104,\n",
              " 'ARs': -1.0,\n",
              " 'ARm': -1.0,\n",
              " 'ARl': 0.82564104,\n",
              " 'AP_/duck': 0.34942538,\n",
              " 'AP_/cock': 0.35624093,\n",
              " 'AP_/chick': 0.40861106}"
            ]
          },
          "metadata": {},
          "execution_count": 37
        }
      ]
    },
    {
      "cell_type": "markdown",
      "source": [
        "**EfficientDetLite2**"
      ],
      "metadata": {
        "id": "exxv6XN0Qjhw"
      }
    },
    {
      "cell_type": "code",
      "source": [
        "model2.evaluate(test_data)"
      ],
      "metadata": {
        "colab": {
          "base_uri": "https://localhost:8080/"
        },
        "id": "mO1A_ISKQojK",
        "outputId": "3c13c339-1a95-4753-811e-8696f43ffc79"
      },
      "execution_count": null,
      "outputs": [
        {
          "output_type": "stream",
          "name": "stdout",
          "text": [
            "\r1/1 [==============================] - 10s 10s/step\n",
            "\n"
          ]
        },
        {
          "output_type": "execute_result",
          "data": {
            "text/plain": [
              "{'AP': 0.34863916,\n",
              " 'AP50': 0.44053867,\n",
              " 'AP75': 0.41767016,\n",
              " 'APs': -1.0,\n",
              " 'APm': -1.0,\n",
              " 'APl': 0.3504836,\n",
              " 'ARmax1': 0.35555556,\n",
              " 'ARmax10': 0.8136752,\n",
              " 'ARmax100': 0.8162393,\n",
              " 'ARs': -1.0,\n",
              " 'ARm': -1.0,\n",
              " 'ARl': 0.8162393,\n",
              " 'AP_/duck': 0.39029512,\n",
              " 'AP_/cock': 0.3468372,\n",
              " 'AP_/chick': 0.30878517}"
            ]
          },
          "metadata": {},
          "execution_count": 48
        }
      ]
    },
    {
      "cell_type": "markdown",
      "source": [
        "**EfficientDetLite3**"
      ],
      "metadata": {
        "id": "6tk5lTEOYobA"
      }
    },
    {
      "cell_type": "code",
      "source": [
        "model3.evaluate(test_data)"
      ],
      "metadata": {
        "colab": {
          "base_uri": "https://localhost:8080/"
        },
        "id": "7a6ncJHNIn04",
        "outputId": "3dce001d-be01-4539-ae6e-1d0780be09c7"
      },
      "execution_count": null,
      "outputs": [
        {
          "output_type": "stream",
          "name": "stdout",
          "text": [
            "\r1/1 [==============================] - 14s 14s/step\n",
            "\n"
          ]
        },
        {
          "output_type": "execute_result",
          "data": {
            "text/plain": [
              "{'AP': 0.43890053,\n",
              " 'AP50': 0.52603585,\n",
              " 'AP75': 0.49160486,\n",
              " 'APs': -1.0,\n",
              " 'APm': -1.0,\n",
              " 'APl': 0.43991208,\n",
              " 'ARmax1': 0.53418803,\n",
              " 'ARmax10': 0.8666667,\n",
              " 'ARmax100': 0.8735043,\n",
              " 'ARs': -1.0,\n",
              " 'ARm': -1.0,\n",
              " 'ARl': 0.8735043,\n",
              " 'AP_/duck': 0.35414776,\n",
              " 'AP_/cock': 0.55754733,\n",
              " 'AP_/chick': 0.40500656}"
            ]
          },
          "metadata": {},
          "execution_count": 22
        }
      ]
    },
    {
      "cell_type": "markdown",
      "source": [
        "**EfficientDetLite4**"
      ],
      "metadata": {
        "id": "8VnxIrLI82wO"
      }
    },
    {
      "cell_type": "code",
      "source": [
        "model4.evaluate(test_data)"
      ],
      "metadata": {
        "colab": {
          "base_uri": "https://localhost:8080/"
        },
        "id": "s9KVq_Kr86i3",
        "outputId": "183dc6d1-b533-48cd-dd2f-ace564da40e6"
      },
      "execution_count": null,
      "outputs": [
        {
          "output_type": "stream",
          "name": "stdout",
          "text": [
            "\r1/1 [==============================] - 17s 17s/step\n",
            "\n"
          ]
        },
        {
          "output_type": "execute_result",
          "data": {
            "text/plain": [
              "{'AP': 0.4010563,\n",
              " 'AP50': 0.49203295,\n",
              " 'AP75': 0.46965498,\n",
              " 'APs': -1.0,\n",
              " 'APm': -1.0,\n",
              " 'APl': 0.40191332,\n",
              " 'ARmax1': 0.45982906,\n",
              " 'ARmax10': 0.82905984,\n",
              " 'ARmax100': 0.8350427,\n",
              " 'ARs': -1.0,\n",
              " 'ARm': -1.0,\n",
              " 'ARl': 0.8350427,\n",
              " 'AP_/duck': 0.42435095,\n",
              " 'AP_/cock': 0.45152742,\n",
              " 'AP_/chick': 0.32729053}"
            ]
          },
          "metadata": {},
          "execution_count": 34
        }
      ]
    },
    {
      "cell_type": "markdown",
      "source": [
        "### Export Model"
      ],
      "metadata": {
        "id": "1i-eb4y25Izi"
      }
    },
    {
      "cell_type": "code",
      "source": [
        "!mkdir /content/model\n",
        "%cd /content/model"
      ],
      "metadata": {
        "id": "yJCEmORA5Myw",
        "colab": {
          "base_uri": "https://localhost:8080/"
        },
        "outputId": "32370b1f-9deb-4ac2-9191-3f568ce0a667"
      },
      "execution_count": null,
      "outputs": [
        {
          "output_type": "stream",
          "name": "stdout",
          "text": [
            "mkdir: cannot create directory ‘/content/model’: File exists\n",
            "/content/model\n"
          ]
        }
      ]
    },
    {
      "cell_type": "code",
      "source": [
        "model0.export(export_dir='.', tflite_filename='shape_detector0.tflite')"
      ],
      "metadata": {
        "id": "cuzfD7Qy5Kz0"
      },
      "execution_count": null,
      "outputs": []
    },
    {
      "cell_type": "code",
      "source": [
        "model1.export(export_dir='.', tflite_filename='shape_detector1.tflite')"
      ],
      "metadata": {
        "id": "V-giUhy_MMBb"
      },
      "execution_count": null,
      "outputs": []
    },
    {
      "cell_type": "code",
      "source": [
        "model2.export(export_dir='.', tflite_filename='shape_detector2.tflite')"
      ],
      "metadata": {
        "id": "a7q_ciTHQxlp"
      },
      "execution_count": null,
      "outputs": []
    },
    {
      "cell_type": "code",
      "source": [
        "model3.export(export_dir='.', tflite_filename='shape_detector3.tflite')"
      ],
      "metadata": {
        "id": "KmYR1N-4Irsu"
      },
      "execution_count": null,
      "outputs": []
    },
    {
      "cell_type": "code",
      "source": [
        "model4.export(export_dir='.', tflite_filename='shape_detector4.tflite')"
      ],
      "metadata": {
        "id": "yWCH29HC9fyJ"
      },
      "execution_count": null,
      "outputs": []
    },
    {
      "cell_type": "markdown",
      "source": [
        "## Evaluate Model"
      ],
      "metadata": {
        "id": "xVBkO3XJ_xZ2"
      }
    },
    {
      "cell_type": "code",
      "source": [
        "model0.evaluate_tflite('shape_detector0.tflite', test_data)"
      ],
      "metadata": {
        "colab": {
          "base_uri": "https://localhost:8080/"
        },
        "id": "mAseE7gu_0vf",
        "outputId": "ec576807-2b5e-4159-a7e6-154034b70e70"
      },
      "execution_count": null,
      "outputs": [
        {
          "output_type": "stream",
          "name": "stdout",
          "text": [
            "39/39 [==============================] - 118s 3s/step\n",
            "\n"
          ]
        },
        {
          "output_type": "execute_result",
          "data": {
            "text/plain": [
              "{'AP': 0.18367456,\n",
              " 'AP50': 0.2631387,\n",
              " 'AP75': 0.21042287,\n",
              " 'APs': -1.0,\n",
              " 'APm': -1.0,\n",
              " 'APl': 0.18426758,\n",
              " 'ARmax1': 0.25128207,\n",
              " 'ARmax10': 0.37008548,\n",
              " 'ARmax100': 0.37008548,\n",
              " 'ARs': -1.0,\n",
              " 'ARm': -1.0,\n",
              " 'ARl': 0.37008548,\n",
              " 'AP_/duck': 0.2593671,\n",
              " 'AP_/cock': 0.22120392,\n",
              " 'AP_/chick': 0.07045263}"
            ]
          },
          "metadata": {},
          "execution_count": 26
        }
      ]
    },
    {
      "cell_type": "code",
      "source": [
        "model1.evaluate_tflite('shape_detector1.tflite', test_data)"
      ],
      "metadata": {
        "colab": {
          "base_uri": "https://localhost:8080/"
        },
        "id": "uJCxaOg3MT4d",
        "outputId": "7a9f0313-8eb6-4fe1-d7c4-09f6fe7c2257"
      },
      "execution_count": null,
      "outputs": [
        {
          "output_type": "stream",
          "name": "stdout",
          "text": [
            "39/39 [==============================] - 235s 6s/step\n",
            "\n"
          ]
        },
        {
          "output_type": "execute_result",
          "data": {
            "text/plain": [
              "{'AP': 0.24509548,\n",
              " 'AP50': 0.30947822,\n",
              " 'AP75': 0.28226244,\n",
              " 'APs': -1.0,\n",
              " 'APm': -1.0,\n",
              " 'APl': 0.24570304,\n",
              " 'ARmax1': 0.2811966,\n",
              " 'ARmax10': 0.4068376,\n",
              " 'ARmax100': 0.4076923,\n",
              " 'ARs': -1.0,\n",
              " 'ARm': -1.0,\n",
              " 'ARl': 0.4076923,\n",
              " 'AP_/duck': 0.26033354,\n",
              " 'AP_/cock': 0.18470734,\n",
              " 'AP_/chick': 0.29024556}"
            ]
          },
          "metadata": {},
          "execution_count": 40
        }
      ]
    },
    {
      "cell_type": "code",
      "source": [
        "model2.evaluate_tflite('shape_detector2.tflite', test_data)"
      ],
      "metadata": {
        "colab": {
          "base_uri": "https://localhost:8080/"
        },
        "id": "2jWR1aOIRmnI",
        "outputId": "4bb7d71a-b3c6-4ee1-e246-187e537f53c1"
      },
      "execution_count": null,
      "outputs": [
        {
          "output_type": "stream",
          "name": "stdout",
          "text": [
            "39/39 [==============================] - 399s 10s/step\n",
            "\n"
          ]
        },
        {
          "output_type": "execute_result",
          "data": {
            "text/plain": [
              "{'AP': 0.1751381,\n",
              " 'AP50': 0.23208629,\n",
              " 'AP75': 0.20369521,\n",
              " 'APs': -1.0,\n",
              " 'APm': -1.0,\n",
              " 'APl': 0.17604996,\n",
              " 'ARmax1': 0.21538462,\n",
              " 'ARmax10': 0.34529915,\n",
              " 'ARmax100': 0.34615386,\n",
              " 'ARs': -1.0,\n",
              " 'ARm': -1.0,\n",
              " 'ARl': 0.34615386,\n",
              " 'AP_/duck': 0.15052272,\n",
              " 'AP_/cock': 0.22668998,\n",
              " 'AP_/chick': 0.14820161}"
            ]
          },
          "metadata": {},
          "execution_count": 52
        }
      ]
    },
    {
      "cell_type": "code",
      "source": [
        "model3.evaluate_tflite('shape_detector3.tflite', test_data)"
      ],
      "metadata": {
        "colab": {
          "base_uri": "https://localhost:8080/"
        },
        "id": "JVFCTQBhJbXw",
        "outputId": "20855862-b7c1-4467-d1ab-751bddcc4e9d"
      },
      "execution_count": null,
      "outputs": [
        {
          "output_type": "stream",
          "name": "stdout",
          "text": [
            "39/39 [==============================] - 856s 22s/step\n",
            "\n"
          ]
        },
        {
          "output_type": "execute_result",
          "data": {
            "text/plain": [
              "{'AP': 0.2860682,\n",
              " 'AP50': 0.34133917,\n",
              " 'AP75': 0.31353605,\n",
              " 'APs': -1.0,\n",
              " 'APm': -1.0,\n",
              " 'APl': 0.2864962,\n",
              " 'ARmax1': 0.33076924,\n",
              " 'ARmax10': 0.46581197,\n",
              " 'ARmax100': 0.46666667,\n",
              " 'ARs': -1.0,\n",
              " 'ARm': -1.0,\n",
              " 'ARl': 0.46666667,\n",
              " 'AP_/duck': 0.25463533,\n",
              " 'AP_/cock': 0.3954637,\n",
              " 'AP_/chick': 0.20810558}"
            ]
          },
          "metadata": {},
          "execution_count": 26
        }
      ]
    },
    {
      "cell_type": "code",
      "source": [
        "model4.evaluate_tflite('shape_detector4.tflite', test_data)"
      ],
      "metadata": {
        "colab": {
          "base_uri": "https://localhost:8080/"
        },
        "id": "5eF3rJtcDM_u",
        "outputId": "287caeaa-1b72-4cae-ced8-5f4090a8dbea"
      },
      "execution_count": null,
      "outputs": [
        {
          "output_type": "stream",
          "name": "stdout",
          "text": [
            "39/39 [==============================] - 2380s 61s/step\n",
            "\n"
          ]
        },
        {
          "output_type": "execute_result",
          "data": {
            "text/plain": [
              "{'AP': 0.2606495,\n",
              " 'AP50': 0.31929913,\n",
              " 'AP75': 0.29545516,\n",
              " 'APs': -1.0,\n",
              " 'APm': -1.0,\n",
              " 'APl': 0.26082194,\n",
              " 'ARmax1': 0.31709403,\n",
              " 'ARmax10': 0.43333334,\n",
              " 'ARmax100': 0.43418804,\n",
              " 'ARs': -1.0,\n",
              " 'ARm': -1.0,\n",
              " 'ARl': 0.43418804,\n",
              " 'AP_/duck': 0.24557129,\n",
              " 'AP_/cock': 0.34614703,\n",
              " 'AP_/chick': 0.19023022}"
            ]
          },
          "metadata": {},
          "execution_count": 38
        }
      ]
    },
    {
      "cell_type": "markdown",
      "source": [
        "## Detection Test"
      ],
      "metadata": {
        "id": "OcfVloP_JcO4"
      }
    },
    {
      "cell_type": "code",
      "source": [
        "!mkdir /content/detection\n",
        "%cd /content/detection"
      ],
      "metadata": {
        "colab": {
          "base_uri": "https://localhost:8080/"
        },
        "id": "-Iy9rklNNjlx",
        "outputId": "03fb4b7d-dcaa-4ae6-f931-5fdff9edf4ea"
      },
      "execution_count": null,
      "outputs": [
        {
          "output_type": "stream",
          "name": "stdout",
          "text": [
            "/content/detection\n"
          ]
        }
      ]
    },
    {
      "cell_type": "code",
      "source": [
        "!mv /content/detection/shape_detector1.tflite /content/model"
      ],
      "metadata": {
        "id": "G9YiEuH0i_ir"
      },
      "execution_count": null,
      "outputs": []
    },
    {
      "cell_type": "code",
      "source": [
        "model_path = '/content/model/shape_detector4.tflite'\n",
        "\n",
        "# Load the labels into a list\n",
        "classes = ['???'] * model4.model_spec.config.num_classes\n",
        "label_map = model4.model_spec.config.label_map\n",
        "for label_id, label_name in label_map.as_dict().items():\n",
        "  classes[label_id-1] = label_name\n",
        "\n",
        "# Define a list of colors for visualization\n",
        "COLORS = np.random.randint(0, 255, size=(len(classes), 3), dtype=np.uint8)\n",
        "\n",
        "def preprocess_image(image_path, input_size):\n",
        "  \"\"\"Preprocess the input image to feed to the TFLite model\"\"\"\n",
        "  img = tf.io.read_file(image_path)\n",
        "  img = tf.io.decode_image(img, channels=3)\n",
        "  img = tf.image.convert_image_dtype(img, tf.uint8)\n",
        "  original_image = img\n",
        "  resized_img = tf.image.resize(img, input_size)\n",
        "  resized_img = resized_img[tf.newaxis, :]\n",
        "  resized_img = tf.cast(resized_img, dtype=tf.uint8)\n",
        "  return resized_img, original_image\n",
        "\n",
        "\n",
        "def detect_objects(interpreter, image, threshold):\n",
        "  \"\"\"Returns a list of detection results, each a dictionary of object info.\"\"\"\n",
        "\n",
        "  signature_fn = interpreter.get_signature_runner()\n",
        "\n",
        "  # Feed the input image to the model\n",
        "  output = signature_fn(images=image)\n",
        "\n",
        "  # Get all outputs from the model\n",
        "  count = int(np.squeeze(output['output_0']))\n",
        "  scores = np.squeeze(output['output_1'])\n",
        "  classes = np.squeeze(output['output_2'])\n",
        "  boxes = np.squeeze(output['output_3'])\n",
        "\n",
        "  results = []\n",
        "  for i in range(count):\n",
        "    if scores[i] >= threshold:\n",
        "      result = {\n",
        "        'bounding_box': boxes[i],\n",
        "        'class_id': classes[i],\n",
        "        'score': scores[i]\n",
        "      }\n",
        "      results.append(result)\n",
        "  return results\n",
        "\n",
        "\n",
        "def run_odt_and_draw_results(image_path, interpreter, threshold=0.5):\n",
        "  \"\"\"Run object detection on the input image and draw the detection results\"\"\"\n",
        "  # Load the input shape required by the model\n",
        "  _, input_height, input_width, _ = interpreter.get_input_details()[0]['shape']\n",
        "\n",
        "  # Load the input image and preprocess it\n",
        "  preprocessed_image, original_image = preprocess_image(\n",
        "      image_path,\n",
        "      (input_height, input_width)\n",
        "    )\n",
        "\n",
        "  # Run object detection on the input image\n",
        "  results = detect_objects(interpreter, preprocessed_image, threshold=threshold)\n",
        "\n",
        "  # Plot the detection results on the input image\n",
        "  original_image_np = original_image.numpy().astype(np.uint8)\n",
        "  for obj in results:\n",
        "    # Convert the object bounding box from relative coordinates to absolute\n",
        "    # coordinates based on the original image resolution\n",
        "    ymin, xmin, ymax, xmax = obj['bounding_box']\n",
        "    xmin = int(xmin * original_image_np.shape[1])\n",
        "    xmax = int(xmax * original_image_np.shape[1])\n",
        "    ymin = int(ymin * original_image_np.shape[0])\n",
        "    ymax = int(ymax * original_image_np.shape[0])\n",
        "\n",
        "    # Find the class index of the current object\n",
        "    class_id = int(obj['class_id'])\n",
        "\n",
        "    # Draw the bounding box and label on the image\n",
        "    color = [int(c) for c in COLORS[class_id]]\n",
        "    cv2.rectangle(original_image_np, (xmin, ymin), (xmax, ymax), color, 2)\n",
        "    # Make adjustments to make the label visible for all objects\n",
        "    y = ymin - 15 if ymin - 15 > 15 else ymin + 15\n",
        "    label = \"{}: {:.0f}%\".format(classes[class_id], obj['score'] * 100)\n",
        "    cv2.putText(original_image_np, label, (xmin, y),\n",
        "        cv2.FONT_HERSHEY_SIMPLEX, 0.5, color, 2)\n",
        "\n",
        "  # Return the final image\n",
        "  original_uint8 = original_image_np.astype(np.uint8)\n",
        "  return original_uint8"
      ],
      "metadata": {
        "id": "KWPZvs3C__ZF"
      },
      "execution_count": null,
      "outputs": []
    },
    {
      "cell_type": "code",
      "source": [
        "DETECTION_THRESHOLD = 0.40\n",
        "\n",
        "TEST_FILE = '/content/gdrive/MyDrive/Capstone/C501/ModelPreparation/Dataset/Test_Dataset/Ducky_Chicken/Test6.jpg'\n",
        "\n",
        "im = Image.open(TEST_FILE)\n",
        "im.thumbnail((512, 512), Image.ANTIALIAS)\n",
        "im.save(TEST_FILE, 'JPEG')\n",
        "\n",
        "# Load the TFLite model\n",
        "interpreter = tf.lite.Interpreter(model_path=model_path)\n",
        "interpreter.allocate_tensors()\n",
        "\n",
        "# Run inference and draw detection result on the local copy of the original file\n",
        "detection_result_image = run_odt_and_draw_results(\n",
        "    TEST_FILE,\n",
        "    interpreter,\n",
        "    threshold=DETECTION_THRESHOLD\n",
        ")\n",
        "\n",
        "# Show the detection result\n",
        "det_im = Image.fromarray(detection_result_image)\n",
        "det_im.save('shape_detector0_detection1.jpg', 'JPEG')"
      ],
      "metadata": {
        "id": "cqgsvL4OAJAz"
      },
      "execution_count": null,
      "outputs": []
    }
  ]
}