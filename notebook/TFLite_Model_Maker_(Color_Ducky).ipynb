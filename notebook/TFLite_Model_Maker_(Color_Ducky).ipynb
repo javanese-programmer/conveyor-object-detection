{
  "nbformat": 4,
  "nbformat_minor": 0,
  "metadata": {
    "colab": {
      "provenance": []
    },
    "kernelspec": {
      "name": "python3",
      "display_name": "Python 3"
    },
    "language_info": {
      "name": "python"
    },
    "accelerator": "GPU",
    "gpuClass": "standard"
  },
  "cells": [
    {
      "cell_type": "markdown",
      "source": [
        "## Prequisutites"
      ],
      "metadata": {
        "id": "C8YY6O9dYaPe"
      }
    },
    {
      "cell_type": "markdown",
      "source": [
        "### Install Required Libraries"
      ],
      "metadata": {
        "id": "09PGoh9JulnK"
      }
    },
    {
      "cell_type": "code",
      "source": [
        "!pip install -q --use-deprecated=legacy-resolver tflite-model-maker"
      ],
      "metadata": {
        "colab": {
          "base_uri": "https://localhost:8080/"
        },
        "id": "S_1mdxRetrMD",
        "outputId": "b7877c73-7b1a-46da-adf1-59453bc15a3b"
      },
      "execution_count": null,
      "outputs": [
        {
          "output_type": "stream",
          "name": "stdout",
          "text": [
            "\u001b[2K     \u001b[90m━━━━━━━━━━━━━━━━━━━━━━━━━━━━━━━━━━━━━━━\u001b[0m \u001b[32m577.3/577.3 KB\u001b[0m \u001b[31m8.2 MB/s\u001b[0m eta \u001b[36m0:00:00\u001b[0m\n",
            "\u001b[2K     \u001b[90m━━━━━━━━━━━━━━━━━━━━━━━━━━━━━━━━━━━━━━━━\u001b[0m \u001b[32m1.1/1.1 MB\u001b[0m \u001b[31m37.6 MB/s\u001b[0m eta \u001b[36m0:00:00\u001b[0m\n",
            "\u001b[2K     \u001b[90m━━━━━━━━━━━━━━━━━━━━━━━━━━━━━━━━━━━━━━\u001b[0m \u001b[32m128.6/128.6 KB\u001b[0m \u001b[31m14.2 MB/s\u001b[0m eta \u001b[36m0:00:00\u001b[0m\n",
            "\u001b[2K     \u001b[90m━━━━━━━━━━━━━━━━━━━━━━━━━━━━━━━━━━━━━━━━\u001b[0m \u001b[32m3.4/3.4 MB\u001b[0m \u001b[31m53.6 MB/s\u001b[0m eta \u001b[36m0:00:00\u001b[0m\n",
            "\u001b[2K     \u001b[90m━━━━━━━━━━━━━━━━━━━━━━━━━━━━━━━━━━━━━━━━\u001b[0m \u001b[32m88.3/88.3 KB\u001b[0m \u001b[31m8.4 MB/s\u001b[0m eta \u001b[36m0:00:00\u001b[0m\n",
            "\u001b[?25h  Preparing metadata (setup.py) ... \u001b[?25l\u001b[?25hdone\n",
            "\u001b[2K     \u001b[90m━━━━━━━━━━━━━━━━━━━━━━━━━━━━━━━━━━━━━━\u001b[0m \u001b[32m238.9/238.9 KB\u001b[0m \u001b[31m17.8 MB/s\u001b[0m eta \u001b[36m0:00:00\u001b[0m\n",
            "\u001b[2K     \u001b[90m━━━━━━━━━━━━━━━━━━━━━━━━━━━━━━━━━━━━━━\u001b[0m \u001b[32m840.9/840.9 KB\u001b[0m \u001b[31m47.4 MB/s\u001b[0m eta \u001b[36m0:00:00\u001b[0m\n",
            "\u001b[2K     \u001b[90m━━━━━━━━━━━━━━━━━━━━━━━━━━━━━━━━━━━━━━━━\u001b[0m \u001b[32m77.5/77.5 KB\u001b[0m \u001b[31m6.5 MB/s\u001b[0m eta \u001b[36m0:00:00\u001b[0m\n",
            "\u001b[2K     \u001b[90m━━━━━━━━━━━━━━━━━━━━━━━━━━━━━━━━━━━━━━━━\u001b[0m \u001b[32m1.3/1.3 MB\u001b[0m \u001b[31m46.6 MB/s\u001b[0m eta \u001b[36m0:00:00\u001b[0m\n",
            "\u001b[2K     \u001b[90m━━━━━━━━━━━━━━━━━━━━━━━━━━━━━━━━━━━━━━━━\u001b[0m \u001b[32m10.9/10.9 MB\u001b[0m \u001b[31m66.2 MB/s\u001b[0m eta \u001b[36m0:00:00\u001b[0m\n",
            "\u001b[2K     \u001b[90m━━━━━━━━━━━━━━━━━━━━━━━━━━━━━━━━━━━━━━━━\u001b[0m \u001b[32m60.8/60.8 MB\u001b[0m \u001b[31m12.8 MB/s\u001b[0m eta \u001b[36m0:00:00\u001b[0m\n",
            "\u001b[2K     \u001b[90m━━━━━━━━━━━━━━━━━━━━━━━━━━━━━━━━━━━━━━━━\u001b[0m \u001b[32m25.3/25.3 MB\u001b[0m \u001b[31m70.0 MB/s\u001b[0m eta \u001b[36m0:00:00\u001b[0m\n",
            "\u001b[2K     \u001b[90m━━━━━━━━━━━━━━━━━━━━━━━━━━━━━━━━━━━━━━\u001b[0m \u001b[32m352.1/352.1 KB\u001b[0m \u001b[31m39.0 MB/s\u001b[0m eta \u001b[36m0:00:00\u001b[0m\n",
            "\u001b[2K     \u001b[90m━━━━━━━━━━━━━━━━━━━━━━━━━━━━━━━━━━━━━━\u001b[0m \u001b[32m222.4/222.4 KB\u001b[0m \u001b[31m29.9 MB/s\u001b[0m eta \u001b[36m0:00:00\u001b[0m\n",
            "\u001b[?25h  Building wheel for fire (setup.py) ... \u001b[?25l\u001b[?25hdone\n",
            "\u001b[31mERROR: pip's legacy dependency resolver does not consider dependency conflicts when selecting packages. This behaviour is the source of the following dependency conflicts.\n",
            "tensorflowjs 3.18.0 requires packaging~=20.9, but you'll have packaging 23.0 which is incompatible.\n",
            "scann 1.2.6 requires tensorflow~=2.8.0, but you'll have tensorflow 2.11.0 which is incompatible.\u001b[0m\u001b[31m\n",
            "\u001b[0m"
          ]
        }
      ]
    },
    {
      "cell_type": "code",
      "source": [
        "!pip install -q pycocotools"
      ],
      "metadata": {
        "id": "K_QP2muIttZo"
      },
      "execution_count": null,
      "outputs": []
    },
    {
      "cell_type": "code",
      "source": [
        "!pip install -q opencv-python-headless==4.1.2.30"
      ],
      "metadata": {
        "id": "gNEijyvauWXU",
        "colab": {
          "base_uri": "https://localhost:8080/"
        },
        "outputId": "0da2fa2d-4604-4de0-db42-ca38bee4d203"
      },
      "execution_count": null,
      "outputs": [
        {
          "output_type": "stream",
          "name": "stdout",
          "text": [
            "\u001b[2K     \u001b[90m━━━━━━━━━━━━━━━━━━━━━━━━━━━━━━━━━━━━━━━━\u001b[0m \u001b[32m21.8/21.8 MB\u001b[0m \u001b[31m47.9 MB/s\u001b[0m eta \u001b[36m0:00:00\u001b[0m\n",
            "\u001b[?25h"
          ]
        }
      ]
    },
    {
      "cell_type": "code",
      "source": [
        "!pip uninstall -y tensorflow && pip install -q tensorflow==2.8.0"
      ],
      "metadata": {
        "colab": {
          "base_uri": "https://localhost:8080/"
        },
        "id": "tQ-83p_UucCF",
        "outputId": "8eb3e173-5f32-4c6d-f762-58c32be29c00"
      },
      "execution_count": null,
      "outputs": [
        {
          "output_type": "stream",
          "name": "stdout",
          "text": [
            "Found existing installation: tensorflow 2.11.0\n",
            "Uninstalling tensorflow-2.11.0:\n",
            "  Successfully uninstalled tensorflow-2.11.0\n",
            "\u001b[2K     \u001b[90m━━━━━━━━━━━━━━━━━━━━━━━━━━━━━━━━━━━━━━━\u001b[0m \u001b[32m497.6/497.6 MB\u001b[0m \u001b[31m3.3 MB/s\u001b[0m eta \u001b[36m0:00:00\u001b[0m\n",
            "\u001b[2K     \u001b[90m━━━━━━━━━━━━━━━━━━━━━━━━━━━━━━━━━━━━━━\u001b[0m \u001b[32m462.5/462.5 KB\u001b[0m \u001b[31m38.2 MB/s\u001b[0m eta \u001b[36m0:00:00\u001b[0m\n",
            "\u001b[2K     \u001b[90m━━━━━━━━━━━━━━━━━━━━━━━━━━━━━━━━━━━━━━━━\u001b[0m \u001b[32m5.8/5.8 MB\u001b[0m \u001b[31m62.3 MB/s\u001b[0m eta \u001b[36m0:00:00\u001b[0m\n",
            "\u001b[2K     \u001b[90m━━━━━━━━━━━━━━━━━━━━━━━━━━━━━━━━━━━━━━━━\u001b[0m \u001b[32m42.6/42.6 KB\u001b[0m \u001b[31m5.2 MB/s\u001b[0m eta \u001b[36m0:00:00\u001b[0m\n",
            "\u001b[2K     \u001b[90m━━━━━━━━━━━━━━━━━━━━━━━━━━━━━━━━━━━━━━━━\u001b[0m \u001b[32m1.4/1.4 MB\u001b[0m \u001b[31m58.9 MB/s\u001b[0m eta \u001b[36m0:00:00\u001b[0m\n",
            "\u001b[?25h\u001b[31mERROR: pip's dependency resolver does not currently take into account all the packages that are installed. This behaviour is the source of the following dependency conflicts.\n",
            "tensorflowjs 3.18.0 requires packaging~=20.9, but you have packaging 23.0 which is incompatible.\u001b[0m\u001b[31m\n",
            "\u001b[0m"
          ]
        }
      ]
    },
    {
      "cell_type": "code",
      "source": [
        "!pip install split-folders"
      ],
      "metadata": {
        "id": "aC5PuSHGuQ__",
        "colab": {
          "base_uri": "https://localhost:8080/"
        },
        "outputId": "dd6369ce-dd0d-44ba-9aa0-3c5345e585da"
      },
      "execution_count": null,
      "outputs": [
        {
          "output_type": "stream",
          "name": "stdout",
          "text": [
            "Looking in indexes: https://pypi.org/simple, https://us-python.pkg.dev/colab-wheels/public/simple/\n",
            "Collecting split-folders\n",
            "  Downloading split_folders-0.5.1-py3-none-any.whl (8.4 kB)\n",
            "Installing collected packages: split-folders\n",
            "Successfully installed split-folders-0.5.1\n"
          ]
        }
      ]
    },
    {
      "cell_type": "markdown",
      "source": [
        "### Import Packages"
      ],
      "metadata": {
        "id": "LoA_4-lFuf-1"
      }
    },
    {
      "cell_type": "code",
      "source": [
        "import numpy as np\n",
        "import os\n",
        "import lxml\n",
        "from lxml import etree\n",
        "from lxml.html.clean import Cleaner\n",
        "import splitfolders\n",
        "import shutil\n",
        "\n",
        "import cv2\n",
        "from PIL import Image\n",
        "import matplotlib.pyplot as plt\n",
        "\n",
        "from tflite_model_maker.config import QuantizationConfig\n",
        "from tflite_model_maker.config import ExportFormat\n",
        "from tflite_model_maker import model_spec\n",
        "from tflite_model_maker import object_detector\n",
        "\n",
        "import tensorflow as tf\n",
        "assert tf.__version__.startswith('2')\n",
        "\n",
        "tf.get_logger().setLevel('ERROR')\n",
        "from absl import logging\n",
        "logging.set_verbosity(logging.ERROR)\n",
        "\n",
        "from google.colab import drive"
      ],
      "metadata": {
        "id": "tetNLlGPurHR",
        "colab": {
          "base_uri": "https://localhost:8080/"
        },
        "outputId": "2b9ae447-72cc-4c79-8133-beabd3bb8ec7"
      },
      "execution_count": null,
      "outputs": [
        {
          "output_type": "stream",
          "name": "stderr",
          "text": [
            "/usr/local/lib/python3.8/dist-packages/tensorflow_addons/utils/ensure_tf_install.py:53: UserWarning: Tensorflow Addons supports using Python ops for all Tensorflow versions above or equal to 2.9.0 and strictly below 2.12.0 (nightly versions are not supported). \n",
            " The versions of TensorFlow you are currently using is 2.8.0 and is not supported. \n",
            "Some things might work, some things might not.\n",
            "If you were to encounter a bug, do not file an issue.\n",
            "If you want to make sure you're using a tested and supported configuration, either change the TensorFlow version or the TensorFlow Addons's version. \n",
            "You can find the compatibility matrix in TensorFlow Addon's readme:\n",
            "https://github.com/tensorflow/addons\n",
            "  warnings.warn(\n"
          ]
        }
      ]
    },
    {
      "cell_type": "markdown",
      "source": [
        "## Prepare Model"
      ],
      "metadata": {
        "id": "lM7gJNx-xW46"
      }
    },
    {
      "cell_type": "markdown",
      "source": [
        "### Prepare Directories"
      ],
      "metadata": {
        "id": "AhMMZ7t5yzNG"
      }
    },
    {
      "cell_type": "code",
      "source": [
        "drive.mount('/content/gdrive/', force_remount=True)"
      ],
      "metadata": {
        "id": "6GHk9dpho1Vc",
        "colab": {
          "base_uri": "https://localhost:8080/"
        },
        "outputId": "396dae8c-27b2-4d60-ba1d-fa9af03ec1cd"
      },
      "execution_count": null,
      "outputs": [
        {
          "output_type": "stream",
          "name": "stdout",
          "text": [
            "Mounted at /content/gdrive/\n"
          ]
        }
      ]
    },
    {
      "cell_type": "markdown",
      "source": [
        "**Train and Validation Data Dir**"
      ],
      "metadata": {
        "id": "nghQE06dktGV"
      }
    },
    {
      "cell_type": "code",
      "source": [
        "!mkdir /content/Train_Val\n",
        "%cd /content/Train_Val\n",
        "!unzip \"/content/gdrive/MyDrive/Capstone/C501/ModelPreparation/Dataset/Augmented/Pascal VOC/Train_Color_Ducky.zip\""
      ],
      "metadata": {
        "colab": {
          "base_uri": "https://localhost:8080/"
        },
        "id": "KefWc7nZyx45",
        "outputId": "033cc6ef-deb3-4984-eff7-4b6566d57870"
      },
      "execution_count": null,
      "outputs": [
        {
          "output_type": "stream",
          "name": "stdout",
          "text": [
            "/content/Train_Val\n",
            "Archive:  /content/gdrive/MyDrive/Capstone/C501/ModelPreparation/Dataset/Augmented/Pascal VOC/Train_Color_Ducky.zip\n",
            "   creating: Annotations/\n",
            "   creating: images/\n",
            "  inflating: Annotations/046224d4-ucexportviewid1B5GhsjXqf3PLlOp6N_o7AT35yVLzHCn1.xml  \n",
            "  inflating: Annotations/0482ff6a-ucexportviewid1KyIsjTQRoRQxIGuzeJRIIrFDK4kvQHQW.xml  \n",
            "  inflating: Annotations/06e7d9c8-ucexportviewid1ROD7QNzz4g-e5SOuayICHwN2FV_QBvB_.xml  \n",
            "  inflating: Annotations/0b3d3dd2-ucexportviewid16J-HHqnScUJAKHk-ifs5aMhOrnbRWqFY.xml  \n",
            "  inflating: Annotations/0bca9b06-ucexportviewid1N7mJFKEcLZdumY4dJiq5wh_W8VRBD5eW.xml  \n",
            "  inflating: Annotations/0bfe5c9c-ucexportviewid1EtIosB2IjoNXnVCa8ym8rcCyVqgbkdVN.xml  \n",
            "  inflating: Annotations/0c585f22-ucexportviewid10MIcic4IIG0OJQYx23JNONq7g-dQw-N3.xml  \n",
            "  inflating: Annotations/0d0f794b-ucexportviewid1m210g0SIs0h-bZDA7iXs5Cvam9sNBFrj.xml  \n",
            "  inflating: Annotations/0d35c5d6-ucexportviewid1GwirKZfxScjlgVmCeg4o7WqU0oIDAN6w.xml  \n",
            "  inflating: Annotations/0d41133a-ucexportviewid1mhPnAbVqoVHccJ_S_b4J7GwKuttmnxCi.xml  \n",
            "  inflating: Annotations/0efe829e-ucexportviewid17dEZc9Hb6M1BWQKn0BvAJLmBz_OTsuWK.xml  \n",
            "  inflating: Annotations/1005cc8d-ucexportviewid1nP1juu5kLHuUTubnA2APMKohfUUcBqMH.xml  \n",
            "  inflating: Annotations/109aeed1-ucexportviewid1S7JwSylvB89VC8t_2ZIQU_3GY4NHw741.xml  \n",
            "  inflating: Annotations/11f47df8-ucexportviewid1j3JibiztB0s4uiwnQh19U1fKQf_esi6x.xml  \n",
            "  inflating: Annotations/142991a9-ucexportviewid1fT1WZkMWaKKr5jXMOe7dS3sh6Nu2LJXg.xml  \n",
            "  inflating: Annotations/144ff4f5-ucexportviewid1-5jFPt0tPUGnxpWlJSN1Eq1sXnK6UyLj.xml  \n",
            "  inflating: Annotations/148ba476-ucexportviewid1U0sxgf_8w1Vj7TAPQKtjeK2-O3Umoh7Q.xml  \n",
            "  inflating: Annotations/16076650-ucexportviewid1bthsbueEzIpupfPmXIN17rI1wOxXuaWf.xml  \n",
            "  inflating: Annotations/1ac2c465-ucexportviewid1M3rv_CyqfShHOjOlYBx8TjxxGWJTcsoY.xml  \n",
            "  inflating: Annotations/1ad82b17-ucexportviewid1MWACua9bs3SfCJ6mg1TysmjJRuRuTVWa.xml  \n",
            "  inflating: Annotations/1aee7ef5-ucexportviewid1PYgUt3I4fJIKwmKeekq2DFd5B6r2dsSz.xml  \n",
            "  inflating: Annotations/1c2468b7-ucexportviewid1Kxah2bpCI1RzBks4x7Zssk0rHMkTirv2.xml  \n",
            "  inflating: Annotations/216261ee-ucexportviewid1C5RsAdYgFi6ExpN_fCHy1BRFMuOmS0hS.xml  \n",
            "  inflating: Annotations/243445c4-ucexportviewid1thTfysjo5f8qhzqwpajDwFN4UOW-SeVr.xml  \n",
            "  inflating: Annotations/27a4c99e-ucexportviewid12t_hU0C6JRso0KEiGN5fLdAn7JOF4ygY.xml  \n",
            "  inflating: Annotations/293a4001-ucexportviewid1YTnvCAAO2NbG09U8UamPdtUizu8PUBcH.xml  \n",
            "  inflating: Annotations/2a032bec-ucexportviewid1-Pn6DUgI1f69ynVEi8KZD7oSPq1QTjwL.xml  \n",
            "  inflating: Annotations/2b514df0-ucexportviewid1uKrRUVF3mvUiS1rF-jkVq1t2ENWgM9jH.xml  \n",
            "  inflating: Annotations/2dd50508-ucexportviewid1Ojqa-6i_bZ18MKr-iL8Mjll_CQ0D4Htr.xml  \n",
            "  inflating: Annotations/2f147793-ucexportviewid11-TGuozaEXxU7k1aTwsKJ79JYoq3oUIH.xml  \n",
            "  inflating: Annotations/326e8080-ucexportviewid1No_i5chHMRdwy1no5Hyw2uPQLGxA9yiN.xml  \n",
            "  inflating: Annotations/35f74292-ucexportviewid1uw_q5fQ2XgeZJovAdupCqgyaA3pDVzqf.xml  \n",
            "  inflating: Annotations/3911c18b-ucexportviewid1BzRQtxl7_4ituiM8BG7-5Ccb1Codbv1g.xml  \n",
            "  inflating: Annotations/3af8c640-ucexportviewid1mHoSU6mdl_XHXR_x7CNsQj8q5aMPhUNd.xml  \n",
            "  inflating: Annotations/3c7e1f7e-ucexportviewid1nBqWtCVxPr58dSO1fm2hr86Ke1LfGoi6.xml  \n",
            "  inflating: Annotations/410f1575-ucexportviewid1f_0MQhs_8mVv3TQeil_YuXmQWvCotG41.xml  \n",
            "  inflating: Annotations/41c30de9-ucexportviewid170kP6x23IRRyrZbPM8Cpl8oeww_-JclP.xml  \n",
            "  inflating: Annotations/45b0c896-ucexportviewid1Cwf2tpfibD8KrQT44mgoBaanqvjbg3Re.xml  \n",
            "  inflating: Annotations/46649953-ucexportviewid1d6SLWrfVGsvgziqfMXPrY1dFbIO8Ijnt.xml  \n",
            "  inflating: Annotations/467c1b64-ucexportviewid1er2Ki9LnuPd8N3RzjCHoWiwGhuUnLmeC.xml  \n",
            "  inflating: Annotations/485fa9fe-ucexportviewid1s187BkSOAfdY_KGhB9ytF9nLXnTEzXeh.xml  \n",
            "  inflating: Annotations/4a868ff3-ucexportviewid107Wrs9yQa_zaKgSMhIsjZdAyafMDQqiI.xml  \n",
            "  inflating: Annotations/4d5b899a-ucexportviewid1YtkzpZjkwVxuGxR-sq2L7HDvr_-AS_kJ.xml  \n",
            "  inflating: Annotations/4e4db9c7-ucexportviewid1qeMw8w4SLv2jA5diP4ULvVtugJL98L-l.xml  \n",
            "  inflating: Annotations/4f8050b6-ucexportviewid11P6pQQ5rmGVzcLR0P762M-yYgB-HD1JA.xml  \n",
            "  inflating: Annotations/532fa678-ucexportviewid10WYCEoo1m1ZWYt3nfoao-lQICuL6EozE.xml  \n",
            "  inflating: Annotations/533a55a1-ucexportviewid1_jo75EYN9D6NKYWg-K9bfvYKhitriGly.xml  \n",
            "  inflating: Annotations/53ad8851-ucexportviewid1IIdq1XhXN1IEQz8mmAePM_AHPtX0d2eA.xml  \n",
            "  inflating: Annotations/57acfacc-ucexportviewid1R22p9c0c6NR0VOQeJhfGAytOJzVrYyTR.xml  \n",
            "  inflating: Annotations/5977d0f7-ucexportviewid1aUrZLzHTc68v9Ays29pgBO5ED87EhJv-.xml  \n",
            "  inflating: Annotations/5b621494-ucexportviewid1o9PAU3XClcaUP9Q1UCnw0AVvZToF1lzL.xml  \n",
            "  inflating: Annotations/5c7c7e63-ucexportviewid1pisEkYouPfv8k8VpZrdTkvpq1vIA4s5n.xml  \n",
            "  inflating: Annotations/5cd216c6-ucexportviewid1x34pgJbAw4GQl0LbZM6MqN-CqURoCSvS.xml  \n",
            "  inflating: Annotations/5d34d0ac-ucexportviewid1tY6SxtBaYZaGhTn3Dlu04mER9Dx_iU2S.xml  \n",
            "  inflating: Annotations/5eb95eb7-ucexportviewid118UT4tu_lMHolUY2BTuwejOnlXjkm_CW.xml  \n",
            "  inflating: Annotations/5f4e6a1e-ucexportviewid1f4_uXtX71Dn13qkUO-QYeue8fXTTs4d0.xml  \n",
            "  inflating: Annotations/606d5dd2-ucexportviewid1ryLI3zoScoPsH_hcIYk1DbIKYmkWlDr8.xml  \n",
            "  inflating: Annotations/627c8691-ucexportviewid1qu_nnBFfaMzx7QcAHqgKaF3XjofRxm2l.xml  \n",
            "  inflating: Annotations/63756b56-ucexportviewid1hCojDurFg1WWGYx0n2VtsfflUly4-Sxy.xml  \n",
            "  inflating: Annotations/679f1761-ucexportviewid1P7OR9RB1kAYZYG8bQyd9Xor5AH-Lj5iK.xml  \n",
            "  inflating: Annotations/6ad6148f-ucexportviewid13h7djiq0Wshh3W60T9SIEb17bWIw-9pQ.xml  \n",
            "  inflating: Annotations/6afcd6cd-ucexportviewid1xb1tpQrqM-VzwXDxSvFofewiDhcLHduU.xml  \n",
            "  inflating: Annotations/6c22bec0-ucexportviewid1fXD-uokOmFbPNytsm2B2o5oki9FLoFo-.xml  \n",
            "  inflating: Annotations/6d4c395f-ucexportviewid1mhWnTnh4linWjT95IQZ7MlUXOTVPHsbs.xml  \n",
            "  inflating: Annotations/6ea9859c-ucexportviewid1LS2fAIDRPor6QsR5m03dDNxnv-5KwtG2.xml  \n",
            "  inflating: Annotations/71a6620b-ucexportviewid1eDZUyk9qyKzw0vgFw9jXCjjGMMYUQ263.xml  \n",
            "  inflating: Annotations/7262c835-ucexportviewid1RmME1jQT7vu--EFQ_lrtNq6x_E-lm_Wl.xml  \n",
            "  inflating: Annotations/73215383-ucexportviewid1rGntjvFuxgHpYp7CDcNiJnQ2JrQBZgH-.xml  \n",
            "  inflating: Annotations/753031de-ucexportviewid1ujfC_PnPTa70GxPyfCGxjv8S6p0z5Omq.xml  \n",
            "  inflating: Annotations/75b142e1-ucexportviewid1Lgt7bNDgVFHdMydeVoPi0pf2NtkmDhqI.xml  \n",
            "  inflating: Annotations/78b3e198-ucexportviewid11KtCDiYRpe6nEXF1G5tohrGu9cEhTGau.xml  \n",
            "  inflating: Annotations/7b38d8df-ucexportviewid1P8yyBsE5zBC433qpVDVFqthhqYpg92fi.xml  \n",
            "  inflating: Annotations/7d08e090-ucexportviewid1_90kowaETwBfBKK8lPSO33J8zB3iKcAV.xml  \n",
            "  inflating: Annotations/804f05d4-ucexportviewid1XAVvM77chHsCOpWN1Xjm6Z9yah4yWk2v.xml  \n",
            "  inflating: Annotations/837d6da5-ucexportviewid1xHiWr2C_0seLQbOkcKuidEmbLDWid_Wk.xml  \n",
            "  inflating: Annotations/889fb284-ucexportviewid10RwurRPVLEW63OfFsrEu5FOcTlkfac87.xml  \n",
            "  inflating: Annotations/88a35b87-ucexportviewid1ok7_sWZItxq3oVgg6GmlyVRjphplLCv3.xml  \n",
            "  inflating: Annotations/8915de64-ucexportviewid1J-48S4yo_k2YYM39bTXNyt2KhSMEUPQ8.xml  \n",
            "  inflating: Annotations/8afa37dc-ucexportviewid1NXKo9gtRyA5N4nZRqc9rvJxrEl8zt6Ja.xml  \n",
            "  inflating: Annotations/8bcb681c-ucexportviewid1lqmDKDVO69vbn1GpqgTKt09P8NrlLoN6.xml  \n",
            "  inflating: Annotations/8cb099ac-ucexportviewid1G5xcRN7wNXnPeZBiKD4wWAuaj1wWkGyd.xml  \n",
            "  inflating: Annotations/8f282d28-ucexportviewid1WcUSRHR_wViDM30uOdxFlO9UlCiga7tz.xml  \n",
            "  inflating: Annotations/9086ea55-ucexportviewid1JokQ_bWHuR-P1I2pB-emUxI5ZIcAxxLZ.xml  \n",
            "  inflating: Annotations/92aa4543-ucexportviewid1zKvuoz26GjGhm9jxyoj8cAEDTmhyUZZH.xml  \n",
            "  inflating: Annotations/92d2d4ef-ucexportviewid1aPzAUHbtv-kvbk3aiXmGHA05zgHySAro.xml  \n",
            "  inflating: Annotations/93cb2c79-ucexportviewid1aBRV9a0tiwwdq0-Mq3aqmW7VU-JyYQcF.xml  \n",
            "  inflating: Annotations/949a79a8-ucexportviewid1mm8lFKr526qTFbdKjwPHVNPv8hm6EPti.xml  \n",
            "  inflating: Annotations/94d30368-ucexportviewid18kmqsnrVlgiMAqIm6gxr4S7hUsn9m_Nr.xml  \n",
            "  inflating: Annotations/97f7a717-ucexportviewid1RaTqpMDvy0HdUuUDyxU4kNTXc94ARxxM.xml  \n",
            "  inflating: Annotations/988f34e9-ucexportviewid1SGbyxHZv2owM7rCxE7r7b8xvTI1ssoX7.xml  \n",
            "  inflating: Annotations/98b5e215-ucexportviewid1aBlVzN3CtcrlBypBgg7Y2MYy4SyCuGqJ.xml  \n",
            "  inflating: Annotations/98ce4d76-ucexportviewid1yWwEt-A5jKuXbqLYkCeUghLucBxLeI_X.xml  \n",
            "  inflating: Annotations/9b0182bf-ucexportviewid12CxjxK0EzCn78VvzH--6C38LZdZEq7zK.xml  \n",
            "  inflating: Annotations/a00c0a8b-ucexportviewid1btdN1rus0HlsfWPRhDoE4uCwcU1T705m.xml  \n",
            "  inflating: Annotations/a053f612-ucexportviewid1dqJL97ojXdGfDESDUMP8orakKTi5Y0ty.xml  \n",
            "  inflating: Annotations/a064371c-ucexportviewid1QJk7lZNbBYLH09zswqQ2jMZggOcOyyIJ.xml  \n",
            "  inflating: Annotations/a11b8381-ucexportviewid1A1lCS7jt7kqBsIuHIAbHdPAhTjV0DNFk.xml  \n",
            "  inflating: Annotations/a1e03bb9-ucexportviewid1T4j3PNAETPogIw8mtfQzjZNXU6oQXZJA.xml  \n",
            "  inflating: Annotations/a63b249d-ucexportviewid16ZF0uzfiN39z0vuhlyYHqMcZEMD8o20-.xml  \n",
            "  inflating: Annotations/a71c9e7f-ucexportviewid19qZsvua_7a59GLiqO_WXQ9Q6QgtP6qks.xml  \n",
            "  inflating: Annotations/a8767b83-ucexportviewid1OM2lIZHgKBx8XD7QIeW4vsgL0RtZgOHs.xml  \n",
            "  inflating: Annotations/a9ee0e7a-ucexportviewid1kEMsB3GpPfM9tvijT4YjK9tTOVBSt5O_.xml  \n",
            "  inflating: Annotations/ad42cb7c-ucexportviewid1Cc3V0-vzTP6lhmStTPEJ77OXCFr0aZv4.xml  \n",
            "  inflating: Annotations/ae7fd985-ucexportviewid188qgrSkLT_EXz8CzyPLCTh5-RBfnFCr-.xml  \n",
            "  inflating: Annotations/af4eb658-ucexportviewid1SrXHzS2KjuZNNQ6Z6t-sB0vbh3B9m7Q5.xml  \n",
            "  inflating: Annotations/af9ba09f-ucexportviewid1Nviu12HFVWVU9APLEepBBKKDCiCMn9Gw.xml  \n",
            "  inflating: Annotations/b0b731d2-ucexportviewid1NmdGn8kf4YC8trv238nK3vbyi93SG4yp.xml  \n",
            "  inflating: Annotations/b35f4dd3-ucexportviewid1R6uRiON_-K8gAnelLCe98scHYlnxsmAV.xml  \n",
            "  inflating: Annotations/b3bb1a14-ucexportviewid1EzaIPsCFLsr3FYA_h4GBVKPvzo0KW3I9.xml  \n",
            "  inflating: Annotations/b4666bfc-ucexportviewid1c_lkhxCxCpu8A6nTPnweRkFHvK2cE_TL.xml  \n",
            "  inflating: Annotations/b4f11107-ucexportviewid1ITAsw7RI2ukFDw0B7U4mO1dCMaicIRVW.xml  \n",
            "  inflating: Annotations/b5afde09-ucexportviewid1OmDP_hGJ7p50sacfA9wW1RLsltGN0UKC.xml  \n",
            "  inflating: Annotations/b9c8f838-ucexportviewid1-M3soxm1usZwpHjV9YuXdYCzUuiWPyfo.xml  \n",
            "  inflating: Annotations/bb21ab2e-ucexportviewid1BZ-0V1kDQI6fHipF-YvdU-wbA0HScpfa.xml  \n",
            "  inflating: Annotations/bb37b7bf-ucexportviewid1cwZoForOLD7KnUqDlhGKXHLRaL6S44ot.xml  \n",
            "  inflating: Annotations/c046237a-ucexportviewid17jRvYCUgP_wBZ7o9BW_nn0xDgVgIeMH2.xml  \n",
            "  inflating: Annotations/c145b724-ucexportviewid1G0trRo4PrZGAU1mCZvsIYRGJ7HL2hEiy.xml  \n",
            "  inflating: Annotations/c1c798c1-ucexportviewid1w7Wkn22nwrMI5CyqUJHJPejQrklRVz6S.xml  \n",
            "  inflating: Annotations/c1eba888-ucexportviewid1vr-L2N8hFGnzptu19CknxuTW-I47G0D7.xml  \n",
            "  inflating: Annotations/c1f018af-ucexportviewid113KegWhDFYIcje2C3E9aM3cofz_NPj8I.xml  \n",
            "  inflating: Annotations/c229e515-ucexportviewid142eAbkfsR2QBgmBVsFkd-9Uch-kq7o3F.xml  \n",
            "  inflating: Annotations/c2af454c-ucexportviewid1dXfTC_daTIyxJ3xi6JIiX_ib1kxAPw6D.xml  \n",
            "  inflating: Annotations/c3bed3f8-ucexportviewid1oQVAqQtNpLAm--GksqDhjIcmdq0h8SUd.xml  \n",
            "  inflating: Annotations/ca0028a6-ucexportviewid1xT6D0qi7IvsPOXPyu444BnQc7Uh63CKs.xml  \n",
            "  inflating: Annotations/cb0432df-ucexportviewid1t2AWBhIqqvdno21q2Iw4RSC86T2Zg9qR.xml  \n",
            "  inflating: Annotations/cc8284f0-ucexportviewid1PcDqjZMDCPwwJwXTEUvoZK-W83nDcXYL.xml  \n",
            "  inflating: Annotations/cce9500d-ucexportviewid1uWbcQLnctcW2wmN5DAVOl4XZdURXg5PK.xml  \n",
            "  inflating: Annotations/cfbbf5ff-ucexportviewid1XGC3_tZ65em5WN3HwWB1ZasZXRZopOQw.xml  \n",
            "  inflating: Annotations/d0b0aee5-ucexportviewid18B-kPjygAX8Lfn3YIskM8OWxCJIOXB8Y.xml  \n",
            "  inflating: Annotations/d13f78f4-ucexportviewid1mBx_ikOd6tsmYPyvN-_a6e5On7owWZUb.xml  \n",
            "  inflating: Annotations/d21c90a3-ucexportviewid1dmT6XVDzsKdQjAUc1QjKAHVW3LGw06YJ.xml  \n",
            "  inflating: Annotations/d4d58205-ucexportviewid1VwZrp6639R4VijcGXI_ax1a2zm-6N5Ql.xml  \n",
            "  inflating: Annotations/d5dba8e3-ucexportviewid1J3DADFes4Sge4QcwGXGaB0f0U3_COVsz.xml  \n",
            "  inflating: Annotations/d9861ca0-ucexportviewid1HpB3Zu1Q7CNHRTBppECfVlMOxuDxo1r_.xml  \n",
            "  inflating: Annotations/d9ee873b-ucexportviewid1mvcrpl9pca9ek12bx8srGpa0Z96xmHMn.xml  \n",
            "  inflating: Annotations/dd309436-ucexportviewid1NgoKtvu0BVZGcsPLp2wGOWxmN_YDK5Nd.xml  \n",
            "  inflating: Annotations/df02541e-ucexportviewid1zVbvfjhM4jcc0unwHbtXJpxnr1evxEJj.xml  \n",
            "  inflating: Annotations/e6649dd8-ucexportviewid1GxUAHZdaz2v5bX7Bktfhimlmb5c0QYFo.xml  \n",
            "  inflating: Annotations/e69e886b-ucexportviewid1guUoDEKogrpwO4FntVkPEoFlkRiC-z52.xml  \n",
            "  inflating: Annotations/e740ad6e-ucexportviewid1Bo0tPdDxvrEUoqGDmz9aNU-dycXB-DET.xml  \n",
            "  inflating: Annotations/e7aac77d-ucexportviewid1JgZREop5J3DVAJAdsRdtTaHmcHH-cD6h.xml  \n",
            "  inflating: Annotations/e7c10e94-ucexportviewid14-n3laU29GpyHeg5OQ4sLug16lE_BbbI.xml  \n",
            "  inflating: Annotations/ede71db5-ucexportviewid1CrvQC0bJ2P0kmeA5HJytA76z1ZlSPvxT.xml  \n",
            "  inflating: Annotations/f0c31827-ucexportviewid1JuGf2iQ4cBZ0toEcqvM_tf_EvDzGaKRL.xml  \n",
            "  inflating: Annotations/f396cbf8-ucexportviewid1g6nyjlbF0ZLcgFswc8w-tQ20TAxWLl0E.xml  \n",
            "  inflating: Annotations/f691615e-ucexportviewid1CwBjRt3gniU-2JqVL-9-KqCCKyY8AgJp.xml  \n",
            "  inflating: Annotations/f6d172eb-ucexportviewid1Nnsw3YllL45M5Ojl6byvfsweZpUqnk5x.xml  \n",
            "  inflating: Annotations/f7b40846-ucexportviewid1su-6jDvbue7KktR7PouVjSTNzQWOMXeG.xml  \n",
            "  inflating: Annotations/fbab6f68-ucexportviewid1rUTmW2AWMwb7jcn8hKGbxhO9Ln3TZOOd.xml  \n",
            "  inflating: Annotations/fc3c619b-ucexportviewid1is-JjcAYkX43DcTjxMBHCyHHp-kMsFWV.xml  \n",
            "  inflating: Annotations/fcb23cc8-ucexportviewid1QZMDYJqabjGLvTVqjWHHbh-uzPUDYP11.xml  \n",
            "  inflating: Annotations/fcf901cd-ucexportviewid1CDdNa98YXDnX4zUUcLFVHeNxBUCHp-x0.xml  \n",
            "  inflating: Annotations/fec7b275-ucexportviewid1efBzJwxXk7V-bftRd3lybezVlziwXOm7.xml  \n",
            "  inflating: Annotations/ff8d7a8c-ucexportviewid1DVaJzJVNv-WisI6q1cHlZ3_UVviOD2li.xml  \n",
            "  inflating: images/046224d4-ucexportviewid1B5GhsjXqf3PLlOp6N_o7AT35yVLzHCn1  \n",
            "  inflating: images/0482ff6a-ucexportviewid1KyIsjTQRoRQxIGuzeJRIIrFDK4kvQHQW  \n",
            "  inflating: images/06e7d9c8-ucexportviewid1ROD7QNzz4g-e5SOuayICHwN2FV_QBvB_  \n",
            "  inflating: images/0b3d3dd2-ucexportviewid16J-HHqnScUJAKHk-ifs5aMhOrnbRWqFY  \n",
            "  inflating: images/0bca9b06-ucexportviewid1N7mJFKEcLZdumY4dJiq5wh_W8VRBD5eW  \n",
            "  inflating: images/0bfe5c9c-ucexportviewid1EtIosB2IjoNXnVCa8ym8rcCyVqgbkdVN  \n",
            "  inflating: images/0c585f22-ucexportviewid10MIcic4IIG0OJQYx23JNONq7g-dQw-N3  \n",
            "  inflating: images/0d0f794b-ucexportviewid1m210g0SIs0h-bZDA7iXs5Cvam9sNBFrj  \n",
            "  inflating: images/0d35c5d6-ucexportviewid1GwirKZfxScjlgVmCeg4o7WqU0oIDAN6w  \n",
            "  inflating: images/0d41133a-ucexportviewid1mhPnAbVqoVHccJ_S_b4J7GwKuttmnxCi  \n",
            "  inflating: images/0efe829e-ucexportviewid17dEZc9Hb6M1BWQKn0BvAJLmBz_OTsuWK  \n",
            "  inflating: images/1005cc8d-ucexportviewid1nP1juu5kLHuUTubnA2APMKohfUUcBqMH  \n",
            "  inflating: images/109aeed1-ucexportviewid1S7JwSylvB89VC8t_2ZIQU_3GY4NHw741  \n",
            "  inflating: images/11f47df8-ucexportviewid1j3JibiztB0s4uiwnQh19U1fKQf_esi6x  \n",
            "  inflating: images/142991a9-ucexportviewid1fT1WZkMWaKKr5jXMOe7dS3sh6Nu2LJXg  \n",
            "  inflating: images/144ff4f5-ucexportviewid1-5jFPt0tPUGnxpWlJSN1Eq1sXnK6UyLj  \n",
            "  inflating: images/148ba476-ucexportviewid1U0sxgf_8w1Vj7TAPQKtjeK2-O3Umoh7Q  \n",
            "  inflating: images/16076650-ucexportviewid1bthsbueEzIpupfPmXIN17rI1wOxXuaWf  \n",
            "  inflating: images/1ac2c465-ucexportviewid1M3rv_CyqfShHOjOlYBx8TjxxGWJTcsoY  \n",
            "  inflating: images/1ad82b17-ucexportviewid1MWACua9bs3SfCJ6mg1TysmjJRuRuTVWa  \n",
            "  inflating: images/1aee7ef5-ucexportviewid1PYgUt3I4fJIKwmKeekq2DFd5B6r2dsSz  \n",
            "  inflating: images/1c2468b7-ucexportviewid1Kxah2bpCI1RzBks4x7Zssk0rHMkTirv2  \n",
            "  inflating: images/216261ee-ucexportviewid1C5RsAdYgFi6ExpN_fCHy1BRFMuOmS0hS  \n",
            "  inflating: images/243445c4-ucexportviewid1thTfysjo5f8qhzqwpajDwFN4UOW-SeVr  \n",
            "  inflating: images/27a4c99e-ucexportviewid12t_hU0C6JRso0KEiGN5fLdAn7JOF4ygY  \n",
            "  inflating: images/293a4001-ucexportviewid1YTnvCAAO2NbG09U8UamPdtUizu8PUBcH  \n",
            "  inflating: images/2a032bec-ucexportviewid1-Pn6DUgI1f69ynVEi8KZD7oSPq1QTjwL  \n",
            "  inflating: images/2b514df0-ucexportviewid1uKrRUVF3mvUiS1rF-jkVq1t2ENWgM9jH  \n",
            "  inflating: images/2dd50508-ucexportviewid1Ojqa-6i_bZ18MKr-iL8Mjll_CQ0D4Htr  \n",
            "  inflating: images/2f147793-ucexportviewid11-TGuozaEXxU7k1aTwsKJ79JYoq3oUIH  \n",
            "  inflating: images/326e8080-ucexportviewid1No_i5chHMRdwy1no5Hyw2uPQLGxA9yiN  \n",
            "  inflating: images/35f74292-ucexportviewid1uw_q5fQ2XgeZJovAdupCqgyaA3pDVzqf  \n",
            "  inflating: images/3911c18b-ucexportviewid1BzRQtxl7_4ituiM8BG7-5Ccb1Codbv1g  \n",
            "  inflating: images/3af8c640-ucexportviewid1mHoSU6mdl_XHXR_x7CNsQj8q5aMPhUNd  \n",
            "  inflating: images/3c7e1f7e-ucexportviewid1nBqWtCVxPr58dSO1fm2hr86Ke1LfGoi6  \n",
            "  inflating: images/410f1575-ucexportviewid1f_0MQhs_8mVv3TQeil_YuXmQWvCotG41  \n",
            "  inflating: images/41c30de9-ucexportviewid170kP6x23IRRyrZbPM8Cpl8oeww_-JclP  \n",
            "  inflating: images/45b0c896-ucexportviewid1Cwf2tpfibD8KrQT44mgoBaanqvjbg3Re  \n",
            "  inflating: images/46649953-ucexportviewid1d6SLWrfVGsvgziqfMXPrY1dFbIO8Ijnt  \n",
            "  inflating: images/467c1b64-ucexportviewid1er2Ki9LnuPd8N3RzjCHoWiwGhuUnLmeC  \n",
            "  inflating: images/485fa9fe-ucexportviewid1s187BkSOAfdY_KGhB9ytF9nLXnTEzXeh  \n",
            "  inflating: images/4a868ff3-ucexportviewid107Wrs9yQa_zaKgSMhIsjZdAyafMDQqiI  \n",
            "  inflating: images/4d5b899a-ucexportviewid1YtkzpZjkwVxuGxR-sq2L7HDvr_-AS_kJ  \n",
            "  inflating: images/4e4db9c7-ucexportviewid1qeMw8w4SLv2jA5diP4ULvVtugJL98L-l  \n",
            "  inflating: images/4f8050b6-ucexportviewid11P6pQQ5rmGVzcLR0P762M-yYgB-HD1JA  \n",
            "  inflating: images/532fa678-ucexportviewid10WYCEoo1m1ZWYt3nfoao-lQICuL6EozE  \n",
            "  inflating: images/533a55a1-ucexportviewid1_jo75EYN9D6NKYWg-K9bfvYKhitriGly  \n",
            "  inflating: images/53ad8851-ucexportviewid1IIdq1XhXN1IEQz8mmAePM_AHPtX0d2eA  \n",
            "  inflating: images/57acfacc-ucexportviewid1R22p9c0c6NR0VOQeJhfGAytOJzVrYyTR  \n",
            "  inflating: images/5977d0f7-ucexportviewid1aUrZLzHTc68v9Ays29pgBO5ED87EhJv-  \n",
            "  inflating: images/5b621494-ucexportviewid1o9PAU3XClcaUP9Q1UCnw0AVvZToF1lzL  \n",
            "  inflating: images/5c7c7e63-ucexportviewid1pisEkYouPfv8k8VpZrdTkvpq1vIA4s5n  \n",
            "  inflating: images/5cd216c6-ucexportviewid1x34pgJbAw4GQl0LbZM6MqN-CqURoCSvS  \n",
            "  inflating: images/5d34d0ac-ucexportviewid1tY6SxtBaYZaGhTn3Dlu04mER9Dx_iU2S  \n",
            "  inflating: images/5eb95eb7-ucexportviewid118UT4tu_lMHolUY2BTuwejOnlXjkm_CW  \n",
            "  inflating: images/5f4e6a1e-ucexportviewid1f4_uXtX71Dn13qkUO-QYeue8fXTTs4d0  \n",
            "  inflating: images/606d5dd2-ucexportviewid1ryLI3zoScoPsH_hcIYk1DbIKYmkWlDr8  \n",
            "  inflating: images/627c8691-ucexportviewid1qu_nnBFfaMzx7QcAHqgKaF3XjofRxm2l  \n",
            "  inflating: images/63756b56-ucexportviewid1hCojDurFg1WWGYx0n2VtsfflUly4-Sxy  \n",
            "  inflating: images/679f1761-ucexportviewid1P7OR9RB1kAYZYG8bQyd9Xor5AH-Lj5iK  \n",
            "  inflating: images/6ad6148f-ucexportviewid13h7djiq0Wshh3W60T9SIEb17bWIw-9pQ  \n",
            "  inflating: images/6afcd6cd-ucexportviewid1xb1tpQrqM-VzwXDxSvFofewiDhcLHduU  \n",
            "  inflating: images/6c22bec0-ucexportviewid1fXD-uokOmFbPNytsm2B2o5oki9FLoFo-  \n",
            "  inflating: images/6d4c395f-ucexportviewid1mhWnTnh4linWjT95IQZ7MlUXOTVPHsbs  \n",
            "  inflating: images/6ea9859c-ucexportviewid1LS2fAIDRPor6QsR5m03dDNxnv-5KwtG2  \n",
            "  inflating: images/71a6620b-ucexportviewid1eDZUyk9qyKzw0vgFw9jXCjjGMMYUQ263  \n",
            "  inflating: images/7262c835-ucexportviewid1RmME1jQT7vu--EFQ_lrtNq6x_E-lm_Wl  \n",
            "  inflating: images/73215383-ucexportviewid1rGntjvFuxgHpYp7CDcNiJnQ2JrQBZgH-  \n",
            "  inflating: images/753031de-ucexportviewid1ujfC_PnPTa70GxPyfCGxjv8S6p0z5Omq  \n",
            "  inflating: images/75b142e1-ucexportviewid1Lgt7bNDgVFHdMydeVoPi0pf2NtkmDhqI  \n",
            "  inflating: images/78b3e198-ucexportviewid11KtCDiYRpe6nEXF1G5tohrGu9cEhTGau  \n",
            "  inflating: images/7b38d8df-ucexportviewid1P8yyBsE5zBC433qpVDVFqthhqYpg92fi  \n",
            "  inflating: images/7d08e090-ucexportviewid1_90kowaETwBfBKK8lPSO33J8zB3iKcAV  \n",
            "  inflating: images/804f05d4-ucexportviewid1XAVvM77chHsCOpWN1Xjm6Z9yah4yWk2v  \n",
            "  inflating: images/837d6da5-ucexportviewid1xHiWr2C_0seLQbOkcKuidEmbLDWid_Wk  \n",
            "  inflating: images/889fb284-ucexportviewid10RwurRPVLEW63OfFsrEu5FOcTlkfac87  \n",
            "  inflating: images/88a35b87-ucexportviewid1ok7_sWZItxq3oVgg6GmlyVRjphplLCv3  \n",
            "  inflating: images/8915de64-ucexportviewid1J-48S4yo_k2YYM39bTXNyt2KhSMEUPQ8  \n",
            "  inflating: images/8afa37dc-ucexportviewid1NXKo9gtRyA5N4nZRqc9rvJxrEl8zt6Ja  \n",
            "  inflating: images/8bcb681c-ucexportviewid1lqmDKDVO69vbn1GpqgTKt09P8NrlLoN6  \n",
            "  inflating: images/8cb099ac-ucexportviewid1G5xcRN7wNXnPeZBiKD4wWAuaj1wWkGyd  \n",
            "  inflating: images/8f282d28-ucexportviewid1WcUSRHR_wViDM30uOdxFlO9UlCiga7tz  \n",
            "  inflating: images/9086ea55-ucexportviewid1JokQ_bWHuR-P1I2pB-emUxI5ZIcAxxLZ  \n",
            "  inflating: images/92aa4543-ucexportviewid1zKvuoz26GjGhm9jxyoj8cAEDTmhyUZZH  \n",
            "  inflating: images/92d2d4ef-ucexportviewid1aPzAUHbtv-kvbk3aiXmGHA05zgHySAro  \n",
            "  inflating: images/93cb2c79-ucexportviewid1aBRV9a0tiwwdq0-Mq3aqmW7VU-JyYQcF  \n",
            "  inflating: images/949a79a8-ucexportviewid1mm8lFKr526qTFbdKjwPHVNPv8hm6EPti  \n",
            "  inflating: images/94d30368-ucexportviewid18kmqsnrVlgiMAqIm6gxr4S7hUsn9m_Nr  \n",
            "  inflating: images/97f7a717-ucexportviewid1RaTqpMDvy0HdUuUDyxU4kNTXc94ARxxM  \n",
            "  inflating: images/988f34e9-ucexportviewid1SGbyxHZv2owM7rCxE7r7b8xvTI1ssoX7  \n",
            "  inflating: images/98b5e215-ucexportviewid1aBlVzN3CtcrlBypBgg7Y2MYy4SyCuGqJ  \n",
            "  inflating: images/98ce4d76-ucexportviewid1yWwEt-A5jKuXbqLYkCeUghLucBxLeI_X  \n",
            "  inflating: images/9b0182bf-ucexportviewid12CxjxK0EzCn78VvzH--6C38LZdZEq7zK  \n",
            "  inflating: images/a00c0a8b-ucexportviewid1btdN1rus0HlsfWPRhDoE4uCwcU1T705m  \n",
            "  inflating: images/a053f612-ucexportviewid1dqJL97ojXdGfDESDUMP8orakKTi5Y0ty  \n",
            "  inflating: images/a064371c-ucexportviewid1QJk7lZNbBYLH09zswqQ2jMZggOcOyyIJ  \n",
            "  inflating: images/a11b8381-ucexportviewid1A1lCS7jt7kqBsIuHIAbHdPAhTjV0DNFk  \n",
            "  inflating: images/a1e03bb9-ucexportviewid1T4j3PNAETPogIw8mtfQzjZNXU6oQXZJA  \n",
            "  inflating: images/a63b249d-ucexportviewid16ZF0uzfiN39z0vuhlyYHqMcZEMD8o20-  \n",
            "  inflating: images/a71c9e7f-ucexportviewid19qZsvua_7a59GLiqO_WXQ9Q6QgtP6qks  \n",
            "  inflating: images/a8767b83-ucexportviewid1OM2lIZHgKBx8XD7QIeW4vsgL0RtZgOHs  \n",
            "  inflating: images/a9ee0e7a-ucexportviewid1kEMsB3GpPfM9tvijT4YjK9tTOVBSt5O_  \n",
            "  inflating: images/ad42cb7c-ucexportviewid1Cc3V0-vzTP6lhmStTPEJ77OXCFr0aZv4  \n",
            "  inflating: images/ae7fd985-ucexportviewid188qgrSkLT_EXz8CzyPLCTh5-RBfnFCr-  \n",
            "  inflating: images/af4eb658-ucexportviewid1SrXHzS2KjuZNNQ6Z6t-sB0vbh3B9m7Q5  \n",
            "  inflating: images/af9ba09f-ucexportviewid1Nviu12HFVWVU9APLEepBBKKDCiCMn9Gw  \n",
            "  inflating: images/b0b731d2-ucexportviewid1NmdGn8kf4YC8trv238nK3vbyi93SG4yp  \n",
            "  inflating: images/b35f4dd3-ucexportviewid1R6uRiON_-K8gAnelLCe98scHYlnxsmAV  \n",
            "  inflating: images/b3bb1a14-ucexportviewid1EzaIPsCFLsr3FYA_h4GBVKPvzo0KW3I9  \n",
            "  inflating: images/b4666bfc-ucexportviewid1c_lkhxCxCpu8A6nTPnweRkFHvK2cE_TL  \n",
            "  inflating: images/b4f11107-ucexportviewid1ITAsw7RI2ukFDw0B7U4mO1dCMaicIRVW  \n",
            "  inflating: images/b5afde09-ucexportviewid1OmDP_hGJ7p50sacfA9wW1RLsltGN0UKC  \n",
            "  inflating: images/b9c8f838-ucexportviewid1-M3soxm1usZwpHjV9YuXdYCzUuiWPyfo  \n",
            "  inflating: images/bb21ab2e-ucexportviewid1BZ-0V1kDQI6fHipF-YvdU-wbA0HScpfa  \n",
            "  inflating: images/bb37b7bf-ucexportviewid1cwZoForOLD7KnUqDlhGKXHLRaL6S44ot  \n",
            "  inflating: images/c046237a-ucexportviewid17jRvYCUgP_wBZ7o9BW_nn0xDgVgIeMH2  \n",
            "  inflating: images/c145b724-ucexportviewid1G0trRo4PrZGAU1mCZvsIYRGJ7HL2hEiy  \n",
            "  inflating: images/c1c798c1-ucexportviewid1w7Wkn22nwrMI5CyqUJHJPejQrklRVz6S  \n",
            "  inflating: images/c1eba888-ucexportviewid1vr-L2N8hFGnzptu19CknxuTW-I47G0D7  \n",
            "  inflating: images/c1f018af-ucexportviewid113KegWhDFYIcje2C3E9aM3cofz_NPj8I  \n",
            "  inflating: images/c229e515-ucexportviewid142eAbkfsR2QBgmBVsFkd-9Uch-kq7o3F  \n",
            "  inflating: images/c2af454c-ucexportviewid1dXfTC_daTIyxJ3xi6JIiX_ib1kxAPw6D  \n",
            "  inflating: images/c3bed3f8-ucexportviewid1oQVAqQtNpLAm--GksqDhjIcmdq0h8SUd  \n",
            "  inflating: images/ca0028a6-ucexportviewid1xT6D0qi7IvsPOXPyu444BnQc7Uh63CKs  \n",
            "  inflating: images/cb0432df-ucexportviewid1t2AWBhIqqvdno21q2Iw4RSC86T2Zg9qR  \n",
            "  inflating: images/cc8284f0-ucexportviewid1PcDqjZMDCPwwJwXTEUvoZK-W83nDcXYL  \n",
            "  inflating: images/cce9500d-ucexportviewid1uWbcQLnctcW2wmN5DAVOl4XZdURXg5PK  \n",
            "  inflating: images/cfbbf5ff-ucexportviewid1XGC3_tZ65em5WN3HwWB1ZasZXRZopOQw  \n",
            "  inflating: images/d0b0aee5-ucexportviewid18B-kPjygAX8Lfn3YIskM8OWxCJIOXB8Y  \n",
            "  inflating: images/d13f78f4-ucexportviewid1mBx_ikOd6tsmYPyvN-_a6e5On7owWZUb  \n",
            "  inflating: images/d21c90a3-ucexportviewid1dmT6XVDzsKdQjAUc1QjKAHVW3LGw06YJ  \n",
            "  inflating: images/d4d58205-ucexportviewid1VwZrp6639R4VijcGXI_ax1a2zm-6N5Ql  \n",
            "  inflating: images/d5dba8e3-ucexportviewid1J3DADFes4Sge4QcwGXGaB0f0U3_COVsz  \n",
            "  inflating: images/d9861ca0-ucexportviewid1HpB3Zu1Q7CNHRTBppECfVlMOxuDxo1r_  \n",
            "  inflating: images/d9ee873b-ucexportviewid1mvcrpl9pca9ek12bx8srGpa0Z96xmHMn  \n",
            "  inflating: images/dd309436-ucexportviewid1NgoKtvu0BVZGcsPLp2wGOWxmN_YDK5Nd  \n",
            "  inflating: images/df02541e-ucexportviewid1zVbvfjhM4jcc0unwHbtXJpxnr1evxEJj  \n",
            "  inflating: images/e6649dd8-ucexportviewid1GxUAHZdaz2v5bX7Bktfhimlmb5c0QYFo  \n",
            "  inflating: images/e69e886b-ucexportviewid1guUoDEKogrpwO4FntVkPEoFlkRiC-z52  \n",
            "  inflating: images/e740ad6e-ucexportviewid1Bo0tPdDxvrEUoqGDmz9aNU-dycXB-DET  \n",
            "  inflating: images/e7aac77d-ucexportviewid1JgZREop5J3DVAJAdsRdtTaHmcHH-cD6h  \n",
            "  inflating: images/e7c10e94-ucexportviewid14-n3laU29GpyHeg5OQ4sLug16lE_BbbI  \n",
            "  inflating: images/ede71db5-ucexportviewid1CrvQC0bJ2P0kmeA5HJytA76z1ZlSPvxT  \n",
            "  inflating: images/f0c31827-ucexportviewid1JuGf2iQ4cBZ0toEcqvM_tf_EvDzGaKRL  \n",
            "  inflating: images/f396cbf8-ucexportviewid1g6nyjlbF0ZLcgFswc8w-tQ20TAxWLl0E  \n",
            "  inflating: images/f691615e-ucexportviewid1CwBjRt3gniU-2JqVL-9-KqCCKyY8AgJp  \n",
            "  inflating: images/f6d172eb-ucexportviewid1Nnsw3YllL45M5Ojl6byvfsweZpUqnk5x  \n",
            "  inflating: images/f7b40846-ucexportviewid1su-6jDvbue7KktR7PouVjSTNzQWOMXeG  \n",
            "  inflating: images/fbab6f68-ucexportviewid1rUTmW2AWMwb7jcn8hKGbxhO9Ln3TZOOd  \n",
            "  inflating: images/fc3c619b-ucexportviewid1is-JjcAYkX43DcTjxMBHCyHHp-kMsFWV  \n",
            "  inflating: images/fcb23cc8-ucexportviewid1QZMDYJqabjGLvTVqjWHHbh-uzPUDYP11  \n",
            "  inflating: images/fcf901cd-ucexportviewid1CDdNa98YXDnX4zUUcLFVHeNxBUCHp-x0  \n",
            "  inflating: images/fec7b275-ucexportviewid1efBzJwxXk7V-bftRd3lybezVlziwXOm7  \n",
            "  inflating: images/ff8d7a8c-ucexportviewid1DVaJzJVNv-WisI6q1cHlZ3_UVviOD2li  \n"
          ]
        }
      ]
    },
    {
      "cell_type": "code",
      "source": [
        "# Create new directory\n",
        "!mkdir /content/Train_Val/Annotation\n",
        "%cd \"/content/Train_Val/Annotation\""
      ],
      "metadata": {
        "colab": {
          "base_uri": "https://localhost:8080/"
        },
        "id": "ypjQmI1hAzw-",
        "outputId": "8af59cec-a47e-483b-e0d7-2504aa3778c4"
      },
      "execution_count": null,
      "outputs": [
        {
          "output_type": "stream",
          "name": "stdout",
          "text": [
            "/content/Train_Val/Annotation\n"
          ]
        }
      ]
    },
    {
      "cell_type": "code",
      "source": [
        "# Remove encoding in xml files\n",
        "\n",
        "path = \"/content/Train_Val/Annotations\"\n",
        "dstpath = \"/content/Train_Val/Annotation\"\n",
        "\n",
        "for filename in os.listdir(path):\n",
        "    if filename.endswith('.xml'):\n",
        "        tree = etree.parse(path+\"/\"+filename)\n",
        "        etree.strip_elements(tree, \"{*}openSession\", with_tail=True)\n",
        "        save = filename\n",
        "        tree.write(save)"
      ],
      "metadata": {
        "id": "722vXUsAAN1H"
      },
      "execution_count": null,
      "outputs": []
    },
    {
      "cell_type": "code",
      "source": [
        "# Remove old directory\n",
        "%cd /content/Train_Val\n",
        "!rm /content/Train_Val/Annotations/* /content/Train_Val/Annotations/.*\n",
        "!rmdir /content/Train_Val/Annotations"
      ],
      "metadata": {
        "colab": {
          "base_uri": "https://localhost:8080/"
        },
        "id": "wjTujzdErNFL",
        "outputId": "60954a23-2bd2-4a8c-a4a5-91d9b04cf13a"
      },
      "execution_count": null,
      "outputs": [
        {
          "output_type": "stream",
          "name": "stdout",
          "text": [
            "/content/Train_Val\n",
            "rm: cannot remove '/content/Train_Val/Annotations/.': Is a directory\n",
            "rm: cannot remove '/content/Train_Val/Annotations/..': Is a directory\n"
          ]
        }
      ]
    },
    {
      "cell_type": "markdown",
      "source": [
        "**Test Data Dir**"
      ],
      "metadata": {
        "id": "6hcr_rsPk1fj"
      }
    },
    {
      "cell_type": "code",
      "source": [
        "!mkdir /content/Test\n",
        "%cd /content/Test\n",
        "!unzip \"/content/gdrive/MyDrive/Capstone/C501/ModelPreparation/Dataset/Test_Dataset/PASCAL_VOC/Validation_Color_Ducky.zip\""
      ],
      "metadata": {
        "colab": {
          "base_uri": "https://localhost:8080/"
        },
        "id": "AcmgYCNzk7fY",
        "outputId": "4109412b-7120-408d-96bf-bf2b810bc76b"
      },
      "execution_count": null,
      "outputs": [
        {
          "output_type": "stream",
          "name": "stdout",
          "text": [
            "/content/Test\n",
            "Archive:  /content/gdrive/MyDrive/Capstone/C501/ModelPreparation/Dataset/Test_Dataset/PASCAL_VOC/Validation_Color_Ducky.zip\n",
            "   creating: Annotations/\n",
            "   creating: images/\n",
            "  inflating: Annotations/0009acc2-ucexportviewid1yQ105rIuwTIsZ2mb8FHOli0e8cKkKtnQ.xml  \n",
            "  inflating: Annotations/0f70df07-ucexportviewid1y29HbAKS7eGRFLjcyQAZCa0EO0Cct84C.xml  \n",
            "  inflating: Annotations/15ad6bf6-ucexportviewid16ESvS24M7wLwcamwV4PlZS3OaxC8cRVa.xml  \n",
            "  inflating: Annotations/15cee69a-ucexportviewid1DN73DJc0lq6UzQDTH8M_KVlao6rbl8Zn.xml  \n",
            "  inflating: Annotations/1f97bf6b-ucexportviewid1lIZ1EQArPWiZwgNf2oGuu3L56wN49s46.xml  \n",
            "  inflating: Annotations/3088b7ae-ucexportviewid1Hi1d9lzMDka0Biu546elHrUXgQcEOkLi.xml  \n",
            "  inflating: Annotations/30bf6899-ucexportviewid1v38anjPHbOPtTLGSxaxzZEPOuDv1ibR9.xml  \n",
            "  inflating: Annotations/33ac9ca7-ucexportviewid19BVqCWqqovhFS9NusaIdVKjhkcIxStpr.xml  \n",
            "  inflating: Annotations/39e54e56-ucexportviewid1c6Uyq6F0jbWW-7d4gdAgjGz2SyNOVxtZ.xml  \n",
            "  inflating: Annotations/46d4fd14-ucexportviewid14JTP6nbkk5QsG9c7BYNWAwhMhDvD-ut9.xml  \n",
            "  inflating: Annotations/478a1247-ucexportviewid1AQiBBUTqoucViRGo_RMTZs1M29BXVEZ_.xml  \n",
            "  inflating: Annotations/485c2604-ucexportviewid1X_v5bW4k9Nskz2w5gijcJs5SYlv69mEN.xml  \n",
            "  inflating: Annotations/48d76f73-ucexportviewid1wVFzJamaZ0pblqD6_q55bU7-5m0jRZVp.xml  \n",
            "  inflating: Annotations/62bbf136-ucexportviewid1IehFd5HBlcdgXUre_OBdizdK4YSghfA4.xml  \n",
            "  inflating: Annotations/88b9e2c9-ucexportviewid1wRoGfrS9QI5tL0FzdCFSvi5prqC_JjNQ.xml  \n",
            "  inflating: Annotations/8b4454b0-ucexportviewid1z0jHAVixs0HHBp_OphoTSj14PxxgKdDp.xml  \n",
            "  inflating: Annotations/9bb8dce3-ucexportviewid1tyKUK3foGU5sx3lhtoDVeZaLlu5fSGxU.xml  \n",
            "  inflating: Annotations/9e4a4555-ucexportviewid1XPKxW_OMFM0BMFrRbSC7IRfDUHiG1jWb.xml  \n",
            "  inflating: Annotations/9fc07091-ucexportviewid1Eganhh6WpAiud8GJxHRkXKG5LnTcZAU6.xml  \n",
            "  inflating: Annotations/a14ea107-ucexportviewid1v0dgswGDOOcY2Mccb3Fu393v1eAmA_h2.xml  \n",
            "  inflating: Annotations/a5c942f2-ucexportviewid1yznS4X7HZgkOA2Aes0fDHqTOjATPzoy1.xml  \n",
            "  inflating: Annotations/abd04cb5-ucexportviewid19M99kHEG9Zk26Hj4X8v2KNkyLclSp-Lw.xml  \n",
            "  inflating: Annotations/ae335091-ucexportviewid1Zo8mo3UVf_KUXB-0R1ZYUKux73eV2NiI.xml  \n",
            "  inflating: Annotations/af3c560a-ucexportviewid1D-WORDhYLk8ZIjB5i-v5rqXOzXSVzUUp.xml  \n",
            "  inflating: Annotations/b9614962-ucexportviewid14sT2U9qu5kMSsCrYrAre1ep52ljNa_i6.xml  \n",
            "  inflating: Annotations/ba5091dd-ucexportviewid12PmepeXfj5ZMTGb4tmCE3btmrrWFRI0j.xml  \n",
            "  inflating: Annotations/bf76a332-ucexportviewid1unZ3rGdI2YufULQoKQNu9OzUKrr8mQsU.xml  \n",
            "  inflating: Annotations/d44da06b-ucexportviewid1AsGjKO6xFAtlx92hlVsGo4NliBElGi5P.xml  \n",
            "  inflating: Annotations/f28edee8-ucexportviewid117EK1HBeUDB_K6PE8fBWKaOFFhh5-Wrj.xml  \n",
            "  inflating: Annotations/f6919a06-ucexportviewid1tJepjKWLaQEW1lZeI0RbWIXGL6DW4spn.xml  \n",
            "  inflating: images/0009acc2-ucexportviewid1yQ105rIuwTIsZ2mb8FHOli0e8cKkKtnQ  \n",
            "  inflating: images/0f70df07-ucexportviewid1y29HbAKS7eGRFLjcyQAZCa0EO0Cct84C  \n",
            "  inflating: images/15ad6bf6-ucexportviewid16ESvS24M7wLwcamwV4PlZS3OaxC8cRVa  \n",
            "  inflating: images/15cee69a-ucexportviewid1DN73DJc0lq6UzQDTH8M_KVlao6rbl8Zn  \n",
            "  inflating: images/1f97bf6b-ucexportviewid1lIZ1EQArPWiZwgNf2oGuu3L56wN49s46  \n",
            "  inflating: images/3088b7ae-ucexportviewid1Hi1d9lzMDka0Biu546elHrUXgQcEOkLi  \n",
            "  inflating: images/30bf6899-ucexportviewid1v38anjPHbOPtTLGSxaxzZEPOuDv1ibR9  \n",
            "  inflating: images/33ac9ca7-ucexportviewid19BVqCWqqovhFS9NusaIdVKjhkcIxStpr  \n",
            "  inflating: images/39e54e56-ucexportviewid1c6Uyq6F0jbWW-7d4gdAgjGz2SyNOVxtZ  \n",
            "  inflating: images/46d4fd14-ucexportviewid14JTP6nbkk5QsG9c7BYNWAwhMhDvD-ut9  \n",
            "  inflating: images/478a1247-ucexportviewid1AQiBBUTqoucViRGo_RMTZs1M29BXVEZ_  \n",
            "  inflating: images/485c2604-ucexportviewid1X_v5bW4k9Nskz2w5gijcJs5SYlv69mEN  \n",
            "  inflating: images/48d76f73-ucexportviewid1wVFzJamaZ0pblqD6_q55bU7-5m0jRZVp  \n",
            "  inflating: images/62bbf136-ucexportviewid1IehFd5HBlcdgXUre_OBdizdK4YSghfA4  \n",
            "  inflating: images/88b9e2c9-ucexportviewid1wRoGfrS9QI5tL0FzdCFSvi5prqC_JjNQ  \n",
            "  inflating: images/8b4454b0-ucexportviewid1z0jHAVixs0HHBp_OphoTSj14PxxgKdDp  \n",
            "  inflating: images/9bb8dce3-ucexportviewid1tyKUK3foGU5sx3lhtoDVeZaLlu5fSGxU  \n",
            "  inflating: images/9e4a4555-ucexportviewid1XPKxW_OMFM0BMFrRbSC7IRfDUHiG1jWb  \n",
            "  inflating: images/9fc07091-ucexportviewid1Eganhh6WpAiud8GJxHRkXKG5LnTcZAU6  \n",
            "  inflating: images/a14ea107-ucexportviewid1v0dgswGDOOcY2Mccb3Fu393v1eAmA_h2  \n",
            "  inflating: images/a5c942f2-ucexportviewid1yznS4X7HZgkOA2Aes0fDHqTOjATPzoy1  \n",
            "  inflating: images/abd04cb5-ucexportviewid19M99kHEG9Zk26Hj4X8v2KNkyLclSp-Lw  \n",
            "  inflating: images/ae335091-ucexportviewid1Zo8mo3UVf_KUXB-0R1ZYUKux73eV2NiI  \n",
            "  inflating: images/af3c560a-ucexportviewid1D-WORDhYLk8ZIjB5i-v5rqXOzXSVzUUp  \n",
            "  inflating: images/b9614962-ucexportviewid14sT2U9qu5kMSsCrYrAre1ep52ljNa_i6  \n",
            "  inflating: images/ba5091dd-ucexportviewid12PmepeXfj5ZMTGb4tmCE3btmrrWFRI0j  \n",
            "  inflating: images/bf76a332-ucexportviewid1unZ3rGdI2YufULQoKQNu9OzUKrr8mQsU  \n",
            "  inflating: images/d44da06b-ucexportviewid1AsGjKO6xFAtlx92hlVsGo4NliBElGi5P  \n",
            "  inflating: images/f28edee8-ucexportviewid117EK1HBeUDB_K6PE8fBWKaOFFhh5-Wrj  \n",
            "  inflating: images/f6919a06-ucexportviewid1tJepjKWLaQEW1lZeI0RbWIXGL6DW4spn  \n"
          ]
        }
      ]
    },
    {
      "cell_type": "code",
      "source": [
        "# Create new directory\n",
        "!mkdir /content/Test/Annotation\n",
        "%cd \"/content/Test/Annotation\""
      ],
      "metadata": {
        "colab": {
          "base_uri": "https://localhost:8080/"
        },
        "id": "ZIhAKyU3lJv9",
        "outputId": "02e0d32b-abf3-453d-bcc3-e010ec6e1a3d"
      },
      "execution_count": null,
      "outputs": [
        {
          "output_type": "stream",
          "name": "stdout",
          "text": [
            "/content/Test/Annotation\n"
          ]
        }
      ]
    },
    {
      "cell_type": "code",
      "source": [
        "# Remove encoding in xml files\n",
        "\n",
        "path = \"/content/Test/Annotations\"\n",
        "dstpath = \"/content/Test/Annotation\"\n",
        "\n",
        "for filename in os.listdir(path):\n",
        "    if filename.endswith('.xml'):\n",
        "        tree = etree.parse(path+\"/\"+filename)\n",
        "        etree.strip_elements(tree, \"{*}openSession\", with_tail=True)\n",
        "        save = filename\n",
        "        tree.write(save)"
      ],
      "metadata": {
        "id": "s6nOnA5_lWeU"
      },
      "execution_count": null,
      "outputs": []
    },
    {
      "cell_type": "code",
      "source": [
        "# Remove old directory\n",
        "%cd /content/Test\n",
        "!rm /content/Test/Annotations/* /content/Test/Annotations/.*\n",
        "!rmdir /content/Test/Annotations"
      ],
      "metadata": {
        "colab": {
          "base_uri": "https://localhost:8080/"
        },
        "id": "cp05iprilZoc",
        "outputId": "ff387aa5-ae7d-4450-a079-57774ce32dad"
      },
      "execution_count": null,
      "outputs": [
        {
          "output_type": "stream",
          "name": "stdout",
          "text": [
            "/content/Test\n",
            "rm: cannot remove '/content/Test/Annotations/.': Is a directory\n",
            "rm: cannot remove '/content/Test/Annotations/..': Is a directory\n"
          ]
        }
      ]
    },
    {
      "cell_type": "markdown",
      "source": [
        "**Final Dataset Directory**"
      ],
      "metadata": {
        "id": "3H7zcwSclj_Y"
      }
    },
    {
      "cell_type": "code",
      "source": [
        "# Create train and test directory\n",
        "%cd /content/\n",
        "\n",
        "!mkdir \"/content/Dataset/\"\n",
        "!mkdir \"/content/Dataset/Annotation/\"\n",
        "!mkdir \"/content/Dataset/Images/\"\n",
        "\n",
        "!mkdir \"/content/Dataset/Annotation/Train\"\n",
        "!mkdir \"/content/Dataset/Annotation/Val\"\n",
        "!mkdir \"/content/Dataset/Annotation/Test\"\n",
        "!mkdir \"/content/Dataset/Images/Train\"\n",
        "!mkdir \"/content/Dataset/Images/Val\"\n",
        "!mkdir \"/content/Dataset/Images/Test\""
      ],
      "metadata": {
        "colab": {
          "base_uri": "https://localhost:8080/"
        },
        "id": "D0MGLp4uuC0n",
        "outputId": "354f62a8-aa4f-492f-ec84-ccec17ed9949"
      },
      "execution_count": null,
      "outputs": [
        {
          "output_type": "stream",
          "name": "stdout",
          "text": [
            "/content\n"
          ]
        }
      ]
    },
    {
      "cell_type": "markdown",
      "source": [
        "### Prepare and Load Dataset"
      ],
      "metadata": {
        "id": "BIMndR2U0U5x"
      }
    },
    {
      "cell_type": "code",
      "source": [
        "# # Creating Train / Val / Test folders (One time use)\n",
        "root_dir = \"/content/Dataset/\"\n",
        "\n",
        "# os.makedirs(root_dir + '/Images' + '/Train')\n",
        "# os.makedirs(root_dir + '/Images' + '/Test')\n",
        "# os.makedirs(root_dir + '/Annotation' + '/Train')\n",
        "# os.makedirs(root_dir + '/Annotation' + '/Test')\n",
        "# os.makedirs(root_dir + '/Annotation' +'/val')\n",
        "# os.makedirs(root_dir + '/Images' +'/val')\n",
        "\n",
        "# Creating partitions of the data after shuffeling\n",
        "img_src = \"/content/Train_Val/images\" # Folder to copy images from\n",
        "annot_src = \"/content/Train_Val/Annotation\" # Folder to copy annots from\n",
        "test_img_src = \"/content/Test/images\"\n",
        "test_annot_src = \"/content/Test/Annotation\"\n",
        "\n",
        "# Seed for shuffling\n",
        "seed = 42\n",
        "\n",
        "ImageFileNames = os.listdir(img_src)\n",
        "AnnotFileNames = os.listdir(annot_src)\n",
        "np.random.seed(seed)\n",
        "np.random.shuffle(ImageFileNames)\n",
        "\n",
        "train_ImgFileNames, val_ImgFileNames = np.split(np.array(ImageFileNames),\n",
        "                                                          [int(len(ImageFileNames)*0.8)])\n",
        "train_AntFileNames = []\n",
        "val_AntFileNames = []\n",
        "\n",
        "for img in train_ImgFileNames:\n",
        "  for ant in AnnotFileNames:\n",
        "    if img.split('-')[0] == ant.split('-')[0]:\n",
        "      train_AntFileNames.append(ant)\n",
        "\n",
        "for img in val_ImgFileNames:\n",
        "  for ant in AnnotFileNames:\n",
        "    if img.split('-')[0] == ant.split('-')[0]:\n",
        "      val_AntFileNames.append(ant)\n",
        "\n",
        "test_ImgFileNames = os.listdir(test_img_src)\n",
        "test_AntFileNames = os.listdir(test_annot_src)\n",
        "\n",
        "train_ImgFileNames = [img_src+'/'+ name for name in train_ImgFileNames.tolist()]\n",
        "val_ImgFileNames = [img_src+'/' + name for name in val_ImgFileNames.tolist()]\n",
        "test_ImgFileNames = [test_img_src+'/' + name for name in test_ImgFileNames]\n",
        "\n",
        "train_AntFileNames = [annot_src+'/'+ name for name in train_AntFileNames]\n",
        "val_AntFileNames = [annot_src+'/' + name for name in val_AntFileNames]\n",
        "test_AntFileNames = [test_annot_src+'/' + name for name in test_AntFileNames]\n",
        "\n",
        "print('Total images: ', (len(ImageFileNames)+len(test_ImgFileNames)))\n",
        "print('Training: ', len(train_ImgFileNames))\n",
        "print('Validation: ', len(val_ImgFileNames))\n",
        "print('Testing: ', len(test_ImgFileNames))\n",
        "\n",
        "print('Total annotations: ', (len(AnnotFileNames) + len(test_AntFileNames)))\n",
        "print('Training: ', len(train_AntFileNames))\n",
        "print('Validation: ', len(val_AntFileNames))\n",
        "print('Testing: ', len(test_AntFileNames))\n",
        "\n",
        "# Copy-pasting images and annots\n",
        "for name in train_ImgFileNames:\n",
        "    shutil.copy(name, \"/content/Dataset/Images/Train\")\n",
        "\n",
        "for name in val_ImgFileNames:\n",
        "    shutil.copy(name, \"/content/Dataset/Images/Val\")\n",
        "\n",
        "for name in test_ImgFileNames:\n",
        "    shutil.copy(name, \"/content/Dataset/Images/Test\")\n",
        "\n",
        "for name in train_AntFileNames:\n",
        "    shutil.copy(name, \"/content/Dataset/Annotation/Train\")\n",
        "\n",
        "for name in val_AntFileNames:\n",
        "    shutil.copy(name, \"/content/Dataset/Annotation/Val\")\n",
        "\n",
        "for name in test_AntFileNames:\n",
        "    shutil.copy(name, \"/content/Dataset/Annotation/Test\")"
      ],
      "metadata": {
        "id": "lvJmwp-dvm9-",
        "colab": {
          "base_uri": "https://localhost:8080/"
        },
        "outputId": "db186e62-dd60-4ead-81d8-95f1542fa89d"
      },
      "execution_count": null,
      "outputs": [
        {
          "output_type": "stream",
          "name": "stdout",
          "text": [
            "Total images:  184\n",
            "Training:  123\n",
            "Validation:  31\n",
            "Testing:  30\n",
            "Total annotations:  184\n",
            "Training:  123\n",
            "Validation:  31\n",
            "Testing:  30\n"
          ]
        }
      ]
    },
    {
      "cell_type": "code",
      "source": [
        "train_data = object_detector.DataLoader.from_pascal_voc(\"/content/Dataset/Images/Train\", \"/content/Dataset/Annotation/Train\", label_map={1: \"yellow_duck\", 2: \"blue_duck\", 3: \"pink_duck\"})\n",
        "val_data = object_detector.DataLoader.from_pascal_voc(\"/content/Dataset/Images/Val\", \"/content/Dataset/Annotation/Val\", label_map={1: \"yellow_duck\", 2: \"blue_duck\", 3: \"pink_duck\"})\n",
        "test_data = object_detector.DataLoader.from_pascal_voc(\"/content/Dataset/Images/Test\", \"/content/Dataset/Annotation/Test\", label_map={1: \"yellow_duck\", 2: \"blue_duck\", 3: \"pink_duck\"})"
      ],
      "metadata": {
        "id": "3RRS9Lf6tTat"
      },
      "execution_count": null,
      "outputs": []
    },
    {
      "cell_type": "markdown",
      "source": [
        "### Load Pre-Trained Model"
      ],
      "metadata": {
        "id": "DS8oxUnS0LUy"
      }
    },
    {
      "cell_type": "code",
      "source": [
        "spec0 = model_spec.get('efficientdet_lite0')\n",
        "spec1 = model_spec.get('efficientdet_lite1')\n",
        "spec2 = model_spec.get('efficientdet_lite2')\n",
        "spec3 = model_spec.get('efficientdet_lite3')\n",
        "spec4 = model_spec.get('efficientdet_lite4')"
      ],
      "metadata": {
        "id": "6ladAnFR0eA7"
      },
      "execution_count": null,
      "outputs": []
    },
    {
      "cell_type": "markdown",
      "source": [
        "### Train Model"
      ],
      "metadata": {
        "id": "ixbi14NK0oki"
      }
    },
    {
      "cell_type": "markdown",
      "source": [
        "**EfficientDetLite0**"
      ],
      "metadata": {
        "id": "BC-E-bxSJ0ar"
      }
    },
    {
      "cell_type": "code",
      "source": [
        "model0 = object_detector.create(\n",
        "    train_data=train_data,\n",
        "    model_spec=spec0,\n",
        "    epochs=50,\n",
        "    batch_size=25,\n",
        "    train_whole_model=False,\n",
        "    validation_data=val_data)"
      ],
      "metadata": {
        "colab": {
          "base_uri": "https://localhost:8080/"
        },
        "id": "hysl0yHV0qxH",
        "outputId": "4f8df864-00d6-469d-e9e7-d2b50d75bd1d"
      },
      "execution_count": null,
      "outputs": [
        {
          "output_type": "stream",
          "name": "stdout",
          "text": [
            "Epoch 1/50\n",
            "4/4 [==============================] - 36s 3s/step - det_loss: 1.7462 - cls_loss: 1.1399 - box_loss: 0.0121 - reg_l2_loss: 0.0044 - loss: 1.7507 - learning_rate: 0.0185 - gradient_norm: 0.7433 - val_det_loss: 1.7113 - val_cls_loss: 1.1338 - val_box_loss: 0.0115 - val_reg_l2_loss: 0.0044 - val_loss: 1.7157\n",
            "Epoch 2/50\n",
            "4/4 [==============================] - 8s 3s/step - det_loss: 1.6625 - cls_loss: 1.1155 - box_loss: 0.0109 - reg_l2_loss: 0.0044 - loss: 1.6669 - learning_rate: 0.0312 - gradient_norm: 0.5593 - val_det_loss: 1.5879 - val_cls_loss: 1.0921 - val_box_loss: 0.0099 - val_reg_l2_loss: 0.0044 - val_loss: 1.5923\n",
            "Epoch 3/50\n",
            "4/4 [==============================] - 6s 2s/step - det_loss: 1.5264 - cls_loss: 1.0572 - box_loss: 0.0094 - reg_l2_loss: 0.0044 - loss: 1.5308 - learning_rate: 0.0311 - gradient_norm: 0.6488 - val_det_loss: 1.4389 - val_cls_loss: 1.0033 - val_box_loss: 0.0087 - val_reg_l2_loss: 0.0044 - val_loss: 1.4433\n",
            "Epoch 4/50\n",
            "4/4 [==============================] - 5s 2s/step - det_loss: 1.3776 - cls_loss: 0.9541 - box_loss: 0.0085 - reg_l2_loss: 0.0044 - loss: 1.3821 - learning_rate: 0.0309 - gradient_norm: 0.6805 - val_det_loss: 1.3192 - val_cls_loss: 0.9434 - val_box_loss: 0.0075 - val_reg_l2_loss: 0.0044 - val_loss: 1.3236\n",
            "Epoch 5/50\n",
            "4/4 [==============================] - 16s 5s/step - det_loss: 1.2188 - cls_loss: 0.8401 - box_loss: 0.0076 - reg_l2_loss: 0.0044 - loss: 1.2233 - learning_rate: 0.0306 - gradient_norm: 0.9819 - val_det_loss: 1.1783 - val_cls_loss: 0.8378 - val_box_loss: 0.0068 - val_reg_l2_loss: 0.0045 - val_loss: 1.1827\n",
            "Epoch 6/50\n",
            "4/4 [==============================] - 7s 2s/step - det_loss: 1.0867 - cls_loss: 0.7369 - box_loss: 0.0070 - reg_l2_loss: 0.0045 - loss: 1.0912 - learning_rate: 0.0303 - gradient_norm: 0.8053 - val_det_loss: 1.0295 - val_cls_loss: 0.7044 - val_box_loss: 0.0065 - val_reg_l2_loss: 0.0045 - val_loss: 1.0339\n",
            "Epoch 7/50\n",
            "4/4 [==============================] - 7s 2s/step - det_loss: 0.9657 - cls_loss: 0.6691 - box_loss: 0.0059 - reg_l2_loss: 0.0045 - loss: 0.9702 - learning_rate: 0.0299 - gradient_norm: 0.8350 - val_det_loss: 1.0097 - val_cls_loss: 0.7206 - val_box_loss: 0.0058 - val_reg_l2_loss: 0.0045 - val_loss: 1.0142\n",
            "Epoch 8/50\n",
            "4/4 [==============================] - 5s 2s/step - det_loss: 0.8953 - cls_loss: 0.6160 - box_loss: 0.0056 - reg_l2_loss: 0.0045 - loss: 0.8997 - learning_rate: 0.0295 - gradient_norm: 0.9328 - val_det_loss: 1.0227 - val_cls_loss: 0.7367 - val_box_loss: 0.0057 - val_reg_l2_loss: 0.0045 - val_loss: 1.0272\n",
            "Epoch 9/50\n",
            "4/4 [==============================] - 8s 3s/step - det_loss: 0.8665 - cls_loss: 0.5966 - box_loss: 0.0054 - reg_l2_loss: 0.0045 - loss: 0.8710 - learning_rate: 0.0290 - gradient_norm: 0.7889 - val_det_loss: 0.9421 - val_cls_loss: 0.6660 - val_box_loss: 0.0055 - val_reg_l2_loss: 0.0045 - val_loss: 0.9466\n",
            "Epoch 10/50\n",
            "4/4 [==============================] - 8s 3s/step - det_loss: 0.8686 - cls_loss: 0.5967 - box_loss: 0.0054 - reg_l2_loss: 0.0045 - loss: 0.8731 - learning_rate: 0.0285 - gradient_norm: 0.7620 - val_det_loss: 0.9129 - val_cls_loss: 0.6744 - val_box_loss: 0.0048 - val_reg_l2_loss: 0.0045 - val_loss: 0.9174\n",
            "Epoch 11/50\n",
            "4/4 [==============================] - 6s 2s/step - det_loss: 0.8325 - cls_loss: 0.5731 - box_loss: 0.0052 - reg_l2_loss: 0.0045 - loss: 0.8370 - learning_rate: 0.0279 - gradient_norm: 0.8799 - val_det_loss: 0.8195 - val_cls_loss: 0.6038 - val_box_loss: 0.0043 - val_reg_l2_loss: 0.0045 - val_loss: 0.8240\n",
            "Epoch 12/50\n",
            "4/4 [==============================] - 8s 3s/step - det_loss: 0.7911 - cls_loss: 0.5558 - box_loss: 0.0047 - reg_l2_loss: 0.0045 - loss: 0.7956 - learning_rate: 0.0272 - gradient_norm: 0.8100 - val_det_loss: 0.8273 - val_cls_loss: 0.5872 - val_box_loss: 0.0048 - val_reg_l2_loss: 0.0045 - val_loss: 0.8318\n",
            "Epoch 13/50\n",
            "4/4 [==============================] - 5s 2s/step - det_loss: 0.7384 - cls_loss: 0.5303 - box_loss: 0.0042 - reg_l2_loss: 0.0045 - loss: 0.7429 - learning_rate: 0.0265 - gradient_norm: 0.7709 - val_det_loss: 0.7521 - val_cls_loss: 0.5495 - val_box_loss: 0.0041 - val_reg_l2_loss: 0.0045 - val_loss: 0.7566\n",
            "Epoch 14/50\n",
            "4/4 [==============================] - 6s 2s/step - det_loss: 0.7266 - cls_loss: 0.5179 - box_loss: 0.0042 - reg_l2_loss: 0.0045 - loss: 0.7311 - learning_rate: 0.0258 - gradient_norm: 0.8301 - val_det_loss: 0.8390 - val_cls_loss: 0.5726 - val_box_loss: 0.0053 - val_reg_l2_loss: 0.0045 - val_loss: 0.8436\n",
            "Epoch 15/50\n",
            "4/4 [==============================] - 11s 3s/step - det_loss: 0.7347 - cls_loss: 0.5298 - box_loss: 0.0041 - reg_l2_loss: 0.0045 - loss: 0.7392 - learning_rate: 0.0250 - gradient_norm: 0.8758 - val_det_loss: 0.7694 - val_cls_loss: 0.5751 - val_box_loss: 0.0039 - val_reg_l2_loss: 0.0045 - val_loss: 0.7740\n",
            "Epoch 16/50\n",
            "4/4 [==============================] - 7s 2s/step - det_loss: 0.6349 - cls_loss: 0.4641 - box_loss: 0.0034 - reg_l2_loss: 0.0045 - loss: 0.6394 - learning_rate: 0.0242 - gradient_norm: 0.7723 - val_det_loss: 0.7044 - val_cls_loss: 0.5083 - val_box_loss: 0.0039 - val_reg_l2_loss: 0.0045 - val_loss: 0.7090\n",
            "Epoch 17/50\n",
            "4/4 [==============================] - 8s 3s/step - det_loss: 0.6823 - cls_loss: 0.4901 - box_loss: 0.0038 - reg_l2_loss: 0.0045 - loss: 0.6868 - learning_rate: 0.0233 - gradient_norm: 0.7176 - val_det_loss: 0.6802 - val_cls_loss: 0.5173 - val_box_loss: 0.0033 - val_reg_l2_loss: 0.0045 - val_loss: 0.6848\n",
            "Epoch 18/50\n",
            "4/4 [==============================] - 9s 3s/step - det_loss: 0.6584 - cls_loss: 0.4766 - box_loss: 0.0036 - reg_l2_loss: 0.0045 - loss: 0.6629 - learning_rate: 0.0224 - gradient_norm: 0.7268 - val_det_loss: 0.6805 - val_cls_loss: 0.4910 - val_box_loss: 0.0038 - val_reg_l2_loss: 0.0045 - val_loss: 0.6850\n",
            "Epoch 19/50\n",
            "4/4 [==============================] - 6s 2s/step - det_loss: 0.6537 - cls_loss: 0.4676 - box_loss: 0.0037 - reg_l2_loss: 0.0045 - loss: 0.6582 - learning_rate: 0.0215 - gradient_norm: 0.8902 - val_det_loss: 0.6459 - val_cls_loss: 0.4854 - val_box_loss: 0.0032 - val_reg_l2_loss: 0.0045 - val_loss: 0.6504\n",
            "Epoch 20/50\n",
            "4/4 [==============================] - 10s 3s/step - det_loss: 0.6343 - cls_loss: 0.4701 - box_loss: 0.0033 - reg_l2_loss: 0.0045 - loss: 0.6389 - learning_rate: 0.0206 - gradient_norm: 0.7227 - val_det_loss: 0.6429 - val_cls_loss: 0.4751 - val_box_loss: 0.0034 - val_reg_l2_loss: 0.0045 - val_loss: 0.6474\n",
            "Epoch 21/50\n",
            "4/4 [==============================] - 5s 2s/step - det_loss: 0.6189 - cls_loss: 0.4469 - box_loss: 0.0034 - reg_l2_loss: 0.0045 - loss: 0.6234 - learning_rate: 0.0196 - gradient_norm: 0.8522 - val_det_loss: 0.6412 - val_cls_loss: 0.4691 - val_box_loss: 0.0034 - val_reg_l2_loss: 0.0045 - val_loss: 0.6457\n",
            "Epoch 22/50\n",
            "4/4 [==============================] - 8s 3s/step - det_loss: 0.6361 - cls_loss: 0.4640 - box_loss: 0.0034 - reg_l2_loss: 0.0045 - loss: 0.6407 - learning_rate: 0.0187 - gradient_norm: 0.8843 - val_det_loss: 0.6066 - val_cls_loss: 0.4711 - val_box_loss: 0.0027 - val_reg_l2_loss: 0.0045 - val_loss: 0.6112\n",
            "Epoch 23/50\n",
            "4/4 [==============================] - 7s 2s/step - det_loss: 0.6733 - cls_loss: 0.4831 - box_loss: 0.0038 - reg_l2_loss: 0.0045 - loss: 0.6779 - learning_rate: 0.0177 - gradient_norm: 0.7442 - val_det_loss: 0.6043 - val_cls_loss: 0.4550 - val_box_loss: 0.0030 - val_reg_l2_loss: 0.0045 - val_loss: 0.6088\n",
            "Epoch 24/50\n",
            "4/4 [==============================] - 5s 2s/step - det_loss: 0.6467 - cls_loss: 0.4600 - box_loss: 0.0037 - reg_l2_loss: 0.0045 - loss: 0.6512 - learning_rate: 0.0167 - gradient_norm: 0.7431 - val_det_loss: 0.6002 - val_cls_loss: 0.4528 - val_box_loss: 0.0029 - val_reg_l2_loss: 0.0045 - val_loss: 0.6047\n",
            "Epoch 25/50\n",
            "4/4 [==============================] - 10s 3s/step - det_loss: 0.5961 - cls_loss: 0.4475 - box_loss: 0.0030 - reg_l2_loss: 0.0045 - loss: 0.6006 - learning_rate: 0.0157 - gradient_norm: 0.7845 - val_det_loss: 0.6028 - val_cls_loss: 0.4566 - val_box_loss: 0.0029 - val_reg_l2_loss: 0.0045 - val_loss: 0.6074\n",
            "Epoch 26/50\n",
            "4/4 [==============================] - 5s 2s/step - det_loss: 0.5859 - cls_loss: 0.4378 - box_loss: 0.0030 - reg_l2_loss: 0.0045 - loss: 0.5904 - learning_rate: 0.0147 - gradient_norm: 0.7869 - val_det_loss: 0.6117 - val_cls_loss: 0.4637 - val_box_loss: 0.0030 - val_reg_l2_loss: 0.0045 - val_loss: 0.6163\n",
            "Epoch 27/50\n",
            "4/4 [==============================] - 6s 2s/step - det_loss: 0.5659 - cls_loss: 0.4274 - box_loss: 0.0028 - reg_l2_loss: 0.0045 - loss: 0.5704 - learning_rate: 0.0137 - gradient_norm: 0.7772 - val_det_loss: 0.6137 - val_cls_loss: 0.4787 - val_box_loss: 0.0027 - val_reg_l2_loss: 0.0045 - val_loss: 0.6183\n",
            "Epoch 28/50\n",
            "4/4 [==============================] - 8s 3s/step - det_loss: 0.5957 - cls_loss: 0.4348 - box_loss: 0.0032 - reg_l2_loss: 0.0045 - loss: 0.6003 - learning_rate: 0.0127 - gradient_norm: 0.6231 - val_det_loss: 0.6059 - val_cls_loss: 0.4664 - val_box_loss: 0.0028 - val_reg_l2_loss: 0.0045 - val_loss: 0.6105\n",
            "Epoch 29/50\n",
            "4/4 [==============================] - 5s 2s/step - det_loss: 0.6140 - cls_loss: 0.4497 - box_loss: 0.0033 - reg_l2_loss: 0.0045 - loss: 0.6186 - learning_rate: 0.0117 - gradient_norm: 0.6163 - val_det_loss: 0.5780 - val_cls_loss: 0.4501 - val_box_loss: 0.0026 - val_reg_l2_loss: 0.0045 - val_loss: 0.5826\n",
            "Epoch 30/50\n",
            "4/4 [==============================] - 10s 3s/step - det_loss: 0.6367 - cls_loss: 0.4655 - box_loss: 0.0034 - reg_l2_loss: 0.0045 - loss: 0.6412 - learning_rate: 0.0107 - gradient_norm: 0.6956 - val_det_loss: 0.5912 - val_cls_loss: 0.4585 - val_box_loss: 0.0027 - val_reg_l2_loss: 0.0045 - val_loss: 0.5958\n",
            "Epoch 31/50\n",
            "4/4 [==============================] - 6s 2s/step - det_loss: 0.5684 - cls_loss: 0.4170 - box_loss: 0.0030 - reg_l2_loss: 0.0045 - loss: 0.5730 - learning_rate: 0.0098 - gradient_norm: 0.7059 - val_det_loss: 0.6097 - val_cls_loss: 0.4754 - val_box_loss: 0.0027 - val_reg_l2_loss: 0.0046 - val_loss: 0.6143\n",
            "Epoch 32/50\n",
            "4/4 [==============================] - 6s 2s/step - det_loss: 0.5765 - cls_loss: 0.4229 - box_loss: 0.0031 - reg_l2_loss: 0.0046 - loss: 0.5810 - learning_rate: 0.0089 - gradient_norm: 0.6691 - val_det_loss: 0.6128 - val_cls_loss: 0.4723 - val_box_loss: 0.0028 - val_reg_l2_loss: 0.0046 - val_loss: 0.6174\n",
            "Epoch 33/50\n",
            "4/4 [==============================] - 9s 3s/step - det_loss: 0.5664 - cls_loss: 0.4223 - box_loss: 0.0029 - reg_l2_loss: 0.0046 - loss: 0.5710 - learning_rate: 0.0080 - gradient_norm: 0.7579 - val_det_loss: 0.5781 - val_cls_loss: 0.4554 - val_box_loss: 0.0025 - val_reg_l2_loss: 0.0046 - val_loss: 0.5827\n",
            "Epoch 34/50\n",
            "4/4 [==============================] - 5s 2s/step - det_loss: 0.6363 - cls_loss: 0.4638 - box_loss: 0.0035 - reg_l2_loss: 0.0046 - loss: 0.6409 - learning_rate: 0.0071 - gradient_norm: 0.9252 - val_det_loss: 0.5851 - val_cls_loss: 0.4580 - val_box_loss: 0.0025 - val_reg_l2_loss: 0.0046 - val_loss: 0.5896\n",
            "Epoch 35/50\n",
            "4/4 [==============================] - 9s 3s/step - det_loss: 0.5659 - cls_loss: 0.4201 - box_loss: 0.0029 - reg_l2_loss: 0.0046 - loss: 0.5705 - learning_rate: 0.0063 - gradient_norm: 0.7629 - val_det_loss: 0.6022 - val_cls_loss: 0.4636 - val_box_loss: 0.0028 - val_reg_l2_loss: 0.0046 - val_loss: 0.6067\n",
            "Epoch 36/50\n",
            "4/4 [==============================] - 7s 2s/step - det_loss: 0.5836 - cls_loss: 0.4266 - box_loss: 0.0031 - reg_l2_loss: 0.0046 - loss: 0.5881 - learning_rate: 0.0055 - gradient_norm: 0.8862 - val_det_loss: 0.5986 - val_cls_loss: 0.4742 - val_box_loss: 0.0025 - val_reg_l2_loss: 0.0046 - val_loss: 0.6032\n",
            "Epoch 37/50\n",
            "4/4 [==============================] - 5s 2s/step - det_loss: 0.5703 - cls_loss: 0.4204 - box_loss: 0.0030 - reg_l2_loss: 0.0046 - loss: 0.5749 - learning_rate: 0.0048 - gradient_norm: 0.6461 - val_det_loss: 0.5963 - val_cls_loss: 0.4769 - val_box_loss: 0.0024 - val_reg_l2_loss: 0.0046 - val_loss: 0.6008\n",
            "Epoch 38/50\n",
            "4/4 [==============================] - 8s 2s/step - det_loss: 0.5754 - cls_loss: 0.4332 - box_loss: 0.0028 - reg_l2_loss: 0.0046 - loss: 0.5800 - learning_rate: 0.0041 - gradient_norm: 0.7364 - val_det_loss: 0.5912 - val_cls_loss: 0.4707 - val_box_loss: 0.0024 - val_reg_l2_loss: 0.0046 - val_loss: 0.5957\n",
            "Epoch 39/50\n",
            "4/4 [==============================] - 7s 2s/step - det_loss: 0.5656 - cls_loss: 0.4229 - box_loss: 0.0029 - reg_l2_loss: 0.0046 - loss: 0.5701 - learning_rate: 0.0034 - gradient_norm: 0.6411 - val_det_loss: 0.6018 - val_cls_loss: 0.4714 - val_box_loss: 0.0026 - val_reg_l2_loss: 0.0046 - val_loss: 0.6064\n",
            "Epoch 40/50\n",
            "4/4 [==============================] - 8s 3s/step - det_loss: 0.5701 - cls_loss: 0.4197 - box_loss: 0.0030 - reg_l2_loss: 0.0046 - loss: 0.5747 - learning_rate: 0.0028 - gradient_norm: 0.8680 - val_det_loss: 0.6101 - val_cls_loss: 0.4854 - val_box_loss: 0.0025 - val_reg_l2_loss: 0.0046 - val_loss: 0.6147\n",
            "Epoch 41/50\n",
            "4/4 [==============================] - 8s 3s/step - det_loss: 0.6055 - cls_loss: 0.4457 - box_loss: 0.0032 - reg_l2_loss: 0.0046 - loss: 0.6101 - learning_rate: 0.0023 - gradient_norm: 0.7062 - val_det_loss: 0.6127 - val_cls_loss: 0.4925 - val_box_loss: 0.0024 - val_reg_l2_loss: 0.0046 - val_loss: 0.6173\n",
            "Epoch 42/50\n",
            "4/4 [==============================] - 6s 2s/step - det_loss: 0.5775 - cls_loss: 0.4279 - box_loss: 0.0030 - reg_l2_loss: 0.0046 - loss: 0.5821 - learning_rate: 0.0018 - gradient_norm: 0.7276 - val_det_loss: 0.6067 - val_cls_loss: 0.4866 - val_box_loss: 0.0024 - val_reg_l2_loss: 0.0046 - val_loss: 0.6113\n",
            "Epoch 43/50\n",
            "4/4 [==============================] - 7s 2s/step - det_loss: 0.5588 - cls_loss: 0.4186 - box_loss: 0.0028 - reg_l2_loss: 0.0046 - loss: 0.5633 - learning_rate: 0.0014 - gradient_norm: 0.5747 - val_det_loss: 0.5973 - val_cls_loss: 0.4753 - val_box_loss: 0.0024 - val_reg_l2_loss: 0.0046 - val_loss: 0.6019\n",
            "Epoch 44/50\n",
            "4/4 [==============================] - 8s 3s/step - det_loss: 0.5505 - cls_loss: 0.4182 - box_loss: 0.0026 - reg_l2_loss: 0.0046 - loss: 0.5550 - learning_rate: 9.8136e-04 - gradient_norm: 0.7487 - val_det_loss: 0.5907 - val_cls_loss: 0.4673 - val_box_loss: 0.0025 - val_reg_l2_loss: 0.0046 - val_loss: 0.5952\n",
            "Epoch 45/50\n",
            "4/4 [==============================] - 7s 2s/step - det_loss: 0.5477 - cls_loss: 0.4097 - box_loss: 0.0028 - reg_l2_loss: 0.0046 - loss: 0.5523 - learning_rate: 6.6276e-04 - gradient_norm: 0.6673 - val_det_loss: 0.5842 - val_cls_loss: 0.4610 - val_box_loss: 0.0025 - val_reg_l2_loss: 0.0046 - val_loss: 0.5888\n",
            "Epoch 46/50\n",
            "4/4 [==============================] - 8s 3s/step - det_loss: 0.5869 - cls_loss: 0.4339 - box_loss: 0.0031 - reg_l2_loss: 0.0046 - loss: 0.5914 - learning_rate: 4.0563e-04 - gradient_norm: 0.6316 - val_det_loss: 0.5802 - val_cls_loss: 0.4568 - val_box_loss: 0.0025 - val_reg_l2_loss: 0.0046 - val_loss: 0.5848\n",
            "Epoch 47/50\n",
            "4/4 [==============================] - 9s 3s/step - det_loss: 0.5449 - cls_loss: 0.4165 - box_loss: 0.0026 - reg_l2_loss: 0.0046 - loss: 0.5495 - learning_rate: 2.1105e-04 - gradient_norm: 0.6475 - val_det_loss: 0.5788 - val_cls_loss: 0.4549 - val_box_loss: 0.0025 - val_reg_l2_loss: 0.0046 - val_loss: 0.5833\n",
            "Epoch 48/50\n",
            "4/4 [==============================] - 7s 2s/step - det_loss: 0.5743 - cls_loss: 0.4387 - box_loss: 0.0027 - reg_l2_loss: 0.0046 - loss: 0.5789 - learning_rate: 7.9806e-05 - gradient_norm: 0.7331 - val_det_loss: 0.5779 - val_cls_loss: 0.4538 - val_box_loss: 0.0025 - val_reg_l2_loss: 0.0046 - val_loss: 0.5825\n",
            "Epoch 49/50\n",
            "4/4 [==============================] - 8s 3s/step - det_loss: 0.5686 - cls_loss: 0.4200 - box_loss: 0.0030 - reg_l2_loss: 0.0046 - loss: 0.5732 - learning_rate: 1.2441e-05 - gradient_norm: 0.5800 - val_det_loss: 0.5770 - val_cls_loss: 0.4530 - val_box_loss: 0.0025 - val_reg_l2_loss: 0.0046 - val_loss: 0.5816\n",
            "Epoch 50/50\n",
            "4/4 [==============================] - 7s 2s/step - det_loss: 0.5726 - cls_loss: 0.4251 - box_loss: 0.0030 - reg_l2_loss: 0.0046 - loss: 0.5772 - learning_rate: 9.2315e-06 - gradient_norm: 0.7679 - val_det_loss: 0.5771 - val_cls_loss: 0.4528 - val_box_loss: 0.0025 - val_reg_l2_loss: 0.0046 - val_loss: 0.5817\n"
          ]
        }
      ]
    },
    {
      "cell_type": "code",
      "source": [
        "model0.summary()"
      ],
      "metadata": {
        "colab": {
          "base_uri": "https://localhost:8080/"
        },
        "id": "zPQf-GpzEHvO",
        "outputId": "f6b90ec4-0cd4-4bfd-ae32-f4a2d7563134"
      },
      "execution_count": null,
      "outputs": [
        {
          "output_type": "stream",
          "name": "stdout",
          "text": [
            "Model: \"\"\n",
            "_________________________________________________________________\n",
            " Layer (type)                Output Shape              Param #   \n",
            "=================================================================\n",
            " keras_layer (KerasLayer)    multiple                  3234464   \n",
            "                                                                 \n",
            " class_net/class-predict (Se  multiple                 2331      \n",
            " parableConv2D)                                                  \n",
            "                                                                 \n",
            " box_net/box-predict (Separa  multiple                 2916      \n",
            " bleConv2D)                                                      \n",
            "                                                                 \n",
            "=================================================================\n",
            "Total params: 3,239,711\n",
            "Trainable params: 3,192,575\n",
            "Non-trainable params: 47,136\n",
            "_________________________________________________________________\n"
          ]
        }
      ]
    },
    {
      "cell_type": "markdown",
      "source": [
        "**EfficientDetLite1**"
      ],
      "metadata": {
        "id": "2oi-rIB1KAyV"
      }
    },
    {
      "cell_type": "code",
      "source": [
        "model1 = object_detector.create(\n",
        "    train_data=train_data,\n",
        "    model_spec=spec1,\n",
        "    epochs=50,\n",
        "    batch_size=25,\n",
        "    train_whole_model=False,\n",
        "    validation_data=val_data)"
      ],
      "metadata": {
        "colab": {
          "base_uri": "https://localhost:8080/"
        },
        "id": "2GAZ99S-J_2o",
        "outputId": "31bfcfff-8094-4477-c237-e42a83e17e42"
      },
      "execution_count": null,
      "outputs": [
        {
          "output_type": "stream",
          "name": "stdout",
          "text": [
            "Epoch 1/50\n",
            "4/4 [==============================] - 35s 4s/step - det_loss: 1.7966 - cls_loss: 1.1470 - box_loss: 0.0130 - reg_l2_loss: 0.0047 - loss: 1.8013 - learning_rate: 0.0185 - gradient_norm: 0.8206 - val_det_loss: 1.7264 - val_cls_loss: 1.1342 - val_box_loss: 0.0118 - val_reg_l2_loss: 0.0047 - val_loss: 1.7311\n",
            "Epoch 2/50\n",
            "4/4 [==============================] - 6s 2s/step - det_loss: 1.6745 - cls_loss: 1.1237 - box_loss: 0.0110 - reg_l2_loss: 0.0047 - loss: 1.6792 - learning_rate: 0.0312 - gradient_norm: 0.6354 - val_det_loss: 1.5622 - val_cls_loss: 1.0790 - val_box_loss: 0.0097 - val_reg_l2_loss: 0.0047 - val_loss: 1.5669\n",
            "Epoch 3/50\n",
            "4/4 [==============================] - 10s 3s/step - det_loss: 1.5252 - cls_loss: 1.0629 - box_loss: 0.0092 - reg_l2_loss: 0.0047 - loss: 1.5300 - learning_rate: 0.0311 - gradient_norm: 0.7001 - val_det_loss: 1.3506 - val_cls_loss: 0.9536 - val_box_loss: 0.0079 - val_reg_l2_loss: 0.0047 - val_loss: 1.3553\n",
            "Epoch 4/50\n",
            "4/4 [==============================] - 7s 2s/step - det_loss: 1.3069 - cls_loss: 0.9177 - box_loss: 0.0078 - reg_l2_loss: 0.0047 - loss: 1.3117 - learning_rate: 0.0309 - gradient_norm: 0.8539 - val_det_loss: 1.1602 - val_cls_loss: 0.8228 - val_box_loss: 0.0067 - val_reg_l2_loss: 0.0047 - val_loss: 1.1649\n",
            "Epoch 5/50\n",
            "4/4 [==============================] - 19s 6s/step - det_loss: 1.1480 - cls_loss: 0.8063 - box_loss: 0.0068 - reg_l2_loss: 0.0047 - loss: 1.1527 - learning_rate: 0.0306 - gradient_norm: 1.2237 - val_det_loss: 0.9989 - val_cls_loss: 0.6799 - val_box_loss: 0.0064 - val_reg_l2_loss: 0.0047 - val_loss: 1.0036\n",
            "Epoch 6/50\n",
            "4/4 [==============================] - 10s 3s/step - det_loss: 0.9759 - cls_loss: 0.6869 - box_loss: 0.0058 - reg_l2_loss: 0.0047 - loss: 0.9807 - learning_rate: 0.0303 - gradient_norm: 0.9447 - val_det_loss: 0.9640 - val_cls_loss: 0.6704 - val_box_loss: 0.0059 - val_reg_l2_loss: 0.0047 - val_loss: 0.9688\n",
            "Epoch 7/50\n",
            "4/4 [==============================] - 6s 2s/step - det_loss: 0.9019 - cls_loss: 0.6359 - box_loss: 0.0053 - reg_l2_loss: 0.0047 - loss: 0.9066 - learning_rate: 0.0299 - gradient_norm: 0.9472 - val_det_loss: 0.9082 - val_cls_loss: 0.6284 - val_box_loss: 0.0056 - val_reg_l2_loss: 0.0048 - val_loss: 0.9130\n",
            "Epoch 8/50\n",
            "4/4 [==============================] - 9s 3s/step - det_loss: 0.8344 - cls_loss: 0.5919 - box_loss: 0.0048 - reg_l2_loss: 0.0048 - loss: 0.8391 - learning_rate: 0.0295 - gradient_norm: 0.7531 - val_det_loss: 0.8371 - val_cls_loss: 0.5910 - val_box_loss: 0.0049 - val_reg_l2_loss: 0.0048 - val_loss: 0.8419\n",
            "Epoch 9/50\n",
            "4/4 [==============================] - 7s 2s/step - det_loss: 0.7519 - cls_loss: 0.5437 - box_loss: 0.0042 - reg_l2_loss: 0.0048 - loss: 0.7567 - learning_rate: 0.0290 - gradient_norm: 0.7492 - val_det_loss: 0.8407 - val_cls_loss: 0.5829 - val_box_loss: 0.0052 - val_reg_l2_loss: 0.0048 - val_loss: 0.8455\n",
            "Epoch 10/50\n",
            "4/4 [==============================] - 11s 3s/step - det_loss: 0.6861 - cls_loss: 0.5098 - box_loss: 0.0035 - reg_l2_loss: 0.0048 - loss: 0.6909 - learning_rate: 0.0285 - gradient_norm: 0.7016 - val_det_loss: 0.7975 - val_cls_loss: 0.5627 - val_box_loss: 0.0047 - val_reg_l2_loss: 0.0048 - val_loss: 0.8023\n",
            "Epoch 11/50\n",
            "4/4 [==============================] - 7s 2s/step - det_loss: 0.7003 - cls_loss: 0.5142 - box_loss: 0.0037 - reg_l2_loss: 0.0048 - loss: 0.7051 - learning_rate: 0.0279 - gradient_norm: 0.9694 - val_det_loss: 0.8018 - val_cls_loss: 0.5498 - val_box_loss: 0.0050 - val_reg_l2_loss: 0.0048 - val_loss: 0.8066\n",
            "Epoch 12/50\n",
            "4/4 [==============================] - 6s 2s/step - det_loss: 0.6750 - cls_loss: 0.4976 - box_loss: 0.0035 - reg_l2_loss: 0.0048 - loss: 0.6798 - learning_rate: 0.0272 - gradient_norm: 0.7115 - val_det_loss: 0.7977 - val_cls_loss: 0.5331 - val_box_loss: 0.0053 - val_reg_l2_loss: 0.0048 - val_loss: 0.8025\n",
            "Epoch 13/50\n",
            "4/4 [==============================] - 10s 3s/step - det_loss: 0.6517 - cls_loss: 0.4841 - box_loss: 0.0034 - reg_l2_loss: 0.0048 - loss: 0.6565 - learning_rate: 0.0265 - gradient_norm: 0.8618 - val_det_loss: 0.7775 - val_cls_loss: 0.5399 - val_box_loss: 0.0048 - val_reg_l2_loss: 0.0048 - val_loss: 0.7823\n",
            "Epoch 14/50\n",
            "4/4 [==============================] - 6s 2s/step - det_loss: 0.6406 - cls_loss: 0.4721 - box_loss: 0.0034 - reg_l2_loss: 0.0048 - loss: 0.6454 - learning_rate: 0.0258 - gradient_norm: 0.7836 - val_det_loss: 0.7255 - val_cls_loss: 0.5266 - val_box_loss: 0.0040 - val_reg_l2_loss: 0.0048 - val_loss: 0.7303\n",
            "Epoch 15/50\n",
            "4/4 [==============================] - 12s 4s/step - det_loss: 0.6102 - cls_loss: 0.4531 - box_loss: 0.0031 - reg_l2_loss: 0.0048 - loss: 0.6151 - learning_rate: 0.0250 - gradient_norm: 0.6743 - val_det_loss: 0.7703 - val_cls_loss: 0.5305 - val_box_loss: 0.0048 - val_reg_l2_loss: 0.0048 - val_loss: 0.7751\n",
            "Epoch 16/50\n",
            "4/4 [==============================] - 6s 2s/step - det_loss: 0.5932 - cls_loss: 0.4501 - box_loss: 0.0029 - reg_l2_loss: 0.0048 - loss: 0.5980 - learning_rate: 0.0242 - gradient_norm: 0.7494 - val_det_loss: 0.7177 - val_cls_loss: 0.5327 - val_box_loss: 0.0037 - val_reg_l2_loss: 0.0048 - val_loss: 0.7225\n",
            "Epoch 17/50\n",
            "4/4 [==============================] - 9s 3s/step - det_loss: 0.6256 - cls_loss: 0.4662 - box_loss: 0.0032 - reg_l2_loss: 0.0048 - loss: 0.6304 - learning_rate: 0.0233 - gradient_norm: 0.7692 - val_det_loss: 0.7320 - val_cls_loss: 0.5217 - val_box_loss: 0.0042 - val_reg_l2_loss: 0.0048 - val_loss: 0.7368\n",
            "Epoch 18/50\n",
            "4/4 [==============================] - 7s 2s/step - det_loss: 0.5910 - cls_loss: 0.4430 - box_loss: 0.0030 - reg_l2_loss: 0.0048 - loss: 0.5959 - learning_rate: 0.0224 - gradient_norm: 0.9108 - val_det_loss: 0.6560 - val_cls_loss: 0.4923 - val_box_loss: 0.0033 - val_reg_l2_loss: 0.0048 - val_loss: 0.6609\n",
            "Epoch 19/50\n",
            "4/4 [==============================] - 7s 2s/step - det_loss: 0.5578 - cls_loss: 0.4280 - box_loss: 0.0026 - reg_l2_loss: 0.0048 - loss: 0.5626 - learning_rate: 0.0215 - gradient_norm: 0.7375 - val_det_loss: 0.6741 - val_cls_loss: 0.5008 - val_box_loss: 0.0035 - val_reg_l2_loss: 0.0048 - val_loss: 0.6789\n",
            "Epoch 20/50\n",
            "4/4 [==============================] - 11s 4s/step - det_loss: 0.6212 - cls_loss: 0.4550 - box_loss: 0.0033 - reg_l2_loss: 0.0048 - loss: 0.6261 - learning_rate: 0.0206 - gradient_norm: 0.8508 - val_det_loss: 0.6737 - val_cls_loss: 0.5073 - val_box_loss: 0.0033 - val_reg_l2_loss: 0.0048 - val_loss: 0.6785\n",
            "Epoch 21/50\n",
            "4/4 [==============================] - 7s 2s/step - det_loss: 0.5464 - cls_loss: 0.4127 - box_loss: 0.0027 - reg_l2_loss: 0.0048 - loss: 0.5513 - learning_rate: 0.0196 - gradient_norm: 0.7112 - val_det_loss: 0.6392 - val_cls_loss: 0.4829 - val_box_loss: 0.0031 - val_reg_l2_loss: 0.0048 - val_loss: 0.6440\n",
            "Epoch 22/50\n",
            "4/4 [==============================] - 10s 3s/step - det_loss: 0.5671 - cls_loss: 0.4143 - box_loss: 0.0031 - reg_l2_loss: 0.0048 - loss: 0.5720 - learning_rate: 0.0187 - gradient_norm: 0.8196 - val_det_loss: 0.6187 - val_cls_loss: 0.4848 - val_box_loss: 0.0027 - val_reg_l2_loss: 0.0048 - val_loss: 0.6235\n",
            "Epoch 23/50\n",
            "4/4 [==============================] - 7s 2s/step - det_loss: 0.5168 - cls_loss: 0.3877 - box_loss: 0.0026 - reg_l2_loss: 0.0048 - loss: 0.5217 - learning_rate: 0.0177 - gradient_norm: 0.7215 - val_det_loss: 0.6091 - val_cls_loss: 0.4591 - val_box_loss: 0.0030 - val_reg_l2_loss: 0.0048 - val_loss: 0.6139\n",
            "Epoch 24/50\n",
            "4/4 [==============================] - 9s 3s/step - det_loss: 0.5168 - cls_loss: 0.3909 - box_loss: 0.0025 - reg_l2_loss: 0.0048 - loss: 0.5217 - learning_rate: 0.0167 - gradient_norm: 0.7649 - val_det_loss: 0.6332 - val_cls_loss: 0.4706 - val_box_loss: 0.0033 - val_reg_l2_loss: 0.0048 - val_loss: 0.6380\n",
            "Epoch 25/50\n",
            "4/4 [==============================] - 9s 3s/step - det_loss: 0.4956 - cls_loss: 0.3807 - box_loss: 0.0023 - reg_l2_loss: 0.0048 - loss: 0.5005 - learning_rate: 0.0157 - gradient_norm: 0.8711 - val_det_loss: 0.6098 - val_cls_loss: 0.4715 - val_box_loss: 0.0028 - val_reg_l2_loss: 0.0048 - val_loss: 0.6146\n",
            "Epoch 26/50\n",
            "4/4 [==============================] - 8s 3s/step - det_loss: 0.5211 - cls_loss: 0.3966 - box_loss: 0.0025 - reg_l2_loss: 0.0049 - loss: 0.5259 - learning_rate: 0.0147 - gradient_norm: 0.7624 - val_det_loss: 0.6030 - val_cls_loss: 0.4563 - val_box_loss: 0.0029 - val_reg_l2_loss: 0.0049 - val_loss: 0.6079\n",
            "Epoch 27/50\n",
            "4/4 [==============================] - 9s 3s/step - det_loss: 0.5537 - cls_loss: 0.4167 - box_loss: 0.0027 - reg_l2_loss: 0.0049 - loss: 0.5585 - learning_rate: 0.0137 - gradient_norm: 0.7244 - val_det_loss: 0.6207 - val_cls_loss: 0.4780 - val_box_loss: 0.0029 - val_reg_l2_loss: 0.0049 - val_loss: 0.6255\n",
            "Epoch 28/50\n",
            "4/4 [==============================] - 6s 2s/step - det_loss: 0.4831 - cls_loss: 0.3719 - box_loss: 0.0022 - reg_l2_loss: 0.0049 - loss: 0.4879 - learning_rate: 0.0127 - gradient_norm: 0.7770 - val_det_loss: 0.6259 - val_cls_loss: 0.4922 - val_box_loss: 0.0027 - val_reg_l2_loss: 0.0049 - val_loss: 0.6308\n",
            "Epoch 29/50\n",
            "4/4 [==============================] - 10s 3s/step - det_loss: 0.5105 - cls_loss: 0.3837 - box_loss: 0.0025 - reg_l2_loss: 0.0049 - loss: 0.5154 - learning_rate: 0.0117 - gradient_norm: 0.6870 - val_det_loss: 0.6052 - val_cls_loss: 0.4680 - val_box_loss: 0.0027 - val_reg_l2_loss: 0.0049 - val_loss: 0.6101\n",
            "Epoch 30/50\n",
            "4/4 [==============================] - 12s 4s/step - det_loss: 0.5099 - cls_loss: 0.3899 - box_loss: 0.0024 - reg_l2_loss: 0.0049 - loss: 0.5147 - learning_rate: 0.0107 - gradient_norm: 0.8906 - val_det_loss: 0.5941 - val_cls_loss: 0.4637 - val_box_loss: 0.0026 - val_reg_l2_loss: 0.0049 - val_loss: 0.5989\n",
            "Epoch 31/50\n",
            "4/4 [==============================] - 9s 3s/step - det_loss: 0.5168 - cls_loss: 0.3877 - box_loss: 0.0026 - reg_l2_loss: 0.0049 - loss: 0.5217 - learning_rate: 0.0098 - gradient_norm: 0.7557 - val_det_loss: 0.5945 - val_cls_loss: 0.4612 - val_box_loss: 0.0027 - val_reg_l2_loss: 0.0049 - val_loss: 0.5993\n",
            "Epoch 32/50\n",
            "4/4 [==============================] - 7s 2s/step - det_loss: 0.5340 - cls_loss: 0.3992 - box_loss: 0.0027 - reg_l2_loss: 0.0049 - loss: 0.5389 - learning_rate: 0.0089 - gradient_norm: 0.7876 - val_det_loss: 0.5960 - val_cls_loss: 0.4647 - val_box_loss: 0.0026 - val_reg_l2_loss: 0.0049 - val_loss: 0.6009\n",
            "Epoch 33/50\n",
            "4/4 [==============================] - 10s 3s/step - det_loss: 0.5281 - cls_loss: 0.3908 - box_loss: 0.0027 - reg_l2_loss: 0.0049 - loss: 0.5329 - learning_rate: 0.0080 - gradient_norm: 0.7854 - val_det_loss: 0.5842 - val_cls_loss: 0.4635 - val_box_loss: 0.0024 - val_reg_l2_loss: 0.0049 - val_loss: 0.5891\n",
            "Epoch 34/50\n",
            "4/4 [==============================] - 6s 2s/step - det_loss: 0.5221 - cls_loss: 0.3881 - box_loss: 0.0027 - reg_l2_loss: 0.0049 - loss: 0.5270 - learning_rate: 0.0071 - gradient_norm: 0.7527 - val_det_loss: 0.5880 - val_cls_loss: 0.4564 - val_box_loss: 0.0026 - val_reg_l2_loss: 0.0049 - val_loss: 0.5929\n",
            "Epoch 35/50\n",
            "4/4 [==============================] - 12s 4s/step - det_loss: 0.4958 - cls_loss: 0.3706 - box_loss: 0.0025 - reg_l2_loss: 0.0049 - loss: 0.5006 - learning_rate: 0.0063 - gradient_norm: 0.8265 - val_det_loss: 0.5800 - val_cls_loss: 0.4471 - val_box_loss: 0.0027 - val_reg_l2_loss: 0.0049 - val_loss: 0.5848\n",
            "Epoch 36/50\n",
            "4/4 [==============================] - 6s 2s/step - det_loss: 0.5103 - cls_loss: 0.3843 - box_loss: 0.0025 - reg_l2_loss: 0.0049 - loss: 0.5152 - learning_rate: 0.0055 - gradient_norm: 0.8233 - val_det_loss: 0.5746 - val_cls_loss: 0.4480 - val_box_loss: 0.0025 - val_reg_l2_loss: 0.0049 - val_loss: 0.5794\n",
            "Epoch 37/50\n",
            "4/4 [==============================] - 8s 3s/step - det_loss: 0.5026 - cls_loss: 0.3818 - box_loss: 0.0024 - reg_l2_loss: 0.0049 - loss: 0.5075 - learning_rate: 0.0048 - gradient_norm: 0.7482 - val_det_loss: 0.5826 - val_cls_loss: 0.4566 - val_box_loss: 0.0025 - val_reg_l2_loss: 0.0049 - val_loss: 0.5875\n",
            "Epoch 38/50\n",
            "4/4 [==============================] - 8s 3s/step - det_loss: 0.4728 - cls_loss: 0.3590 - box_loss: 0.0023 - reg_l2_loss: 0.0049 - loss: 0.4777 - learning_rate: 0.0041 - gradient_norm: 0.8162 - val_det_loss: 0.5805 - val_cls_loss: 0.4565 - val_box_loss: 0.0025 - val_reg_l2_loss: 0.0049 - val_loss: 0.5853\n",
            "Epoch 39/50\n",
            "4/4 [==============================] - 7s 2s/step - det_loss: 0.4967 - cls_loss: 0.3710 - box_loss: 0.0025 - reg_l2_loss: 0.0049 - loss: 0.5016 - learning_rate: 0.0034 - gradient_norm: 0.7468 - val_det_loss: 0.5687 - val_cls_loss: 0.4422 - val_box_loss: 0.0025 - val_reg_l2_loss: 0.0049 - val_loss: 0.5736\n",
            "Epoch 40/50\n",
            "4/4 [==============================] - 11s 4s/step - det_loss: 0.4631 - cls_loss: 0.3559 - box_loss: 0.0021 - reg_l2_loss: 0.0049 - loss: 0.4680 - learning_rate: 0.0028 - gradient_norm: 0.7686 - val_det_loss: 0.5688 - val_cls_loss: 0.4407 - val_box_loss: 0.0026 - val_reg_l2_loss: 0.0049 - val_loss: 0.5737\n",
            "Epoch 41/50\n",
            "4/4 [==============================] - 6s 2s/step - det_loss: 0.4732 - cls_loss: 0.3646 - box_loss: 0.0022 - reg_l2_loss: 0.0049 - loss: 0.4781 - learning_rate: 0.0023 - gradient_norm: 0.8033 - val_det_loss: 0.5710 - val_cls_loss: 0.4423 - val_box_loss: 0.0026 - val_reg_l2_loss: 0.0049 - val_loss: 0.5759\n",
            "Epoch 42/50\n",
            "4/4 [==============================] - 10s 3s/step - det_loss: 0.4609 - cls_loss: 0.3527 - box_loss: 0.0022 - reg_l2_loss: 0.0049 - loss: 0.4657 - learning_rate: 0.0018 - gradient_norm: 0.7433 - val_det_loss: 0.5672 - val_cls_loss: 0.4424 - val_box_loss: 0.0025 - val_reg_l2_loss: 0.0049 - val_loss: 0.5720\n",
            "Epoch 43/50\n",
            "4/4 [==============================] - 6s 2s/step - det_loss: 0.4951 - cls_loss: 0.3738 - box_loss: 0.0024 - reg_l2_loss: 0.0049 - loss: 0.5000 - learning_rate: 0.0014 - gradient_norm: 0.7119 - val_det_loss: 0.5613 - val_cls_loss: 0.4378 - val_box_loss: 0.0025 - val_reg_l2_loss: 0.0049 - val_loss: 0.5662\n",
            "Epoch 44/50\n",
            "4/4 [==============================] - 9s 3s/step - det_loss: 0.4721 - cls_loss: 0.3618 - box_loss: 0.0022 - reg_l2_loss: 0.0049 - loss: 0.4769 - learning_rate: 9.8136e-04 - gradient_norm: 0.7821 - val_det_loss: 0.5553 - val_cls_loss: 0.4315 - val_box_loss: 0.0025 - val_reg_l2_loss: 0.0049 - val_loss: 0.5601\n",
            "Epoch 45/50\n",
            "4/4 [==============================] - 9s 3s/step - det_loss: 0.4872 - cls_loss: 0.3620 - box_loss: 0.0025 - reg_l2_loss: 0.0049 - loss: 0.4920 - learning_rate: 6.6276e-04 - gradient_norm: 0.6910 - val_det_loss: 0.5512 - val_cls_loss: 0.4265 - val_box_loss: 0.0025 - val_reg_l2_loss: 0.0049 - val_loss: 0.5560\n",
            "Epoch 46/50\n",
            "4/4 [==============================] - 7s 2s/step - det_loss: 0.4645 - cls_loss: 0.3551 - box_loss: 0.0022 - reg_l2_loss: 0.0049 - loss: 0.4694 - learning_rate: 4.0563e-04 - gradient_norm: 0.6426 - val_det_loss: 0.5485 - val_cls_loss: 0.4227 - val_box_loss: 0.0025 - val_reg_l2_loss: 0.0049 - val_loss: 0.5534\n",
            "Epoch 47/50\n",
            "4/4 [==============================] - 8s 3s/step - det_loss: 0.4825 - cls_loss: 0.3716 - box_loss: 0.0022 - reg_l2_loss: 0.0049 - loss: 0.4873 - learning_rate: 2.1105e-04 - gradient_norm: 0.6339 - val_det_loss: 0.5469 - val_cls_loss: 0.4199 - val_box_loss: 0.0025 - val_reg_l2_loss: 0.0049 - val_loss: 0.5517\n",
            "Epoch 48/50\n",
            "4/4 [==============================] - 6s 2s/step - det_loss: 0.4690 - cls_loss: 0.3609 - box_loss: 0.0022 - reg_l2_loss: 0.0049 - loss: 0.4739 - learning_rate: 7.9806e-05 - gradient_norm: 0.6606 - val_det_loss: 0.5460 - val_cls_loss: 0.4177 - val_box_loss: 0.0026 - val_reg_l2_loss: 0.0049 - val_loss: 0.5508\n",
            "Epoch 49/50\n",
            "4/4 [==============================] - 9s 3s/step - det_loss: 0.4920 - cls_loss: 0.3670 - box_loss: 0.0025 - reg_l2_loss: 0.0049 - loss: 0.4969 - learning_rate: 1.2441e-05 - gradient_norm: 0.7623 - val_det_loss: 0.5453 - val_cls_loss: 0.4163 - val_box_loss: 0.0026 - val_reg_l2_loss: 0.0049 - val_loss: 0.5502\n",
            "Epoch 50/50\n",
            "4/4 [==============================] - 9s 3s/step - det_loss: 0.4962 - cls_loss: 0.3818 - box_loss: 0.0023 - reg_l2_loss: 0.0049 - loss: 0.5011 - learning_rate: 9.2315e-06 - gradient_norm: 0.6411 - val_det_loss: 0.5452 - val_cls_loss: 0.4155 - val_box_loss: 0.0026 - val_reg_l2_loss: 0.0049 - val_loss: 0.5501\n"
          ]
        }
      ]
    },
    {
      "cell_type": "code",
      "source": [
        "model1.summary()"
      ],
      "metadata": {
        "colab": {
          "base_uri": "https://localhost:8080/"
        },
        "id": "orephQh4KVwN",
        "outputId": "52dd4707-ca66-4350-8ebf-0a1ebd1e1e42"
      },
      "execution_count": null,
      "outputs": [
        {
          "output_type": "stream",
          "name": "stdout",
          "text": [
            "Model: \"\"\n",
            "_________________________________________________________________\n",
            " Layer (type)                Output Shape              Param #   \n",
            "=================================================================\n",
            " keras_layer_1 (KerasLayer)  multiple                  4234512   \n",
            "                                                                 \n",
            " class_net/class-predict (Se  multiple                 3195      \n",
            " parableConv2D)                                                  \n",
            "                                                                 \n",
            " box_net/box-predict (Separa  multiple                 3996      \n",
            " bleConv2D)                                                      \n",
            "                                                                 \n",
            "=================================================================\n",
            "Total params: 4,241,703\n",
            "Trainable params: 4,178,631\n",
            "Non-trainable params: 63,072\n",
            "_________________________________________________________________\n"
          ]
        }
      ]
    },
    {
      "cell_type": "markdown",
      "source": [
        "**EfficientDetLite2**"
      ],
      "metadata": {
        "id": "_zACzenaOlc3"
      }
    },
    {
      "cell_type": "code",
      "source": [
        "model2 = object_detector.create(\n",
        "    train_data=train_data,\n",
        "    model_spec=spec2,\n",
        "    epochs=50,\n",
        "    batch_size=25,\n",
        "    train_whole_model=False,\n",
        "    validation_data=val_data)"
      ],
      "metadata": {
        "colab": {
          "base_uri": "https://localhost:8080/"
        },
        "id": "rEnbTrwIOp-u",
        "outputId": "57306a02-a114-420f-ff81-30cd4c242e0a"
      },
      "execution_count": null,
      "outputs": [
        {
          "output_type": "stream",
          "name": "stdout",
          "text": [
            "Epoch 1/50\n",
            "4/4 [==============================] - 40s 4s/step - det_loss: 1.7955 - cls_loss: 1.1577 - box_loss: 0.0128 - reg_l2_loss: 0.0050 - loss: 1.8005 - learning_rate: 0.0185 - gradient_norm: 0.7933 - val_det_loss: 1.7245 - val_cls_loss: 1.1440 - val_box_loss: 0.0116 - val_reg_l2_loss: 0.0050 - val_loss: 1.7295\n",
            "Epoch 2/50\n",
            "4/4 [==============================] - 7s 2s/step - det_loss: 1.6629 - cls_loss: 1.1396 - box_loss: 0.0105 - reg_l2_loss: 0.0050 - loss: 1.6679 - learning_rate: 0.0312 - gradient_norm: 0.6437 - val_det_loss: 1.5654 - val_cls_loss: 1.1089 - val_box_loss: 0.0091 - val_reg_l2_loss: 0.0050 - val_loss: 1.5704\n",
            "Epoch 3/50\n",
            "4/4 [==============================] - 10s 3s/step - det_loss: 1.5187 - cls_loss: 1.0825 - box_loss: 0.0087 - reg_l2_loss: 0.0050 - loss: 1.5237 - learning_rate: 0.0311 - gradient_norm: 0.7329 - val_det_loss: 1.3845 - val_cls_loss: 1.0223 - val_box_loss: 0.0072 - val_reg_l2_loss: 0.0050 - val_loss: 1.3895\n",
            "Epoch 4/50\n",
            "4/4 [==============================] - 7s 2s/step - det_loss: 1.3040 - cls_loss: 0.9749 - box_loss: 0.0066 - reg_l2_loss: 0.0050 - loss: 1.3090 - learning_rate: 0.0309 - gradient_norm: 0.8409 - val_det_loss: 1.1097 - val_cls_loss: 0.8270 - val_box_loss: 0.0057 - val_reg_l2_loss: 0.0050 - val_loss: 1.1147\n",
            "Epoch 5/50\n",
            "4/4 [==============================] - 17s 5s/step - det_loss: 1.1674 - cls_loss: 0.8601 - box_loss: 0.0061 - reg_l2_loss: 0.0050 - loss: 1.1724 - learning_rate: 0.0306 - gradient_norm: 1.4675 - val_det_loss: 1.0631 - val_cls_loss: 0.8156 - val_box_loss: 0.0049 - val_reg_l2_loss: 0.0050 - val_loss: 1.0681\n",
            "Epoch 6/50\n",
            "4/4 [==============================] - 9s 3s/step - det_loss: 0.9878 - cls_loss: 0.7387 - box_loss: 0.0050 - reg_l2_loss: 0.0050 - loss: 0.9928 - learning_rate: 0.0303 - gradient_norm: 1.0661 - val_det_loss: 0.9306 - val_cls_loss: 0.7125 - val_box_loss: 0.0044 - val_reg_l2_loss: 0.0050 - val_loss: 0.9357\n",
            "Epoch 7/50\n",
            "4/4 [==============================] - 9s 3s/step - det_loss: 0.9305 - cls_loss: 0.7050 - box_loss: 0.0045 - reg_l2_loss: 0.0050 - loss: 0.9356 - learning_rate: 0.0299 - gradient_norm: 0.9869 - val_det_loss: 0.8725 - val_cls_loss: 0.6379 - val_box_loss: 0.0047 - val_reg_l2_loss: 0.0050 - val_loss: 0.8776\n",
            "Epoch 8/50\n",
            "4/4 [==============================] - 7s 2s/step - det_loss: 0.8465 - cls_loss: 0.6318 - box_loss: 0.0043 - reg_l2_loss: 0.0050 - loss: 0.8516 - learning_rate: 0.0295 - gradient_norm: 0.9404 - val_det_loss: 0.8118 - val_cls_loss: 0.6490 - val_box_loss: 0.0033 - val_reg_l2_loss: 0.0051 - val_loss: 0.8169\n",
            "Epoch 9/50\n",
            "4/4 [==============================] - 13s 4s/step - det_loss: 0.7993 - cls_loss: 0.5964 - box_loss: 0.0041 - reg_l2_loss: 0.0051 - loss: 0.8044 - learning_rate: 0.0290 - gradient_norm: 1.0450 - val_det_loss: 0.7288 - val_cls_loss: 0.5422 - val_box_loss: 0.0037 - val_reg_l2_loss: 0.0051 - val_loss: 0.7339\n",
            "Epoch 10/50\n",
            "4/4 [==============================] - 9s 3s/step - det_loss: 0.7099 - cls_loss: 0.5498 - box_loss: 0.0032 - reg_l2_loss: 0.0051 - loss: 0.7149 - learning_rate: 0.0285 - gradient_norm: 0.9344 - val_det_loss: 0.6998 - val_cls_loss: 0.5390 - val_box_loss: 0.0032 - val_reg_l2_loss: 0.0051 - val_loss: 0.7048\n",
            "Epoch 11/50\n",
            "4/4 [==============================] - 10s 3s/step - det_loss: 0.7126 - cls_loss: 0.5317 - box_loss: 0.0036 - reg_l2_loss: 0.0051 - loss: 0.7177 - learning_rate: 0.0279 - gradient_norm: 0.8868 - val_det_loss: 0.6305 - val_cls_loss: 0.4943 - val_box_loss: 0.0027 - val_reg_l2_loss: 0.0051 - val_loss: 0.6356\n",
            "Epoch 12/50\n",
            "4/4 [==============================] - 7s 2s/step - det_loss: 0.6602 - cls_loss: 0.4950 - box_loss: 0.0033 - reg_l2_loss: 0.0051 - loss: 0.6653 - learning_rate: 0.0272 - gradient_norm: 0.9781 - val_det_loss: 0.6113 - val_cls_loss: 0.4810 - val_box_loss: 0.0026 - val_reg_l2_loss: 0.0051 - val_loss: 0.6164\n",
            "Epoch 13/50\n",
            "4/4 [==============================] - 10s 3s/step - det_loss: 0.6454 - cls_loss: 0.4857 - box_loss: 0.0032 - reg_l2_loss: 0.0051 - loss: 0.6505 - learning_rate: 0.0265 - gradient_norm: 0.7965 - val_det_loss: 0.6033 - val_cls_loss: 0.4772 - val_box_loss: 0.0025 - val_reg_l2_loss: 0.0051 - val_loss: 0.6084\n",
            "Epoch 14/50\n",
            "4/4 [==============================] - 8s 3s/step - det_loss: 0.6185 - cls_loss: 0.4612 - box_loss: 0.0031 - reg_l2_loss: 0.0051 - loss: 0.6236 - learning_rate: 0.0258 - gradient_norm: 0.9247 - val_det_loss: 0.6380 - val_cls_loss: 0.4629 - val_box_loss: 0.0035 - val_reg_l2_loss: 0.0051 - val_loss: 0.6431\n",
            "Epoch 15/50\n",
            "4/4 [==============================] - 13s 4s/step - det_loss: 0.5879 - cls_loss: 0.4420 - box_loss: 0.0029 - reg_l2_loss: 0.0051 - loss: 0.5930 - learning_rate: 0.0250 - gradient_norm: 1.0754 - val_det_loss: 0.6065 - val_cls_loss: 0.4621 - val_box_loss: 0.0029 - val_reg_l2_loss: 0.0051 - val_loss: 0.6116\n",
            "Epoch 16/50\n",
            "4/4 [==============================] - 7s 2s/step - det_loss: 0.5623 - cls_loss: 0.4225 - box_loss: 0.0028 - reg_l2_loss: 0.0051 - loss: 0.5674 - learning_rate: 0.0242 - gradient_norm: 1.0811 - val_det_loss: 0.5929 - val_cls_loss: 0.4524 - val_box_loss: 0.0028 - val_reg_l2_loss: 0.0051 - val_loss: 0.5980\n",
            "Epoch 17/50\n",
            "4/4 [==============================] - 11s 3s/step - det_loss: 0.5356 - cls_loss: 0.4103 - box_loss: 0.0025 - reg_l2_loss: 0.0051 - loss: 0.5407 - learning_rate: 0.0233 - gradient_norm: 0.9818 - val_det_loss: 0.5747 - val_cls_loss: 0.4508 - val_box_loss: 0.0025 - val_reg_l2_loss: 0.0051 - val_loss: 0.5798\n",
            "Epoch 18/50\n",
            "4/4 [==============================] - 7s 2s/step - det_loss: 0.5815 - cls_loss: 0.4327 - box_loss: 0.0030 - reg_l2_loss: 0.0051 - loss: 0.5866 - learning_rate: 0.0224 - gradient_norm: 0.9371 - val_det_loss: 0.5513 - val_cls_loss: 0.4446 - val_box_loss: 0.0021 - val_reg_l2_loss: 0.0051 - val_loss: 0.5564\n",
            "Epoch 19/50\n",
            "4/4 [==============================] - 10s 3s/step - det_loss: 0.5426 - cls_loss: 0.4098 - box_loss: 0.0027 - reg_l2_loss: 0.0051 - loss: 0.5477 - learning_rate: 0.0215 - gradient_norm: 0.7815 - val_det_loss: 0.5658 - val_cls_loss: 0.4323 - val_box_loss: 0.0027 - val_reg_l2_loss: 0.0051 - val_loss: 0.5709\n",
            "Epoch 20/50\n",
            "4/4 [==============================] - 9s 3s/step - det_loss: 0.5294 - cls_loss: 0.3994 - box_loss: 0.0026 - reg_l2_loss: 0.0051 - loss: 0.5346 - learning_rate: 0.0206 - gradient_norm: 0.8485 - val_det_loss: 0.5323 - val_cls_loss: 0.4268 - val_box_loss: 0.0021 - val_reg_l2_loss: 0.0051 - val_loss: 0.5374\n",
            "Epoch 21/50\n",
            "4/4 [==============================] - 11s 4s/step - det_loss: 0.5256 - cls_loss: 0.4029 - box_loss: 0.0025 - reg_l2_loss: 0.0051 - loss: 0.5307 - learning_rate: 0.0196 - gradient_norm: 0.7469 - val_det_loss: 0.5394 - val_cls_loss: 0.4390 - val_box_loss: 0.0020 - val_reg_l2_loss: 0.0051 - val_loss: 0.5446\n",
            "Epoch 22/50\n",
            "4/4 [==============================] - 7s 2s/step - det_loss: 0.5083 - cls_loss: 0.3936 - box_loss: 0.0023 - reg_l2_loss: 0.0051 - loss: 0.5135 - learning_rate: 0.0187 - gradient_norm: 0.7487 - val_det_loss: 0.5226 - val_cls_loss: 0.4330 - val_box_loss: 0.0018 - val_reg_l2_loss: 0.0051 - val_loss: 0.5277\n",
            "Epoch 23/50\n",
            "4/4 [==============================] - 10s 3s/step - det_loss: 0.4901 - cls_loss: 0.3853 - box_loss: 0.0021 - reg_l2_loss: 0.0051 - loss: 0.4953 - learning_rate: 0.0177 - gradient_norm: 0.7513 - val_det_loss: 0.5486 - val_cls_loss: 0.4534 - val_box_loss: 0.0019 - val_reg_l2_loss: 0.0051 - val_loss: 0.5537\n",
            "Epoch 24/50\n",
            "4/4 [==============================] - 7s 2s/step - det_loss: 0.5175 - cls_loss: 0.4020 - box_loss: 0.0023 - reg_l2_loss: 0.0051 - loss: 0.5226 - learning_rate: 0.0167 - gradient_norm: 0.6750 - val_det_loss: 0.4953 - val_cls_loss: 0.4119 - val_box_loss: 0.0017 - val_reg_l2_loss: 0.0051 - val_loss: 0.5004\n",
            "Epoch 25/50\n",
            "4/4 [==============================] - 13s 4s/step - det_loss: 0.4911 - cls_loss: 0.3770 - box_loss: 0.0023 - reg_l2_loss: 0.0051 - loss: 0.4962 - learning_rate: 0.0157 - gradient_norm: 0.6554 - val_det_loss: 0.5016 - val_cls_loss: 0.4144 - val_box_loss: 0.0017 - val_reg_l2_loss: 0.0051 - val_loss: 0.5067\n",
            "Epoch 26/50\n",
            "4/4 [==============================] - 7s 2s/step - det_loss: 0.5065 - cls_loss: 0.3887 - box_loss: 0.0024 - reg_l2_loss: 0.0051 - loss: 0.5116 - learning_rate: 0.0147 - gradient_norm: 0.7310 - val_det_loss: 0.5156 - val_cls_loss: 0.4276 - val_box_loss: 0.0018 - val_reg_l2_loss: 0.0051 - val_loss: 0.5207\n",
            "Epoch 27/50\n",
            "4/4 [==============================] - 10s 3s/step - det_loss: 0.4860 - cls_loss: 0.3726 - box_loss: 0.0023 - reg_l2_loss: 0.0052 - loss: 0.4911 - learning_rate: 0.0137 - gradient_norm: 0.8317 - val_det_loss: 0.4882 - val_cls_loss: 0.4129 - val_box_loss: 0.0015 - val_reg_l2_loss: 0.0052 - val_loss: 0.4934\n",
            "Epoch 28/50\n",
            "4/4 [==============================] - 7s 2s/step - det_loss: 0.4930 - cls_loss: 0.3795 - box_loss: 0.0023 - reg_l2_loss: 0.0052 - loss: 0.4982 - learning_rate: 0.0127 - gradient_norm: 0.7301 - val_det_loss: 0.4840 - val_cls_loss: 0.4030 - val_box_loss: 0.0016 - val_reg_l2_loss: 0.0052 - val_loss: 0.4892\n",
            "Epoch 29/50\n",
            "4/4 [==============================] - 11s 3s/step - det_loss: 0.4775 - cls_loss: 0.3665 - box_loss: 0.0022 - reg_l2_loss: 0.0052 - loss: 0.4827 - learning_rate: 0.0117 - gradient_norm: 0.8041 - val_det_loss: 0.5021 - val_cls_loss: 0.4210 - val_box_loss: 0.0016 - val_reg_l2_loss: 0.0052 - val_loss: 0.5073\n",
            "Epoch 30/50\n",
            "4/4 [==============================] - 9s 3s/step - det_loss: 0.4903 - cls_loss: 0.3780 - box_loss: 0.0022 - reg_l2_loss: 0.0052 - loss: 0.4955 - learning_rate: 0.0107 - gradient_norm: 0.8601 - val_det_loss: 0.4846 - val_cls_loss: 0.4076 - val_box_loss: 0.0015 - val_reg_l2_loss: 0.0052 - val_loss: 0.4898\n",
            "Epoch 31/50\n",
            "4/4 [==============================] - 12s 4s/step - det_loss: 0.4429 - cls_loss: 0.3529 - box_loss: 0.0018 - reg_l2_loss: 0.0052 - loss: 0.4480 - learning_rate: 0.0098 - gradient_norm: 0.7263 - val_det_loss: 0.4994 - val_cls_loss: 0.4268 - val_box_loss: 0.0015 - val_reg_l2_loss: 0.0052 - val_loss: 0.5045\n",
            "Epoch 32/50\n",
            "4/4 [==============================] - 9s 3s/step - det_loss: 0.4713 - cls_loss: 0.3740 - box_loss: 0.0019 - reg_l2_loss: 0.0052 - loss: 0.4765 - learning_rate: 0.0089 - gradient_norm: 0.8864 - val_det_loss: 0.5208 - val_cls_loss: 0.4450 - val_box_loss: 0.0015 - val_reg_l2_loss: 0.0052 - val_loss: 0.5259\n",
            "Epoch 33/50\n",
            "4/4 [==============================] - 10s 3s/step - det_loss: 0.4528 - cls_loss: 0.3555 - box_loss: 0.0019 - reg_l2_loss: 0.0052 - loss: 0.4579 - learning_rate: 0.0080 - gradient_norm: 0.8147 - val_det_loss: 0.4720 - val_cls_loss: 0.3965 - val_box_loss: 0.0015 - val_reg_l2_loss: 0.0052 - val_loss: 0.4772\n",
            "Epoch 34/50\n",
            "4/4 [==============================] - 7s 2s/step - det_loss: 0.4623 - cls_loss: 0.3591 - box_loss: 0.0021 - reg_l2_loss: 0.0052 - loss: 0.4675 - learning_rate: 0.0071 - gradient_norm: 0.7808 - val_det_loss: 0.4789 - val_cls_loss: 0.4044 - val_box_loss: 0.0015 - val_reg_l2_loss: 0.0052 - val_loss: 0.4841\n",
            "Epoch 35/50\n",
            "4/4 [==============================] - 12s 4s/step - det_loss: 0.4967 - cls_loss: 0.3762 - box_loss: 0.0024 - reg_l2_loss: 0.0052 - loss: 0.5018 - learning_rate: 0.0063 - gradient_norm: 0.8409 - val_det_loss: 0.4753 - val_cls_loss: 0.4002 - val_box_loss: 0.0015 - val_reg_l2_loss: 0.0052 - val_loss: 0.4804\n",
            "Epoch 36/50\n",
            "4/4 [==============================] - 7s 2s/step - det_loss: 0.4630 - cls_loss: 0.3560 - box_loss: 0.0021 - reg_l2_loss: 0.0052 - loss: 0.4681 - learning_rate: 0.0055 - gradient_norm: 0.7844 - val_det_loss: 0.4810 - val_cls_loss: 0.4023 - val_box_loss: 0.0016 - val_reg_l2_loss: 0.0052 - val_loss: 0.4862\n",
            "Epoch 37/50\n",
            "4/4 [==============================] - 11s 4s/step - det_loss: 0.4908 - cls_loss: 0.3732 - box_loss: 0.0024 - reg_l2_loss: 0.0052 - loss: 0.4960 - learning_rate: 0.0048 - gradient_norm: 0.7061 - val_det_loss: 0.4707 - val_cls_loss: 0.3990 - val_box_loss: 0.0014 - val_reg_l2_loss: 0.0052 - val_loss: 0.4759\n",
            "Epoch 38/50\n",
            "4/4 [==============================] - 7s 2s/step - det_loss: 0.4362 - cls_loss: 0.3472 - box_loss: 0.0018 - reg_l2_loss: 0.0052 - loss: 0.4414 - learning_rate: 0.0041 - gradient_norm: 0.7225 - val_det_loss: 0.4761 - val_cls_loss: 0.4046 - val_box_loss: 0.0014 - val_reg_l2_loss: 0.0052 - val_loss: 0.4812\n",
            "Epoch 39/50\n",
            "4/4 [==============================] - 10s 3s/step - det_loss: 0.4528 - cls_loss: 0.3538 - box_loss: 0.0020 - reg_l2_loss: 0.0052 - loss: 0.4580 - learning_rate: 0.0034 - gradient_norm: 0.7183 - val_det_loss: 0.4729 - val_cls_loss: 0.3972 - val_box_loss: 0.0015 - val_reg_l2_loss: 0.0052 - val_loss: 0.4781\n",
            "Epoch 40/50\n",
            "4/4 [==============================] - 9s 3s/step - det_loss: 0.4741 - cls_loss: 0.3637 - box_loss: 0.0022 - reg_l2_loss: 0.0052 - loss: 0.4793 - learning_rate: 0.0028 - gradient_norm: 0.7164 - val_det_loss: 0.4629 - val_cls_loss: 0.3880 - val_box_loss: 0.0015 - val_reg_l2_loss: 0.0052 - val_loss: 0.4681\n",
            "Epoch 41/50\n",
            "4/4 [==============================] - 10s 3s/step - det_loss: 0.4637 - cls_loss: 0.3660 - box_loss: 0.0020 - reg_l2_loss: 0.0052 - loss: 0.4689 - learning_rate: 0.0023 - gradient_norm: 0.7428 - val_det_loss: 0.4568 - val_cls_loss: 0.3847 - val_box_loss: 0.0014 - val_reg_l2_loss: 0.0052 - val_loss: 0.4620\n",
            "Epoch 42/50\n",
            "4/4 [==============================] - 7s 2s/step - det_loss: 0.4506 - cls_loss: 0.3476 - box_loss: 0.0021 - reg_l2_loss: 0.0052 - loss: 0.4558 - learning_rate: 0.0018 - gradient_norm: 0.7396 - val_det_loss: 0.4548 - val_cls_loss: 0.3842 - val_box_loss: 0.0014 - val_reg_l2_loss: 0.0052 - val_loss: 0.4600\n",
            "Epoch 43/50\n",
            "4/4 [==============================] - 10s 3s/step - det_loss: 0.4481 - cls_loss: 0.3553 - box_loss: 0.0019 - reg_l2_loss: 0.0052 - loss: 0.4533 - learning_rate: 0.0014 - gradient_norm: 0.6880 - val_det_loss: 0.4519 - val_cls_loss: 0.3814 - val_box_loss: 0.0014 - val_reg_l2_loss: 0.0052 - val_loss: 0.4571\n",
            "Epoch 44/50\n",
            "4/4 [==============================] - 9s 3s/step - det_loss: 0.4873 - cls_loss: 0.3742 - box_loss: 0.0023 - reg_l2_loss: 0.0052 - loss: 0.4925 - learning_rate: 9.8136e-04 - gradient_norm: 0.7665 - val_det_loss: 0.4508 - val_cls_loss: 0.3795 - val_box_loss: 0.0014 - val_reg_l2_loss: 0.0052 - val_loss: 0.4559\n",
            "Epoch 45/50\n",
            "4/4 [==============================] - 12s 4s/step - det_loss: 0.4464 - cls_loss: 0.3598 - box_loss: 0.0017 - reg_l2_loss: 0.0052 - loss: 0.4516 - learning_rate: 6.6276e-04 - gradient_norm: 0.7500 - val_det_loss: 0.4499 - val_cls_loss: 0.3779 - val_box_loss: 0.0014 - val_reg_l2_loss: 0.0052 - val_loss: 0.4550\n",
            "Epoch 46/50\n",
            "4/4 [==============================] - 7s 2s/step - det_loss: 0.4587 - cls_loss: 0.3587 - box_loss: 0.0020 - reg_l2_loss: 0.0052 - loss: 0.4638 - learning_rate: 4.0563e-04 - gradient_norm: 0.6480 - val_det_loss: 0.4486 - val_cls_loss: 0.3762 - val_box_loss: 0.0014 - val_reg_l2_loss: 0.0052 - val_loss: 0.4537\n",
            "Epoch 47/50\n",
            "4/4 [==============================] - 10s 3s/step - det_loss: 0.4529 - cls_loss: 0.3482 - box_loss: 0.0021 - reg_l2_loss: 0.0052 - loss: 0.4581 - learning_rate: 2.1105e-04 - gradient_norm: 0.7369 - val_det_loss: 0.4465 - val_cls_loss: 0.3743 - val_box_loss: 0.0014 - val_reg_l2_loss: 0.0052 - val_loss: 0.4517\n",
            "Epoch 48/50\n",
            "4/4 [==============================] - 7s 2s/step - det_loss: 0.4483 - cls_loss: 0.3524 - box_loss: 0.0019 - reg_l2_loss: 0.0052 - loss: 0.4534 - learning_rate: 7.9806e-05 - gradient_norm: 0.7691 - val_det_loss: 0.4455 - val_cls_loss: 0.3731 - val_box_loss: 0.0014 - val_reg_l2_loss: 0.0052 - val_loss: 0.4507\n",
            "Epoch 49/50\n",
            "4/4 [==============================] - 10s 3s/step - det_loss: 0.4361 - cls_loss: 0.3432 - box_loss: 0.0019 - reg_l2_loss: 0.0052 - loss: 0.4413 - learning_rate: 1.2441e-05 - gradient_norm: 0.5730 - val_det_loss: 0.4441 - val_cls_loss: 0.3717 - val_box_loss: 0.0014 - val_reg_l2_loss: 0.0052 - val_loss: 0.4493\n",
            "Epoch 50/50\n",
            "4/4 [==============================] - 9s 3s/step - det_loss: 0.3972 - cls_loss: 0.3163 - box_loss: 0.0016 - reg_l2_loss: 0.0052 - loss: 0.4023 - learning_rate: 9.2315e-06 - gradient_norm: 0.6744 - val_det_loss: 0.4423 - val_cls_loss: 0.3700 - val_box_loss: 0.0014 - val_reg_l2_loss: 0.0052 - val_loss: 0.4475\n"
          ]
        }
      ]
    },
    {
      "cell_type": "code",
      "source": [
        "model2.summary()"
      ],
      "metadata": {
        "colab": {
          "base_uri": "https://localhost:8080/"
        },
        "id": "hZ05utTvOu5a",
        "outputId": "18c85d9e-47ee-43f7-fd94-802d1a648355"
      },
      "execution_count": null,
      "outputs": [
        {
          "output_type": "stream",
          "name": "stdout",
          "text": [
            "Model: \"\"\n",
            "_________________________________________________________________\n",
            " Layer (type)                Output Shape              Param #   \n",
            "=================================================================\n",
            " keras_layer_2 (KerasLayer)  multiple                  5227280   \n",
            "                                                                 \n",
            " class_net/class-predict (Se  multiple                 4059      \n",
            " parableConv2D)                                                  \n",
            "                                                                 \n",
            " box_net/box-predict (Separa  multiple                 5076      \n",
            " bleConv2D)                                                      \n",
            "                                                                 \n",
            "=================================================================\n",
            "Total params: 5,236,415\n",
            "Trainable params: 5,163,855\n",
            "Non-trainable params: 72,560\n",
            "_________________________________________________________________\n"
          ]
        }
      ]
    },
    {
      "cell_type": "markdown",
      "source": [
        "**EfficientDetLite3**"
      ],
      "metadata": {
        "id": "qhfBLVU-GSSp"
      }
    },
    {
      "cell_type": "code",
      "source": [
        "model3 = object_detector.create(\n",
        "    train_data=train_data,\n",
        "    model_spec=spec3,\n",
        "    epochs=50,\n",
        "    batch_size=25,\n",
        "    train_whole_model=False,\n",
        "    validation_data=val_data)"
      ],
      "metadata": {
        "colab": {
          "base_uri": "https://localhost:8080/"
        },
        "id": "2vL7yLt5GVpA",
        "outputId": "31468f99-01b9-4ca6-8d58-10cb13772bc0"
      },
      "execution_count": null,
      "outputs": [
        {
          "output_type": "stream",
          "name": "stdout",
          "text": [
            "Epoch 1/50\n",
            "4/4 [==============================] - 50s 5s/step - det_loss: 1.7757 - cls_loss: 1.1541 - box_loss: 0.0124 - reg_l2_loss: 0.0065 - loss: 1.7822 - learning_rate: 0.0185 - gradient_norm: 0.7881 - val_det_loss: 1.7040 - val_cls_loss: 1.1367 - val_box_loss: 0.0113 - val_reg_l2_loss: 0.0065 - val_loss: 1.7105\n",
            "Epoch 2/50\n",
            "4/4 [==============================] - 9s 3s/step - det_loss: 1.6422 - cls_loss: 1.1300 - box_loss: 0.0102 - reg_l2_loss: 0.0065 - loss: 1.6487 - learning_rate: 0.0312 - gradient_norm: 0.6806 - val_det_loss: 1.5532 - val_cls_loss: 1.1042 - val_box_loss: 0.0090 - val_reg_l2_loss: 0.0065 - val_loss: 1.5598\n",
            "Epoch 3/50\n",
            "4/4 [==============================] - 12s 4s/step - det_loss: 1.5023 - cls_loss: 1.0816 - box_loss: 0.0084 - reg_l2_loss: 0.0065 - loss: 1.5088 - learning_rate: 0.0311 - gradient_norm: 0.8656 - val_det_loss: 1.4098 - val_cls_loss: 1.0262 - val_box_loss: 0.0077 - val_reg_l2_loss: 0.0065 - val_loss: 1.4164\n",
            "Epoch 4/50\n",
            "4/4 [==============================] - 9s 3s/step - det_loss: 1.2947 - cls_loss: 0.9667 - box_loss: 0.0066 - reg_l2_loss: 0.0065 - loss: 1.3012 - learning_rate: 0.0309 - gradient_norm: 0.9142 - val_det_loss: 1.1322 - val_cls_loss: 0.8244 - val_box_loss: 0.0062 - val_reg_l2_loss: 0.0066 - val_loss: 1.1387\n",
            "Epoch 5/50\n",
            "4/4 [==============================] - 21s 7s/step - det_loss: 1.1206 - cls_loss: 0.8152 - box_loss: 0.0061 - reg_l2_loss: 0.0066 - loss: 1.1272 - learning_rate: 0.0306 - gradient_norm: 1.3511 - val_det_loss: 1.0259 - val_cls_loss: 0.7782 - val_box_loss: 0.0050 - val_reg_l2_loss: 0.0066 - val_loss: 1.0324\n",
            "Epoch 6/50\n",
            "4/4 [==============================] - 10s 3s/step - det_loss: 0.8634 - cls_loss: 0.6550 - box_loss: 0.0042 - reg_l2_loss: 0.0066 - loss: 0.8700 - learning_rate: 0.0303 - gradient_norm: 1.1019 - val_det_loss: 0.8085 - val_cls_loss: 0.6085 - val_box_loss: 0.0040 - val_reg_l2_loss: 0.0066 - val_loss: 0.8151\n",
            "Epoch 7/50\n",
            "4/4 [==============================] - 11s 3s/step - det_loss: 0.8506 - cls_loss: 0.6484 - box_loss: 0.0040 - reg_l2_loss: 0.0066 - loss: 0.8572 - learning_rate: 0.0299 - gradient_norm: 1.0460 - val_det_loss: 0.8948 - val_cls_loss: 0.6963 - val_box_loss: 0.0040 - val_reg_l2_loss: 0.0066 - val_loss: 0.9014\n",
            "Epoch 8/50\n",
            "4/4 [==============================] - 9s 3s/step - det_loss: 0.7746 - cls_loss: 0.5997 - box_loss: 0.0035 - reg_l2_loss: 0.0066 - loss: 0.7812 - learning_rate: 0.0295 - gradient_norm: 1.0625 - val_det_loss: 0.7621 - val_cls_loss: 0.6022 - val_box_loss: 0.0032 - val_reg_l2_loss: 0.0066 - val_loss: 0.7688\n",
            "Epoch 9/50\n",
            "4/4 [==============================] - 12s 4s/step - det_loss: 0.7424 - cls_loss: 0.5718 - box_loss: 0.0034 - reg_l2_loss: 0.0066 - loss: 0.7490 - learning_rate: 0.0290 - gradient_norm: 0.9377 - val_det_loss: 0.7548 - val_cls_loss: 0.6031 - val_box_loss: 0.0030 - val_reg_l2_loss: 0.0066 - val_loss: 0.7615\n",
            "Epoch 10/50\n",
            "4/4 [==============================] - 12s 4s/step - det_loss: 0.6752 - cls_loss: 0.5244 - box_loss: 0.0030 - reg_l2_loss: 0.0066 - loss: 0.6818 - learning_rate: 0.0285 - gradient_norm: 0.7855 - val_det_loss: 0.6834 - val_cls_loss: 0.5326 - val_box_loss: 0.0030 - val_reg_l2_loss: 0.0066 - val_loss: 0.6900\n",
            "Epoch 11/50\n",
            "4/4 [==============================] - 11s 3s/step - det_loss: 0.6331 - cls_loss: 0.5012 - box_loss: 0.0026 - reg_l2_loss: 0.0066 - loss: 0.6398 - learning_rate: 0.0279 - gradient_norm: 0.7324 - val_det_loss: 0.7056 - val_cls_loss: 0.5704 - val_box_loss: 0.0027 - val_reg_l2_loss: 0.0066 - val_loss: 0.7122\n",
            "Epoch 12/50\n",
            "4/4 [==============================] - 10s 3s/step - det_loss: 0.5994 - cls_loss: 0.4747 - box_loss: 0.0025 - reg_l2_loss: 0.0066 - loss: 0.6061 - learning_rate: 0.0272 - gradient_norm: 0.7803 - val_det_loss: 0.6200 - val_cls_loss: 0.5037 - val_box_loss: 0.0023 - val_reg_l2_loss: 0.0066 - val_loss: 0.6267\n",
            "Epoch 13/50\n",
            "4/4 [==============================] - 9s 3s/step - det_loss: 0.5803 - cls_loss: 0.4623 - box_loss: 0.0024 - reg_l2_loss: 0.0066 - loss: 0.5870 - learning_rate: 0.0265 - gradient_norm: 0.7115 - val_det_loss: 0.6409 - val_cls_loss: 0.5213 - val_box_loss: 0.0024 - val_reg_l2_loss: 0.0066 - val_loss: 0.6475\n",
            "Epoch 14/50\n",
            "4/4 [==============================] - 12s 4s/step - det_loss: 0.5621 - cls_loss: 0.4459 - box_loss: 0.0023 - reg_l2_loss: 0.0066 - loss: 0.5688 - learning_rate: 0.0258 - gradient_norm: 0.7642 - val_det_loss: 0.5951 - val_cls_loss: 0.4609 - val_box_loss: 0.0027 - val_reg_l2_loss: 0.0066 - val_loss: 0.6017\n",
            "Epoch 15/50\n",
            "4/4 [==============================] - 12s 4s/step - det_loss: 0.5422 - cls_loss: 0.4257 - box_loss: 0.0023 - reg_l2_loss: 0.0067 - loss: 0.5489 - learning_rate: 0.0250 - gradient_norm: 0.7725 - val_det_loss: 0.6281 - val_cls_loss: 0.5268 - val_box_loss: 0.0020 - val_reg_l2_loss: 0.0067 - val_loss: 0.6348\n",
            "Epoch 16/50\n",
            "4/4 [==============================] - 10s 3s/step - det_loss: 0.5357 - cls_loss: 0.4247 - box_loss: 0.0022 - reg_l2_loss: 0.0067 - loss: 0.5424 - learning_rate: 0.0242 - gradient_norm: 0.8374 - val_det_loss: 0.5403 - val_cls_loss: 0.4332 - val_box_loss: 0.0021 - val_reg_l2_loss: 0.0067 - val_loss: 0.5469\n",
            "Epoch 17/50\n",
            "4/4 [==============================] - 10s 3s/step - det_loss: 0.5138 - cls_loss: 0.4036 - box_loss: 0.0022 - reg_l2_loss: 0.0067 - loss: 0.5204 - learning_rate: 0.0233 - gradient_norm: 0.7898 - val_det_loss: 0.5436 - val_cls_loss: 0.4298 - val_box_loss: 0.0023 - val_reg_l2_loss: 0.0067 - val_loss: 0.5503\n",
            "Epoch 18/50\n",
            "4/4 [==============================] - 10s 3s/step - det_loss: 0.5134 - cls_loss: 0.4055 - box_loss: 0.0022 - reg_l2_loss: 0.0067 - loss: 0.5201 - learning_rate: 0.0224 - gradient_norm: 0.7539 - val_det_loss: 0.5292 - val_cls_loss: 0.4313 - val_box_loss: 0.0020 - val_reg_l2_loss: 0.0067 - val_loss: 0.5359\n",
            "Epoch 19/50\n",
            "4/4 [==============================] - 10s 3s/step - det_loss: 0.4876 - cls_loss: 0.3889 - box_loss: 0.0020 - reg_l2_loss: 0.0067 - loss: 0.4942 - learning_rate: 0.0215 - gradient_norm: 0.7584 - val_det_loss: 0.5093 - val_cls_loss: 0.4110 - val_box_loss: 0.0020 - val_reg_l2_loss: 0.0067 - val_loss: 0.5160\n",
            "Epoch 20/50\n",
            "4/4 [==============================] - 12s 4s/step - det_loss: 0.4971 - cls_loss: 0.3944 - box_loss: 0.0021 - reg_l2_loss: 0.0067 - loss: 0.5037 - learning_rate: 0.0206 - gradient_norm: 0.9101 - val_det_loss: 0.5140 - val_cls_loss: 0.4174 - val_box_loss: 0.0019 - val_reg_l2_loss: 0.0067 - val_loss: 0.5206\n",
            "Epoch 21/50\n",
            "4/4 [==============================] - 12s 4s/step - det_loss: 0.4617 - cls_loss: 0.3809 - box_loss: 0.0016 - reg_l2_loss: 0.0067 - loss: 0.4684 - learning_rate: 0.0196 - gradient_norm: 0.9324 - val_det_loss: 0.5056 - val_cls_loss: 0.4008 - val_box_loss: 0.0021 - val_reg_l2_loss: 0.0067 - val_loss: 0.5123\n",
            "Epoch 22/50\n",
            "4/4 [==============================] - 9s 3s/step - det_loss: 0.4817 - cls_loss: 0.3815 - box_loss: 0.0020 - reg_l2_loss: 0.0067 - loss: 0.4883 - learning_rate: 0.0187 - gradient_norm: 0.8548 - val_det_loss: 0.4827 - val_cls_loss: 0.3941 - val_box_loss: 0.0018 - val_reg_l2_loss: 0.0067 - val_loss: 0.4893\n",
            "Epoch 23/50\n",
            "4/4 [==============================] - 11s 3s/step - det_loss: 0.4535 - cls_loss: 0.3676 - box_loss: 0.0017 - reg_l2_loss: 0.0067 - loss: 0.4602 - learning_rate: 0.0177 - gradient_norm: 0.6984 - val_det_loss: 0.4914 - val_cls_loss: 0.3985 - val_box_loss: 0.0019 - val_reg_l2_loss: 0.0067 - val_loss: 0.4981\n",
            "Epoch 24/50\n",
            "4/4 [==============================] - 9s 3s/step - det_loss: 0.4551 - cls_loss: 0.3671 - box_loss: 0.0018 - reg_l2_loss: 0.0067 - loss: 0.4618 - learning_rate: 0.0167 - gradient_norm: 0.8752 - val_det_loss: 0.5014 - val_cls_loss: 0.4044 - val_box_loss: 0.0019 - val_reg_l2_loss: 0.0067 - val_loss: 0.5081\n",
            "Epoch 25/50\n",
            "4/4 [==============================] - 13s 4s/step - det_loss: 0.4230 - cls_loss: 0.3472 - box_loss: 0.0015 - reg_l2_loss: 0.0067 - loss: 0.4297 - learning_rate: 0.0157 - gradient_norm: 0.8122 - val_det_loss: 0.4812 - val_cls_loss: 0.4022 - val_box_loss: 0.0016 - val_reg_l2_loss: 0.0067 - val_loss: 0.4879\n",
            "Epoch 26/50\n",
            "4/4 [==============================] - 12s 4s/step - det_loss: 0.4526 - cls_loss: 0.3608 - box_loss: 0.0018 - reg_l2_loss: 0.0067 - loss: 0.4593 - learning_rate: 0.0147 - gradient_norm: 0.8907 - val_det_loss: 0.4769 - val_cls_loss: 0.3956 - val_box_loss: 0.0016 - val_reg_l2_loss: 0.0067 - val_loss: 0.4836\n",
            "Epoch 27/50\n",
            "4/4 [==============================] - 9s 3s/step - det_loss: 0.4568 - cls_loss: 0.3700 - box_loss: 0.0017 - reg_l2_loss: 0.0067 - loss: 0.4635 - learning_rate: 0.0137 - gradient_norm: 0.8138 - val_det_loss: 0.4720 - val_cls_loss: 0.3945 - val_box_loss: 0.0015 - val_reg_l2_loss: 0.0067 - val_loss: 0.4787\n",
            "Epoch 28/50\n",
            "4/4 [==============================] - 12s 4s/step - det_loss: 0.4181 - cls_loss: 0.3441 - box_loss: 0.0015 - reg_l2_loss: 0.0067 - loss: 0.4248 - learning_rate: 0.0127 - gradient_norm: 0.7609 - val_det_loss: 0.4545 - val_cls_loss: 0.3833 - val_box_loss: 0.0014 - val_reg_l2_loss: 0.0067 - val_loss: 0.4612\n",
            "Epoch 29/50\n",
            "4/4 [==============================] - 10s 3s/step - det_loss: 0.4175 - cls_loss: 0.3476 - box_loss: 0.0014 - reg_l2_loss: 0.0067 - loss: 0.4242 - learning_rate: 0.0117 - gradient_norm: 0.6816 - val_det_loss: 0.4595 - val_cls_loss: 0.3846 - val_box_loss: 0.0015 - val_reg_l2_loss: 0.0067 - val_loss: 0.4662\n",
            "Epoch 30/50\n",
            "4/4 [==============================] - 13s 4s/step - det_loss: 0.4302 - cls_loss: 0.3459 - box_loss: 0.0017 - reg_l2_loss: 0.0067 - loss: 0.4369 - learning_rate: 0.0107 - gradient_norm: 0.7759 - val_det_loss: 0.4703 - val_cls_loss: 0.3985 - val_box_loss: 0.0014 - val_reg_l2_loss: 0.0067 - val_loss: 0.4770\n",
            "Epoch 31/50\n",
            "4/4 [==============================] - 12s 4s/step - det_loss: 0.4443 - cls_loss: 0.3598 - box_loss: 0.0017 - reg_l2_loss: 0.0067 - loss: 0.4510 - learning_rate: 0.0098 - gradient_norm: 0.7817 - val_det_loss: 0.4486 - val_cls_loss: 0.3776 - val_box_loss: 0.0014 - val_reg_l2_loss: 0.0067 - val_loss: 0.4553\n",
            "Epoch 32/50\n",
            "4/4 [==============================] - 9s 3s/step - det_loss: 0.4228 - cls_loss: 0.3428 - box_loss: 0.0016 - reg_l2_loss: 0.0067 - loss: 0.4295 - learning_rate: 0.0089 - gradient_norm: 0.7920 - val_det_loss: 0.4460 - val_cls_loss: 0.3765 - val_box_loss: 0.0014 - val_reg_l2_loss: 0.0067 - val_loss: 0.4527\n",
            "Epoch 33/50\n",
            "4/4 [==============================] - 12s 4s/step - det_loss: 0.4055 - cls_loss: 0.3280 - box_loss: 0.0016 - reg_l2_loss: 0.0067 - loss: 0.4122 - learning_rate: 0.0080 - gradient_norm: 0.7570 - val_det_loss: 0.4750 - val_cls_loss: 0.4073 - val_box_loss: 0.0014 - val_reg_l2_loss: 0.0067 - val_loss: 0.4817\n",
            "Epoch 34/50\n",
            "4/4 [==============================] - 10s 3s/step - det_loss: 0.4422 - cls_loss: 0.3669 - box_loss: 0.0015 - reg_l2_loss: 0.0067 - loss: 0.4489 - learning_rate: 0.0071 - gradient_norm: 0.9573 - val_det_loss: 0.4566 - val_cls_loss: 0.3866 - val_box_loss: 0.0014 - val_reg_l2_loss: 0.0067 - val_loss: 0.4634\n",
            "Epoch 35/50\n",
            "4/4 [==============================] - 12s 4s/step - det_loss: 0.4836 - cls_loss: 0.3822 - box_loss: 0.0020 - reg_l2_loss: 0.0067 - loss: 0.4903 - learning_rate: 0.0063 - gradient_norm: 0.7243 - val_det_loss: 0.4389 - val_cls_loss: 0.3689 - val_box_loss: 0.0014 - val_reg_l2_loss: 0.0067 - val_loss: 0.4456\n",
            "Epoch 36/50\n",
            "4/4 [==============================] - 12s 4s/step - det_loss: 0.4102 - cls_loss: 0.3348 - box_loss: 0.0015 - reg_l2_loss: 0.0067 - loss: 0.4169 - learning_rate: 0.0055 - gradient_norm: 0.7561 - val_det_loss: 0.4398 - val_cls_loss: 0.3706 - val_box_loss: 0.0014 - val_reg_l2_loss: 0.0067 - val_loss: 0.4466\n",
            "Epoch 37/50\n",
            "4/4 [==============================] - 9s 3s/step - det_loss: 0.4432 - cls_loss: 0.3539 - box_loss: 0.0018 - reg_l2_loss: 0.0067 - loss: 0.4500 - learning_rate: 0.0048 - gradient_norm: 0.9257 - val_det_loss: 0.4581 - val_cls_loss: 0.3848 - val_box_loss: 0.0015 - val_reg_l2_loss: 0.0067 - val_loss: 0.4648\n",
            "Epoch 38/50\n",
            "4/4 [==============================] - 11s 3s/step - det_loss: 0.4249 - cls_loss: 0.3400 - box_loss: 0.0017 - reg_l2_loss: 0.0067 - loss: 0.4317 - learning_rate: 0.0041 - gradient_norm: 0.7545 - val_det_loss: 0.4718 - val_cls_loss: 0.4008 - val_box_loss: 0.0014 - val_reg_l2_loss: 0.0067 - val_loss: 0.4785\n",
            "Epoch 39/50\n",
            "4/4 [==============================] - 8s 3s/step - det_loss: 0.4426 - cls_loss: 0.3472 - box_loss: 0.0019 - reg_l2_loss: 0.0067 - loss: 0.4493 - learning_rate: 0.0034 - gradient_norm: 0.8421 - val_det_loss: 0.4653 - val_cls_loss: 0.3945 - val_box_loss: 0.0014 - val_reg_l2_loss: 0.0067 - val_loss: 0.4720\n",
            "Epoch 40/50\n",
            "4/4 [==============================] - 14s 4s/step - det_loss: 0.4272 - cls_loss: 0.3555 - box_loss: 0.0014 - reg_l2_loss: 0.0067 - loss: 0.4339 - learning_rate: 0.0028 - gradient_norm: 0.7951 - val_det_loss: 0.4421 - val_cls_loss: 0.3725 - val_box_loss: 0.0014 - val_reg_l2_loss: 0.0067 - val_loss: 0.4488\n",
            "Epoch 41/50\n",
            "4/4 [==============================] - 11s 3s/step - det_loss: 0.4084 - cls_loss: 0.3291 - box_loss: 0.0016 - reg_l2_loss: 0.0067 - loss: 0.4151 - learning_rate: 0.0023 - gradient_norm: 0.6659 - val_det_loss: 0.4297 - val_cls_loss: 0.3604 - val_box_loss: 0.0014 - val_reg_l2_loss: 0.0067 - val_loss: 0.4364\n",
            "Epoch 42/50\n",
            "4/4 [==============================] - 9s 3s/step - det_loss: 0.4228 - cls_loss: 0.3589 - box_loss: 0.0013 - reg_l2_loss: 0.0067 - loss: 0.4296 - learning_rate: 0.0018 - gradient_norm: 0.8353 - val_det_loss: 0.4274 - val_cls_loss: 0.3583 - val_box_loss: 0.0014 - val_reg_l2_loss: 0.0067 - val_loss: 0.4341\n",
            "Epoch 43/50\n",
            "4/4 [==============================] - 12s 4s/step - det_loss: 0.4045 - cls_loss: 0.3294 - box_loss: 0.0015 - reg_l2_loss: 0.0067 - loss: 0.4112 - learning_rate: 0.0014 - gradient_norm: 0.8298 - val_det_loss: 0.4319 - val_cls_loss: 0.3630 - val_box_loss: 0.0014 - val_reg_l2_loss: 0.0067 - val_loss: 0.4386\n",
            "Epoch 44/50\n",
            "4/4 [==============================] - 8s 3s/step - det_loss: 0.4099 - cls_loss: 0.3320 - box_loss: 0.0016 - reg_l2_loss: 0.0067 - loss: 0.4166 - learning_rate: 9.8136e-04 - gradient_norm: 0.6987 - val_det_loss: 0.4404 - val_cls_loss: 0.3714 - val_box_loss: 0.0014 - val_reg_l2_loss: 0.0067 - val_loss: 0.4471\n",
            "Epoch 45/50\n",
            "4/4 [==============================] - 14s 4s/step - det_loss: 0.4444 - cls_loss: 0.3574 - box_loss: 0.0017 - reg_l2_loss: 0.0067 - loss: 0.4511 - learning_rate: 6.6276e-04 - gradient_norm: 0.8409 - val_det_loss: 0.4462 - val_cls_loss: 0.3771 - val_box_loss: 0.0014 - val_reg_l2_loss: 0.0067 - val_loss: 0.4529\n",
            "Epoch 46/50\n",
            "4/4 [==============================] - 9s 3s/step - det_loss: 0.4253 - cls_loss: 0.3409 - box_loss: 0.0017 - reg_l2_loss: 0.0067 - loss: 0.4320 - learning_rate: 4.0563e-04 - gradient_norm: 0.7246 - val_det_loss: 0.4497 - val_cls_loss: 0.3805 - val_box_loss: 0.0014 - val_reg_l2_loss: 0.0067 - val_loss: 0.4564\n",
            "Epoch 47/50\n",
            "4/4 [==============================] - 10s 3s/step - det_loss: 0.3918 - cls_loss: 0.3268 - box_loss: 0.0013 - reg_l2_loss: 0.0067 - loss: 0.3985 - learning_rate: 2.1105e-04 - gradient_norm: 0.8141 - val_det_loss: 0.4506 - val_cls_loss: 0.3813 - val_box_loss: 0.0014 - val_reg_l2_loss: 0.0067 - val_loss: 0.4573\n",
            "Epoch 48/50\n",
            "4/4 [==============================] - 11s 3s/step - det_loss: 0.4025 - cls_loss: 0.3276 - box_loss: 0.0015 - reg_l2_loss: 0.0067 - loss: 0.4092 - learning_rate: 7.9806e-05 - gradient_norm: 0.7211 - val_det_loss: 0.4500 - val_cls_loss: 0.3806 - val_box_loss: 0.0014 - val_reg_l2_loss: 0.0067 - val_loss: 0.4567\n",
            "Epoch 49/50\n",
            "4/4 [==============================] - 9s 3s/step - det_loss: 0.4252 - cls_loss: 0.3429 - box_loss: 0.0016 - reg_l2_loss: 0.0067 - loss: 0.4319 - learning_rate: 1.2441e-05 - gradient_norm: 0.8927 - val_det_loss: 0.4490 - val_cls_loss: 0.3798 - val_box_loss: 0.0014 - val_reg_l2_loss: 0.0067 - val_loss: 0.4557\n",
            "Epoch 50/50\n",
            "4/4 [==============================] - 15s 5s/step - det_loss: 0.3914 - cls_loss: 0.3303 - box_loss: 0.0012 - reg_l2_loss: 0.0067 - loss: 0.3981 - learning_rate: 9.2315e-06 - gradient_norm: 0.7774 - val_det_loss: 0.4467 - val_cls_loss: 0.3777 - val_box_loss: 0.0014 - val_reg_l2_loss: 0.0067 - val_loss: 0.4534\n"
          ]
        }
      ]
    },
    {
      "cell_type": "code",
      "source": [
        "model3.summary()"
      ],
      "metadata": {
        "colab": {
          "base_uri": "https://localhost:8080/"
        },
        "id": "hBfFnaZGGbip",
        "outputId": "4b11ae49-1d6a-4994-cbed-b3efa64ddade"
      },
      "execution_count": null,
      "outputs": [
        {
          "output_type": "stream",
          "name": "stdout",
          "text": [
            "Model: \"\"\n",
            "_________________________________________________________________\n",
            " Layer (type)                Output Shape              Param #   \n",
            "=================================================================\n",
            " keras_layer (KerasLayer)    multiple                  8315968   \n",
            "                                                                 \n",
            " class_net/class-predict (Se  multiple                 5787      \n",
            " parableConv2D)                                                  \n",
            "                                                                 \n",
            " box_net/box-predict (Separa  multiple                 7236      \n",
            " bleConv2D)                                                      \n",
            "                                                                 \n",
            "=================================================================\n",
            "Total params: 8,328,991\n",
            "Trainable params: 8,224,799\n",
            "Non-trainable params: 104,192\n",
            "_________________________________________________________________\n"
          ]
        }
      ]
    },
    {
      "cell_type": "markdown",
      "source": [
        "**EfficientDetLite4**"
      ],
      "metadata": {
        "id": "EbWmapfvOXCZ"
      }
    },
    {
      "cell_type": "code",
      "source": [
        "model4 = object_detector.create(\n",
        "    train_data=train_data,\n",
        "    model_spec=spec4,\n",
        "    epochs=50,\n",
        "    batch_size=25,\n",
        "    train_whole_model=False,\n",
        "    validation_data=val_data)"
      ],
      "metadata": {
        "colab": {
          "base_uri": "https://localhost:8080/"
        },
        "id": "MYd4icQnORoR",
        "outputId": "aae214c1-959c-4876-ba41-6bbce9a37400"
      },
      "execution_count": null,
      "outputs": [
        {
          "output_type": "stream",
          "name": "stdout",
          "text": [
            "Epoch 1/50\n",
            "4/4 [==============================] - 53s 6s/step - det_loss: 1.7820 - cls_loss: 1.1588 - box_loss: 0.0125 - reg_l2_loss: 0.0071 - loss: 1.7891 - learning_rate: 0.0185 - gradient_norm: 0.7508 - val_det_loss: 1.7339 - val_cls_loss: 1.1477 - val_box_loss: 0.0117 - val_reg_l2_loss: 0.0071 - val_loss: 1.7410\n",
            "Epoch 2/50\n",
            "4/4 [==============================] - 17s 5s/step - det_loss: 1.6667 - cls_loss: 1.1467 - box_loss: 0.0104 - reg_l2_loss: 0.0071 - loss: 1.6737 - learning_rate: 0.0312 - gradient_norm: 0.6628 - val_det_loss: 1.5702 - val_cls_loss: 1.1229 - val_box_loss: 0.0089 - val_reg_l2_loss: 0.0071 - val_loss: 1.5772\n",
            "Epoch 3/50\n",
            "4/4 [==============================] - 17s 5s/step - det_loss: 1.5127 - cls_loss: 1.1155 - box_loss: 0.0079 - reg_l2_loss: 0.0071 - loss: 1.5198 - learning_rate: 0.0311 - gradient_norm: 0.7745 - val_det_loss: 1.4189 - val_cls_loss: 1.0673 - val_box_loss: 0.0070 - val_reg_l2_loss: 0.0071 - val_loss: 1.4260\n",
            "Epoch 4/50\n",
            "4/4 [==============================] - 15s 4s/step - det_loss: 1.3441 - cls_loss: 1.0345 - box_loss: 0.0062 - reg_l2_loss: 0.0071 - loss: 1.3512 - learning_rate: 0.0309 - gradient_norm: 0.8925 - val_det_loss: 1.1924 - val_cls_loss: 0.9095 - val_box_loss: 0.0057 - val_reg_l2_loss: 0.0071 - val_loss: 1.1995\n",
            "Epoch 5/50\n",
            "4/4 [==============================] - 24s 7s/step - det_loss: 1.1119 - cls_loss: 0.8566 - box_loss: 0.0051 - reg_l2_loss: 0.0071 - loss: 1.1190 - learning_rate: 0.0306 - gradient_norm: 1.0375 - val_det_loss: 1.1021 - val_cls_loss: 0.8624 - val_box_loss: 0.0048 - val_reg_l2_loss: 0.0071 - val_loss: 1.1092\n",
            "Epoch 6/50\n",
            "4/4 [==============================] - 17s 5s/step - det_loss: 0.9062 - cls_loss: 0.7115 - box_loss: 0.0039 - reg_l2_loss: 0.0071 - loss: 0.9133 - learning_rate: 0.0303 - gradient_norm: 1.3699 - val_det_loss: 0.8084 - val_cls_loss: 0.6291 - val_box_loss: 0.0036 - val_reg_l2_loss: 0.0071 - val_loss: 0.8156\n",
            "Epoch 7/50\n",
            "4/4 [==============================] - 16s 5s/step - det_loss: 0.8660 - cls_loss: 0.6789 - box_loss: 0.0037 - reg_l2_loss: 0.0071 - loss: 0.8732 - learning_rate: 0.0299 - gradient_norm: 1.1378 - val_det_loss: 0.9032 - val_cls_loss: 0.7329 - val_box_loss: 0.0034 - val_reg_l2_loss: 0.0071 - val_loss: 0.9103\n",
            "Epoch 8/50\n",
            "4/4 [==============================] - 15s 4s/step - det_loss: 0.7454 - cls_loss: 0.5869 - box_loss: 0.0032 - reg_l2_loss: 0.0072 - loss: 0.7526 - learning_rate: 0.0295 - gradient_norm: 0.8885 - val_det_loss: 0.8949 - val_cls_loss: 0.7325 - val_box_loss: 0.0032 - val_reg_l2_loss: 0.0072 - val_loss: 0.9021\n",
            "Epoch 9/50\n",
            "4/4 [==============================] - 14s 4s/step - det_loss: 0.7002 - cls_loss: 0.5609 - box_loss: 0.0028 - reg_l2_loss: 0.0072 - loss: 0.7074 - learning_rate: 0.0290 - gradient_norm: 0.9791 - val_det_loss: 0.7384 - val_cls_loss: 0.5756 - val_box_loss: 0.0033 - val_reg_l2_loss: 0.0072 - val_loss: 0.7456\n",
            "Epoch 10/50\n",
            "4/4 [==============================] - 20s 6s/step - det_loss: 0.6535 - cls_loss: 0.5341 - box_loss: 0.0024 - reg_l2_loss: 0.0072 - loss: 0.6607 - learning_rate: 0.0285 - gradient_norm: 0.8361 - val_det_loss: 0.7416 - val_cls_loss: 0.6217 - val_box_loss: 0.0024 - val_reg_l2_loss: 0.0072 - val_loss: 0.7488\n",
            "Epoch 11/50\n",
            "4/4 [==============================] - 15s 4s/step - det_loss: 0.6185 - cls_loss: 0.5026 - box_loss: 0.0023 - reg_l2_loss: 0.0072 - loss: 0.6257 - learning_rate: 0.0279 - gradient_norm: 0.8570 - val_det_loss: 0.7139 - val_cls_loss: 0.5615 - val_box_loss: 0.0030 - val_reg_l2_loss: 0.0072 - val_loss: 0.7211\n",
            "Epoch 12/50\n",
            "4/4 [==============================] - 14s 4s/step - det_loss: 0.6407 - cls_loss: 0.4994 - box_loss: 0.0028 - reg_l2_loss: 0.0072 - loss: 0.6479 - learning_rate: 0.0272 - gradient_norm: 0.8235 - val_det_loss: 0.7043 - val_cls_loss: 0.6022 - val_box_loss: 0.0020 - val_reg_l2_loss: 0.0072 - val_loss: 0.7115\n",
            "Epoch 13/50\n",
            "4/4 [==============================] - 14s 4s/step - det_loss: 0.6015 - cls_loss: 0.4870 - box_loss: 0.0023 - reg_l2_loss: 0.0072 - loss: 0.6086 - learning_rate: 0.0265 - gradient_norm: 0.8590 - val_det_loss: 0.7227 - val_cls_loss: 0.6235 - val_box_loss: 0.0020 - val_reg_l2_loss: 0.0072 - val_loss: 0.7299\n",
            "Epoch 14/50\n",
            "4/4 [==============================] - 16s 5s/step - det_loss: 0.5360 - cls_loss: 0.4444 - box_loss: 0.0018 - reg_l2_loss: 0.0072 - loss: 0.5432 - learning_rate: 0.0258 - gradient_norm: 0.7232 - val_det_loss: 0.6417 - val_cls_loss: 0.5417 - val_box_loss: 0.0020 - val_reg_l2_loss: 0.0072 - val_loss: 0.6489\n",
            "Epoch 15/50\n",
            "4/4 [==============================] - 19s 6s/step - det_loss: 0.5508 - cls_loss: 0.4524 - box_loss: 0.0020 - reg_l2_loss: 0.0072 - loss: 0.5580 - learning_rate: 0.0250 - gradient_norm: 0.7078 - val_det_loss: 0.5686 - val_cls_loss: 0.4845 - val_box_loss: 0.0017 - val_reg_l2_loss: 0.0072 - val_loss: 0.5758\n",
            "Epoch 16/50\n",
            "4/4 [==============================] - 18s 5s/step - det_loss: 0.5272 - cls_loss: 0.4237 - box_loss: 0.0021 - reg_l2_loss: 0.0072 - loss: 0.5344 - learning_rate: 0.0242 - gradient_norm: 0.7349 - val_det_loss: 0.6168 - val_cls_loss: 0.5343 - val_box_loss: 0.0017 - val_reg_l2_loss: 0.0072 - val_loss: 0.6240\n",
            "Epoch 17/50\n",
            "4/4 [==============================] - 17s 5s/step - det_loss: 0.5311 - cls_loss: 0.4329 - box_loss: 0.0020 - reg_l2_loss: 0.0072 - loss: 0.5384 - learning_rate: 0.0233 - gradient_norm: 0.7525 - val_det_loss: 0.4966 - val_cls_loss: 0.4221 - val_box_loss: 0.0015 - val_reg_l2_loss: 0.0072 - val_loss: 0.5038\n",
            "Epoch 18/50\n",
            "4/4 [==============================] - 17s 5s/step - det_loss: 0.4707 - cls_loss: 0.3941 - box_loss: 0.0015 - reg_l2_loss: 0.0072 - loss: 0.4779 - learning_rate: 0.0224 - gradient_norm: 0.7372 - val_det_loss: 0.5082 - val_cls_loss: 0.4336 - val_box_loss: 0.0015 - val_reg_l2_loss: 0.0072 - val_loss: 0.5154\n",
            "Epoch 19/50\n",
            "4/4 [==============================] - 15s 5s/step - det_loss: 0.4866 - cls_loss: 0.3996 - box_loss: 0.0017 - reg_l2_loss: 0.0072 - loss: 0.4938 - learning_rate: 0.0215 - gradient_norm: 0.8157 - val_det_loss: 0.4976 - val_cls_loss: 0.4221 - val_box_loss: 0.0015 - val_reg_l2_loss: 0.0072 - val_loss: 0.5048\n",
            "Epoch 20/50\n",
            "4/4 [==============================] - 20s 6s/step - det_loss: 0.4784 - cls_loss: 0.3931 - box_loss: 0.0017 - reg_l2_loss: 0.0072 - loss: 0.4856 - learning_rate: 0.0206 - gradient_norm: 0.6882 - val_det_loss: 0.4539 - val_cls_loss: 0.3912 - val_box_loss: 0.0013 - val_reg_l2_loss: 0.0072 - val_loss: 0.4611\n",
            "Epoch 21/50\n",
            "4/4 [==============================] - 18s 5s/step - det_loss: 0.4542 - cls_loss: 0.3767 - box_loss: 0.0015 - reg_l2_loss: 0.0072 - loss: 0.4615 - learning_rate: 0.0196 - gradient_norm: 0.7950 - val_det_loss: 0.4497 - val_cls_loss: 0.3822 - val_box_loss: 0.0013 - val_reg_l2_loss: 0.0072 - val_loss: 0.4569\n",
            "Epoch 22/50\n",
            "4/4 [==============================] - 16s 5s/step - det_loss: 0.4339 - cls_loss: 0.3588 - box_loss: 0.0015 - reg_l2_loss: 0.0072 - loss: 0.4411 - learning_rate: 0.0187 - gradient_norm: 0.8470 - val_det_loss: 0.4569 - val_cls_loss: 0.3949 - val_box_loss: 0.0012 - val_reg_l2_loss: 0.0072 - val_loss: 0.4642\n",
            "Epoch 23/50\n",
            "4/4 [==============================] - 15s 4s/step - det_loss: 0.4677 - cls_loss: 0.3745 - box_loss: 0.0019 - reg_l2_loss: 0.0072 - loss: 0.4749 - learning_rate: 0.0177 - gradient_norm: 0.9007 - val_det_loss: 0.4450 - val_cls_loss: 0.3835 - val_box_loss: 0.0012 - val_reg_l2_loss: 0.0072 - val_loss: 0.4523\n",
            "Epoch 24/50\n",
            "4/4 [==============================] - 14s 4s/step - det_loss: 0.4311 - cls_loss: 0.3585 - box_loss: 0.0015 - reg_l2_loss: 0.0072 - loss: 0.4384 - learning_rate: 0.0167 - gradient_norm: 0.9498 - val_det_loss: 0.4472 - val_cls_loss: 0.3834 - val_box_loss: 0.0013 - val_reg_l2_loss: 0.0072 - val_loss: 0.4544\n",
            "Epoch 25/50\n",
            "4/4 [==============================] - 19s 6s/step - det_loss: 0.4078 - cls_loss: 0.3487 - box_loss: 0.0012 - reg_l2_loss: 0.0072 - loss: 0.4150 - learning_rate: 0.0157 - gradient_norm: 0.7655 - val_det_loss: 0.4307 - val_cls_loss: 0.3751 - val_box_loss: 0.0011 - val_reg_l2_loss: 0.0072 - val_loss: 0.4379\n",
            "Epoch 26/50\n",
            "4/4 [==============================] - 16s 5s/step - det_loss: 0.4131 - cls_loss: 0.3438 - box_loss: 0.0014 - reg_l2_loss: 0.0072 - loss: 0.4203 - learning_rate: 0.0147 - gradient_norm: 0.8578 - val_det_loss: 0.4150 - val_cls_loss: 0.3573 - val_box_loss: 0.0012 - val_reg_l2_loss: 0.0072 - val_loss: 0.4223\n",
            "Epoch 27/50\n",
            "4/4 [==============================] - 16s 5s/step - det_loss: 0.4338 - cls_loss: 0.3565 - box_loss: 0.0015 - reg_l2_loss: 0.0072 - loss: 0.4411 - learning_rate: 0.0137 - gradient_norm: 0.8643 - val_det_loss: 0.4088 - val_cls_loss: 0.3558 - val_box_loss: 0.0011 - val_reg_l2_loss: 0.0072 - val_loss: 0.4160\n",
            "Epoch 28/50\n",
            "4/4 [==============================] - 14s 4s/step - det_loss: 0.4462 - cls_loss: 0.3697 - box_loss: 0.0015 - reg_l2_loss: 0.0072 - loss: 0.4535 - learning_rate: 0.0127 - gradient_norm: 0.8221 - val_det_loss: 0.4029 - val_cls_loss: 0.3500 - val_box_loss: 0.0011 - val_reg_l2_loss: 0.0073 - val_loss: 0.4102\n",
            "Epoch 29/50\n",
            "4/4 [==============================] - 13s 4s/step - det_loss: 0.3845 - cls_loss: 0.3257 - box_loss: 0.0012 - reg_l2_loss: 0.0073 - loss: 0.3918 - learning_rate: 0.0117 - gradient_norm: 0.6949 - val_det_loss: 0.4150 - val_cls_loss: 0.3612 - val_box_loss: 0.0011 - val_reg_l2_loss: 0.0073 - val_loss: 0.4222\n",
            "Epoch 30/50\n",
            "4/4 [==============================] - 19s 6s/step - det_loss: 0.4060 - cls_loss: 0.3345 - box_loss: 0.0014 - reg_l2_loss: 0.0073 - loss: 0.4133 - learning_rate: 0.0107 - gradient_norm: 0.8353 - val_det_loss: 0.3968 - val_cls_loss: 0.3467 - val_box_loss: 0.0010 - val_reg_l2_loss: 0.0073 - val_loss: 0.4040\n",
            "Epoch 31/50\n",
            "4/4 [==============================] - 15s 5s/step - det_loss: 0.3957 - cls_loss: 0.3309 - box_loss: 0.0013 - reg_l2_loss: 0.0073 - loss: 0.4030 - learning_rate: 0.0098 - gradient_norm: 0.7196 - val_det_loss: 0.3961 - val_cls_loss: 0.3471 - val_box_loss: 9.7958e-04 - val_reg_l2_loss: 0.0073 - val_loss: 0.4033\n",
            "Epoch 32/50\n",
            "4/4 [==============================] - 17s 5s/step - det_loss: 0.3805 - cls_loss: 0.3206 - box_loss: 0.0012 - reg_l2_loss: 0.0073 - loss: 0.3878 - learning_rate: 0.0089 - gradient_norm: 0.6841 - val_det_loss: 0.3876 - val_cls_loss: 0.3379 - val_box_loss: 9.9422e-04 - val_reg_l2_loss: 0.0073 - val_loss: 0.3949\n",
            "Epoch 33/50\n",
            "4/4 [==============================] - 17s 5s/step - det_loss: 0.3874 - cls_loss: 0.3162 - box_loss: 0.0014 - reg_l2_loss: 0.0073 - loss: 0.3946 - learning_rate: 0.0080 - gradient_norm: 0.7566 - val_det_loss: 0.3932 - val_cls_loss: 0.3439 - val_box_loss: 9.8571e-04 - val_reg_l2_loss: 0.0073 - val_loss: 0.4005\n",
            "Epoch 34/50\n",
            "4/4 [==============================] - 16s 5s/step - det_loss: 0.3952 - cls_loss: 0.3263 - box_loss: 0.0014 - reg_l2_loss: 0.0073 - loss: 0.4025 - learning_rate: 0.0071 - gradient_norm: 0.7349 - val_det_loss: 0.4062 - val_cls_loss: 0.3560 - val_box_loss: 0.0010 - val_reg_l2_loss: 0.0073 - val_loss: 0.4135\n",
            "Epoch 35/50\n",
            "4/4 [==============================] - 20s 6s/step - det_loss: 0.4069 - cls_loss: 0.3265 - box_loss: 0.0016 - reg_l2_loss: 0.0073 - loss: 0.4141 - learning_rate: 0.0063 - gradient_norm: 0.7647 - val_det_loss: 0.4055 - val_cls_loss: 0.3570 - val_box_loss: 9.7143e-04 - val_reg_l2_loss: 0.0073 - val_loss: 0.4128\n",
            "Epoch 36/50\n",
            "4/4 [==============================] - 16s 5s/step - det_loss: 0.3647 - cls_loss: 0.2999 - box_loss: 0.0013 - reg_l2_loss: 0.0073 - loss: 0.3720 - learning_rate: 0.0055 - gradient_norm: 0.7646 - val_det_loss: 0.3982 - val_cls_loss: 0.3504 - val_box_loss: 9.5628e-04 - val_reg_l2_loss: 0.0073 - val_loss: 0.4055\n",
            "Epoch 37/50\n",
            "4/4 [==============================] - 17s 5s/step - det_loss: 0.3739 - cls_loss: 0.3138 - box_loss: 0.0012 - reg_l2_loss: 0.0073 - loss: 0.3812 - learning_rate: 0.0048 - gradient_norm: 0.7669 - val_det_loss: 0.3951 - val_cls_loss: 0.3454 - val_box_loss: 9.9347e-04 - val_reg_l2_loss: 0.0073 - val_loss: 0.4024\n",
            "Epoch 38/50\n",
            "4/4 [==============================] - 17s 5s/step - det_loss: 0.4000 - cls_loss: 0.3289 - box_loss: 0.0014 - reg_l2_loss: 0.0073 - loss: 0.4072 - learning_rate: 0.0041 - gradient_norm: 0.6763 - val_det_loss: 0.3920 - val_cls_loss: 0.3444 - val_box_loss: 9.5220e-04 - val_reg_l2_loss: 0.0073 - val_loss: 0.3992\n",
            "Epoch 39/50\n",
            "4/4 [==============================] - 15s 4s/step - det_loss: 0.4051 - cls_loss: 0.3312 - box_loss: 0.0015 - reg_l2_loss: 0.0073 - loss: 0.4124 - learning_rate: 0.0034 - gradient_norm: 0.6844 - val_det_loss: 0.3868 - val_cls_loss: 0.3402 - val_box_loss: 9.3099e-04 - val_reg_l2_loss: 0.0073 - val_loss: 0.3941\n",
            "Epoch 40/50\n",
            "4/4 [==============================] - 19s 6s/step - det_loss: 0.3699 - cls_loss: 0.3078 - box_loss: 0.0012 - reg_l2_loss: 0.0073 - loss: 0.3772 - learning_rate: 0.0028 - gradient_norm: 0.6712 - val_det_loss: 0.3828 - val_cls_loss: 0.3359 - val_box_loss: 9.3986e-04 - val_reg_l2_loss: 0.0073 - val_loss: 0.3901\n",
            "Epoch 41/50\n",
            "4/4 [==============================] - 17s 5s/step - det_loss: 0.3734 - cls_loss: 0.3121 - box_loss: 0.0012 - reg_l2_loss: 0.0073 - loss: 0.3807 - learning_rate: 0.0023 - gradient_norm: 0.7033 - val_det_loss: 0.3789 - val_cls_loss: 0.3318 - val_box_loss: 9.4154e-04 - val_reg_l2_loss: 0.0073 - val_loss: 0.3862\n",
            "Epoch 42/50\n",
            "4/4 [==============================] - 18s 5s/step - det_loss: 0.3876 - cls_loss: 0.3178 - box_loss: 0.0014 - reg_l2_loss: 0.0073 - loss: 0.3949 - learning_rate: 0.0018 - gradient_norm: 0.7547 - val_det_loss: 0.3771 - val_cls_loss: 0.3313 - val_box_loss: 9.1458e-04 - val_reg_l2_loss: 0.0073 - val_loss: 0.3843\n",
            "Epoch 43/50\n",
            "4/4 [==============================] - 16s 5s/step - det_loss: 0.3895 - cls_loss: 0.3217 - box_loss: 0.0014 - reg_l2_loss: 0.0073 - loss: 0.3968 - learning_rate: 0.0014 - gradient_norm: 0.7369 - val_det_loss: 0.3777 - val_cls_loss: 0.3324 - val_box_loss: 9.0458e-04 - val_reg_l2_loss: 0.0073 - val_loss: 0.3849\n",
            "Epoch 44/50\n",
            "4/4 [==============================] - 17s 5s/step - det_loss: 0.3854 - cls_loss: 0.3203 - box_loss: 0.0013 - reg_l2_loss: 0.0073 - loss: 0.3927 - learning_rate: 9.8136e-04 - gradient_norm: 0.7247 - val_det_loss: 0.3764 - val_cls_loss: 0.3317 - val_box_loss: 8.9387e-04 - val_reg_l2_loss: 0.0073 - val_loss: 0.3837\n",
            "Epoch 45/50\n",
            "4/4 [==============================] - 20s 6s/step - det_loss: 0.3604 - cls_loss: 0.3018 - box_loss: 0.0012 - reg_l2_loss: 0.0073 - loss: 0.3677 - learning_rate: 6.6276e-04 - gradient_norm: 0.7119 - val_det_loss: 0.3745 - val_cls_loss: 0.3299 - val_box_loss: 8.9083e-04 - val_reg_l2_loss: 0.0073 - val_loss: 0.3818\n",
            "Epoch 46/50\n",
            "4/4 [==============================] - 16s 5s/step - det_loss: 0.4150 - cls_loss: 0.3394 - box_loss: 0.0015 - reg_l2_loss: 0.0073 - loss: 0.4222 - learning_rate: 4.0563e-04 - gradient_norm: 0.7614 - val_det_loss: 0.3731 - val_cls_loss: 0.3286 - val_box_loss: 8.9144e-04 - val_reg_l2_loss: 0.0073 - val_loss: 0.3804\n",
            "Epoch 47/50\n",
            "4/4 [==============================] - 17s 5s/step - det_loss: 0.3708 - cls_loss: 0.3140 - box_loss: 0.0011 - reg_l2_loss: 0.0073 - loss: 0.3781 - learning_rate: 2.1105e-04 - gradient_norm: 0.6847 - val_det_loss: 0.3721 - val_cls_loss: 0.3274 - val_box_loss: 8.9445e-04 - val_reg_l2_loss: 0.0073 - val_loss: 0.3794\n",
            "Epoch 48/50\n",
            "4/4 [==============================] - 17s 5s/step - det_loss: 0.3936 - cls_loss: 0.3297 - box_loss: 0.0013 - reg_l2_loss: 0.0073 - loss: 0.4009 - learning_rate: 7.9806e-05 - gradient_norm: 0.8142 - val_det_loss: 0.3710 - val_cls_loss: 0.3263 - val_box_loss: 8.9364e-04 - val_reg_l2_loss: 0.0073 - val_loss: 0.3783\n",
            "Epoch 49/50\n",
            "4/4 [==============================] - 16s 5s/step - det_loss: 0.3517 - cls_loss: 0.2954 - box_loss: 0.0011 - reg_l2_loss: 0.0073 - loss: 0.3589 - learning_rate: 1.2441e-05 - gradient_norm: 0.7232 - val_det_loss: 0.3706 - val_cls_loss: 0.3258 - val_box_loss: 8.9514e-04 - val_reg_l2_loss: 0.0073 - val_loss: 0.3778\n",
            "Epoch 50/50\n",
            "4/4 [==============================] - 19s 6s/step - det_loss: 0.3980 - cls_loss: 0.3274 - box_loss: 0.0014 - reg_l2_loss: 0.0073 - loss: 0.4053 - learning_rate: 9.2315e-06 - gradient_norm: 0.8574 - val_det_loss: 0.3688 - val_cls_loss: 0.3242 - val_box_loss: 8.9164e-04 - val_reg_l2_loss: 0.0073 - val_loss: 0.3761\n"
          ]
        }
      ]
    },
    {
      "cell_type": "code",
      "source": [
        "model4.summary()"
      ],
      "metadata": {
        "colab": {
          "base_uri": "https://localhost:8080/"
        },
        "id": "1B9INPA95GMl",
        "outputId": "62fd16fb-f6cb-4e0c-bdea-973e9d010664"
      },
      "execution_count": null,
      "outputs": [
        {
          "output_type": "stream",
          "name": "stdout",
          "text": [
            "Model: \"\"\n",
            "_________________________________________________________________\n",
            " Layer (type)                Output Shape              Param #   \n",
            "=================================================================\n",
            " keras_layer_1 (KerasLayer)  multiple                  15092016  \n",
            "                                                                 \n",
            " class_net/class-predict (Se  multiple                 8091      \n",
            " parableConv2D)                                                  \n",
            "                                                                 \n",
            " box_net/box-predict (Separa  multiple                 10116     \n",
            " bleConv2D)                                                      \n",
            "                                                                 \n",
            "=================================================================\n",
            "Total params: 15,110,223\n",
            "Trainable params: 14,954,719\n",
            "Non-trainable params: 155,504\n",
            "_________________________________________________________________\n"
          ]
        }
      ]
    },
    {
      "cell_type": "code",
      "source": [
        "# model2 = object_detector.create(\n",
        "#     train_data=train_data,\n",
        "#     model_spec=spec,\n",
        "#     epochs=50,\n",
        "#     batch_size=16,\n",
        "#     train_whole_model=False,\n",
        "#     validation_data=val_data,\n",
        "#     do_train=False)"
      ],
      "metadata": {
        "id": "XQu0fJ40KsEo"
      },
      "execution_count": null,
      "outputs": []
    },
    {
      "cell_type": "code",
      "source": [
        "# history = model2.train(\n",
        "#     train_data=train_data,\n",
        "#     validation_data=val_data,\n",
        "#     epochs=50,\n",
        "#     batch_size=16\n",
        "# )"
      ],
      "metadata": {
        "id": "Xc_H7_r4K19K"
      },
      "execution_count": null,
      "outputs": []
    },
    {
      "cell_type": "code",
      "source": [
        "# history"
      ],
      "metadata": {
        "id": "y7GiP4S2LZPw"
      },
      "execution_count": null,
      "outputs": []
    },
    {
      "cell_type": "markdown",
      "source": [
        "### Evaluate the Model"
      ],
      "metadata": {
        "id": "bz3Lrf-m6xDT"
      }
    },
    {
      "cell_type": "markdown",
      "source": [
        "**EfficientDetLite0**"
      ],
      "metadata": {
        "id": "5_KTC_PJL_3S"
      }
    },
    {
      "cell_type": "code",
      "source": [
        "model0.evaluate(test_data)"
      ],
      "metadata": {
        "id": "XiMvnBw36z-9",
        "colab": {
          "base_uri": "https://localhost:8080/"
        },
        "outputId": "035a4972-e33c-4498-ee6c-7499a3e5e9ab"
      },
      "execution_count": null,
      "outputs": [
        {
          "output_type": "stream",
          "name": "stdout",
          "text": [
            "\r1/1 [==============================] - 10s 10s/step\n",
            "\n"
          ]
        },
        {
          "output_type": "execute_result",
          "data": {
            "text/plain": [
              "{'AP': 0.42406696,\n",
              " 'AP50': 0.59217805,\n",
              " 'AP75': 0.50689423,\n",
              " 'APs': -1.0,\n",
              " 'APm': 0.8,\n",
              " 'APl': 0.41984978,\n",
              " 'ARmax1': 0.41555557,\n",
              " 'ARmax10': 0.7544444,\n",
              " 'ARmax100': 0.7588889,\n",
              " 'ARs': -1.0,\n",
              " 'ARm': 0.8,\n",
              " 'ARl': 0.7578927,\n",
              " 'AP_/yellow_duck': 0.48781523,\n",
              " 'AP_/blue_duck': 0.48557112,\n",
              " 'AP_/pink_duck': 0.2988145}"
            ]
          },
          "metadata": {},
          "execution_count": 22
        }
      ]
    },
    {
      "cell_type": "markdown",
      "source": [
        "**EfficientDetLite1**"
      ],
      "metadata": {
        "id": "KAPpNTZuMCCP"
      }
    },
    {
      "cell_type": "code",
      "source": [
        "model1.evaluate(test_data)"
      ],
      "metadata": {
        "colab": {
          "base_uri": "https://localhost:8080/"
        },
        "id": "8_JxMDOSMBgc",
        "outputId": "ba96458d-d1d7-4b53-e83f-9db3307bc938"
      },
      "execution_count": null,
      "outputs": [
        {
          "output_type": "stream",
          "name": "stdout",
          "text": [
            "\r1/1 [==============================] - 10s 10s/step\n",
            "\n"
          ]
        },
        {
          "output_type": "execute_result",
          "data": {
            "text/plain": [
              "{'AP': 0.5432478,\n",
              " 'AP50': 0.71418965,\n",
              " 'AP75': 0.6625874,\n",
              " 'APs': -1.0,\n",
              " 'APm': 0.8,\n",
              " 'APl': 0.54463255,\n",
              " 'ARmax1': 0.6077778,\n",
              " 'ARmax10': 0.8,\n",
              " 'ARmax100': 0.8011111,\n",
              " 'ARs': -1.0,\n",
              " 'ARm': 0.8,\n",
              " 'ARl': 0.8012261,\n",
              " 'AP_/yellow_duck': 0.6579289,\n",
              " 'AP_/blue_duck': 0.5549162,\n",
              " 'AP_/pink_duck': 0.4168983}"
            ]
          },
          "metadata": {},
          "execution_count": 32
        }
      ]
    },
    {
      "cell_type": "markdown",
      "source": [
        "**EfficientDetLite2**"
      ],
      "metadata": {
        "id": "exxv6XN0Qjhw"
      }
    },
    {
      "cell_type": "code",
      "source": [
        "model2.evaluate(test_data)"
      ],
      "metadata": {
        "colab": {
          "base_uri": "https://localhost:8080/"
        },
        "id": "mO1A_ISKQojK",
        "outputId": "ad68674f-8ab0-4e02-924f-90cdb9ef6568"
      },
      "execution_count": null,
      "outputs": [
        {
          "output_type": "stream",
          "name": "stdout",
          "text": [
            "\r1/1 [==============================] - 12s 12s/step\n",
            "\n"
          ]
        },
        {
          "output_type": "execute_result",
          "data": {
            "text/plain": [
              "{'AP': 0.49608502,\n",
              " 'AP50': 0.633304,\n",
              " 'AP75': 0.5896328,\n",
              " 'APs': -1.0,\n",
              " 'APm': 0.9,\n",
              " 'APl': 0.49588206,\n",
              " 'ARmax1': 0.55444443,\n",
              " 'ARmax10': 0.7911111,\n",
              " 'ARmax100': 0.79555553,\n",
              " 'ARs': -1.0,\n",
              " 'ARm': 0.9,\n",
              " 'ARl': 0.79455936,\n",
              " 'AP_/yellow_duck': 0.60144705,\n",
              " 'AP_/blue_duck': 0.47007242,\n",
              " 'AP_/pink_duck': 0.41673553}"
            ]
          },
          "metadata": {},
          "execution_count": 41
        }
      ]
    },
    {
      "cell_type": "markdown",
      "source": [
        "**EfficientDetLite3**"
      ],
      "metadata": {
        "id": "6tk5lTEOYobA"
      }
    },
    {
      "cell_type": "code",
      "source": [
        "model3.evaluate(test_data)"
      ],
      "metadata": {
        "colab": {
          "base_uri": "https://localhost:8080/"
        },
        "id": "7a6ncJHNIn04",
        "outputId": "f0b5d22d-4be9-4770-ef2a-0f150865f4dd"
      },
      "execution_count": null,
      "outputs": [
        {
          "output_type": "stream",
          "name": "stdout",
          "text": [
            "\r1/1 [==============================] - 10s 10s/step\n",
            "\n"
          ]
        },
        {
          "output_type": "execute_result",
          "data": {
            "text/plain": [
              "{'AP': 0.551235,\n",
              " 'AP50': 0.6723068,\n",
              " 'AP75': 0.6320648,\n",
              " 'APs': -1.0,\n",
              " 'APm': 0.9,\n",
              " 'APl': 0.5523684,\n",
              " 'ARmax1': 0.6,\n",
              " 'ARmax10': 0.8188889,\n",
              " 'ARmax100': 0.8244445,\n",
              " 'ARs': -1.0,\n",
              " 'ARm': 0.9,\n",
              " 'ARl': 0.82363987,\n",
              " 'AP_/yellow_duck': 0.550255,\n",
              " 'AP_/blue_duck': 0.52676487,\n",
              " 'AP_/pink_duck': 0.57668525}"
            ]
          },
          "metadata": {},
          "execution_count": 22
        }
      ]
    },
    {
      "cell_type": "markdown",
      "source": [
        "**EfficientDetLite4**"
      ],
      "metadata": {
        "id": "8VnxIrLI82wO"
      }
    },
    {
      "cell_type": "code",
      "source": [
        "model4.evaluate(test_data)"
      ],
      "metadata": {
        "colab": {
          "base_uri": "https://localhost:8080/"
        },
        "id": "s9KVq_Kr86i3",
        "outputId": "ec6f0a0a-4c26-4432-f5f3-3770b40216d8"
      },
      "execution_count": null,
      "outputs": [
        {
          "output_type": "stream",
          "name": "stdout",
          "text": [
            "\r1/1 [==============================] - 15s 15s/step\n",
            "\n"
          ]
        },
        {
          "output_type": "execute_result",
          "data": {
            "text/plain": [
              "{'AP': 0.5851849,\n",
              " 'AP50': 0.6972875,\n",
              " 'AP75': 0.660943,\n",
              " 'APs': -1.0,\n",
              " 'APm': 0.9,\n",
              " 'APl': 0.58556527,\n",
              " 'ARmax1': 0.6422222,\n",
              " 'ARmax10': 0.8422222,\n",
              " 'ARmax100': 0.8466667,\n",
              " 'ARs': -1.0,\n",
              " 'ARm': 0.9,\n",
              " 'ARl': 0.8451341,\n",
              " 'AP_/yellow_duck': 0.57104564,\n",
              " 'AP_/blue_duck': 0.5089002,\n",
              " 'AP_/pink_duck': 0.6756089}"
            ]
          },
          "metadata": {},
          "execution_count": 32
        }
      ]
    },
    {
      "cell_type": "markdown",
      "source": [
        "### Export Model"
      ],
      "metadata": {
        "id": "1i-eb4y25Izi"
      }
    },
    {
      "cell_type": "code",
      "source": [
        "!mkdir /content/model\n",
        "%cd /content/model"
      ],
      "metadata": {
        "id": "yJCEmORA5Myw",
        "colab": {
          "base_uri": "https://localhost:8080/"
        },
        "outputId": "b23f5b23-715d-4035-8372-d010d9931cb9"
      },
      "execution_count": null,
      "outputs": [
        {
          "output_type": "stream",
          "name": "stdout",
          "text": [
            "mkdir: cannot create directory ‘/content/model’: File exists\n",
            "/content/model\n"
          ]
        }
      ]
    },
    {
      "cell_type": "code",
      "source": [
        "model0.export(export_dir='.', tflite_filename='color_detector0.tflite')"
      ],
      "metadata": {
        "id": "cuzfD7Qy5Kz0"
      },
      "execution_count": null,
      "outputs": []
    },
    {
      "cell_type": "code",
      "source": [
        "model1.export(export_dir='.', tflite_filename='color_detector1.tflite')"
      ],
      "metadata": {
        "id": "V-giUhy_MMBb"
      },
      "execution_count": null,
      "outputs": []
    },
    {
      "cell_type": "code",
      "source": [
        "model2.export(export_dir='.', tflite_filename='color_detector2.tflite')"
      ],
      "metadata": {
        "id": "a7q_ciTHQxlp"
      },
      "execution_count": null,
      "outputs": []
    },
    {
      "cell_type": "code",
      "source": [
        "model3.export(export_dir='.', tflite_filename='color_detector3.tflite')"
      ],
      "metadata": {
        "id": "KmYR1N-4Irsu"
      },
      "execution_count": null,
      "outputs": []
    },
    {
      "cell_type": "code",
      "source": [
        "model4.export(export_dir='.', tflite_filename='color_detector4.tflite')"
      ],
      "metadata": {
        "id": "yWCH29HC9fyJ"
      },
      "execution_count": null,
      "outputs": []
    },
    {
      "cell_type": "markdown",
      "source": [
        "## Evaluate Model"
      ],
      "metadata": {
        "id": "xVBkO3XJ_xZ2"
      }
    },
    {
      "cell_type": "code",
      "source": [
        "model0.evaluate_tflite('color_detector0.tflite', test_data)"
      ],
      "metadata": {
        "colab": {
          "base_uri": "https://localhost:8080/"
        },
        "id": "mAseE7gu_0vf",
        "outputId": "2dc2dcf0-9f3b-4664-c275-a1939de5598f"
      },
      "execution_count": null,
      "outputs": [
        {
          "output_type": "stream",
          "name": "stdout",
          "text": [
            "30/30 [==============================] - 88s 3s/step\n",
            "\n"
          ]
        },
        {
          "output_type": "execute_result",
          "data": {
            "text/plain": [
              "{'AP': 0.31585,\n",
              " 'AP50': 0.44953358,\n",
              " 'AP75': 0.3618487,\n",
              " 'APs': -1.0,\n",
              " 'APm': 0.9,\n",
              " 'APl': 0.31263536,\n",
              " 'ARmax1': 0.35666665,\n",
              " 'ARmax10': 0.44,\n",
              " 'ARmax100': 0.44,\n",
              " 'ARs': -1.0,\n",
              " 'ARm': 0.9,\n",
              " 'ARl': 0.43555555,\n",
              " 'AP_/yellow_duck': 0.41774455,\n",
              " 'AP_/blue_duck': 0.38109013,\n",
              " 'AP_/pink_duck': 0.1487153}"
            ]
          },
          "metadata": {},
          "execution_count": 25
        }
      ]
    },
    {
      "cell_type": "code",
      "source": [
        "model1.evaluate_tflite('color_detector1.tflite', test_data)"
      ],
      "metadata": {
        "colab": {
          "base_uri": "https://localhost:8080/"
        },
        "id": "uJCxaOg3MT4d",
        "outputId": "85b8abd2-3e43-49ae-ceea-8fdf991a08ba"
      },
      "execution_count": null,
      "outputs": [
        {
          "output_type": "stream",
          "name": "stdout",
          "text": [
            "30/30 [==============================] - 175s 6s/step\n",
            "\n"
          ]
        },
        {
          "output_type": "execute_result",
          "data": {
            "text/plain": [
              "{'AP': 0.476604,\n",
              " 'AP50': 0.6306952,\n",
              " 'AP75': 0.5601069,\n",
              " 'APs': -1.0,\n",
              " 'APm': 0.8,\n",
              " 'APl': 0.47582868,\n",
              " 'ARmax1': 0.54,\n",
              " 'ARmax10': 0.5966667,\n",
              " 'ARmax100': 0.5966667,\n",
              " 'ARs': -1.0,\n",
              " 'ARm': 0.8,\n",
              " 'ARl': 0.59478927,\n",
              " 'AP_/yellow_duck': 0.59049267,\n",
              " 'AP_/blue_duck': 0.46418145,\n",
              " 'AP_/pink_duck': 0.37513787}"
            ]
          },
          "metadata": {},
          "execution_count": 35
        }
      ]
    },
    {
      "cell_type": "code",
      "source": [
        "model2.evaluate_tflite('color_detector2.tflite', test_data)"
      ],
      "metadata": {
        "colab": {
          "base_uri": "https://localhost:8080/"
        },
        "id": "2jWR1aOIRmnI",
        "outputId": "225fa4a3-1351-4c33-b761-1c740fdb6911"
      },
      "execution_count": null,
      "outputs": [
        {
          "output_type": "stream",
          "name": "stdout",
          "text": [
            "30/30 [==============================] - 299s 10s/step\n",
            "\n"
          ]
        },
        {
          "output_type": "execute_result",
          "data": {
            "text/plain": [
              "{'AP': 0.40058222,\n",
              " 'AP50': 0.50298,\n",
              " 'AP75': 0.4918268,\n",
              " 'APs': -1.0,\n",
              " 'APm': 0.9,\n",
              " 'APl': 0.39826185,\n",
              " 'ARmax1': 0.4211111,\n",
              " 'ARmax10': 0.52111113,\n",
              " 'ARmax100': 0.52111113,\n",
              " 'ARs': -1.0,\n",
              " 'ARm': 0.9,\n",
              " 'ARl': 0.5184674,\n",
              " 'AP_/yellow_duck': 0.54334426,\n",
              " 'AP_/blue_duck': 0.3667797,\n",
              " 'AP_/pink_duck': 0.29162273}"
            ]
          },
          "metadata": {},
          "execution_count": 45
        }
      ]
    },
    {
      "cell_type": "code",
      "source": [
        "model3.evaluate_tflite('color_detector3.tflite', test_data)"
      ],
      "metadata": {
        "colab": {
          "base_uri": "https://localhost:8080/"
        },
        "id": "JVFCTQBhJbXw",
        "outputId": "dabdaf02-014f-4989-8d27-5f8a6db784e8"
      },
      "execution_count": null,
      "outputs": [
        {
          "output_type": "stream",
          "name": "stdout",
          "text": [
            "30/30 [==============================] - 668s 22s/step\n",
            "\n"
          ]
        },
        {
          "output_type": "execute_result",
          "data": {
            "text/plain": [
              "{'AP': 0.42093343,\n",
              " 'AP50': 0.5297233,\n",
              " 'AP75': 0.4823391,\n",
              " 'APs': -1.0,\n",
              " 'APm': 0.9,\n",
              " 'APl': 0.42300704,\n",
              " 'ARmax1': 0.46444446,\n",
              " 'ARmax10': 0.54888886,\n",
              " 'ARmax100': 0.54888886,\n",
              " 'ARs': -1.0,\n",
              " 'ARm': 0.9,\n",
              " 'ARl': 0.5457471,\n",
              " 'AP_/yellow_duck': 0.45844784,\n",
              " 'AP_/blue_duck': 0.35425097,\n",
              " 'AP_/pink_duck': 0.4501014}"
            ]
          },
          "metadata": {},
          "execution_count": 25
        }
      ]
    },
    {
      "cell_type": "code",
      "source": [
        "model4.evaluate_tflite('color_detector4.tflite', test_data)"
      ],
      "metadata": {
        "colab": {
          "base_uri": "https://localhost:8080/"
        },
        "id": "5eF3rJtcDM_u",
        "outputId": "8ee0483f-a63b-44ed-b8a7-2925e782c88a"
      },
      "execution_count": null,
      "outputs": [
        {
          "output_type": "stream",
          "name": "stdout",
          "text": [
            "30/30 [==============================] - 1777s 59s/step\n",
            "\n"
          ]
        },
        {
          "output_type": "execute_result",
          "data": {
            "text/plain": [
              "{'AP': 0.5021957,\n",
              " 'AP50': 0.6063477,\n",
              " 'AP75': 0.5624662,\n",
              " 'APs': -1.0,\n",
              " 'APm': 0.9,\n",
              " 'APl': 0.49821004,\n",
              " 'ARmax1': 0.56333333,\n",
              " 'ARmax10': 0.6111111,\n",
              " 'ARmax100': 0.6111111,\n",
              " 'ARs': -1.0,\n",
              " 'ARm': 0.9,\n",
              " 'ARl': 0.6069732,\n",
              " 'AP_/yellow_duck': 0.48410136,\n",
              " 'AP_/blue_duck': 0.45675206,\n",
              " 'AP_/pink_duck': 0.5657337}"
            ]
          },
          "metadata": {},
          "execution_count": 35
        }
      ]
    },
    {
      "cell_type": "markdown",
      "source": [
        "## Detection Test"
      ],
      "metadata": {
        "id": "OcfVloP_JcO4"
      }
    },
    {
      "cell_type": "code",
      "source": [
        "!mkdir /content/detection\n",
        "%cd /content/detection"
      ],
      "metadata": {
        "colab": {
          "base_uri": "https://localhost:8080/"
        },
        "id": "-Iy9rklNNjlx",
        "outputId": "aff07943-771e-41de-b045-4419f2867dd3"
      },
      "execution_count": null,
      "outputs": [
        {
          "output_type": "stream",
          "name": "stdout",
          "text": [
            "mkdir: cannot create directory ‘/content/detection’: File exists\n",
            "/content/detection\n"
          ]
        }
      ]
    },
    {
      "cell_type": "code",
      "source": [
        "model_path = '/content/model/color_detector4.tflite'\n",
        "\n",
        "# Load the labels into a list\n",
        "classes = ['???'] * model4.model_spec.config.num_classes\n",
        "label_map = model4.model_spec.config.label_map\n",
        "for label_id, label_name in label_map.as_dict().items():\n",
        "  classes[label_id-1] = label_name\n",
        "\n",
        "# Define a list of colors for visualization\n",
        "COLORS = np.random.randint(0, 255, size=(len(classes), 3), dtype=np.uint8)\n",
        "\n",
        "def preprocess_image(image_path, input_size):\n",
        "  \"\"\"Preprocess the input image to feed to the TFLite model\"\"\"\n",
        "  img = tf.io.read_file(image_path)\n",
        "  img = tf.io.decode_image(img, channels=3)\n",
        "  img = tf.image.convert_image_dtype(img, tf.uint8)\n",
        "  original_image = img\n",
        "  resized_img = tf.image.resize(img, input_size)\n",
        "  resized_img = resized_img[tf.newaxis, :]\n",
        "  resized_img = tf.cast(resized_img, dtype=tf.uint8)\n",
        "  return resized_img, original_image\n",
        "\n",
        "\n",
        "def detect_objects(interpreter, image, threshold):\n",
        "  \"\"\"Returns a list of detection results, each a dictionary of object info.\"\"\"\n",
        "\n",
        "  signature_fn = interpreter.get_signature_runner()\n",
        "\n",
        "  # Feed the input image to the model\n",
        "  output = signature_fn(images=image)\n",
        "\n",
        "  # Get all outputs from the model\n",
        "  count = int(np.squeeze(output['output_0']))\n",
        "  scores = np.squeeze(output['output_1'])\n",
        "  classes = np.squeeze(output['output_2'])\n",
        "  boxes = np.squeeze(output['output_3'])\n",
        "\n",
        "  results = []\n",
        "  for i in range(count):\n",
        "    if scores[i] >= threshold:\n",
        "      result = {\n",
        "        'bounding_box': boxes[i],\n",
        "        'class_id': classes[i],\n",
        "        'score': scores[i]\n",
        "      }\n",
        "      results.append(result)\n",
        "  return results\n",
        "\n",
        "\n",
        "def run_odt_and_draw_results(image_path, interpreter, threshold=0.5):\n",
        "  \"\"\"Run object detection on the input image and draw the detection results\"\"\"\n",
        "  # Load the input shape required by the model\n",
        "  _, input_height, input_width, _ = interpreter.get_input_details()[0]['shape']\n",
        "\n",
        "  # Load the input image and preprocess it\n",
        "  preprocessed_image, original_image = preprocess_image(\n",
        "      image_path,\n",
        "      (input_height, input_width)\n",
        "    )\n",
        "\n",
        "  # Run object detection on the input image\n",
        "  results = detect_objects(interpreter, preprocessed_image, threshold=threshold)\n",
        "\n",
        "  # Plot the detection results on the input image\n",
        "  original_image_np = original_image.numpy().astype(np.uint8)\n",
        "  for obj in results:\n",
        "    # Convert the object bounding box from relative coordinates to absolute\n",
        "    # coordinates based on the original image resolution\n",
        "    ymin, xmin, ymax, xmax = obj['bounding_box']\n",
        "    xmin = int(xmin * original_image_np.shape[1])\n",
        "    xmax = int(xmax * original_image_np.shape[1])\n",
        "    ymin = int(ymin * original_image_np.shape[0])\n",
        "    ymax = int(ymax * original_image_np.shape[0])\n",
        "\n",
        "    # Find the class index of the current object\n",
        "    class_id = int(obj['class_id'])\n",
        "\n",
        "    # Draw the bounding box and label on the image\n",
        "    color = [int(c) for c in COLORS[class_id]]\n",
        "    cv2.rectangle(original_image_np, (xmin, ymin), (xmax, ymax), color, 2)\n",
        "    # Make adjustments to make the label visible for all objects\n",
        "    y = ymin - 15 if ymin - 15 > 15 else ymin + 15\n",
        "    label = \"{}: {:.0f}%\".format(classes[class_id], obj['score'] * 100)\n",
        "    cv2.putText(original_image_np, label, (xmin, y),\n",
        "        cv2.FONT_HERSHEY_SIMPLEX, 0.5, color, 2)\n",
        "\n",
        "  # Return the final image\n",
        "  original_uint8 = original_image_np.astype(np.uint8)\n",
        "  return original_uint8"
      ],
      "metadata": {
        "id": "KWPZvs3C__ZF"
      },
      "execution_count": null,
      "outputs": []
    },
    {
      "cell_type": "code",
      "source": [
        "DETECTION_THRESHOLD = 0.40\n",
        "\n",
        "TEST_FILE = '/content/gdrive/MyDrive/Capstone/C501/ModelPreparation/Dataset/Test_Dataset/Color_Ducky/Test4.jpg'\n",
        "\n",
        "im = Image.open(TEST_FILE)\n",
        "im.thumbnail((512, 512), Image.ANTIALIAS)\n",
        "im.save(TEST_FILE, 'JPEG')\n",
        "\n",
        "# Load the TFLite model\n",
        "interpreter = tf.lite.Interpreter(model_path=model_path)\n",
        "interpreter.allocate_tensors()\n",
        "\n",
        "# Run inference and draw detection result on the local copy of the original file\n",
        "detection_result_image = run_odt_and_draw_results(\n",
        "    TEST_FILE,\n",
        "    interpreter,\n",
        "    threshold=DETECTION_THRESHOLD\n",
        ")\n",
        "\n",
        "# Show the detection result\n",
        "det_im = Image.fromarray(detection_result_image)\n",
        "det_im.save('color_detector4_detection4.jpg', 'JPEG')"
      ],
      "metadata": {
        "id": "cqgsvL4OAJAz"
      },
      "execution_count": null,
      "outputs": []
    }
  ]
}